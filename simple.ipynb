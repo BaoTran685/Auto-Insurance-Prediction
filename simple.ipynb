{
 "cells": [
  {
   "cell_type": "code",
   "execution_count": 320,
   "metadata": {},
   "outputs": [],
   "source": [
    "# for data manipulation\n",
    "import pandas as pd\n",
    "import numpy as np\n",
    "# for plotting\n",
    "import matplotlib.pyplot as plt\n",
    "import plotly.express as px\n",
    "import plotly.graph_objects as go # note that github wont be able to display these plots because they are interactive\n",
    "# for some processing\n",
    "import math\n",
    "from datetime import datetime, timedelta"
   ]
  },
  {
   "cell_type": "code",
   "execution_count": 321,
   "metadata": {},
   "outputs": [],
   "source": [
    "import sys\n",
    "import os\n",
    "\n",
    "class SuppressPrints:\n",
    "    def __enter__(self):\n",
    "        self._original_stdout = sys.stdout  # Save the original stdout\n",
    "        sys.stdout = open(os.devnull, 'w')  # Redirect stdout to null\n",
    "\n",
    "    def __exit__(self, exc_type, exc_value, traceback):\n",
    "        sys.stdout.close()  # Close the null file\n",
    "        sys.stdout = self._original_stdout  # Restore original stdout"
   ]
  },
  {
   "cell_type": "code",
   "execution_count": 322,
   "metadata": {},
   "outputs": [],
   "source": [
    "from sklearn.neural_network import MLPClassifier\n",
    "from sklearn.model_selection import train_test_split, GridSearchCV\n",
    "from sklearn.linear_model import LogisticRegression\n",
    "from sklearn.ensemble import RandomForestClassifier\n",
    "from sklearn.preprocessing import StandardScaler, MinMaxScaler\n",
    "from sklearn.metrics import accuracy_score, f1_score, confusion_matrix, classification_report, make_scorer\n",
    "from sklearn.utils import resample\n",
    "from sklearn.feature_selection import RFE"
   ]
  },
  {
   "cell_type": "code",
   "execution_count": 323,
   "metadata": {},
   "outputs": [
    {
     "name": "stdout",
     "output_type": "stream",
     "text": [
      "<class 'pandas.core.frame.DataFrame'>\n",
      "RangeIndex: 7290 entries, 0 to 7289\n",
      "Data columns (total 29 columns):\n",
      " #   Column                         Non-Null Count  Dtype  \n",
      "---  ------                         --------------  -----  \n",
      " 0   CustomerID                     7290 non-null   object \n",
      " 1   State                          7290 non-null   object \n",
      " 2   Customer Lifetime Value        7290 non-null   float64\n",
      " 3   Response                       7290 non-null   object \n",
      " 4   Coverage                       7290 non-null   object \n",
      " 5   Coverage Index                 7290 non-null   int64  \n",
      " 6   Education                      7290 non-null   object \n",
      " 7   Education Index                7290 non-null   int64  \n",
      " 8   Effective To Date              7290 non-null   object \n",
      " 9   Employment Status              7290 non-null   object \n",
      " 10  Employment Status Index        7290 non-null   int64  \n",
      " 11  Gender                         7290 non-null   object \n",
      " 12  Income                         7290 non-null   int64  \n",
      " 13  Marital Status                 7290 non-null   object \n",
      " 14  Marital Status Index           7290 non-null   int64  \n",
      " 15  Months Since Last Claim        7290 non-null   int64  \n",
      " 16  Months Since Policy Inception  7290 non-null   int64  \n",
      " 17  Number of Open Complaints      7290 non-null   int64  \n",
      " 18  Number of Policies             7290 non-null   int64  \n",
      " 19  Policy Type                    7290 non-null   object \n",
      " 20  Policy Type Index              7290 non-null   int64  \n",
      " 21  Policy                         7290 non-null   object \n",
      " 22  Policy Index                   7290 non-null   int64  \n",
      " 23  Renew Offer Type               7290 non-null   int64  \n",
      " 24  Sales Channel                  7290 non-null   object \n",
      " 25  Sales Channel Index            7290 non-null   int64  \n",
      " 26  Vehicle Size                   7290 non-null   object \n",
      " 27  Vehicle Size Index             7290 non-null   int64  \n",
      " 28  Claim over 1k                  7290 non-null   int64  \n",
      "dtypes: float64(1), int64(15), object(13)\n",
      "memory usage: 1.6+ MB\n"
     ]
    }
   ],
   "source": [
    "folder = \"kaggle/input/\"\n",
    "df = pd.read_csv(folder + \"train.csv\")\n",
    "df.info()"
   ]
  },
  {
   "cell_type": "code",
   "execution_count": 324,
   "metadata": {},
   "outputs": [
    {
     "name": "stdout",
     "output_type": "stream",
     "text": [
      "<class 'pandas.core.frame.DataFrame'>\n",
      "RangeIndex: 7290 entries, 0 to 7289\n",
      "Data columns (total 20 columns):\n",
      " #   Column                         Non-Null Count  Dtype  \n",
      "---  ------                         --------------  -----  \n",
      " 0   State                          7290 non-null   object \n",
      " 1   Customer Lifetime Value        7290 non-null   float64\n",
      " 2   Response                       7290 non-null   object \n",
      " 3   Coverage Index                 7290 non-null   int64  \n",
      " 4   Education Index                7290 non-null   int64  \n",
      " 5   Effective To Date              7290 non-null   object \n",
      " 6   Employment Status Index        7290 non-null   int64  \n",
      " 7   Gender                         7290 non-null   object \n",
      " 8   Income                         7290 non-null   int64  \n",
      " 9   Marital Status Index           7290 non-null   int64  \n",
      " 10  Months Since Last Claim        7290 non-null   int64  \n",
      " 11  Months Since Policy Inception  7290 non-null   int64  \n",
      " 12  Number of Open Complaints      7290 non-null   int64  \n",
      " 13  Number of Policies             7290 non-null   int64  \n",
      " 14  Policy Type Index              7290 non-null   int64  \n",
      " 15  Policy Index                   7290 non-null   int64  \n",
      " 16  Renew Offer Type               7290 non-null   int64  \n",
      " 17  Sales Channel Index            7290 non-null   int64  \n",
      " 18  Vehicle Size Index             7290 non-null   int64  \n",
      " 19  Claim over 1k                  7290 non-null   int64  \n",
      "dtypes: float64(1), int64(15), object(4)\n",
      "memory usage: 1.1+ MB\n"
     ]
    },
    {
     "data": {
      "text/plain": [
       "Claim over 1k\n",
       "0    6458\n",
       "1     832\n",
       "Name: count, dtype: int64"
      ]
     },
     "execution_count": 324,
     "metadata": {},
     "output_type": "execute_result"
    }
   ],
   "source": [
    "# drop the unnecessary columns\n",
    "df_train = df.drop(columns = [\"CustomerID\", \"Coverage\", \"Education\", \"Employment Status\", \"Marital Status\", \"Policy Type\", \"Policy\", \"Sales Channel\", \"Vehicle Size\"])\n",
    "df_train.info()\n",
    "df_train[\"Claim over 1k\"].value_counts()"
   ]
  },
  {
   "cell_type": "code",
   "execution_count": 325,
   "metadata": {},
   "outputs": [],
   "source": [
    "from plotly.subplots import make_subplots\n",
    "\n",
    "def relation_to_claim_over_1k(df):\n",
    "  plt.figure(figsize=(30, 80))\n",
    "  numerical_cols = df.columns.tolist()\n",
    "  not_include = [\"Customer Lifetime Value\", \"Income\", \"Claim over 1k\"]\n",
    "  numerical_cols = [col for col in numerical_cols if col not in not_include]\n",
    "  \n",
    "  number_of_rows = math.ceil(len(numerical_cols) / 2)\n",
    "  fig = make_subplots(rows = number_of_rows, cols=2, subplot_titles=numerical_cols, vertical_spacing=0.01, horizontal_spacing=0.05)\n",
    "  for idx, col in enumerate(numerical_cols):\n",
    "    df_count = df.groupby([col, \"Claim over 1k\"]).size().reset_index(name='count')\n",
    "    unique_val = df_count[col].unique()\n",
    "    i, j = (idx // 2) + 1, (idx % 2) + 1\n",
    "    for val in unique_val:\n",
    "      df_cur = df_count[df_count[col] == val]\n",
    "      fig.add_trace(\n",
    "        go.Bar(\n",
    "          x = df_cur[\"Claim over 1k\"],\n",
    "          y = df_cur[\"count\"],\n",
    "          name = f\"{val}\"\n",
    "        ),\n",
    "        row=i, col=j\n",
    "      )\n",
    "  fig.update_layout(\n",
    "      height=300 * number_of_rows,  # Adjust figure height dynamically based on the number of rows\n",
    "      showlegend=False,\n",
    "      title_text=\"How Each Column Affects 'Claim over 1k'\"\n",
    "  )\n",
    "  # Show the figure with all subplots\n",
    "  fig.show()"
   ]
  },
  {
   "cell_type": "code",
   "execution_count": 326,
   "metadata": {},
   "outputs": [],
   "source": [
    "def numeric_info(df, col):\n",
    "  print(f\"Min of {col}: \", df[col].min())\n",
    "  print(f\"Max of {col}: \", df[col].max())\n",
    "  print(f\"Mean of {col}: \", df[col].mean())\n",
    "  print(f\"Mendian of {col}: \", df[col].median())\n",
    "  print(f\"Std of {col}: \", df[col].std())"
   ]
  },
  {
   "cell_type": "code",
   "execution_count": 327,
   "metadata": {},
   "outputs": [],
   "source": [
    "def binning(df, col, size):\n",
    "  df[col + \"_bin\"] = pd.qcut(df[col], q=size, labels=False, duplicates=\"drop\")\n",
    "\n",
    "def convert(n, range_max, range_min):\n",
    "  return n / (range_max - range_min)\n",
    "\n",
    "def pre_process(df):\n",
    "  # State\n",
    "  unique_states = df[\"State\"].unique()\n",
    "  dict_states = {}\n",
    "  for i in range(len(unique_states)):\n",
    "    dict_states[unique_states[i]] = i\n",
    "  df[\"State\"] = df[\"State\"].apply(lambda x: dict_states[x])\n",
    "  \n",
    "  # Response\n",
    "  # note that resonse should be either yes or no\n",
    "  df[\"Response\"] = df[\"Response\"].apply(lambda x: 1 if x == \"Yes\" else 0)\n",
    "\n",
    "  # Effective To Date\n",
    "  df[\"Effective To Date\"] = pd.to_datetime(df[\"Effective To Date\"])\n",
    "  df[\"Effective To Season\"] = (df[\"Effective To Date\"].dt.month - 1) // 3 # split into 4 seasons\n",
    "  df.drop(\"Effective To Date\", axis=1, inplace=True)\n",
    "\n",
    "  # Months Since Last Claim, Months Since Last Inception\n",
    "  binning(df, \"Months Since Last Claim\", 10)\n",
    "  binning(df, \"Months Since Policy Inception\", 10)\n",
    "\n",
    "  # Gender\n",
    "  df[\"Gender\"] = df[\"Gender\"].apply(lambda x: 1 if x == \"M\" else 0)\n",
    "\n",
    "  # CLV\n",
    "  binning(df, \"Customer Lifetime Value\", 50)\n",
    "  # Categorize CLV\n",
    "  clv_bins = [df['Customer Lifetime Value'].min(), 5000, 10000, df['Customer Lifetime Value'].max()]\n",
    "  clv_labels = [0, 1, 2]\n",
    "  df['CLV_Category'] = pd.cut(df['Customer Lifetime Value'], bins=clv_bins, labels=clv_labels, include_lowest=True)\n",
    "  \n",
    "  # Income\n",
    "  binning(df, \"Income\", 30)\n",
    "  # Categorize Income\n",
    "  income_bins = [df['Income'].min(), 40000, 80000, df['Income'].max()]\n",
    "  income_labels = [0, 1, 2]\n",
    "  df['Income_Category'] = pd.cut(df['Income'], bins=income_bins, labels=income_labels, include_lowest=True)\n",
    "\n",
    "  # New col: CLV per number of policies and months since policy inception\n",
    "  df[\"Money Spent per Policy\"] = df[\"Customer Lifetime Value\"] / ((df[\"Coverage Index\"] + 1) * (df[\"Number of Policies\"] + 1))\n",
    "\n",
    "  binning(df, \"Money Spent per Policy\", 50)\n",
    "\n",
    "  # New col: Accident Likelihood\n",
    "  max_education_index = df[\"Education Index\"].max()\n",
    "  min_education_index = df[\"Education Index\"].min()\n",
    "  max_income_bin = df[\"Income_bin\"].max()\n",
    "  min_income_bin = df[\"Income_bin\"].min()\n",
    "  max_marital_status_index = df[\"Marital Status Index\"].max()\n",
    "  min_marital_status_index = df[\"Marital Status Index\"].min()\n",
    "  df[\"Accident Likelihood\"] = np.exp( 4 * convert(max_education_index - df[\"Education Index\"], max_education_index, min_education_index) \\\n",
    "    + 3 * convert(max_income_bin - df[\"Income_bin\"], max_income_bin, min_income_bin) \\\n",
    "    + 3 * (df[\"Marital Status Index\"].apply(lambda x: max_marital_status_index if x == 0 else 0)))\n",
    "\n",
    "  binning(df, \"Accident Likelihood\", 10)\n",
    "\n",
    "  # New col: Claim over 1k Likelihood based on State and Gender\n",
    "  group_over = [\"State\", \"Gender\", \"Employment Status Index\", \"Income_bin\"]\n",
    "  likelihood_df = df.groupby(group_over)[\"Accident Likelihood\"].mean().reset_index()\n",
    "  likelihood_df.rename(columns={\"Accident Likelihood\": \"Location Based Likelihood\"}, inplace=True)\n",
    "  # Merge the likelihood values back to the original dataframe\n",
    "  df = pd.merge(df, likelihood_df, on=group_over, how=\"left\")\n",
    "  \n",
    "  binning(df, \"Location Based Likelihood\", 5)\n",
    "\n",
    "  # New col: may relate to the Customer Lifetime Value\n",
    "  df[\"Insurance\"] = np.exp(convert(df[\"Number of Policies\"], df[\"Number of Policies\"].max(), df[\"Number of Policies\"].min()) \\\n",
    "    + convert(df[\"Coverage Index\"], df[\"Coverage Index\"].max(), df[\"Coverage Index\"].min()) \\\n",
    "    + convert(df[\"Number of Policies\"], df[\"Number of Policies\"].max(), df[\"Number of Policies\"].min()) * convert(df[\"Coverage Index\"], df[\"Coverage Index\"].max(), df[\"Coverage Index\"].min())\n",
    "    # + 0.5 * convert(df[\"Policy Index\"], df[\"Policy Index\"].max(), df[\"Policy Index\"].min()) \\\n",
    "    # + 0.5 * convert(df[\"Sales Channel Index\"], df[\"Sales Channel Index\"].max(), df[\"Sales Channel Index\"].min()) \\\n",
    "    # + 0.5 * convert(df[\"Renew Offer Type\"], df[\"Renew Offer Type\"].max(), df[\"Renew Offer Type\"].min())\n",
    "    # + 0.5 * convert(df[\"Months Since Policy Inception\"], df[\"Months Since Policy Inception\"].max(), df[\"Months Since Policy Inception\"].min())\n",
    "    )\n",
    "\n",
    "  binning(df, \"Insurance\", 40)\n",
    "\n",
    "  # New col: may relate to Cusomter Lifetime Value\n",
    "  df[\"Customer Interaction\"] = np.exp(convert(df[\"Response\"], df[\"Response\"].max(), df[\"Response\"].min()) \\\n",
    "    + convert(df[\"Number of Open Complaints\"], df[\"Number of Open Complaints\"].max(), df[\"Number of Open Complaints\"].min()))\n",
    "  \n",
    "  binning(df, \"Customer Interaction\", 30)\n",
    "\n",
    "  # New col: may realte to Accident Likelihood\n",
    "  group_datetime = [\"Months Since Last Claim\", \"Effective To Season\"]\n",
    "  datetime_df = df.groupby(group_datetime)[\"Accident Likelihood\"].mean().reset_index()\n",
    "  datetime_df.rename(columns={\"Accident Likelihood\": \"Date Time\"}, inplace=True)\n",
    "  # Merge\n",
    "  df = pd.merge(df, datetime_df, on=group_datetime, how=\"left\")\n",
    "\n",
    "  binning(df, \"Date Time\", 30)\n",
    "\n",
    "  # cols_to_remove = [\"Customer Lifetime Value\", \"Accident Likelihood\", \"Income\", \"Insurance\", \"Location Based Likelihood\", \"Date Time\", \\\n",
    "  #   \"Months Since Policy Inception\", \"Vehicle Size Index\", \"Gender\", \"Effective To Season\", \"Policy Index\", \"Customer Interaction\", \\\n",
    "  #   \"Education Index\", \"Months Since Last Claim\", \"Renew Offer Type\", \"State\", \"Number of Open Complaints\", \"Sales Channel Index\", \"Response\", \"Policy Type Index\"\n",
    "  #   ]\n",
    "  # df.drop(columns=cols_to_remove, axis=1, inplace=True)\n",
    "  # cols_to_use = [\"Customer Lifetime Value\", \"Money Spent per Policy\", \"Accident Likelihood\", \"Number of Policies\", \"Income\", \"Coverage Index\", \\\n",
    "  #   \"Employment Status Index\", \"Insurance\", \"Marital Status Index\", \"Location Based Likelihood\", \"Claim over 1k\", \\\n",
    "  #   \"Date Time\", \"Education Index\", \"Months Since Last Claim\", \"Vehicle Size Index\", \"Gender\", \"Months Since Policy Inception\"\n",
    "  #   ]\n",
    "  \n",
    "  cols_to_use = [\"Customer Lifetime Value\", \"Money Spent per Policy_bin\", \"Accident Likelihood_bin\", \"Number of Policies\", \"Income_bin\", \"Coverage Index\", \\\n",
    "    \"Employment Status Index\", \"Insurance_bin\", \"Marital Status Index\", \"Location Based Likelihood_bin\", \\\n",
    "    \"Date Time\", \"Months Since Last Claim\", \"Gender\", \"Months Since Policy Inception\", \\\n",
    "    \"CLV_Category\", \"Income_Category\"\n",
    "    ]\n",
    "  if (\"Claim over 1k\" in df.columns.tolist()):\n",
    "    cols_to_use.append(\"Claim over 1k\")\n",
    "  return df[cols_to_use]"
   ]
  },
  {
   "cell_type": "code",
   "execution_count": 328,
   "metadata": {},
   "outputs": [],
   "source": [
    "df_process = pre_process(df_train.copy())"
   ]
  },
  {
   "cell_type": "code",
   "execution_count": 329,
   "metadata": {},
   "outputs": [
    {
     "name": "stderr",
     "output_type": "stream",
     "text": [
      "/tmp/ipykernel_66027/4146269032.py:12: FutureWarning:\n",
      "\n",
      "The default of observed=False is deprecated and will be changed to True in a future version of pandas. Pass observed=False to retain current behavior or observed=True to adopt the future default and silence this warning.\n",
      "\n",
      "/tmp/ipykernel_66027/4146269032.py:12: FutureWarning:\n",
      "\n",
      "The default of observed=False is deprecated and will be changed to True in a future version of pandas. Pass observed=False to retain current behavior or observed=True to adopt the future default and silence this warning.\n",
      "\n"
     ]
    },
    {
     "data": {
      "application/vnd.plotly.v1+json": {
       "config": {
        "plotlyServerURL": "https://plot.ly"
       },
       "data": [
        {
         "name": "0",
         "type": "bar",
         "x": [
          0,
          1
         ],
         "xaxis": "x",
         "y": [
          131,
          15
         ],
         "yaxis": "y"
        },
        {
         "name": "1",
         "type": "bar",
         "x": [
          0,
          1
         ],
         "xaxis": "x",
         "y": [
          130,
          16
         ],
         "yaxis": "y"
        },
        {
         "name": "2",
         "type": "bar",
         "x": [
          0,
          1
         ],
         "xaxis": "x",
         "y": [
          136,
          10
         ],
         "yaxis": "y"
        },
        {
         "name": "3",
         "type": "bar",
         "x": [
          0,
          1
         ],
         "xaxis": "x",
         "y": [
          130,
          18
         ],
         "yaxis": "y"
        },
        {
         "name": "4",
         "type": "bar",
         "x": [
          0,
          1
         ],
         "xaxis": "x",
         "y": [
          136,
          7
         ],
         "yaxis": "y"
        },
        {
         "name": "5",
         "type": "bar",
         "x": [
          0,
          1
         ],
         "xaxis": "x",
         "y": [
          129,
          17
         ],
         "yaxis": "y"
        },
        {
         "name": "6",
         "type": "bar",
         "x": [
          0,
          1
         ],
         "xaxis": "x",
         "y": [
          119,
          27
         ],
         "yaxis": "y"
        },
        {
         "name": "7",
         "type": "bar",
         "x": [
          0,
          1
         ],
         "xaxis": "x",
         "y": [
          132,
          17
         ],
         "yaxis": "y"
        },
        {
         "name": "8",
         "type": "bar",
         "x": [
          0,
          1
         ],
         "xaxis": "x",
         "y": [
          125,
          18
         ],
         "yaxis": "y"
        },
        {
         "name": "9",
         "type": "bar",
         "x": [
          0,
          1
         ],
         "xaxis": "x",
         "y": [
          139,
          6
         ],
         "yaxis": "y"
        },
        {
         "name": "10",
         "type": "bar",
         "x": [
          0,
          1
         ],
         "xaxis": "x",
         "y": [
          131,
          15
         ],
         "yaxis": "y"
        },
        {
         "name": "11",
         "type": "bar",
         "x": [
          0,
          1
         ],
         "xaxis": "x",
         "y": [
          136,
          14
         ],
         "yaxis": "y"
        },
        {
         "name": "12",
         "type": "bar",
         "x": [
          0,
          1
         ],
         "xaxis": "x",
         "y": [
          131,
          11
         ],
         "yaxis": "y"
        },
        {
         "name": "13",
         "type": "bar",
         "x": [
          0,
          1
         ],
         "xaxis": "x",
         "y": [
          135,
          10
         ],
         "yaxis": "y"
        },
        {
         "name": "14",
         "type": "bar",
         "x": [
          0,
          1
         ],
         "xaxis": "x",
         "y": [
          135,
          11
         ],
         "yaxis": "y"
        },
        {
         "name": "15",
         "type": "bar",
         "x": [
          0,
          1
         ],
         "xaxis": "x",
         "y": [
          138,
          8
         ],
         "yaxis": "y"
        },
        {
         "name": "16",
         "type": "bar",
         "x": [
          0,
          1
         ],
         "xaxis": "x",
         "y": [
          127,
          19
         ],
         "yaxis": "y"
        },
        {
         "name": "17",
         "type": "bar",
         "x": [
          0,
          1
         ],
         "xaxis": "x",
         "y": [
          126,
          21
         ],
         "yaxis": "y"
        },
        {
         "name": "18",
         "type": "bar",
         "x": [
          0,
          1
         ],
         "xaxis": "x",
         "y": [
          127,
          17
         ],
         "yaxis": "y"
        },
        {
         "name": "19",
         "type": "bar",
         "x": [
          0,
          1
         ],
         "xaxis": "x",
         "y": [
          125,
          21
         ],
         "yaxis": "y"
        },
        {
         "name": "20",
         "type": "bar",
         "x": [
          0,
          1
         ],
         "xaxis": "x",
         "y": [
          122,
          24
         ],
         "yaxis": "y"
        },
        {
         "name": "21",
         "type": "bar",
         "x": [
          0,
          1
         ],
         "xaxis": "x",
         "y": [
          123,
          25
         ],
         "yaxis": "y"
        },
        {
         "name": "22",
         "type": "bar",
         "x": [
          0,
          1
         ],
         "xaxis": "x",
         "y": [
          134,
          9
         ],
         "yaxis": "y"
        },
        {
         "name": "23",
         "type": "bar",
         "x": [
          0,
          1
         ],
         "xaxis": "x",
         "y": [
          135,
          11
         ],
         "yaxis": "y"
        },
        {
         "name": "24",
         "type": "bar",
         "x": [
          0,
          1
         ],
         "xaxis": "x",
         "y": [
          139,
          7
         ],
         "yaxis": "y"
        },
        {
         "name": "25",
         "type": "bar",
         "x": [
          0,
          1
         ],
         "xaxis": "x",
         "y": [
          141,
          5
         ],
         "yaxis": "y"
        },
        {
         "name": "26",
         "type": "bar",
         "x": [
          0,
          1
         ],
         "xaxis": "x",
         "y": [
          139,
          7
         ],
         "yaxis": "y"
        },
        {
         "name": "27",
         "type": "bar",
         "x": [
          0,
          1
         ],
         "xaxis": "x",
         "y": [
          138,
          7
         ],
         "yaxis": "y"
        },
        {
         "name": "28",
         "type": "bar",
         "x": [
          0,
          1
         ],
         "xaxis": "x",
         "y": [
          142,
          4
         ],
         "yaxis": "y"
        },
        {
         "name": "29",
         "type": "bar",
         "x": [
          0,
          1
         ],
         "xaxis": "x",
         "y": [
          142,
          4
         ],
         "yaxis": "y"
        },
        {
         "name": "30",
         "type": "bar",
         "x": [
          0,
          1
         ],
         "xaxis": "x",
         "y": [
          142,
          5
         ],
         "yaxis": "y"
        },
        {
         "name": "31",
         "type": "bar",
         "x": [
          0,
          1
         ],
         "xaxis": "x",
         "y": [
          135,
          9
         ],
         "yaxis": "y"
        },
        {
         "name": "32",
         "type": "bar",
         "x": [
          0,
          1
         ],
         "xaxis": "x",
         "y": [
          140,
          6
         ],
         "yaxis": "y"
        },
        {
         "name": "33",
         "type": "bar",
         "x": [
          0,
          1
         ],
         "xaxis": "x",
         "y": [
          120,
          26
         ],
         "yaxis": "y"
        },
        {
         "name": "34",
         "type": "bar",
         "x": [
          0,
          1
         ],
         "xaxis": "x",
         "y": [
          114,
          32
         ],
         "yaxis": "y"
        },
        {
         "name": "35",
         "type": "bar",
         "x": [
          0,
          1
         ],
         "xaxis": "x",
         "y": [
          104,
          44
         ],
         "yaxis": "y"
        },
        {
         "name": "36",
         "type": "bar",
         "x": [
          0,
          1
         ],
         "xaxis": "x",
         "y": [
          111,
          32
         ],
         "yaxis": "y"
        },
        {
         "name": "37",
         "type": "bar",
         "x": [
          0,
          1
         ],
         "xaxis": "x",
         "y": [
          115,
          31
         ],
         "yaxis": "y"
        },
        {
         "name": "38",
         "type": "bar",
         "x": [
          0,
          1
         ],
         "xaxis": "x",
         "y": [
          120,
          26
         ],
         "yaxis": "y"
        },
        {
         "name": "39",
         "type": "bar",
         "x": [
          0,
          1
         ],
         "xaxis": "x",
         "y": [
          141,
          5
         ],
         "yaxis": "y"
        },
        {
         "name": "40",
         "type": "bar",
         "x": [
          0,
          1
         ],
         "xaxis": "x",
         "y": [
          132,
          13
         ],
         "yaxis": "y"
        },
        {
         "name": "41",
         "type": "bar",
         "x": [
          0,
          1
         ],
         "xaxis": "x",
         "y": [
          140,
          6
         ],
         "yaxis": "y"
        },
        {
         "name": "42",
         "type": "bar",
         "x": [
          0,
          1
         ],
         "xaxis": "x",
         "y": [
          139,
          7
         ],
         "yaxis": "y"
        },
        {
         "name": "43",
         "type": "bar",
         "x": [
          0,
          1
         ],
         "xaxis": "x",
         "y": [
          132,
          15
         ],
         "yaxis": "y"
        },
        {
         "name": "44",
         "type": "bar",
         "x": [
          0,
          1
         ],
         "xaxis": "x",
         "y": [
          94,
          51
         ],
         "yaxis": "y"
        },
        {
         "name": "45",
         "type": "bar",
         "x": [
          0,
          1
         ],
         "xaxis": "x",
         "y": [
          108,
          37
         ],
         "yaxis": "y"
        },
        {
         "name": "46",
         "type": "bar",
         "x": [
          0,
          1
         ],
         "xaxis": "x",
         "y": [
          124,
          22
         ],
         "yaxis": "y"
        },
        {
         "name": "47",
         "type": "bar",
         "x": [
          0,
          1
         ],
         "xaxis": "x",
         "y": [
          135,
          11
         ],
         "yaxis": "y"
        },
        {
         "name": "48",
         "type": "bar",
         "x": [
          0,
          1
         ],
         "xaxis": "x",
         "y": [
          123,
          23
         ],
         "yaxis": "y"
        },
        {
         "name": "49",
         "type": "bar",
         "x": [
          0,
          1
         ],
         "xaxis": "x",
         "y": [
          116,
          30
         ],
         "yaxis": "y"
        },
        {
         "name": "0",
         "type": "bar",
         "x": [
          0,
          1
         ],
         "xaxis": "x2",
         "y": [
          733,
          17
         ],
         "yaxis": "y2"
        },
        {
         "name": "1",
         "type": "bar",
         "x": [
          0,
          1
         ],
         "xaxis": "x2",
         "y": [
          676,
          32
         ],
         "yaxis": "y2"
        },
        {
         "name": "2",
         "type": "bar",
         "x": [
          0,
          1
         ],
         "xaxis": "x2",
         "y": [
          701,
          62
         ],
         "yaxis": "y2"
        },
        {
         "name": "3",
         "type": "bar",
         "x": [
          0,
          1
         ],
         "xaxis": "x2",
         "y": [
          669,
          47
         ],
         "yaxis": "y2"
        },
        {
         "name": "4",
         "type": "bar",
         "x": [
          0,
          1
         ],
         "xaxis": "x2",
         "y": [
          653,
          74
         ],
         "yaxis": "y2"
        },
        {
         "name": "5",
         "type": "bar",
         "x": [
          0,
          1
         ],
         "xaxis": "x2",
         "y": [
          693,
          66
         ],
         "yaxis": "y2"
        },
        {
         "name": "6",
         "type": "bar",
         "x": [
          0,
          1
         ],
         "xaxis": "x2",
         "y": [
          820,
          79
         ],
         "yaxis": "y2"
        },
        {
         "name": "7",
         "type": "bar",
         "x": [
          0,
          1
         ],
         "xaxis": "x2",
         "y": [
          477,
          35
         ],
         "yaxis": "y2"
        },
        {
         "name": "8",
         "type": "bar",
         "x": [
          0,
          1
         ],
         "xaxis": "x2",
         "y": [
          724,
          230
         ],
         "yaxis": "y2"
        },
        {
         "name": "9",
         "type": "bar",
         "x": [
          0,
          1
         ],
         "xaxis": "x2",
         "y": [
          312,
          190
         ],
         "yaxis": "y2"
        },
        {
         "name": "1",
         "type": "bar",
         "x": [
          0,
          1
         ],
         "xaxis": "x3",
         "y": [
          2281,
          308
         ],
         "yaxis": "y3"
        },
        {
         "name": "2",
         "type": "bar",
         "x": [
          0,
          1
         ],
         "xaxis": "x3",
         "y": [
          1632,
          204
         ],
         "yaxis": "y3"
        },
        {
         "name": "3",
         "type": "bar",
         "x": [
          0,
          1
         ],
         "xaxis": "x3",
         "y": [
          839,
          82
         ],
         "yaxis": "y3"
        },
        {
         "name": "4",
         "type": "bar",
         "x": [
          0,
          1
         ],
         "xaxis": "x3",
         "y": [
          284,
          41
         ],
         "yaxis": "y3"
        },
        {
         "name": "5",
         "type": "bar",
         "x": [
          0,
          1
         ],
         "xaxis": "x3",
         "y": [
          285,
          35
         ],
         "yaxis": "y3"
        },
        {
         "name": "6",
         "type": "bar",
         "x": [
          0,
          1
         ],
         "xaxis": "x3",
         "y": [
          260,
          33
         ],
         "yaxis": "y3"
        },
        {
         "name": "7",
         "type": "bar",
         "x": [
          0,
          1
         ],
         "xaxis": "x3",
         "y": [
          299,
          54
         ],
         "yaxis": "y3"
        },
        {
         "name": "8",
         "type": "bar",
         "x": [
          0,
          1
         ],
         "xaxis": "x3",
         "y": [
          269,
          45
         ],
         "yaxis": "y3"
        },
        {
         "name": "9",
         "type": "bar",
         "x": [
          0,
          1
         ],
         "xaxis": "x3",
         "y": [
          309,
          30
         ],
         "yaxis": "y3"
        },
        {
         "name": "0",
         "type": "bar",
         "x": [
          0,
          1
         ],
         "xaxis": "x4",
         "y": [
          1483,
          461
         ],
         "yaxis": "y4"
        },
        {
         "name": "1",
         "type": "bar",
         "x": [
          0,
          1
         ],
         "xaxis": "x4",
         "y": [
          201,
          42
         ],
         "yaxis": "y4"
        },
        {
         "name": "2",
         "type": "bar",
         "x": [
          0,
          1
         ],
         "xaxis": "x4",
         "y": [
          222,
          21
         ],
         "yaxis": "y4"
        },
        {
         "name": "3",
         "type": "bar",
         "x": [
          0,
          1
         ],
         "xaxis": "x4",
         "y": [
          220,
          23
         ],
         "yaxis": "y4"
        },
        {
         "name": "4",
         "type": "bar",
         "x": [
          0,
          1
         ],
         "xaxis": "x4",
         "y": [
          220,
          23
         ],
         "yaxis": "y4"
        },
        {
         "name": "5",
         "type": "bar",
         "x": [
          0,
          1
         ],
         "xaxis": "x4",
         "y": [
          224,
          20
         ],
         "yaxis": "y4"
        },
        {
         "name": "6",
         "type": "bar",
         "x": [
          0,
          1
         ],
         "xaxis": "x4",
         "y": [
          217,
          25
         ],
         "yaxis": "y4"
        },
        {
         "name": "7",
         "type": "bar",
         "x": [
          0,
          1
         ],
         "xaxis": "x4",
         "y": [
          225,
          18
         ],
         "yaxis": "y4"
        },
        {
         "name": "8",
         "type": "bar",
         "x": [
          0,
          1
         ],
         "xaxis": "x4",
         "y": [
          225,
          18
         ],
         "yaxis": "y4"
        },
        {
         "name": "9",
         "type": "bar",
         "x": [
          0,
          1
         ],
         "xaxis": "x4",
         "y": [
          227,
          16
         ],
         "yaxis": "y4"
        },
        {
         "name": "10",
         "type": "bar",
         "x": [
          0,
          1
         ],
         "xaxis": "x4",
         "y": [
          227,
          16
         ],
         "yaxis": "y4"
        },
        {
         "name": "11",
         "type": "bar",
         "x": [
          0,
          1
         ],
         "xaxis": "x4",
         "y": [
          226,
          17
         ],
         "yaxis": "y4"
        },
        {
         "name": "12",
         "type": "bar",
         "x": [
          0,
          1
         ],
         "xaxis": "x4",
         "y": [
          219,
          24
         ],
         "yaxis": "y4"
        },
        {
         "name": "13",
         "type": "bar",
         "x": [
          0,
          1
         ],
         "xaxis": "x4",
         "y": [
          226,
          17
         ],
         "yaxis": "y4"
        },
        {
         "name": "14",
         "type": "bar",
         "x": [
          0,
          1
         ],
         "xaxis": "x4",
         "y": [
          223,
          20
         ],
         "yaxis": "y4"
        },
        {
         "name": "15",
         "type": "bar",
         "x": [
          0,
          1
         ],
         "xaxis": "x4",
         "y": [
          234,
          9
         ],
         "yaxis": "y4"
        },
        {
         "name": "16",
         "type": "bar",
         "x": [
          0,
          1
         ],
         "xaxis": "x4",
         "y": [
          234,
          9
         ],
         "yaxis": "y4"
        },
        {
         "name": "17",
         "type": "bar",
         "x": [
          0,
          1
         ],
         "xaxis": "x4",
         "y": [
          227,
          16
         ],
         "yaxis": "y4"
        },
        {
         "name": "18",
         "type": "bar",
         "x": [
          0,
          1
         ],
         "xaxis": "x4",
         "y": [
          235,
          8
         ],
         "yaxis": "y4"
        },
        {
         "name": "19",
         "type": "bar",
         "x": [
          0,
          1
         ],
         "xaxis": "x4",
         "y": [
          235,
          8
         ],
         "yaxis": "y4"
        },
        {
         "name": "20",
         "type": "bar",
         "x": [
          0,
          1
         ],
         "xaxis": "x4",
         "y": [
          239,
          4
         ],
         "yaxis": "y4"
        },
        {
         "name": "21",
         "type": "bar",
         "x": [
          0,
          1
         ],
         "xaxis": "x4",
         "y": [
          230,
          13
         ],
         "yaxis": "y4"
        },
        {
         "name": "22",
         "type": "bar",
         "x": [
          0,
          1
         ],
         "xaxis": "x4",
         "y": [
          239,
          4
         ],
         "yaxis": "y4"
        },
        {
         "name": "0",
         "type": "bar",
         "x": [
          0,
          1
         ],
         "xaxis": "x5",
         "y": [
          4060,
          327
         ],
         "yaxis": "y5"
        },
        {
         "name": "1",
         "type": "bar",
         "x": [
          0,
          1
         ],
         "xaxis": "x5",
         "y": [
          1961,
          271
         ],
         "yaxis": "y5"
        },
        {
         "name": "2",
         "type": "bar",
         "x": [
          0,
          1
         ],
         "xaxis": "x5",
         "y": [
          437,
          234
         ],
         "yaxis": "y5"
        },
        {
         "name": "0",
         "type": "bar",
         "x": [
          0,
          1
         ],
         "xaxis": "x6",
         "y": [
          1410,
          458
         ],
         "yaxis": "y6"
        },
        {
         "name": "1",
         "type": "bar",
         "x": [
          0,
          1
         ],
         "xaxis": "x6",
         "y": [
          4255,
          281
         ],
         "yaxis": "y6"
        },
        {
         "name": "2",
         "type": "bar",
         "x": [
          0,
          1
         ],
         "xaxis": "x6",
         "y": [
          297,
          41
         ],
         "yaxis": "y6"
        },
        {
         "name": "3",
         "type": "bar",
         "x": [
          0,
          1
         ],
         "xaxis": "x6",
         "y": [
          205,
          14
         ],
         "yaxis": "y6"
        },
        {
         "name": "4",
         "type": "bar",
         "x": [
          0,
          1
         ],
         "xaxis": "x6",
         "y": [
          291,
          38
         ],
         "yaxis": "y6"
        },
        {
         "name": "0",
         "type": "bar",
         "x": [
          0,
          1
         ],
         "xaxis": "x7",
         "y": [
          2418,
          197
         ],
         "yaxis": "y7"
        },
        {
         "name": "1",
         "type": "bar",
         "x": [
          0,
          1
         ],
         "xaxis": "x7",
         "y": [
          550,
          30
         ],
         "yaxis": "y7"
        },
        {
         "name": "2",
         "type": "bar",
         "x": [
          0,
          1
         ],
         "xaxis": "x7",
         "y": [
          191,
          15
         ],
         "yaxis": "y7"
        },
        {
         "name": "3",
         "type": "bar",
         "x": [
          0,
          1
         ],
         "xaxis": "x7",
         "y": [
          186,
          15
         ],
         "yaxis": "y7"
        },
        {
         "name": "4",
         "type": "bar",
         "x": [
          0,
          1
         ],
         "xaxis": "x7",
         "y": [
          725,
          94
         ],
         "yaxis": "y7"
        },
        {
         "name": "5",
         "type": "bar",
         "x": [
          0,
          1
         ],
         "xaxis": "x7",
         "y": [
          159,
          13
         ],
         "yaxis": "y7"
        },
        {
         "name": "6",
         "type": "bar",
         "x": [
          0,
          1
         ],
         "xaxis": "x7",
         "y": [
          681,
          93
         ],
         "yaxis": "y7"
        },
        {
         "name": "7",
         "type": "bar",
         "x": [
          0,
          1
         ],
         "xaxis": "x7",
         "y": [
          168,
          20
         ],
         "yaxis": "y7"
        },
        {
         "name": "8",
         "type": "bar",
         "x": [
          0,
          1
         ],
         "xaxis": "x7",
         "y": [
          237,
          26
         ],
         "yaxis": "y7"
        },
        {
         "name": "9",
         "type": "bar",
         "x": [
          0,
          1
         ],
         "xaxis": "x7",
         "y": [
          198,
          13
         ],
         "yaxis": "y7"
        },
        {
         "name": "10",
         "type": "bar",
         "x": [
          0,
          1
         ],
         "xaxis": "x7",
         "y": [
          230,
          115
         ],
         "yaxis": "y7"
        },
        {
         "name": "11",
         "type": "bar",
         "x": [
          0,
          1
         ],
         "xaxis": "x7",
         "y": [
          82,
          12
         ],
         "yaxis": "y7"
        },
        {
         "name": "12",
         "type": "bar",
         "x": [
          0,
          1
         ],
         "xaxis": "x7",
         "y": [
          129,
          56
         ],
         "yaxis": "y7"
        },
        {
         "name": "13",
         "type": "bar",
         "x": [
          0,
          1
         ],
         "xaxis": "x7",
         "y": [
          83,
          17
         ],
         "yaxis": "y7"
        },
        {
         "name": "14",
         "type": "bar",
         "x": [
          0,
          1
         ],
         "xaxis": "x7",
         "y": [
          141,
          41
         ],
         "yaxis": "y7"
        },
        {
         "name": "15",
         "type": "bar",
         "x": [
          0,
          1
         ],
         "xaxis": "x7",
         "y": [
          187,
          26
         ],
         "yaxis": "y7"
        },
        {
         "name": "16",
         "type": "bar",
         "x": [
          0,
          1
         ],
         "xaxis": "x7",
         "y": [
          93,
          49
         ],
         "yaxis": "y7"
        },
        {
         "name": "0",
         "type": "bar",
         "x": [
          0,
          1
         ],
         "xaxis": "x8",
         "y": [
          1530,
          455
         ],
         "yaxis": "y8"
        },
        {
         "name": "1",
         "type": "bar",
         "x": [
          0,
          1
         ],
         "xaxis": "x8",
         "y": [
          3908,
          300
         ],
         "yaxis": "y8"
        },
        {
         "name": "2",
         "type": "bar",
         "x": [
          0,
          1
         ],
         "xaxis": "x8",
         "y": [
          1020,
          77
         ],
         "yaxis": "y8"
        },
        {
         "name": "0",
         "type": "bar",
         "x": [
          0,
          1
         ],
         "xaxis": "x9",
         "y": [
          1411,
          81
         ],
         "yaxis": "y9"
        },
        {
         "name": "1",
         "type": "bar",
         "x": [
          0,
          1
         ],
         "xaxis": "x9",
         "y": [
          1358,
          73
         ],
         "yaxis": "y9"
        },
        {
         "name": "2",
         "type": "bar",
         "x": [
          0,
          1
         ],
         "xaxis": "x9",
         "y": [
          1352,
          114
         ],
         "yaxis": "y9"
        },
        {
         "name": "3",
         "type": "bar",
         "x": [
          0,
          1
         ],
         "xaxis": "x9",
         "y": [
          1301,
          224
         ],
         "yaxis": "y9"
        },
        {
         "name": "4",
         "type": "bar",
         "x": [
          0,
          1
         ],
         "xaxis": "x9",
         "y": [
          1036,
          340
         ],
         "yaxis": "y9"
        },
        {
         "name": "61.740257613579175",
         "type": "bar",
         "x": [
          0,
          1
         ],
         "xaxis": "x10",
         "y": [
          3,
          2
         ],
         "yaxis": "y10"
        },
        {
         "name": "160.2205358584099",
         "type": "bar",
         "x": [
          0,
          1
         ],
         "xaxis": "x10",
         "y": [
          5,
          2
         ],
         "yaxis": "y10"
        },
        {
         "name": "876.3795920458724",
         "type": "bar",
         "x": [
          0
         ],
         "xaxis": "x10",
         "y": [
          14
         ],
         "yaxis": "y10"
        },
        {
         "name": "902.6242459833886",
         "type": "bar",
         "x": [
          0
         ],
         "xaxis": "x10",
         "y": [
          20
         ],
         "yaxis": "y10"
        },
        {
         "name": "2675.943653957937",
         "type": "bar",
         "x": [
          0,
          1
         ],
         "xaxis": "x10",
         "y": [
          24,
          2
         ],
         "yaxis": "y10"
        },
        {
         "name": "2689.934155359246",
         "type": "bar",
         "x": [
          0
         ],
         "xaxis": "x10",
         "y": [
          6
         ],
         "yaxis": "y10"
        },
        {
         "name": "3458.978576302509",
         "type": "bar",
         "x": [
          0,
          1
         ],
         "xaxis": "x10",
         "y": [
          13,
          2
         ],
         "yaxis": "y10"
        },
        {
         "name": "4065.563368223829",
         "type": "bar",
         "x": [
          0
         ],
         "xaxis": "x10",
         "y": [
          15
         ],
         "yaxis": "y10"
        },
        {
         "name": "5251.826523042238",
         "type": "bar",
         "x": [
          0,
          1
         ],
         "xaxis": "x10",
         "y": [
          10,
          2
         ],
         "yaxis": "y10"
        },
        {
         "name": "7961.644802797324",
         "type": "bar",
         "x": [
          0,
          1
         ],
         "xaxis": "x10",
         "y": [
          16,
          2
         ],
         "yaxis": "y10"
        },
        {
         "name": "8670.098294033827",
         "type": "bar",
         "x": [
          0
         ],
         "xaxis": "x10",
         "y": [
          13
         ],
         "yaxis": "y10"
        },
        {
         "name": "9773.764905623919",
         "type": "bar",
         "x": [
          0
         ],
         "xaxis": "x10",
         "y": [
          17
         ],
         "yaxis": "y10"
        },
        {
         "name": "11986.544367800429",
         "type": "bar",
         "x": [
          0,
          1
         ],
         "xaxis": "x10",
         "y": [
          21,
          3
         ],
         "yaxis": "y10"
        },
        {
         "name": "12683.72062341066",
         "type": "bar",
         "x": [
          0,
          1
         ],
         "xaxis": "x10",
         "y": [
          16,
          2
         ],
         "yaxis": "y10"
        },
        {
         "name": "13121.066985073556",
         "type": "bar",
         "x": [
          0,
          1
         ],
         "xaxis": "x10",
         "y": [
          20,
          3
         ],
         "yaxis": "y10"
        },
        {
         "name": "14230.369758797948",
         "type": "bar",
         "x": [
          0,
          1
         ],
         "xaxis": "x10",
         "y": [
          8,
          4
         ],
         "yaxis": "y10"
        },
        {
         "name": "14258.770890830372",
         "type": "bar",
         "x": [
          0,
          1
         ],
         "xaxis": "x10",
         "y": [
          16,
          1
         ],
         "yaxis": "y10"
        },
        {
         "name": "14458.807177325587",
         "type": "bar",
         "x": [
          0,
          1
         ],
         "xaxis": "x10",
         "y": [
          15,
          2
         ],
         "yaxis": "y10"
        },
        {
         "name": "16846.494640963152",
         "type": "bar",
         "x": [
          0
         ],
         "xaxis": "x10",
         "y": [
          17
         ],
         "yaxis": "y10"
        },
        {
         "name": "17052.273384976757",
         "type": "bar",
         "x": [
          0
         ],
         "xaxis": "x10",
         "y": [
          15
         ],
         "yaxis": "y10"
        },
        {
         "name": "18289.74253712594",
         "type": "bar",
         "x": [
          0
         ],
         "xaxis": "x10",
         "y": [
          17
         ],
         "yaxis": "y10"
        },
        {
         "name": "19703.109716175863",
         "type": "bar",
         "x": [
          0,
          1
         ],
         "xaxis": "x10",
         "y": [
          18,
          2
         ],
         "yaxis": "y10"
        },
        {
         "name": "19936.700964435913",
         "type": "bar",
         "x": [
          0,
          1
         ],
         "xaxis": "x10",
         "y": [
          23,
          4
         ],
         "yaxis": "y10"
        },
        {
         "name": "20384.557691659025",
         "type": "bar",
         "x": [
          0,
          1
         ],
         "xaxis": "x10",
         "y": [
          7,
          4
         ],
         "yaxis": "y10"
        },
        {
         "name": "20740.48574369615",
         "type": "bar",
         "x": [
          0,
          1
         ],
         "xaxis": "x10",
         "y": [
          158,
          9
         ],
         "yaxis": "y10"
        },
        {
         "name": "21552.447991234883",
         "type": "bar",
         "x": [
          0,
          1
         ],
         "xaxis": "x10",
         "y": [
          29,
          2
         ],
         "yaxis": "y10"
        },
        {
         "name": "22297.90618811552",
         "type": "bar",
         "x": [
          0,
          1
         ],
         "xaxis": "x10",
         "y": [
          17,
          4
         ],
         "yaxis": "y10"
        },
        {
         "name": "22788.018320264535",
         "type": "bar",
         "x": [
          0,
          1
         ],
         "xaxis": "x10",
         "y": [
          14,
          3
         ],
         "yaxis": "y10"
        },
        {
         "name": "24732.463156143618",
         "type": "bar",
         "x": [
          0,
          1
         ],
         "xaxis": "x10",
         "y": [
          17,
          1
         ],
         "yaxis": "y10"
        },
        {
         "name": "25773.01854897791",
         "type": "bar",
         "x": [
          0,
          1
         ],
         "xaxis": "x10",
         "y": [
          10,
          3
         ],
         "yaxis": "y10"
        },
        {
         "name": "25952.8580284565",
         "type": "bar",
         "x": [
          0,
          1
         ],
         "xaxis": "x10",
         "y": [
          25,
          2
         ],
         "yaxis": "y10"
        },
        {
         "name": "25968.413780817224",
         "type": "bar",
         "x": [
          0,
          1
         ],
         "xaxis": "x10",
         "y": [
          36,
          4
         ],
         "yaxis": "y10"
        },
        {
         "name": "27099.370847897233",
         "type": "bar",
         "x": [
          0,
          1
         ],
         "xaxis": "x10",
         "y": [
          91,
          9
         ],
         "yaxis": "y10"
        },
        {
         "name": "27173.020913632863",
         "type": "bar",
         "x": [
          0,
          1
         ],
         "xaxis": "x10",
         "y": [
          16,
          2
         ],
         "yaxis": "y10"
        },
        {
         "name": "29029.380993233717",
         "type": "bar",
         "x": [
          0,
          1
         ],
         "xaxis": "x10",
         "y": [
          19,
          2
         ],
         "yaxis": "y10"
        },
        {
         "name": "29051.288223517524",
         "type": "bar",
         "x": [
          0,
          1
         ],
         "xaxis": "x10",
         "y": [
          138,
          21
         ],
         "yaxis": "y10"
        },
        {
         "name": "29077.07744507761",
         "type": "bar",
         "x": [
          0,
          1
         ],
         "xaxis": "x10",
         "y": [
          153,
          15
         ],
         "yaxis": "y10"
        },
        {
         "name": "29135.20089095841",
         "type": "bar",
         "x": [
          0,
          1
         ],
         "xaxis": "x10",
         "y": [
          156,
          19
         ],
         "yaxis": "y10"
        },
        {
         "name": "30359.254723327715",
         "type": "bar",
         "x": [
          0,
          1
         ],
         "xaxis": "x10",
         "y": [
          23,
          1
         ],
         "yaxis": "y10"
        },
        {
         "name": "30782.567844792597",
         "type": "bar",
         "x": [
          0,
          1
         ],
         "xaxis": "x10",
         "y": [
          28,
          5
         ],
         "yaxis": "y10"
        },
        {
         "name": "30968.032442438798",
         "type": "bar",
         "x": [
          0,
          1
         ],
         "xaxis": "x10",
         "y": [
          14,
          2
         ],
         "yaxis": "y10"
        },
        {
         "name": "31003.194799647274",
         "type": "bar",
         "x": [
          0,
          1
         ],
         "xaxis": "x10",
         "y": [
          25,
          7
         ],
         "yaxis": "y10"
        },
        {
         "name": "31657.02505431346",
         "type": "bar",
         "x": [
          0,
          1
         ],
         "xaxis": "x10",
         "y": [
          14,
          1
         ],
         "yaxis": "y10"
        },
        {
         "name": "32083.508992415664",
         "type": "bar",
         "x": [
          0,
          1
         ],
         "xaxis": "x10",
         "y": [
          28,
          3
         ],
         "yaxis": "y10"
        },
        {
         "name": "32097.82713194976",
         "type": "bar",
         "x": [
          0,
          1
         ],
         "xaxis": "x10",
         "y": [
          24,
          1
         ],
         "yaxis": "y10"
        },
        {
         "name": "32318.188203281752",
         "type": "bar",
         "x": [
          0,
          1
         ],
         "xaxis": "x10",
         "y": [
          94,
          12
         ],
         "yaxis": "y10"
        },
        {
         "name": "33556.72392914853",
         "type": "bar",
         "x": [
          0,
          1
         ],
         "xaxis": "x10",
         "y": [
          9,
          5
         ],
         "yaxis": "y10"
        },
        {
         "name": "34174.955614879815",
         "type": "bar",
         "x": [
          0,
          1
         ],
         "xaxis": "x10",
         "y": [
          15,
          4
         ],
         "yaxis": "y10"
        },
        {
         "name": "34894.34312658323",
         "type": "bar",
         "x": [
          0,
          1
         ],
         "xaxis": "x10",
         "y": [
          23,
          5
         ],
         "yaxis": "y10"
        },
        {
         "name": "34930.846896670155",
         "type": "bar",
         "x": [
          0,
          1
         ],
         "xaxis": "x10",
         "y": [
          120,
          15
         ],
         "yaxis": "y10"
        },
        {
         "name": "35097.890552660734",
         "type": "bar",
         "x": [
          0,
          1
         ],
         "xaxis": "x10",
         "y": [
          11,
          3
         ],
         "yaxis": "y10"
        },
        {
         "name": "35131.637100069835",
         "type": "bar",
         "x": [
          0,
          1
         ],
         "xaxis": "x10",
         "y": [
          125,
          11
         ],
         "yaxis": "y10"
        },
        {
         "name": "35800.233218944064",
         "type": "bar",
         "x": [
          0,
          1
         ],
         "xaxis": "x10",
         "y": [
          13,
          1
         ],
         "yaxis": "y10"
        },
        {
         "name": "35832.35687825077",
         "type": "bar",
         "x": [
          0,
          1
         ],
         "xaxis": "x10",
         "y": [
          24,
          6
         ],
         "yaxis": "y10"
        },
        {
         "name": "36394.140949070614",
         "type": "bar",
         "x": [
          0,
          1
         ],
         "xaxis": "x10",
         "y": [
          23,
          2
         ],
         "yaxis": "y10"
        },
        {
         "name": "36650.3548715426",
         "type": "bar",
         "x": [
          0,
          1
         ],
         "xaxis": "x10",
         "y": [
          143,
          16
         ],
         "yaxis": "y10"
        },
        {
         "name": "37029.004430688496",
         "type": "bar",
         "x": [
          0,
          1
         ],
         "xaxis": "x10",
         "y": [
          7,
          1
         ],
         "yaxis": "y10"
        },
        {
         "name": "37039.36920371687",
         "type": "bar",
         "x": [
          0,
          1
         ],
         "xaxis": "x10",
         "y": [
          15,
          2
         ],
         "yaxis": "y10"
        },
        {
         "name": "37239.81895259285",
         "type": "bar",
         "x": [
          0
         ],
         "xaxis": "x10",
         "y": [
          24
         ],
         "yaxis": "y10"
        },
        {
         "name": "37310.83867015688",
         "type": "bar",
         "x": [
          0,
          1
         ],
         "xaxis": "x10",
         "y": [
          87,
          11
         ],
         "yaxis": "y10"
        },
        {
         "name": "37629.26106767859",
         "type": "bar",
         "x": [
          0,
          1
         ],
         "xaxis": "x10",
         "y": [
          29,
          3
         ],
         "yaxis": "y10"
        },
        {
         "name": "37679.953267515404",
         "type": "bar",
         "x": [
          0,
          1
         ],
         "xaxis": "x10",
         "y": [
          146,
          26
         ],
         "yaxis": "y10"
        },
        {
         "name": "37849.83464249815",
         "type": "bar",
         "x": [
          0,
          1
         ],
         "xaxis": "x10",
         "y": [
          150,
          23
         ],
         "yaxis": "y10"
        },
        {
         "name": "38216.374938710396",
         "type": "bar",
         "x": [
          0,
          1
         ],
         "xaxis": "x10",
         "y": [
          20,
          1
         ],
         "yaxis": "y10"
        },
        {
         "name": "38713.05776488543",
         "type": "bar",
         "x": [
          0,
          1
         ],
         "xaxis": "x10",
         "y": [
          89,
          7
         ],
         "yaxis": "y10"
        },
        {
         "name": "38754.8476322816",
         "type": "bar",
         "x": [
          0,
          1
         ],
         "xaxis": "x10",
         "y": [
          134,
          17
         ],
         "yaxis": "y10"
        },
        {
         "name": "39691.473729797974",
         "type": "bar",
         "x": [
          0
         ],
         "xaxis": "x10",
         "y": [
          14
         ],
         "yaxis": "y10"
        },
        {
         "name": "39784.97938655673",
         "type": "bar",
         "x": [
          0,
          1
         ],
         "xaxis": "x10",
         "y": [
          93,
          11
         ],
         "yaxis": "y10"
        },
        {
         "name": "39941.647143081536",
         "type": "bar",
         "x": [
          0,
          1
         ],
         "xaxis": "x10",
         "y": [
          16,
          1
         ],
         "yaxis": "y10"
        },
        {
         "name": "40301.50120105917",
         "type": "bar",
         "x": [
          0,
          1
         ],
         "xaxis": "x10",
         "y": [
          118,
          12
         ],
         "yaxis": "y10"
        },
        {
         "name": "40486.4358064964",
         "type": "bar",
         "x": [
          0,
          1
         ],
         "xaxis": "x10",
         "y": [
          23,
          3
         ],
         "yaxis": "y10"
        },
        {
         "name": "40835.12749805616",
         "type": "bar",
         "x": [
          0,
          1
         ],
         "xaxis": "x10",
         "y": [
          112,
          22
         ],
         "yaxis": "y10"
        },
        {
         "name": "40835.98239165123",
         "type": "bar",
         "x": [
          0,
          1
         ],
         "xaxis": "x10",
         "y": [
          26,
          2
         ],
         "yaxis": "y10"
        },
        {
         "name": "40859.531228131105",
         "type": "bar",
         "x": [
          0,
          1
         ],
         "xaxis": "x10",
         "y": [
          138,
          13
         ],
         "yaxis": "y10"
        },
        {
         "name": "41175.73181447042",
         "type": "bar",
         "x": [
          0,
          1
         ],
         "xaxis": "x10",
         "y": [
          13,
          2
         ],
         "yaxis": "y10"
        },
        {
         "name": "41721.282223950926",
         "type": "bar",
         "x": [
          0,
          1
         ],
         "xaxis": "x10",
         "y": [
          15,
          1
         ],
         "yaxis": "y10"
        },
        {
         "name": "42031.99792329413",
         "type": "bar",
         "x": [
          0,
          1
         ],
         "xaxis": "x10",
         "y": [
          191,
          19
         ],
         "yaxis": "y10"
        },
        {
         "name": "42719.65288899306",
         "type": "bar",
         "x": [
          0,
          1
         ],
         "xaxis": "x10",
         "y": [
          128,
          6
         ],
         "yaxis": "y10"
        },
        {
         "name": "43661.28990082978",
         "type": "bar",
         "x": [
          0,
          1
         ],
         "xaxis": "x10",
         "y": [
          92,
          13
         ],
         "yaxis": "y10"
        },
        {
         "name": "44016.695503422605",
         "type": "bar",
         "x": [
          0,
          1
         ],
         "xaxis": "x10",
         "y": [
          23,
          1
         ],
         "yaxis": "y10"
        },
        {
         "name": "44068.52269421476",
         "type": "bar",
         "x": [
          0,
          1
         ],
         "xaxis": "x10",
         "y": [
          146,
          19
         ],
         "yaxis": "y10"
        },
        {
         "name": "44345.23059228192",
         "type": "bar",
         "x": [
          0
         ],
         "xaxis": "x10",
         "y": [
          10
         ],
         "yaxis": "y10"
        },
        {
         "name": "44548.91199117676",
         "type": "bar",
         "x": [
          0,
          1
         ],
         "xaxis": "x10",
         "y": [
          104,
          18
         ],
         "yaxis": "y10"
        },
        {
         "name": "44647.12251017318",
         "type": "bar",
         "x": [
          0,
          1
         ],
         "xaxis": "x10",
         "y": [
          124,
          19
         ],
         "yaxis": "y10"
        },
        {
         "name": "46016.81443433388",
         "type": "bar",
         "x": [
          0,
          1
         ],
         "xaxis": "x10",
         "y": [
          167,
          20
         ],
         "yaxis": "y10"
        },
        {
         "name": "46376.37758194826",
         "type": "bar",
         "x": [
          0,
          1
         ],
         "xaxis": "x10",
         "y": [
          18,
          1
         ],
         "yaxis": "y10"
        },
        {
         "name": "46893.10165989941",
         "type": "bar",
         "x": [
          0,
          1
         ],
         "xaxis": "x10",
         "y": [
          113,
          15
         ],
         "yaxis": "y10"
        },
        {
         "name": "47009.916880725315",
         "type": "bar",
         "x": [
          0,
          1
         ],
         "xaxis": "x10",
         "y": [
          18,
          2
         ],
         "yaxis": "y10"
        },
        {
         "name": "47663.0894291491",
         "type": "bar",
         "x": [
          0,
          1
         ],
         "xaxis": "x10",
         "y": [
          31,
          2
         ],
         "yaxis": "y10"
        },
        {
         "name": "48118.68551185624",
         "type": "bar",
         "x": [
          0,
          1
         ],
         "xaxis": "x10",
         "y": [
          126,
          9
         ],
         "yaxis": "y10"
        },
        {
         "name": "48814.223960170166",
         "type": "bar",
         "x": [
          0,
          1
         ],
         "xaxis": "x10",
         "y": [
          15,
          1
         ],
         "yaxis": "y10"
        },
        {
         "name": "49161.753442645524",
         "type": "bar",
         "x": [
          0,
          1
         ],
         "xaxis": "x10",
         "y": [
          179,
          18
         ],
         "yaxis": "y10"
        },
        {
         "name": "49575.99098570083",
         "type": "bar",
         "x": [
          0,
          1
         ],
         "xaxis": "x10",
         "y": [
          22,
          1
         ],
         "yaxis": "y10"
        },
        {
         "name": "49589.5011678787",
         "type": "bar",
         "x": [
          0,
          1
         ],
         "xaxis": "x10",
         "y": [
          20,
          1
         ],
         "yaxis": "y10"
        },
        {
         "name": "50595.40438610882",
         "type": "bar",
         "x": [
          0,
          1
         ],
         "xaxis": "x10",
         "y": [
          21,
          5
         ],
         "yaxis": "y10"
        },
        {
         "name": "50631.16421645631",
         "type": "bar",
         "x": [
          0,
          1
         ],
         "xaxis": "x10",
         "y": [
          22,
          6
         ],
         "yaxis": "y10"
        },
        {
         "name": "50803.92930990942",
         "type": "bar",
         "x": [
          0,
          1
         ],
         "xaxis": "x10",
         "y": [
          26,
          3
         ],
         "yaxis": "y10"
        },
        {
         "name": "50943.559381448846",
         "type": "bar",
         "x": [
          0,
          1
         ],
         "xaxis": "x10",
         "y": [
          23,
          5
         ],
         "yaxis": "y10"
        },
        {
         "name": "51733.99358598979",
         "type": "bar",
         "x": [
          0,
          1
         ],
         "xaxis": "x10",
         "y": [
          23,
          5
         ],
         "yaxis": "y10"
        },
        {
         "name": "52278.92040314719",
         "type": "bar",
         "x": [
          0
         ],
         "xaxis": "x10",
         "y": [
          22
         ],
         "yaxis": "y10"
        },
        {
         "name": "52286.915727473366",
         "type": "bar",
         "x": [
          0,
          1
         ],
         "xaxis": "x10",
         "y": [
          78,
          6
         ],
         "yaxis": "y10"
        },
        {
         "name": "52793.10336161756",
         "type": "bar",
         "x": [
          0,
          1
         ],
         "xaxis": "x10",
         "y": [
          16,
          3
         ],
         "yaxis": "y10"
        },
        {
         "name": "53412.57631018842",
         "type": "bar",
         "x": [
          0,
          1
         ],
         "xaxis": "x10",
         "y": [
          120,
          14
         ],
         "yaxis": "y10"
        },
        {
         "name": "53594.599564048396",
         "type": "bar",
         "x": [
          0,
          1
         ],
         "xaxis": "x10",
         "y": [
          122,
          21
         ],
         "yaxis": "y10"
        },
        {
         "name": "53787.02956642035",
         "type": "bar",
         "x": [
          0,
          1
         ],
         "xaxis": "x10",
         "y": [
          13,
          4
         ],
         "yaxis": "y10"
        },
        {
         "name": "53839.79292034878",
         "type": "bar",
         "x": [
          0,
          1
         ],
         "xaxis": "x10",
         "y": [
          19,
          2
         ],
         "yaxis": "y10"
        },
        {
         "name": "54607.80263510759",
         "type": "bar",
         "x": [
          0,
          1
         ],
         "xaxis": "x10",
         "y": [
          184,
          30
         ],
         "yaxis": "y10"
        },
        {
         "name": "55080.04477256004",
         "type": "bar",
         "x": [
          0,
          1
         ],
         "xaxis": "x10",
         "y": [
          14,
          2
         ],
         "yaxis": "y10"
        },
        {
         "name": "55257.22090359607",
         "type": "bar",
         "x": [
          0,
          1
         ],
         "xaxis": "x10",
         "y": [
          31,
          7
         ],
         "yaxis": "y10"
        },
        {
         "name": "56077.309706420194",
         "type": "bar",
         "x": [
          0,
          1
         ],
         "xaxis": "x10",
         "y": [
          20,
          1
         ],
         "yaxis": "y10"
        },
        {
         "name": "56168.38487692769",
         "type": "bar",
         "x": [
          0,
          1
         ],
         "xaxis": "x10",
         "y": [
          16,
          3
         ],
         "yaxis": "y10"
        },
        {
         "name": "56648.54324734238",
         "type": "bar",
         "x": [
          0,
          1
         ],
         "xaxis": "x10",
         "y": [
          111,
          11
         ],
         "yaxis": "y10"
        },
        {
         "name": "57569.38429981907",
         "type": "bar",
         "x": [
          0,
          1
         ],
         "xaxis": "x10",
         "y": [
          21,
          3
         ],
         "yaxis": "y10"
        },
        {
         "name": "57714.917744988015",
         "type": "bar",
         "x": [
          0
         ],
         "xaxis": "x10",
         "y": [
          19
         ],
         "yaxis": "y10"
        },
        {
         "name": "58127.168434263454",
         "type": "bar",
         "x": [
          0,
          1
         ],
         "xaxis": "x10",
         "y": [
          7,
          2
         ],
         "yaxis": "y10"
        },
        {
         "name": "58654.654611857026",
         "type": "bar",
         "x": [
          0,
          1
         ],
         "xaxis": "x10",
         "y": [
          158,
          30
         ],
         "yaxis": "y10"
        },
        {
         "name": "59035.746041926155",
         "type": "bar",
         "x": [
          0,
          1
         ],
         "xaxis": "x10",
         "y": [
          23,
          3
         ],
         "yaxis": "y10"
        },
        {
         "name": "59541.707447949244",
         "type": "bar",
         "x": [
          0,
          1
         ],
         "xaxis": "x10",
         "y": [
          31,
          2
         ],
         "yaxis": "y10"
        },
        {
         "name": "59705.504901204105",
         "type": "bar",
         "x": [
          0,
          1
         ],
         "xaxis": "x10",
         "y": [
          16,
          7
         ],
         "yaxis": "y10"
        },
        {
         "name": "60588.96628752273",
         "type": "bar",
         "x": [
          0,
          1
         ],
         "xaxis": "x10",
         "y": [
          24,
          6
         ],
         "yaxis": "y10"
        },
        {
         "name": "61918.63660027949",
         "type": "bar",
         "x": [
          0,
          1
         ],
         "xaxis": "x10",
         "y": [
          96,
          10
         ],
         "yaxis": "y10"
        },
        {
         "name": "62238.32910265975",
         "type": "bar",
         "x": [
          0,
          1
         ],
         "xaxis": "x10",
         "y": [
          12,
          5
         ],
         "yaxis": "y10"
        },
        {
         "name": "62591.31228069838",
         "type": "bar",
         "x": [
          0,
          1
         ],
         "xaxis": "x10",
         "y": [
          9,
          2
         ],
         "yaxis": "y10"
        },
        {
         "name": "64077.00510502013",
         "type": "bar",
         "x": [
          0,
          1
         ],
         "xaxis": "x10",
         "y": [
          25,
          7
         ],
         "yaxis": "y10"
        },
        {
         "name": "65147.187883022816",
         "type": "bar",
         "x": [
          0,
          1
         ],
         "xaxis": "x10",
         "y": [
          13,
          3
         ],
         "yaxis": "y10"
        },
        {
         "name": "65585.8497479081",
         "type": "bar",
         "x": [
          0,
          1
         ],
         "xaxis": "x10",
         "y": [
          18,
          1
         ],
         "yaxis": "y10"
        },
        {
         "name": "66250.44976983455",
         "type": "bar",
         "x": [
          0,
          1
         ],
         "xaxis": "x10",
         "y": [
          20,
          7
         ],
         "yaxis": "y10"
        },
        {
         "name": "67654.48796277086",
         "type": "bar",
         "x": [
          0,
          1
         ],
         "xaxis": "x10",
         "y": [
          11,
          3
         ],
         "yaxis": "y10"
        },
        {
         "name": "68221.59203226543",
         "type": "bar",
         "x": [
          0,
          1
         ],
         "xaxis": "x10",
         "y": [
          21,
          3
         ],
         "yaxis": "y10"
        },
        {
         "name": "70711.40306708642",
         "type": "bar",
         "x": [
          0,
          1
         ],
         "xaxis": "x10",
         "y": [
          63,
          13
         ],
         "yaxis": "y10"
        },
        {
         "name": "70955.0421911801",
         "type": "bar",
         "x": [
          0,
          1
         ],
         "xaxis": "x10",
         "y": [
          28,
          4
         ],
         "yaxis": "y10"
        },
        {
         "name": "73635.04518995226",
         "type": "bar",
         "x": [
          0,
          1
         ],
         "xaxis": "x10",
         "y": [
          12,
          1
         ],
         "yaxis": "y10"
        },
        {
         "name": "78580.27290218693",
         "type": "bar",
         "x": [
          0,
          1
         ],
         "xaxis": "x10",
         "y": [
          21,
          5
         ],
         "yaxis": "y10"
        },
        {
         "name": "78703.6148190315",
         "type": "bar",
         "x": [
          0
         ],
         "xaxis": "x10",
         "y": [
          11
         ],
         "yaxis": "y10"
        },
        {
         "name": "82232.00365922102",
         "type": "bar",
         "x": [
          0,
          1
         ],
         "xaxis": "x10",
         "y": [
          14,
          2
         ],
         "yaxis": "y10"
        },
        {
         "name": "83642.10730653486",
         "type": "bar",
         "x": [
          0,
          1
         ],
         "xaxis": "x10",
         "y": [
          11,
          2
         ],
         "yaxis": "y10"
        },
        {
         "name": "87776.62575089544",
         "type": "bar",
         "x": [
          0,
          1
         ],
         "xaxis": "x10",
         "y": [
          13,
          2
         ],
         "yaxis": "y10"
        },
        {
         "name": "91856.29743543953",
         "type": "bar",
         "x": [
          0,
          1
         ],
         "xaxis": "x10",
         "y": [
          23,
          5
         ],
         "yaxis": "y10"
        },
        {
         "name": "99087.78118579874",
         "type": "bar",
         "x": [
          0,
          1
         ],
         "xaxis": "x10",
         "y": [
          16,
          2
         ],
         "yaxis": "y10"
        },
        {
         "name": "99940.29674062539",
         "type": "bar",
         "x": [
          0,
          1
         ],
         "xaxis": "x10",
         "y": [
          9,
          2
         ],
         "yaxis": "y10"
        },
        {
         "name": "102841.4564620914",
         "type": "bar",
         "x": [
          0,
          1
         ],
         "xaxis": "x10",
         "y": [
          14,
          5
         ],
         "yaxis": "y10"
        },
        {
         "name": "103483.2041376883",
         "type": "bar",
         "x": [
          0,
          1
         ],
         "xaxis": "x10",
         "y": [
          14,
          5
         ],
         "yaxis": "y10"
        },
        {
         "name": "139809.76134779482",
         "type": "bar",
         "x": [
          0,
          1
         ],
         "xaxis": "x10",
         "y": [
          14,
          3
         ],
         "yaxis": "y10"
        },
        {
         "name": "142289.33236913092",
         "type": "bar",
         "x": [
          0,
          1
         ],
         "xaxis": "x10",
         "y": [
          10,
          3
         ],
         "yaxis": "y10"
        },
        {
         "name": "0",
         "type": "bar",
         "x": [
          0,
          1
         ],
         "xaxis": "x11",
         "y": [
          217,
          24
         ],
         "yaxis": "y11"
        },
        {
         "name": "1",
         "type": "bar",
         "x": [
          0,
          1
         ],
         "xaxis": "x11",
         "y": [
          245,
          28
         ],
         "yaxis": "y11"
        },
        {
         "name": "3",
         "type": "bar",
         "x": [
          0,
          1
         ],
         "xaxis": "x11",
         "y": [
          225,
          31
         ],
         "yaxis": "y11"
        },
        {
         "name": "4",
         "type": "bar",
         "x": [
          0,
          1
         ],
         "xaxis": "x11",
         "y": [
          274,
          30
         ],
         "yaxis": "y11"
        },
        {
         "name": "5",
         "type": "bar",
         "x": [
          0,
          1
         ],
         "xaxis": "x11",
         "y": [
          221,
          37
         ],
         "yaxis": "y11"
        },
        {
         "name": "7",
         "type": "bar",
         "x": [
          0,
          1
         ],
         "xaxis": "x11",
         "y": [
          220,
          39
         ],
         "yaxis": "y11"
        },
        {
         "name": "8",
         "type": "bar",
         "x": [
          0,
          1
         ],
         "xaxis": "x11",
         "y": [
          251,
          40
         ],
         "yaxis": "y11"
        },
        {
         "name": "9",
         "type": "bar",
         "x": [
          0,
          1
         ],
         "xaxis": "x11",
         "y": [
          221,
          43
         ],
         "yaxis": "y11"
        },
        {
         "name": "11",
         "type": "bar",
         "x": [
          0,
          1
         ],
         "xaxis": "x11",
         "y": [
          204,
          18
         ],
         "yaxis": "y11"
        },
        {
         "name": "12",
         "type": "bar",
         "x": [
          0,
          1
         ],
         "xaxis": "x11",
         "y": [
          179,
          18
         ],
         "yaxis": "y11"
        },
        {
         "name": "14",
         "type": "bar",
         "x": [
          0,
          1
         ],
         "xaxis": "x11",
         "y": [
          225,
          18
         ],
         "yaxis": "y11"
        },
        {
         "name": "15",
         "type": "bar",
         "x": [
          0,
          1
         ],
         "xaxis": "x11",
         "y": [
          204,
          26
         ],
         "yaxis": "y11"
        },
        {
         "name": "16",
         "type": "bar",
         "x": [
          0,
          1
         ],
         "xaxis": "x11",
         "y": [
          189,
          28
         ],
         "yaxis": "y11"
        },
        {
         "name": "18",
         "type": "bar",
         "x": [
          0,
          1
         ],
         "xaxis": "x11",
         "y": [
          211,
          26
         ],
         "yaxis": "y11"
        },
        {
         "name": "19",
         "type": "bar",
         "x": [
          0,
          1
         ],
         "xaxis": "x11",
         "y": [
          188,
          24
         ],
         "yaxis": "y11"
        },
        {
         "name": "20",
         "type": "bar",
         "x": [
          0,
          1
         ],
         "xaxis": "x11",
         "y": [
          203,
          23
         ],
         "yaxis": "y11"
        },
        {
         "name": "22",
         "type": "bar",
         "x": [
          0,
          1
         ],
         "xaxis": "x11",
         "y": [
          211,
          22
         ],
         "yaxis": "y11"
        },
        {
         "name": "23",
         "type": "bar",
         "x": [
          0,
          1
         ],
         "xaxis": "x11",
         "y": [
          189,
          16
         ],
         "yaxis": "y11"
        },
        {
         "name": "24",
         "type": "bar",
         "x": [
          0,
          1
         ],
         "xaxis": "x11",
         "y": [
          168,
          16
         ],
         "yaxis": "y11"
        },
        {
         "name": "26",
         "type": "bar",
         "x": [
          0,
          1
         ],
         "xaxis": "x11",
         "y": [
          173,
          22
         ],
         "yaxis": "y11"
        },
        {
         "name": "27",
         "type": "bar",
         "x": [
          0,
          1
         ],
         "xaxis": "x11",
         "y": [
          165,
          30
         ],
         "yaxis": "y11"
        },
        {
         "name": "28",
         "type": "bar",
         "x": [
          0,
          1
         ],
         "xaxis": "x11",
         "y": [
          177,
          10
         ],
         "yaxis": "y11"
        },
        {
         "name": "30",
         "type": "bar",
         "x": [
          0,
          1
         ],
         "xaxis": "x11",
         "y": [
          156,
          27
         ],
         "yaxis": "y11"
        },
        {
         "name": "31",
         "type": "bar",
         "x": [
          0,
          1
         ],
         "xaxis": "x11",
         "y": [
          170,
          23
         ],
         "yaxis": "y11"
        },
        {
         "name": "32",
         "type": "bar",
         "x": [
          0,
          1
         ],
         "xaxis": "x11",
         "y": [
          143,
          18
         ],
         "yaxis": "y11"
        },
        {
         "name": "34",
         "type": "bar",
         "x": [
          0,
          1
         ],
         "xaxis": "x11",
         "y": [
          162,
          25
         ],
         "yaxis": "y11"
        },
        {
         "name": "35",
         "type": "bar",
         "x": [
          0,
          1
         ],
         "xaxis": "x11",
         "y": [
          132,
          19
         ],
         "yaxis": "y11"
        },
        {
         "name": "36",
         "type": "bar",
         "x": [
          0,
          1
         ],
         "xaxis": "x11",
         "y": [
          130,
          13
         ],
         "yaxis": "y11"
        },
        {
         "name": "38",
         "type": "bar",
         "x": [
          0,
          1
         ],
         "xaxis": "x11",
         "y": [
          147,
          20
         ],
         "yaxis": "y11"
        },
        {
         "name": "39",
         "type": "bar",
         "x": [
          0,
          1
         ],
         "xaxis": "x11",
         "y": [
          151,
          22
         ],
         "yaxis": "y11"
        },
        {
         "name": "41",
         "type": "bar",
         "x": [
          0,
          1
         ],
         "xaxis": "x11",
         "y": [
          131,
          21
         ],
         "yaxis": "y11"
        },
        {
         "name": "42",
         "type": "bar",
         "x": [
          0,
          1
         ],
         "xaxis": "x11",
         "y": [
          134,
          18
         ],
         "yaxis": "y11"
        },
        {
         "name": "43",
         "type": "bar",
         "x": [
          0,
          1
         ],
         "xaxis": "x11",
         "y": [
          99,
          12
         ],
         "yaxis": "y11"
        },
        {
         "name": "45",
         "type": "bar",
         "x": [
          0,
          1
         ],
         "xaxis": "x11",
         "y": [
          124,
          17
         ],
         "yaxis": "y11"
        },
        {
         "name": "46",
         "type": "bar",
         "x": [
          0,
          1
         ],
         "xaxis": "x11",
         "y": [
          124,
          12
         ],
         "yaxis": "y11"
        },
        {
         "name": "47",
         "type": "bar",
         "x": [
          0,
          1
         ],
         "xaxis": "x11",
         "y": [
          95,
          16
         ],
         "yaxis": "y11"
        },
        {
         "name": "0",
         "type": "bar",
         "x": [
          0,
          1
         ],
         "xaxis": "x12",
         "y": [
          3362,
          349
         ],
         "yaxis": "y12"
        },
        {
         "name": "1",
         "type": "bar",
         "x": [
          0,
          1
         ],
         "xaxis": "x12",
         "y": [
          3096,
          483
         ],
         "yaxis": "y12"
        },
        {
         "name": "0",
         "type": "bar",
         "x": [
          0,
          1
         ],
         "xaxis": "x13",
         "y": [
          57,
          7
         ],
         "yaxis": "y13"
        },
        {
         "name": "1",
         "type": "bar",
         "x": [
          0,
          1
         ],
         "xaxis": "x13",
         "y": [
          61,
          9
         ],
         "yaxis": "y13"
        },
        {
         "name": "3",
         "type": "bar",
         "x": [
          0,
          1
         ],
         "xaxis": "x13",
         "y": [
          61,
          3
         ],
         "yaxis": "y13"
        },
        {
         "name": "4",
         "type": "bar",
         "x": [
          0,
          1
         ],
         "xaxis": "x13",
         "y": [
          69,
          11
         ],
         "yaxis": "y13"
        },
        {
         "name": "5",
         "type": "bar",
         "x": [
          0,
          1
         ],
         "xaxis": "x13",
         "y": [
          73,
          5
         ],
         "yaxis": "y13"
        },
        {
         "name": "7",
         "type": "bar",
         "x": [
          0,
          1
         ],
         "xaxis": "x13",
         "y": [
          56,
          10
         ],
         "yaxis": "y13"
        },
        {
         "name": "8",
         "type": "bar",
         "x": [
          0,
          1
         ],
         "xaxis": "x13",
         "y": [
          45,
          2
         ],
         "yaxis": "y13"
        },
        {
         "name": "9",
         "type": "bar",
         "x": [
          0,
          1
         ],
         "xaxis": "x13",
         "y": [
          56,
          8
         ],
         "yaxis": "y13"
        },
        {
         "name": "11",
         "type": "bar",
         "x": [
          0,
          1
         ],
         "xaxis": "x13",
         "y": [
          57,
          7
         ],
         "yaxis": "y13"
        },
        {
         "name": "12",
         "type": "bar",
         "x": [
          0,
          1
         ],
         "xaxis": "x13",
         "y": [
          67,
          7
         ],
         "yaxis": "y13"
        },
        {
         "name": "14",
         "type": "bar",
         "x": [
          0,
          1
         ],
         "xaxis": "x13",
         "y": [
          84,
          12
         ],
         "yaxis": "y13"
        },
        {
         "name": "15",
         "type": "bar",
         "x": [
          0,
          1
         ],
         "xaxis": "x13",
         "y": [
          69,
          8
         ],
         "yaxis": "y13"
        },
        {
         "name": "16",
         "type": "bar",
         "x": [
          0,
          1
         ],
         "xaxis": "x13",
         "y": [
          77,
          12
         ],
         "yaxis": "y13"
        },
        {
         "name": "18",
         "type": "bar",
         "x": [
          0,
          1
         ],
         "xaxis": "x13",
         "y": [
          58,
          7
         ],
         "yaxis": "y13"
        },
        {
         "name": "19",
         "type": "bar",
         "x": [
          0,
          1
         ],
         "xaxis": "x13",
         "y": [
          60,
          7
         ],
         "yaxis": "y13"
        },
        {
         "name": "20",
         "type": "bar",
         "x": [
          0,
          1
         ],
         "xaxis": "x13",
         "y": [
          86,
          6
         ],
         "yaxis": "y13"
        },
        {
         "name": "22",
         "type": "bar",
         "x": [
          0,
          1
         ],
         "xaxis": "x13",
         "y": [
          50,
          6
         ],
         "yaxis": "y13"
        },
        {
         "name": "23",
         "type": "bar",
         "x": [
          0,
          1
         ],
         "xaxis": "x13",
         "y": [
          78,
          6
         ],
         "yaxis": "y13"
        },
        {
         "name": "24",
         "type": "bar",
         "x": [
          0,
          1
         ],
         "xaxis": "x13",
         "y": [
          63,
          9
         ],
         "yaxis": "y13"
        },
        {
         "name": "26",
         "type": "bar",
         "x": [
          0,
          1
         ],
         "xaxis": "x13",
         "y": [
          88,
          4
         ],
         "yaxis": "y13"
        },
        {
         "name": "27",
         "type": "bar",
         "x": [
          0,
          1
         ],
         "xaxis": "x13",
         "y": [
          72,
          14
         ],
         "yaxis": "y13"
        },
        {
         "name": "28",
         "type": "bar",
         "x": [
          0,
          1
         ],
         "xaxis": "x13",
         "y": [
          69,
          13
         ],
         "yaxis": "y13"
        },
        {
         "name": "30",
         "type": "bar",
         "x": [
          0,
          1
         ],
         "xaxis": "x13",
         "y": [
          65,
          7
         ],
         "yaxis": "y13"
        },
        {
         "name": "31",
         "type": "bar",
         "x": [
          0,
          1
         ],
         "xaxis": "x13",
         "y": [
          62,
          4
         ],
         "yaxis": "y13"
        },
        {
         "name": "32",
         "type": "bar",
         "x": [
          0,
          1
         ],
         "xaxis": "x13",
         "y": [
          59,
          12
         ],
         "yaxis": "y13"
        },
        {
         "name": "34",
         "type": "bar",
         "x": [
          0,
          1
         ],
         "xaxis": "x13",
         "y": [
          59,
          13
         ],
         "yaxis": "y13"
        },
        {
         "name": "35",
         "type": "bar",
         "x": [
          0,
          1
         ],
         "xaxis": "x13",
         "y": [
          56,
          7
         ],
         "yaxis": "y13"
        },
        {
         "name": "36",
         "type": "bar",
         "x": [
          0,
          1
         ],
         "xaxis": "x13",
         "y": [
          72,
          6
         ],
         "yaxis": "y13"
        },
        {
         "name": "38",
         "type": "bar",
         "x": [
          0,
          1
         ],
         "xaxis": "x13",
         "y": [
          61,
          16
         ],
         "yaxis": "y13"
        },
        {
         "name": "39",
         "type": "bar",
         "x": [
          0,
          1
         ],
         "xaxis": "x13",
         "y": [
          66,
          13
         ],
         "yaxis": "y13"
        },
        {
         "name": "41",
         "type": "bar",
         "x": [
          0,
          1
         ],
         "xaxis": "x13",
         "y": [
          76,
          8
         ],
         "yaxis": "y13"
        },
        {
         "name": "42",
         "type": "bar",
         "x": [
          0,
          1
         ],
         "xaxis": "x13",
         "y": [
          77,
          8
         ],
         "yaxis": "y13"
        },
        {
         "name": "43",
         "type": "bar",
         "x": [
          0,
          1
         ],
         "xaxis": "x13",
         "y": [
          68,
          9
         ],
         "yaxis": "y13"
        },
        {
         "name": "45",
         "type": "bar",
         "x": [
          0,
          1
         ],
         "xaxis": "x13",
         "y": [
          47,
          12
         ],
         "yaxis": "y13"
        },
        {
         "name": "46",
         "type": "bar",
         "x": [
          0,
          1
         ],
         "xaxis": "x13",
         "y": [
          68,
          13
         ],
         "yaxis": "y13"
        },
        {
         "name": "47",
         "type": "bar",
         "x": [
          0,
          1
         ],
         "xaxis": "x13",
         "y": [
          80,
          8
         ],
         "yaxis": "y13"
        },
        {
         "name": "49",
         "type": "bar",
         "x": [
          0,
          1
         ],
         "xaxis": "x13",
         "y": [
          61,
          3
         ],
         "yaxis": "y13"
        },
        {
         "name": "50",
         "type": "bar",
         "x": [
          0,
          1
         ],
         "xaxis": "x13",
         "y": [
          68,
          9
         ],
         "yaxis": "y13"
        },
        {
         "name": "51",
         "type": "bar",
         "x": [
          0,
          1
         ],
         "xaxis": "x13",
         "y": [
          73,
          13
         ],
         "yaxis": "y13"
        },
        {
         "name": "53",
         "type": "bar",
         "x": [
          0,
          1
         ],
         "xaxis": "x13",
         "y": [
          61,
          8
         ],
         "yaxis": "y13"
        },
        {
         "name": "54",
         "type": "bar",
         "x": [
          0,
          1
         ],
         "xaxis": "x13",
         "y": [
          50,
          16
         ],
         "yaxis": "y13"
        },
        {
         "name": "55",
         "type": "bar",
         "x": [
          0,
          1
         ],
         "xaxis": "x13",
         "y": [
          64,
          5
         ],
         "yaxis": "y13"
        },
        {
         "name": "57",
         "type": "bar",
         "x": [
          0,
          1
         ],
         "xaxis": "x13",
         "y": [
          72,
          8
         ],
         "yaxis": "y13"
        },
        {
         "name": "58",
         "type": "bar",
         "x": [
          0,
          1
         ],
         "xaxis": "x13",
         "y": [
          73,
          9
         ],
         "yaxis": "y13"
        },
        {
         "name": "59",
         "type": "bar",
         "x": [
          0,
          1
         ],
         "xaxis": "x13",
         "y": [
          86,
          7
         ],
         "yaxis": "y13"
        },
        {
         "name": "61",
         "type": "bar",
         "x": [
          0,
          1
         ],
         "xaxis": "x13",
         "y": [
          65,
          6
         ],
         "yaxis": "y13"
        },
        {
         "name": "62",
         "type": "bar",
         "x": [
          0,
          1
         ],
         "xaxis": "x13",
         "y": [
          63,
          13
         ],
         "yaxis": "y13"
        },
        {
         "name": "63",
         "type": "bar",
         "x": [
          0,
          1
         ],
         "xaxis": "x13",
         "y": [
          70,
          10
         ],
         "yaxis": "y13"
        },
        {
         "name": "65",
         "type": "bar",
         "x": [
          0,
          1
         ],
         "xaxis": "x13",
         "y": [
          72,
          6
         ],
         "yaxis": "y13"
        },
        {
         "name": "66",
         "type": "bar",
         "x": [
          0,
          1
         ],
         "xaxis": "x13",
         "y": [
          60,
          12
         ],
         "yaxis": "y13"
        },
        {
         "name": "68",
         "type": "bar",
         "x": [
          0,
          1
         ],
         "xaxis": "x13",
         "y": [
          91,
          13
         ],
         "yaxis": "y13"
        },
        {
         "name": "69",
         "type": "bar",
         "x": [
          0,
          1
         ],
         "xaxis": "x13",
         "y": [
          71,
          4
         ],
         "yaxis": "y13"
        },
        {
         "name": "70",
         "type": "bar",
         "x": [
          0,
          1
         ],
         "xaxis": "x13",
         "y": [
          73,
          6
         ],
         "yaxis": "y13"
        },
        {
         "name": "72",
         "type": "bar",
         "x": [
          0,
          1
         ],
         "xaxis": "x13",
         "y": [
          61,
          6
         ],
         "yaxis": "y13"
        },
        {
         "name": "73",
         "type": "bar",
         "x": [
          0,
          1
         ],
         "xaxis": "x13",
         "y": [
          56,
          10
         ],
         "yaxis": "y13"
        },
        {
         "name": "74",
         "type": "bar",
         "x": [
          0,
          1
         ],
         "xaxis": "x13",
         "y": [
          59,
          11
         ],
         "yaxis": "y13"
        },
        {
         "name": "76",
         "type": "bar",
         "x": [
          0,
          1
         ],
         "xaxis": "x13",
         "y": [
          84,
          4
         ],
         "yaxis": "y13"
        },
        {
         "name": "77",
         "type": "bar",
         "x": [
          0,
          1
         ],
         "xaxis": "x13",
         "y": [
          66,
          7
         ],
         "yaxis": "y13"
        },
        {
         "name": "78",
         "type": "bar",
         "x": [
          0,
          1
         ],
         "xaxis": "x13",
         "y": [
          50,
          11
         ],
         "yaxis": "y13"
        },
        {
         "name": "80",
         "type": "bar",
         "x": [
          0,
          1
         ],
         "xaxis": "x13",
         "y": [
          105,
          13
         ],
         "yaxis": "y13"
        },
        {
         "name": "81",
         "type": "bar",
         "x": [
          0,
          1
         ],
         "xaxis": "x13",
         "y": [
          56,
          7
         ],
         "yaxis": "y13"
        },
        {
         "name": "82",
         "type": "bar",
         "x": [
          0,
          1
         ],
         "xaxis": "x13",
         "y": [
          88,
          15
         ],
         "yaxis": "y13"
        },
        {
         "name": "84",
         "type": "bar",
         "x": [
          0,
          1
         ],
         "xaxis": "x13",
         "y": [
          75,
          9
         ],
         "yaxis": "y13"
        },
        {
         "name": "85",
         "type": "bar",
         "x": [
          0,
          1
         ],
         "xaxis": "x13",
         "y": [
          85,
          6
         ],
         "yaxis": "y13"
        },
        {
         "name": "86",
         "type": "bar",
         "x": [
          0,
          1
         ],
         "xaxis": "x13",
         "y": [
          75,
          7
         ],
         "yaxis": "y13"
        },
        {
         "name": "88",
         "type": "bar",
         "x": [
          0,
          1
         ],
         "xaxis": "x13",
         "y": [
          61,
          6
         ],
         "yaxis": "y13"
        },
        {
         "name": "89",
         "type": "bar",
         "x": [
          0,
          1
         ],
         "xaxis": "x13",
         "y": [
          61,
          11
         ],
         "yaxis": "y13"
        },
        {
         "name": "90",
         "type": "bar",
         "x": [
          0,
          1
         ],
         "xaxis": "x13",
         "y": [
          50,
          7
         ],
         "yaxis": "y13"
        },
        {
         "name": "92",
         "type": "bar",
         "x": [
          0,
          1
         ],
         "xaxis": "x13",
         "y": [
          64,
          10
         ],
         "yaxis": "y13"
        },
        {
         "name": "93",
         "type": "bar",
         "x": [
          0,
          1
         ],
         "xaxis": "x13",
         "y": [
          64,
          6
         ],
         "yaxis": "y13"
        },
        {
         "name": "95",
         "type": "bar",
         "x": [
          0,
          1
         ],
         "xaxis": "x13",
         "y": [
          73,
          10
         ],
         "yaxis": "y13"
        },
        {
         "name": "96",
         "type": "bar",
         "x": [
          0,
          1
         ],
         "xaxis": "x13",
         "y": [
          74,
          6
         ],
         "yaxis": "y13"
        },
        {
         "name": "97",
         "type": "bar",
         "x": [
          0,
          1
         ],
         "xaxis": "x13",
         "y": [
          70,
          7
         ],
         "yaxis": "y13"
        },
        {
         "name": "99",
         "type": "bar",
         "x": [
          0,
          1
         ],
         "xaxis": "x13",
         "y": [
          66,
          6
         ],
         "yaxis": "y13"
        },
        {
         "name": "100",
         "type": "bar",
         "x": [
          0,
          1
         ],
         "xaxis": "x13",
         "y": [
          64,
          9
         ],
         "yaxis": "y13"
        },
        {
         "name": "101",
         "type": "bar",
         "x": [
          0,
          1
         ],
         "xaxis": "x13",
         "y": [
          59,
          14
         ],
         "yaxis": "y13"
        },
        {
         "name": "103",
         "type": "bar",
         "x": [
          0,
          1
         ],
         "xaxis": "x13",
         "y": [
          56,
          10
         ],
         "yaxis": "y13"
        },
        {
         "name": "104",
         "type": "bar",
         "x": [
          0,
          1
         ],
         "xaxis": "x13",
         "y": [
          72,
          6
         ],
         "yaxis": "y13"
        },
        {
         "name": "105",
         "type": "bar",
         "x": [
          0,
          1
         ],
         "xaxis": "x13",
         "y": [
          61,
          4
         ],
         "yaxis": "y13"
        },
        {
         "name": "107",
         "type": "bar",
         "x": [
          0,
          1
         ],
         "xaxis": "x13",
         "y": [
          71,
          9
         ],
         "yaxis": "y13"
        },
        {
         "name": "108",
         "type": "bar",
         "x": [
          0,
          1
         ],
         "xaxis": "x13",
         "y": [
          52,
          5
         ],
         "yaxis": "y13"
        },
        {
         "name": "109",
         "type": "bar",
         "x": [
          0,
          1
         ],
         "xaxis": "x13",
         "y": [
          56,
          4
         ],
         "yaxis": "y13"
        },
        {
         "name": "111",
         "type": "bar",
         "x": [
          0,
          1
         ],
         "xaxis": "x13",
         "y": [
          42,
          4
         ],
         "yaxis": "y13"
        },
        {
         "name": "112",
         "type": "bar",
         "x": [
          0,
          1
         ],
         "xaxis": "x13",
         "y": [
          54,
          12
         ],
         "yaxis": "y13"
        },
        {
         "name": "113",
         "type": "bar",
         "x": [
          0,
          1
         ],
         "xaxis": "x13",
         "y": [
          76,
          7
         ],
         "yaxis": "y13"
        },
        {
         "name": "115",
         "type": "bar",
         "x": [
          0,
          1
         ],
         "xaxis": "x13",
         "y": [
          53,
          11
         ],
         "yaxis": "y13"
        },
        {
         "name": "116",
         "type": "bar",
         "x": [
          0,
          1
         ],
         "xaxis": "x13",
         "y": [
          64,
          9
         ],
         "yaxis": "y13"
        },
        {
         "name": "117",
         "type": "bar",
         "x": [
          0,
          1
         ],
         "xaxis": "x13",
         "y": [
          52,
          8
         ],
         "yaxis": "y13"
        },
        {
         "name": "119",
         "type": "bar",
         "x": [
          0,
          1
         ],
         "xaxis": "x13",
         "y": [
          54,
          8
         ],
         "yaxis": "y13"
        },
        {
         "name": "120",
         "type": "bar",
         "x": [
          0,
          1
         ],
         "xaxis": "x13",
         "y": [
          70,
          12
         ],
         "yaxis": "y13"
        },
        {
         "name": "122",
         "type": "bar",
         "x": [
          0,
          1
         ],
         "xaxis": "x13",
         "y": [
          60,
          11
         ],
         "yaxis": "y13"
        },
        {
         "name": "123",
         "type": "bar",
         "x": [
          0,
          1
         ],
         "xaxis": "x13",
         "y": [
          56,
          10
         ],
         "yaxis": "y13"
        },
        {
         "name": "124",
         "type": "bar",
         "x": [
          0,
          1
         ],
         "xaxis": "x13",
         "y": [
          50,
          6
         ],
         "yaxis": "y13"
        },
        {
         "name": "126",
         "type": "bar",
         "x": [
          0,
          1
         ],
         "xaxis": "x13",
         "y": [
          71,
          4
         ],
         "yaxis": "y13"
        },
        {
         "name": "127",
         "type": "bar",
         "x": [
          0,
          1
         ],
         "xaxis": "x13",
         "y": [
          48,
          6
         ],
         "yaxis": "y13"
        },
        {
         "name": "128",
         "type": "bar",
         "x": [
          0,
          1
         ],
         "xaxis": "x13",
         "y": [
          60,
          5
         ],
         "yaxis": "y13"
        },
        {
         "name": "130",
         "type": "bar",
         "x": [
          0,
          1
         ],
         "xaxis": "x13",
         "y": [
          42,
          12
         ],
         "yaxis": "y13"
        },
        {
         "name": "131",
         "type": "bar",
         "x": [
          0,
          1
         ],
         "xaxis": "x13",
         "y": [
          37,
          4
         ],
         "yaxis": "y13"
        },
        {
         "name": "132",
         "type": "bar",
         "x": [
          0,
          1
         ],
         "xaxis": "x13",
         "y": [
          39,
          3
         ],
         "yaxis": "y13"
        },
        {
         "name": "134",
         "type": "bar",
         "x": [
          0,
          1
         ],
         "xaxis": "x13",
         "y": [
          51,
          7
         ],
         "yaxis": "y13"
        },
        {
         "name": "0",
         "type": "bar",
         "x": [
          0,
          1
         ],
         "xaxis": "x14",
         "y": [
          1572,
          57
         ],
         "yaxis": "y14"
        },
        {
         "name": "1",
         "type": "bar",
         "x": [
          0,
          1
         ],
         "xaxis": "x14",
         "y": [
          2573,
          254
         ],
         "yaxis": "y14"
        },
        {
         "name": "2",
         "type": "bar",
         "x": [
          0,
          1
         ],
         "xaxis": "x14",
         "y": [
          2313,
          521
         ],
         "yaxis": "y14"
        },
        {
         "name": "0",
         "type": "bar",
         "x": [
          0,
          1
         ],
         "xaxis": "x15",
         "y": [
          2752,
          613
         ],
         "yaxis": "y15"
        },
        {
         "name": "1",
         "type": "bar",
         "x": [
          0,
          1
         ],
         "xaxis": "x15",
         "y": [
          1784,
          139
         ],
         "yaxis": "y15"
        },
        {
         "name": "2",
         "type": "bar",
         "x": [
          0,
          1
         ],
         "xaxis": "x15",
         "y": [
          1922,
          80
         ],
         "yaxis": "y15"
        }
       ],
       "layout": {
        "annotations": [
         {
          "font": {
           "size": 16
          },
          "showarrow": false,
          "text": "Money Spent per Policy_bin",
          "x": 0.2375,
          "xanchor": "center",
          "xref": "paper",
          "y": 1,
          "yanchor": "bottom",
          "yref": "paper"
         },
         {
          "font": {
           "size": 16
          },
          "showarrow": false,
          "text": "Accident Likelihood_bin",
          "x": 0.7625,
          "xanchor": "center",
          "xref": "paper",
          "y": 1,
          "yanchor": "bottom",
          "yref": "paper"
         },
         {
          "font": {
           "size": 16
          },
          "showarrow": false,
          "text": "Number of Policies",
          "x": 0.2375,
          "xanchor": "center",
          "xref": "paper",
          "y": 0.87375,
          "yanchor": "bottom",
          "yref": "paper"
         },
         {
          "font": {
           "size": 16
          },
          "showarrow": false,
          "text": "Income_bin",
          "x": 0.7625,
          "xanchor": "center",
          "xref": "paper",
          "y": 0.87375,
          "yanchor": "bottom",
          "yref": "paper"
         },
         {
          "font": {
           "size": 16
          },
          "showarrow": false,
          "text": "Coverage Index",
          "x": 0.2375,
          "xanchor": "center",
          "xref": "paper",
          "y": 0.7474999999999999,
          "yanchor": "bottom",
          "yref": "paper"
         },
         {
          "font": {
           "size": 16
          },
          "showarrow": false,
          "text": "Employment Status Index",
          "x": 0.7625,
          "xanchor": "center",
          "xref": "paper",
          "y": 0.7474999999999999,
          "yanchor": "bottom",
          "yref": "paper"
         },
         {
          "font": {
           "size": 16
          },
          "showarrow": false,
          "text": "Insurance_bin",
          "x": 0.2375,
          "xanchor": "center",
          "xref": "paper",
          "y": 0.62125,
          "yanchor": "bottom",
          "yref": "paper"
         },
         {
          "font": {
           "size": 16
          },
          "showarrow": false,
          "text": "Marital Status Index",
          "x": 0.7625,
          "xanchor": "center",
          "xref": "paper",
          "y": 0.62125,
          "yanchor": "bottom",
          "yref": "paper"
         },
         {
          "font": {
           "size": 16
          },
          "showarrow": false,
          "text": "Location Based Likelihood_bin",
          "x": 0.2375,
          "xanchor": "center",
          "xref": "paper",
          "y": 0.495,
          "yanchor": "bottom",
          "yref": "paper"
         },
         {
          "font": {
           "size": 16
          },
          "showarrow": false,
          "text": "Date Time",
          "x": 0.7625,
          "xanchor": "center",
          "xref": "paper",
          "y": 0.495,
          "yanchor": "bottom",
          "yref": "paper"
         },
         {
          "font": {
           "size": 16
          },
          "showarrow": false,
          "text": "Months Since Last Claim",
          "x": 0.2375,
          "xanchor": "center",
          "xref": "paper",
          "y": 0.36875,
          "yanchor": "bottom",
          "yref": "paper"
         },
         {
          "font": {
           "size": 16
          },
          "showarrow": false,
          "text": "Gender",
          "x": 0.7625,
          "xanchor": "center",
          "xref": "paper",
          "y": 0.36875,
          "yanchor": "bottom",
          "yref": "paper"
         },
         {
          "font": {
           "size": 16
          },
          "showarrow": false,
          "text": "Months Since Policy Inception",
          "x": 0.2375,
          "xanchor": "center",
          "xref": "paper",
          "y": 0.2425,
          "yanchor": "bottom",
          "yref": "paper"
         },
         {
          "font": {
           "size": 16
          },
          "showarrow": false,
          "text": "CLV_Category",
          "x": 0.7625,
          "xanchor": "center",
          "xref": "paper",
          "y": 0.2425,
          "yanchor": "bottom",
          "yref": "paper"
         },
         {
          "font": {
           "size": 16
          },
          "showarrow": false,
          "text": "Income_Category",
          "x": 0.2375,
          "xanchor": "center",
          "xref": "paper",
          "y": 0.11624999999999999,
          "yanchor": "bottom",
          "yref": "paper"
         }
        ],
        "height": 2400,
        "showlegend": false,
        "template": {
         "data": {
          "bar": [
           {
            "error_x": {
             "color": "#2a3f5f"
            },
            "error_y": {
             "color": "#2a3f5f"
            },
            "marker": {
             "line": {
              "color": "#E5ECF6",
              "width": 0.5
             },
             "pattern": {
              "fillmode": "overlay",
              "size": 10,
              "solidity": 0.2
             }
            },
            "type": "bar"
           }
          ],
          "barpolar": [
           {
            "marker": {
             "line": {
              "color": "#E5ECF6",
              "width": 0.5
             },
             "pattern": {
              "fillmode": "overlay",
              "size": 10,
              "solidity": 0.2
             }
            },
            "type": "barpolar"
           }
          ],
          "carpet": [
           {
            "aaxis": {
             "endlinecolor": "#2a3f5f",
             "gridcolor": "white",
             "linecolor": "white",
             "minorgridcolor": "white",
             "startlinecolor": "#2a3f5f"
            },
            "baxis": {
             "endlinecolor": "#2a3f5f",
             "gridcolor": "white",
             "linecolor": "white",
             "minorgridcolor": "white",
             "startlinecolor": "#2a3f5f"
            },
            "type": "carpet"
           }
          ],
          "choropleth": [
           {
            "colorbar": {
             "outlinewidth": 0,
             "ticks": ""
            },
            "type": "choropleth"
           }
          ],
          "contour": [
           {
            "colorbar": {
             "outlinewidth": 0,
             "ticks": ""
            },
            "colorscale": [
             [
              0,
              "#0d0887"
             ],
             [
              0.1111111111111111,
              "#46039f"
             ],
             [
              0.2222222222222222,
              "#7201a8"
             ],
             [
              0.3333333333333333,
              "#9c179e"
             ],
             [
              0.4444444444444444,
              "#bd3786"
             ],
             [
              0.5555555555555556,
              "#d8576b"
             ],
             [
              0.6666666666666666,
              "#ed7953"
             ],
             [
              0.7777777777777778,
              "#fb9f3a"
             ],
             [
              0.8888888888888888,
              "#fdca26"
             ],
             [
              1,
              "#f0f921"
             ]
            ],
            "type": "contour"
           }
          ],
          "contourcarpet": [
           {
            "colorbar": {
             "outlinewidth": 0,
             "ticks": ""
            },
            "type": "contourcarpet"
           }
          ],
          "heatmap": [
           {
            "colorbar": {
             "outlinewidth": 0,
             "ticks": ""
            },
            "colorscale": [
             [
              0,
              "#0d0887"
             ],
             [
              0.1111111111111111,
              "#46039f"
             ],
             [
              0.2222222222222222,
              "#7201a8"
             ],
             [
              0.3333333333333333,
              "#9c179e"
             ],
             [
              0.4444444444444444,
              "#bd3786"
             ],
             [
              0.5555555555555556,
              "#d8576b"
             ],
             [
              0.6666666666666666,
              "#ed7953"
             ],
             [
              0.7777777777777778,
              "#fb9f3a"
             ],
             [
              0.8888888888888888,
              "#fdca26"
             ],
             [
              1,
              "#f0f921"
             ]
            ],
            "type": "heatmap"
           }
          ],
          "heatmapgl": [
           {
            "colorbar": {
             "outlinewidth": 0,
             "ticks": ""
            },
            "colorscale": [
             [
              0,
              "#0d0887"
             ],
             [
              0.1111111111111111,
              "#46039f"
             ],
             [
              0.2222222222222222,
              "#7201a8"
             ],
             [
              0.3333333333333333,
              "#9c179e"
             ],
             [
              0.4444444444444444,
              "#bd3786"
             ],
             [
              0.5555555555555556,
              "#d8576b"
             ],
             [
              0.6666666666666666,
              "#ed7953"
             ],
             [
              0.7777777777777778,
              "#fb9f3a"
             ],
             [
              0.8888888888888888,
              "#fdca26"
             ],
             [
              1,
              "#f0f921"
             ]
            ],
            "type": "heatmapgl"
           }
          ],
          "histogram": [
           {
            "marker": {
             "pattern": {
              "fillmode": "overlay",
              "size": 10,
              "solidity": 0.2
             }
            },
            "type": "histogram"
           }
          ],
          "histogram2d": [
           {
            "colorbar": {
             "outlinewidth": 0,
             "ticks": ""
            },
            "colorscale": [
             [
              0,
              "#0d0887"
             ],
             [
              0.1111111111111111,
              "#46039f"
             ],
             [
              0.2222222222222222,
              "#7201a8"
             ],
             [
              0.3333333333333333,
              "#9c179e"
             ],
             [
              0.4444444444444444,
              "#bd3786"
             ],
             [
              0.5555555555555556,
              "#d8576b"
             ],
             [
              0.6666666666666666,
              "#ed7953"
             ],
             [
              0.7777777777777778,
              "#fb9f3a"
             ],
             [
              0.8888888888888888,
              "#fdca26"
             ],
             [
              1,
              "#f0f921"
             ]
            ],
            "type": "histogram2d"
           }
          ],
          "histogram2dcontour": [
           {
            "colorbar": {
             "outlinewidth": 0,
             "ticks": ""
            },
            "colorscale": [
             [
              0,
              "#0d0887"
             ],
             [
              0.1111111111111111,
              "#46039f"
             ],
             [
              0.2222222222222222,
              "#7201a8"
             ],
             [
              0.3333333333333333,
              "#9c179e"
             ],
             [
              0.4444444444444444,
              "#bd3786"
             ],
             [
              0.5555555555555556,
              "#d8576b"
             ],
             [
              0.6666666666666666,
              "#ed7953"
             ],
             [
              0.7777777777777778,
              "#fb9f3a"
             ],
             [
              0.8888888888888888,
              "#fdca26"
             ],
             [
              1,
              "#f0f921"
             ]
            ],
            "type": "histogram2dcontour"
           }
          ],
          "mesh3d": [
           {
            "colorbar": {
             "outlinewidth": 0,
             "ticks": ""
            },
            "type": "mesh3d"
           }
          ],
          "parcoords": [
           {
            "line": {
             "colorbar": {
              "outlinewidth": 0,
              "ticks": ""
             }
            },
            "type": "parcoords"
           }
          ],
          "pie": [
           {
            "automargin": true,
            "type": "pie"
           }
          ],
          "scatter": [
           {
            "fillpattern": {
             "fillmode": "overlay",
             "size": 10,
             "solidity": 0.2
            },
            "type": "scatter"
           }
          ],
          "scatter3d": [
           {
            "line": {
             "colorbar": {
              "outlinewidth": 0,
              "ticks": ""
             }
            },
            "marker": {
             "colorbar": {
              "outlinewidth": 0,
              "ticks": ""
             }
            },
            "type": "scatter3d"
           }
          ],
          "scattercarpet": [
           {
            "marker": {
             "colorbar": {
              "outlinewidth": 0,
              "ticks": ""
             }
            },
            "type": "scattercarpet"
           }
          ],
          "scattergeo": [
           {
            "marker": {
             "colorbar": {
              "outlinewidth": 0,
              "ticks": ""
             }
            },
            "type": "scattergeo"
           }
          ],
          "scattergl": [
           {
            "marker": {
             "colorbar": {
              "outlinewidth": 0,
              "ticks": ""
             }
            },
            "type": "scattergl"
           }
          ],
          "scattermapbox": [
           {
            "marker": {
             "colorbar": {
              "outlinewidth": 0,
              "ticks": ""
             }
            },
            "type": "scattermapbox"
           }
          ],
          "scatterpolar": [
           {
            "marker": {
             "colorbar": {
              "outlinewidth": 0,
              "ticks": ""
             }
            },
            "type": "scatterpolar"
           }
          ],
          "scatterpolargl": [
           {
            "marker": {
             "colorbar": {
              "outlinewidth": 0,
              "ticks": ""
             }
            },
            "type": "scatterpolargl"
           }
          ],
          "scatterternary": [
           {
            "marker": {
             "colorbar": {
              "outlinewidth": 0,
              "ticks": ""
             }
            },
            "type": "scatterternary"
           }
          ],
          "surface": [
           {
            "colorbar": {
             "outlinewidth": 0,
             "ticks": ""
            },
            "colorscale": [
             [
              0,
              "#0d0887"
             ],
             [
              0.1111111111111111,
              "#46039f"
             ],
             [
              0.2222222222222222,
              "#7201a8"
             ],
             [
              0.3333333333333333,
              "#9c179e"
             ],
             [
              0.4444444444444444,
              "#bd3786"
             ],
             [
              0.5555555555555556,
              "#d8576b"
             ],
             [
              0.6666666666666666,
              "#ed7953"
             ],
             [
              0.7777777777777778,
              "#fb9f3a"
             ],
             [
              0.8888888888888888,
              "#fdca26"
             ],
             [
              1,
              "#f0f921"
             ]
            ],
            "type": "surface"
           }
          ],
          "table": [
           {
            "cells": {
             "fill": {
              "color": "#EBF0F8"
             },
             "line": {
              "color": "white"
             }
            },
            "header": {
             "fill": {
              "color": "#C8D4E3"
             },
             "line": {
              "color": "white"
             }
            },
            "type": "table"
           }
          ]
         },
         "layout": {
          "annotationdefaults": {
           "arrowcolor": "#2a3f5f",
           "arrowhead": 0,
           "arrowwidth": 1
          },
          "autotypenumbers": "strict",
          "coloraxis": {
           "colorbar": {
            "outlinewidth": 0,
            "ticks": ""
           }
          },
          "colorscale": {
           "diverging": [
            [
             0,
             "#8e0152"
            ],
            [
             0.1,
             "#c51b7d"
            ],
            [
             0.2,
             "#de77ae"
            ],
            [
             0.3,
             "#f1b6da"
            ],
            [
             0.4,
             "#fde0ef"
            ],
            [
             0.5,
             "#f7f7f7"
            ],
            [
             0.6,
             "#e6f5d0"
            ],
            [
             0.7,
             "#b8e186"
            ],
            [
             0.8,
             "#7fbc41"
            ],
            [
             0.9,
             "#4d9221"
            ],
            [
             1,
             "#276419"
            ]
           ],
           "sequential": [
            [
             0,
             "#0d0887"
            ],
            [
             0.1111111111111111,
             "#46039f"
            ],
            [
             0.2222222222222222,
             "#7201a8"
            ],
            [
             0.3333333333333333,
             "#9c179e"
            ],
            [
             0.4444444444444444,
             "#bd3786"
            ],
            [
             0.5555555555555556,
             "#d8576b"
            ],
            [
             0.6666666666666666,
             "#ed7953"
            ],
            [
             0.7777777777777778,
             "#fb9f3a"
            ],
            [
             0.8888888888888888,
             "#fdca26"
            ],
            [
             1,
             "#f0f921"
            ]
           ],
           "sequentialminus": [
            [
             0,
             "#0d0887"
            ],
            [
             0.1111111111111111,
             "#46039f"
            ],
            [
             0.2222222222222222,
             "#7201a8"
            ],
            [
             0.3333333333333333,
             "#9c179e"
            ],
            [
             0.4444444444444444,
             "#bd3786"
            ],
            [
             0.5555555555555556,
             "#d8576b"
            ],
            [
             0.6666666666666666,
             "#ed7953"
            ],
            [
             0.7777777777777778,
             "#fb9f3a"
            ],
            [
             0.8888888888888888,
             "#fdca26"
            ],
            [
             1,
             "#f0f921"
            ]
           ]
          },
          "colorway": [
           "#636efa",
           "#EF553B",
           "#00cc96",
           "#ab63fa",
           "#FFA15A",
           "#19d3f3",
           "#FF6692",
           "#B6E880",
           "#FF97FF",
           "#FECB52"
          ],
          "font": {
           "color": "#2a3f5f"
          },
          "geo": {
           "bgcolor": "white",
           "lakecolor": "white",
           "landcolor": "#E5ECF6",
           "showlakes": true,
           "showland": true,
           "subunitcolor": "white"
          },
          "hoverlabel": {
           "align": "left"
          },
          "hovermode": "closest",
          "mapbox": {
           "style": "light"
          },
          "paper_bgcolor": "white",
          "plot_bgcolor": "#E5ECF6",
          "polar": {
           "angularaxis": {
            "gridcolor": "white",
            "linecolor": "white",
            "ticks": ""
           },
           "bgcolor": "#E5ECF6",
           "radialaxis": {
            "gridcolor": "white",
            "linecolor": "white",
            "ticks": ""
           }
          },
          "scene": {
           "xaxis": {
            "backgroundcolor": "#E5ECF6",
            "gridcolor": "white",
            "gridwidth": 2,
            "linecolor": "white",
            "showbackground": true,
            "ticks": "",
            "zerolinecolor": "white"
           },
           "yaxis": {
            "backgroundcolor": "#E5ECF6",
            "gridcolor": "white",
            "gridwidth": 2,
            "linecolor": "white",
            "showbackground": true,
            "ticks": "",
            "zerolinecolor": "white"
           },
           "zaxis": {
            "backgroundcolor": "#E5ECF6",
            "gridcolor": "white",
            "gridwidth": 2,
            "linecolor": "white",
            "showbackground": true,
            "ticks": "",
            "zerolinecolor": "white"
           }
          },
          "shapedefaults": {
           "line": {
            "color": "#2a3f5f"
           }
          },
          "ternary": {
           "aaxis": {
            "gridcolor": "white",
            "linecolor": "white",
            "ticks": ""
           },
           "baxis": {
            "gridcolor": "white",
            "linecolor": "white",
            "ticks": ""
           },
           "bgcolor": "#E5ECF6",
           "caxis": {
            "gridcolor": "white",
            "linecolor": "white",
            "ticks": ""
           }
          },
          "title": {
           "x": 0.05
          },
          "xaxis": {
           "automargin": true,
           "gridcolor": "white",
           "linecolor": "white",
           "ticks": "",
           "title": {
            "standoff": 15
           },
           "zerolinecolor": "white",
           "zerolinewidth": 2
          },
          "yaxis": {
           "automargin": true,
           "gridcolor": "white",
           "linecolor": "white",
           "ticks": "",
           "title": {
            "standoff": 15
           },
           "zerolinecolor": "white",
           "zerolinewidth": 2
          }
         }
        },
        "title": {
         "text": "How Each Column Affects 'Claim over 1k'"
        },
        "xaxis": {
         "anchor": "y",
         "domain": [
          0,
          0.475
         ]
        },
        "xaxis10": {
         "anchor": "y10",
         "domain": [
          0.525,
          1
         ]
        },
        "xaxis11": {
         "anchor": "y11",
         "domain": [
          0,
          0.475
         ]
        },
        "xaxis12": {
         "anchor": "y12",
         "domain": [
          0.525,
          1
         ]
        },
        "xaxis13": {
         "anchor": "y13",
         "domain": [
          0,
          0.475
         ]
        },
        "xaxis14": {
         "anchor": "y14",
         "domain": [
          0.525,
          1
         ]
        },
        "xaxis15": {
         "anchor": "y15",
         "domain": [
          0,
          0.475
         ]
        },
        "xaxis16": {
         "anchor": "y16",
         "domain": [
          0.525,
          1
         ]
        },
        "xaxis2": {
         "anchor": "y2",
         "domain": [
          0.525,
          1
         ]
        },
        "xaxis3": {
         "anchor": "y3",
         "domain": [
          0,
          0.475
         ]
        },
        "xaxis4": {
         "anchor": "y4",
         "domain": [
          0.525,
          1
         ]
        },
        "xaxis5": {
         "anchor": "y5",
         "domain": [
          0,
          0.475
         ]
        },
        "xaxis6": {
         "anchor": "y6",
         "domain": [
          0.525,
          1
         ]
        },
        "xaxis7": {
         "anchor": "y7",
         "domain": [
          0,
          0.475
         ]
        },
        "xaxis8": {
         "anchor": "y8",
         "domain": [
          0.525,
          1
         ]
        },
        "xaxis9": {
         "anchor": "y9",
         "domain": [
          0,
          0.475
         ]
        },
        "yaxis": {
         "anchor": "x",
         "domain": [
          0.88375,
          1
         ]
        },
        "yaxis10": {
         "anchor": "x10",
         "domain": [
          0.37875000000000003,
          0.495
         ]
        },
        "yaxis11": {
         "anchor": "x11",
         "domain": [
          0.2525,
          0.36875
         ]
        },
        "yaxis12": {
         "anchor": "x12",
         "domain": [
          0.2525,
          0.36875
         ]
        },
        "yaxis13": {
         "anchor": "x13",
         "domain": [
          0.12625,
          0.2425
         ]
        },
        "yaxis14": {
         "anchor": "x14",
         "domain": [
          0.12625,
          0.2425
         ]
        },
        "yaxis15": {
         "anchor": "x15",
         "domain": [
          0,
          0.11624999999999999
         ]
        },
        "yaxis16": {
         "anchor": "x16",
         "domain": [
          0,
          0.11624999999999999
         ]
        },
        "yaxis2": {
         "anchor": "x2",
         "domain": [
          0.88375,
          1
         ]
        },
        "yaxis3": {
         "anchor": "x3",
         "domain": [
          0.7575000000000001,
          0.87375
         ]
        },
        "yaxis4": {
         "anchor": "x4",
         "domain": [
          0.7575000000000001,
          0.87375
         ]
        },
        "yaxis5": {
         "anchor": "x5",
         "domain": [
          0.63125,
          0.7474999999999999
         ]
        },
        "yaxis6": {
         "anchor": "x6",
         "domain": [
          0.63125,
          0.7474999999999999
         ]
        },
        "yaxis7": {
         "anchor": "x7",
         "domain": [
          0.505,
          0.62125
         ]
        },
        "yaxis8": {
         "anchor": "x8",
         "domain": [
          0.505,
          0.62125
         ]
        },
        "yaxis9": {
         "anchor": "x9",
         "domain": [
          0.37875000000000003,
          0.495
         ]
        }
       }
      },
      "text/html": [
       "<div>                            <div id=\"9aef0c4d-9982-4b06-a37d-433e150cbbfb\" class=\"plotly-graph-div\" style=\"height:2400px; width:100%;\"></div>            <script type=\"text/javascript\">                require([\"plotly\"], function(Plotly) {                    window.PLOTLYENV=window.PLOTLYENV || {};                                    if (document.getElementById(\"9aef0c4d-9982-4b06-a37d-433e150cbbfb\")) {                    Plotly.newPlot(                        \"9aef0c4d-9982-4b06-a37d-433e150cbbfb\",                        [{\"name\":\"0\",\"x\":[0,1],\"y\":[131,15],\"type\":\"bar\",\"xaxis\":\"x\",\"yaxis\":\"y\"},{\"name\":\"1\",\"x\":[0,1],\"y\":[130,16],\"type\":\"bar\",\"xaxis\":\"x\",\"yaxis\":\"y\"},{\"name\":\"2\",\"x\":[0,1],\"y\":[136,10],\"type\":\"bar\",\"xaxis\":\"x\",\"yaxis\":\"y\"},{\"name\":\"3\",\"x\":[0,1],\"y\":[130,18],\"type\":\"bar\",\"xaxis\":\"x\",\"yaxis\":\"y\"},{\"name\":\"4\",\"x\":[0,1],\"y\":[136,7],\"type\":\"bar\",\"xaxis\":\"x\",\"yaxis\":\"y\"},{\"name\":\"5\",\"x\":[0,1],\"y\":[129,17],\"type\":\"bar\",\"xaxis\":\"x\",\"yaxis\":\"y\"},{\"name\":\"6\",\"x\":[0,1],\"y\":[119,27],\"type\":\"bar\",\"xaxis\":\"x\",\"yaxis\":\"y\"},{\"name\":\"7\",\"x\":[0,1],\"y\":[132,17],\"type\":\"bar\",\"xaxis\":\"x\",\"yaxis\":\"y\"},{\"name\":\"8\",\"x\":[0,1],\"y\":[125,18],\"type\":\"bar\",\"xaxis\":\"x\",\"yaxis\":\"y\"},{\"name\":\"9\",\"x\":[0,1],\"y\":[139,6],\"type\":\"bar\",\"xaxis\":\"x\",\"yaxis\":\"y\"},{\"name\":\"10\",\"x\":[0,1],\"y\":[131,15],\"type\":\"bar\",\"xaxis\":\"x\",\"yaxis\":\"y\"},{\"name\":\"11\",\"x\":[0,1],\"y\":[136,14],\"type\":\"bar\",\"xaxis\":\"x\",\"yaxis\":\"y\"},{\"name\":\"12\",\"x\":[0,1],\"y\":[131,11],\"type\":\"bar\",\"xaxis\":\"x\",\"yaxis\":\"y\"},{\"name\":\"13\",\"x\":[0,1],\"y\":[135,10],\"type\":\"bar\",\"xaxis\":\"x\",\"yaxis\":\"y\"},{\"name\":\"14\",\"x\":[0,1],\"y\":[135,11],\"type\":\"bar\",\"xaxis\":\"x\",\"yaxis\":\"y\"},{\"name\":\"15\",\"x\":[0,1],\"y\":[138,8],\"type\":\"bar\",\"xaxis\":\"x\",\"yaxis\":\"y\"},{\"name\":\"16\",\"x\":[0,1],\"y\":[127,19],\"type\":\"bar\",\"xaxis\":\"x\",\"yaxis\":\"y\"},{\"name\":\"17\",\"x\":[0,1],\"y\":[126,21],\"type\":\"bar\",\"xaxis\":\"x\",\"yaxis\":\"y\"},{\"name\":\"18\",\"x\":[0,1],\"y\":[127,17],\"type\":\"bar\",\"xaxis\":\"x\",\"yaxis\":\"y\"},{\"name\":\"19\",\"x\":[0,1],\"y\":[125,21],\"type\":\"bar\",\"xaxis\":\"x\",\"yaxis\":\"y\"},{\"name\":\"20\",\"x\":[0,1],\"y\":[122,24],\"type\":\"bar\",\"xaxis\":\"x\",\"yaxis\":\"y\"},{\"name\":\"21\",\"x\":[0,1],\"y\":[123,25],\"type\":\"bar\",\"xaxis\":\"x\",\"yaxis\":\"y\"},{\"name\":\"22\",\"x\":[0,1],\"y\":[134,9],\"type\":\"bar\",\"xaxis\":\"x\",\"yaxis\":\"y\"},{\"name\":\"23\",\"x\":[0,1],\"y\":[135,11],\"type\":\"bar\",\"xaxis\":\"x\",\"yaxis\":\"y\"},{\"name\":\"24\",\"x\":[0,1],\"y\":[139,7],\"type\":\"bar\",\"xaxis\":\"x\",\"yaxis\":\"y\"},{\"name\":\"25\",\"x\":[0,1],\"y\":[141,5],\"type\":\"bar\",\"xaxis\":\"x\",\"yaxis\":\"y\"},{\"name\":\"26\",\"x\":[0,1],\"y\":[139,7],\"type\":\"bar\",\"xaxis\":\"x\",\"yaxis\":\"y\"},{\"name\":\"27\",\"x\":[0,1],\"y\":[138,7],\"type\":\"bar\",\"xaxis\":\"x\",\"yaxis\":\"y\"},{\"name\":\"28\",\"x\":[0,1],\"y\":[142,4],\"type\":\"bar\",\"xaxis\":\"x\",\"yaxis\":\"y\"},{\"name\":\"29\",\"x\":[0,1],\"y\":[142,4],\"type\":\"bar\",\"xaxis\":\"x\",\"yaxis\":\"y\"},{\"name\":\"30\",\"x\":[0,1],\"y\":[142,5],\"type\":\"bar\",\"xaxis\":\"x\",\"yaxis\":\"y\"},{\"name\":\"31\",\"x\":[0,1],\"y\":[135,9],\"type\":\"bar\",\"xaxis\":\"x\",\"yaxis\":\"y\"},{\"name\":\"32\",\"x\":[0,1],\"y\":[140,6],\"type\":\"bar\",\"xaxis\":\"x\",\"yaxis\":\"y\"},{\"name\":\"33\",\"x\":[0,1],\"y\":[120,26],\"type\":\"bar\",\"xaxis\":\"x\",\"yaxis\":\"y\"},{\"name\":\"34\",\"x\":[0,1],\"y\":[114,32],\"type\":\"bar\",\"xaxis\":\"x\",\"yaxis\":\"y\"},{\"name\":\"35\",\"x\":[0,1],\"y\":[104,44],\"type\":\"bar\",\"xaxis\":\"x\",\"yaxis\":\"y\"},{\"name\":\"36\",\"x\":[0,1],\"y\":[111,32],\"type\":\"bar\",\"xaxis\":\"x\",\"yaxis\":\"y\"},{\"name\":\"37\",\"x\":[0,1],\"y\":[115,31],\"type\":\"bar\",\"xaxis\":\"x\",\"yaxis\":\"y\"},{\"name\":\"38\",\"x\":[0,1],\"y\":[120,26],\"type\":\"bar\",\"xaxis\":\"x\",\"yaxis\":\"y\"},{\"name\":\"39\",\"x\":[0,1],\"y\":[141,5],\"type\":\"bar\",\"xaxis\":\"x\",\"yaxis\":\"y\"},{\"name\":\"40\",\"x\":[0,1],\"y\":[132,13],\"type\":\"bar\",\"xaxis\":\"x\",\"yaxis\":\"y\"},{\"name\":\"41\",\"x\":[0,1],\"y\":[140,6],\"type\":\"bar\",\"xaxis\":\"x\",\"yaxis\":\"y\"},{\"name\":\"42\",\"x\":[0,1],\"y\":[139,7],\"type\":\"bar\",\"xaxis\":\"x\",\"yaxis\":\"y\"},{\"name\":\"43\",\"x\":[0,1],\"y\":[132,15],\"type\":\"bar\",\"xaxis\":\"x\",\"yaxis\":\"y\"},{\"name\":\"44\",\"x\":[0,1],\"y\":[94,51],\"type\":\"bar\",\"xaxis\":\"x\",\"yaxis\":\"y\"},{\"name\":\"45\",\"x\":[0,1],\"y\":[108,37],\"type\":\"bar\",\"xaxis\":\"x\",\"yaxis\":\"y\"},{\"name\":\"46\",\"x\":[0,1],\"y\":[124,22],\"type\":\"bar\",\"xaxis\":\"x\",\"yaxis\":\"y\"},{\"name\":\"47\",\"x\":[0,1],\"y\":[135,11],\"type\":\"bar\",\"xaxis\":\"x\",\"yaxis\":\"y\"},{\"name\":\"48\",\"x\":[0,1],\"y\":[123,23],\"type\":\"bar\",\"xaxis\":\"x\",\"yaxis\":\"y\"},{\"name\":\"49\",\"x\":[0,1],\"y\":[116,30],\"type\":\"bar\",\"xaxis\":\"x\",\"yaxis\":\"y\"},{\"name\":\"0\",\"x\":[0,1],\"y\":[733,17],\"type\":\"bar\",\"xaxis\":\"x2\",\"yaxis\":\"y2\"},{\"name\":\"1\",\"x\":[0,1],\"y\":[676,32],\"type\":\"bar\",\"xaxis\":\"x2\",\"yaxis\":\"y2\"},{\"name\":\"2\",\"x\":[0,1],\"y\":[701,62],\"type\":\"bar\",\"xaxis\":\"x2\",\"yaxis\":\"y2\"},{\"name\":\"3\",\"x\":[0,1],\"y\":[669,47],\"type\":\"bar\",\"xaxis\":\"x2\",\"yaxis\":\"y2\"},{\"name\":\"4\",\"x\":[0,1],\"y\":[653,74],\"type\":\"bar\",\"xaxis\":\"x2\",\"yaxis\":\"y2\"},{\"name\":\"5\",\"x\":[0,1],\"y\":[693,66],\"type\":\"bar\",\"xaxis\":\"x2\",\"yaxis\":\"y2\"},{\"name\":\"6\",\"x\":[0,1],\"y\":[820,79],\"type\":\"bar\",\"xaxis\":\"x2\",\"yaxis\":\"y2\"},{\"name\":\"7\",\"x\":[0,1],\"y\":[477,35],\"type\":\"bar\",\"xaxis\":\"x2\",\"yaxis\":\"y2\"},{\"name\":\"8\",\"x\":[0,1],\"y\":[724,230],\"type\":\"bar\",\"xaxis\":\"x2\",\"yaxis\":\"y2\"},{\"name\":\"9\",\"x\":[0,1],\"y\":[312,190],\"type\":\"bar\",\"xaxis\":\"x2\",\"yaxis\":\"y2\"},{\"name\":\"1\",\"x\":[0,1],\"y\":[2281,308],\"type\":\"bar\",\"xaxis\":\"x3\",\"yaxis\":\"y3\"},{\"name\":\"2\",\"x\":[0,1],\"y\":[1632,204],\"type\":\"bar\",\"xaxis\":\"x3\",\"yaxis\":\"y3\"},{\"name\":\"3\",\"x\":[0,1],\"y\":[839,82],\"type\":\"bar\",\"xaxis\":\"x3\",\"yaxis\":\"y3\"},{\"name\":\"4\",\"x\":[0,1],\"y\":[284,41],\"type\":\"bar\",\"xaxis\":\"x3\",\"yaxis\":\"y3\"},{\"name\":\"5\",\"x\":[0,1],\"y\":[285,35],\"type\":\"bar\",\"xaxis\":\"x3\",\"yaxis\":\"y3\"},{\"name\":\"6\",\"x\":[0,1],\"y\":[260,33],\"type\":\"bar\",\"xaxis\":\"x3\",\"yaxis\":\"y3\"},{\"name\":\"7\",\"x\":[0,1],\"y\":[299,54],\"type\":\"bar\",\"xaxis\":\"x3\",\"yaxis\":\"y3\"},{\"name\":\"8\",\"x\":[0,1],\"y\":[269,45],\"type\":\"bar\",\"xaxis\":\"x3\",\"yaxis\":\"y3\"},{\"name\":\"9\",\"x\":[0,1],\"y\":[309,30],\"type\":\"bar\",\"xaxis\":\"x3\",\"yaxis\":\"y3\"},{\"name\":\"0\",\"x\":[0,1],\"y\":[1483,461],\"type\":\"bar\",\"xaxis\":\"x4\",\"yaxis\":\"y4\"},{\"name\":\"1\",\"x\":[0,1],\"y\":[201,42],\"type\":\"bar\",\"xaxis\":\"x4\",\"yaxis\":\"y4\"},{\"name\":\"2\",\"x\":[0,1],\"y\":[222,21],\"type\":\"bar\",\"xaxis\":\"x4\",\"yaxis\":\"y4\"},{\"name\":\"3\",\"x\":[0,1],\"y\":[220,23],\"type\":\"bar\",\"xaxis\":\"x4\",\"yaxis\":\"y4\"},{\"name\":\"4\",\"x\":[0,1],\"y\":[220,23],\"type\":\"bar\",\"xaxis\":\"x4\",\"yaxis\":\"y4\"},{\"name\":\"5\",\"x\":[0,1],\"y\":[224,20],\"type\":\"bar\",\"xaxis\":\"x4\",\"yaxis\":\"y4\"},{\"name\":\"6\",\"x\":[0,1],\"y\":[217,25],\"type\":\"bar\",\"xaxis\":\"x4\",\"yaxis\":\"y4\"},{\"name\":\"7\",\"x\":[0,1],\"y\":[225,18],\"type\":\"bar\",\"xaxis\":\"x4\",\"yaxis\":\"y4\"},{\"name\":\"8\",\"x\":[0,1],\"y\":[225,18],\"type\":\"bar\",\"xaxis\":\"x4\",\"yaxis\":\"y4\"},{\"name\":\"9\",\"x\":[0,1],\"y\":[227,16],\"type\":\"bar\",\"xaxis\":\"x4\",\"yaxis\":\"y4\"},{\"name\":\"10\",\"x\":[0,1],\"y\":[227,16],\"type\":\"bar\",\"xaxis\":\"x4\",\"yaxis\":\"y4\"},{\"name\":\"11\",\"x\":[0,1],\"y\":[226,17],\"type\":\"bar\",\"xaxis\":\"x4\",\"yaxis\":\"y4\"},{\"name\":\"12\",\"x\":[0,1],\"y\":[219,24],\"type\":\"bar\",\"xaxis\":\"x4\",\"yaxis\":\"y4\"},{\"name\":\"13\",\"x\":[0,1],\"y\":[226,17],\"type\":\"bar\",\"xaxis\":\"x4\",\"yaxis\":\"y4\"},{\"name\":\"14\",\"x\":[0,1],\"y\":[223,20],\"type\":\"bar\",\"xaxis\":\"x4\",\"yaxis\":\"y4\"},{\"name\":\"15\",\"x\":[0,1],\"y\":[234,9],\"type\":\"bar\",\"xaxis\":\"x4\",\"yaxis\":\"y4\"},{\"name\":\"16\",\"x\":[0,1],\"y\":[234,9],\"type\":\"bar\",\"xaxis\":\"x4\",\"yaxis\":\"y4\"},{\"name\":\"17\",\"x\":[0,1],\"y\":[227,16],\"type\":\"bar\",\"xaxis\":\"x4\",\"yaxis\":\"y4\"},{\"name\":\"18\",\"x\":[0,1],\"y\":[235,8],\"type\":\"bar\",\"xaxis\":\"x4\",\"yaxis\":\"y4\"},{\"name\":\"19\",\"x\":[0,1],\"y\":[235,8],\"type\":\"bar\",\"xaxis\":\"x4\",\"yaxis\":\"y4\"},{\"name\":\"20\",\"x\":[0,1],\"y\":[239,4],\"type\":\"bar\",\"xaxis\":\"x4\",\"yaxis\":\"y4\"},{\"name\":\"21\",\"x\":[0,1],\"y\":[230,13],\"type\":\"bar\",\"xaxis\":\"x4\",\"yaxis\":\"y4\"},{\"name\":\"22\",\"x\":[0,1],\"y\":[239,4],\"type\":\"bar\",\"xaxis\":\"x4\",\"yaxis\":\"y4\"},{\"name\":\"0\",\"x\":[0,1],\"y\":[4060,327],\"type\":\"bar\",\"xaxis\":\"x5\",\"yaxis\":\"y5\"},{\"name\":\"1\",\"x\":[0,1],\"y\":[1961,271],\"type\":\"bar\",\"xaxis\":\"x5\",\"yaxis\":\"y5\"},{\"name\":\"2\",\"x\":[0,1],\"y\":[437,234],\"type\":\"bar\",\"xaxis\":\"x5\",\"yaxis\":\"y5\"},{\"name\":\"0\",\"x\":[0,1],\"y\":[1410,458],\"type\":\"bar\",\"xaxis\":\"x6\",\"yaxis\":\"y6\"},{\"name\":\"1\",\"x\":[0,1],\"y\":[4255,281],\"type\":\"bar\",\"xaxis\":\"x6\",\"yaxis\":\"y6\"},{\"name\":\"2\",\"x\":[0,1],\"y\":[297,41],\"type\":\"bar\",\"xaxis\":\"x6\",\"yaxis\":\"y6\"},{\"name\":\"3\",\"x\":[0,1],\"y\":[205,14],\"type\":\"bar\",\"xaxis\":\"x6\",\"yaxis\":\"y6\"},{\"name\":\"4\",\"x\":[0,1],\"y\":[291,38],\"type\":\"bar\",\"xaxis\":\"x6\",\"yaxis\":\"y6\"},{\"name\":\"0\",\"x\":[0,1],\"y\":[2418,197],\"type\":\"bar\",\"xaxis\":\"x7\",\"yaxis\":\"y7\"},{\"name\":\"1\",\"x\":[0,1],\"y\":[550,30],\"type\":\"bar\",\"xaxis\":\"x7\",\"yaxis\":\"y7\"},{\"name\":\"2\",\"x\":[0,1],\"y\":[191,15],\"type\":\"bar\",\"xaxis\":\"x7\",\"yaxis\":\"y7\"},{\"name\":\"3\",\"x\":[0,1],\"y\":[186,15],\"type\":\"bar\",\"xaxis\":\"x7\",\"yaxis\":\"y7\"},{\"name\":\"4\",\"x\":[0,1],\"y\":[725,94],\"type\":\"bar\",\"xaxis\":\"x7\",\"yaxis\":\"y7\"},{\"name\":\"5\",\"x\":[0,1],\"y\":[159,13],\"type\":\"bar\",\"xaxis\":\"x7\",\"yaxis\":\"y7\"},{\"name\":\"6\",\"x\":[0,1],\"y\":[681,93],\"type\":\"bar\",\"xaxis\":\"x7\",\"yaxis\":\"y7\"},{\"name\":\"7\",\"x\":[0,1],\"y\":[168,20],\"type\":\"bar\",\"xaxis\":\"x7\",\"yaxis\":\"y7\"},{\"name\":\"8\",\"x\":[0,1],\"y\":[237,26],\"type\":\"bar\",\"xaxis\":\"x7\",\"yaxis\":\"y7\"},{\"name\":\"9\",\"x\":[0,1],\"y\":[198,13],\"type\":\"bar\",\"xaxis\":\"x7\",\"yaxis\":\"y7\"},{\"name\":\"10\",\"x\":[0,1],\"y\":[230,115],\"type\":\"bar\",\"xaxis\":\"x7\",\"yaxis\":\"y7\"},{\"name\":\"11\",\"x\":[0,1],\"y\":[82,12],\"type\":\"bar\",\"xaxis\":\"x7\",\"yaxis\":\"y7\"},{\"name\":\"12\",\"x\":[0,1],\"y\":[129,56],\"type\":\"bar\",\"xaxis\":\"x7\",\"yaxis\":\"y7\"},{\"name\":\"13\",\"x\":[0,1],\"y\":[83,17],\"type\":\"bar\",\"xaxis\":\"x7\",\"yaxis\":\"y7\"},{\"name\":\"14\",\"x\":[0,1],\"y\":[141,41],\"type\":\"bar\",\"xaxis\":\"x7\",\"yaxis\":\"y7\"},{\"name\":\"15\",\"x\":[0,1],\"y\":[187,26],\"type\":\"bar\",\"xaxis\":\"x7\",\"yaxis\":\"y7\"},{\"name\":\"16\",\"x\":[0,1],\"y\":[93,49],\"type\":\"bar\",\"xaxis\":\"x7\",\"yaxis\":\"y7\"},{\"name\":\"0\",\"x\":[0,1],\"y\":[1530,455],\"type\":\"bar\",\"xaxis\":\"x8\",\"yaxis\":\"y8\"},{\"name\":\"1\",\"x\":[0,1],\"y\":[3908,300],\"type\":\"bar\",\"xaxis\":\"x8\",\"yaxis\":\"y8\"},{\"name\":\"2\",\"x\":[0,1],\"y\":[1020,77],\"type\":\"bar\",\"xaxis\":\"x8\",\"yaxis\":\"y8\"},{\"name\":\"0\",\"x\":[0,1],\"y\":[1411,81],\"type\":\"bar\",\"xaxis\":\"x9\",\"yaxis\":\"y9\"},{\"name\":\"1\",\"x\":[0,1],\"y\":[1358,73],\"type\":\"bar\",\"xaxis\":\"x9\",\"yaxis\":\"y9\"},{\"name\":\"2\",\"x\":[0,1],\"y\":[1352,114],\"type\":\"bar\",\"xaxis\":\"x9\",\"yaxis\":\"y9\"},{\"name\":\"3\",\"x\":[0,1],\"y\":[1301,224],\"type\":\"bar\",\"xaxis\":\"x9\",\"yaxis\":\"y9\"},{\"name\":\"4\",\"x\":[0,1],\"y\":[1036,340],\"type\":\"bar\",\"xaxis\":\"x9\",\"yaxis\":\"y9\"},{\"name\":\"61.740257613579175\",\"x\":[0,1],\"y\":[3,2],\"type\":\"bar\",\"xaxis\":\"x10\",\"yaxis\":\"y10\"},{\"name\":\"160.2205358584099\",\"x\":[0,1],\"y\":[5,2],\"type\":\"bar\",\"xaxis\":\"x10\",\"yaxis\":\"y10\"},{\"name\":\"876.3795920458724\",\"x\":[0],\"y\":[14],\"type\":\"bar\",\"xaxis\":\"x10\",\"yaxis\":\"y10\"},{\"name\":\"902.6242459833886\",\"x\":[0],\"y\":[20],\"type\":\"bar\",\"xaxis\":\"x10\",\"yaxis\":\"y10\"},{\"name\":\"2675.943653957937\",\"x\":[0,1],\"y\":[24,2],\"type\":\"bar\",\"xaxis\":\"x10\",\"yaxis\":\"y10\"},{\"name\":\"2689.934155359246\",\"x\":[0],\"y\":[6],\"type\":\"bar\",\"xaxis\":\"x10\",\"yaxis\":\"y10\"},{\"name\":\"3458.978576302509\",\"x\":[0,1],\"y\":[13,2],\"type\":\"bar\",\"xaxis\":\"x10\",\"yaxis\":\"y10\"},{\"name\":\"4065.563368223829\",\"x\":[0],\"y\":[15],\"type\":\"bar\",\"xaxis\":\"x10\",\"yaxis\":\"y10\"},{\"name\":\"5251.826523042238\",\"x\":[0,1],\"y\":[10,2],\"type\":\"bar\",\"xaxis\":\"x10\",\"yaxis\":\"y10\"},{\"name\":\"7961.644802797324\",\"x\":[0,1],\"y\":[16,2],\"type\":\"bar\",\"xaxis\":\"x10\",\"yaxis\":\"y10\"},{\"name\":\"8670.098294033827\",\"x\":[0],\"y\":[13],\"type\":\"bar\",\"xaxis\":\"x10\",\"yaxis\":\"y10\"},{\"name\":\"9773.764905623919\",\"x\":[0],\"y\":[17],\"type\":\"bar\",\"xaxis\":\"x10\",\"yaxis\":\"y10\"},{\"name\":\"11986.544367800429\",\"x\":[0,1],\"y\":[21,3],\"type\":\"bar\",\"xaxis\":\"x10\",\"yaxis\":\"y10\"},{\"name\":\"12683.72062341066\",\"x\":[0,1],\"y\":[16,2],\"type\":\"bar\",\"xaxis\":\"x10\",\"yaxis\":\"y10\"},{\"name\":\"13121.066985073556\",\"x\":[0,1],\"y\":[20,3],\"type\":\"bar\",\"xaxis\":\"x10\",\"yaxis\":\"y10\"},{\"name\":\"14230.369758797948\",\"x\":[0,1],\"y\":[8,4],\"type\":\"bar\",\"xaxis\":\"x10\",\"yaxis\":\"y10\"},{\"name\":\"14258.770890830372\",\"x\":[0,1],\"y\":[16,1],\"type\":\"bar\",\"xaxis\":\"x10\",\"yaxis\":\"y10\"},{\"name\":\"14458.807177325587\",\"x\":[0,1],\"y\":[15,2],\"type\":\"bar\",\"xaxis\":\"x10\",\"yaxis\":\"y10\"},{\"name\":\"16846.494640963152\",\"x\":[0],\"y\":[17],\"type\":\"bar\",\"xaxis\":\"x10\",\"yaxis\":\"y10\"},{\"name\":\"17052.273384976757\",\"x\":[0],\"y\":[15],\"type\":\"bar\",\"xaxis\":\"x10\",\"yaxis\":\"y10\"},{\"name\":\"18289.74253712594\",\"x\":[0],\"y\":[17],\"type\":\"bar\",\"xaxis\":\"x10\",\"yaxis\":\"y10\"},{\"name\":\"19703.109716175863\",\"x\":[0,1],\"y\":[18,2],\"type\":\"bar\",\"xaxis\":\"x10\",\"yaxis\":\"y10\"},{\"name\":\"19936.700964435913\",\"x\":[0,1],\"y\":[23,4],\"type\":\"bar\",\"xaxis\":\"x10\",\"yaxis\":\"y10\"},{\"name\":\"20384.557691659025\",\"x\":[0,1],\"y\":[7,4],\"type\":\"bar\",\"xaxis\":\"x10\",\"yaxis\":\"y10\"},{\"name\":\"20740.48574369615\",\"x\":[0,1],\"y\":[158,9],\"type\":\"bar\",\"xaxis\":\"x10\",\"yaxis\":\"y10\"},{\"name\":\"21552.447991234883\",\"x\":[0,1],\"y\":[29,2],\"type\":\"bar\",\"xaxis\":\"x10\",\"yaxis\":\"y10\"},{\"name\":\"22297.90618811552\",\"x\":[0,1],\"y\":[17,4],\"type\":\"bar\",\"xaxis\":\"x10\",\"yaxis\":\"y10\"},{\"name\":\"22788.018320264535\",\"x\":[0,1],\"y\":[14,3],\"type\":\"bar\",\"xaxis\":\"x10\",\"yaxis\":\"y10\"},{\"name\":\"24732.463156143618\",\"x\":[0,1],\"y\":[17,1],\"type\":\"bar\",\"xaxis\":\"x10\",\"yaxis\":\"y10\"},{\"name\":\"25773.01854897791\",\"x\":[0,1],\"y\":[10,3],\"type\":\"bar\",\"xaxis\":\"x10\",\"yaxis\":\"y10\"},{\"name\":\"25952.8580284565\",\"x\":[0,1],\"y\":[25,2],\"type\":\"bar\",\"xaxis\":\"x10\",\"yaxis\":\"y10\"},{\"name\":\"25968.413780817224\",\"x\":[0,1],\"y\":[36,4],\"type\":\"bar\",\"xaxis\":\"x10\",\"yaxis\":\"y10\"},{\"name\":\"27099.370847897233\",\"x\":[0,1],\"y\":[91,9],\"type\":\"bar\",\"xaxis\":\"x10\",\"yaxis\":\"y10\"},{\"name\":\"27173.020913632863\",\"x\":[0,1],\"y\":[16,2],\"type\":\"bar\",\"xaxis\":\"x10\",\"yaxis\":\"y10\"},{\"name\":\"29029.380993233717\",\"x\":[0,1],\"y\":[19,2],\"type\":\"bar\",\"xaxis\":\"x10\",\"yaxis\":\"y10\"},{\"name\":\"29051.288223517524\",\"x\":[0,1],\"y\":[138,21],\"type\":\"bar\",\"xaxis\":\"x10\",\"yaxis\":\"y10\"},{\"name\":\"29077.07744507761\",\"x\":[0,1],\"y\":[153,15],\"type\":\"bar\",\"xaxis\":\"x10\",\"yaxis\":\"y10\"},{\"name\":\"29135.20089095841\",\"x\":[0,1],\"y\":[156,19],\"type\":\"bar\",\"xaxis\":\"x10\",\"yaxis\":\"y10\"},{\"name\":\"30359.254723327715\",\"x\":[0,1],\"y\":[23,1],\"type\":\"bar\",\"xaxis\":\"x10\",\"yaxis\":\"y10\"},{\"name\":\"30782.567844792597\",\"x\":[0,1],\"y\":[28,5],\"type\":\"bar\",\"xaxis\":\"x10\",\"yaxis\":\"y10\"},{\"name\":\"30968.032442438798\",\"x\":[0,1],\"y\":[14,2],\"type\":\"bar\",\"xaxis\":\"x10\",\"yaxis\":\"y10\"},{\"name\":\"31003.194799647274\",\"x\":[0,1],\"y\":[25,7],\"type\":\"bar\",\"xaxis\":\"x10\",\"yaxis\":\"y10\"},{\"name\":\"31657.02505431346\",\"x\":[0,1],\"y\":[14,1],\"type\":\"bar\",\"xaxis\":\"x10\",\"yaxis\":\"y10\"},{\"name\":\"32083.508992415664\",\"x\":[0,1],\"y\":[28,3],\"type\":\"bar\",\"xaxis\":\"x10\",\"yaxis\":\"y10\"},{\"name\":\"32097.82713194976\",\"x\":[0,1],\"y\":[24,1],\"type\":\"bar\",\"xaxis\":\"x10\",\"yaxis\":\"y10\"},{\"name\":\"32318.188203281752\",\"x\":[0,1],\"y\":[94,12],\"type\":\"bar\",\"xaxis\":\"x10\",\"yaxis\":\"y10\"},{\"name\":\"33556.72392914853\",\"x\":[0,1],\"y\":[9,5],\"type\":\"bar\",\"xaxis\":\"x10\",\"yaxis\":\"y10\"},{\"name\":\"34174.955614879815\",\"x\":[0,1],\"y\":[15,4],\"type\":\"bar\",\"xaxis\":\"x10\",\"yaxis\":\"y10\"},{\"name\":\"34894.34312658323\",\"x\":[0,1],\"y\":[23,5],\"type\":\"bar\",\"xaxis\":\"x10\",\"yaxis\":\"y10\"},{\"name\":\"34930.846896670155\",\"x\":[0,1],\"y\":[120,15],\"type\":\"bar\",\"xaxis\":\"x10\",\"yaxis\":\"y10\"},{\"name\":\"35097.890552660734\",\"x\":[0,1],\"y\":[11,3],\"type\":\"bar\",\"xaxis\":\"x10\",\"yaxis\":\"y10\"},{\"name\":\"35131.637100069835\",\"x\":[0,1],\"y\":[125,11],\"type\":\"bar\",\"xaxis\":\"x10\",\"yaxis\":\"y10\"},{\"name\":\"35800.233218944064\",\"x\":[0,1],\"y\":[13,1],\"type\":\"bar\",\"xaxis\":\"x10\",\"yaxis\":\"y10\"},{\"name\":\"35832.35687825077\",\"x\":[0,1],\"y\":[24,6],\"type\":\"bar\",\"xaxis\":\"x10\",\"yaxis\":\"y10\"},{\"name\":\"36394.140949070614\",\"x\":[0,1],\"y\":[23,2],\"type\":\"bar\",\"xaxis\":\"x10\",\"yaxis\":\"y10\"},{\"name\":\"36650.3548715426\",\"x\":[0,1],\"y\":[143,16],\"type\":\"bar\",\"xaxis\":\"x10\",\"yaxis\":\"y10\"},{\"name\":\"37029.004430688496\",\"x\":[0,1],\"y\":[7,1],\"type\":\"bar\",\"xaxis\":\"x10\",\"yaxis\":\"y10\"},{\"name\":\"37039.36920371687\",\"x\":[0,1],\"y\":[15,2],\"type\":\"bar\",\"xaxis\":\"x10\",\"yaxis\":\"y10\"},{\"name\":\"37239.81895259285\",\"x\":[0],\"y\":[24],\"type\":\"bar\",\"xaxis\":\"x10\",\"yaxis\":\"y10\"},{\"name\":\"37310.83867015688\",\"x\":[0,1],\"y\":[87,11],\"type\":\"bar\",\"xaxis\":\"x10\",\"yaxis\":\"y10\"},{\"name\":\"37629.26106767859\",\"x\":[0,1],\"y\":[29,3],\"type\":\"bar\",\"xaxis\":\"x10\",\"yaxis\":\"y10\"},{\"name\":\"37679.953267515404\",\"x\":[0,1],\"y\":[146,26],\"type\":\"bar\",\"xaxis\":\"x10\",\"yaxis\":\"y10\"},{\"name\":\"37849.83464249815\",\"x\":[0,1],\"y\":[150,23],\"type\":\"bar\",\"xaxis\":\"x10\",\"yaxis\":\"y10\"},{\"name\":\"38216.374938710396\",\"x\":[0,1],\"y\":[20,1],\"type\":\"bar\",\"xaxis\":\"x10\",\"yaxis\":\"y10\"},{\"name\":\"38713.05776488543\",\"x\":[0,1],\"y\":[89,7],\"type\":\"bar\",\"xaxis\":\"x10\",\"yaxis\":\"y10\"},{\"name\":\"38754.8476322816\",\"x\":[0,1],\"y\":[134,17],\"type\":\"bar\",\"xaxis\":\"x10\",\"yaxis\":\"y10\"},{\"name\":\"39691.473729797974\",\"x\":[0],\"y\":[14],\"type\":\"bar\",\"xaxis\":\"x10\",\"yaxis\":\"y10\"},{\"name\":\"39784.97938655673\",\"x\":[0,1],\"y\":[93,11],\"type\":\"bar\",\"xaxis\":\"x10\",\"yaxis\":\"y10\"},{\"name\":\"39941.647143081536\",\"x\":[0,1],\"y\":[16,1],\"type\":\"bar\",\"xaxis\":\"x10\",\"yaxis\":\"y10\"},{\"name\":\"40301.50120105917\",\"x\":[0,1],\"y\":[118,12],\"type\":\"bar\",\"xaxis\":\"x10\",\"yaxis\":\"y10\"},{\"name\":\"40486.4358064964\",\"x\":[0,1],\"y\":[23,3],\"type\":\"bar\",\"xaxis\":\"x10\",\"yaxis\":\"y10\"},{\"name\":\"40835.12749805616\",\"x\":[0,1],\"y\":[112,22],\"type\":\"bar\",\"xaxis\":\"x10\",\"yaxis\":\"y10\"},{\"name\":\"40835.98239165123\",\"x\":[0,1],\"y\":[26,2],\"type\":\"bar\",\"xaxis\":\"x10\",\"yaxis\":\"y10\"},{\"name\":\"40859.531228131105\",\"x\":[0,1],\"y\":[138,13],\"type\":\"bar\",\"xaxis\":\"x10\",\"yaxis\":\"y10\"},{\"name\":\"41175.73181447042\",\"x\":[0,1],\"y\":[13,2],\"type\":\"bar\",\"xaxis\":\"x10\",\"yaxis\":\"y10\"},{\"name\":\"41721.282223950926\",\"x\":[0,1],\"y\":[15,1],\"type\":\"bar\",\"xaxis\":\"x10\",\"yaxis\":\"y10\"},{\"name\":\"42031.99792329413\",\"x\":[0,1],\"y\":[191,19],\"type\":\"bar\",\"xaxis\":\"x10\",\"yaxis\":\"y10\"},{\"name\":\"42719.65288899306\",\"x\":[0,1],\"y\":[128,6],\"type\":\"bar\",\"xaxis\":\"x10\",\"yaxis\":\"y10\"},{\"name\":\"43661.28990082978\",\"x\":[0,1],\"y\":[92,13],\"type\":\"bar\",\"xaxis\":\"x10\",\"yaxis\":\"y10\"},{\"name\":\"44016.695503422605\",\"x\":[0,1],\"y\":[23,1],\"type\":\"bar\",\"xaxis\":\"x10\",\"yaxis\":\"y10\"},{\"name\":\"44068.52269421476\",\"x\":[0,1],\"y\":[146,19],\"type\":\"bar\",\"xaxis\":\"x10\",\"yaxis\":\"y10\"},{\"name\":\"44345.23059228192\",\"x\":[0],\"y\":[10],\"type\":\"bar\",\"xaxis\":\"x10\",\"yaxis\":\"y10\"},{\"name\":\"44548.91199117676\",\"x\":[0,1],\"y\":[104,18],\"type\":\"bar\",\"xaxis\":\"x10\",\"yaxis\":\"y10\"},{\"name\":\"44647.12251017318\",\"x\":[0,1],\"y\":[124,19],\"type\":\"bar\",\"xaxis\":\"x10\",\"yaxis\":\"y10\"},{\"name\":\"46016.81443433388\",\"x\":[0,1],\"y\":[167,20],\"type\":\"bar\",\"xaxis\":\"x10\",\"yaxis\":\"y10\"},{\"name\":\"46376.37758194826\",\"x\":[0,1],\"y\":[18,1],\"type\":\"bar\",\"xaxis\":\"x10\",\"yaxis\":\"y10\"},{\"name\":\"46893.10165989941\",\"x\":[0,1],\"y\":[113,15],\"type\":\"bar\",\"xaxis\":\"x10\",\"yaxis\":\"y10\"},{\"name\":\"47009.916880725315\",\"x\":[0,1],\"y\":[18,2],\"type\":\"bar\",\"xaxis\":\"x10\",\"yaxis\":\"y10\"},{\"name\":\"47663.0894291491\",\"x\":[0,1],\"y\":[31,2],\"type\":\"bar\",\"xaxis\":\"x10\",\"yaxis\":\"y10\"},{\"name\":\"48118.68551185624\",\"x\":[0,1],\"y\":[126,9],\"type\":\"bar\",\"xaxis\":\"x10\",\"yaxis\":\"y10\"},{\"name\":\"48814.223960170166\",\"x\":[0,1],\"y\":[15,1],\"type\":\"bar\",\"xaxis\":\"x10\",\"yaxis\":\"y10\"},{\"name\":\"49161.753442645524\",\"x\":[0,1],\"y\":[179,18],\"type\":\"bar\",\"xaxis\":\"x10\",\"yaxis\":\"y10\"},{\"name\":\"49575.99098570083\",\"x\":[0,1],\"y\":[22,1],\"type\":\"bar\",\"xaxis\":\"x10\",\"yaxis\":\"y10\"},{\"name\":\"49589.5011678787\",\"x\":[0,1],\"y\":[20,1],\"type\":\"bar\",\"xaxis\":\"x10\",\"yaxis\":\"y10\"},{\"name\":\"50595.40438610882\",\"x\":[0,1],\"y\":[21,5],\"type\":\"bar\",\"xaxis\":\"x10\",\"yaxis\":\"y10\"},{\"name\":\"50631.16421645631\",\"x\":[0,1],\"y\":[22,6],\"type\":\"bar\",\"xaxis\":\"x10\",\"yaxis\":\"y10\"},{\"name\":\"50803.92930990942\",\"x\":[0,1],\"y\":[26,3],\"type\":\"bar\",\"xaxis\":\"x10\",\"yaxis\":\"y10\"},{\"name\":\"50943.559381448846\",\"x\":[0,1],\"y\":[23,5],\"type\":\"bar\",\"xaxis\":\"x10\",\"yaxis\":\"y10\"},{\"name\":\"51733.99358598979\",\"x\":[0,1],\"y\":[23,5],\"type\":\"bar\",\"xaxis\":\"x10\",\"yaxis\":\"y10\"},{\"name\":\"52278.92040314719\",\"x\":[0],\"y\":[22],\"type\":\"bar\",\"xaxis\":\"x10\",\"yaxis\":\"y10\"},{\"name\":\"52286.915727473366\",\"x\":[0,1],\"y\":[78,6],\"type\":\"bar\",\"xaxis\":\"x10\",\"yaxis\":\"y10\"},{\"name\":\"52793.10336161756\",\"x\":[0,1],\"y\":[16,3],\"type\":\"bar\",\"xaxis\":\"x10\",\"yaxis\":\"y10\"},{\"name\":\"53412.57631018842\",\"x\":[0,1],\"y\":[120,14],\"type\":\"bar\",\"xaxis\":\"x10\",\"yaxis\":\"y10\"},{\"name\":\"53594.599564048396\",\"x\":[0,1],\"y\":[122,21],\"type\":\"bar\",\"xaxis\":\"x10\",\"yaxis\":\"y10\"},{\"name\":\"53787.02956642035\",\"x\":[0,1],\"y\":[13,4],\"type\":\"bar\",\"xaxis\":\"x10\",\"yaxis\":\"y10\"},{\"name\":\"53839.79292034878\",\"x\":[0,1],\"y\":[19,2],\"type\":\"bar\",\"xaxis\":\"x10\",\"yaxis\":\"y10\"},{\"name\":\"54607.80263510759\",\"x\":[0,1],\"y\":[184,30],\"type\":\"bar\",\"xaxis\":\"x10\",\"yaxis\":\"y10\"},{\"name\":\"55080.04477256004\",\"x\":[0,1],\"y\":[14,2],\"type\":\"bar\",\"xaxis\":\"x10\",\"yaxis\":\"y10\"},{\"name\":\"55257.22090359607\",\"x\":[0,1],\"y\":[31,7],\"type\":\"bar\",\"xaxis\":\"x10\",\"yaxis\":\"y10\"},{\"name\":\"56077.309706420194\",\"x\":[0,1],\"y\":[20,1],\"type\":\"bar\",\"xaxis\":\"x10\",\"yaxis\":\"y10\"},{\"name\":\"56168.38487692769\",\"x\":[0,1],\"y\":[16,3],\"type\":\"bar\",\"xaxis\":\"x10\",\"yaxis\":\"y10\"},{\"name\":\"56648.54324734238\",\"x\":[0,1],\"y\":[111,11],\"type\":\"bar\",\"xaxis\":\"x10\",\"yaxis\":\"y10\"},{\"name\":\"57569.38429981907\",\"x\":[0,1],\"y\":[21,3],\"type\":\"bar\",\"xaxis\":\"x10\",\"yaxis\":\"y10\"},{\"name\":\"57714.917744988015\",\"x\":[0],\"y\":[19],\"type\":\"bar\",\"xaxis\":\"x10\",\"yaxis\":\"y10\"},{\"name\":\"58127.168434263454\",\"x\":[0,1],\"y\":[7,2],\"type\":\"bar\",\"xaxis\":\"x10\",\"yaxis\":\"y10\"},{\"name\":\"58654.654611857026\",\"x\":[0,1],\"y\":[158,30],\"type\":\"bar\",\"xaxis\":\"x10\",\"yaxis\":\"y10\"},{\"name\":\"59035.746041926155\",\"x\":[0,1],\"y\":[23,3],\"type\":\"bar\",\"xaxis\":\"x10\",\"yaxis\":\"y10\"},{\"name\":\"59541.707447949244\",\"x\":[0,1],\"y\":[31,2],\"type\":\"bar\",\"xaxis\":\"x10\",\"yaxis\":\"y10\"},{\"name\":\"59705.504901204105\",\"x\":[0,1],\"y\":[16,7],\"type\":\"bar\",\"xaxis\":\"x10\",\"yaxis\":\"y10\"},{\"name\":\"60588.96628752273\",\"x\":[0,1],\"y\":[24,6],\"type\":\"bar\",\"xaxis\":\"x10\",\"yaxis\":\"y10\"},{\"name\":\"61918.63660027949\",\"x\":[0,1],\"y\":[96,10],\"type\":\"bar\",\"xaxis\":\"x10\",\"yaxis\":\"y10\"},{\"name\":\"62238.32910265975\",\"x\":[0,1],\"y\":[12,5],\"type\":\"bar\",\"xaxis\":\"x10\",\"yaxis\":\"y10\"},{\"name\":\"62591.31228069838\",\"x\":[0,1],\"y\":[9,2],\"type\":\"bar\",\"xaxis\":\"x10\",\"yaxis\":\"y10\"},{\"name\":\"64077.00510502013\",\"x\":[0,1],\"y\":[25,7],\"type\":\"bar\",\"xaxis\":\"x10\",\"yaxis\":\"y10\"},{\"name\":\"65147.187883022816\",\"x\":[0,1],\"y\":[13,3],\"type\":\"bar\",\"xaxis\":\"x10\",\"yaxis\":\"y10\"},{\"name\":\"65585.8497479081\",\"x\":[0,1],\"y\":[18,1],\"type\":\"bar\",\"xaxis\":\"x10\",\"yaxis\":\"y10\"},{\"name\":\"66250.44976983455\",\"x\":[0,1],\"y\":[20,7],\"type\":\"bar\",\"xaxis\":\"x10\",\"yaxis\":\"y10\"},{\"name\":\"67654.48796277086\",\"x\":[0,1],\"y\":[11,3],\"type\":\"bar\",\"xaxis\":\"x10\",\"yaxis\":\"y10\"},{\"name\":\"68221.59203226543\",\"x\":[0,1],\"y\":[21,3],\"type\":\"bar\",\"xaxis\":\"x10\",\"yaxis\":\"y10\"},{\"name\":\"70711.40306708642\",\"x\":[0,1],\"y\":[63,13],\"type\":\"bar\",\"xaxis\":\"x10\",\"yaxis\":\"y10\"},{\"name\":\"70955.0421911801\",\"x\":[0,1],\"y\":[28,4],\"type\":\"bar\",\"xaxis\":\"x10\",\"yaxis\":\"y10\"},{\"name\":\"73635.04518995226\",\"x\":[0,1],\"y\":[12,1],\"type\":\"bar\",\"xaxis\":\"x10\",\"yaxis\":\"y10\"},{\"name\":\"78580.27290218693\",\"x\":[0,1],\"y\":[21,5],\"type\":\"bar\",\"xaxis\":\"x10\",\"yaxis\":\"y10\"},{\"name\":\"78703.6148190315\",\"x\":[0],\"y\":[11],\"type\":\"bar\",\"xaxis\":\"x10\",\"yaxis\":\"y10\"},{\"name\":\"82232.00365922102\",\"x\":[0,1],\"y\":[14,2],\"type\":\"bar\",\"xaxis\":\"x10\",\"yaxis\":\"y10\"},{\"name\":\"83642.10730653486\",\"x\":[0,1],\"y\":[11,2],\"type\":\"bar\",\"xaxis\":\"x10\",\"yaxis\":\"y10\"},{\"name\":\"87776.62575089544\",\"x\":[0,1],\"y\":[13,2],\"type\":\"bar\",\"xaxis\":\"x10\",\"yaxis\":\"y10\"},{\"name\":\"91856.29743543953\",\"x\":[0,1],\"y\":[23,5],\"type\":\"bar\",\"xaxis\":\"x10\",\"yaxis\":\"y10\"},{\"name\":\"99087.78118579874\",\"x\":[0,1],\"y\":[16,2],\"type\":\"bar\",\"xaxis\":\"x10\",\"yaxis\":\"y10\"},{\"name\":\"99940.29674062539\",\"x\":[0,1],\"y\":[9,2],\"type\":\"bar\",\"xaxis\":\"x10\",\"yaxis\":\"y10\"},{\"name\":\"102841.4564620914\",\"x\":[0,1],\"y\":[14,5],\"type\":\"bar\",\"xaxis\":\"x10\",\"yaxis\":\"y10\"},{\"name\":\"103483.2041376883\",\"x\":[0,1],\"y\":[14,5],\"type\":\"bar\",\"xaxis\":\"x10\",\"yaxis\":\"y10\"},{\"name\":\"139809.76134779482\",\"x\":[0,1],\"y\":[14,3],\"type\":\"bar\",\"xaxis\":\"x10\",\"yaxis\":\"y10\"},{\"name\":\"142289.33236913092\",\"x\":[0,1],\"y\":[10,3],\"type\":\"bar\",\"xaxis\":\"x10\",\"yaxis\":\"y10\"},{\"name\":\"0\",\"x\":[0,1],\"y\":[217,24],\"type\":\"bar\",\"xaxis\":\"x11\",\"yaxis\":\"y11\"},{\"name\":\"1\",\"x\":[0,1],\"y\":[245,28],\"type\":\"bar\",\"xaxis\":\"x11\",\"yaxis\":\"y11\"},{\"name\":\"3\",\"x\":[0,1],\"y\":[225,31],\"type\":\"bar\",\"xaxis\":\"x11\",\"yaxis\":\"y11\"},{\"name\":\"4\",\"x\":[0,1],\"y\":[274,30],\"type\":\"bar\",\"xaxis\":\"x11\",\"yaxis\":\"y11\"},{\"name\":\"5\",\"x\":[0,1],\"y\":[221,37],\"type\":\"bar\",\"xaxis\":\"x11\",\"yaxis\":\"y11\"},{\"name\":\"7\",\"x\":[0,1],\"y\":[220,39],\"type\":\"bar\",\"xaxis\":\"x11\",\"yaxis\":\"y11\"},{\"name\":\"8\",\"x\":[0,1],\"y\":[251,40],\"type\":\"bar\",\"xaxis\":\"x11\",\"yaxis\":\"y11\"},{\"name\":\"9\",\"x\":[0,1],\"y\":[221,43],\"type\":\"bar\",\"xaxis\":\"x11\",\"yaxis\":\"y11\"},{\"name\":\"11\",\"x\":[0,1],\"y\":[204,18],\"type\":\"bar\",\"xaxis\":\"x11\",\"yaxis\":\"y11\"},{\"name\":\"12\",\"x\":[0,1],\"y\":[179,18],\"type\":\"bar\",\"xaxis\":\"x11\",\"yaxis\":\"y11\"},{\"name\":\"14\",\"x\":[0,1],\"y\":[225,18],\"type\":\"bar\",\"xaxis\":\"x11\",\"yaxis\":\"y11\"},{\"name\":\"15\",\"x\":[0,1],\"y\":[204,26],\"type\":\"bar\",\"xaxis\":\"x11\",\"yaxis\":\"y11\"},{\"name\":\"16\",\"x\":[0,1],\"y\":[189,28],\"type\":\"bar\",\"xaxis\":\"x11\",\"yaxis\":\"y11\"},{\"name\":\"18\",\"x\":[0,1],\"y\":[211,26],\"type\":\"bar\",\"xaxis\":\"x11\",\"yaxis\":\"y11\"},{\"name\":\"19\",\"x\":[0,1],\"y\":[188,24],\"type\":\"bar\",\"xaxis\":\"x11\",\"yaxis\":\"y11\"},{\"name\":\"20\",\"x\":[0,1],\"y\":[203,23],\"type\":\"bar\",\"xaxis\":\"x11\",\"yaxis\":\"y11\"},{\"name\":\"22\",\"x\":[0,1],\"y\":[211,22],\"type\":\"bar\",\"xaxis\":\"x11\",\"yaxis\":\"y11\"},{\"name\":\"23\",\"x\":[0,1],\"y\":[189,16],\"type\":\"bar\",\"xaxis\":\"x11\",\"yaxis\":\"y11\"},{\"name\":\"24\",\"x\":[0,1],\"y\":[168,16],\"type\":\"bar\",\"xaxis\":\"x11\",\"yaxis\":\"y11\"},{\"name\":\"26\",\"x\":[0,1],\"y\":[173,22],\"type\":\"bar\",\"xaxis\":\"x11\",\"yaxis\":\"y11\"},{\"name\":\"27\",\"x\":[0,1],\"y\":[165,30],\"type\":\"bar\",\"xaxis\":\"x11\",\"yaxis\":\"y11\"},{\"name\":\"28\",\"x\":[0,1],\"y\":[177,10],\"type\":\"bar\",\"xaxis\":\"x11\",\"yaxis\":\"y11\"},{\"name\":\"30\",\"x\":[0,1],\"y\":[156,27],\"type\":\"bar\",\"xaxis\":\"x11\",\"yaxis\":\"y11\"},{\"name\":\"31\",\"x\":[0,1],\"y\":[170,23],\"type\":\"bar\",\"xaxis\":\"x11\",\"yaxis\":\"y11\"},{\"name\":\"32\",\"x\":[0,1],\"y\":[143,18],\"type\":\"bar\",\"xaxis\":\"x11\",\"yaxis\":\"y11\"},{\"name\":\"34\",\"x\":[0,1],\"y\":[162,25],\"type\":\"bar\",\"xaxis\":\"x11\",\"yaxis\":\"y11\"},{\"name\":\"35\",\"x\":[0,1],\"y\":[132,19],\"type\":\"bar\",\"xaxis\":\"x11\",\"yaxis\":\"y11\"},{\"name\":\"36\",\"x\":[0,1],\"y\":[130,13],\"type\":\"bar\",\"xaxis\":\"x11\",\"yaxis\":\"y11\"},{\"name\":\"38\",\"x\":[0,1],\"y\":[147,20],\"type\":\"bar\",\"xaxis\":\"x11\",\"yaxis\":\"y11\"},{\"name\":\"39\",\"x\":[0,1],\"y\":[151,22],\"type\":\"bar\",\"xaxis\":\"x11\",\"yaxis\":\"y11\"},{\"name\":\"41\",\"x\":[0,1],\"y\":[131,21],\"type\":\"bar\",\"xaxis\":\"x11\",\"yaxis\":\"y11\"},{\"name\":\"42\",\"x\":[0,1],\"y\":[134,18],\"type\":\"bar\",\"xaxis\":\"x11\",\"yaxis\":\"y11\"},{\"name\":\"43\",\"x\":[0,1],\"y\":[99,12],\"type\":\"bar\",\"xaxis\":\"x11\",\"yaxis\":\"y11\"},{\"name\":\"45\",\"x\":[0,1],\"y\":[124,17],\"type\":\"bar\",\"xaxis\":\"x11\",\"yaxis\":\"y11\"},{\"name\":\"46\",\"x\":[0,1],\"y\":[124,12],\"type\":\"bar\",\"xaxis\":\"x11\",\"yaxis\":\"y11\"},{\"name\":\"47\",\"x\":[0,1],\"y\":[95,16],\"type\":\"bar\",\"xaxis\":\"x11\",\"yaxis\":\"y11\"},{\"name\":\"0\",\"x\":[0,1],\"y\":[3362,349],\"type\":\"bar\",\"xaxis\":\"x12\",\"yaxis\":\"y12\"},{\"name\":\"1\",\"x\":[0,1],\"y\":[3096,483],\"type\":\"bar\",\"xaxis\":\"x12\",\"yaxis\":\"y12\"},{\"name\":\"0\",\"x\":[0,1],\"y\":[57,7],\"type\":\"bar\",\"xaxis\":\"x13\",\"yaxis\":\"y13\"},{\"name\":\"1\",\"x\":[0,1],\"y\":[61,9],\"type\":\"bar\",\"xaxis\":\"x13\",\"yaxis\":\"y13\"},{\"name\":\"3\",\"x\":[0,1],\"y\":[61,3],\"type\":\"bar\",\"xaxis\":\"x13\",\"yaxis\":\"y13\"},{\"name\":\"4\",\"x\":[0,1],\"y\":[69,11],\"type\":\"bar\",\"xaxis\":\"x13\",\"yaxis\":\"y13\"},{\"name\":\"5\",\"x\":[0,1],\"y\":[73,5],\"type\":\"bar\",\"xaxis\":\"x13\",\"yaxis\":\"y13\"},{\"name\":\"7\",\"x\":[0,1],\"y\":[56,10],\"type\":\"bar\",\"xaxis\":\"x13\",\"yaxis\":\"y13\"},{\"name\":\"8\",\"x\":[0,1],\"y\":[45,2],\"type\":\"bar\",\"xaxis\":\"x13\",\"yaxis\":\"y13\"},{\"name\":\"9\",\"x\":[0,1],\"y\":[56,8],\"type\":\"bar\",\"xaxis\":\"x13\",\"yaxis\":\"y13\"},{\"name\":\"11\",\"x\":[0,1],\"y\":[57,7],\"type\":\"bar\",\"xaxis\":\"x13\",\"yaxis\":\"y13\"},{\"name\":\"12\",\"x\":[0,1],\"y\":[67,7],\"type\":\"bar\",\"xaxis\":\"x13\",\"yaxis\":\"y13\"},{\"name\":\"14\",\"x\":[0,1],\"y\":[84,12],\"type\":\"bar\",\"xaxis\":\"x13\",\"yaxis\":\"y13\"},{\"name\":\"15\",\"x\":[0,1],\"y\":[69,8],\"type\":\"bar\",\"xaxis\":\"x13\",\"yaxis\":\"y13\"},{\"name\":\"16\",\"x\":[0,1],\"y\":[77,12],\"type\":\"bar\",\"xaxis\":\"x13\",\"yaxis\":\"y13\"},{\"name\":\"18\",\"x\":[0,1],\"y\":[58,7],\"type\":\"bar\",\"xaxis\":\"x13\",\"yaxis\":\"y13\"},{\"name\":\"19\",\"x\":[0,1],\"y\":[60,7],\"type\":\"bar\",\"xaxis\":\"x13\",\"yaxis\":\"y13\"},{\"name\":\"20\",\"x\":[0,1],\"y\":[86,6],\"type\":\"bar\",\"xaxis\":\"x13\",\"yaxis\":\"y13\"},{\"name\":\"22\",\"x\":[0,1],\"y\":[50,6],\"type\":\"bar\",\"xaxis\":\"x13\",\"yaxis\":\"y13\"},{\"name\":\"23\",\"x\":[0,1],\"y\":[78,6],\"type\":\"bar\",\"xaxis\":\"x13\",\"yaxis\":\"y13\"},{\"name\":\"24\",\"x\":[0,1],\"y\":[63,9],\"type\":\"bar\",\"xaxis\":\"x13\",\"yaxis\":\"y13\"},{\"name\":\"26\",\"x\":[0,1],\"y\":[88,4],\"type\":\"bar\",\"xaxis\":\"x13\",\"yaxis\":\"y13\"},{\"name\":\"27\",\"x\":[0,1],\"y\":[72,14],\"type\":\"bar\",\"xaxis\":\"x13\",\"yaxis\":\"y13\"},{\"name\":\"28\",\"x\":[0,1],\"y\":[69,13],\"type\":\"bar\",\"xaxis\":\"x13\",\"yaxis\":\"y13\"},{\"name\":\"30\",\"x\":[0,1],\"y\":[65,7],\"type\":\"bar\",\"xaxis\":\"x13\",\"yaxis\":\"y13\"},{\"name\":\"31\",\"x\":[0,1],\"y\":[62,4],\"type\":\"bar\",\"xaxis\":\"x13\",\"yaxis\":\"y13\"},{\"name\":\"32\",\"x\":[0,1],\"y\":[59,12],\"type\":\"bar\",\"xaxis\":\"x13\",\"yaxis\":\"y13\"},{\"name\":\"34\",\"x\":[0,1],\"y\":[59,13],\"type\":\"bar\",\"xaxis\":\"x13\",\"yaxis\":\"y13\"},{\"name\":\"35\",\"x\":[0,1],\"y\":[56,7],\"type\":\"bar\",\"xaxis\":\"x13\",\"yaxis\":\"y13\"},{\"name\":\"36\",\"x\":[0,1],\"y\":[72,6],\"type\":\"bar\",\"xaxis\":\"x13\",\"yaxis\":\"y13\"},{\"name\":\"38\",\"x\":[0,1],\"y\":[61,16],\"type\":\"bar\",\"xaxis\":\"x13\",\"yaxis\":\"y13\"},{\"name\":\"39\",\"x\":[0,1],\"y\":[66,13],\"type\":\"bar\",\"xaxis\":\"x13\",\"yaxis\":\"y13\"},{\"name\":\"41\",\"x\":[0,1],\"y\":[76,8],\"type\":\"bar\",\"xaxis\":\"x13\",\"yaxis\":\"y13\"},{\"name\":\"42\",\"x\":[0,1],\"y\":[77,8],\"type\":\"bar\",\"xaxis\":\"x13\",\"yaxis\":\"y13\"},{\"name\":\"43\",\"x\":[0,1],\"y\":[68,9],\"type\":\"bar\",\"xaxis\":\"x13\",\"yaxis\":\"y13\"},{\"name\":\"45\",\"x\":[0,1],\"y\":[47,12],\"type\":\"bar\",\"xaxis\":\"x13\",\"yaxis\":\"y13\"},{\"name\":\"46\",\"x\":[0,1],\"y\":[68,13],\"type\":\"bar\",\"xaxis\":\"x13\",\"yaxis\":\"y13\"},{\"name\":\"47\",\"x\":[0,1],\"y\":[80,8],\"type\":\"bar\",\"xaxis\":\"x13\",\"yaxis\":\"y13\"},{\"name\":\"49\",\"x\":[0,1],\"y\":[61,3],\"type\":\"bar\",\"xaxis\":\"x13\",\"yaxis\":\"y13\"},{\"name\":\"50\",\"x\":[0,1],\"y\":[68,9],\"type\":\"bar\",\"xaxis\":\"x13\",\"yaxis\":\"y13\"},{\"name\":\"51\",\"x\":[0,1],\"y\":[73,13],\"type\":\"bar\",\"xaxis\":\"x13\",\"yaxis\":\"y13\"},{\"name\":\"53\",\"x\":[0,1],\"y\":[61,8],\"type\":\"bar\",\"xaxis\":\"x13\",\"yaxis\":\"y13\"},{\"name\":\"54\",\"x\":[0,1],\"y\":[50,16],\"type\":\"bar\",\"xaxis\":\"x13\",\"yaxis\":\"y13\"},{\"name\":\"55\",\"x\":[0,1],\"y\":[64,5],\"type\":\"bar\",\"xaxis\":\"x13\",\"yaxis\":\"y13\"},{\"name\":\"57\",\"x\":[0,1],\"y\":[72,8],\"type\":\"bar\",\"xaxis\":\"x13\",\"yaxis\":\"y13\"},{\"name\":\"58\",\"x\":[0,1],\"y\":[73,9],\"type\":\"bar\",\"xaxis\":\"x13\",\"yaxis\":\"y13\"},{\"name\":\"59\",\"x\":[0,1],\"y\":[86,7],\"type\":\"bar\",\"xaxis\":\"x13\",\"yaxis\":\"y13\"},{\"name\":\"61\",\"x\":[0,1],\"y\":[65,6],\"type\":\"bar\",\"xaxis\":\"x13\",\"yaxis\":\"y13\"},{\"name\":\"62\",\"x\":[0,1],\"y\":[63,13],\"type\":\"bar\",\"xaxis\":\"x13\",\"yaxis\":\"y13\"},{\"name\":\"63\",\"x\":[0,1],\"y\":[70,10],\"type\":\"bar\",\"xaxis\":\"x13\",\"yaxis\":\"y13\"},{\"name\":\"65\",\"x\":[0,1],\"y\":[72,6],\"type\":\"bar\",\"xaxis\":\"x13\",\"yaxis\":\"y13\"},{\"name\":\"66\",\"x\":[0,1],\"y\":[60,12],\"type\":\"bar\",\"xaxis\":\"x13\",\"yaxis\":\"y13\"},{\"name\":\"68\",\"x\":[0,1],\"y\":[91,13],\"type\":\"bar\",\"xaxis\":\"x13\",\"yaxis\":\"y13\"},{\"name\":\"69\",\"x\":[0,1],\"y\":[71,4],\"type\":\"bar\",\"xaxis\":\"x13\",\"yaxis\":\"y13\"},{\"name\":\"70\",\"x\":[0,1],\"y\":[73,6],\"type\":\"bar\",\"xaxis\":\"x13\",\"yaxis\":\"y13\"},{\"name\":\"72\",\"x\":[0,1],\"y\":[61,6],\"type\":\"bar\",\"xaxis\":\"x13\",\"yaxis\":\"y13\"},{\"name\":\"73\",\"x\":[0,1],\"y\":[56,10],\"type\":\"bar\",\"xaxis\":\"x13\",\"yaxis\":\"y13\"},{\"name\":\"74\",\"x\":[0,1],\"y\":[59,11],\"type\":\"bar\",\"xaxis\":\"x13\",\"yaxis\":\"y13\"},{\"name\":\"76\",\"x\":[0,1],\"y\":[84,4],\"type\":\"bar\",\"xaxis\":\"x13\",\"yaxis\":\"y13\"},{\"name\":\"77\",\"x\":[0,1],\"y\":[66,7],\"type\":\"bar\",\"xaxis\":\"x13\",\"yaxis\":\"y13\"},{\"name\":\"78\",\"x\":[0,1],\"y\":[50,11],\"type\":\"bar\",\"xaxis\":\"x13\",\"yaxis\":\"y13\"},{\"name\":\"80\",\"x\":[0,1],\"y\":[105,13],\"type\":\"bar\",\"xaxis\":\"x13\",\"yaxis\":\"y13\"},{\"name\":\"81\",\"x\":[0,1],\"y\":[56,7],\"type\":\"bar\",\"xaxis\":\"x13\",\"yaxis\":\"y13\"},{\"name\":\"82\",\"x\":[0,1],\"y\":[88,15],\"type\":\"bar\",\"xaxis\":\"x13\",\"yaxis\":\"y13\"},{\"name\":\"84\",\"x\":[0,1],\"y\":[75,9],\"type\":\"bar\",\"xaxis\":\"x13\",\"yaxis\":\"y13\"},{\"name\":\"85\",\"x\":[0,1],\"y\":[85,6],\"type\":\"bar\",\"xaxis\":\"x13\",\"yaxis\":\"y13\"},{\"name\":\"86\",\"x\":[0,1],\"y\":[75,7],\"type\":\"bar\",\"xaxis\":\"x13\",\"yaxis\":\"y13\"},{\"name\":\"88\",\"x\":[0,1],\"y\":[61,6],\"type\":\"bar\",\"xaxis\":\"x13\",\"yaxis\":\"y13\"},{\"name\":\"89\",\"x\":[0,1],\"y\":[61,11],\"type\":\"bar\",\"xaxis\":\"x13\",\"yaxis\":\"y13\"},{\"name\":\"90\",\"x\":[0,1],\"y\":[50,7],\"type\":\"bar\",\"xaxis\":\"x13\",\"yaxis\":\"y13\"},{\"name\":\"92\",\"x\":[0,1],\"y\":[64,10],\"type\":\"bar\",\"xaxis\":\"x13\",\"yaxis\":\"y13\"},{\"name\":\"93\",\"x\":[0,1],\"y\":[64,6],\"type\":\"bar\",\"xaxis\":\"x13\",\"yaxis\":\"y13\"},{\"name\":\"95\",\"x\":[0,1],\"y\":[73,10],\"type\":\"bar\",\"xaxis\":\"x13\",\"yaxis\":\"y13\"},{\"name\":\"96\",\"x\":[0,1],\"y\":[74,6],\"type\":\"bar\",\"xaxis\":\"x13\",\"yaxis\":\"y13\"},{\"name\":\"97\",\"x\":[0,1],\"y\":[70,7],\"type\":\"bar\",\"xaxis\":\"x13\",\"yaxis\":\"y13\"},{\"name\":\"99\",\"x\":[0,1],\"y\":[66,6],\"type\":\"bar\",\"xaxis\":\"x13\",\"yaxis\":\"y13\"},{\"name\":\"100\",\"x\":[0,1],\"y\":[64,9],\"type\":\"bar\",\"xaxis\":\"x13\",\"yaxis\":\"y13\"},{\"name\":\"101\",\"x\":[0,1],\"y\":[59,14],\"type\":\"bar\",\"xaxis\":\"x13\",\"yaxis\":\"y13\"},{\"name\":\"103\",\"x\":[0,1],\"y\":[56,10],\"type\":\"bar\",\"xaxis\":\"x13\",\"yaxis\":\"y13\"},{\"name\":\"104\",\"x\":[0,1],\"y\":[72,6],\"type\":\"bar\",\"xaxis\":\"x13\",\"yaxis\":\"y13\"},{\"name\":\"105\",\"x\":[0,1],\"y\":[61,4],\"type\":\"bar\",\"xaxis\":\"x13\",\"yaxis\":\"y13\"},{\"name\":\"107\",\"x\":[0,1],\"y\":[71,9],\"type\":\"bar\",\"xaxis\":\"x13\",\"yaxis\":\"y13\"},{\"name\":\"108\",\"x\":[0,1],\"y\":[52,5],\"type\":\"bar\",\"xaxis\":\"x13\",\"yaxis\":\"y13\"},{\"name\":\"109\",\"x\":[0,1],\"y\":[56,4],\"type\":\"bar\",\"xaxis\":\"x13\",\"yaxis\":\"y13\"},{\"name\":\"111\",\"x\":[0,1],\"y\":[42,4],\"type\":\"bar\",\"xaxis\":\"x13\",\"yaxis\":\"y13\"},{\"name\":\"112\",\"x\":[0,1],\"y\":[54,12],\"type\":\"bar\",\"xaxis\":\"x13\",\"yaxis\":\"y13\"},{\"name\":\"113\",\"x\":[0,1],\"y\":[76,7],\"type\":\"bar\",\"xaxis\":\"x13\",\"yaxis\":\"y13\"},{\"name\":\"115\",\"x\":[0,1],\"y\":[53,11],\"type\":\"bar\",\"xaxis\":\"x13\",\"yaxis\":\"y13\"},{\"name\":\"116\",\"x\":[0,1],\"y\":[64,9],\"type\":\"bar\",\"xaxis\":\"x13\",\"yaxis\":\"y13\"},{\"name\":\"117\",\"x\":[0,1],\"y\":[52,8],\"type\":\"bar\",\"xaxis\":\"x13\",\"yaxis\":\"y13\"},{\"name\":\"119\",\"x\":[0,1],\"y\":[54,8],\"type\":\"bar\",\"xaxis\":\"x13\",\"yaxis\":\"y13\"},{\"name\":\"120\",\"x\":[0,1],\"y\":[70,12],\"type\":\"bar\",\"xaxis\":\"x13\",\"yaxis\":\"y13\"},{\"name\":\"122\",\"x\":[0,1],\"y\":[60,11],\"type\":\"bar\",\"xaxis\":\"x13\",\"yaxis\":\"y13\"},{\"name\":\"123\",\"x\":[0,1],\"y\":[56,10],\"type\":\"bar\",\"xaxis\":\"x13\",\"yaxis\":\"y13\"},{\"name\":\"124\",\"x\":[0,1],\"y\":[50,6],\"type\":\"bar\",\"xaxis\":\"x13\",\"yaxis\":\"y13\"},{\"name\":\"126\",\"x\":[0,1],\"y\":[71,4],\"type\":\"bar\",\"xaxis\":\"x13\",\"yaxis\":\"y13\"},{\"name\":\"127\",\"x\":[0,1],\"y\":[48,6],\"type\":\"bar\",\"xaxis\":\"x13\",\"yaxis\":\"y13\"},{\"name\":\"128\",\"x\":[0,1],\"y\":[60,5],\"type\":\"bar\",\"xaxis\":\"x13\",\"yaxis\":\"y13\"},{\"name\":\"130\",\"x\":[0,1],\"y\":[42,12],\"type\":\"bar\",\"xaxis\":\"x13\",\"yaxis\":\"y13\"},{\"name\":\"131\",\"x\":[0,1],\"y\":[37,4],\"type\":\"bar\",\"xaxis\":\"x13\",\"yaxis\":\"y13\"},{\"name\":\"132\",\"x\":[0,1],\"y\":[39,3],\"type\":\"bar\",\"xaxis\":\"x13\",\"yaxis\":\"y13\"},{\"name\":\"134\",\"x\":[0,1],\"y\":[51,7],\"type\":\"bar\",\"xaxis\":\"x13\",\"yaxis\":\"y13\"},{\"name\":\"0\",\"x\":[0,1],\"y\":[1572,57],\"type\":\"bar\",\"xaxis\":\"x14\",\"yaxis\":\"y14\"},{\"name\":\"1\",\"x\":[0,1],\"y\":[2573,254],\"type\":\"bar\",\"xaxis\":\"x14\",\"yaxis\":\"y14\"},{\"name\":\"2\",\"x\":[0,1],\"y\":[2313,521],\"type\":\"bar\",\"xaxis\":\"x14\",\"yaxis\":\"y14\"},{\"name\":\"0\",\"x\":[0,1],\"y\":[2752,613],\"type\":\"bar\",\"xaxis\":\"x15\",\"yaxis\":\"y15\"},{\"name\":\"1\",\"x\":[0,1],\"y\":[1784,139],\"type\":\"bar\",\"xaxis\":\"x15\",\"yaxis\":\"y15\"},{\"name\":\"2\",\"x\":[0,1],\"y\":[1922,80],\"type\":\"bar\",\"xaxis\":\"x15\",\"yaxis\":\"y15\"}],                        {\"template\":{\"data\":{\"histogram2dcontour\":[{\"type\":\"histogram2dcontour\",\"colorbar\":{\"outlinewidth\":0,\"ticks\":\"\"},\"colorscale\":[[0.0,\"#0d0887\"],[0.1111111111111111,\"#46039f\"],[0.2222222222222222,\"#7201a8\"],[0.3333333333333333,\"#9c179e\"],[0.4444444444444444,\"#bd3786\"],[0.5555555555555556,\"#d8576b\"],[0.6666666666666666,\"#ed7953\"],[0.7777777777777778,\"#fb9f3a\"],[0.8888888888888888,\"#fdca26\"],[1.0,\"#f0f921\"]]}],\"choropleth\":[{\"type\":\"choropleth\",\"colorbar\":{\"outlinewidth\":0,\"ticks\":\"\"}}],\"histogram2d\":[{\"type\":\"histogram2d\",\"colorbar\":{\"outlinewidth\":0,\"ticks\":\"\"},\"colorscale\":[[0.0,\"#0d0887\"],[0.1111111111111111,\"#46039f\"],[0.2222222222222222,\"#7201a8\"],[0.3333333333333333,\"#9c179e\"],[0.4444444444444444,\"#bd3786\"],[0.5555555555555556,\"#d8576b\"],[0.6666666666666666,\"#ed7953\"],[0.7777777777777778,\"#fb9f3a\"],[0.8888888888888888,\"#fdca26\"],[1.0,\"#f0f921\"]]}],\"heatmap\":[{\"type\":\"heatmap\",\"colorbar\":{\"outlinewidth\":0,\"ticks\":\"\"},\"colorscale\":[[0.0,\"#0d0887\"],[0.1111111111111111,\"#46039f\"],[0.2222222222222222,\"#7201a8\"],[0.3333333333333333,\"#9c179e\"],[0.4444444444444444,\"#bd3786\"],[0.5555555555555556,\"#d8576b\"],[0.6666666666666666,\"#ed7953\"],[0.7777777777777778,\"#fb9f3a\"],[0.8888888888888888,\"#fdca26\"],[1.0,\"#f0f921\"]]}],\"heatmapgl\":[{\"type\":\"heatmapgl\",\"colorbar\":{\"outlinewidth\":0,\"ticks\":\"\"},\"colorscale\":[[0.0,\"#0d0887\"],[0.1111111111111111,\"#46039f\"],[0.2222222222222222,\"#7201a8\"],[0.3333333333333333,\"#9c179e\"],[0.4444444444444444,\"#bd3786\"],[0.5555555555555556,\"#d8576b\"],[0.6666666666666666,\"#ed7953\"],[0.7777777777777778,\"#fb9f3a\"],[0.8888888888888888,\"#fdca26\"],[1.0,\"#f0f921\"]]}],\"contourcarpet\":[{\"type\":\"contourcarpet\",\"colorbar\":{\"outlinewidth\":0,\"ticks\":\"\"}}],\"contour\":[{\"type\":\"contour\",\"colorbar\":{\"outlinewidth\":0,\"ticks\":\"\"},\"colorscale\":[[0.0,\"#0d0887\"],[0.1111111111111111,\"#46039f\"],[0.2222222222222222,\"#7201a8\"],[0.3333333333333333,\"#9c179e\"],[0.4444444444444444,\"#bd3786\"],[0.5555555555555556,\"#d8576b\"],[0.6666666666666666,\"#ed7953\"],[0.7777777777777778,\"#fb9f3a\"],[0.8888888888888888,\"#fdca26\"],[1.0,\"#f0f921\"]]}],\"surface\":[{\"type\":\"surface\",\"colorbar\":{\"outlinewidth\":0,\"ticks\":\"\"},\"colorscale\":[[0.0,\"#0d0887\"],[0.1111111111111111,\"#46039f\"],[0.2222222222222222,\"#7201a8\"],[0.3333333333333333,\"#9c179e\"],[0.4444444444444444,\"#bd3786\"],[0.5555555555555556,\"#d8576b\"],[0.6666666666666666,\"#ed7953\"],[0.7777777777777778,\"#fb9f3a\"],[0.8888888888888888,\"#fdca26\"],[1.0,\"#f0f921\"]]}],\"mesh3d\":[{\"type\":\"mesh3d\",\"colorbar\":{\"outlinewidth\":0,\"ticks\":\"\"}}],\"scatter\":[{\"fillpattern\":{\"fillmode\":\"overlay\",\"size\":10,\"solidity\":0.2},\"type\":\"scatter\"}],\"parcoords\":[{\"type\":\"parcoords\",\"line\":{\"colorbar\":{\"outlinewidth\":0,\"ticks\":\"\"}}}],\"scatterpolargl\":[{\"type\":\"scatterpolargl\",\"marker\":{\"colorbar\":{\"outlinewidth\":0,\"ticks\":\"\"}}}],\"bar\":[{\"error_x\":{\"color\":\"#2a3f5f\"},\"error_y\":{\"color\":\"#2a3f5f\"},\"marker\":{\"line\":{\"color\":\"#E5ECF6\",\"width\":0.5},\"pattern\":{\"fillmode\":\"overlay\",\"size\":10,\"solidity\":0.2}},\"type\":\"bar\"}],\"scattergeo\":[{\"type\":\"scattergeo\",\"marker\":{\"colorbar\":{\"outlinewidth\":0,\"ticks\":\"\"}}}],\"scatterpolar\":[{\"type\":\"scatterpolar\",\"marker\":{\"colorbar\":{\"outlinewidth\":0,\"ticks\":\"\"}}}],\"histogram\":[{\"marker\":{\"pattern\":{\"fillmode\":\"overlay\",\"size\":10,\"solidity\":0.2}},\"type\":\"histogram\"}],\"scattergl\":[{\"type\":\"scattergl\",\"marker\":{\"colorbar\":{\"outlinewidth\":0,\"ticks\":\"\"}}}],\"scatter3d\":[{\"type\":\"scatter3d\",\"line\":{\"colorbar\":{\"outlinewidth\":0,\"ticks\":\"\"}},\"marker\":{\"colorbar\":{\"outlinewidth\":0,\"ticks\":\"\"}}}],\"scattermapbox\":[{\"type\":\"scattermapbox\",\"marker\":{\"colorbar\":{\"outlinewidth\":0,\"ticks\":\"\"}}}],\"scatterternary\":[{\"type\":\"scatterternary\",\"marker\":{\"colorbar\":{\"outlinewidth\":0,\"ticks\":\"\"}}}],\"scattercarpet\":[{\"type\":\"scattercarpet\",\"marker\":{\"colorbar\":{\"outlinewidth\":0,\"ticks\":\"\"}}}],\"carpet\":[{\"aaxis\":{\"endlinecolor\":\"#2a3f5f\",\"gridcolor\":\"white\",\"linecolor\":\"white\",\"minorgridcolor\":\"white\",\"startlinecolor\":\"#2a3f5f\"},\"baxis\":{\"endlinecolor\":\"#2a3f5f\",\"gridcolor\":\"white\",\"linecolor\":\"white\",\"minorgridcolor\":\"white\",\"startlinecolor\":\"#2a3f5f\"},\"type\":\"carpet\"}],\"table\":[{\"cells\":{\"fill\":{\"color\":\"#EBF0F8\"},\"line\":{\"color\":\"white\"}},\"header\":{\"fill\":{\"color\":\"#C8D4E3\"},\"line\":{\"color\":\"white\"}},\"type\":\"table\"}],\"barpolar\":[{\"marker\":{\"line\":{\"color\":\"#E5ECF6\",\"width\":0.5},\"pattern\":{\"fillmode\":\"overlay\",\"size\":10,\"solidity\":0.2}},\"type\":\"barpolar\"}],\"pie\":[{\"automargin\":true,\"type\":\"pie\"}]},\"layout\":{\"autotypenumbers\":\"strict\",\"colorway\":[\"#636efa\",\"#EF553B\",\"#00cc96\",\"#ab63fa\",\"#FFA15A\",\"#19d3f3\",\"#FF6692\",\"#B6E880\",\"#FF97FF\",\"#FECB52\"],\"font\":{\"color\":\"#2a3f5f\"},\"hovermode\":\"closest\",\"hoverlabel\":{\"align\":\"left\"},\"paper_bgcolor\":\"white\",\"plot_bgcolor\":\"#E5ECF6\",\"polar\":{\"bgcolor\":\"#E5ECF6\",\"angularaxis\":{\"gridcolor\":\"white\",\"linecolor\":\"white\",\"ticks\":\"\"},\"radialaxis\":{\"gridcolor\":\"white\",\"linecolor\":\"white\",\"ticks\":\"\"}},\"ternary\":{\"bgcolor\":\"#E5ECF6\",\"aaxis\":{\"gridcolor\":\"white\",\"linecolor\":\"white\",\"ticks\":\"\"},\"baxis\":{\"gridcolor\":\"white\",\"linecolor\":\"white\",\"ticks\":\"\"},\"caxis\":{\"gridcolor\":\"white\",\"linecolor\":\"white\",\"ticks\":\"\"}},\"coloraxis\":{\"colorbar\":{\"outlinewidth\":0,\"ticks\":\"\"}},\"colorscale\":{\"sequential\":[[0.0,\"#0d0887\"],[0.1111111111111111,\"#46039f\"],[0.2222222222222222,\"#7201a8\"],[0.3333333333333333,\"#9c179e\"],[0.4444444444444444,\"#bd3786\"],[0.5555555555555556,\"#d8576b\"],[0.6666666666666666,\"#ed7953\"],[0.7777777777777778,\"#fb9f3a\"],[0.8888888888888888,\"#fdca26\"],[1.0,\"#f0f921\"]],\"sequentialminus\":[[0.0,\"#0d0887\"],[0.1111111111111111,\"#46039f\"],[0.2222222222222222,\"#7201a8\"],[0.3333333333333333,\"#9c179e\"],[0.4444444444444444,\"#bd3786\"],[0.5555555555555556,\"#d8576b\"],[0.6666666666666666,\"#ed7953\"],[0.7777777777777778,\"#fb9f3a\"],[0.8888888888888888,\"#fdca26\"],[1.0,\"#f0f921\"]],\"diverging\":[[0,\"#8e0152\"],[0.1,\"#c51b7d\"],[0.2,\"#de77ae\"],[0.3,\"#f1b6da\"],[0.4,\"#fde0ef\"],[0.5,\"#f7f7f7\"],[0.6,\"#e6f5d0\"],[0.7,\"#b8e186\"],[0.8,\"#7fbc41\"],[0.9,\"#4d9221\"],[1,\"#276419\"]]},\"xaxis\":{\"gridcolor\":\"white\",\"linecolor\":\"white\",\"ticks\":\"\",\"title\":{\"standoff\":15},\"zerolinecolor\":\"white\",\"automargin\":true,\"zerolinewidth\":2},\"yaxis\":{\"gridcolor\":\"white\",\"linecolor\":\"white\",\"ticks\":\"\",\"title\":{\"standoff\":15},\"zerolinecolor\":\"white\",\"automargin\":true,\"zerolinewidth\":2},\"scene\":{\"xaxis\":{\"backgroundcolor\":\"#E5ECF6\",\"gridcolor\":\"white\",\"linecolor\":\"white\",\"showbackground\":true,\"ticks\":\"\",\"zerolinecolor\":\"white\",\"gridwidth\":2},\"yaxis\":{\"backgroundcolor\":\"#E5ECF6\",\"gridcolor\":\"white\",\"linecolor\":\"white\",\"showbackground\":true,\"ticks\":\"\",\"zerolinecolor\":\"white\",\"gridwidth\":2},\"zaxis\":{\"backgroundcolor\":\"#E5ECF6\",\"gridcolor\":\"white\",\"linecolor\":\"white\",\"showbackground\":true,\"ticks\":\"\",\"zerolinecolor\":\"white\",\"gridwidth\":2}},\"shapedefaults\":{\"line\":{\"color\":\"#2a3f5f\"}},\"annotationdefaults\":{\"arrowcolor\":\"#2a3f5f\",\"arrowhead\":0,\"arrowwidth\":1},\"geo\":{\"bgcolor\":\"white\",\"landcolor\":\"#E5ECF6\",\"subunitcolor\":\"white\",\"showland\":true,\"showlakes\":true,\"lakecolor\":\"white\"},\"title\":{\"x\":0.05},\"mapbox\":{\"style\":\"light\"}}},\"xaxis\":{\"anchor\":\"y\",\"domain\":[0.0,0.475]},\"yaxis\":{\"anchor\":\"x\",\"domain\":[0.88375,1.0]},\"xaxis2\":{\"anchor\":\"y2\",\"domain\":[0.525,1.0]},\"yaxis2\":{\"anchor\":\"x2\",\"domain\":[0.88375,1.0]},\"xaxis3\":{\"anchor\":\"y3\",\"domain\":[0.0,0.475]},\"yaxis3\":{\"anchor\":\"x3\",\"domain\":[0.7575000000000001,0.87375]},\"xaxis4\":{\"anchor\":\"y4\",\"domain\":[0.525,1.0]},\"yaxis4\":{\"anchor\":\"x4\",\"domain\":[0.7575000000000001,0.87375]},\"xaxis5\":{\"anchor\":\"y5\",\"domain\":[0.0,0.475]},\"yaxis5\":{\"anchor\":\"x5\",\"domain\":[0.63125,0.7474999999999999]},\"xaxis6\":{\"anchor\":\"y6\",\"domain\":[0.525,1.0]},\"yaxis6\":{\"anchor\":\"x6\",\"domain\":[0.63125,0.7474999999999999]},\"xaxis7\":{\"anchor\":\"y7\",\"domain\":[0.0,0.475]},\"yaxis7\":{\"anchor\":\"x7\",\"domain\":[0.505,0.62125]},\"xaxis8\":{\"anchor\":\"y8\",\"domain\":[0.525,1.0]},\"yaxis8\":{\"anchor\":\"x8\",\"domain\":[0.505,0.62125]},\"xaxis9\":{\"anchor\":\"y9\",\"domain\":[0.0,0.475]},\"yaxis9\":{\"anchor\":\"x9\",\"domain\":[0.37875000000000003,0.495]},\"xaxis10\":{\"anchor\":\"y10\",\"domain\":[0.525,1.0]},\"yaxis10\":{\"anchor\":\"x10\",\"domain\":[0.37875000000000003,0.495]},\"xaxis11\":{\"anchor\":\"y11\",\"domain\":[0.0,0.475]},\"yaxis11\":{\"anchor\":\"x11\",\"domain\":[0.2525,0.36875]},\"xaxis12\":{\"anchor\":\"y12\",\"domain\":[0.525,1.0]},\"yaxis12\":{\"anchor\":\"x12\",\"domain\":[0.2525,0.36875]},\"xaxis13\":{\"anchor\":\"y13\",\"domain\":[0.0,0.475]},\"yaxis13\":{\"anchor\":\"x13\",\"domain\":[0.12625,0.2425]},\"xaxis14\":{\"anchor\":\"y14\",\"domain\":[0.525,1.0]},\"yaxis14\":{\"anchor\":\"x14\",\"domain\":[0.12625,0.2425]},\"xaxis15\":{\"anchor\":\"y15\",\"domain\":[0.0,0.475]},\"yaxis15\":{\"anchor\":\"x15\",\"domain\":[0.0,0.11624999999999999]},\"xaxis16\":{\"anchor\":\"y16\",\"domain\":[0.525,1.0]},\"yaxis16\":{\"anchor\":\"x16\",\"domain\":[0.0,0.11624999999999999]},\"annotations\":[{\"font\":{\"size\":16},\"showarrow\":false,\"text\":\"Money Spent per Policy_bin\",\"x\":0.2375,\"xanchor\":\"center\",\"xref\":\"paper\",\"y\":1.0,\"yanchor\":\"bottom\",\"yref\":\"paper\"},{\"font\":{\"size\":16},\"showarrow\":false,\"text\":\"Accident Likelihood_bin\",\"x\":0.7625,\"xanchor\":\"center\",\"xref\":\"paper\",\"y\":1.0,\"yanchor\":\"bottom\",\"yref\":\"paper\"},{\"font\":{\"size\":16},\"showarrow\":false,\"text\":\"Number of Policies\",\"x\":0.2375,\"xanchor\":\"center\",\"xref\":\"paper\",\"y\":0.87375,\"yanchor\":\"bottom\",\"yref\":\"paper\"},{\"font\":{\"size\":16},\"showarrow\":false,\"text\":\"Income_bin\",\"x\":0.7625,\"xanchor\":\"center\",\"xref\":\"paper\",\"y\":0.87375,\"yanchor\":\"bottom\",\"yref\":\"paper\"},{\"font\":{\"size\":16},\"showarrow\":false,\"text\":\"Coverage Index\",\"x\":0.2375,\"xanchor\":\"center\",\"xref\":\"paper\",\"y\":0.7474999999999999,\"yanchor\":\"bottom\",\"yref\":\"paper\"},{\"font\":{\"size\":16},\"showarrow\":false,\"text\":\"Employment Status Index\",\"x\":0.7625,\"xanchor\":\"center\",\"xref\":\"paper\",\"y\":0.7474999999999999,\"yanchor\":\"bottom\",\"yref\":\"paper\"},{\"font\":{\"size\":16},\"showarrow\":false,\"text\":\"Insurance_bin\",\"x\":0.2375,\"xanchor\":\"center\",\"xref\":\"paper\",\"y\":0.62125,\"yanchor\":\"bottom\",\"yref\":\"paper\"},{\"font\":{\"size\":16},\"showarrow\":false,\"text\":\"Marital Status Index\",\"x\":0.7625,\"xanchor\":\"center\",\"xref\":\"paper\",\"y\":0.62125,\"yanchor\":\"bottom\",\"yref\":\"paper\"},{\"font\":{\"size\":16},\"showarrow\":false,\"text\":\"Location Based Likelihood_bin\",\"x\":0.2375,\"xanchor\":\"center\",\"xref\":\"paper\",\"y\":0.495,\"yanchor\":\"bottom\",\"yref\":\"paper\"},{\"font\":{\"size\":16},\"showarrow\":false,\"text\":\"Date Time\",\"x\":0.7625,\"xanchor\":\"center\",\"xref\":\"paper\",\"y\":0.495,\"yanchor\":\"bottom\",\"yref\":\"paper\"},{\"font\":{\"size\":16},\"showarrow\":false,\"text\":\"Months Since Last Claim\",\"x\":0.2375,\"xanchor\":\"center\",\"xref\":\"paper\",\"y\":0.36875,\"yanchor\":\"bottom\",\"yref\":\"paper\"},{\"font\":{\"size\":16},\"showarrow\":false,\"text\":\"Gender\",\"x\":0.7625,\"xanchor\":\"center\",\"xref\":\"paper\",\"y\":0.36875,\"yanchor\":\"bottom\",\"yref\":\"paper\"},{\"font\":{\"size\":16},\"showarrow\":false,\"text\":\"Months Since Policy Inception\",\"x\":0.2375,\"xanchor\":\"center\",\"xref\":\"paper\",\"y\":0.2425,\"yanchor\":\"bottom\",\"yref\":\"paper\"},{\"font\":{\"size\":16},\"showarrow\":false,\"text\":\"CLV_Category\",\"x\":0.7625,\"xanchor\":\"center\",\"xref\":\"paper\",\"y\":0.2425,\"yanchor\":\"bottom\",\"yref\":\"paper\"},{\"font\":{\"size\":16},\"showarrow\":false,\"text\":\"Income_Category\",\"x\":0.2375,\"xanchor\":\"center\",\"xref\":\"paper\",\"y\":0.11624999999999999,\"yanchor\":\"bottom\",\"yref\":\"paper\"}],\"title\":{\"text\":\"How Each Column Affects 'Claim over 1k'\"},\"height\":2400,\"showlegend\":false},                        {\"responsive\": true}                    ).then(function(){\n",
       "                            \n",
       "var gd = document.getElementById('9aef0c4d-9982-4b06-a37d-433e150cbbfb');\n",
       "var x = new MutationObserver(function (mutations, observer) {{\n",
       "        var display = window.getComputedStyle(gd).display;\n",
       "        if (!display || display === 'none') {{\n",
       "            console.log([gd, 'removed!']);\n",
       "            Plotly.purge(gd);\n",
       "            observer.disconnect();\n",
       "        }}\n",
       "}});\n",
       "\n",
       "// Listen for the removal of the full notebook cells\n",
       "var notebookContainer = gd.closest('#notebook-container');\n",
       "if (notebookContainer) {{\n",
       "    x.observe(notebookContainer, {childList: true});\n",
       "}}\n",
       "\n",
       "// Listen for the clearing of the current output cell\n",
       "var outputEl = gd.closest('.output');\n",
       "if (outputEl) {{\n",
       "    x.observe(outputEl, {childList: true});\n",
       "}}\n",
       "\n",
       "                        })                };                });            </script>        </div>"
      ]
     },
     "metadata": {},
     "output_type": "display_data"
    },
    {
     "data": {
      "text/plain": [
       "<Figure size 3000x8000 with 0 Axes>"
      ]
     },
     "metadata": {},
     "output_type": "display_data"
    }
   ],
   "source": [
    "relation_to_claim_over_1k(df_process)"
   ]
  },
  {
   "cell_type": "code",
   "execution_count": 330,
   "metadata": {},
   "outputs": [],
   "source": [
    "import shap\n",
    "\n",
    "def shap_plot(df_train):\n",
    "  X = df_train.drop(\"Claim over 1k\", axis=1)\n",
    "  y = df_train[\"Claim over 1k\"]\n",
    "  test_size = 0.2\n",
    "  X_train, X_test, y_train, y_test = train_test_split(X, y, test_size = test_size, random_state = 42)\n",
    "\n",
    "  # Train a Random Forest model\n",
    "  model = RandomForestClassifier()\n",
    "  model.fit(X_train, y_train)\n",
    "  # Initialize the SHAP explainer\n",
    "  explainer = shap.Explainer(model, feature_names=X.columns)\n",
    "  \n",
    "  # Calculate SHAP values for the test dataset\n",
    "  shap_values = explainer(X_test)\n",
    "\n",
    "  print(shap_values.shape)\n",
    "  shap_values_0 = shap_values[:, :, 0]\n",
    "  shap_values_1 = shap_values[:, :, 1]\n",
    "  shap.plots.bar(shap_values_0, max_display=400)\n",
    "  shap.plots.bar(shap_values_1, max_display=400)\n",
    "  print(shap_values_0.shape, shap_values_1.shape)\n",
    "  return shap_values\n",
    "# shap_values = shap_plot(df_process)"
   ]
  },
  {
   "cell_type": "code",
   "execution_count": 331,
   "metadata": {},
   "outputs": [],
   "source": [
    "def test_monitor(model, X, y):\n",
    "  threshold = 0.5\n",
    "  # Predict the test set\n",
    "  y_proba = model.predict_proba(X)\n",
    "  y_pred = (y_proba[:, 1] >= threshold).astype(int)\n",
    "  # Evaluate the model\n",
    "  accuracy = accuracy_score(y, y_pred)\n",
    "  conf_matrix = confusion_matrix(y, y_pred).T\n",
    "  class_report = classification_report(y, y_pred)\n",
    "\n",
    "  # Calculate accuracy and F1 score\n",
    "  print(f\"Accuracy: {accuracy}\")\n",
    "  print(\"Confusion Matrix:\")\n",
    "  print(conf_matrix)\n",
    "  print(\"Classification Report:\")\n",
    "  print(class_report)\n",
    "  f1 = f1_score(y, y_pred)\n",
    "  print(f\"f1 score: ${f1}\")\n",
    "  \n",
    "  #            Actual\n",
    "  #             0   1\n",
    "  # Predict 0   TP  FP\n",
    "  #         1   FN  TN\n",
    "  # Evaluate the model\n",
    "  tp, fp, fn, tn = conf_matrix.ravel()\n",
    "  # Calculate sensitivity and specificity\n",
    "  sensitivity = tp / (tp + fn)  # True Positive Rate\n",
    "  specificity = tn / (tn + fp)  # True Negative Rate\n",
    "\n",
    "  print(\"Sensitivity (Recall):\", sensitivity)\n",
    "  print(\"Specificity:\", specificity)\n",
    "\n",
    "  return accuracy, sensitivity, specificity"
   ]
  },
  {
   "cell_type": "code",
   "execution_count": 332,
   "metadata": {},
   "outputs": [],
   "source": [
    "def normalize(X, scaler):\n",
    "  return scaler.fit_transform(X)\n",
    "\n",
    "def get_train_params(X, y, test_size):\n",
    "  X_train, X_test, y_train, y_test = train_test_split(X, y, test_size = test_size, random_state = 42)\n",
    "  return X_train, X_test, y_train, y_test"
   ]
  },
  {
   "cell_type": "code",
   "execution_count": 333,
   "metadata": {},
   "outputs": [],
   "source": [
    "def run_random_forest_normal(X_train, y_train):\n",
    "  # Initialize the Random Forest Classifier\n",
    "  rf_classifier = RandomForestClassifier(n_estimators=100, criterion=\"entropy\", max_depth=30, min_samples_leaf=2, min_samples_split=5, bootstrap=False)\n",
    "\n",
    "  rf_classifier.fit(X_train, y_train)\n",
    "  return rf_classifier\n",
    "\n",
    "def random_forest(df_train):\n",
    "  df_train.value_counts()\n",
    "  # Get the params\n",
    "  X = df_train.drop(\"Claim over 1k\", axis=1)\n",
    "  y = df_train[\"Claim over 1k\"]\n",
    "  X_train_scaled, X_test_scaled, y_train, y_test = get_train_params(X, y, 0.2)\n",
    "\n",
    "  rf_classifier = run_random_forest_normal(X_train_scaled, y_train)\n",
    "  accuracy_from_train, sensitivity_from_train, specificity_from_train = test_monitor(rf_classifier, X_test_scaled, y_test)\n",
    "  \n",
    "  return accuracy_from_train, sensitivity_from_train, specificity_from_train"
   ]
  },
  {
   "cell_type": "code",
   "execution_count": 334,
   "metadata": {},
   "outputs": [],
   "source": [
    "def run_iteration_simple(df_train, times, cols=[]):\n",
    "  accuracy, sensitivity, specificity = 0, 0, 0\n",
    "  df_shorten_train = df_train.drop(columns=cols, axis=1)\n",
    "  for _ in range(times):\n",
    "    with SuppressPrints():\n",
    "      accuracy_get, sensitivity_get, specificity_get = random_forest(df_shorten_train)\n",
    "      accuracy += float(accuracy_get)\n",
    "      sensitivity += float(sensitivity_get)\n",
    "      specificity += float(specificity_get)\n",
    "  print(f\"Average over {times} runs: \", accuracy / times, sensitivity / times, specificity / times)"
   ]
  },
  {
   "cell_type": "code",
   "execution_count": 335,
   "metadata": {},
   "outputs": [
    {
     "name": "stdout",
     "output_type": "stream",
     "text": [
      "Accuracy: 0.9286694101508917\n",
      "Confusion Matrix:\n",
      "[[1274   78]\n",
      " [  26   80]]\n",
      "Classification Report:\n",
      "              precision    recall  f1-score   support\n",
      "\n",
      "           0       0.94      0.98      0.96      1300\n",
      "           1       0.75      0.51      0.61       158\n",
      "\n",
      "    accuracy                           0.93      1458\n",
      "   macro avg       0.85      0.74      0.78      1458\n",
      "weighted avg       0.92      0.93      0.92      1458\n",
      "\n",
      "f1 score: $0.6060606060606061\n",
      "Sensitivity (Recall): 0.98\n",
      "Specificity: 0.5063291139240507\n"
     ]
    },
    {
     "data": {
      "text/plain": [
       "(0.9286694101508917, 0.98, 0.5063291139240507)"
      ]
     },
     "execution_count": 335,
     "metadata": {},
     "output_type": "execute_result"
    }
   ],
   "source": [
    "random_forest(df_process) # test with no oversample"
   ]
  },
  {
   "cell_type": "code",
   "execution_count": 336,
   "metadata": {},
   "outputs": [
    {
     "name": "stdout",
     "output_type": "stream",
     "text": [
      "Average over 5 runs:  0.9305898491083676 0.9815384615384616 0.5113924050632911\n"
     ]
    }
   ],
   "source": [
    "run_iteration_simple(df_process, 5)"
   ]
  },
  {
   "cell_type": "code",
   "execution_count": 337,
   "metadata": {},
   "outputs": [],
   "source": [
    "def hyper_tune_random_forest(df_train):\n",
    "  X = df_train.drop(\"Claim over 1k\", axis=1)\n",
    "  y = df_train[\"Claim over 1k\"]\n",
    "  X_train_scaled, X_test_scaled, y_train, y_test = get_train_params(X, y, 0.2)\n",
    "  # Step 2: Define the model\n",
    "  rf_classifier = RandomForestClassifier(random_state=42)\n",
    "\n",
    "  # Step 3: Specify hyperparameters to tune\n",
    "  param_grid = {\n",
    "    'n_estimators': [100, 200, 250],          # Number of trees\n",
    "    'max_depth': [10, 20, 30],             # Maximum depth of the trees\n",
    "    'min_samples_split': [5, 10],         # Minimum samples to split an internal node\n",
    "    'min_samples_leaf': [2, 5, 10],          # Minimum samples at a leaf node\n",
    "    'bootstrap': [False, True],\n",
    "    'class_weight': [None, 'balanced']\n",
    "  }\n",
    "\n",
    "  # Step 4: Set up GridSearchCV\n",
    "  grid_search = GridSearchCV(estimator=rf_classifier, param_grid=param_grid,\n",
    "                 cv=5, n_jobs=-1, verbose=2, scoring='accuracy')\n",
    "\n",
    "  # Step 5: Fit the model\n",
    "  grid_search.fit(X_train_scaled, y_train)\n",
    "\n",
    "  # Step 6: Evaluate the best model\n",
    "  best_model = grid_search.best_estimator_\n",
    "  \n",
    "  return best_model\n",
    "# best_model = hyper_tune_random_forest(df_process)\n",
    "# print(best_model)"
   ]
  },
  {
   "cell_type": "code",
   "execution_count": 338,
   "metadata": {},
   "outputs": [],
   "source": [
    "def train_simple(df_train, test_size):\n",
    "  df_train.value_counts()\n",
    "  # Get the params\n",
    "  X = df_train.drop(\"Claim over 1k\", axis=1)\n",
    "  y = df_train[\"Claim over 1k\"]\n",
    "  X_train_scaled, X_test_scaled, y_train, y_test = get_train_params(X, y, test_size)\n",
    "\n",
    "  rf_classifier = run_random_forest_normal(X_train_scaled, y_train)\n",
    "  test_monitor(rf_classifier, X_test_scaled, y_test)\n",
    "  return rf_classifier"
   ]
  },
  {
   "cell_type": "code",
   "execution_count": 339,
   "metadata": {},
   "outputs": [
    {
     "name": "stdout",
     "output_type": "stream",
     "text": [
      "Accuracy: 0.9355281207133059\n",
      "Confusion Matrix:\n",
      "[[1278   72]\n",
      " [  22   86]]\n",
      "Classification Report:\n",
      "              precision    recall  f1-score   support\n",
      "\n",
      "           0       0.95      0.98      0.96      1300\n",
      "           1       0.80      0.54      0.65       158\n",
      "\n",
      "    accuracy                           0.94      1458\n",
      "   macro avg       0.87      0.76      0.81      1458\n",
      "weighted avg       0.93      0.94      0.93      1458\n",
      "\n",
      "f1 score: $0.6466165413533834\n",
      "Sensitivity (Recall): 0.9830769230769231\n",
      "Specificity: 0.5443037974683544\n"
     ]
    }
   ],
   "source": [
    "my_model = train_simple(df_process, 0.2)"
   ]
  },
  {
   "cell_type": "code",
   "execution_count": 340,
   "metadata": {},
   "outputs": [
    {
     "name": "stdout",
     "output_type": "stream",
     "text": [
      "<class 'pandas.core.frame.DataFrame'>\n",
      "RangeIndex: 1844 entries, 0 to 1843\n",
      "Data columns (total 20 columns):\n",
      " #   Column                         Non-Null Count  Dtype  \n",
      "---  ------                         --------------  -----  \n",
      " 0   CustomerID                     1844 non-null   object \n",
      " 1   State                          1844 non-null   object \n",
      " 2   Customer Lifetime Value        1844 non-null   float64\n",
      " 3   Response                       1844 non-null   object \n",
      " 4   Coverage Index                 1844 non-null   int64  \n",
      " 5   Education Index                1844 non-null   int64  \n",
      " 6   Effective To Date              1844 non-null   object \n",
      " 7   Employment Status Index        1844 non-null   int64  \n",
      " 8   Gender                         1844 non-null   object \n",
      " 9   Income                         1844 non-null   int64  \n",
      " 10  Marital Status Index           1844 non-null   int64  \n",
      " 11  Months Since Last Claim        1844 non-null   int64  \n",
      " 12  Months Since Policy Inception  1844 non-null   int64  \n",
      " 13  Number of Open Complaints      1844 non-null   int64  \n",
      " 14  Number of Policies             1844 non-null   int64  \n",
      " 15  Policy Type Index              1844 non-null   int64  \n",
      " 16  Policy Index                   1844 non-null   int64  \n",
      " 17  Renew Offer Type               1844 non-null   int64  \n",
      " 18  Sales Channel Index            1844 non-null   int64  \n",
      " 19  Vehicle Size Index             1844 non-null   int64  \n",
      "dtypes: float64(1), int64(14), object(5)\n",
      "memory usage: 288.3+ KB\n"
     ]
    }
   ],
   "source": [
    "df_test = pd.read_csv(folder + \"test.csv\").drop(columns=[\"Coverage\", \"Education\", \"Employment Status\", \"Marital Status\", \"Policy Type\", \"Policy\", \"Sales Channel\", \"Vehicle Size\"])\n",
    "df_test.info()"
   ]
  },
  {
   "cell_type": "code",
   "execution_count": 341,
   "metadata": {},
   "outputs": [],
   "source": [
    "X_test = pre_process(df_test)"
   ]
  },
  {
   "cell_type": "code",
   "execution_count": 342,
   "metadata": {},
   "outputs": [],
   "source": [
    "def predict(model, X_test):\n",
    "  y_test_pred = model.predict(X_test)\n",
    "  customer_ID = np.array(df_test[\"CustomerID\"])\n",
    "  result = np.column_stack((customer_ID, y_test_pred))\n",
    "  return pd.DataFrame(result).rename(columns={0: \"CustomerID\", 1: \"Claim over 1k\"})"
   ]
  },
  {
   "cell_type": "code",
   "execution_count": 343,
   "metadata": {},
   "outputs": [],
   "source": [
    "df_run_test_ouput = predict(my_model, X_test)"
   ]
  },
  {
   "cell_type": "code",
   "execution_count": 344,
   "metadata": {},
   "outputs": [
    {
     "data": {
      "text/plain": [
       "Claim over 1k\n",
       "0    1697\n",
       "1     147\n",
       "Name: count, dtype: int64"
      ]
     },
     "execution_count": 344,
     "metadata": {},
     "output_type": "execute_result"
    }
   ],
   "source": [
    "df_run_test_ouput[\"Claim over 1k\"].value_counts()"
   ]
  },
  {
   "cell_type": "code",
   "execution_count": 345,
   "metadata": {},
   "outputs": [],
   "source": [
    "df_run_test_ouput.to_csv(\"new_submission/submission.csv\", index=False)"
   ]
  },
  {
   "cell_type": "code",
   "execution_count": 374,
   "metadata": {},
   "outputs": [],
   "source": [
    "import lightgbm as lgb\n",
    "\n",
    "\n",
    "\n",
    "def run_light_gbm(X_train, X_test, y_train, y_test):\n",
    "  # Create LightGBM datasets\n",
    "  train_data = lgb.Dataset(X_train, label=y_train)\n",
    "  test_data = lgb.Dataset(X_test, label=y_test, reference=train_data)\n",
    "\n",
    "  # Set parameters\n",
    "  params = {\n",
    "    'boosting_type': 'gbdt',\n",
    "    'objective': 'binary',\n",
    "    'metric': 'binary_logloss',\n",
    "    'num_leaves': 31,\n",
    "    'learning_rate': 0.1,\n",
    "    'max_depth': -1,\n",
    "    'lambda_l1': 0.1,\n",
    "    'lambda_l2': 0.1\n",
    "  }\n",
    "\n",
    "  # Train the model\n",
    "  num_round = 100\n",
    "  bst = lgb.train(params, train_data, num_round, valid_sets=test_data)\n",
    "\n",
    "  # Predict on the test set\n",
    "  y_pred = bst.predict(X_test)\n",
    "  y_pred = [1 if x >= 0.5 else 0 for x in y_pred]\n",
    "\n",
    "  # Evaluate the model\n",
    "  accuracy = accuracy_score(y_test, y_pred)\n",
    "  conf_matrix = confusion_matrix(y_test, y_pred).T\n",
    "  class_report = classification_report(y_test, y_pred)\n",
    "\n",
    "  # Calculate accuracy and F1 score\n",
    "  print(f\"Accuracy: {accuracy}\")\n",
    "  print(\"Confusion Matrix:\")\n",
    "  print(conf_matrix)\n",
    "  print(\"Classification Report:\")\n",
    "  print(class_report)\n",
    "  f1 = f1_score(y_test, y_pred)\n",
    "  print(f\"f1 score: ${f1}\")\n",
    "  \n",
    "  #            Actual\n",
    "  #             0   1\n",
    "  # Predict 0   TP  FP\n",
    "  #         1   FN  TN\n",
    "  # Evaluate the model\n",
    "  tp, fp, fn, tn = conf_matrix.ravel()\n",
    "  # Calculate sensitivity and specificity\n",
    "  sensitivity = tp / (tp + fn)  # True Positive Rate\n",
    "  specificity = tn / (tn + fp)  # True Negative Rate\n",
    "\n",
    "  print(\"Sensitivity (Recall):\", sensitivity)\n",
    "  print(\"Specificity:\", specificity)\n",
    "\n",
    "  return bst, accuracy, sensitivity, specificity\n",
    "\n",
    "def light_gbm(df_train):\n",
    "  X = df_train.drop(\"Claim over 1k\", axis=1)\n",
    "  y = df_train[\"Claim over 1k\"]\n",
    "  X_train, X_test, y_train, y_test = get_train_params(X, y, 0.2)\n",
    "\n",
    "  bst, accuracy, sensitivity, specificity = run_light_gbm(X_train, X_test, y_train, y_test)\n",
    "  return bst, accuracy, sensitivity, specificity"
   ]
  },
  {
   "cell_type": "code",
   "execution_count": 375,
   "metadata": {},
   "outputs": [
    {
     "name": "stdout",
     "output_type": "stream",
     "text": [
      "Accuracy: 0.9320987654320988\n",
      "Confusion Matrix:\n",
      "[[1274   73]\n",
      " [  26   85]]\n",
      "Classification Report:\n",
      "              precision    recall  f1-score   support\n",
      "\n",
      "           0       0.95      0.98      0.96      1300\n",
      "           1       0.77      0.54      0.63       158\n",
      "\n",
      "    accuracy                           0.93      1458\n",
      "   macro avg       0.86      0.76      0.80      1458\n",
      "weighted avg       0.93      0.93      0.93      1458\n",
      "\n",
      "f1 score: $0.6319702602230484\n",
      "Sensitivity (Recall): 0.98\n",
      "Specificity: 0.5379746835443038\n"
     ]
    }
   ],
   "source": [
    "bst = light_gbm(df_process)[0]"
   ]
  },
  {
   "cell_type": "code",
   "execution_count": 376,
   "metadata": {},
   "outputs": [],
   "source": [
    "def run_iteration_light_gbm(df_train, times, cols=[]):\n",
    "  accuracy, sensitivity, specificity = 0, 0, 0\n",
    "  df_shorten_train = df_train.drop(columns=cols, axis=1)\n",
    "  for _ in range(times):\n",
    "    with SuppressPrints():\n",
    "      bst, accuracy_get, sensitivity_get, specificity_get = light_gbm(df_shorten_train)\n",
    "      accuracy += float(accuracy_get)\n",
    "      sensitivity += float(sensitivity_get)\n",
    "      specificity += float(specificity_get)\n",
    "  print(f\"Average over {times} runs: \", accuracy / times, sensitivity / times, specificity / times)"
   ]
  },
  {
   "cell_type": "code",
   "execution_count": 377,
   "metadata": {},
   "outputs": [
    {
     "name": "stdout",
     "output_type": "stream",
     "text": [
      "Average over 20 runs:  0.9320987654320984 0.9800000000000002 0.5379746835443039\n"
     ]
    }
   ],
   "source": [
    "run_iteration_light_gbm(df_process, 20)"
   ]
  },
  {
   "cell_type": "code",
   "execution_count": 350,
   "metadata": {},
   "outputs": [],
   "source": [
    "def hyper_tune_light_gbm(df_train):\n",
    "  X = df_train.drop(\"Claim over 1k\", axis=1)\n",
    "  y = df_train[\"Claim over 1k\"]\n",
    "  X_train, X_test, y_train, y_test = get_train_params(X, y, 0.2)\n",
    "  # Define the model\n",
    "  lgb_model = lgb.LGBMClassifier()\n",
    "\n",
    "  # Define the hyperparameter grid\n",
    "  param_grid = {\n",
    "      'num_leaves': [31, 50, 70],\n",
    "      'max_depth': [-1, 5, 10],\n",
    "      'learning_rate': [0.01, 0.1, 0.2],\n",
    "      'n_estimators': [100, 200]\n",
    "  }\n",
    "\n",
    "  # Set up the Grid Search\n",
    "  grid_search = GridSearchCV(estimator=lgb_model, param_grid=param_grid, \n",
    "                            scoring='accuracy', cv=5, verbose=1, n_jobs=-1)\n",
    "\n",
    "  # Fit the Grid Search\n",
    "  grid_search.fit(X_train, y_train)\n",
    "\n",
    "  best_model = grid_search.best_estimator_\n",
    "  return best_model\n",
    "# hyper_tune_light_gbm(df_process)"
   ]
  },
  {
   "cell_type": "code",
   "execution_count": 379,
   "metadata": {},
   "outputs": [],
   "source": [
    "def predict_light_gbm(bst, X_test):\n",
    "  y_pred = bst.predict(X_test)\n",
    "  y_pred = [1 if x >= 0.5 else 0 for x in y_pred]\n",
    "  customer_ID = np.array(df_test[\"CustomerID\"])\n",
    "  result = np.column_stack((customer_ID, y_pred))\n",
    "  return pd.DataFrame(result).rename(columns={0: \"CustomerID\", 1: \"Claim over 1k\"})"
   ]
  },
  {
   "cell_type": "code",
   "execution_count": 380,
   "metadata": {},
   "outputs": [],
   "source": [
    "df_light_gbm_run_test_output = predict_light_gbm(bst, X_test)"
   ]
  },
  {
   "cell_type": "code",
   "execution_count": 381,
   "metadata": {},
   "outputs": [
    {
     "data": {
      "text/plain": [
       "Claim over 1k\n",
       "0    1691\n",
       "1     153\n",
       "Name: count, dtype: int64"
      ]
     },
     "execution_count": 381,
     "metadata": {},
     "output_type": "execute_result"
    }
   ],
   "source": [
    "df_light_gbm_run_test_output[\"Claim over 1k\"].value_counts()"
   ]
  },
  {
   "cell_type": "code",
   "execution_count": 382,
   "metadata": {},
   "outputs": [],
   "source": [
    "df_run_test_ouput.to_csv(\"new_submission/light_gbm_submission.csv\", index=False)"
   ]
  },
  {
   "cell_type": "code",
   "execution_count": null,
   "metadata": {},
   "outputs": [],
   "source": []
  }
 ],
 "metadata": {
  "kernelspec": {
   "display_name": "base",
   "language": "python",
   "name": "python3"
  },
  "language_info": {
   "codemirror_mode": {
    "name": "ipython",
    "version": 3
   },
   "file_extension": ".py",
   "mimetype": "text/x-python",
   "name": "python",
   "nbconvert_exporter": "python",
   "pygments_lexer": "ipython3",
   "version": "3.12.4"
  }
 },
 "nbformat": 4,
 "nbformat_minor": 2
}
