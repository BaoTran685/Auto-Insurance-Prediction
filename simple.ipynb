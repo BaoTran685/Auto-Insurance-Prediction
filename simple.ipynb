{
 "cells": [
  {
   "cell_type": "code",
   "execution_count": 46,
   "metadata": {},
   "outputs": [],
   "source": [
    "# for data manipulation\n",
    "import pandas as pd\n",
    "import numpy as np\n",
    "# for plotting\n",
    "import matplotlib.pyplot as plt\n",
    "import plotly.express as px\n",
    "import plotly.graph_objects as go # note that github wont be able to display these plots because they are interactive\n",
    "# for some processing\n",
    "import math\n",
    "from datetime import datetime, timedelta"
   ]
  },
  {
   "cell_type": "code",
   "execution_count": 47,
   "metadata": {},
   "outputs": [],
   "source": [
    "import sys\n",
    "import os\n",
    "\n",
    "class SuppressPrints:\n",
    "    def __enter__(self):\n",
    "        self._original_stdout = sys.stdout  # Save the original stdout\n",
    "        sys.stdout = open(os.devnull, 'w')  # Redirect stdout to null\n",
    "\n",
    "    def __exit__(self, exc_type, exc_value, traceback):\n",
    "        sys.stdout.close()  # Close the null file\n",
    "        sys.stdout = self._original_stdout  # Restore original stdout"
   ]
  },
  {
   "cell_type": "code",
   "execution_count": 48,
   "metadata": {},
   "outputs": [],
   "source": [
    "from sklearn.neural_network import MLPClassifier\n",
    "from sklearn.model_selection import train_test_split, GridSearchCV\n",
    "from sklearn.linear_model import LogisticRegression\n",
    "from sklearn.ensemble import RandomForestClassifier\n",
    "from sklearn.preprocessing import StandardScaler, MinMaxScaler\n",
    "from sklearn.metrics import accuracy_score, f1_score, confusion_matrix, classification_report, make_scorer\n",
    "from sklearn.utils import resample"
   ]
  },
  {
   "cell_type": "code",
   "execution_count": 49,
   "metadata": {},
   "outputs": [
    {
     "name": "stdout",
     "output_type": "stream",
     "text": [
      "<class 'pandas.core.frame.DataFrame'>\n",
      "RangeIndex: 7290 entries, 0 to 7289\n",
      "Data columns (total 29 columns):\n",
      " #   Column                         Non-Null Count  Dtype  \n",
      "---  ------                         --------------  -----  \n",
      " 0   CustomerID                     7290 non-null   object \n",
      " 1   State                          7290 non-null   object \n",
      " 2   Customer Lifetime Value        7290 non-null   float64\n",
      " 3   Response                       7290 non-null   object \n",
      " 4   Coverage                       7290 non-null   object \n",
      " 5   Coverage Index                 7290 non-null   int64  \n",
      " 6   Education                      7290 non-null   object \n",
      " 7   Education Index                7290 non-null   int64  \n",
      " 8   Effective To Date              7290 non-null   object \n",
      " 9   Employment Status              7290 non-null   object \n",
      " 10  Employment Status Index        7290 non-null   int64  \n",
      " 11  Gender                         7290 non-null   object \n",
      " 12  Income                         7290 non-null   int64  \n",
      " 13  Marital Status                 7290 non-null   object \n",
      " 14  Marital Status Index           7290 non-null   int64  \n",
      " 15  Months Since Last Claim        7290 non-null   int64  \n",
      " 16  Months Since Policy Inception  7290 non-null   int64  \n",
      " 17  Number of Open Complaints      7290 non-null   int64  \n",
      " 18  Number of Policies             7290 non-null   int64  \n",
      " 19  Policy Type                    7290 non-null   object \n",
      " 20  Policy Type Index              7290 non-null   int64  \n",
      " 21  Policy                         7290 non-null   object \n",
      " 22  Policy Index                   7290 non-null   int64  \n",
      " 23  Renew Offer Type               7290 non-null   int64  \n",
      " 24  Sales Channel                  7290 non-null   object \n",
      " 25  Sales Channel Index            7290 non-null   int64  \n",
      " 26  Vehicle Size                   7290 non-null   object \n",
      " 27  Vehicle Size Index             7290 non-null   int64  \n",
      " 28  Claim over 1k                  7290 non-null   int64  \n",
      "dtypes: float64(1), int64(15), object(13)\n",
      "memory usage: 1.6+ MB\n"
     ]
    }
   ],
   "source": [
    "folder = \"kaggle/input/\"\n",
    "df = pd.read_csv(folder + \"train.csv\")\n",
    "df.info()"
   ]
  },
  {
   "cell_type": "code",
   "execution_count": 50,
   "metadata": {},
   "outputs": [
    {
     "name": "stdout",
     "output_type": "stream",
     "text": [
      "<class 'pandas.core.frame.DataFrame'>\n",
      "RangeIndex: 7290 entries, 0 to 7289\n",
      "Data columns (total 20 columns):\n",
      " #   Column                         Non-Null Count  Dtype  \n",
      "---  ------                         --------------  -----  \n",
      " 0   State                          7290 non-null   object \n",
      " 1   Customer Lifetime Value        7290 non-null   float64\n",
      " 2   Response                       7290 non-null   object \n",
      " 3   Coverage Index                 7290 non-null   int64  \n",
      " 4   Education Index                7290 non-null   int64  \n",
      " 5   Effective To Date              7290 non-null   object \n",
      " 6   Employment Status Index        7290 non-null   int64  \n",
      " 7   Gender                         7290 non-null   object \n",
      " 8   Income                         7290 non-null   int64  \n",
      " 9   Marital Status Index           7290 non-null   int64  \n",
      " 10  Months Since Last Claim        7290 non-null   int64  \n",
      " 11  Months Since Policy Inception  7290 non-null   int64  \n",
      " 12  Number of Open Complaints      7290 non-null   int64  \n",
      " 13  Number of Policies             7290 non-null   int64  \n",
      " 14  Policy Type Index              7290 non-null   int64  \n",
      " 15  Policy Index                   7290 non-null   int64  \n",
      " 16  Renew Offer Type               7290 non-null   int64  \n",
      " 17  Sales Channel Index            7290 non-null   int64  \n",
      " 18  Vehicle Size Index             7290 non-null   int64  \n",
      " 19  Claim over 1k                  7290 non-null   int64  \n",
      "dtypes: float64(1), int64(15), object(4)\n",
      "memory usage: 1.1+ MB\n"
     ]
    },
    {
     "data": {
      "text/plain": [
       "Claim over 1k\n",
       "0    6458\n",
       "1     832\n",
       "Name: count, dtype: int64"
      ]
     },
     "execution_count": 50,
     "metadata": {},
     "output_type": "execute_result"
    }
   ],
   "source": [
    "# drop the unnecessary columns\n",
    "df_train = df.drop(columns = [\"CustomerID\", \"Coverage\", \"Education\", \"Employment Status\", \"Marital Status\", \"Policy Type\", \"Policy\", \"Sales Channel\", \"Vehicle Size\"])\n",
    "df_train.info()\n",
    "df_train[\"Claim over 1k\"].value_counts()"
   ]
  },
  {
   "cell_type": "code",
   "execution_count": 51,
   "metadata": {},
   "outputs": [],
   "source": [
    "from plotly.subplots import make_subplots\n",
    "\n",
    "def relation_to_claim_over_1k(df):\n",
    "  plt.figure(figsize=(30, 80))\n",
    "  numerical_cols = df.columns.tolist()\n",
    "  not_include = [\"Customer Lifetime Value\", \"Income\", \"Claim over 1k\"]\n",
    "  numerical_cols = [col for col in numerical_cols if col not in not_include]\n",
    "  \n",
    "  number_of_rows = math.ceil(len(numerical_cols) / 2)\n",
    "  fig = make_subplots(rows = number_of_rows, cols=2, subplot_titles=numerical_cols, vertical_spacing=0.01, horizontal_spacing=0.05)\n",
    "  for idx, col in enumerate(numerical_cols):\n",
    "    df_count = df.groupby([col, \"Claim over 1k\"]).size().reset_index(name='count')\n",
    "    unique_val = df_count[col].unique()\n",
    "    i, j = (idx // 2) + 1, (idx % 2) + 1\n",
    "    for val in unique_val:\n",
    "      df_cur = df_count[df_count[col] == val]\n",
    "      fig.add_trace(\n",
    "        go.Bar(\n",
    "          x = df_cur[\"Claim over 1k\"],\n",
    "          y = df_cur[\"count\"],\n",
    "          name = f\"{val}\"\n",
    "        ),\n",
    "        row=i, col=j\n",
    "      )\n",
    "  fig.update_layout(\n",
    "      height=300 * number_of_rows,  # Adjust figure height dynamically based on the number of rows\n",
    "      showlegend=False,\n",
    "      title_text=\"How Each Column Affects 'Claim over 1k'\"\n",
    "  )\n",
    "  # Show the figure with all subplots\n",
    "  fig.show()"
   ]
  },
  {
   "cell_type": "code",
   "execution_count": 52,
   "metadata": {},
   "outputs": [],
   "source": [
    "def numeric_info(df, col):\n",
    "  print(f\"Min of {col}: \", df[col].min())\n",
    "  print(f\"Max of {col}: \", df[col].max())\n",
    "  print(f\"Mean of {col}: \", df[col].mean())\n",
    "  print(f\"Mendian of {col}: \", df[col].median())\n",
    "  print(f\"Std of {col}: \", df[col].std())"
   ]
  },
  {
   "cell_type": "code",
   "execution_count": 53,
   "metadata": {},
   "outputs": [],
   "source": [
    "def binning(df, col, size):\n",
    "  df[col + \"_bin\"] = pd.qcut(df[col], q=size, labels=False, duplicates=\"drop\")\n",
    "\n",
    "def convert(n, range_max, range_min):\n",
    "  return n / (range_max - range_min)\n",
    "\n",
    "def pre_process(df):\n",
    "  # State\n",
    "  unique_states = df[\"State\"].unique()\n",
    "  dict_states = {}\n",
    "  for i in range(len(unique_states)):\n",
    "    dict_states[unique_states[i]] = i\n",
    "  df[\"State\"] = df[\"State\"].apply(lambda x: dict_states[x])\n",
    "  \n",
    "  # Response\n",
    "  # note that resonse should be either yes or no\n",
    "  df[\"Response\"] = df[\"Response\"].apply(lambda x: 1 if x == \"Yes\" else 0)\n",
    "\n",
    "  # Effective To Date\n",
    "  df[\"Effective To Date\"] = pd.to_datetime(df[\"Effective To Date\"])\n",
    "  df[\"Effective To Season\"] = (df[\"Effective To Date\"].dt.month - 1) // 3 # split into 4 seasons\n",
    "  df.drop(\"Effective To Date\", axis=1, inplace=True)\n",
    "\n",
    "  # Months Since Last Claim, Months Since Last Inception\n",
    "  binning(df, \"Months Since Last Claim\", 5)\n",
    "  binning(df, \"Months Since Policy Inception\", 5)\n",
    "\n",
    "  # Gender\n",
    "  df[\"Gender\"] = df[\"Gender\"].apply(lambda x: 1 if x == \"M\" else 0)\n",
    "\n",
    "  # CLV\n",
    "  binning(df, \"Customer Lifetime Value\", 80)\n",
    "  # Categorize CLV\n",
    "  clv_bins = [df['Customer Lifetime Value'].min(), 5000, 10000, df['Customer Lifetime Value'].max()]\n",
    "  clv_labels = [0, 1, 2]\n",
    "  df['CLV_Category'] = pd.cut(df['Customer Lifetime Value'], bins=clv_bins, labels=clv_labels, include_lowest=True)\n",
    "  \n",
    "  # Income\n",
    "  binning(df, \"Income\", 60)\n",
    "  # Categorize Income\n",
    "  income_bins = [df['Income'].min(), 40000, 80000, df['Income'].max()]\n",
    "  income_labels = [0, 1, 2]\n",
    "  df['Income_Category'] = pd.cut(df['Income'], bins=income_bins, labels=income_labels, include_lowest=True)\n",
    "\n",
    "  # New col: CLV per number of policies and months since policy inception\n",
    "  df[\"Money Spent per Policy\"] = df[\"Customer Lifetime Value\"] / ((df[\"Coverage Index\"] + 1) * (df[\"Number of Policies\"] + 1))\n",
    "\n",
    "  binning(df, \"Money Spent per Policy\", 80)\n",
    "\n",
    "  # New col: Accident Likelihood\n",
    "  max_education_index = df[\"Education Index\"].max()\n",
    "  min_education_index = df[\"Education Index\"].min()\n",
    "  max_income_bin = df[\"Income_bin\"].max()\n",
    "  min_income_bin = df[\"Income_bin\"].min()\n",
    "  max_marital_status_index = df[\"Marital Status Index\"].max()\n",
    "  min_marital_status_index = df[\"Marital Status Index\"].min()\n",
    "  df[\"Accident Likelihood\"] = np.exp( 4 * convert(max_education_index - df[\"Education Index\"], max_education_index, min_education_index) \\\n",
    "    + 3 * convert(max_income_bin - df[\"Income_bin\"], max_income_bin, min_income_bin) \\\n",
    "    + 3 * (df[\"Marital Status Index\"].apply(lambda x: max_marital_status_index if x == 0 else 0)))\n",
    "\n",
    "  binning(df, \"Accident Likelihood\", 5)\n",
    "\n",
    "  # New col: Claim over 1k Likelihood based on State and Gender\n",
    "  group_over = [\"State\", \"Gender\", \"Employment Status Index\", \"Income_bin\"]\n",
    "  likelihood_df = df.groupby(group_over)[\"Accident Likelihood\"].mean().reset_index()\n",
    "  likelihood_df.rename(columns={\"Accident Likelihood\": \"Location Based Likelihood\"}, inplace=True)\n",
    "  # Merge the likelihood values back to the original dataframe\n",
    "  df = pd.merge(df, likelihood_df, on=group_over, how=\"left\")\n",
    "  \n",
    "  binning(df, \"Location Based Likelihood\", 15)\n",
    "\n",
    "  # New col: may relate to the Customer Lifetime Value\n",
    "  df[\"Insurance\"] = np.exp(convert(df[\"Number of Policies\"], df[\"Number of Policies\"].max(), df[\"Number of Policies\"].min()) \\\n",
    "    + convert(df[\"Coverage Index\"], df[\"Coverage Index\"].max(), df[\"Coverage Index\"].min()) \\\n",
    "    + convert(df[\"Number of Policies\"], df[\"Number of Policies\"].max(), df[\"Number of Policies\"].min()) * convert(df[\"Coverage Index\"], df[\"Coverage Index\"].max(), df[\"Coverage Index\"].min())\n",
    "    # + 0.5 * convert(df[\"Policy Index\"], df[\"Policy Index\"].max(), df[\"Policy Index\"].min()) \\\n",
    "    # + 0.5 * convert(df[\"Sales Channel Index\"], df[\"Sales Channel Index\"].max(), df[\"Sales Channel Index\"].min()) \\\n",
    "    # + 0.5 * convert(df[\"Renew Offer Type\"], df[\"Renew Offer Type\"].max(), df[\"Renew Offer Type\"].min())\n",
    "    # + 0.5 * convert(df[\"Months Since Policy Inception\"], df[\"Months Since Policy Inception\"].max(), df[\"Months Since Policy Inception\"].min())\n",
    "    )\n",
    "\n",
    "  binning(df, \"Insurance\", 60)\n",
    "\n",
    "  # New col: may relate to Cusomter Lifetime Value\n",
    "  df[\"Customer Interaction\"] = np.exp(convert(df[\"Response\"], df[\"Response\"].max(), df[\"Response\"].min()) \\\n",
    "    + convert(df[\"Number of Open Complaints\"], df[\"Number of Open Complaints\"].max(), df[\"Number of Open Complaints\"].min()))\n",
    "  \n",
    "  binning(df, \"Customer Interaction\", 30)\n",
    "\n",
    "  # New col: may realte to Accident Likelihood\n",
    "  group_datetime = [\"Months Since Last Claim\", \"Effective To Season\"]\n",
    "  datetime_df = df.groupby(group_datetime)[\"Accident Likelihood\"].mean().reset_index()\n",
    "  datetime_df.rename(columns={\"Accident Likelihood\": \"Date Time\"}, inplace=True)\n",
    "  # Merge\n",
    "  df = pd.merge(df, datetime_df, on=group_datetime, how=\"left\")\n",
    "\n",
    "  binning(df, \"Date Time\", 30)\n",
    "\n",
    "  # cols_to_remove = [\"Customer Lifetime Value\", \"Accident Likelihood\", \"Income\", \"Insurance\", \"Location Based Likelihood\", \"Date Time\", \\\n",
    "  #   \"Months Since Policy Inception\", \"Vehicle Size Index\", \"Gender\", \"Effective To Season\", \"Policy Index\", \"Customer Interaction\", \\\n",
    "  #   \"Education Index\", \"Months Since Last Claim\", \"Renew Offer Type\", \"State\", \"Number of Open Complaints\", \"Sales Channel Index\", \"Response\", \"Policy Type Index\"\n",
    "  #   ]\n",
    "  # df.drop(columns=cols_to_remove, axis=1, inplace=True)\n",
    "  # cols_to_use = [\"Customer Lifetime Value\", \"Money Spent per Policy\", \"Accident Likelihood\", \"Number of Policies\", \"Income\", \"Coverage Index\", \\\n",
    "  #   \"Employment Status Index\", \"Insurance\", \"Marital Status Index\", \"Location Based Likelihood\", \"Claim over 1k\", \\\n",
    "  #   \"Date Time\", \"Education Index\", \"Months Since Last Claim\", \"Vehicle Size Index\", \"Gender\", \"Months Since Policy Inception\"\n",
    "  #   ]\n",
    "  cols_to_use = [\"Customer Lifetime Value\", \"Money Spent per Policy_bin\", \"Accident Likelihood_bin\", \"Number of Policies\", \"Income_bin\", \"Coverage Index\", \\\n",
    "    \"Employment Status Index\", \"Insurance_bin\", \"Marital Status Index\", \"Location Based Likelihood_bin\", \"Claim over 1k\", \\\n",
    "    \"Date Time\", \"Months Since Last Claim\", \"Gender\", \"Months Since Policy Inception\", \\\n",
    "    \"CLV_Category\", \"Income_Category\"\n",
    "    ]\n",
    "  return df[cols_to_use]"
   ]
  },
  {
   "cell_type": "code",
   "execution_count": 54,
   "metadata": {},
   "outputs": [],
   "source": [
    "df_process = pre_process(df_train.copy())"
   ]
  },
  {
   "cell_type": "code",
   "execution_count": 55,
   "metadata": {},
   "outputs": [
    {
     "name": "stderr",
     "output_type": "stream",
     "text": [
      "/tmp/ipykernel_63878/4146269032.py:12: FutureWarning:\n",
      "\n",
      "The default of observed=False is deprecated and will be changed to True in a future version of pandas. Pass observed=False to retain current behavior or observed=True to adopt the future default and silence this warning.\n",
      "\n",
      "/tmp/ipykernel_63878/4146269032.py:12: FutureWarning:\n",
      "\n",
      "The default of observed=False is deprecated and will be changed to True in a future version of pandas. Pass observed=False to retain current behavior or observed=True to adopt the future default and silence this warning.\n",
      "\n"
     ]
    },
    {
     "data": {
      "application/vnd.plotly.v1+json": {
       "config": {
        "plotlyServerURL": "https://plot.ly"
       },
       "data": [
        {
         "name": "0",
         "type": "bar",
         "x": [
          0,
          1
         ],
         "xaxis": "x",
         "y": [
          82,
          10
         ],
         "yaxis": "y"
        },
        {
         "name": "1",
         "type": "bar",
         "x": [
          0,
          1
         ],
         "xaxis": "x",
         "y": [
          83,
          8
         ],
         "yaxis": "y"
        },
        {
         "name": "2",
         "type": "bar",
         "x": [
          0,
          1
         ],
         "xaxis": "x",
         "y": [
          79,
          12
         ],
         "yaxis": "y"
        },
        {
         "name": "3",
         "type": "bar",
         "x": [
          0,
          1
         ],
         "xaxis": "x",
         "y": [
          85,
          6
         ],
         "yaxis": "y"
        },
        {
         "name": "4",
         "type": "bar",
         "x": [
          0,
          1
         ],
         "xaxis": "x",
         "y": [
          85,
          6
         ],
         "yaxis": "y"
        },
        {
         "name": "5",
         "type": "bar",
         "x": [
          0,
          1
         ],
         "xaxis": "x",
         "y": [
          77,
          14
         ],
         "yaxis": "y"
        },
        {
         "name": "6",
         "type": "bar",
         "x": [
          0,
          1
         ],
         "xaxis": "x",
         "y": [
          86,
          5
         ],
         "yaxis": "y"
        },
        {
         "name": "7",
         "type": "bar",
         "x": [
          0,
          1
         ],
         "xaxis": "x",
         "y": [
          86,
          5
         ],
         "yaxis": "y"
        },
        {
         "name": "8",
         "type": "bar",
         "x": [
          0,
          1
         ],
         "xaxis": "x",
         "y": [
          85,
          7
         ],
         "yaxis": "y"
        },
        {
         "name": "9",
         "type": "bar",
         "x": [
          0,
          1
         ],
         "xaxis": "x",
         "y": [
          80,
          11
         ],
         "yaxis": "y"
        },
        {
         "name": "10",
         "type": "bar",
         "x": [
          0,
          1
         ],
         "xaxis": "x",
         "y": [
          66,
          25
         ],
         "yaxis": "y"
        },
        {
         "name": "11",
         "type": "bar",
         "x": [
          0,
          1
         ],
         "xaxis": "x",
         "y": [
          79,
          12
         ],
         "yaxis": "y"
        },
        {
         "name": "12",
         "type": "bar",
         "x": [
          0,
          1
         ],
         "xaxis": "x",
         "y": [
          82,
          9
         ],
         "yaxis": "y"
        },
        {
         "name": "13",
         "type": "bar",
         "x": [
          0,
          1
         ],
         "xaxis": "x",
         "y": [
          84,
          11
         ],
         "yaxis": "y"
        },
        {
         "name": "14",
         "type": "bar",
         "x": [
          0,
          1
         ],
         "xaxis": "x",
         "y": [
          82,
          5
         ],
         "yaxis": "y"
        },
        {
         "name": "15",
         "type": "bar",
         "x": [
          0,
          1
         ],
         "xaxis": "x",
         "y": [
          86,
          5
         ],
         "yaxis": "y"
        },
        {
         "name": "16",
         "type": "bar",
         "x": [
          0,
          1
         ],
         "xaxis": "x",
         "y": [
          83,
          8
         ],
         "yaxis": "y"
        },
        {
         "name": "17",
         "type": "bar",
         "x": [
          0,
          1
         ],
         "xaxis": "x",
         "y": [
          80,
          12
         ],
         "yaxis": "y"
        },
        {
         "name": "18",
         "type": "bar",
         "x": [
          0,
          1
         ],
         "xaxis": "x",
         "y": [
          83,
          8
         ],
         "yaxis": "y"
        },
        {
         "name": "19",
         "type": "bar",
         "x": [
          0,
          1
         ],
         "xaxis": "x",
         "y": [
          86,
          5
         ],
         "yaxis": "y"
        },
        {
         "name": "20",
         "type": "bar",
         "x": [
          0,
          1
         ],
         "xaxis": "x",
         "y": [
          86,
          9
         ],
         "yaxis": "y"
        },
        {
         "name": "21",
         "type": "bar",
         "x": [
          0,
          1
         ],
         "xaxis": "x",
         "y": [
          81,
          6
         ],
         "yaxis": "y"
        },
        {
         "name": "22",
         "type": "bar",
         "x": [
          0,
          1
         ],
         "xaxis": "x",
         "y": [
          86,
          5
         ],
         "yaxis": "y"
        },
        {
         "name": "23",
         "type": "bar",
         "x": [
          0,
          1
         ],
         "xaxis": "x",
         "y": [
          83,
          8
         ],
         "yaxis": "y"
        },
        {
         "name": "24",
         "type": "bar",
         "x": [
          0,
          1
         ],
         "xaxis": "x",
         "y": [
          87,
          4
         ],
         "yaxis": "y"
        },
        {
         "name": "25",
         "type": "bar",
         "x": [
          0,
          1
         ],
         "xaxis": "x",
         "y": [
          80,
          11
         ],
         "yaxis": "y"
        },
        {
         "name": "26",
         "type": "bar",
         "x": [
          0,
          1
         ],
         "xaxis": "x",
         "y": [
          83,
          9
         ],
         "yaxis": "y"
        },
        {
         "name": "27",
         "type": "bar",
         "x": [
          0,
          1
         ],
         "xaxis": "x",
         "y": [
          75,
          16
         ],
         "yaxis": "y"
        },
        {
         "name": "28",
         "type": "bar",
         "x": [
          0,
          1
         ],
         "xaxis": "x",
         "y": [
          81,
          10
         ],
         "yaxis": "y"
        },
        {
         "name": "29",
         "type": "bar",
         "x": [
          0,
          1
         ],
         "xaxis": "x",
         "y": [
          77,
          14
         ],
         "yaxis": "y"
        },
        {
         "name": "30",
         "type": "bar",
         "x": [
          0,
          1
         ],
         "xaxis": "x",
         "y": [
          85,
          6
         ],
         "yaxis": "y"
        },
        {
         "name": "31",
         "type": "bar",
         "x": [
          0,
          1
         ],
         "xaxis": "x",
         "y": [
          75,
          16
         ],
         "yaxis": "y"
        },
        {
         "name": "32",
         "type": "bar",
         "x": [
          0,
          1
         ],
         "xaxis": "x",
         "y": [
          75,
          16
         ],
         "yaxis": "y"
        },
        {
         "name": "33",
         "type": "bar",
         "x": [
          0,
          1
         ],
         "xaxis": "x",
         "y": [
          77,
          14
         ],
         "yaxis": "y"
        },
        {
         "name": "34",
         "type": "bar",
         "x": [
          0,
          1
         ],
         "xaxis": "x",
         "y": [
          77,
          14
         ],
         "yaxis": "y"
        },
        {
         "name": "35",
         "type": "bar",
         "x": [
          0,
          1
         ],
         "xaxis": "x",
         "y": [
          83,
          9
         ],
         "yaxis": "y"
        },
        {
         "name": "36",
         "type": "bar",
         "x": [
          0,
          1
         ],
         "xaxis": "x",
         "y": [
          83,
          8
         ],
         "yaxis": "y"
        },
        {
         "name": "37",
         "type": "bar",
         "x": [
          0,
          1
         ],
         "xaxis": "x",
         "y": [
          85,
          6
         ],
         "yaxis": "y"
        },
        {
         "name": "38",
         "type": "bar",
         "x": [
          0,
          1
         ],
         "xaxis": "x",
         "y": [
          88,
          3
         ],
         "yaxis": "y"
        },
        {
         "name": "39",
         "type": "bar",
         "x": [
          0,
          1
         ],
         "xaxis": "x",
         "y": [
          85,
          6
         ],
         "yaxis": "y"
        },
        {
         "name": "40",
         "type": "bar",
         "x": [
          0,
          1
         ],
         "xaxis": "x",
         "y": [
          94,
          1
         ],
         "yaxis": "y"
        },
        {
         "name": "41",
         "type": "bar",
         "x": [
          0,
          1
         ],
         "xaxis": "x",
         "y": [
          80,
          7
         ],
         "yaxis": "y"
        },
        {
         "name": "42",
         "type": "bar",
         "x": [
          0,
          1
         ],
         "xaxis": "x",
         "y": [
          87,
          4
         ],
         "yaxis": "y"
        },
        {
         "name": "43",
         "type": "bar",
         "x": [
          0,
          1
         ],
         "xaxis": "x",
         "y": [
          89,
          2
         ],
         "yaxis": "y"
        },
        {
         "name": "44",
         "type": "bar",
         "x": [
          0,
          1
         ],
         "xaxis": "x",
         "y": [
          86,
          6
         ],
         "yaxis": "y"
        },
        {
         "name": "45",
         "type": "bar",
         "x": [
          0,
          1
         ],
         "xaxis": "x",
         "y": [
          88,
          3
         ],
         "yaxis": "y"
        },
        {
         "name": "46",
         "type": "bar",
         "x": [
          0,
          1
         ],
         "xaxis": "x",
         "y": [
          89,
          2
         ],
         "yaxis": "y"
        },
        {
         "name": "47",
         "type": "bar",
         "x": [
          0,
          1
         ],
         "xaxis": "x",
         "y": [
          89,
          2
         ],
         "yaxis": "y"
        },
        {
         "name": "48",
         "type": "bar",
         "x": [
          0,
          1
         ],
         "xaxis": "x",
         "y": [
          90,
          4
         ],
         "yaxis": "y"
        },
        {
         "name": "49",
         "type": "bar",
         "x": [
          0,
          1
         ],
         "xaxis": "x",
         "y": [
          86,
          2
         ],
         "yaxis": "y"
        },
        {
         "name": "50",
         "type": "bar",
         "x": [
          0,
          1
         ],
         "xaxis": "x",
         "y": [
          84,
          7
         ],
         "yaxis": "y"
        },
        {
         "name": "51",
         "type": "bar",
         "x": [
          0,
          1
         ],
         "xaxis": "x",
         "y": [
          88,
          3
         ],
         "yaxis": "y"
        },
        {
         "name": "52",
         "type": "bar",
         "x": [
          0,
          1
         ],
         "xaxis": "x",
         "y": [
          86,
          6
         ],
         "yaxis": "y"
        },
        {
         "name": "53",
         "type": "bar",
         "x": [
          0,
          1
         ],
         "xaxis": "x",
         "y": [
          74,
          18
         ],
         "yaxis": "y"
        },
        {
         "name": "54",
         "type": "bar",
         "x": [
          0,
          1
         ],
         "xaxis": "x",
         "y": [
          66,
          24
         ],
         "yaxis": "y"
        },
        {
         "name": "55",
         "type": "bar",
         "x": [
          0,
          1
         ],
         "xaxis": "x",
         "y": [
          77,
          14
         ],
         "yaxis": "y"
        },
        {
         "name": "56",
         "type": "bar",
         "x": [
          0,
          1
         ],
         "xaxis": "x",
         "y": [
          62,
          29
         ],
         "yaxis": "y"
        },
        {
         "name": "57",
         "type": "bar",
         "x": [
          0,
          1
         ],
         "xaxis": "x",
         "y": [
          61,
          30
         ],
         "yaxis": "y"
        },
        {
         "name": "58",
         "type": "bar",
         "x": [
          0,
          1
         ],
         "xaxis": "x",
         "y": [
          77,
          14
         ],
         "yaxis": "y"
        },
        {
         "name": "59",
         "type": "bar",
         "x": [
          0,
          1
         ],
         "xaxis": "x",
         "y": [
          71,
          20
         ],
         "yaxis": "y"
        },
        {
         "name": "60",
         "type": "bar",
         "x": [
          0,
          1
         ],
         "xaxis": "x",
         "y": [
          74,
          17
         ],
         "yaxis": "y"
        },
        {
         "name": "61",
         "type": "bar",
         "x": [
          0,
          1
         ],
         "xaxis": "x",
         "y": [
          74,
          17
         ],
         "yaxis": "y"
        },
        {
         "name": "62",
         "type": "bar",
         "x": [
          0,
          1
         ],
         "xaxis": "x",
         "y": [
          83,
          9
         ],
         "yaxis": "y"
        },
        {
         "name": "63",
         "type": "bar",
         "x": [
          0,
          1
         ],
         "xaxis": "x",
         "y": [
          89,
          2
         ],
         "yaxis": "y"
        },
        {
         "name": "64",
         "type": "bar",
         "x": [
          0,
          1
         ],
         "xaxis": "x",
         "y": [
          85,
          6
         ],
         "yaxis": "y"
        },
        {
         "name": "65",
         "type": "bar",
         "x": [
          0,
          1
         ],
         "xaxis": "x",
         "y": [
          85,
          7
         ],
         "yaxis": "y"
        },
        {
         "name": "66",
         "type": "bar",
         "x": [
          0,
          1
         ],
         "xaxis": "x",
         "y": [
          85,
          5
         ],
         "yaxis": "y"
        },
        {
         "name": "67",
         "type": "bar",
         "x": [
          0,
          1
         ],
         "xaxis": "x",
         "y": [
          86,
          5
         ],
         "yaxis": "y"
        },
        {
         "name": "68",
         "type": "bar",
         "x": [
          0,
          1
         ],
         "xaxis": "x",
         "y": [
          87,
          4
         ],
         "yaxis": "y"
        },
        {
         "name": "69",
         "type": "bar",
         "x": [
          0,
          1
         ],
         "xaxis": "x",
         "y": [
          86,
          5
         ],
         "yaxis": "y"
        },
        {
         "name": "70",
         "type": "bar",
         "x": [
          0,
          1
         ],
         "xaxis": "x",
         "y": [
          63,
          28
         ],
         "yaxis": "y"
        },
        {
         "name": "71",
         "type": "bar",
         "x": [
          0,
          1
         ],
         "xaxis": "x",
         "y": [
          60,
          32
         ],
         "yaxis": "y"
        },
        {
         "name": "72",
         "type": "bar",
         "x": [
          0,
          1
         ],
         "xaxis": "x",
         "y": [
          59,
          33
         ],
         "yaxis": "y"
        },
        {
         "name": "73",
         "type": "bar",
         "x": [
          0,
          1
         ],
         "xaxis": "x",
         "y": [
          80,
          14
         ],
         "yaxis": "y"
        },
        {
         "name": "74",
         "type": "bar",
         "x": [
          0,
          1
         ],
         "xaxis": "x",
         "y": [
          78,
          9
         ],
         "yaxis": "y"
        },
        {
         "name": "75",
         "type": "bar",
         "x": [
          0,
          1
         ],
         "xaxis": "x",
         "y": [
          80,
          11
         ],
         "yaxis": "y"
        },
        {
         "name": "76",
         "type": "bar",
         "x": [
          0,
          1
         ],
         "xaxis": "x",
         "y": [
          84,
          7
         ],
         "yaxis": "y"
        },
        {
         "name": "77",
         "type": "bar",
         "x": [
          0,
          1
         ],
         "xaxis": "x",
         "y": [
          78,
          13
         ],
         "yaxis": "y"
        },
        {
         "name": "78",
         "type": "bar",
         "x": [
          0,
          1
         ],
         "xaxis": "x",
         "y": [
          79,
          12
         ],
         "yaxis": "y"
        },
        {
         "name": "79",
         "type": "bar",
         "x": [
          0,
          1
         ],
         "xaxis": "x",
         "y": [
          68,
          24
         ],
         "yaxis": "y"
        },
        {
         "name": "0",
         "type": "bar",
         "x": [
          0,
          1
         ],
         "xaxis": "x2",
         "y": [
          1413,
          50
         ],
         "yaxis": "y2"
        },
        {
         "name": "1",
         "type": "bar",
         "x": [
          0,
          1
         ],
         "xaxis": "x2",
         "y": [
          1372,
          109
         ],
         "yaxis": "y2"
        },
        {
         "name": "2",
         "type": "bar",
         "x": [
          0,
          1
         ],
         "xaxis": "x2",
         "y": [
          1315,
          139
         ],
         "yaxis": "y2"
        },
        {
         "name": "3",
         "type": "bar",
         "x": [
          0,
          1
         ],
         "xaxis": "x2",
         "y": [
          1325,
          115
         ],
         "yaxis": "y2"
        },
        {
         "name": "4",
         "type": "bar",
         "x": [
          0,
          1
         ],
         "xaxis": "x2",
         "y": [
          1033,
          419
         ],
         "yaxis": "y2"
        },
        {
         "name": "1",
         "type": "bar",
         "x": [
          0,
          1
         ],
         "xaxis": "x3",
         "y": [
          2281,
          308
         ],
         "yaxis": "y3"
        },
        {
         "name": "2",
         "type": "bar",
         "x": [
          0,
          1
         ],
         "xaxis": "x3",
         "y": [
          1632,
          204
         ],
         "yaxis": "y3"
        },
        {
         "name": "3",
         "type": "bar",
         "x": [
          0,
          1
         ],
         "xaxis": "x3",
         "y": [
          839,
          82
         ],
         "yaxis": "y3"
        },
        {
         "name": "4",
         "type": "bar",
         "x": [
          0,
          1
         ],
         "xaxis": "x3",
         "y": [
          284,
          41
         ],
         "yaxis": "y3"
        },
        {
         "name": "5",
         "type": "bar",
         "x": [
          0,
          1
         ],
         "xaxis": "x3",
         "y": [
          285,
          35
         ],
         "yaxis": "y3"
        },
        {
         "name": "6",
         "type": "bar",
         "x": [
          0,
          1
         ],
         "xaxis": "x3",
         "y": [
          260,
          33
         ],
         "yaxis": "y3"
        },
        {
         "name": "7",
         "type": "bar",
         "x": [
          0,
          1
         ],
         "xaxis": "x3",
         "y": [
          299,
          54
         ],
         "yaxis": "y3"
        },
        {
         "name": "8",
         "type": "bar",
         "x": [
          0,
          1
         ],
         "xaxis": "x3",
         "y": [
          269,
          45
         ],
         "yaxis": "y3"
        },
        {
         "name": "9",
         "type": "bar",
         "x": [
          0,
          1
         ],
         "xaxis": "x3",
         "y": [
          309,
          30
         ],
         "yaxis": "y3"
        },
        {
         "name": "0",
         "type": "bar",
         "x": [
          0,
          1
         ],
         "xaxis": "x4",
         "y": [
          1483,
          461
         ],
         "yaxis": "y4"
        },
        {
         "name": "1",
         "type": "bar",
         "x": [
          0,
          1
         ],
         "xaxis": "x4",
         "y": [
          103,
          19
         ],
         "yaxis": "y4"
        },
        {
         "name": "2",
         "type": "bar",
         "x": [
          0,
          1
         ],
         "xaxis": "x4",
         "y": [
          98,
          23
         ],
         "yaxis": "y4"
        },
        {
         "name": "3",
         "type": "bar",
         "x": [
          0,
          1
         ],
         "xaxis": "x4",
         "y": [
          114,
          8
         ],
         "yaxis": "y4"
        },
        {
         "name": "4",
         "type": "bar",
         "x": [
          0,
          1
         ],
         "xaxis": "x4",
         "y": [
          108,
          13
         ],
         "yaxis": "y4"
        },
        {
         "name": "5",
         "type": "bar",
         "x": [
          0,
          1
         ],
         "xaxis": "x4",
         "y": [
          110,
          12
         ],
         "yaxis": "y4"
        },
        {
         "name": "6",
         "type": "bar",
         "x": [
          0,
          1
         ],
         "xaxis": "x4",
         "y": [
          110,
          11
         ],
         "yaxis": "y4"
        },
        {
         "name": "7",
         "type": "bar",
         "x": [
          0,
          1
         ],
         "xaxis": "x4",
         "y": [
          111,
          11
         ],
         "yaxis": "y4"
        },
        {
         "name": "8",
         "type": "bar",
         "x": [
          0,
          1
         ],
         "xaxis": "x4",
         "y": [
          109,
          12
         ],
         "yaxis": "y4"
        },
        {
         "name": "9",
         "type": "bar",
         "x": [
          0,
          1
         ],
         "xaxis": "x4",
         "y": [
          112,
          10
         ],
         "yaxis": "y4"
        },
        {
         "name": "10",
         "type": "bar",
         "x": [
          0,
          1
         ],
         "xaxis": "x4",
         "y": [
          112,
          10
         ],
         "yaxis": "y4"
        },
        {
         "name": "11",
         "type": "bar",
         "x": [
          0,
          1
         ],
         "xaxis": "x4",
         "y": [
          109,
          12
         ],
         "yaxis": "y4"
        },
        {
         "name": "12",
         "type": "bar",
         "x": [
          0,
          1
         ],
         "xaxis": "x4",
         "y": [
          108,
          13
         ],
         "yaxis": "y4"
        },
        {
         "name": "13",
         "type": "bar",
         "x": [
          0,
          1
         ],
         "xaxis": "x4",
         "y": [
          113,
          9
         ],
         "yaxis": "y4"
        },
        {
         "name": "14",
         "type": "bar",
         "x": [
          0,
          1
         ],
         "xaxis": "x4",
         "y": [
          112,
          9
         ],
         "yaxis": "y4"
        },
        {
         "name": "15",
         "type": "bar",
         "x": [
          0,
          1
         ],
         "xaxis": "x4",
         "y": [
          113,
          8
         ],
         "yaxis": "y4"
        },
        {
         "name": "16",
         "type": "bar",
         "x": [
          0,
          1
         ],
         "xaxis": "x4",
         "y": [
          112,
          10
         ],
         "yaxis": "y4"
        },
        {
         "name": "17",
         "type": "bar",
         "x": [
          0,
          1
         ],
         "xaxis": "x4",
         "y": [
          117,
          4
         ],
         "yaxis": "y4"
        },
        {
         "name": "18",
         "type": "bar",
         "x": [
          0,
          1
         ],
         "xaxis": "x4",
         "y": [
          110,
          12
         ],
         "yaxis": "y4"
        },
        {
         "name": "19",
         "type": "bar",
         "x": [
          0,
          1
         ],
         "xaxis": "x4",
         "y": [
          115,
          6
         ],
         "yaxis": "y4"
        },
        {
         "name": "20",
         "type": "bar",
         "x": [
          0,
          1
         ],
         "xaxis": "x4",
         "y": [
          112,
          10
         ],
         "yaxis": "y4"
        },
        {
         "name": "21",
         "type": "bar",
         "x": [
          0,
          1
         ],
         "xaxis": "x4",
         "y": [
          115,
          6
         ],
         "yaxis": "y4"
        },
        {
         "name": "22",
         "type": "bar",
         "x": [
          0,
          1
         ],
         "xaxis": "x4",
         "y": [
          111,
          11
         ],
         "yaxis": "y4"
        },
        {
         "name": "23",
         "type": "bar",
         "x": [
          0,
          1
         ],
         "xaxis": "x4",
         "y": [
          113,
          8
         ],
         "yaxis": "y4"
        },
        {
         "name": "24",
         "type": "bar",
         "x": [
          0,
          1
         ],
         "xaxis": "x4",
         "y": [
          106,
          16
         ],
         "yaxis": "y4"
        },
        {
         "name": "25",
         "type": "bar",
         "x": [
          0,
          1
         ],
         "xaxis": "x4",
         "y": [
          118,
          3
         ],
         "yaxis": "y4"
        },
        {
         "name": "26",
         "type": "bar",
         "x": [
          0,
          1
         ],
         "xaxis": "x4",
         "y": [
          108,
          14
         ],
         "yaxis": "y4"
        },
        {
         "name": "27",
         "type": "bar",
         "x": [
          0,
          1
         ],
         "xaxis": "x4",
         "y": [
          116,
          8
         ],
         "yaxis": "y4"
        },
        {
         "name": "28",
         "type": "bar",
         "x": [
          0,
          1
         ],
         "xaxis": "x4",
         "y": [
          107,
          12
         ],
         "yaxis": "y4"
        },
        {
         "name": "29",
         "type": "bar",
         "x": [
          0,
          1
         ],
         "xaxis": "x4",
         "y": [
          116,
          5
         ],
         "yaxis": "y4"
        },
        {
         "name": "30",
         "type": "bar",
         "x": [
          0,
          1
         ],
         "xaxis": "x4",
         "y": [
          118,
          4
         ],
         "yaxis": "y4"
        },
        {
         "name": "31",
         "type": "bar",
         "x": [
          0,
          1
         ],
         "xaxis": "x4",
         "y": [
          115,
          6
         ],
         "yaxis": "y4"
        },
        {
         "name": "32",
         "type": "bar",
         "x": [
          0,
          1
         ],
         "xaxis": "x4",
         "y": [
          119,
          3
         ],
         "yaxis": "y4"
        },
        {
         "name": "33",
         "type": "bar",
         "x": [
          0,
          1
         ],
         "xaxis": "x4",
         "y": [
          112,
          9
         ],
         "yaxis": "y4"
        },
        {
         "name": "34",
         "type": "bar",
         "x": [
          0,
          1
         ],
         "xaxis": "x4",
         "y": [
          115,
          7
         ],
         "yaxis": "y4"
        },
        {
         "name": "35",
         "type": "bar",
         "x": [
          0,
          1
         ],
         "xaxis": "x4",
         "y": [
          116,
          5
         ],
         "yaxis": "y4"
        },
        {
         "name": "36",
         "type": "bar",
         "x": [
          0,
          1
         ],
         "xaxis": "x4",
         "y": [
          119,
          3
         ],
         "yaxis": "y4"
        },
        {
         "name": "37",
         "type": "bar",
         "x": [
          0,
          1
         ],
         "xaxis": "x4",
         "y": [
          118,
          3
         ],
         "yaxis": "y4"
        },
        {
         "name": "38",
         "type": "bar",
         "x": [
          0,
          1
         ],
         "xaxis": "x4",
         "y": [
          117,
          5
         ],
         "yaxis": "y4"
        },
        {
         "name": "39",
         "type": "bar",
         "x": [
          0,
          1
         ],
         "xaxis": "x4",
         "y": [
          120,
          2
         ],
         "yaxis": "y4"
        },
        {
         "name": "40",
         "type": "bar",
         "x": [
          0,
          1
         ],
         "xaxis": "x4",
         "y": [
          119,
          2
         ],
         "yaxis": "y4"
        },
        {
         "name": "41",
         "type": "bar",
         "x": [
          0,
          1
         ],
         "xaxis": "x4",
         "y": [
          114,
          7
         ],
         "yaxis": "y4"
        },
        {
         "name": "42",
         "type": "bar",
         "x": [
          0,
          1
         ],
         "xaxis": "x4",
         "y": [
          116,
          6
         ],
         "yaxis": "y4"
        },
        {
         "name": "43",
         "type": "bar",
         "x": [
          0,
          1
         ],
         "xaxis": "x4",
         "y": [
          118,
          3
         ],
         "yaxis": "y4"
        },
        {
         "name": "44",
         "type": "bar",
         "x": [
          0,
          1
         ],
         "xaxis": "x4",
         "y": [
          121,
          1
         ],
         "yaxis": "y4"
        },
        {
         "name": "0",
         "type": "bar",
         "x": [
          0,
          1
         ],
         "xaxis": "x5",
         "y": [
          4060,
          327
         ],
         "yaxis": "y5"
        },
        {
         "name": "1",
         "type": "bar",
         "x": [
          0,
          1
         ],
         "xaxis": "x5",
         "y": [
          1961,
          271
         ],
         "yaxis": "y5"
        },
        {
         "name": "2",
         "type": "bar",
         "x": [
          0,
          1
         ],
         "xaxis": "x5",
         "y": [
          437,
          234
         ],
         "yaxis": "y5"
        },
        {
         "name": "0",
         "type": "bar",
         "x": [
          0,
          1
         ],
         "xaxis": "x6",
         "y": [
          1410,
          458
         ],
         "yaxis": "y6"
        },
        {
         "name": "1",
         "type": "bar",
         "x": [
          0,
          1
         ],
         "xaxis": "x6",
         "y": [
          4255,
          281
         ],
         "yaxis": "y6"
        },
        {
         "name": "2",
         "type": "bar",
         "x": [
          0,
          1
         ],
         "xaxis": "x6",
         "y": [
          297,
          41
         ],
         "yaxis": "y6"
        },
        {
         "name": "3",
         "type": "bar",
         "x": [
          0,
          1
         ],
         "xaxis": "x6",
         "y": [
          205,
          14
         ],
         "yaxis": "y6"
        },
        {
         "name": "4",
         "type": "bar",
         "x": [
          0,
          1
         ],
         "xaxis": "x6",
         "y": [
          291,
          38
         ],
         "yaxis": "y6"
        },
        {
         "name": "0",
         "type": "bar",
         "x": [
          0,
          1
         ],
         "xaxis": "x7",
         "y": [
          2418,
          197
         ],
         "yaxis": "y7"
        },
        {
         "name": "1",
         "type": "bar",
         "x": [
          0,
          1
         ],
         "xaxis": "x7",
         "y": [
          550,
          30
         ],
         "yaxis": "y7"
        },
        {
         "name": "2",
         "type": "bar",
         "x": [
          0,
          1
         ],
         "xaxis": "x7",
         "y": [
          191,
          15
         ],
         "yaxis": "y7"
        },
        {
         "name": "3",
         "type": "bar",
         "x": [
          0,
          1
         ],
         "xaxis": "x7",
         "y": [
          186,
          15
         ],
         "yaxis": "y7"
        },
        {
         "name": "4",
         "type": "bar",
         "x": [
          0,
          1
         ],
         "xaxis": "x7",
         "y": [
          725,
          94
         ],
         "yaxis": "y7"
        },
        {
         "name": "5",
         "type": "bar",
         "x": [
          0,
          1
         ],
         "xaxis": "x7",
         "y": [
          159,
          13
         ],
         "yaxis": "y7"
        },
        {
         "name": "6",
         "type": "bar",
         "x": [
          0,
          1
         ],
         "xaxis": "x7",
         "y": [
          681,
          93
         ],
         "yaxis": "y7"
        },
        {
         "name": "7",
         "type": "bar",
         "x": [
          0,
          1
         ],
         "xaxis": "x7",
         "y": [
          168,
          20
         ],
         "yaxis": "y7"
        },
        {
         "name": "8",
         "type": "bar",
         "x": [
          0,
          1
         ],
         "xaxis": "x7",
         "y": [
          237,
          26
         ],
         "yaxis": "y7"
        },
        {
         "name": "9",
         "type": "bar",
         "x": [
          0,
          1
         ],
         "xaxis": "x7",
         "y": [
          198,
          13
         ],
         "yaxis": "y7"
        },
        {
         "name": "10",
         "type": "bar",
         "x": [
          0,
          1
         ],
         "xaxis": "x7",
         "y": [
          230,
          115
         ],
         "yaxis": "y7"
        },
        {
         "name": "11",
         "type": "bar",
         "x": [
          0,
          1
         ],
         "xaxis": "x7",
         "y": [
          82,
          12
         ],
         "yaxis": "y7"
        },
        {
         "name": "12",
         "type": "bar",
         "x": [
          0,
          1
         ],
         "xaxis": "x7",
         "y": [
          129,
          56
         ],
         "yaxis": "y7"
        },
        {
         "name": "13",
         "type": "bar",
         "x": [
          0,
          1
         ],
         "xaxis": "x7",
         "y": [
          83,
          17
         ],
         "yaxis": "y7"
        },
        {
         "name": "14",
         "type": "bar",
         "x": [
          0,
          1
         ],
         "xaxis": "x7",
         "y": [
          52,
          26
         ],
         "yaxis": "y7"
        },
        {
         "name": "15",
         "type": "bar",
         "x": [
          0,
          1
         ],
         "xaxis": "x7",
         "y": [
          89,
          15
         ],
         "yaxis": "y7"
        },
        {
         "name": "16",
         "type": "bar",
         "x": [
          0,
          1
         ],
         "xaxis": "x7",
         "y": [
          100,
          19
         ],
         "yaxis": "y7"
        },
        {
         "name": "17",
         "type": "bar",
         "x": [
          0,
          1
         ],
         "xaxis": "x7",
         "y": [
          104,
          15
         ],
         "yaxis": "y7"
        },
        {
         "name": "18",
         "type": "bar",
         "x": [
          0,
          1
         ],
         "xaxis": "x7",
         "y": [
          76,
          41
         ],
         "yaxis": "y7"
        },
        {
         "name": "0",
         "type": "bar",
         "x": [
          0,
          1
         ],
         "xaxis": "x8",
         "y": [
          1530,
          455
         ],
         "yaxis": "y8"
        },
        {
         "name": "1",
         "type": "bar",
         "x": [
          0,
          1
         ],
         "xaxis": "x8",
         "y": [
          3908,
          300
         ],
         "yaxis": "y8"
        },
        {
         "name": "2",
         "type": "bar",
         "x": [
          0,
          1
         ],
         "xaxis": "x8",
         "y": [
          1020,
          77
         ],
         "yaxis": "y8"
        },
        {
         "name": "0",
         "type": "bar",
         "x": [
          0,
          1
         ],
         "xaxis": "x9",
         "y": [
          469,
          19
         ],
         "yaxis": "y9"
        },
        {
         "name": "1",
         "type": "bar",
         "x": [
          0,
          1
         ],
         "xaxis": "x9",
         "y": [
          444,
          40
         ],
         "yaxis": "y9"
        },
        {
         "name": "2",
         "type": "bar",
         "x": [
          0,
          1
         ],
         "xaxis": "x9",
         "y": [
          461,
          39
         ],
         "yaxis": "y9"
        },
        {
         "name": "3",
         "type": "bar",
         "x": [
          0,
          1
         ],
         "xaxis": "x9",
         "y": [
          465,
          15
         ],
         "yaxis": "y9"
        },
        {
         "name": "4",
         "type": "bar",
         "x": [
          0,
          1
         ],
         "xaxis": "x9",
         "y": [
          453,
          28
         ],
         "yaxis": "y9"
        },
        {
         "name": "5",
         "type": "bar",
         "x": [
          0,
          1
         ],
         "xaxis": "x9",
         "y": [
          470,
          21
         ],
         "yaxis": "y9"
        },
        {
         "name": "6",
         "type": "bar",
         "x": [
          0,
          1
         ],
         "xaxis": "x9",
         "y": [
          453,
          29
         ],
         "yaxis": "y9"
        },
        {
         "name": "7",
         "type": "bar",
         "x": [
          0,
          1
         ],
         "xaxis": "x9",
         "y": [
          454,
          32
         ],
         "yaxis": "y9"
        },
        {
         "name": "8",
         "type": "bar",
         "x": [
          0,
          1
         ],
         "xaxis": "x9",
         "y": [
          453,
          32
         ],
         "yaxis": "y9"
        },
        {
         "name": "9",
         "type": "bar",
         "x": [
          0,
          1
         ],
         "xaxis": "x9",
         "y": [
          433,
          52
         ],
         "yaxis": "y9"
        },
        {
         "name": "10",
         "type": "bar",
         "x": [
          0,
          1
         ],
         "xaxis": "x9",
         "y": [
          551,
          92
         ],
         "yaxis": "y9"
        },
        {
         "name": "11",
         "type": "bar",
         "x": [
          0,
          1
         ],
         "xaxis": "x9",
         "y": [
          307,
          92
         ],
         "yaxis": "y9"
        },
        {
         "name": "12",
         "type": "bar",
         "x": [
          0,
          1
         ],
         "xaxis": "x9",
         "y": [
          390,
          105
         ],
         "yaxis": "y9"
        },
        {
         "name": "13",
         "type": "bar",
         "x": [
          0,
          1
         ],
         "xaxis": "x9",
         "y": [
          298,
          124
         ],
         "yaxis": "y9"
        },
        {
         "name": "14",
         "type": "bar",
         "x": [
          0,
          1
         ],
         "xaxis": "x9",
         "y": [
          357,
          112
         ],
         "yaxis": "y9"
        },
        {
         "name": "62.567821260101894",
         "type": "bar",
         "x": [
          0,
          1
         ],
         "xaxis": "x10",
         "y": [
          3,
          2
         ],
         "yaxis": "y10"
        },
        {
         "name": "162.54467588848357",
         "type": "bar",
         "x": [
          0,
          1
         ],
         "xaxis": "x10",
         "y": [
          5,
          2
         ],
         "yaxis": "y10"
        },
        {
         "name": "917.2978105498147",
         "type": "bar",
         "x": [
          0
         ],
         "xaxis": "x10",
         "y": [
          14
         ],
         "yaxis": "y10"
        },
        {
         "name": "955.183243745804",
         "type": "bar",
         "x": [
          0
         ],
         "xaxis": "x10",
         "y": [
          20
         ],
         "yaxis": "y10"
        },
        {
         "name": "2678.521919586887",
         "type": "bar",
         "x": [
          0,
          1
         ],
         "xaxis": "x10",
         "y": [
          24,
          2
         ],
         "yaxis": "y10"
        },
        {
         "name": "2697.491659418978",
         "type": "bar",
         "x": [
          0
         ],
         "xaxis": "x10",
         "y": [
          6
         ],
         "yaxis": "y10"
        },
        {
         "name": "3597.203884308766",
         "type": "bar",
         "x": [
          0,
          1
         ],
         "xaxis": "x10",
         "y": [
          13,
          2
         ],
         "yaxis": "y10"
        },
        {
         "name": "4087.7734547905716",
         "type": "bar",
         "x": [
          0
         ],
         "xaxis": "x10",
         "y": [
          15
         ],
         "yaxis": "y10"
        },
        {
         "name": "5252.3708691622805",
         "type": "bar",
         "x": [
          0,
          1
         ],
         "xaxis": "x10",
         "y": [
          10,
          2
         ],
         "yaxis": "y10"
        },
        {
         "name": "8086.668791521041",
         "type": "bar",
         "x": [
          0,
          1
         ],
         "xaxis": "x10",
         "y": [
          16,
          2
         ],
         "yaxis": "y10"
        },
        {
         "name": "9268.899327546287",
         "type": "bar",
         "x": [
          0
         ],
         "xaxis": "x10",
         "y": [
          13
         ],
         "yaxis": "y10"
        },
        {
         "name": "9781.547669569125",
         "type": "bar",
         "x": [
          0
         ],
         "xaxis": "x10",
         "y": [
          17
         ],
         "yaxis": "y10"
        },
        {
         "name": "11992.001587369074",
         "type": "bar",
         "x": [
          0,
          1
         ],
         "xaxis": "x10",
         "y": [
          21,
          3
         ],
         "yaxis": "y10"
        },
        {
         "name": "12688.013098600037",
         "type": "bar",
         "x": [
          0,
          1
         ],
         "xaxis": "x10",
         "y": [
          16,
          2
         ],
         "yaxis": "y10"
        },
        {
         "name": "13282.093771292823",
         "type": "bar",
         "x": [
          0,
          1
         ],
         "xaxis": "x10",
         "y": [
          20,
          3
         ],
         "yaxis": "y10"
        },
        {
         "name": "14259.850922874737",
         "type": "bar",
         "x": [
          0,
          1
         ],
         "xaxis": "x10",
         "y": [
          16,
          1
         ],
         "yaxis": "y10"
        },
        {
         "name": "14503.917673467951",
         "type": "bar",
         "x": [
          0,
          1
         ],
         "xaxis": "x10",
         "y": [
          15,
          2
         ],
         "yaxis": "y10"
        },
        {
         "name": "14606.437128416997",
         "type": "bar",
         "x": [
          0,
          1
         ],
         "xaxis": "x10",
         "y": [
          8,
          4
         ],
         "yaxis": "y10"
        },
        {
         "name": "16847.605268777646",
         "type": "bar",
         "x": [
          0
         ],
         "xaxis": "x10",
         "y": [
          17
         ],
         "yaxis": "y10"
        },
        {
         "name": "17950.334707770533",
         "type": "bar",
         "x": [
          0
         ],
         "xaxis": "x10",
         "y": [
          15
         ],
         "yaxis": "y10"
        },
        {
         "name": "18291.531038082197",
         "type": "bar",
         "x": [
          0
         ],
         "xaxis": "x10",
         "y": [
          17
         ],
         "yaxis": "y10"
        },
        {
         "name": "19929.733016925322",
         "type": "bar",
         "x": [
          0,
          1
         ],
         "xaxis": "x10",
         "y": [
          18,
          2
         ],
         "yaxis": "y10"
        },
        {
         "name": "20020.999345491506",
         "type": "bar",
         "x": [
          0,
          1
         ],
         "xaxis": "x10",
         "y": [
          23,
          4
         ],
         "yaxis": "y10"
        },
        {
         "name": "20562.452273833973",
         "type": "bar",
         "x": [
          0,
          1
         ],
         "xaxis": "x10",
         "y": [
          7,
          4
         ],
         "yaxis": "y10"
        },
        {
         "name": "20766.572698018026",
         "type": "bar",
         "x": [
          0,
          1
         ],
         "xaxis": "x10",
         "y": [
          158,
          9
         ],
         "yaxis": "y10"
        },
        {
         "name": "21780.66646758859",
         "type": "bar",
         "x": [
          0,
          1
         ],
         "xaxis": "x10",
         "y": [
          29,
          2
         ],
         "yaxis": "y10"
        },
        {
         "name": "22298.70876638435",
         "type": "bar",
         "x": [
          0,
          1
         ],
         "xaxis": "x10",
         "y": [
          17,
          4
         ],
         "yaxis": "y10"
        },
        {
         "name": "22793.14287963726",
         "type": "bar",
         "x": [
          0,
          1
         ],
         "xaxis": "x10",
         "y": [
          14,
          3
         ],
         "yaxis": "y10"
        },
        {
         "name": "24738.889010829273",
         "type": "bar",
         "x": [
          0,
          1
         ],
         "xaxis": "x10",
         "y": [
          17,
          1
         ],
         "yaxis": "y10"
        },
        {
         "name": "25809.847055023714",
         "type": "bar",
         "x": [
          0,
          1
         ],
         "xaxis": "x10",
         "y": [
          10,
          3
         ],
         "yaxis": "y10"
        },
        {
         "name": "26247.56018063501",
         "type": "bar",
         "x": [
          0,
          1
         ],
         "xaxis": "x10",
         "y": [
          25,
          2
         ],
         "yaxis": "y10"
        },
        {
         "name": "26303.549877560417",
         "type": "bar",
         "x": [
          0,
          1
         ],
         "xaxis": "x10",
         "y": [
          36,
          4
         ],
         "yaxis": "y10"
        },
        {
         "name": "27254.82397019034",
         "type": "bar",
         "x": [
          0,
          1
         ],
         "xaxis": "x10",
         "y": [
          16,
          2
         ],
         "yaxis": "y10"
        },
        {
         "name": "27482.192119805877",
         "type": "bar",
         "x": [
          0,
          1
         ],
         "xaxis": "x10",
         "y": [
          91,
          9
         ],
         "yaxis": "y10"
        },
        {
         "name": "29186.00518833623",
         "type": "bar",
         "x": [
          0,
          1
         ],
         "xaxis": "x10",
         "y": [
          153,
          15
         ],
         "yaxis": "y10"
        },
        {
         "name": "29218.67797986461",
         "type": "bar",
         "x": [
          0,
          1
         ],
         "xaxis": "x10",
         "y": [
          138,
          21
         ],
         "yaxis": "y10"
        },
        {
         "name": "29223.23671154334",
         "type": "bar",
         "x": [
          0,
          1
         ],
         "xaxis": "x10",
         "y": [
          19,
          2
         ],
         "yaxis": "y10"
        },
        {
         "name": "29226.767484846892",
         "type": "bar",
         "x": [
          0,
          1
         ],
         "xaxis": "x10",
         "y": [
          156,
          19
         ],
         "yaxis": "y10"
        },
        {
         "name": "30438.60854627025",
         "type": "bar",
         "x": [
          0,
          1
         ],
         "xaxis": "x10",
         "y": [
          23,
          1
         ],
         "yaxis": "y10"
        },
        {
         "name": "30929.21661083387",
         "type": "bar",
         "x": [
          0,
          1
         ],
         "xaxis": "x10",
         "y": [
          28,
          5
         ],
         "yaxis": "y10"
        },
        {
         "name": "31198.615070460684",
         "type": "bar",
         "x": [
          0,
          1
         ],
         "xaxis": "x10",
         "y": [
          14,
          2
         ],
         "yaxis": "y10"
        },
        {
         "name": "31359.938226950657",
         "type": "bar",
         "x": [
          0,
          1
         ],
         "xaxis": "x10",
         "y": [
          25,
          7
         ],
         "yaxis": "y10"
        },
        {
         "name": "31659.761154354124",
         "type": "bar",
         "x": [
          0,
          1
         ],
         "xaxis": "x10",
         "y": [
          14,
          1
         ],
         "yaxis": "y10"
        },
        {
         "name": "32177.788543017134",
         "type": "bar",
         "x": [
          0,
          1
         ],
         "xaxis": "x10",
         "y": [
          28,
          3
         ],
         "yaxis": "y10"
        },
        {
         "name": "32205.13686224022",
         "type": "bar",
         "x": [
          0,
          1
         ],
         "xaxis": "x10",
         "y": [
          24,
          1
         ],
         "yaxis": "y10"
        },
        {
         "name": "32367.353760639176",
         "type": "bar",
         "x": [
          0,
          1
         ],
         "xaxis": "x10",
         "y": [
          94,
          12
         ],
         "yaxis": "y10"
        },
        {
         "name": "33563.98510666705",
         "type": "bar",
         "x": [
          0,
          1
         ],
         "xaxis": "x10",
         "y": [
          9,
          5
         ],
         "yaxis": "y10"
        },
        {
         "name": "34973.86406368717",
         "type": "bar",
         "x": [
          0,
          1
         ],
         "xaxis": "x10",
         "y": [
          23,
          5
         ],
         "yaxis": "y10"
        },
        {
         "name": "35095.56958113834",
         "type": "bar",
         "x": [
          0,
          1
         ],
         "xaxis": "x10",
         "y": [
          120,
          15
         ],
         "yaxis": "y10"
        },
        {
         "name": "35104.37725520365",
         "type": "bar",
         "x": [
          0,
          1
         ],
         "xaxis": "x10",
         "y": [
          11,
          3
         ],
         "yaxis": "y10"
        },
        {
         "name": "35291.43348318993",
         "type": "bar",
         "x": [
          0,
          1
         ],
         "xaxis": "x10",
         "y": [
          125,
          11
         ],
         "yaxis": "y10"
        },
        {
         "name": "35748.91847415364",
         "type": "bar",
         "x": [
          0,
          1
         ],
         "xaxis": "x10",
         "y": [
          15,
          4
         ],
         "yaxis": "y10"
        },
        {
         "name": "35800.52721500131",
         "type": "bar",
         "x": [
          0,
          1
         ],
         "xaxis": "x10",
         "y": [
          13,
          1
         ],
         "yaxis": "y10"
        },
        {
         "name": "35834.71211313143",
         "type": "bar",
         "x": [
          0,
          1
         ],
         "xaxis": "x10",
         "y": [
          24,
          6
         ],
         "yaxis": "y10"
        },
        {
         "name": "36402.54050530205",
         "type": "bar",
         "x": [
          0,
          1
         ],
         "xaxis": "x10",
         "y": [
          23,
          2
         ],
         "yaxis": "y10"
        },
        {
         "name": "36895.808073727036",
         "type": "bar",
         "x": [
          0,
          1
         ],
         "xaxis": "x10",
         "y": [
          143,
          16
         ],
         "yaxis": "y10"
        },
        {
         "name": "37030.01272210936",
         "type": "bar",
         "x": [
          0,
          1
         ],
         "xaxis": "x10",
         "y": [
          7,
          1
         ],
         "yaxis": "y10"
        },
        {
         "name": "37044.29463992726",
         "type": "bar",
         "x": [
          0,
          1
         ],
         "xaxis": "x10",
         "y": [
          15,
          2
         ],
         "yaxis": "y10"
        },
        {
         "name": "37404.65066092653",
         "type": "bar",
         "x": [
          0,
          1
         ],
         "xaxis": "x10",
         "y": [
          87,
          11
         ],
         "yaxis": "y10"
        },
        {
         "name": "37433.99320234215",
         "type": "bar",
         "x": [
          0
         ],
         "xaxis": "x10",
         "y": [
          24
         ],
         "yaxis": "y10"
        },
        {
         "name": "37632.392933873765",
         "type": "bar",
         "x": [
          0,
          1
         ],
         "xaxis": "x10",
         "y": [
          29,
          3
         ],
         "yaxis": "y10"
        },
        {
         "name": "38121.469064574594",
         "type": "bar",
         "x": [
          0,
          1
         ],
         "xaxis": "x10",
         "y": [
          146,
          26
         ],
         "yaxis": "y10"
        },
        {
         "name": "38124.61452506836",
         "type": "bar",
         "x": [
          0,
          1
         ],
         "xaxis": "x10",
         "y": [
          150,
          23
         ],
         "yaxis": "y10"
        },
        {
         "name": "38310.33032794252",
         "type": "bar",
         "x": [
          0,
          1
         ],
         "xaxis": "x10",
         "y": [
          20,
          1
         ],
         "yaxis": "y10"
        },
        {
         "name": "38760.38830680676",
         "type": "bar",
         "x": [
          0,
          1
         ],
         "xaxis": "x10",
         "y": [
          89,
          7
         ],
         "yaxis": "y10"
        },
        {
         "name": "39264.41574909895",
         "type": "bar",
         "x": [
          0,
          1
         ],
         "xaxis": "x10",
         "y": [
          134,
          17
         ],
         "yaxis": "y10"
        },
        {
         "name": "39884.557744936326",
         "type": "bar",
         "x": [
          0,
          1
         ],
         "xaxis": "x10",
         "y": [
          93,
          11
         ],
         "yaxis": "y10"
        },
        {
         "name": "39956.16341433785",
         "type": "bar",
         "x": [
          0
         ],
         "xaxis": "x10",
         "y": [
          14
         ],
         "yaxis": "y10"
        },
        {
         "name": "39993.11530704595",
         "type": "bar",
         "x": [
          0,
          1
         ],
         "xaxis": "x10",
         "y": [
          16,
          1
         ],
         "yaxis": "y10"
        },
        {
         "name": "40418.245391239856",
         "type": "bar",
         "x": [
          0,
          1
         ],
         "xaxis": "x10",
         "y": [
          118,
          12
         ],
         "yaxis": "y10"
        },
        {
         "name": "40490.77079645376",
         "type": "bar",
         "x": [
          0,
          1
         ],
         "xaxis": "x10",
         "y": [
          23,
          3
         ],
         "yaxis": "y10"
        },
        {
         "name": "40962.0872465206",
         "type": "bar",
         "x": [
          0,
          1
         ],
         "xaxis": "x10",
         "y": [
          112,
          22
         ],
         "yaxis": "y10"
        },
        {
         "name": "40973.228345087606",
         "type": "bar",
         "x": [
          0,
          1
         ],
         "xaxis": "x10",
         "y": [
          26,
          2
         ],
         "yaxis": "y10"
        },
        {
         "name": "41012.905513115234",
         "type": "bar",
         "x": [
          0,
          1
         ],
         "xaxis": "x10",
         "y": [
          138,
          13
         ],
         "yaxis": "y10"
        },
        {
         "name": "41782.380489385214",
         "type": "bar",
         "x": [
          0,
          1
         ],
         "xaxis": "x10",
         "y": [
          13,
          2
         ],
         "yaxis": "y10"
        },
        {
         "name": "42231.66737615317",
         "type": "bar",
         "x": [
          0,
          1
         ],
         "xaxis": "x10",
         "y": [
          191,
          19
         ],
         "yaxis": "y10"
        },
        {
         "name": "42434.040651430376",
         "type": "bar",
         "x": [
          0,
          1
         ],
         "xaxis": "x10",
         "y": [
          15,
          1
         ],
         "yaxis": "y10"
        },
        {
         "name": "43230.940533876776",
         "type": "bar",
         "x": [
          0,
          1
         ],
         "xaxis": "x10",
         "y": [
          128,
          6
         ],
         "yaxis": "y10"
        },
        {
         "name": "43939.48208254885",
         "type": "bar",
         "x": [
          0,
          1
         ],
         "xaxis": "x10",
         "y": [
          92,
          13
         ],
         "yaxis": "y10"
        },
        {
         "name": "44022.81636178698",
         "type": "bar",
         "x": [
          0,
          1
         ],
         "xaxis": "x10",
         "y": [
          23,
          1
         ],
         "yaxis": "y10"
        },
        {
         "name": "44256.757321778074",
         "type": "bar",
         "x": [
          0,
          1
         ],
         "xaxis": "x10",
         "y": [
          146,
          19
         ],
         "yaxis": "y10"
        },
        {
         "name": "44350.74442267568",
         "type": "bar",
         "x": [
          0
         ],
         "xaxis": "x10",
         "y": [
          10
         ],
         "yaxis": "y10"
        },
        {
         "name": "44726.65196498388",
         "type": "bar",
         "x": [
          0,
          1
         ],
         "xaxis": "x10",
         "y": [
          104,
          18
         ],
         "yaxis": "y10"
        },
        {
         "name": "45046.125214722604",
         "type": "bar",
         "x": [
          0,
          1
         ],
         "xaxis": "x10",
         "y": [
          124,
          19
         ],
         "yaxis": "y10"
        },
        {
         "name": "46510.01164599311",
         "type": "bar",
         "x": [
          0,
          1
         ],
         "xaxis": "x10",
         "y": [
          167,
          20
         ],
         "yaxis": "y10"
        },
        {
         "name": "46951.90225806502",
         "type": "bar",
         "x": [
          0,
          1
         ],
         "xaxis": "x10",
         "y": [
          18,
          1
         ],
         "yaxis": "y10"
        },
        {
         "name": "47700.65949617359",
         "type": "bar",
         "x": [
          0,
          1
         ],
         "xaxis": "x10",
         "y": [
          18,
          2
         ],
         "yaxis": "y10"
        },
        {
         "name": "47900.15536680105",
         "type": "bar",
         "x": [
          0,
          1
         ],
         "xaxis": "x10",
         "y": [
          113,
          15
         ],
         "yaxis": "y10"
        },
        {
         "name": "48318.043550569004",
         "type": "bar",
         "x": [
          0,
          1
         ],
         "xaxis": "x10",
         "y": [
          126,
          9
         ],
         "yaxis": "y10"
        },
        {
         "name": "48645.40454516994",
         "type": "bar",
         "x": [
          0,
          1
         ],
         "xaxis": "x10",
         "y": [
          31,
          2
         ],
         "yaxis": "y10"
        },
        {
         "name": "48990.99002048063",
         "type": "bar",
         "x": [
          0,
          1
         ],
         "xaxis": "x10",
         "y": [
          15,
          1
         ],
         "yaxis": "y10"
        },
        {
         "name": "49614.36635321879",
         "type": "bar",
         "x": [
          0,
          1
         ],
         "xaxis": "x10",
         "y": [
          20,
          1
         ],
         "yaxis": "y10"
        },
        {
         "name": "49751.924871332274",
         "type": "bar",
         "x": [
          0,
          1
         ],
         "xaxis": "x10",
         "y": [
          179,
          18
         ],
         "yaxis": "y10"
        },
        {
         "name": "49785.47075593482",
         "type": "bar",
         "x": [
          0,
          1
         ],
         "xaxis": "x10",
         "y": [
          22,
          1
         ],
         "yaxis": "y10"
        },
        {
         "name": "50672.41570972054",
         "type": "bar",
         "x": [
          0,
          1
         ],
         "xaxis": "x10",
         "y": [
          22,
          6
         ],
         "yaxis": "y10"
        },
        {
         "name": "50946.746615441065",
         "type": "bar",
         "x": [
          0,
          1
         ],
         "xaxis": "x10",
         "y": [
          23,
          5
         ],
         "yaxis": "y10"
        },
        {
         "name": "51005.77412638554",
         "type": "bar",
         "x": [
          0,
          1
         ],
         "xaxis": "x10",
         "y": [
          26,
          3
         ],
         "yaxis": "y10"
        },
        {
         "name": "51152.27143053787",
         "type": "bar",
         "x": [
          0,
          1
         ],
         "xaxis": "x10",
         "y": [
          21,
          5
         ],
         "yaxis": "y10"
        },
        {
         "name": "51743.76757167105",
         "type": "bar",
         "x": [
          0,
          1
         ],
         "xaxis": "x10",
         "y": [
          23,
          5
         ],
         "yaxis": "y10"
        },
        {
         "name": "52290.43914457936",
         "type": "bar",
         "x": [
          0,
          1
         ],
         "xaxis": "x10",
         "y": [
          78,
          6
         ],
         "yaxis": "y10"
        },
        {
         "name": "52512.97230321616",
         "type": "bar",
         "x": [
          0
         ],
         "xaxis": "x10",
         "y": [
          22
         ],
         "yaxis": "y10"
        },
        {
         "name": "52796.986804406864",
         "type": "bar",
         "x": [
          0,
          1
         ],
         "xaxis": "x10",
         "y": [
          16,
          3
         ],
         "yaxis": "y10"
        },
        {
         "name": "53685.01139748926",
         "type": "bar",
         "x": [
          0,
          1
         ],
         "xaxis": "x10",
         "y": [
          120,
          14
         ],
         "yaxis": "y10"
        },
        {
         "name": "53739.78732204806",
         "type": "bar",
         "x": [
          0,
          1
         ],
         "xaxis": "x10",
         "y": [
          122,
          21
         ],
         "yaxis": "y10"
        },
        {
         "name": "54250.98518004692",
         "type": "bar",
         "x": [
          0,
          1
         ],
         "xaxis": "x10",
         "y": [
          19,
          2
         ],
         "yaxis": "y10"
        },
        {
         "name": "54601.79287172502",
         "type": "bar",
         "x": [
          0,
          1
         ],
         "xaxis": "x10",
         "y": [
          13,
          4
         ],
         "yaxis": "y10"
        },
        {
         "name": "55259.561571481085",
         "type": "bar",
         "x": [
          0,
          1
         ],
         "xaxis": "x10",
         "y": [
          31,
          7
         ],
         "yaxis": "y10"
        },
        {
         "name": "55354.04533166598",
         "type": "bar",
         "x": [
          0,
          1
         ],
         "xaxis": "x10",
         "y": [
          14,
          2
         ],
         "yaxis": "y10"
        },
        {
         "name": "55363.671804346195",
         "type": "bar",
         "x": [
          0,
          1
         ],
         "xaxis": "x10",
         "y": [
          184,
          30
         ],
         "yaxis": "y10"
        },
        {
         "name": "56173.57085379109",
         "type": "bar",
         "x": [
          0,
          1
         ],
         "xaxis": "x10",
         "y": [
          16,
          3
         ],
         "yaxis": "y10"
        },
        {
         "name": "56651.5311950536",
         "type": "bar",
         "x": [
          0,
          1
         ],
         "xaxis": "x10",
         "y": [
          20,
          1
         ],
         "yaxis": "y10"
        },
        {
         "name": "56872.84211406246",
         "type": "bar",
         "x": [
          0,
          1
         ],
         "xaxis": "x10",
         "y": [
          111,
          11
         ],
         "yaxis": "y10"
        },
        {
         "name": "57727.72077275705",
         "type": "bar",
         "x": [
          0,
          1
         ],
         "xaxis": "x10",
         "y": [
          21,
          3
         ],
         "yaxis": "y10"
        },
        {
         "name": "58127.54267312534",
         "type": "bar",
         "x": [
          0,
          1
         ],
         "xaxis": "x10",
         "y": [
          7,
          2
         ],
         "yaxis": "y10"
        },
        {
         "name": "58771.69900203228",
         "type": "bar",
         "x": [
          0,
          1
         ],
         "xaxis": "x10",
         "y": [
          158,
          30
         ],
         "yaxis": "y10"
        },
        {
         "name": "58918.44494057759",
         "type": "bar",
         "x": [
          0
         ],
         "xaxis": "x10",
         "y": [
          19
         ],
         "yaxis": "y10"
        },
        {
         "name": "59512.53130673467",
         "type": "bar",
         "x": [
          0,
          1
         ],
         "xaxis": "x10",
         "y": [
          23,
          3
         ],
         "yaxis": "y10"
        },
        {
         "name": "59667.985244911746",
         "type": "bar",
         "x": [
          0,
          1
         ],
         "xaxis": "x10",
         "y": [
          31,
          2
         ],
         "yaxis": "y10"
        },
        {
         "name": "59711.508772850815",
         "type": "bar",
         "x": [
          0,
          1
         ],
         "xaxis": "x10",
         "y": [
          16,
          7
         ],
         "yaxis": "y10"
        },
        {
         "name": "60741.32524379559",
         "type": "bar",
         "x": [
          0,
          1
         ],
         "xaxis": "x10",
         "y": [
          24,
          6
         ],
         "yaxis": "y10"
        },
        {
         "name": "62248.79716110376",
         "type": "bar",
         "x": [
          0,
          1
         ],
         "xaxis": "x10",
         "y": [
          12,
          5
         ],
         "yaxis": "y10"
        },
        {
         "name": "62728.65544113781",
         "type": "bar",
         "x": [
          0,
          1
         ],
         "xaxis": "x10",
         "y": [
          96,
          10
         ],
         "yaxis": "y10"
        },
        {
         "name": "63115.36889847982",
         "type": "bar",
         "x": [
          0,
          1
         ],
         "xaxis": "x10",
         "y": [
          9,
          2
         ],
         "yaxis": "y10"
        },
        {
         "name": "64836.73833651813",
         "type": "bar",
         "x": [
          0,
          1
         ],
         "xaxis": "x10",
         "y": [
          25,
          7
         ],
         "yaxis": "y10"
        },
        {
         "name": "65294.28447664922",
         "type": "bar",
         "x": [
          0,
          1
         ],
         "xaxis": "x10",
         "y": [
          13,
          3
         ],
         "yaxis": "y10"
        },
        {
         "name": "66216.98217153901",
         "type": "bar",
         "x": [
          0,
          1
         ],
         "xaxis": "x10",
         "y": [
          18,
          1
         ],
         "yaxis": "y10"
        },
        {
         "name": "66252.78954239623",
         "type": "bar",
         "x": [
          0,
          1
         ],
         "xaxis": "x10",
         "y": [
          20,
          7
         ],
         "yaxis": "y10"
        },
        {
         "name": "67657.54080778088",
         "type": "bar",
         "x": [
          0,
          1
         ],
         "xaxis": "x10",
         "y": [
          11,
          3
         ],
         "yaxis": "y10"
        },
        {
         "name": "68279.83450530347",
         "type": "bar",
         "x": [
          0,
          1
         ],
         "xaxis": "x10",
         "y": [
          21,
          3
         ],
         "yaxis": "y10"
        },
        {
         "name": "70791.94202404657",
         "type": "bar",
         "x": [
          0,
          1
         ],
         "xaxis": "x10",
         "y": [
          63,
          13
         ],
         "yaxis": "y10"
        },
        {
         "name": "72276.46146584337",
         "type": "bar",
         "x": [
          0,
          1
         ],
         "xaxis": "x10",
         "y": [
          28,
          4
         ],
         "yaxis": "y10"
        },
        {
         "name": "73641.64586864325",
         "type": "bar",
         "x": [
          0,
          1
         ],
         "xaxis": "x10",
         "y": [
          12,
          1
         ],
         "yaxis": "y10"
        },
        {
         "name": "78844.13455914879",
         "type": "bar",
         "x": [
          0,
          1
         ],
         "xaxis": "x10",
         "y": [
          21,
          5
         ],
         "yaxis": "y10"
        },
        {
         "name": "78946.30688216713",
         "type": "bar",
         "x": [
          0
         ],
         "xaxis": "x10",
         "y": [
          11
         ],
         "yaxis": "y10"
        },
        {
         "name": "82614.64445085196",
         "type": "bar",
         "x": [
          0,
          1
         ],
         "xaxis": "x10",
         "y": [
          14,
          2
         ],
         "yaxis": "y10"
        },
        {
         "name": "83792.83395672782",
         "type": "bar",
         "x": [
          0,
          1
         ],
         "xaxis": "x10",
         "y": [
          11,
          2
         ],
         "yaxis": "y10"
        },
        {
         "name": "87864.44853965398",
         "type": "bar",
         "x": [
          0,
          1
         ],
         "xaxis": "x10",
         "y": [
          13,
          2
         ],
         "yaxis": "y10"
        },
        {
         "name": "91937.67381590084",
         "type": "bar",
         "x": [
          0,
          1
         ],
         "xaxis": "x10",
         "y": [
          23,
          5
         ],
         "yaxis": "y10"
        },
        {
         "name": "99760.30003192072",
         "type": "bar",
         "x": [
          0,
          1
         ],
         "xaxis": "x10",
         "y": [
          16,
          2
         ],
         "yaxis": "y10"
        },
        {
         "name": "100901.55243306812",
         "type": "bar",
         "x": [
          0,
          1
         ],
         "xaxis": "x10",
         "y": [
          9,
          2
         ],
         "yaxis": "y10"
        },
        {
         "name": "102871.77939901008",
         "type": "bar",
         "x": [
          0,
          1
         ],
         "xaxis": "x10",
         "y": [
          14,
          5
         ],
         "yaxis": "y10"
        },
        {
         "name": "103529.42646885147",
         "type": "bar",
         "x": [
          0,
          1
         ],
         "xaxis": "x10",
         "y": [
          14,
          5
         ],
         "yaxis": "y10"
        },
        {
         "name": "139810.39794696213",
         "type": "bar",
         "x": [
          0,
          1
         ],
         "xaxis": "x10",
         "y": [
          14,
          3
         ],
         "yaxis": "y10"
        },
        {
         "name": "142388.67050705396",
         "type": "bar",
         "x": [
          0,
          1
         ],
         "xaxis": "x10",
         "y": [
          10,
          3
         ],
         "yaxis": "y10"
        },
        {
         "name": "0",
         "type": "bar",
         "x": [
          0,
          1
         ],
         "xaxis": "x11",
         "y": [
          217,
          24
         ],
         "yaxis": "y11"
        },
        {
         "name": "1",
         "type": "bar",
         "x": [
          0,
          1
         ],
         "xaxis": "x11",
         "y": [
          245,
          28
         ],
         "yaxis": "y11"
        },
        {
         "name": "3",
         "type": "bar",
         "x": [
          0,
          1
         ],
         "xaxis": "x11",
         "y": [
          225,
          31
         ],
         "yaxis": "y11"
        },
        {
         "name": "4",
         "type": "bar",
         "x": [
          0,
          1
         ],
         "xaxis": "x11",
         "y": [
          274,
          30
         ],
         "yaxis": "y11"
        },
        {
         "name": "5",
         "type": "bar",
         "x": [
          0,
          1
         ],
         "xaxis": "x11",
         "y": [
          221,
          37
         ],
         "yaxis": "y11"
        },
        {
         "name": "7",
         "type": "bar",
         "x": [
          0,
          1
         ],
         "xaxis": "x11",
         "y": [
          220,
          39
         ],
         "yaxis": "y11"
        },
        {
         "name": "8",
         "type": "bar",
         "x": [
          0,
          1
         ],
         "xaxis": "x11",
         "y": [
          251,
          40
         ],
         "yaxis": "y11"
        },
        {
         "name": "9",
         "type": "bar",
         "x": [
          0,
          1
         ],
         "xaxis": "x11",
         "y": [
          221,
          43
         ],
         "yaxis": "y11"
        },
        {
         "name": "11",
         "type": "bar",
         "x": [
          0,
          1
         ],
         "xaxis": "x11",
         "y": [
          204,
          18
         ],
         "yaxis": "y11"
        },
        {
         "name": "12",
         "type": "bar",
         "x": [
          0,
          1
         ],
         "xaxis": "x11",
         "y": [
          179,
          18
         ],
         "yaxis": "y11"
        },
        {
         "name": "14",
         "type": "bar",
         "x": [
          0,
          1
         ],
         "xaxis": "x11",
         "y": [
          225,
          18
         ],
         "yaxis": "y11"
        },
        {
         "name": "15",
         "type": "bar",
         "x": [
          0,
          1
         ],
         "xaxis": "x11",
         "y": [
          204,
          26
         ],
         "yaxis": "y11"
        },
        {
         "name": "16",
         "type": "bar",
         "x": [
          0,
          1
         ],
         "xaxis": "x11",
         "y": [
          189,
          28
         ],
         "yaxis": "y11"
        },
        {
         "name": "18",
         "type": "bar",
         "x": [
          0,
          1
         ],
         "xaxis": "x11",
         "y": [
          211,
          26
         ],
         "yaxis": "y11"
        },
        {
         "name": "19",
         "type": "bar",
         "x": [
          0,
          1
         ],
         "xaxis": "x11",
         "y": [
          188,
          24
         ],
         "yaxis": "y11"
        },
        {
         "name": "20",
         "type": "bar",
         "x": [
          0,
          1
         ],
         "xaxis": "x11",
         "y": [
          203,
          23
         ],
         "yaxis": "y11"
        },
        {
         "name": "22",
         "type": "bar",
         "x": [
          0,
          1
         ],
         "xaxis": "x11",
         "y": [
          211,
          22
         ],
         "yaxis": "y11"
        },
        {
         "name": "23",
         "type": "bar",
         "x": [
          0,
          1
         ],
         "xaxis": "x11",
         "y": [
          189,
          16
         ],
         "yaxis": "y11"
        },
        {
         "name": "24",
         "type": "bar",
         "x": [
          0,
          1
         ],
         "xaxis": "x11",
         "y": [
          168,
          16
         ],
         "yaxis": "y11"
        },
        {
         "name": "26",
         "type": "bar",
         "x": [
          0,
          1
         ],
         "xaxis": "x11",
         "y": [
          173,
          22
         ],
         "yaxis": "y11"
        },
        {
         "name": "27",
         "type": "bar",
         "x": [
          0,
          1
         ],
         "xaxis": "x11",
         "y": [
          165,
          30
         ],
         "yaxis": "y11"
        },
        {
         "name": "28",
         "type": "bar",
         "x": [
          0,
          1
         ],
         "xaxis": "x11",
         "y": [
          177,
          10
         ],
         "yaxis": "y11"
        },
        {
         "name": "30",
         "type": "bar",
         "x": [
          0,
          1
         ],
         "xaxis": "x11",
         "y": [
          156,
          27
         ],
         "yaxis": "y11"
        },
        {
         "name": "31",
         "type": "bar",
         "x": [
          0,
          1
         ],
         "xaxis": "x11",
         "y": [
          170,
          23
         ],
         "yaxis": "y11"
        },
        {
         "name": "32",
         "type": "bar",
         "x": [
          0,
          1
         ],
         "xaxis": "x11",
         "y": [
          143,
          18
         ],
         "yaxis": "y11"
        },
        {
         "name": "34",
         "type": "bar",
         "x": [
          0,
          1
         ],
         "xaxis": "x11",
         "y": [
          162,
          25
         ],
         "yaxis": "y11"
        },
        {
         "name": "35",
         "type": "bar",
         "x": [
          0,
          1
         ],
         "xaxis": "x11",
         "y": [
          132,
          19
         ],
         "yaxis": "y11"
        },
        {
         "name": "36",
         "type": "bar",
         "x": [
          0,
          1
         ],
         "xaxis": "x11",
         "y": [
          130,
          13
         ],
         "yaxis": "y11"
        },
        {
         "name": "38",
         "type": "bar",
         "x": [
          0,
          1
         ],
         "xaxis": "x11",
         "y": [
          147,
          20
         ],
         "yaxis": "y11"
        },
        {
         "name": "39",
         "type": "bar",
         "x": [
          0,
          1
         ],
         "xaxis": "x11",
         "y": [
          151,
          22
         ],
         "yaxis": "y11"
        },
        {
         "name": "41",
         "type": "bar",
         "x": [
          0,
          1
         ],
         "xaxis": "x11",
         "y": [
          131,
          21
         ],
         "yaxis": "y11"
        },
        {
         "name": "42",
         "type": "bar",
         "x": [
          0,
          1
         ],
         "xaxis": "x11",
         "y": [
          134,
          18
         ],
         "yaxis": "y11"
        },
        {
         "name": "43",
         "type": "bar",
         "x": [
          0,
          1
         ],
         "xaxis": "x11",
         "y": [
          99,
          12
         ],
         "yaxis": "y11"
        },
        {
         "name": "45",
         "type": "bar",
         "x": [
          0,
          1
         ],
         "xaxis": "x11",
         "y": [
          124,
          17
         ],
         "yaxis": "y11"
        },
        {
         "name": "46",
         "type": "bar",
         "x": [
          0,
          1
         ],
         "xaxis": "x11",
         "y": [
          124,
          12
         ],
         "yaxis": "y11"
        },
        {
         "name": "47",
         "type": "bar",
         "x": [
          0,
          1
         ],
         "xaxis": "x11",
         "y": [
          95,
          16
         ],
         "yaxis": "y11"
        },
        {
         "name": "0",
         "type": "bar",
         "x": [
          0,
          1
         ],
         "xaxis": "x12",
         "y": [
          3362,
          349
         ],
         "yaxis": "y12"
        },
        {
         "name": "1",
         "type": "bar",
         "x": [
          0,
          1
         ],
         "xaxis": "x12",
         "y": [
          3096,
          483
         ],
         "yaxis": "y12"
        },
        {
         "name": "0",
         "type": "bar",
         "x": [
          0,
          1
         ],
         "xaxis": "x13",
         "y": [
          57,
          7
         ],
         "yaxis": "y13"
        },
        {
         "name": "1",
         "type": "bar",
         "x": [
          0,
          1
         ],
         "xaxis": "x13",
         "y": [
          61,
          9
         ],
         "yaxis": "y13"
        },
        {
         "name": "3",
         "type": "bar",
         "x": [
          0,
          1
         ],
         "xaxis": "x13",
         "y": [
          61,
          3
         ],
         "yaxis": "y13"
        },
        {
         "name": "4",
         "type": "bar",
         "x": [
          0,
          1
         ],
         "xaxis": "x13",
         "y": [
          69,
          11
         ],
         "yaxis": "y13"
        },
        {
         "name": "5",
         "type": "bar",
         "x": [
          0,
          1
         ],
         "xaxis": "x13",
         "y": [
          73,
          5
         ],
         "yaxis": "y13"
        },
        {
         "name": "7",
         "type": "bar",
         "x": [
          0,
          1
         ],
         "xaxis": "x13",
         "y": [
          56,
          10
         ],
         "yaxis": "y13"
        },
        {
         "name": "8",
         "type": "bar",
         "x": [
          0,
          1
         ],
         "xaxis": "x13",
         "y": [
          45,
          2
         ],
         "yaxis": "y13"
        },
        {
         "name": "9",
         "type": "bar",
         "x": [
          0,
          1
         ],
         "xaxis": "x13",
         "y": [
          56,
          8
         ],
         "yaxis": "y13"
        },
        {
         "name": "11",
         "type": "bar",
         "x": [
          0,
          1
         ],
         "xaxis": "x13",
         "y": [
          57,
          7
         ],
         "yaxis": "y13"
        },
        {
         "name": "12",
         "type": "bar",
         "x": [
          0,
          1
         ],
         "xaxis": "x13",
         "y": [
          67,
          7
         ],
         "yaxis": "y13"
        },
        {
         "name": "14",
         "type": "bar",
         "x": [
          0,
          1
         ],
         "xaxis": "x13",
         "y": [
          84,
          12
         ],
         "yaxis": "y13"
        },
        {
         "name": "15",
         "type": "bar",
         "x": [
          0,
          1
         ],
         "xaxis": "x13",
         "y": [
          69,
          8
         ],
         "yaxis": "y13"
        },
        {
         "name": "16",
         "type": "bar",
         "x": [
          0,
          1
         ],
         "xaxis": "x13",
         "y": [
          77,
          12
         ],
         "yaxis": "y13"
        },
        {
         "name": "18",
         "type": "bar",
         "x": [
          0,
          1
         ],
         "xaxis": "x13",
         "y": [
          58,
          7
         ],
         "yaxis": "y13"
        },
        {
         "name": "19",
         "type": "bar",
         "x": [
          0,
          1
         ],
         "xaxis": "x13",
         "y": [
          60,
          7
         ],
         "yaxis": "y13"
        },
        {
         "name": "20",
         "type": "bar",
         "x": [
          0,
          1
         ],
         "xaxis": "x13",
         "y": [
          86,
          6
         ],
         "yaxis": "y13"
        },
        {
         "name": "22",
         "type": "bar",
         "x": [
          0,
          1
         ],
         "xaxis": "x13",
         "y": [
          50,
          6
         ],
         "yaxis": "y13"
        },
        {
         "name": "23",
         "type": "bar",
         "x": [
          0,
          1
         ],
         "xaxis": "x13",
         "y": [
          78,
          6
         ],
         "yaxis": "y13"
        },
        {
         "name": "24",
         "type": "bar",
         "x": [
          0,
          1
         ],
         "xaxis": "x13",
         "y": [
          63,
          9
         ],
         "yaxis": "y13"
        },
        {
         "name": "26",
         "type": "bar",
         "x": [
          0,
          1
         ],
         "xaxis": "x13",
         "y": [
          88,
          4
         ],
         "yaxis": "y13"
        },
        {
         "name": "27",
         "type": "bar",
         "x": [
          0,
          1
         ],
         "xaxis": "x13",
         "y": [
          72,
          14
         ],
         "yaxis": "y13"
        },
        {
         "name": "28",
         "type": "bar",
         "x": [
          0,
          1
         ],
         "xaxis": "x13",
         "y": [
          69,
          13
         ],
         "yaxis": "y13"
        },
        {
         "name": "30",
         "type": "bar",
         "x": [
          0,
          1
         ],
         "xaxis": "x13",
         "y": [
          65,
          7
         ],
         "yaxis": "y13"
        },
        {
         "name": "31",
         "type": "bar",
         "x": [
          0,
          1
         ],
         "xaxis": "x13",
         "y": [
          62,
          4
         ],
         "yaxis": "y13"
        },
        {
         "name": "32",
         "type": "bar",
         "x": [
          0,
          1
         ],
         "xaxis": "x13",
         "y": [
          59,
          12
         ],
         "yaxis": "y13"
        },
        {
         "name": "34",
         "type": "bar",
         "x": [
          0,
          1
         ],
         "xaxis": "x13",
         "y": [
          59,
          13
         ],
         "yaxis": "y13"
        },
        {
         "name": "35",
         "type": "bar",
         "x": [
          0,
          1
         ],
         "xaxis": "x13",
         "y": [
          56,
          7
         ],
         "yaxis": "y13"
        },
        {
         "name": "36",
         "type": "bar",
         "x": [
          0,
          1
         ],
         "xaxis": "x13",
         "y": [
          72,
          6
         ],
         "yaxis": "y13"
        },
        {
         "name": "38",
         "type": "bar",
         "x": [
          0,
          1
         ],
         "xaxis": "x13",
         "y": [
          61,
          16
         ],
         "yaxis": "y13"
        },
        {
         "name": "39",
         "type": "bar",
         "x": [
          0,
          1
         ],
         "xaxis": "x13",
         "y": [
          66,
          13
         ],
         "yaxis": "y13"
        },
        {
         "name": "41",
         "type": "bar",
         "x": [
          0,
          1
         ],
         "xaxis": "x13",
         "y": [
          76,
          8
         ],
         "yaxis": "y13"
        },
        {
         "name": "42",
         "type": "bar",
         "x": [
          0,
          1
         ],
         "xaxis": "x13",
         "y": [
          77,
          8
         ],
         "yaxis": "y13"
        },
        {
         "name": "43",
         "type": "bar",
         "x": [
          0,
          1
         ],
         "xaxis": "x13",
         "y": [
          68,
          9
         ],
         "yaxis": "y13"
        },
        {
         "name": "45",
         "type": "bar",
         "x": [
          0,
          1
         ],
         "xaxis": "x13",
         "y": [
          47,
          12
         ],
         "yaxis": "y13"
        },
        {
         "name": "46",
         "type": "bar",
         "x": [
          0,
          1
         ],
         "xaxis": "x13",
         "y": [
          68,
          13
         ],
         "yaxis": "y13"
        },
        {
         "name": "47",
         "type": "bar",
         "x": [
          0,
          1
         ],
         "xaxis": "x13",
         "y": [
          80,
          8
         ],
         "yaxis": "y13"
        },
        {
         "name": "49",
         "type": "bar",
         "x": [
          0,
          1
         ],
         "xaxis": "x13",
         "y": [
          61,
          3
         ],
         "yaxis": "y13"
        },
        {
         "name": "50",
         "type": "bar",
         "x": [
          0,
          1
         ],
         "xaxis": "x13",
         "y": [
          68,
          9
         ],
         "yaxis": "y13"
        },
        {
         "name": "51",
         "type": "bar",
         "x": [
          0,
          1
         ],
         "xaxis": "x13",
         "y": [
          73,
          13
         ],
         "yaxis": "y13"
        },
        {
         "name": "53",
         "type": "bar",
         "x": [
          0,
          1
         ],
         "xaxis": "x13",
         "y": [
          61,
          8
         ],
         "yaxis": "y13"
        },
        {
         "name": "54",
         "type": "bar",
         "x": [
          0,
          1
         ],
         "xaxis": "x13",
         "y": [
          50,
          16
         ],
         "yaxis": "y13"
        },
        {
         "name": "55",
         "type": "bar",
         "x": [
          0,
          1
         ],
         "xaxis": "x13",
         "y": [
          64,
          5
         ],
         "yaxis": "y13"
        },
        {
         "name": "57",
         "type": "bar",
         "x": [
          0,
          1
         ],
         "xaxis": "x13",
         "y": [
          72,
          8
         ],
         "yaxis": "y13"
        },
        {
         "name": "58",
         "type": "bar",
         "x": [
          0,
          1
         ],
         "xaxis": "x13",
         "y": [
          73,
          9
         ],
         "yaxis": "y13"
        },
        {
         "name": "59",
         "type": "bar",
         "x": [
          0,
          1
         ],
         "xaxis": "x13",
         "y": [
          86,
          7
         ],
         "yaxis": "y13"
        },
        {
         "name": "61",
         "type": "bar",
         "x": [
          0,
          1
         ],
         "xaxis": "x13",
         "y": [
          65,
          6
         ],
         "yaxis": "y13"
        },
        {
         "name": "62",
         "type": "bar",
         "x": [
          0,
          1
         ],
         "xaxis": "x13",
         "y": [
          63,
          13
         ],
         "yaxis": "y13"
        },
        {
         "name": "63",
         "type": "bar",
         "x": [
          0,
          1
         ],
         "xaxis": "x13",
         "y": [
          70,
          10
         ],
         "yaxis": "y13"
        },
        {
         "name": "65",
         "type": "bar",
         "x": [
          0,
          1
         ],
         "xaxis": "x13",
         "y": [
          72,
          6
         ],
         "yaxis": "y13"
        },
        {
         "name": "66",
         "type": "bar",
         "x": [
          0,
          1
         ],
         "xaxis": "x13",
         "y": [
          60,
          12
         ],
         "yaxis": "y13"
        },
        {
         "name": "68",
         "type": "bar",
         "x": [
          0,
          1
         ],
         "xaxis": "x13",
         "y": [
          91,
          13
         ],
         "yaxis": "y13"
        },
        {
         "name": "69",
         "type": "bar",
         "x": [
          0,
          1
         ],
         "xaxis": "x13",
         "y": [
          71,
          4
         ],
         "yaxis": "y13"
        },
        {
         "name": "70",
         "type": "bar",
         "x": [
          0,
          1
         ],
         "xaxis": "x13",
         "y": [
          73,
          6
         ],
         "yaxis": "y13"
        },
        {
         "name": "72",
         "type": "bar",
         "x": [
          0,
          1
         ],
         "xaxis": "x13",
         "y": [
          61,
          6
         ],
         "yaxis": "y13"
        },
        {
         "name": "73",
         "type": "bar",
         "x": [
          0,
          1
         ],
         "xaxis": "x13",
         "y": [
          56,
          10
         ],
         "yaxis": "y13"
        },
        {
         "name": "74",
         "type": "bar",
         "x": [
          0,
          1
         ],
         "xaxis": "x13",
         "y": [
          59,
          11
         ],
         "yaxis": "y13"
        },
        {
         "name": "76",
         "type": "bar",
         "x": [
          0,
          1
         ],
         "xaxis": "x13",
         "y": [
          84,
          4
         ],
         "yaxis": "y13"
        },
        {
         "name": "77",
         "type": "bar",
         "x": [
          0,
          1
         ],
         "xaxis": "x13",
         "y": [
          66,
          7
         ],
         "yaxis": "y13"
        },
        {
         "name": "78",
         "type": "bar",
         "x": [
          0,
          1
         ],
         "xaxis": "x13",
         "y": [
          50,
          11
         ],
         "yaxis": "y13"
        },
        {
         "name": "80",
         "type": "bar",
         "x": [
          0,
          1
         ],
         "xaxis": "x13",
         "y": [
          105,
          13
         ],
         "yaxis": "y13"
        },
        {
         "name": "81",
         "type": "bar",
         "x": [
          0,
          1
         ],
         "xaxis": "x13",
         "y": [
          56,
          7
         ],
         "yaxis": "y13"
        },
        {
         "name": "82",
         "type": "bar",
         "x": [
          0,
          1
         ],
         "xaxis": "x13",
         "y": [
          88,
          15
         ],
         "yaxis": "y13"
        },
        {
         "name": "84",
         "type": "bar",
         "x": [
          0,
          1
         ],
         "xaxis": "x13",
         "y": [
          75,
          9
         ],
         "yaxis": "y13"
        },
        {
         "name": "85",
         "type": "bar",
         "x": [
          0,
          1
         ],
         "xaxis": "x13",
         "y": [
          85,
          6
         ],
         "yaxis": "y13"
        },
        {
         "name": "86",
         "type": "bar",
         "x": [
          0,
          1
         ],
         "xaxis": "x13",
         "y": [
          75,
          7
         ],
         "yaxis": "y13"
        },
        {
         "name": "88",
         "type": "bar",
         "x": [
          0,
          1
         ],
         "xaxis": "x13",
         "y": [
          61,
          6
         ],
         "yaxis": "y13"
        },
        {
         "name": "89",
         "type": "bar",
         "x": [
          0,
          1
         ],
         "xaxis": "x13",
         "y": [
          61,
          11
         ],
         "yaxis": "y13"
        },
        {
         "name": "90",
         "type": "bar",
         "x": [
          0,
          1
         ],
         "xaxis": "x13",
         "y": [
          50,
          7
         ],
         "yaxis": "y13"
        },
        {
         "name": "92",
         "type": "bar",
         "x": [
          0,
          1
         ],
         "xaxis": "x13",
         "y": [
          64,
          10
         ],
         "yaxis": "y13"
        },
        {
         "name": "93",
         "type": "bar",
         "x": [
          0,
          1
         ],
         "xaxis": "x13",
         "y": [
          64,
          6
         ],
         "yaxis": "y13"
        },
        {
         "name": "95",
         "type": "bar",
         "x": [
          0,
          1
         ],
         "xaxis": "x13",
         "y": [
          73,
          10
         ],
         "yaxis": "y13"
        },
        {
         "name": "96",
         "type": "bar",
         "x": [
          0,
          1
         ],
         "xaxis": "x13",
         "y": [
          74,
          6
         ],
         "yaxis": "y13"
        },
        {
         "name": "97",
         "type": "bar",
         "x": [
          0,
          1
         ],
         "xaxis": "x13",
         "y": [
          70,
          7
         ],
         "yaxis": "y13"
        },
        {
         "name": "99",
         "type": "bar",
         "x": [
          0,
          1
         ],
         "xaxis": "x13",
         "y": [
          66,
          6
         ],
         "yaxis": "y13"
        },
        {
         "name": "100",
         "type": "bar",
         "x": [
          0,
          1
         ],
         "xaxis": "x13",
         "y": [
          64,
          9
         ],
         "yaxis": "y13"
        },
        {
         "name": "101",
         "type": "bar",
         "x": [
          0,
          1
         ],
         "xaxis": "x13",
         "y": [
          59,
          14
         ],
         "yaxis": "y13"
        },
        {
         "name": "103",
         "type": "bar",
         "x": [
          0,
          1
         ],
         "xaxis": "x13",
         "y": [
          56,
          10
         ],
         "yaxis": "y13"
        },
        {
         "name": "104",
         "type": "bar",
         "x": [
          0,
          1
         ],
         "xaxis": "x13",
         "y": [
          72,
          6
         ],
         "yaxis": "y13"
        },
        {
         "name": "105",
         "type": "bar",
         "x": [
          0,
          1
         ],
         "xaxis": "x13",
         "y": [
          61,
          4
         ],
         "yaxis": "y13"
        },
        {
         "name": "107",
         "type": "bar",
         "x": [
          0,
          1
         ],
         "xaxis": "x13",
         "y": [
          71,
          9
         ],
         "yaxis": "y13"
        },
        {
         "name": "108",
         "type": "bar",
         "x": [
          0,
          1
         ],
         "xaxis": "x13",
         "y": [
          52,
          5
         ],
         "yaxis": "y13"
        },
        {
         "name": "109",
         "type": "bar",
         "x": [
          0,
          1
         ],
         "xaxis": "x13",
         "y": [
          56,
          4
         ],
         "yaxis": "y13"
        },
        {
         "name": "111",
         "type": "bar",
         "x": [
          0,
          1
         ],
         "xaxis": "x13",
         "y": [
          42,
          4
         ],
         "yaxis": "y13"
        },
        {
         "name": "112",
         "type": "bar",
         "x": [
          0,
          1
         ],
         "xaxis": "x13",
         "y": [
          54,
          12
         ],
         "yaxis": "y13"
        },
        {
         "name": "113",
         "type": "bar",
         "x": [
          0,
          1
         ],
         "xaxis": "x13",
         "y": [
          76,
          7
         ],
         "yaxis": "y13"
        },
        {
         "name": "115",
         "type": "bar",
         "x": [
          0,
          1
         ],
         "xaxis": "x13",
         "y": [
          53,
          11
         ],
         "yaxis": "y13"
        },
        {
         "name": "116",
         "type": "bar",
         "x": [
          0,
          1
         ],
         "xaxis": "x13",
         "y": [
          64,
          9
         ],
         "yaxis": "y13"
        },
        {
         "name": "117",
         "type": "bar",
         "x": [
          0,
          1
         ],
         "xaxis": "x13",
         "y": [
          52,
          8
         ],
         "yaxis": "y13"
        },
        {
         "name": "119",
         "type": "bar",
         "x": [
          0,
          1
         ],
         "xaxis": "x13",
         "y": [
          54,
          8
         ],
         "yaxis": "y13"
        },
        {
         "name": "120",
         "type": "bar",
         "x": [
          0,
          1
         ],
         "xaxis": "x13",
         "y": [
          70,
          12
         ],
         "yaxis": "y13"
        },
        {
         "name": "122",
         "type": "bar",
         "x": [
          0,
          1
         ],
         "xaxis": "x13",
         "y": [
          60,
          11
         ],
         "yaxis": "y13"
        },
        {
         "name": "123",
         "type": "bar",
         "x": [
          0,
          1
         ],
         "xaxis": "x13",
         "y": [
          56,
          10
         ],
         "yaxis": "y13"
        },
        {
         "name": "124",
         "type": "bar",
         "x": [
          0,
          1
         ],
         "xaxis": "x13",
         "y": [
          50,
          6
         ],
         "yaxis": "y13"
        },
        {
         "name": "126",
         "type": "bar",
         "x": [
          0,
          1
         ],
         "xaxis": "x13",
         "y": [
          71,
          4
         ],
         "yaxis": "y13"
        },
        {
         "name": "127",
         "type": "bar",
         "x": [
          0,
          1
         ],
         "xaxis": "x13",
         "y": [
          48,
          6
         ],
         "yaxis": "y13"
        },
        {
         "name": "128",
         "type": "bar",
         "x": [
          0,
          1
         ],
         "xaxis": "x13",
         "y": [
          60,
          5
         ],
         "yaxis": "y13"
        },
        {
         "name": "130",
         "type": "bar",
         "x": [
          0,
          1
         ],
         "xaxis": "x13",
         "y": [
          42,
          12
         ],
         "yaxis": "y13"
        },
        {
         "name": "131",
         "type": "bar",
         "x": [
          0,
          1
         ],
         "xaxis": "x13",
         "y": [
          37,
          4
         ],
         "yaxis": "y13"
        },
        {
         "name": "132",
         "type": "bar",
         "x": [
          0,
          1
         ],
         "xaxis": "x13",
         "y": [
          39,
          3
         ],
         "yaxis": "y13"
        },
        {
         "name": "134",
         "type": "bar",
         "x": [
          0,
          1
         ],
         "xaxis": "x13",
         "y": [
          51,
          7
         ],
         "yaxis": "y13"
        },
        {
         "name": "0",
         "type": "bar",
         "x": [
          0,
          1
         ],
         "xaxis": "x14",
         "y": [
          1572,
          57
         ],
         "yaxis": "y14"
        },
        {
         "name": "1",
         "type": "bar",
         "x": [
          0,
          1
         ],
         "xaxis": "x14",
         "y": [
          2573,
          254
         ],
         "yaxis": "y14"
        },
        {
         "name": "2",
         "type": "bar",
         "x": [
          0,
          1
         ],
         "xaxis": "x14",
         "y": [
          2313,
          521
         ],
         "yaxis": "y14"
        },
        {
         "name": "0",
         "type": "bar",
         "x": [
          0,
          1
         ],
         "xaxis": "x15",
         "y": [
          2752,
          613
         ],
         "yaxis": "y15"
        },
        {
         "name": "1",
         "type": "bar",
         "x": [
          0,
          1
         ],
         "xaxis": "x15",
         "y": [
          1784,
          139
         ],
         "yaxis": "y15"
        },
        {
         "name": "2",
         "type": "bar",
         "x": [
          0,
          1
         ],
         "xaxis": "x15",
         "y": [
          1922,
          80
         ],
         "yaxis": "y15"
        }
       ],
       "layout": {
        "annotations": [
         {
          "font": {
           "size": 16
          },
          "showarrow": false,
          "text": "Money Spent per Policy_bin",
          "x": 0.2375,
          "xanchor": "center",
          "xref": "paper",
          "y": 1,
          "yanchor": "bottom",
          "yref": "paper"
         },
         {
          "font": {
           "size": 16
          },
          "showarrow": false,
          "text": "Accident Likelihood_bin",
          "x": 0.7625,
          "xanchor": "center",
          "xref": "paper",
          "y": 1,
          "yanchor": "bottom",
          "yref": "paper"
         },
         {
          "font": {
           "size": 16
          },
          "showarrow": false,
          "text": "Number of Policies",
          "x": 0.2375,
          "xanchor": "center",
          "xref": "paper",
          "y": 0.87375,
          "yanchor": "bottom",
          "yref": "paper"
         },
         {
          "font": {
           "size": 16
          },
          "showarrow": false,
          "text": "Income_bin",
          "x": 0.7625,
          "xanchor": "center",
          "xref": "paper",
          "y": 0.87375,
          "yanchor": "bottom",
          "yref": "paper"
         },
         {
          "font": {
           "size": 16
          },
          "showarrow": false,
          "text": "Coverage Index",
          "x": 0.2375,
          "xanchor": "center",
          "xref": "paper",
          "y": 0.7474999999999999,
          "yanchor": "bottom",
          "yref": "paper"
         },
         {
          "font": {
           "size": 16
          },
          "showarrow": false,
          "text": "Employment Status Index",
          "x": 0.7625,
          "xanchor": "center",
          "xref": "paper",
          "y": 0.7474999999999999,
          "yanchor": "bottom",
          "yref": "paper"
         },
         {
          "font": {
           "size": 16
          },
          "showarrow": false,
          "text": "Insurance_bin",
          "x": 0.2375,
          "xanchor": "center",
          "xref": "paper",
          "y": 0.62125,
          "yanchor": "bottom",
          "yref": "paper"
         },
         {
          "font": {
           "size": 16
          },
          "showarrow": false,
          "text": "Marital Status Index",
          "x": 0.7625,
          "xanchor": "center",
          "xref": "paper",
          "y": 0.62125,
          "yanchor": "bottom",
          "yref": "paper"
         },
         {
          "font": {
           "size": 16
          },
          "showarrow": false,
          "text": "Location Based Likelihood_bin",
          "x": 0.2375,
          "xanchor": "center",
          "xref": "paper",
          "y": 0.495,
          "yanchor": "bottom",
          "yref": "paper"
         },
         {
          "font": {
           "size": 16
          },
          "showarrow": false,
          "text": "Date Time",
          "x": 0.7625,
          "xanchor": "center",
          "xref": "paper",
          "y": 0.495,
          "yanchor": "bottom",
          "yref": "paper"
         },
         {
          "font": {
           "size": 16
          },
          "showarrow": false,
          "text": "Months Since Last Claim",
          "x": 0.2375,
          "xanchor": "center",
          "xref": "paper",
          "y": 0.36875,
          "yanchor": "bottom",
          "yref": "paper"
         },
         {
          "font": {
           "size": 16
          },
          "showarrow": false,
          "text": "Gender",
          "x": 0.7625,
          "xanchor": "center",
          "xref": "paper",
          "y": 0.36875,
          "yanchor": "bottom",
          "yref": "paper"
         },
         {
          "font": {
           "size": 16
          },
          "showarrow": false,
          "text": "Months Since Policy Inception",
          "x": 0.2375,
          "xanchor": "center",
          "xref": "paper",
          "y": 0.2425,
          "yanchor": "bottom",
          "yref": "paper"
         },
         {
          "font": {
           "size": 16
          },
          "showarrow": false,
          "text": "CLV_Category",
          "x": 0.7625,
          "xanchor": "center",
          "xref": "paper",
          "y": 0.2425,
          "yanchor": "bottom",
          "yref": "paper"
         },
         {
          "font": {
           "size": 16
          },
          "showarrow": false,
          "text": "Income_Category",
          "x": 0.2375,
          "xanchor": "center",
          "xref": "paper",
          "y": 0.11624999999999999,
          "yanchor": "bottom",
          "yref": "paper"
         }
        ],
        "height": 2400,
        "showlegend": false,
        "template": {
         "data": {
          "bar": [
           {
            "error_x": {
             "color": "#2a3f5f"
            },
            "error_y": {
             "color": "#2a3f5f"
            },
            "marker": {
             "line": {
              "color": "#E5ECF6",
              "width": 0.5
             },
             "pattern": {
              "fillmode": "overlay",
              "size": 10,
              "solidity": 0.2
             }
            },
            "type": "bar"
           }
          ],
          "barpolar": [
           {
            "marker": {
             "line": {
              "color": "#E5ECF6",
              "width": 0.5
             },
             "pattern": {
              "fillmode": "overlay",
              "size": 10,
              "solidity": 0.2
             }
            },
            "type": "barpolar"
           }
          ],
          "carpet": [
           {
            "aaxis": {
             "endlinecolor": "#2a3f5f",
             "gridcolor": "white",
             "linecolor": "white",
             "minorgridcolor": "white",
             "startlinecolor": "#2a3f5f"
            },
            "baxis": {
             "endlinecolor": "#2a3f5f",
             "gridcolor": "white",
             "linecolor": "white",
             "minorgridcolor": "white",
             "startlinecolor": "#2a3f5f"
            },
            "type": "carpet"
           }
          ],
          "choropleth": [
           {
            "colorbar": {
             "outlinewidth": 0,
             "ticks": ""
            },
            "type": "choropleth"
           }
          ],
          "contour": [
           {
            "colorbar": {
             "outlinewidth": 0,
             "ticks": ""
            },
            "colorscale": [
             [
              0,
              "#0d0887"
             ],
             [
              0.1111111111111111,
              "#46039f"
             ],
             [
              0.2222222222222222,
              "#7201a8"
             ],
             [
              0.3333333333333333,
              "#9c179e"
             ],
             [
              0.4444444444444444,
              "#bd3786"
             ],
             [
              0.5555555555555556,
              "#d8576b"
             ],
             [
              0.6666666666666666,
              "#ed7953"
             ],
             [
              0.7777777777777778,
              "#fb9f3a"
             ],
             [
              0.8888888888888888,
              "#fdca26"
             ],
             [
              1,
              "#f0f921"
             ]
            ],
            "type": "contour"
           }
          ],
          "contourcarpet": [
           {
            "colorbar": {
             "outlinewidth": 0,
             "ticks": ""
            },
            "type": "contourcarpet"
           }
          ],
          "heatmap": [
           {
            "colorbar": {
             "outlinewidth": 0,
             "ticks": ""
            },
            "colorscale": [
             [
              0,
              "#0d0887"
             ],
             [
              0.1111111111111111,
              "#46039f"
             ],
             [
              0.2222222222222222,
              "#7201a8"
             ],
             [
              0.3333333333333333,
              "#9c179e"
             ],
             [
              0.4444444444444444,
              "#bd3786"
             ],
             [
              0.5555555555555556,
              "#d8576b"
             ],
             [
              0.6666666666666666,
              "#ed7953"
             ],
             [
              0.7777777777777778,
              "#fb9f3a"
             ],
             [
              0.8888888888888888,
              "#fdca26"
             ],
             [
              1,
              "#f0f921"
             ]
            ],
            "type": "heatmap"
           }
          ],
          "heatmapgl": [
           {
            "colorbar": {
             "outlinewidth": 0,
             "ticks": ""
            },
            "colorscale": [
             [
              0,
              "#0d0887"
             ],
             [
              0.1111111111111111,
              "#46039f"
             ],
             [
              0.2222222222222222,
              "#7201a8"
             ],
             [
              0.3333333333333333,
              "#9c179e"
             ],
             [
              0.4444444444444444,
              "#bd3786"
             ],
             [
              0.5555555555555556,
              "#d8576b"
             ],
             [
              0.6666666666666666,
              "#ed7953"
             ],
             [
              0.7777777777777778,
              "#fb9f3a"
             ],
             [
              0.8888888888888888,
              "#fdca26"
             ],
             [
              1,
              "#f0f921"
             ]
            ],
            "type": "heatmapgl"
           }
          ],
          "histogram": [
           {
            "marker": {
             "pattern": {
              "fillmode": "overlay",
              "size": 10,
              "solidity": 0.2
             }
            },
            "type": "histogram"
           }
          ],
          "histogram2d": [
           {
            "colorbar": {
             "outlinewidth": 0,
             "ticks": ""
            },
            "colorscale": [
             [
              0,
              "#0d0887"
             ],
             [
              0.1111111111111111,
              "#46039f"
             ],
             [
              0.2222222222222222,
              "#7201a8"
             ],
             [
              0.3333333333333333,
              "#9c179e"
             ],
             [
              0.4444444444444444,
              "#bd3786"
             ],
             [
              0.5555555555555556,
              "#d8576b"
             ],
             [
              0.6666666666666666,
              "#ed7953"
             ],
             [
              0.7777777777777778,
              "#fb9f3a"
             ],
             [
              0.8888888888888888,
              "#fdca26"
             ],
             [
              1,
              "#f0f921"
             ]
            ],
            "type": "histogram2d"
           }
          ],
          "histogram2dcontour": [
           {
            "colorbar": {
             "outlinewidth": 0,
             "ticks": ""
            },
            "colorscale": [
             [
              0,
              "#0d0887"
             ],
             [
              0.1111111111111111,
              "#46039f"
             ],
             [
              0.2222222222222222,
              "#7201a8"
             ],
             [
              0.3333333333333333,
              "#9c179e"
             ],
             [
              0.4444444444444444,
              "#bd3786"
             ],
             [
              0.5555555555555556,
              "#d8576b"
             ],
             [
              0.6666666666666666,
              "#ed7953"
             ],
             [
              0.7777777777777778,
              "#fb9f3a"
             ],
             [
              0.8888888888888888,
              "#fdca26"
             ],
             [
              1,
              "#f0f921"
             ]
            ],
            "type": "histogram2dcontour"
           }
          ],
          "mesh3d": [
           {
            "colorbar": {
             "outlinewidth": 0,
             "ticks": ""
            },
            "type": "mesh3d"
           }
          ],
          "parcoords": [
           {
            "line": {
             "colorbar": {
              "outlinewidth": 0,
              "ticks": ""
             }
            },
            "type": "parcoords"
           }
          ],
          "pie": [
           {
            "automargin": true,
            "type": "pie"
           }
          ],
          "scatter": [
           {
            "fillpattern": {
             "fillmode": "overlay",
             "size": 10,
             "solidity": 0.2
            },
            "type": "scatter"
           }
          ],
          "scatter3d": [
           {
            "line": {
             "colorbar": {
              "outlinewidth": 0,
              "ticks": ""
             }
            },
            "marker": {
             "colorbar": {
              "outlinewidth": 0,
              "ticks": ""
             }
            },
            "type": "scatter3d"
           }
          ],
          "scattercarpet": [
           {
            "marker": {
             "colorbar": {
              "outlinewidth": 0,
              "ticks": ""
             }
            },
            "type": "scattercarpet"
           }
          ],
          "scattergeo": [
           {
            "marker": {
             "colorbar": {
              "outlinewidth": 0,
              "ticks": ""
             }
            },
            "type": "scattergeo"
           }
          ],
          "scattergl": [
           {
            "marker": {
             "colorbar": {
              "outlinewidth": 0,
              "ticks": ""
             }
            },
            "type": "scattergl"
           }
          ],
          "scattermapbox": [
           {
            "marker": {
             "colorbar": {
              "outlinewidth": 0,
              "ticks": ""
             }
            },
            "type": "scattermapbox"
           }
          ],
          "scatterpolar": [
           {
            "marker": {
             "colorbar": {
              "outlinewidth": 0,
              "ticks": ""
             }
            },
            "type": "scatterpolar"
           }
          ],
          "scatterpolargl": [
           {
            "marker": {
             "colorbar": {
              "outlinewidth": 0,
              "ticks": ""
             }
            },
            "type": "scatterpolargl"
           }
          ],
          "scatterternary": [
           {
            "marker": {
             "colorbar": {
              "outlinewidth": 0,
              "ticks": ""
             }
            },
            "type": "scatterternary"
           }
          ],
          "surface": [
           {
            "colorbar": {
             "outlinewidth": 0,
             "ticks": ""
            },
            "colorscale": [
             [
              0,
              "#0d0887"
             ],
             [
              0.1111111111111111,
              "#46039f"
             ],
             [
              0.2222222222222222,
              "#7201a8"
             ],
             [
              0.3333333333333333,
              "#9c179e"
             ],
             [
              0.4444444444444444,
              "#bd3786"
             ],
             [
              0.5555555555555556,
              "#d8576b"
             ],
             [
              0.6666666666666666,
              "#ed7953"
             ],
             [
              0.7777777777777778,
              "#fb9f3a"
             ],
             [
              0.8888888888888888,
              "#fdca26"
             ],
             [
              1,
              "#f0f921"
             ]
            ],
            "type": "surface"
           }
          ],
          "table": [
           {
            "cells": {
             "fill": {
              "color": "#EBF0F8"
             },
             "line": {
              "color": "white"
             }
            },
            "header": {
             "fill": {
              "color": "#C8D4E3"
             },
             "line": {
              "color": "white"
             }
            },
            "type": "table"
           }
          ]
         },
         "layout": {
          "annotationdefaults": {
           "arrowcolor": "#2a3f5f",
           "arrowhead": 0,
           "arrowwidth": 1
          },
          "autotypenumbers": "strict",
          "coloraxis": {
           "colorbar": {
            "outlinewidth": 0,
            "ticks": ""
           }
          },
          "colorscale": {
           "diverging": [
            [
             0,
             "#8e0152"
            ],
            [
             0.1,
             "#c51b7d"
            ],
            [
             0.2,
             "#de77ae"
            ],
            [
             0.3,
             "#f1b6da"
            ],
            [
             0.4,
             "#fde0ef"
            ],
            [
             0.5,
             "#f7f7f7"
            ],
            [
             0.6,
             "#e6f5d0"
            ],
            [
             0.7,
             "#b8e186"
            ],
            [
             0.8,
             "#7fbc41"
            ],
            [
             0.9,
             "#4d9221"
            ],
            [
             1,
             "#276419"
            ]
           ],
           "sequential": [
            [
             0,
             "#0d0887"
            ],
            [
             0.1111111111111111,
             "#46039f"
            ],
            [
             0.2222222222222222,
             "#7201a8"
            ],
            [
             0.3333333333333333,
             "#9c179e"
            ],
            [
             0.4444444444444444,
             "#bd3786"
            ],
            [
             0.5555555555555556,
             "#d8576b"
            ],
            [
             0.6666666666666666,
             "#ed7953"
            ],
            [
             0.7777777777777778,
             "#fb9f3a"
            ],
            [
             0.8888888888888888,
             "#fdca26"
            ],
            [
             1,
             "#f0f921"
            ]
           ],
           "sequentialminus": [
            [
             0,
             "#0d0887"
            ],
            [
             0.1111111111111111,
             "#46039f"
            ],
            [
             0.2222222222222222,
             "#7201a8"
            ],
            [
             0.3333333333333333,
             "#9c179e"
            ],
            [
             0.4444444444444444,
             "#bd3786"
            ],
            [
             0.5555555555555556,
             "#d8576b"
            ],
            [
             0.6666666666666666,
             "#ed7953"
            ],
            [
             0.7777777777777778,
             "#fb9f3a"
            ],
            [
             0.8888888888888888,
             "#fdca26"
            ],
            [
             1,
             "#f0f921"
            ]
           ]
          },
          "colorway": [
           "#636efa",
           "#EF553B",
           "#00cc96",
           "#ab63fa",
           "#FFA15A",
           "#19d3f3",
           "#FF6692",
           "#B6E880",
           "#FF97FF",
           "#FECB52"
          ],
          "font": {
           "color": "#2a3f5f"
          },
          "geo": {
           "bgcolor": "white",
           "lakecolor": "white",
           "landcolor": "#E5ECF6",
           "showlakes": true,
           "showland": true,
           "subunitcolor": "white"
          },
          "hoverlabel": {
           "align": "left"
          },
          "hovermode": "closest",
          "mapbox": {
           "style": "light"
          },
          "paper_bgcolor": "white",
          "plot_bgcolor": "#E5ECF6",
          "polar": {
           "angularaxis": {
            "gridcolor": "white",
            "linecolor": "white",
            "ticks": ""
           },
           "bgcolor": "#E5ECF6",
           "radialaxis": {
            "gridcolor": "white",
            "linecolor": "white",
            "ticks": ""
           }
          },
          "scene": {
           "xaxis": {
            "backgroundcolor": "#E5ECF6",
            "gridcolor": "white",
            "gridwidth": 2,
            "linecolor": "white",
            "showbackground": true,
            "ticks": "",
            "zerolinecolor": "white"
           },
           "yaxis": {
            "backgroundcolor": "#E5ECF6",
            "gridcolor": "white",
            "gridwidth": 2,
            "linecolor": "white",
            "showbackground": true,
            "ticks": "",
            "zerolinecolor": "white"
           },
           "zaxis": {
            "backgroundcolor": "#E5ECF6",
            "gridcolor": "white",
            "gridwidth": 2,
            "linecolor": "white",
            "showbackground": true,
            "ticks": "",
            "zerolinecolor": "white"
           }
          },
          "shapedefaults": {
           "line": {
            "color": "#2a3f5f"
           }
          },
          "ternary": {
           "aaxis": {
            "gridcolor": "white",
            "linecolor": "white",
            "ticks": ""
           },
           "baxis": {
            "gridcolor": "white",
            "linecolor": "white",
            "ticks": ""
           },
           "bgcolor": "#E5ECF6",
           "caxis": {
            "gridcolor": "white",
            "linecolor": "white",
            "ticks": ""
           }
          },
          "title": {
           "x": 0.05
          },
          "xaxis": {
           "automargin": true,
           "gridcolor": "white",
           "linecolor": "white",
           "ticks": "",
           "title": {
            "standoff": 15
           },
           "zerolinecolor": "white",
           "zerolinewidth": 2
          },
          "yaxis": {
           "automargin": true,
           "gridcolor": "white",
           "linecolor": "white",
           "ticks": "",
           "title": {
            "standoff": 15
           },
           "zerolinecolor": "white",
           "zerolinewidth": 2
          }
         }
        },
        "title": {
         "text": "How Each Column Affects 'Claim over 1k'"
        },
        "xaxis": {
         "anchor": "y",
         "domain": [
          0,
          0.475
         ]
        },
        "xaxis10": {
         "anchor": "y10",
         "domain": [
          0.525,
          1
         ]
        },
        "xaxis11": {
         "anchor": "y11",
         "domain": [
          0,
          0.475
         ]
        },
        "xaxis12": {
         "anchor": "y12",
         "domain": [
          0.525,
          1
         ]
        },
        "xaxis13": {
         "anchor": "y13",
         "domain": [
          0,
          0.475
         ]
        },
        "xaxis14": {
         "anchor": "y14",
         "domain": [
          0.525,
          1
         ]
        },
        "xaxis15": {
         "anchor": "y15",
         "domain": [
          0,
          0.475
         ]
        },
        "xaxis16": {
         "anchor": "y16",
         "domain": [
          0.525,
          1
         ]
        },
        "xaxis2": {
         "anchor": "y2",
         "domain": [
          0.525,
          1
         ]
        },
        "xaxis3": {
         "anchor": "y3",
         "domain": [
          0,
          0.475
         ]
        },
        "xaxis4": {
         "anchor": "y4",
         "domain": [
          0.525,
          1
         ]
        },
        "xaxis5": {
         "anchor": "y5",
         "domain": [
          0,
          0.475
         ]
        },
        "xaxis6": {
         "anchor": "y6",
         "domain": [
          0.525,
          1
         ]
        },
        "xaxis7": {
         "anchor": "y7",
         "domain": [
          0,
          0.475
         ]
        },
        "xaxis8": {
         "anchor": "y8",
         "domain": [
          0.525,
          1
         ]
        },
        "xaxis9": {
         "anchor": "y9",
         "domain": [
          0,
          0.475
         ]
        },
        "yaxis": {
         "anchor": "x",
         "domain": [
          0.88375,
          1
         ]
        },
        "yaxis10": {
         "anchor": "x10",
         "domain": [
          0.37875000000000003,
          0.495
         ]
        },
        "yaxis11": {
         "anchor": "x11",
         "domain": [
          0.2525,
          0.36875
         ]
        },
        "yaxis12": {
         "anchor": "x12",
         "domain": [
          0.2525,
          0.36875
         ]
        },
        "yaxis13": {
         "anchor": "x13",
         "domain": [
          0.12625,
          0.2425
         ]
        },
        "yaxis14": {
         "anchor": "x14",
         "domain": [
          0.12625,
          0.2425
         ]
        },
        "yaxis15": {
         "anchor": "x15",
         "domain": [
          0,
          0.11624999999999999
         ]
        },
        "yaxis16": {
         "anchor": "x16",
         "domain": [
          0,
          0.11624999999999999
         ]
        },
        "yaxis2": {
         "anchor": "x2",
         "domain": [
          0.88375,
          1
         ]
        },
        "yaxis3": {
         "anchor": "x3",
         "domain": [
          0.7575000000000001,
          0.87375
         ]
        },
        "yaxis4": {
         "anchor": "x4",
         "domain": [
          0.7575000000000001,
          0.87375
         ]
        },
        "yaxis5": {
         "anchor": "x5",
         "domain": [
          0.63125,
          0.7474999999999999
         ]
        },
        "yaxis6": {
         "anchor": "x6",
         "domain": [
          0.63125,
          0.7474999999999999
         ]
        },
        "yaxis7": {
         "anchor": "x7",
         "domain": [
          0.505,
          0.62125
         ]
        },
        "yaxis8": {
         "anchor": "x8",
         "domain": [
          0.505,
          0.62125
         ]
        },
        "yaxis9": {
         "anchor": "x9",
         "domain": [
          0.37875000000000003,
          0.495
         ]
        }
       }
      },
      "text/html": [
       "<div>                            <div id=\"e823c8e7-a982-41a0-ac44-83bc5086f78f\" class=\"plotly-graph-div\" style=\"height:2400px; width:100%;\"></div>            <script type=\"text/javascript\">                require([\"plotly\"], function(Plotly) {                    window.PLOTLYENV=window.PLOTLYENV || {};                                    if (document.getElementById(\"e823c8e7-a982-41a0-ac44-83bc5086f78f\")) {                    Plotly.newPlot(                        \"e823c8e7-a982-41a0-ac44-83bc5086f78f\",                        [{\"name\":\"0\",\"x\":[0,1],\"y\":[82,10],\"type\":\"bar\",\"xaxis\":\"x\",\"yaxis\":\"y\"},{\"name\":\"1\",\"x\":[0,1],\"y\":[83,8],\"type\":\"bar\",\"xaxis\":\"x\",\"yaxis\":\"y\"},{\"name\":\"2\",\"x\":[0,1],\"y\":[79,12],\"type\":\"bar\",\"xaxis\":\"x\",\"yaxis\":\"y\"},{\"name\":\"3\",\"x\":[0,1],\"y\":[85,6],\"type\":\"bar\",\"xaxis\":\"x\",\"yaxis\":\"y\"},{\"name\":\"4\",\"x\":[0,1],\"y\":[85,6],\"type\":\"bar\",\"xaxis\":\"x\",\"yaxis\":\"y\"},{\"name\":\"5\",\"x\":[0,1],\"y\":[77,14],\"type\":\"bar\",\"xaxis\":\"x\",\"yaxis\":\"y\"},{\"name\":\"6\",\"x\":[0,1],\"y\":[86,5],\"type\":\"bar\",\"xaxis\":\"x\",\"yaxis\":\"y\"},{\"name\":\"7\",\"x\":[0,1],\"y\":[86,5],\"type\":\"bar\",\"xaxis\":\"x\",\"yaxis\":\"y\"},{\"name\":\"8\",\"x\":[0,1],\"y\":[85,7],\"type\":\"bar\",\"xaxis\":\"x\",\"yaxis\":\"y\"},{\"name\":\"9\",\"x\":[0,1],\"y\":[80,11],\"type\":\"bar\",\"xaxis\":\"x\",\"yaxis\":\"y\"},{\"name\":\"10\",\"x\":[0,1],\"y\":[66,25],\"type\":\"bar\",\"xaxis\":\"x\",\"yaxis\":\"y\"},{\"name\":\"11\",\"x\":[0,1],\"y\":[79,12],\"type\":\"bar\",\"xaxis\":\"x\",\"yaxis\":\"y\"},{\"name\":\"12\",\"x\":[0,1],\"y\":[82,9],\"type\":\"bar\",\"xaxis\":\"x\",\"yaxis\":\"y\"},{\"name\":\"13\",\"x\":[0,1],\"y\":[84,11],\"type\":\"bar\",\"xaxis\":\"x\",\"yaxis\":\"y\"},{\"name\":\"14\",\"x\":[0,1],\"y\":[82,5],\"type\":\"bar\",\"xaxis\":\"x\",\"yaxis\":\"y\"},{\"name\":\"15\",\"x\":[0,1],\"y\":[86,5],\"type\":\"bar\",\"xaxis\":\"x\",\"yaxis\":\"y\"},{\"name\":\"16\",\"x\":[0,1],\"y\":[83,8],\"type\":\"bar\",\"xaxis\":\"x\",\"yaxis\":\"y\"},{\"name\":\"17\",\"x\":[0,1],\"y\":[80,12],\"type\":\"bar\",\"xaxis\":\"x\",\"yaxis\":\"y\"},{\"name\":\"18\",\"x\":[0,1],\"y\":[83,8],\"type\":\"bar\",\"xaxis\":\"x\",\"yaxis\":\"y\"},{\"name\":\"19\",\"x\":[0,1],\"y\":[86,5],\"type\":\"bar\",\"xaxis\":\"x\",\"yaxis\":\"y\"},{\"name\":\"20\",\"x\":[0,1],\"y\":[86,9],\"type\":\"bar\",\"xaxis\":\"x\",\"yaxis\":\"y\"},{\"name\":\"21\",\"x\":[0,1],\"y\":[81,6],\"type\":\"bar\",\"xaxis\":\"x\",\"yaxis\":\"y\"},{\"name\":\"22\",\"x\":[0,1],\"y\":[86,5],\"type\":\"bar\",\"xaxis\":\"x\",\"yaxis\":\"y\"},{\"name\":\"23\",\"x\":[0,1],\"y\":[83,8],\"type\":\"bar\",\"xaxis\":\"x\",\"yaxis\":\"y\"},{\"name\":\"24\",\"x\":[0,1],\"y\":[87,4],\"type\":\"bar\",\"xaxis\":\"x\",\"yaxis\":\"y\"},{\"name\":\"25\",\"x\":[0,1],\"y\":[80,11],\"type\":\"bar\",\"xaxis\":\"x\",\"yaxis\":\"y\"},{\"name\":\"26\",\"x\":[0,1],\"y\":[83,9],\"type\":\"bar\",\"xaxis\":\"x\",\"yaxis\":\"y\"},{\"name\":\"27\",\"x\":[0,1],\"y\":[75,16],\"type\":\"bar\",\"xaxis\":\"x\",\"yaxis\":\"y\"},{\"name\":\"28\",\"x\":[0,1],\"y\":[81,10],\"type\":\"bar\",\"xaxis\":\"x\",\"yaxis\":\"y\"},{\"name\":\"29\",\"x\":[0,1],\"y\":[77,14],\"type\":\"bar\",\"xaxis\":\"x\",\"yaxis\":\"y\"},{\"name\":\"30\",\"x\":[0,1],\"y\":[85,6],\"type\":\"bar\",\"xaxis\":\"x\",\"yaxis\":\"y\"},{\"name\":\"31\",\"x\":[0,1],\"y\":[75,16],\"type\":\"bar\",\"xaxis\":\"x\",\"yaxis\":\"y\"},{\"name\":\"32\",\"x\":[0,1],\"y\":[75,16],\"type\":\"bar\",\"xaxis\":\"x\",\"yaxis\":\"y\"},{\"name\":\"33\",\"x\":[0,1],\"y\":[77,14],\"type\":\"bar\",\"xaxis\":\"x\",\"yaxis\":\"y\"},{\"name\":\"34\",\"x\":[0,1],\"y\":[77,14],\"type\":\"bar\",\"xaxis\":\"x\",\"yaxis\":\"y\"},{\"name\":\"35\",\"x\":[0,1],\"y\":[83,9],\"type\":\"bar\",\"xaxis\":\"x\",\"yaxis\":\"y\"},{\"name\":\"36\",\"x\":[0,1],\"y\":[83,8],\"type\":\"bar\",\"xaxis\":\"x\",\"yaxis\":\"y\"},{\"name\":\"37\",\"x\":[0,1],\"y\":[85,6],\"type\":\"bar\",\"xaxis\":\"x\",\"yaxis\":\"y\"},{\"name\":\"38\",\"x\":[0,1],\"y\":[88,3],\"type\":\"bar\",\"xaxis\":\"x\",\"yaxis\":\"y\"},{\"name\":\"39\",\"x\":[0,1],\"y\":[85,6],\"type\":\"bar\",\"xaxis\":\"x\",\"yaxis\":\"y\"},{\"name\":\"40\",\"x\":[0,1],\"y\":[94,1],\"type\":\"bar\",\"xaxis\":\"x\",\"yaxis\":\"y\"},{\"name\":\"41\",\"x\":[0,1],\"y\":[80,7],\"type\":\"bar\",\"xaxis\":\"x\",\"yaxis\":\"y\"},{\"name\":\"42\",\"x\":[0,1],\"y\":[87,4],\"type\":\"bar\",\"xaxis\":\"x\",\"yaxis\":\"y\"},{\"name\":\"43\",\"x\":[0,1],\"y\":[89,2],\"type\":\"bar\",\"xaxis\":\"x\",\"yaxis\":\"y\"},{\"name\":\"44\",\"x\":[0,1],\"y\":[86,6],\"type\":\"bar\",\"xaxis\":\"x\",\"yaxis\":\"y\"},{\"name\":\"45\",\"x\":[0,1],\"y\":[88,3],\"type\":\"bar\",\"xaxis\":\"x\",\"yaxis\":\"y\"},{\"name\":\"46\",\"x\":[0,1],\"y\":[89,2],\"type\":\"bar\",\"xaxis\":\"x\",\"yaxis\":\"y\"},{\"name\":\"47\",\"x\":[0,1],\"y\":[89,2],\"type\":\"bar\",\"xaxis\":\"x\",\"yaxis\":\"y\"},{\"name\":\"48\",\"x\":[0,1],\"y\":[90,4],\"type\":\"bar\",\"xaxis\":\"x\",\"yaxis\":\"y\"},{\"name\":\"49\",\"x\":[0,1],\"y\":[86,2],\"type\":\"bar\",\"xaxis\":\"x\",\"yaxis\":\"y\"},{\"name\":\"50\",\"x\":[0,1],\"y\":[84,7],\"type\":\"bar\",\"xaxis\":\"x\",\"yaxis\":\"y\"},{\"name\":\"51\",\"x\":[0,1],\"y\":[88,3],\"type\":\"bar\",\"xaxis\":\"x\",\"yaxis\":\"y\"},{\"name\":\"52\",\"x\":[0,1],\"y\":[86,6],\"type\":\"bar\",\"xaxis\":\"x\",\"yaxis\":\"y\"},{\"name\":\"53\",\"x\":[0,1],\"y\":[74,18],\"type\":\"bar\",\"xaxis\":\"x\",\"yaxis\":\"y\"},{\"name\":\"54\",\"x\":[0,1],\"y\":[66,24],\"type\":\"bar\",\"xaxis\":\"x\",\"yaxis\":\"y\"},{\"name\":\"55\",\"x\":[0,1],\"y\":[77,14],\"type\":\"bar\",\"xaxis\":\"x\",\"yaxis\":\"y\"},{\"name\":\"56\",\"x\":[0,1],\"y\":[62,29],\"type\":\"bar\",\"xaxis\":\"x\",\"yaxis\":\"y\"},{\"name\":\"57\",\"x\":[0,1],\"y\":[61,30],\"type\":\"bar\",\"xaxis\":\"x\",\"yaxis\":\"y\"},{\"name\":\"58\",\"x\":[0,1],\"y\":[77,14],\"type\":\"bar\",\"xaxis\":\"x\",\"yaxis\":\"y\"},{\"name\":\"59\",\"x\":[0,1],\"y\":[71,20],\"type\":\"bar\",\"xaxis\":\"x\",\"yaxis\":\"y\"},{\"name\":\"60\",\"x\":[0,1],\"y\":[74,17],\"type\":\"bar\",\"xaxis\":\"x\",\"yaxis\":\"y\"},{\"name\":\"61\",\"x\":[0,1],\"y\":[74,17],\"type\":\"bar\",\"xaxis\":\"x\",\"yaxis\":\"y\"},{\"name\":\"62\",\"x\":[0,1],\"y\":[83,9],\"type\":\"bar\",\"xaxis\":\"x\",\"yaxis\":\"y\"},{\"name\":\"63\",\"x\":[0,1],\"y\":[89,2],\"type\":\"bar\",\"xaxis\":\"x\",\"yaxis\":\"y\"},{\"name\":\"64\",\"x\":[0,1],\"y\":[85,6],\"type\":\"bar\",\"xaxis\":\"x\",\"yaxis\":\"y\"},{\"name\":\"65\",\"x\":[0,1],\"y\":[85,7],\"type\":\"bar\",\"xaxis\":\"x\",\"yaxis\":\"y\"},{\"name\":\"66\",\"x\":[0,1],\"y\":[85,5],\"type\":\"bar\",\"xaxis\":\"x\",\"yaxis\":\"y\"},{\"name\":\"67\",\"x\":[0,1],\"y\":[86,5],\"type\":\"bar\",\"xaxis\":\"x\",\"yaxis\":\"y\"},{\"name\":\"68\",\"x\":[0,1],\"y\":[87,4],\"type\":\"bar\",\"xaxis\":\"x\",\"yaxis\":\"y\"},{\"name\":\"69\",\"x\":[0,1],\"y\":[86,5],\"type\":\"bar\",\"xaxis\":\"x\",\"yaxis\":\"y\"},{\"name\":\"70\",\"x\":[0,1],\"y\":[63,28],\"type\":\"bar\",\"xaxis\":\"x\",\"yaxis\":\"y\"},{\"name\":\"71\",\"x\":[0,1],\"y\":[60,32],\"type\":\"bar\",\"xaxis\":\"x\",\"yaxis\":\"y\"},{\"name\":\"72\",\"x\":[0,1],\"y\":[59,33],\"type\":\"bar\",\"xaxis\":\"x\",\"yaxis\":\"y\"},{\"name\":\"73\",\"x\":[0,1],\"y\":[80,14],\"type\":\"bar\",\"xaxis\":\"x\",\"yaxis\":\"y\"},{\"name\":\"74\",\"x\":[0,1],\"y\":[78,9],\"type\":\"bar\",\"xaxis\":\"x\",\"yaxis\":\"y\"},{\"name\":\"75\",\"x\":[0,1],\"y\":[80,11],\"type\":\"bar\",\"xaxis\":\"x\",\"yaxis\":\"y\"},{\"name\":\"76\",\"x\":[0,1],\"y\":[84,7],\"type\":\"bar\",\"xaxis\":\"x\",\"yaxis\":\"y\"},{\"name\":\"77\",\"x\":[0,1],\"y\":[78,13],\"type\":\"bar\",\"xaxis\":\"x\",\"yaxis\":\"y\"},{\"name\":\"78\",\"x\":[0,1],\"y\":[79,12],\"type\":\"bar\",\"xaxis\":\"x\",\"yaxis\":\"y\"},{\"name\":\"79\",\"x\":[0,1],\"y\":[68,24],\"type\":\"bar\",\"xaxis\":\"x\",\"yaxis\":\"y\"},{\"name\":\"0\",\"x\":[0,1],\"y\":[1413,50],\"type\":\"bar\",\"xaxis\":\"x2\",\"yaxis\":\"y2\"},{\"name\":\"1\",\"x\":[0,1],\"y\":[1372,109],\"type\":\"bar\",\"xaxis\":\"x2\",\"yaxis\":\"y2\"},{\"name\":\"2\",\"x\":[0,1],\"y\":[1315,139],\"type\":\"bar\",\"xaxis\":\"x2\",\"yaxis\":\"y2\"},{\"name\":\"3\",\"x\":[0,1],\"y\":[1325,115],\"type\":\"bar\",\"xaxis\":\"x2\",\"yaxis\":\"y2\"},{\"name\":\"4\",\"x\":[0,1],\"y\":[1033,419],\"type\":\"bar\",\"xaxis\":\"x2\",\"yaxis\":\"y2\"},{\"name\":\"1\",\"x\":[0,1],\"y\":[2281,308],\"type\":\"bar\",\"xaxis\":\"x3\",\"yaxis\":\"y3\"},{\"name\":\"2\",\"x\":[0,1],\"y\":[1632,204],\"type\":\"bar\",\"xaxis\":\"x3\",\"yaxis\":\"y3\"},{\"name\":\"3\",\"x\":[0,1],\"y\":[839,82],\"type\":\"bar\",\"xaxis\":\"x3\",\"yaxis\":\"y3\"},{\"name\":\"4\",\"x\":[0,1],\"y\":[284,41],\"type\":\"bar\",\"xaxis\":\"x3\",\"yaxis\":\"y3\"},{\"name\":\"5\",\"x\":[0,1],\"y\":[285,35],\"type\":\"bar\",\"xaxis\":\"x3\",\"yaxis\":\"y3\"},{\"name\":\"6\",\"x\":[0,1],\"y\":[260,33],\"type\":\"bar\",\"xaxis\":\"x3\",\"yaxis\":\"y3\"},{\"name\":\"7\",\"x\":[0,1],\"y\":[299,54],\"type\":\"bar\",\"xaxis\":\"x3\",\"yaxis\":\"y3\"},{\"name\":\"8\",\"x\":[0,1],\"y\":[269,45],\"type\":\"bar\",\"xaxis\":\"x3\",\"yaxis\":\"y3\"},{\"name\":\"9\",\"x\":[0,1],\"y\":[309,30],\"type\":\"bar\",\"xaxis\":\"x3\",\"yaxis\":\"y3\"},{\"name\":\"0\",\"x\":[0,1],\"y\":[1483,461],\"type\":\"bar\",\"xaxis\":\"x4\",\"yaxis\":\"y4\"},{\"name\":\"1\",\"x\":[0,1],\"y\":[103,19],\"type\":\"bar\",\"xaxis\":\"x4\",\"yaxis\":\"y4\"},{\"name\":\"2\",\"x\":[0,1],\"y\":[98,23],\"type\":\"bar\",\"xaxis\":\"x4\",\"yaxis\":\"y4\"},{\"name\":\"3\",\"x\":[0,1],\"y\":[114,8],\"type\":\"bar\",\"xaxis\":\"x4\",\"yaxis\":\"y4\"},{\"name\":\"4\",\"x\":[0,1],\"y\":[108,13],\"type\":\"bar\",\"xaxis\":\"x4\",\"yaxis\":\"y4\"},{\"name\":\"5\",\"x\":[0,1],\"y\":[110,12],\"type\":\"bar\",\"xaxis\":\"x4\",\"yaxis\":\"y4\"},{\"name\":\"6\",\"x\":[0,1],\"y\":[110,11],\"type\":\"bar\",\"xaxis\":\"x4\",\"yaxis\":\"y4\"},{\"name\":\"7\",\"x\":[0,1],\"y\":[111,11],\"type\":\"bar\",\"xaxis\":\"x4\",\"yaxis\":\"y4\"},{\"name\":\"8\",\"x\":[0,1],\"y\":[109,12],\"type\":\"bar\",\"xaxis\":\"x4\",\"yaxis\":\"y4\"},{\"name\":\"9\",\"x\":[0,1],\"y\":[112,10],\"type\":\"bar\",\"xaxis\":\"x4\",\"yaxis\":\"y4\"},{\"name\":\"10\",\"x\":[0,1],\"y\":[112,10],\"type\":\"bar\",\"xaxis\":\"x4\",\"yaxis\":\"y4\"},{\"name\":\"11\",\"x\":[0,1],\"y\":[109,12],\"type\":\"bar\",\"xaxis\":\"x4\",\"yaxis\":\"y4\"},{\"name\":\"12\",\"x\":[0,1],\"y\":[108,13],\"type\":\"bar\",\"xaxis\":\"x4\",\"yaxis\":\"y4\"},{\"name\":\"13\",\"x\":[0,1],\"y\":[113,9],\"type\":\"bar\",\"xaxis\":\"x4\",\"yaxis\":\"y4\"},{\"name\":\"14\",\"x\":[0,1],\"y\":[112,9],\"type\":\"bar\",\"xaxis\":\"x4\",\"yaxis\":\"y4\"},{\"name\":\"15\",\"x\":[0,1],\"y\":[113,8],\"type\":\"bar\",\"xaxis\":\"x4\",\"yaxis\":\"y4\"},{\"name\":\"16\",\"x\":[0,1],\"y\":[112,10],\"type\":\"bar\",\"xaxis\":\"x4\",\"yaxis\":\"y4\"},{\"name\":\"17\",\"x\":[0,1],\"y\":[117,4],\"type\":\"bar\",\"xaxis\":\"x4\",\"yaxis\":\"y4\"},{\"name\":\"18\",\"x\":[0,1],\"y\":[110,12],\"type\":\"bar\",\"xaxis\":\"x4\",\"yaxis\":\"y4\"},{\"name\":\"19\",\"x\":[0,1],\"y\":[115,6],\"type\":\"bar\",\"xaxis\":\"x4\",\"yaxis\":\"y4\"},{\"name\":\"20\",\"x\":[0,1],\"y\":[112,10],\"type\":\"bar\",\"xaxis\":\"x4\",\"yaxis\":\"y4\"},{\"name\":\"21\",\"x\":[0,1],\"y\":[115,6],\"type\":\"bar\",\"xaxis\":\"x4\",\"yaxis\":\"y4\"},{\"name\":\"22\",\"x\":[0,1],\"y\":[111,11],\"type\":\"bar\",\"xaxis\":\"x4\",\"yaxis\":\"y4\"},{\"name\":\"23\",\"x\":[0,1],\"y\":[113,8],\"type\":\"bar\",\"xaxis\":\"x4\",\"yaxis\":\"y4\"},{\"name\":\"24\",\"x\":[0,1],\"y\":[106,16],\"type\":\"bar\",\"xaxis\":\"x4\",\"yaxis\":\"y4\"},{\"name\":\"25\",\"x\":[0,1],\"y\":[118,3],\"type\":\"bar\",\"xaxis\":\"x4\",\"yaxis\":\"y4\"},{\"name\":\"26\",\"x\":[0,1],\"y\":[108,14],\"type\":\"bar\",\"xaxis\":\"x4\",\"yaxis\":\"y4\"},{\"name\":\"27\",\"x\":[0,1],\"y\":[116,8],\"type\":\"bar\",\"xaxis\":\"x4\",\"yaxis\":\"y4\"},{\"name\":\"28\",\"x\":[0,1],\"y\":[107,12],\"type\":\"bar\",\"xaxis\":\"x4\",\"yaxis\":\"y4\"},{\"name\":\"29\",\"x\":[0,1],\"y\":[116,5],\"type\":\"bar\",\"xaxis\":\"x4\",\"yaxis\":\"y4\"},{\"name\":\"30\",\"x\":[0,1],\"y\":[118,4],\"type\":\"bar\",\"xaxis\":\"x4\",\"yaxis\":\"y4\"},{\"name\":\"31\",\"x\":[0,1],\"y\":[115,6],\"type\":\"bar\",\"xaxis\":\"x4\",\"yaxis\":\"y4\"},{\"name\":\"32\",\"x\":[0,1],\"y\":[119,3],\"type\":\"bar\",\"xaxis\":\"x4\",\"yaxis\":\"y4\"},{\"name\":\"33\",\"x\":[0,1],\"y\":[112,9],\"type\":\"bar\",\"xaxis\":\"x4\",\"yaxis\":\"y4\"},{\"name\":\"34\",\"x\":[0,1],\"y\":[115,7],\"type\":\"bar\",\"xaxis\":\"x4\",\"yaxis\":\"y4\"},{\"name\":\"35\",\"x\":[0,1],\"y\":[116,5],\"type\":\"bar\",\"xaxis\":\"x4\",\"yaxis\":\"y4\"},{\"name\":\"36\",\"x\":[0,1],\"y\":[119,3],\"type\":\"bar\",\"xaxis\":\"x4\",\"yaxis\":\"y4\"},{\"name\":\"37\",\"x\":[0,1],\"y\":[118,3],\"type\":\"bar\",\"xaxis\":\"x4\",\"yaxis\":\"y4\"},{\"name\":\"38\",\"x\":[0,1],\"y\":[117,5],\"type\":\"bar\",\"xaxis\":\"x4\",\"yaxis\":\"y4\"},{\"name\":\"39\",\"x\":[0,1],\"y\":[120,2],\"type\":\"bar\",\"xaxis\":\"x4\",\"yaxis\":\"y4\"},{\"name\":\"40\",\"x\":[0,1],\"y\":[119,2],\"type\":\"bar\",\"xaxis\":\"x4\",\"yaxis\":\"y4\"},{\"name\":\"41\",\"x\":[0,1],\"y\":[114,7],\"type\":\"bar\",\"xaxis\":\"x4\",\"yaxis\":\"y4\"},{\"name\":\"42\",\"x\":[0,1],\"y\":[116,6],\"type\":\"bar\",\"xaxis\":\"x4\",\"yaxis\":\"y4\"},{\"name\":\"43\",\"x\":[0,1],\"y\":[118,3],\"type\":\"bar\",\"xaxis\":\"x4\",\"yaxis\":\"y4\"},{\"name\":\"44\",\"x\":[0,1],\"y\":[121,1],\"type\":\"bar\",\"xaxis\":\"x4\",\"yaxis\":\"y4\"},{\"name\":\"0\",\"x\":[0,1],\"y\":[4060,327],\"type\":\"bar\",\"xaxis\":\"x5\",\"yaxis\":\"y5\"},{\"name\":\"1\",\"x\":[0,1],\"y\":[1961,271],\"type\":\"bar\",\"xaxis\":\"x5\",\"yaxis\":\"y5\"},{\"name\":\"2\",\"x\":[0,1],\"y\":[437,234],\"type\":\"bar\",\"xaxis\":\"x5\",\"yaxis\":\"y5\"},{\"name\":\"0\",\"x\":[0,1],\"y\":[1410,458],\"type\":\"bar\",\"xaxis\":\"x6\",\"yaxis\":\"y6\"},{\"name\":\"1\",\"x\":[0,1],\"y\":[4255,281],\"type\":\"bar\",\"xaxis\":\"x6\",\"yaxis\":\"y6\"},{\"name\":\"2\",\"x\":[0,1],\"y\":[297,41],\"type\":\"bar\",\"xaxis\":\"x6\",\"yaxis\":\"y6\"},{\"name\":\"3\",\"x\":[0,1],\"y\":[205,14],\"type\":\"bar\",\"xaxis\":\"x6\",\"yaxis\":\"y6\"},{\"name\":\"4\",\"x\":[0,1],\"y\":[291,38],\"type\":\"bar\",\"xaxis\":\"x6\",\"yaxis\":\"y6\"},{\"name\":\"0\",\"x\":[0,1],\"y\":[2418,197],\"type\":\"bar\",\"xaxis\":\"x7\",\"yaxis\":\"y7\"},{\"name\":\"1\",\"x\":[0,1],\"y\":[550,30],\"type\":\"bar\",\"xaxis\":\"x7\",\"yaxis\":\"y7\"},{\"name\":\"2\",\"x\":[0,1],\"y\":[191,15],\"type\":\"bar\",\"xaxis\":\"x7\",\"yaxis\":\"y7\"},{\"name\":\"3\",\"x\":[0,1],\"y\":[186,15],\"type\":\"bar\",\"xaxis\":\"x7\",\"yaxis\":\"y7\"},{\"name\":\"4\",\"x\":[0,1],\"y\":[725,94],\"type\":\"bar\",\"xaxis\":\"x7\",\"yaxis\":\"y7\"},{\"name\":\"5\",\"x\":[0,1],\"y\":[159,13],\"type\":\"bar\",\"xaxis\":\"x7\",\"yaxis\":\"y7\"},{\"name\":\"6\",\"x\":[0,1],\"y\":[681,93],\"type\":\"bar\",\"xaxis\":\"x7\",\"yaxis\":\"y7\"},{\"name\":\"7\",\"x\":[0,1],\"y\":[168,20],\"type\":\"bar\",\"xaxis\":\"x7\",\"yaxis\":\"y7\"},{\"name\":\"8\",\"x\":[0,1],\"y\":[237,26],\"type\":\"bar\",\"xaxis\":\"x7\",\"yaxis\":\"y7\"},{\"name\":\"9\",\"x\":[0,1],\"y\":[198,13],\"type\":\"bar\",\"xaxis\":\"x7\",\"yaxis\":\"y7\"},{\"name\":\"10\",\"x\":[0,1],\"y\":[230,115],\"type\":\"bar\",\"xaxis\":\"x7\",\"yaxis\":\"y7\"},{\"name\":\"11\",\"x\":[0,1],\"y\":[82,12],\"type\":\"bar\",\"xaxis\":\"x7\",\"yaxis\":\"y7\"},{\"name\":\"12\",\"x\":[0,1],\"y\":[129,56],\"type\":\"bar\",\"xaxis\":\"x7\",\"yaxis\":\"y7\"},{\"name\":\"13\",\"x\":[0,1],\"y\":[83,17],\"type\":\"bar\",\"xaxis\":\"x7\",\"yaxis\":\"y7\"},{\"name\":\"14\",\"x\":[0,1],\"y\":[52,26],\"type\":\"bar\",\"xaxis\":\"x7\",\"yaxis\":\"y7\"},{\"name\":\"15\",\"x\":[0,1],\"y\":[89,15],\"type\":\"bar\",\"xaxis\":\"x7\",\"yaxis\":\"y7\"},{\"name\":\"16\",\"x\":[0,1],\"y\":[100,19],\"type\":\"bar\",\"xaxis\":\"x7\",\"yaxis\":\"y7\"},{\"name\":\"17\",\"x\":[0,1],\"y\":[104,15],\"type\":\"bar\",\"xaxis\":\"x7\",\"yaxis\":\"y7\"},{\"name\":\"18\",\"x\":[0,1],\"y\":[76,41],\"type\":\"bar\",\"xaxis\":\"x7\",\"yaxis\":\"y7\"},{\"name\":\"0\",\"x\":[0,1],\"y\":[1530,455],\"type\":\"bar\",\"xaxis\":\"x8\",\"yaxis\":\"y8\"},{\"name\":\"1\",\"x\":[0,1],\"y\":[3908,300],\"type\":\"bar\",\"xaxis\":\"x8\",\"yaxis\":\"y8\"},{\"name\":\"2\",\"x\":[0,1],\"y\":[1020,77],\"type\":\"bar\",\"xaxis\":\"x8\",\"yaxis\":\"y8\"},{\"name\":\"0\",\"x\":[0,1],\"y\":[469,19],\"type\":\"bar\",\"xaxis\":\"x9\",\"yaxis\":\"y9\"},{\"name\":\"1\",\"x\":[0,1],\"y\":[444,40],\"type\":\"bar\",\"xaxis\":\"x9\",\"yaxis\":\"y9\"},{\"name\":\"2\",\"x\":[0,1],\"y\":[461,39],\"type\":\"bar\",\"xaxis\":\"x9\",\"yaxis\":\"y9\"},{\"name\":\"3\",\"x\":[0,1],\"y\":[465,15],\"type\":\"bar\",\"xaxis\":\"x9\",\"yaxis\":\"y9\"},{\"name\":\"4\",\"x\":[0,1],\"y\":[453,28],\"type\":\"bar\",\"xaxis\":\"x9\",\"yaxis\":\"y9\"},{\"name\":\"5\",\"x\":[0,1],\"y\":[470,21],\"type\":\"bar\",\"xaxis\":\"x9\",\"yaxis\":\"y9\"},{\"name\":\"6\",\"x\":[0,1],\"y\":[453,29],\"type\":\"bar\",\"xaxis\":\"x9\",\"yaxis\":\"y9\"},{\"name\":\"7\",\"x\":[0,1],\"y\":[454,32],\"type\":\"bar\",\"xaxis\":\"x9\",\"yaxis\":\"y9\"},{\"name\":\"8\",\"x\":[0,1],\"y\":[453,32],\"type\":\"bar\",\"xaxis\":\"x9\",\"yaxis\":\"y9\"},{\"name\":\"9\",\"x\":[0,1],\"y\":[433,52],\"type\":\"bar\",\"xaxis\":\"x9\",\"yaxis\":\"y9\"},{\"name\":\"10\",\"x\":[0,1],\"y\":[551,92],\"type\":\"bar\",\"xaxis\":\"x9\",\"yaxis\":\"y9\"},{\"name\":\"11\",\"x\":[0,1],\"y\":[307,92],\"type\":\"bar\",\"xaxis\":\"x9\",\"yaxis\":\"y9\"},{\"name\":\"12\",\"x\":[0,1],\"y\":[390,105],\"type\":\"bar\",\"xaxis\":\"x9\",\"yaxis\":\"y9\"},{\"name\":\"13\",\"x\":[0,1],\"y\":[298,124],\"type\":\"bar\",\"xaxis\":\"x9\",\"yaxis\":\"y9\"},{\"name\":\"14\",\"x\":[0,1],\"y\":[357,112],\"type\":\"bar\",\"xaxis\":\"x9\",\"yaxis\":\"y9\"},{\"name\":\"62.567821260101894\",\"x\":[0,1],\"y\":[3,2],\"type\":\"bar\",\"xaxis\":\"x10\",\"yaxis\":\"y10\"},{\"name\":\"162.54467588848357\",\"x\":[0,1],\"y\":[5,2],\"type\":\"bar\",\"xaxis\":\"x10\",\"yaxis\":\"y10\"},{\"name\":\"917.2978105498147\",\"x\":[0],\"y\":[14],\"type\":\"bar\",\"xaxis\":\"x10\",\"yaxis\":\"y10\"},{\"name\":\"955.183243745804\",\"x\":[0],\"y\":[20],\"type\":\"bar\",\"xaxis\":\"x10\",\"yaxis\":\"y10\"},{\"name\":\"2678.521919586887\",\"x\":[0,1],\"y\":[24,2],\"type\":\"bar\",\"xaxis\":\"x10\",\"yaxis\":\"y10\"},{\"name\":\"2697.491659418978\",\"x\":[0],\"y\":[6],\"type\":\"bar\",\"xaxis\":\"x10\",\"yaxis\":\"y10\"},{\"name\":\"3597.203884308766\",\"x\":[0,1],\"y\":[13,2],\"type\":\"bar\",\"xaxis\":\"x10\",\"yaxis\":\"y10\"},{\"name\":\"4087.7734547905716\",\"x\":[0],\"y\":[15],\"type\":\"bar\",\"xaxis\":\"x10\",\"yaxis\":\"y10\"},{\"name\":\"5252.3708691622805\",\"x\":[0,1],\"y\":[10,2],\"type\":\"bar\",\"xaxis\":\"x10\",\"yaxis\":\"y10\"},{\"name\":\"8086.668791521041\",\"x\":[0,1],\"y\":[16,2],\"type\":\"bar\",\"xaxis\":\"x10\",\"yaxis\":\"y10\"},{\"name\":\"9268.899327546287\",\"x\":[0],\"y\":[13],\"type\":\"bar\",\"xaxis\":\"x10\",\"yaxis\":\"y10\"},{\"name\":\"9781.547669569125\",\"x\":[0],\"y\":[17],\"type\":\"bar\",\"xaxis\":\"x10\",\"yaxis\":\"y10\"},{\"name\":\"11992.001587369074\",\"x\":[0,1],\"y\":[21,3],\"type\":\"bar\",\"xaxis\":\"x10\",\"yaxis\":\"y10\"},{\"name\":\"12688.013098600037\",\"x\":[0,1],\"y\":[16,2],\"type\":\"bar\",\"xaxis\":\"x10\",\"yaxis\":\"y10\"},{\"name\":\"13282.093771292823\",\"x\":[0,1],\"y\":[20,3],\"type\":\"bar\",\"xaxis\":\"x10\",\"yaxis\":\"y10\"},{\"name\":\"14259.850922874737\",\"x\":[0,1],\"y\":[16,1],\"type\":\"bar\",\"xaxis\":\"x10\",\"yaxis\":\"y10\"},{\"name\":\"14503.917673467951\",\"x\":[0,1],\"y\":[15,2],\"type\":\"bar\",\"xaxis\":\"x10\",\"yaxis\":\"y10\"},{\"name\":\"14606.437128416997\",\"x\":[0,1],\"y\":[8,4],\"type\":\"bar\",\"xaxis\":\"x10\",\"yaxis\":\"y10\"},{\"name\":\"16847.605268777646\",\"x\":[0],\"y\":[17],\"type\":\"bar\",\"xaxis\":\"x10\",\"yaxis\":\"y10\"},{\"name\":\"17950.334707770533\",\"x\":[0],\"y\":[15],\"type\":\"bar\",\"xaxis\":\"x10\",\"yaxis\":\"y10\"},{\"name\":\"18291.531038082197\",\"x\":[0],\"y\":[17],\"type\":\"bar\",\"xaxis\":\"x10\",\"yaxis\":\"y10\"},{\"name\":\"19929.733016925322\",\"x\":[0,1],\"y\":[18,2],\"type\":\"bar\",\"xaxis\":\"x10\",\"yaxis\":\"y10\"},{\"name\":\"20020.999345491506\",\"x\":[0,1],\"y\":[23,4],\"type\":\"bar\",\"xaxis\":\"x10\",\"yaxis\":\"y10\"},{\"name\":\"20562.452273833973\",\"x\":[0,1],\"y\":[7,4],\"type\":\"bar\",\"xaxis\":\"x10\",\"yaxis\":\"y10\"},{\"name\":\"20766.572698018026\",\"x\":[0,1],\"y\":[158,9],\"type\":\"bar\",\"xaxis\":\"x10\",\"yaxis\":\"y10\"},{\"name\":\"21780.66646758859\",\"x\":[0,1],\"y\":[29,2],\"type\":\"bar\",\"xaxis\":\"x10\",\"yaxis\":\"y10\"},{\"name\":\"22298.70876638435\",\"x\":[0,1],\"y\":[17,4],\"type\":\"bar\",\"xaxis\":\"x10\",\"yaxis\":\"y10\"},{\"name\":\"22793.14287963726\",\"x\":[0,1],\"y\":[14,3],\"type\":\"bar\",\"xaxis\":\"x10\",\"yaxis\":\"y10\"},{\"name\":\"24738.889010829273\",\"x\":[0,1],\"y\":[17,1],\"type\":\"bar\",\"xaxis\":\"x10\",\"yaxis\":\"y10\"},{\"name\":\"25809.847055023714\",\"x\":[0,1],\"y\":[10,3],\"type\":\"bar\",\"xaxis\":\"x10\",\"yaxis\":\"y10\"},{\"name\":\"26247.56018063501\",\"x\":[0,1],\"y\":[25,2],\"type\":\"bar\",\"xaxis\":\"x10\",\"yaxis\":\"y10\"},{\"name\":\"26303.549877560417\",\"x\":[0,1],\"y\":[36,4],\"type\":\"bar\",\"xaxis\":\"x10\",\"yaxis\":\"y10\"},{\"name\":\"27254.82397019034\",\"x\":[0,1],\"y\":[16,2],\"type\":\"bar\",\"xaxis\":\"x10\",\"yaxis\":\"y10\"},{\"name\":\"27482.192119805877\",\"x\":[0,1],\"y\":[91,9],\"type\":\"bar\",\"xaxis\":\"x10\",\"yaxis\":\"y10\"},{\"name\":\"29186.00518833623\",\"x\":[0,1],\"y\":[153,15],\"type\":\"bar\",\"xaxis\":\"x10\",\"yaxis\":\"y10\"},{\"name\":\"29218.67797986461\",\"x\":[0,1],\"y\":[138,21],\"type\":\"bar\",\"xaxis\":\"x10\",\"yaxis\":\"y10\"},{\"name\":\"29223.23671154334\",\"x\":[0,1],\"y\":[19,2],\"type\":\"bar\",\"xaxis\":\"x10\",\"yaxis\":\"y10\"},{\"name\":\"29226.767484846892\",\"x\":[0,1],\"y\":[156,19],\"type\":\"bar\",\"xaxis\":\"x10\",\"yaxis\":\"y10\"},{\"name\":\"30438.60854627025\",\"x\":[0,1],\"y\":[23,1],\"type\":\"bar\",\"xaxis\":\"x10\",\"yaxis\":\"y10\"},{\"name\":\"30929.21661083387\",\"x\":[0,1],\"y\":[28,5],\"type\":\"bar\",\"xaxis\":\"x10\",\"yaxis\":\"y10\"},{\"name\":\"31198.615070460684\",\"x\":[0,1],\"y\":[14,2],\"type\":\"bar\",\"xaxis\":\"x10\",\"yaxis\":\"y10\"},{\"name\":\"31359.938226950657\",\"x\":[0,1],\"y\":[25,7],\"type\":\"bar\",\"xaxis\":\"x10\",\"yaxis\":\"y10\"},{\"name\":\"31659.761154354124\",\"x\":[0,1],\"y\":[14,1],\"type\":\"bar\",\"xaxis\":\"x10\",\"yaxis\":\"y10\"},{\"name\":\"32177.788543017134\",\"x\":[0,1],\"y\":[28,3],\"type\":\"bar\",\"xaxis\":\"x10\",\"yaxis\":\"y10\"},{\"name\":\"32205.13686224022\",\"x\":[0,1],\"y\":[24,1],\"type\":\"bar\",\"xaxis\":\"x10\",\"yaxis\":\"y10\"},{\"name\":\"32367.353760639176\",\"x\":[0,1],\"y\":[94,12],\"type\":\"bar\",\"xaxis\":\"x10\",\"yaxis\":\"y10\"},{\"name\":\"33563.98510666705\",\"x\":[0,1],\"y\":[9,5],\"type\":\"bar\",\"xaxis\":\"x10\",\"yaxis\":\"y10\"},{\"name\":\"34973.86406368717\",\"x\":[0,1],\"y\":[23,5],\"type\":\"bar\",\"xaxis\":\"x10\",\"yaxis\":\"y10\"},{\"name\":\"35095.56958113834\",\"x\":[0,1],\"y\":[120,15],\"type\":\"bar\",\"xaxis\":\"x10\",\"yaxis\":\"y10\"},{\"name\":\"35104.37725520365\",\"x\":[0,1],\"y\":[11,3],\"type\":\"bar\",\"xaxis\":\"x10\",\"yaxis\":\"y10\"},{\"name\":\"35291.43348318993\",\"x\":[0,1],\"y\":[125,11],\"type\":\"bar\",\"xaxis\":\"x10\",\"yaxis\":\"y10\"},{\"name\":\"35748.91847415364\",\"x\":[0,1],\"y\":[15,4],\"type\":\"bar\",\"xaxis\":\"x10\",\"yaxis\":\"y10\"},{\"name\":\"35800.52721500131\",\"x\":[0,1],\"y\":[13,1],\"type\":\"bar\",\"xaxis\":\"x10\",\"yaxis\":\"y10\"},{\"name\":\"35834.71211313143\",\"x\":[0,1],\"y\":[24,6],\"type\":\"bar\",\"xaxis\":\"x10\",\"yaxis\":\"y10\"},{\"name\":\"36402.54050530205\",\"x\":[0,1],\"y\":[23,2],\"type\":\"bar\",\"xaxis\":\"x10\",\"yaxis\":\"y10\"},{\"name\":\"36895.808073727036\",\"x\":[0,1],\"y\":[143,16],\"type\":\"bar\",\"xaxis\":\"x10\",\"yaxis\":\"y10\"},{\"name\":\"37030.01272210936\",\"x\":[0,1],\"y\":[7,1],\"type\":\"bar\",\"xaxis\":\"x10\",\"yaxis\":\"y10\"},{\"name\":\"37044.29463992726\",\"x\":[0,1],\"y\":[15,2],\"type\":\"bar\",\"xaxis\":\"x10\",\"yaxis\":\"y10\"},{\"name\":\"37404.65066092653\",\"x\":[0,1],\"y\":[87,11],\"type\":\"bar\",\"xaxis\":\"x10\",\"yaxis\":\"y10\"},{\"name\":\"37433.99320234215\",\"x\":[0],\"y\":[24],\"type\":\"bar\",\"xaxis\":\"x10\",\"yaxis\":\"y10\"},{\"name\":\"37632.392933873765\",\"x\":[0,1],\"y\":[29,3],\"type\":\"bar\",\"xaxis\":\"x10\",\"yaxis\":\"y10\"},{\"name\":\"38121.469064574594\",\"x\":[0,1],\"y\":[146,26],\"type\":\"bar\",\"xaxis\":\"x10\",\"yaxis\":\"y10\"},{\"name\":\"38124.61452506836\",\"x\":[0,1],\"y\":[150,23],\"type\":\"bar\",\"xaxis\":\"x10\",\"yaxis\":\"y10\"},{\"name\":\"38310.33032794252\",\"x\":[0,1],\"y\":[20,1],\"type\":\"bar\",\"xaxis\":\"x10\",\"yaxis\":\"y10\"},{\"name\":\"38760.38830680676\",\"x\":[0,1],\"y\":[89,7],\"type\":\"bar\",\"xaxis\":\"x10\",\"yaxis\":\"y10\"},{\"name\":\"39264.41574909895\",\"x\":[0,1],\"y\":[134,17],\"type\":\"bar\",\"xaxis\":\"x10\",\"yaxis\":\"y10\"},{\"name\":\"39884.557744936326\",\"x\":[0,1],\"y\":[93,11],\"type\":\"bar\",\"xaxis\":\"x10\",\"yaxis\":\"y10\"},{\"name\":\"39956.16341433785\",\"x\":[0],\"y\":[14],\"type\":\"bar\",\"xaxis\":\"x10\",\"yaxis\":\"y10\"},{\"name\":\"39993.11530704595\",\"x\":[0,1],\"y\":[16,1],\"type\":\"bar\",\"xaxis\":\"x10\",\"yaxis\":\"y10\"},{\"name\":\"40418.245391239856\",\"x\":[0,1],\"y\":[118,12],\"type\":\"bar\",\"xaxis\":\"x10\",\"yaxis\":\"y10\"},{\"name\":\"40490.77079645376\",\"x\":[0,1],\"y\":[23,3],\"type\":\"bar\",\"xaxis\":\"x10\",\"yaxis\":\"y10\"},{\"name\":\"40962.0872465206\",\"x\":[0,1],\"y\":[112,22],\"type\":\"bar\",\"xaxis\":\"x10\",\"yaxis\":\"y10\"},{\"name\":\"40973.228345087606\",\"x\":[0,1],\"y\":[26,2],\"type\":\"bar\",\"xaxis\":\"x10\",\"yaxis\":\"y10\"},{\"name\":\"41012.905513115234\",\"x\":[0,1],\"y\":[138,13],\"type\":\"bar\",\"xaxis\":\"x10\",\"yaxis\":\"y10\"},{\"name\":\"41782.380489385214\",\"x\":[0,1],\"y\":[13,2],\"type\":\"bar\",\"xaxis\":\"x10\",\"yaxis\":\"y10\"},{\"name\":\"42231.66737615317\",\"x\":[0,1],\"y\":[191,19],\"type\":\"bar\",\"xaxis\":\"x10\",\"yaxis\":\"y10\"},{\"name\":\"42434.040651430376\",\"x\":[0,1],\"y\":[15,1],\"type\":\"bar\",\"xaxis\":\"x10\",\"yaxis\":\"y10\"},{\"name\":\"43230.940533876776\",\"x\":[0,1],\"y\":[128,6],\"type\":\"bar\",\"xaxis\":\"x10\",\"yaxis\":\"y10\"},{\"name\":\"43939.48208254885\",\"x\":[0,1],\"y\":[92,13],\"type\":\"bar\",\"xaxis\":\"x10\",\"yaxis\":\"y10\"},{\"name\":\"44022.81636178698\",\"x\":[0,1],\"y\":[23,1],\"type\":\"bar\",\"xaxis\":\"x10\",\"yaxis\":\"y10\"},{\"name\":\"44256.757321778074\",\"x\":[0,1],\"y\":[146,19],\"type\":\"bar\",\"xaxis\":\"x10\",\"yaxis\":\"y10\"},{\"name\":\"44350.74442267568\",\"x\":[0],\"y\":[10],\"type\":\"bar\",\"xaxis\":\"x10\",\"yaxis\":\"y10\"},{\"name\":\"44726.65196498388\",\"x\":[0,1],\"y\":[104,18],\"type\":\"bar\",\"xaxis\":\"x10\",\"yaxis\":\"y10\"},{\"name\":\"45046.125214722604\",\"x\":[0,1],\"y\":[124,19],\"type\":\"bar\",\"xaxis\":\"x10\",\"yaxis\":\"y10\"},{\"name\":\"46510.01164599311\",\"x\":[0,1],\"y\":[167,20],\"type\":\"bar\",\"xaxis\":\"x10\",\"yaxis\":\"y10\"},{\"name\":\"46951.90225806502\",\"x\":[0,1],\"y\":[18,1],\"type\":\"bar\",\"xaxis\":\"x10\",\"yaxis\":\"y10\"},{\"name\":\"47700.65949617359\",\"x\":[0,1],\"y\":[18,2],\"type\":\"bar\",\"xaxis\":\"x10\",\"yaxis\":\"y10\"},{\"name\":\"47900.15536680105\",\"x\":[0,1],\"y\":[113,15],\"type\":\"bar\",\"xaxis\":\"x10\",\"yaxis\":\"y10\"},{\"name\":\"48318.043550569004\",\"x\":[0,1],\"y\":[126,9],\"type\":\"bar\",\"xaxis\":\"x10\",\"yaxis\":\"y10\"},{\"name\":\"48645.40454516994\",\"x\":[0,1],\"y\":[31,2],\"type\":\"bar\",\"xaxis\":\"x10\",\"yaxis\":\"y10\"},{\"name\":\"48990.99002048063\",\"x\":[0,1],\"y\":[15,1],\"type\":\"bar\",\"xaxis\":\"x10\",\"yaxis\":\"y10\"},{\"name\":\"49614.36635321879\",\"x\":[0,1],\"y\":[20,1],\"type\":\"bar\",\"xaxis\":\"x10\",\"yaxis\":\"y10\"},{\"name\":\"49751.924871332274\",\"x\":[0,1],\"y\":[179,18],\"type\":\"bar\",\"xaxis\":\"x10\",\"yaxis\":\"y10\"},{\"name\":\"49785.47075593482\",\"x\":[0,1],\"y\":[22,1],\"type\":\"bar\",\"xaxis\":\"x10\",\"yaxis\":\"y10\"},{\"name\":\"50672.41570972054\",\"x\":[0,1],\"y\":[22,6],\"type\":\"bar\",\"xaxis\":\"x10\",\"yaxis\":\"y10\"},{\"name\":\"50946.746615441065\",\"x\":[0,1],\"y\":[23,5],\"type\":\"bar\",\"xaxis\":\"x10\",\"yaxis\":\"y10\"},{\"name\":\"51005.77412638554\",\"x\":[0,1],\"y\":[26,3],\"type\":\"bar\",\"xaxis\":\"x10\",\"yaxis\":\"y10\"},{\"name\":\"51152.27143053787\",\"x\":[0,1],\"y\":[21,5],\"type\":\"bar\",\"xaxis\":\"x10\",\"yaxis\":\"y10\"},{\"name\":\"51743.76757167105\",\"x\":[0,1],\"y\":[23,5],\"type\":\"bar\",\"xaxis\":\"x10\",\"yaxis\":\"y10\"},{\"name\":\"52290.43914457936\",\"x\":[0,1],\"y\":[78,6],\"type\":\"bar\",\"xaxis\":\"x10\",\"yaxis\":\"y10\"},{\"name\":\"52512.97230321616\",\"x\":[0],\"y\":[22],\"type\":\"bar\",\"xaxis\":\"x10\",\"yaxis\":\"y10\"},{\"name\":\"52796.986804406864\",\"x\":[0,1],\"y\":[16,3],\"type\":\"bar\",\"xaxis\":\"x10\",\"yaxis\":\"y10\"},{\"name\":\"53685.01139748926\",\"x\":[0,1],\"y\":[120,14],\"type\":\"bar\",\"xaxis\":\"x10\",\"yaxis\":\"y10\"},{\"name\":\"53739.78732204806\",\"x\":[0,1],\"y\":[122,21],\"type\":\"bar\",\"xaxis\":\"x10\",\"yaxis\":\"y10\"},{\"name\":\"54250.98518004692\",\"x\":[0,1],\"y\":[19,2],\"type\":\"bar\",\"xaxis\":\"x10\",\"yaxis\":\"y10\"},{\"name\":\"54601.79287172502\",\"x\":[0,1],\"y\":[13,4],\"type\":\"bar\",\"xaxis\":\"x10\",\"yaxis\":\"y10\"},{\"name\":\"55259.561571481085\",\"x\":[0,1],\"y\":[31,7],\"type\":\"bar\",\"xaxis\":\"x10\",\"yaxis\":\"y10\"},{\"name\":\"55354.04533166598\",\"x\":[0,1],\"y\":[14,2],\"type\":\"bar\",\"xaxis\":\"x10\",\"yaxis\":\"y10\"},{\"name\":\"55363.671804346195\",\"x\":[0,1],\"y\":[184,30],\"type\":\"bar\",\"xaxis\":\"x10\",\"yaxis\":\"y10\"},{\"name\":\"56173.57085379109\",\"x\":[0,1],\"y\":[16,3],\"type\":\"bar\",\"xaxis\":\"x10\",\"yaxis\":\"y10\"},{\"name\":\"56651.5311950536\",\"x\":[0,1],\"y\":[20,1],\"type\":\"bar\",\"xaxis\":\"x10\",\"yaxis\":\"y10\"},{\"name\":\"56872.84211406246\",\"x\":[0,1],\"y\":[111,11],\"type\":\"bar\",\"xaxis\":\"x10\",\"yaxis\":\"y10\"},{\"name\":\"57727.72077275705\",\"x\":[0,1],\"y\":[21,3],\"type\":\"bar\",\"xaxis\":\"x10\",\"yaxis\":\"y10\"},{\"name\":\"58127.54267312534\",\"x\":[0,1],\"y\":[7,2],\"type\":\"bar\",\"xaxis\":\"x10\",\"yaxis\":\"y10\"},{\"name\":\"58771.69900203228\",\"x\":[0,1],\"y\":[158,30],\"type\":\"bar\",\"xaxis\":\"x10\",\"yaxis\":\"y10\"},{\"name\":\"58918.44494057759\",\"x\":[0],\"y\":[19],\"type\":\"bar\",\"xaxis\":\"x10\",\"yaxis\":\"y10\"},{\"name\":\"59512.53130673467\",\"x\":[0,1],\"y\":[23,3],\"type\":\"bar\",\"xaxis\":\"x10\",\"yaxis\":\"y10\"},{\"name\":\"59667.985244911746\",\"x\":[0,1],\"y\":[31,2],\"type\":\"bar\",\"xaxis\":\"x10\",\"yaxis\":\"y10\"},{\"name\":\"59711.508772850815\",\"x\":[0,1],\"y\":[16,7],\"type\":\"bar\",\"xaxis\":\"x10\",\"yaxis\":\"y10\"},{\"name\":\"60741.32524379559\",\"x\":[0,1],\"y\":[24,6],\"type\":\"bar\",\"xaxis\":\"x10\",\"yaxis\":\"y10\"},{\"name\":\"62248.79716110376\",\"x\":[0,1],\"y\":[12,5],\"type\":\"bar\",\"xaxis\":\"x10\",\"yaxis\":\"y10\"},{\"name\":\"62728.65544113781\",\"x\":[0,1],\"y\":[96,10],\"type\":\"bar\",\"xaxis\":\"x10\",\"yaxis\":\"y10\"},{\"name\":\"63115.36889847982\",\"x\":[0,1],\"y\":[9,2],\"type\":\"bar\",\"xaxis\":\"x10\",\"yaxis\":\"y10\"},{\"name\":\"64836.73833651813\",\"x\":[0,1],\"y\":[25,7],\"type\":\"bar\",\"xaxis\":\"x10\",\"yaxis\":\"y10\"},{\"name\":\"65294.28447664922\",\"x\":[0,1],\"y\":[13,3],\"type\":\"bar\",\"xaxis\":\"x10\",\"yaxis\":\"y10\"},{\"name\":\"66216.98217153901\",\"x\":[0,1],\"y\":[18,1],\"type\":\"bar\",\"xaxis\":\"x10\",\"yaxis\":\"y10\"},{\"name\":\"66252.78954239623\",\"x\":[0,1],\"y\":[20,7],\"type\":\"bar\",\"xaxis\":\"x10\",\"yaxis\":\"y10\"},{\"name\":\"67657.54080778088\",\"x\":[0,1],\"y\":[11,3],\"type\":\"bar\",\"xaxis\":\"x10\",\"yaxis\":\"y10\"},{\"name\":\"68279.83450530347\",\"x\":[0,1],\"y\":[21,3],\"type\":\"bar\",\"xaxis\":\"x10\",\"yaxis\":\"y10\"},{\"name\":\"70791.94202404657\",\"x\":[0,1],\"y\":[63,13],\"type\":\"bar\",\"xaxis\":\"x10\",\"yaxis\":\"y10\"},{\"name\":\"72276.46146584337\",\"x\":[0,1],\"y\":[28,4],\"type\":\"bar\",\"xaxis\":\"x10\",\"yaxis\":\"y10\"},{\"name\":\"73641.64586864325\",\"x\":[0,1],\"y\":[12,1],\"type\":\"bar\",\"xaxis\":\"x10\",\"yaxis\":\"y10\"},{\"name\":\"78844.13455914879\",\"x\":[0,1],\"y\":[21,5],\"type\":\"bar\",\"xaxis\":\"x10\",\"yaxis\":\"y10\"},{\"name\":\"78946.30688216713\",\"x\":[0],\"y\":[11],\"type\":\"bar\",\"xaxis\":\"x10\",\"yaxis\":\"y10\"},{\"name\":\"82614.64445085196\",\"x\":[0,1],\"y\":[14,2],\"type\":\"bar\",\"xaxis\":\"x10\",\"yaxis\":\"y10\"},{\"name\":\"83792.83395672782\",\"x\":[0,1],\"y\":[11,2],\"type\":\"bar\",\"xaxis\":\"x10\",\"yaxis\":\"y10\"},{\"name\":\"87864.44853965398\",\"x\":[0,1],\"y\":[13,2],\"type\":\"bar\",\"xaxis\":\"x10\",\"yaxis\":\"y10\"},{\"name\":\"91937.67381590084\",\"x\":[0,1],\"y\":[23,5],\"type\":\"bar\",\"xaxis\":\"x10\",\"yaxis\":\"y10\"},{\"name\":\"99760.30003192072\",\"x\":[0,1],\"y\":[16,2],\"type\":\"bar\",\"xaxis\":\"x10\",\"yaxis\":\"y10\"},{\"name\":\"100901.55243306812\",\"x\":[0,1],\"y\":[9,2],\"type\":\"bar\",\"xaxis\":\"x10\",\"yaxis\":\"y10\"},{\"name\":\"102871.77939901008\",\"x\":[0,1],\"y\":[14,5],\"type\":\"bar\",\"xaxis\":\"x10\",\"yaxis\":\"y10\"},{\"name\":\"103529.42646885147\",\"x\":[0,1],\"y\":[14,5],\"type\":\"bar\",\"xaxis\":\"x10\",\"yaxis\":\"y10\"},{\"name\":\"139810.39794696213\",\"x\":[0,1],\"y\":[14,3],\"type\":\"bar\",\"xaxis\":\"x10\",\"yaxis\":\"y10\"},{\"name\":\"142388.67050705396\",\"x\":[0,1],\"y\":[10,3],\"type\":\"bar\",\"xaxis\":\"x10\",\"yaxis\":\"y10\"},{\"name\":\"0\",\"x\":[0,1],\"y\":[217,24],\"type\":\"bar\",\"xaxis\":\"x11\",\"yaxis\":\"y11\"},{\"name\":\"1\",\"x\":[0,1],\"y\":[245,28],\"type\":\"bar\",\"xaxis\":\"x11\",\"yaxis\":\"y11\"},{\"name\":\"3\",\"x\":[0,1],\"y\":[225,31],\"type\":\"bar\",\"xaxis\":\"x11\",\"yaxis\":\"y11\"},{\"name\":\"4\",\"x\":[0,1],\"y\":[274,30],\"type\":\"bar\",\"xaxis\":\"x11\",\"yaxis\":\"y11\"},{\"name\":\"5\",\"x\":[0,1],\"y\":[221,37],\"type\":\"bar\",\"xaxis\":\"x11\",\"yaxis\":\"y11\"},{\"name\":\"7\",\"x\":[0,1],\"y\":[220,39],\"type\":\"bar\",\"xaxis\":\"x11\",\"yaxis\":\"y11\"},{\"name\":\"8\",\"x\":[0,1],\"y\":[251,40],\"type\":\"bar\",\"xaxis\":\"x11\",\"yaxis\":\"y11\"},{\"name\":\"9\",\"x\":[0,1],\"y\":[221,43],\"type\":\"bar\",\"xaxis\":\"x11\",\"yaxis\":\"y11\"},{\"name\":\"11\",\"x\":[0,1],\"y\":[204,18],\"type\":\"bar\",\"xaxis\":\"x11\",\"yaxis\":\"y11\"},{\"name\":\"12\",\"x\":[0,1],\"y\":[179,18],\"type\":\"bar\",\"xaxis\":\"x11\",\"yaxis\":\"y11\"},{\"name\":\"14\",\"x\":[0,1],\"y\":[225,18],\"type\":\"bar\",\"xaxis\":\"x11\",\"yaxis\":\"y11\"},{\"name\":\"15\",\"x\":[0,1],\"y\":[204,26],\"type\":\"bar\",\"xaxis\":\"x11\",\"yaxis\":\"y11\"},{\"name\":\"16\",\"x\":[0,1],\"y\":[189,28],\"type\":\"bar\",\"xaxis\":\"x11\",\"yaxis\":\"y11\"},{\"name\":\"18\",\"x\":[0,1],\"y\":[211,26],\"type\":\"bar\",\"xaxis\":\"x11\",\"yaxis\":\"y11\"},{\"name\":\"19\",\"x\":[0,1],\"y\":[188,24],\"type\":\"bar\",\"xaxis\":\"x11\",\"yaxis\":\"y11\"},{\"name\":\"20\",\"x\":[0,1],\"y\":[203,23],\"type\":\"bar\",\"xaxis\":\"x11\",\"yaxis\":\"y11\"},{\"name\":\"22\",\"x\":[0,1],\"y\":[211,22],\"type\":\"bar\",\"xaxis\":\"x11\",\"yaxis\":\"y11\"},{\"name\":\"23\",\"x\":[0,1],\"y\":[189,16],\"type\":\"bar\",\"xaxis\":\"x11\",\"yaxis\":\"y11\"},{\"name\":\"24\",\"x\":[0,1],\"y\":[168,16],\"type\":\"bar\",\"xaxis\":\"x11\",\"yaxis\":\"y11\"},{\"name\":\"26\",\"x\":[0,1],\"y\":[173,22],\"type\":\"bar\",\"xaxis\":\"x11\",\"yaxis\":\"y11\"},{\"name\":\"27\",\"x\":[0,1],\"y\":[165,30],\"type\":\"bar\",\"xaxis\":\"x11\",\"yaxis\":\"y11\"},{\"name\":\"28\",\"x\":[0,1],\"y\":[177,10],\"type\":\"bar\",\"xaxis\":\"x11\",\"yaxis\":\"y11\"},{\"name\":\"30\",\"x\":[0,1],\"y\":[156,27],\"type\":\"bar\",\"xaxis\":\"x11\",\"yaxis\":\"y11\"},{\"name\":\"31\",\"x\":[0,1],\"y\":[170,23],\"type\":\"bar\",\"xaxis\":\"x11\",\"yaxis\":\"y11\"},{\"name\":\"32\",\"x\":[0,1],\"y\":[143,18],\"type\":\"bar\",\"xaxis\":\"x11\",\"yaxis\":\"y11\"},{\"name\":\"34\",\"x\":[0,1],\"y\":[162,25],\"type\":\"bar\",\"xaxis\":\"x11\",\"yaxis\":\"y11\"},{\"name\":\"35\",\"x\":[0,1],\"y\":[132,19],\"type\":\"bar\",\"xaxis\":\"x11\",\"yaxis\":\"y11\"},{\"name\":\"36\",\"x\":[0,1],\"y\":[130,13],\"type\":\"bar\",\"xaxis\":\"x11\",\"yaxis\":\"y11\"},{\"name\":\"38\",\"x\":[0,1],\"y\":[147,20],\"type\":\"bar\",\"xaxis\":\"x11\",\"yaxis\":\"y11\"},{\"name\":\"39\",\"x\":[0,1],\"y\":[151,22],\"type\":\"bar\",\"xaxis\":\"x11\",\"yaxis\":\"y11\"},{\"name\":\"41\",\"x\":[0,1],\"y\":[131,21],\"type\":\"bar\",\"xaxis\":\"x11\",\"yaxis\":\"y11\"},{\"name\":\"42\",\"x\":[0,1],\"y\":[134,18],\"type\":\"bar\",\"xaxis\":\"x11\",\"yaxis\":\"y11\"},{\"name\":\"43\",\"x\":[0,1],\"y\":[99,12],\"type\":\"bar\",\"xaxis\":\"x11\",\"yaxis\":\"y11\"},{\"name\":\"45\",\"x\":[0,1],\"y\":[124,17],\"type\":\"bar\",\"xaxis\":\"x11\",\"yaxis\":\"y11\"},{\"name\":\"46\",\"x\":[0,1],\"y\":[124,12],\"type\":\"bar\",\"xaxis\":\"x11\",\"yaxis\":\"y11\"},{\"name\":\"47\",\"x\":[0,1],\"y\":[95,16],\"type\":\"bar\",\"xaxis\":\"x11\",\"yaxis\":\"y11\"},{\"name\":\"0\",\"x\":[0,1],\"y\":[3362,349],\"type\":\"bar\",\"xaxis\":\"x12\",\"yaxis\":\"y12\"},{\"name\":\"1\",\"x\":[0,1],\"y\":[3096,483],\"type\":\"bar\",\"xaxis\":\"x12\",\"yaxis\":\"y12\"},{\"name\":\"0\",\"x\":[0,1],\"y\":[57,7],\"type\":\"bar\",\"xaxis\":\"x13\",\"yaxis\":\"y13\"},{\"name\":\"1\",\"x\":[0,1],\"y\":[61,9],\"type\":\"bar\",\"xaxis\":\"x13\",\"yaxis\":\"y13\"},{\"name\":\"3\",\"x\":[0,1],\"y\":[61,3],\"type\":\"bar\",\"xaxis\":\"x13\",\"yaxis\":\"y13\"},{\"name\":\"4\",\"x\":[0,1],\"y\":[69,11],\"type\":\"bar\",\"xaxis\":\"x13\",\"yaxis\":\"y13\"},{\"name\":\"5\",\"x\":[0,1],\"y\":[73,5],\"type\":\"bar\",\"xaxis\":\"x13\",\"yaxis\":\"y13\"},{\"name\":\"7\",\"x\":[0,1],\"y\":[56,10],\"type\":\"bar\",\"xaxis\":\"x13\",\"yaxis\":\"y13\"},{\"name\":\"8\",\"x\":[0,1],\"y\":[45,2],\"type\":\"bar\",\"xaxis\":\"x13\",\"yaxis\":\"y13\"},{\"name\":\"9\",\"x\":[0,1],\"y\":[56,8],\"type\":\"bar\",\"xaxis\":\"x13\",\"yaxis\":\"y13\"},{\"name\":\"11\",\"x\":[0,1],\"y\":[57,7],\"type\":\"bar\",\"xaxis\":\"x13\",\"yaxis\":\"y13\"},{\"name\":\"12\",\"x\":[0,1],\"y\":[67,7],\"type\":\"bar\",\"xaxis\":\"x13\",\"yaxis\":\"y13\"},{\"name\":\"14\",\"x\":[0,1],\"y\":[84,12],\"type\":\"bar\",\"xaxis\":\"x13\",\"yaxis\":\"y13\"},{\"name\":\"15\",\"x\":[0,1],\"y\":[69,8],\"type\":\"bar\",\"xaxis\":\"x13\",\"yaxis\":\"y13\"},{\"name\":\"16\",\"x\":[0,1],\"y\":[77,12],\"type\":\"bar\",\"xaxis\":\"x13\",\"yaxis\":\"y13\"},{\"name\":\"18\",\"x\":[0,1],\"y\":[58,7],\"type\":\"bar\",\"xaxis\":\"x13\",\"yaxis\":\"y13\"},{\"name\":\"19\",\"x\":[0,1],\"y\":[60,7],\"type\":\"bar\",\"xaxis\":\"x13\",\"yaxis\":\"y13\"},{\"name\":\"20\",\"x\":[0,1],\"y\":[86,6],\"type\":\"bar\",\"xaxis\":\"x13\",\"yaxis\":\"y13\"},{\"name\":\"22\",\"x\":[0,1],\"y\":[50,6],\"type\":\"bar\",\"xaxis\":\"x13\",\"yaxis\":\"y13\"},{\"name\":\"23\",\"x\":[0,1],\"y\":[78,6],\"type\":\"bar\",\"xaxis\":\"x13\",\"yaxis\":\"y13\"},{\"name\":\"24\",\"x\":[0,1],\"y\":[63,9],\"type\":\"bar\",\"xaxis\":\"x13\",\"yaxis\":\"y13\"},{\"name\":\"26\",\"x\":[0,1],\"y\":[88,4],\"type\":\"bar\",\"xaxis\":\"x13\",\"yaxis\":\"y13\"},{\"name\":\"27\",\"x\":[0,1],\"y\":[72,14],\"type\":\"bar\",\"xaxis\":\"x13\",\"yaxis\":\"y13\"},{\"name\":\"28\",\"x\":[0,1],\"y\":[69,13],\"type\":\"bar\",\"xaxis\":\"x13\",\"yaxis\":\"y13\"},{\"name\":\"30\",\"x\":[0,1],\"y\":[65,7],\"type\":\"bar\",\"xaxis\":\"x13\",\"yaxis\":\"y13\"},{\"name\":\"31\",\"x\":[0,1],\"y\":[62,4],\"type\":\"bar\",\"xaxis\":\"x13\",\"yaxis\":\"y13\"},{\"name\":\"32\",\"x\":[0,1],\"y\":[59,12],\"type\":\"bar\",\"xaxis\":\"x13\",\"yaxis\":\"y13\"},{\"name\":\"34\",\"x\":[0,1],\"y\":[59,13],\"type\":\"bar\",\"xaxis\":\"x13\",\"yaxis\":\"y13\"},{\"name\":\"35\",\"x\":[0,1],\"y\":[56,7],\"type\":\"bar\",\"xaxis\":\"x13\",\"yaxis\":\"y13\"},{\"name\":\"36\",\"x\":[0,1],\"y\":[72,6],\"type\":\"bar\",\"xaxis\":\"x13\",\"yaxis\":\"y13\"},{\"name\":\"38\",\"x\":[0,1],\"y\":[61,16],\"type\":\"bar\",\"xaxis\":\"x13\",\"yaxis\":\"y13\"},{\"name\":\"39\",\"x\":[0,1],\"y\":[66,13],\"type\":\"bar\",\"xaxis\":\"x13\",\"yaxis\":\"y13\"},{\"name\":\"41\",\"x\":[0,1],\"y\":[76,8],\"type\":\"bar\",\"xaxis\":\"x13\",\"yaxis\":\"y13\"},{\"name\":\"42\",\"x\":[0,1],\"y\":[77,8],\"type\":\"bar\",\"xaxis\":\"x13\",\"yaxis\":\"y13\"},{\"name\":\"43\",\"x\":[0,1],\"y\":[68,9],\"type\":\"bar\",\"xaxis\":\"x13\",\"yaxis\":\"y13\"},{\"name\":\"45\",\"x\":[0,1],\"y\":[47,12],\"type\":\"bar\",\"xaxis\":\"x13\",\"yaxis\":\"y13\"},{\"name\":\"46\",\"x\":[0,1],\"y\":[68,13],\"type\":\"bar\",\"xaxis\":\"x13\",\"yaxis\":\"y13\"},{\"name\":\"47\",\"x\":[0,1],\"y\":[80,8],\"type\":\"bar\",\"xaxis\":\"x13\",\"yaxis\":\"y13\"},{\"name\":\"49\",\"x\":[0,1],\"y\":[61,3],\"type\":\"bar\",\"xaxis\":\"x13\",\"yaxis\":\"y13\"},{\"name\":\"50\",\"x\":[0,1],\"y\":[68,9],\"type\":\"bar\",\"xaxis\":\"x13\",\"yaxis\":\"y13\"},{\"name\":\"51\",\"x\":[0,1],\"y\":[73,13],\"type\":\"bar\",\"xaxis\":\"x13\",\"yaxis\":\"y13\"},{\"name\":\"53\",\"x\":[0,1],\"y\":[61,8],\"type\":\"bar\",\"xaxis\":\"x13\",\"yaxis\":\"y13\"},{\"name\":\"54\",\"x\":[0,1],\"y\":[50,16],\"type\":\"bar\",\"xaxis\":\"x13\",\"yaxis\":\"y13\"},{\"name\":\"55\",\"x\":[0,1],\"y\":[64,5],\"type\":\"bar\",\"xaxis\":\"x13\",\"yaxis\":\"y13\"},{\"name\":\"57\",\"x\":[0,1],\"y\":[72,8],\"type\":\"bar\",\"xaxis\":\"x13\",\"yaxis\":\"y13\"},{\"name\":\"58\",\"x\":[0,1],\"y\":[73,9],\"type\":\"bar\",\"xaxis\":\"x13\",\"yaxis\":\"y13\"},{\"name\":\"59\",\"x\":[0,1],\"y\":[86,7],\"type\":\"bar\",\"xaxis\":\"x13\",\"yaxis\":\"y13\"},{\"name\":\"61\",\"x\":[0,1],\"y\":[65,6],\"type\":\"bar\",\"xaxis\":\"x13\",\"yaxis\":\"y13\"},{\"name\":\"62\",\"x\":[0,1],\"y\":[63,13],\"type\":\"bar\",\"xaxis\":\"x13\",\"yaxis\":\"y13\"},{\"name\":\"63\",\"x\":[0,1],\"y\":[70,10],\"type\":\"bar\",\"xaxis\":\"x13\",\"yaxis\":\"y13\"},{\"name\":\"65\",\"x\":[0,1],\"y\":[72,6],\"type\":\"bar\",\"xaxis\":\"x13\",\"yaxis\":\"y13\"},{\"name\":\"66\",\"x\":[0,1],\"y\":[60,12],\"type\":\"bar\",\"xaxis\":\"x13\",\"yaxis\":\"y13\"},{\"name\":\"68\",\"x\":[0,1],\"y\":[91,13],\"type\":\"bar\",\"xaxis\":\"x13\",\"yaxis\":\"y13\"},{\"name\":\"69\",\"x\":[0,1],\"y\":[71,4],\"type\":\"bar\",\"xaxis\":\"x13\",\"yaxis\":\"y13\"},{\"name\":\"70\",\"x\":[0,1],\"y\":[73,6],\"type\":\"bar\",\"xaxis\":\"x13\",\"yaxis\":\"y13\"},{\"name\":\"72\",\"x\":[0,1],\"y\":[61,6],\"type\":\"bar\",\"xaxis\":\"x13\",\"yaxis\":\"y13\"},{\"name\":\"73\",\"x\":[0,1],\"y\":[56,10],\"type\":\"bar\",\"xaxis\":\"x13\",\"yaxis\":\"y13\"},{\"name\":\"74\",\"x\":[0,1],\"y\":[59,11],\"type\":\"bar\",\"xaxis\":\"x13\",\"yaxis\":\"y13\"},{\"name\":\"76\",\"x\":[0,1],\"y\":[84,4],\"type\":\"bar\",\"xaxis\":\"x13\",\"yaxis\":\"y13\"},{\"name\":\"77\",\"x\":[0,1],\"y\":[66,7],\"type\":\"bar\",\"xaxis\":\"x13\",\"yaxis\":\"y13\"},{\"name\":\"78\",\"x\":[0,1],\"y\":[50,11],\"type\":\"bar\",\"xaxis\":\"x13\",\"yaxis\":\"y13\"},{\"name\":\"80\",\"x\":[0,1],\"y\":[105,13],\"type\":\"bar\",\"xaxis\":\"x13\",\"yaxis\":\"y13\"},{\"name\":\"81\",\"x\":[0,1],\"y\":[56,7],\"type\":\"bar\",\"xaxis\":\"x13\",\"yaxis\":\"y13\"},{\"name\":\"82\",\"x\":[0,1],\"y\":[88,15],\"type\":\"bar\",\"xaxis\":\"x13\",\"yaxis\":\"y13\"},{\"name\":\"84\",\"x\":[0,1],\"y\":[75,9],\"type\":\"bar\",\"xaxis\":\"x13\",\"yaxis\":\"y13\"},{\"name\":\"85\",\"x\":[0,1],\"y\":[85,6],\"type\":\"bar\",\"xaxis\":\"x13\",\"yaxis\":\"y13\"},{\"name\":\"86\",\"x\":[0,1],\"y\":[75,7],\"type\":\"bar\",\"xaxis\":\"x13\",\"yaxis\":\"y13\"},{\"name\":\"88\",\"x\":[0,1],\"y\":[61,6],\"type\":\"bar\",\"xaxis\":\"x13\",\"yaxis\":\"y13\"},{\"name\":\"89\",\"x\":[0,1],\"y\":[61,11],\"type\":\"bar\",\"xaxis\":\"x13\",\"yaxis\":\"y13\"},{\"name\":\"90\",\"x\":[0,1],\"y\":[50,7],\"type\":\"bar\",\"xaxis\":\"x13\",\"yaxis\":\"y13\"},{\"name\":\"92\",\"x\":[0,1],\"y\":[64,10],\"type\":\"bar\",\"xaxis\":\"x13\",\"yaxis\":\"y13\"},{\"name\":\"93\",\"x\":[0,1],\"y\":[64,6],\"type\":\"bar\",\"xaxis\":\"x13\",\"yaxis\":\"y13\"},{\"name\":\"95\",\"x\":[0,1],\"y\":[73,10],\"type\":\"bar\",\"xaxis\":\"x13\",\"yaxis\":\"y13\"},{\"name\":\"96\",\"x\":[0,1],\"y\":[74,6],\"type\":\"bar\",\"xaxis\":\"x13\",\"yaxis\":\"y13\"},{\"name\":\"97\",\"x\":[0,1],\"y\":[70,7],\"type\":\"bar\",\"xaxis\":\"x13\",\"yaxis\":\"y13\"},{\"name\":\"99\",\"x\":[0,1],\"y\":[66,6],\"type\":\"bar\",\"xaxis\":\"x13\",\"yaxis\":\"y13\"},{\"name\":\"100\",\"x\":[0,1],\"y\":[64,9],\"type\":\"bar\",\"xaxis\":\"x13\",\"yaxis\":\"y13\"},{\"name\":\"101\",\"x\":[0,1],\"y\":[59,14],\"type\":\"bar\",\"xaxis\":\"x13\",\"yaxis\":\"y13\"},{\"name\":\"103\",\"x\":[0,1],\"y\":[56,10],\"type\":\"bar\",\"xaxis\":\"x13\",\"yaxis\":\"y13\"},{\"name\":\"104\",\"x\":[0,1],\"y\":[72,6],\"type\":\"bar\",\"xaxis\":\"x13\",\"yaxis\":\"y13\"},{\"name\":\"105\",\"x\":[0,1],\"y\":[61,4],\"type\":\"bar\",\"xaxis\":\"x13\",\"yaxis\":\"y13\"},{\"name\":\"107\",\"x\":[0,1],\"y\":[71,9],\"type\":\"bar\",\"xaxis\":\"x13\",\"yaxis\":\"y13\"},{\"name\":\"108\",\"x\":[0,1],\"y\":[52,5],\"type\":\"bar\",\"xaxis\":\"x13\",\"yaxis\":\"y13\"},{\"name\":\"109\",\"x\":[0,1],\"y\":[56,4],\"type\":\"bar\",\"xaxis\":\"x13\",\"yaxis\":\"y13\"},{\"name\":\"111\",\"x\":[0,1],\"y\":[42,4],\"type\":\"bar\",\"xaxis\":\"x13\",\"yaxis\":\"y13\"},{\"name\":\"112\",\"x\":[0,1],\"y\":[54,12],\"type\":\"bar\",\"xaxis\":\"x13\",\"yaxis\":\"y13\"},{\"name\":\"113\",\"x\":[0,1],\"y\":[76,7],\"type\":\"bar\",\"xaxis\":\"x13\",\"yaxis\":\"y13\"},{\"name\":\"115\",\"x\":[0,1],\"y\":[53,11],\"type\":\"bar\",\"xaxis\":\"x13\",\"yaxis\":\"y13\"},{\"name\":\"116\",\"x\":[0,1],\"y\":[64,9],\"type\":\"bar\",\"xaxis\":\"x13\",\"yaxis\":\"y13\"},{\"name\":\"117\",\"x\":[0,1],\"y\":[52,8],\"type\":\"bar\",\"xaxis\":\"x13\",\"yaxis\":\"y13\"},{\"name\":\"119\",\"x\":[0,1],\"y\":[54,8],\"type\":\"bar\",\"xaxis\":\"x13\",\"yaxis\":\"y13\"},{\"name\":\"120\",\"x\":[0,1],\"y\":[70,12],\"type\":\"bar\",\"xaxis\":\"x13\",\"yaxis\":\"y13\"},{\"name\":\"122\",\"x\":[0,1],\"y\":[60,11],\"type\":\"bar\",\"xaxis\":\"x13\",\"yaxis\":\"y13\"},{\"name\":\"123\",\"x\":[0,1],\"y\":[56,10],\"type\":\"bar\",\"xaxis\":\"x13\",\"yaxis\":\"y13\"},{\"name\":\"124\",\"x\":[0,1],\"y\":[50,6],\"type\":\"bar\",\"xaxis\":\"x13\",\"yaxis\":\"y13\"},{\"name\":\"126\",\"x\":[0,1],\"y\":[71,4],\"type\":\"bar\",\"xaxis\":\"x13\",\"yaxis\":\"y13\"},{\"name\":\"127\",\"x\":[0,1],\"y\":[48,6],\"type\":\"bar\",\"xaxis\":\"x13\",\"yaxis\":\"y13\"},{\"name\":\"128\",\"x\":[0,1],\"y\":[60,5],\"type\":\"bar\",\"xaxis\":\"x13\",\"yaxis\":\"y13\"},{\"name\":\"130\",\"x\":[0,1],\"y\":[42,12],\"type\":\"bar\",\"xaxis\":\"x13\",\"yaxis\":\"y13\"},{\"name\":\"131\",\"x\":[0,1],\"y\":[37,4],\"type\":\"bar\",\"xaxis\":\"x13\",\"yaxis\":\"y13\"},{\"name\":\"132\",\"x\":[0,1],\"y\":[39,3],\"type\":\"bar\",\"xaxis\":\"x13\",\"yaxis\":\"y13\"},{\"name\":\"134\",\"x\":[0,1],\"y\":[51,7],\"type\":\"bar\",\"xaxis\":\"x13\",\"yaxis\":\"y13\"},{\"name\":\"0\",\"x\":[0,1],\"y\":[1572,57],\"type\":\"bar\",\"xaxis\":\"x14\",\"yaxis\":\"y14\"},{\"name\":\"1\",\"x\":[0,1],\"y\":[2573,254],\"type\":\"bar\",\"xaxis\":\"x14\",\"yaxis\":\"y14\"},{\"name\":\"2\",\"x\":[0,1],\"y\":[2313,521],\"type\":\"bar\",\"xaxis\":\"x14\",\"yaxis\":\"y14\"},{\"name\":\"0\",\"x\":[0,1],\"y\":[2752,613],\"type\":\"bar\",\"xaxis\":\"x15\",\"yaxis\":\"y15\"},{\"name\":\"1\",\"x\":[0,1],\"y\":[1784,139],\"type\":\"bar\",\"xaxis\":\"x15\",\"yaxis\":\"y15\"},{\"name\":\"2\",\"x\":[0,1],\"y\":[1922,80],\"type\":\"bar\",\"xaxis\":\"x15\",\"yaxis\":\"y15\"}],                        {\"template\":{\"data\":{\"histogram2dcontour\":[{\"type\":\"histogram2dcontour\",\"colorbar\":{\"outlinewidth\":0,\"ticks\":\"\"},\"colorscale\":[[0.0,\"#0d0887\"],[0.1111111111111111,\"#46039f\"],[0.2222222222222222,\"#7201a8\"],[0.3333333333333333,\"#9c179e\"],[0.4444444444444444,\"#bd3786\"],[0.5555555555555556,\"#d8576b\"],[0.6666666666666666,\"#ed7953\"],[0.7777777777777778,\"#fb9f3a\"],[0.8888888888888888,\"#fdca26\"],[1.0,\"#f0f921\"]]}],\"choropleth\":[{\"type\":\"choropleth\",\"colorbar\":{\"outlinewidth\":0,\"ticks\":\"\"}}],\"histogram2d\":[{\"type\":\"histogram2d\",\"colorbar\":{\"outlinewidth\":0,\"ticks\":\"\"},\"colorscale\":[[0.0,\"#0d0887\"],[0.1111111111111111,\"#46039f\"],[0.2222222222222222,\"#7201a8\"],[0.3333333333333333,\"#9c179e\"],[0.4444444444444444,\"#bd3786\"],[0.5555555555555556,\"#d8576b\"],[0.6666666666666666,\"#ed7953\"],[0.7777777777777778,\"#fb9f3a\"],[0.8888888888888888,\"#fdca26\"],[1.0,\"#f0f921\"]]}],\"heatmap\":[{\"type\":\"heatmap\",\"colorbar\":{\"outlinewidth\":0,\"ticks\":\"\"},\"colorscale\":[[0.0,\"#0d0887\"],[0.1111111111111111,\"#46039f\"],[0.2222222222222222,\"#7201a8\"],[0.3333333333333333,\"#9c179e\"],[0.4444444444444444,\"#bd3786\"],[0.5555555555555556,\"#d8576b\"],[0.6666666666666666,\"#ed7953\"],[0.7777777777777778,\"#fb9f3a\"],[0.8888888888888888,\"#fdca26\"],[1.0,\"#f0f921\"]]}],\"heatmapgl\":[{\"type\":\"heatmapgl\",\"colorbar\":{\"outlinewidth\":0,\"ticks\":\"\"},\"colorscale\":[[0.0,\"#0d0887\"],[0.1111111111111111,\"#46039f\"],[0.2222222222222222,\"#7201a8\"],[0.3333333333333333,\"#9c179e\"],[0.4444444444444444,\"#bd3786\"],[0.5555555555555556,\"#d8576b\"],[0.6666666666666666,\"#ed7953\"],[0.7777777777777778,\"#fb9f3a\"],[0.8888888888888888,\"#fdca26\"],[1.0,\"#f0f921\"]]}],\"contourcarpet\":[{\"type\":\"contourcarpet\",\"colorbar\":{\"outlinewidth\":0,\"ticks\":\"\"}}],\"contour\":[{\"type\":\"contour\",\"colorbar\":{\"outlinewidth\":0,\"ticks\":\"\"},\"colorscale\":[[0.0,\"#0d0887\"],[0.1111111111111111,\"#46039f\"],[0.2222222222222222,\"#7201a8\"],[0.3333333333333333,\"#9c179e\"],[0.4444444444444444,\"#bd3786\"],[0.5555555555555556,\"#d8576b\"],[0.6666666666666666,\"#ed7953\"],[0.7777777777777778,\"#fb9f3a\"],[0.8888888888888888,\"#fdca26\"],[1.0,\"#f0f921\"]]}],\"surface\":[{\"type\":\"surface\",\"colorbar\":{\"outlinewidth\":0,\"ticks\":\"\"},\"colorscale\":[[0.0,\"#0d0887\"],[0.1111111111111111,\"#46039f\"],[0.2222222222222222,\"#7201a8\"],[0.3333333333333333,\"#9c179e\"],[0.4444444444444444,\"#bd3786\"],[0.5555555555555556,\"#d8576b\"],[0.6666666666666666,\"#ed7953\"],[0.7777777777777778,\"#fb9f3a\"],[0.8888888888888888,\"#fdca26\"],[1.0,\"#f0f921\"]]}],\"mesh3d\":[{\"type\":\"mesh3d\",\"colorbar\":{\"outlinewidth\":0,\"ticks\":\"\"}}],\"scatter\":[{\"fillpattern\":{\"fillmode\":\"overlay\",\"size\":10,\"solidity\":0.2},\"type\":\"scatter\"}],\"parcoords\":[{\"type\":\"parcoords\",\"line\":{\"colorbar\":{\"outlinewidth\":0,\"ticks\":\"\"}}}],\"scatterpolargl\":[{\"type\":\"scatterpolargl\",\"marker\":{\"colorbar\":{\"outlinewidth\":0,\"ticks\":\"\"}}}],\"bar\":[{\"error_x\":{\"color\":\"#2a3f5f\"},\"error_y\":{\"color\":\"#2a3f5f\"},\"marker\":{\"line\":{\"color\":\"#E5ECF6\",\"width\":0.5},\"pattern\":{\"fillmode\":\"overlay\",\"size\":10,\"solidity\":0.2}},\"type\":\"bar\"}],\"scattergeo\":[{\"type\":\"scattergeo\",\"marker\":{\"colorbar\":{\"outlinewidth\":0,\"ticks\":\"\"}}}],\"scatterpolar\":[{\"type\":\"scatterpolar\",\"marker\":{\"colorbar\":{\"outlinewidth\":0,\"ticks\":\"\"}}}],\"histogram\":[{\"marker\":{\"pattern\":{\"fillmode\":\"overlay\",\"size\":10,\"solidity\":0.2}},\"type\":\"histogram\"}],\"scattergl\":[{\"type\":\"scattergl\",\"marker\":{\"colorbar\":{\"outlinewidth\":0,\"ticks\":\"\"}}}],\"scatter3d\":[{\"type\":\"scatter3d\",\"line\":{\"colorbar\":{\"outlinewidth\":0,\"ticks\":\"\"}},\"marker\":{\"colorbar\":{\"outlinewidth\":0,\"ticks\":\"\"}}}],\"scattermapbox\":[{\"type\":\"scattermapbox\",\"marker\":{\"colorbar\":{\"outlinewidth\":0,\"ticks\":\"\"}}}],\"scatterternary\":[{\"type\":\"scatterternary\",\"marker\":{\"colorbar\":{\"outlinewidth\":0,\"ticks\":\"\"}}}],\"scattercarpet\":[{\"type\":\"scattercarpet\",\"marker\":{\"colorbar\":{\"outlinewidth\":0,\"ticks\":\"\"}}}],\"carpet\":[{\"aaxis\":{\"endlinecolor\":\"#2a3f5f\",\"gridcolor\":\"white\",\"linecolor\":\"white\",\"minorgridcolor\":\"white\",\"startlinecolor\":\"#2a3f5f\"},\"baxis\":{\"endlinecolor\":\"#2a3f5f\",\"gridcolor\":\"white\",\"linecolor\":\"white\",\"minorgridcolor\":\"white\",\"startlinecolor\":\"#2a3f5f\"},\"type\":\"carpet\"}],\"table\":[{\"cells\":{\"fill\":{\"color\":\"#EBF0F8\"},\"line\":{\"color\":\"white\"}},\"header\":{\"fill\":{\"color\":\"#C8D4E3\"},\"line\":{\"color\":\"white\"}},\"type\":\"table\"}],\"barpolar\":[{\"marker\":{\"line\":{\"color\":\"#E5ECF6\",\"width\":0.5},\"pattern\":{\"fillmode\":\"overlay\",\"size\":10,\"solidity\":0.2}},\"type\":\"barpolar\"}],\"pie\":[{\"automargin\":true,\"type\":\"pie\"}]},\"layout\":{\"autotypenumbers\":\"strict\",\"colorway\":[\"#636efa\",\"#EF553B\",\"#00cc96\",\"#ab63fa\",\"#FFA15A\",\"#19d3f3\",\"#FF6692\",\"#B6E880\",\"#FF97FF\",\"#FECB52\"],\"font\":{\"color\":\"#2a3f5f\"},\"hovermode\":\"closest\",\"hoverlabel\":{\"align\":\"left\"},\"paper_bgcolor\":\"white\",\"plot_bgcolor\":\"#E5ECF6\",\"polar\":{\"bgcolor\":\"#E5ECF6\",\"angularaxis\":{\"gridcolor\":\"white\",\"linecolor\":\"white\",\"ticks\":\"\"},\"radialaxis\":{\"gridcolor\":\"white\",\"linecolor\":\"white\",\"ticks\":\"\"}},\"ternary\":{\"bgcolor\":\"#E5ECF6\",\"aaxis\":{\"gridcolor\":\"white\",\"linecolor\":\"white\",\"ticks\":\"\"},\"baxis\":{\"gridcolor\":\"white\",\"linecolor\":\"white\",\"ticks\":\"\"},\"caxis\":{\"gridcolor\":\"white\",\"linecolor\":\"white\",\"ticks\":\"\"}},\"coloraxis\":{\"colorbar\":{\"outlinewidth\":0,\"ticks\":\"\"}},\"colorscale\":{\"sequential\":[[0.0,\"#0d0887\"],[0.1111111111111111,\"#46039f\"],[0.2222222222222222,\"#7201a8\"],[0.3333333333333333,\"#9c179e\"],[0.4444444444444444,\"#bd3786\"],[0.5555555555555556,\"#d8576b\"],[0.6666666666666666,\"#ed7953\"],[0.7777777777777778,\"#fb9f3a\"],[0.8888888888888888,\"#fdca26\"],[1.0,\"#f0f921\"]],\"sequentialminus\":[[0.0,\"#0d0887\"],[0.1111111111111111,\"#46039f\"],[0.2222222222222222,\"#7201a8\"],[0.3333333333333333,\"#9c179e\"],[0.4444444444444444,\"#bd3786\"],[0.5555555555555556,\"#d8576b\"],[0.6666666666666666,\"#ed7953\"],[0.7777777777777778,\"#fb9f3a\"],[0.8888888888888888,\"#fdca26\"],[1.0,\"#f0f921\"]],\"diverging\":[[0,\"#8e0152\"],[0.1,\"#c51b7d\"],[0.2,\"#de77ae\"],[0.3,\"#f1b6da\"],[0.4,\"#fde0ef\"],[0.5,\"#f7f7f7\"],[0.6,\"#e6f5d0\"],[0.7,\"#b8e186\"],[0.8,\"#7fbc41\"],[0.9,\"#4d9221\"],[1,\"#276419\"]]},\"xaxis\":{\"gridcolor\":\"white\",\"linecolor\":\"white\",\"ticks\":\"\",\"title\":{\"standoff\":15},\"zerolinecolor\":\"white\",\"automargin\":true,\"zerolinewidth\":2},\"yaxis\":{\"gridcolor\":\"white\",\"linecolor\":\"white\",\"ticks\":\"\",\"title\":{\"standoff\":15},\"zerolinecolor\":\"white\",\"automargin\":true,\"zerolinewidth\":2},\"scene\":{\"xaxis\":{\"backgroundcolor\":\"#E5ECF6\",\"gridcolor\":\"white\",\"linecolor\":\"white\",\"showbackground\":true,\"ticks\":\"\",\"zerolinecolor\":\"white\",\"gridwidth\":2},\"yaxis\":{\"backgroundcolor\":\"#E5ECF6\",\"gridcolor\":\"white\",\"linecolor\":\"white\",\"showbackground\":true,\"ticks\":\"\",\"zerolinecolor\":\"white\",\"gridwidth\":2},\"zaxis\":{\"backgroundcolor\":\"#E5ECF6\",\"gridcolor\":\"white\",\"linecolor\":\"white\",\"showbackground\":true,\"ticks\":\"\",\"zerolinecolor\":\"white\",\"gridwidth\":2}},\"shapedefaults\":{\"line\":{\"color\":\"#2a3f5f\"}},\"annotationdefaults\":{\"arrowcolor\":\"#2a3f5f\",\"arrowhead\":0,\"arrowwidth\":1},\"geo\":{\"bgcolor\":\"white\",\"landcolor\":\"#E5ECF6\",\"subunitcolor\":\"white\",\"showland\":true,\"showlakes\":true,\"lakecolor\":\"white\"},\"title\":{\"x\":0.05},\"mapbox\":{\"style\":\"light\"}}},\"xaxis\":{\"anchor\":\"y\",\"domain\":[0.0,0.475]},\"yaxis\":{\"anchor\":\"x\",\"domain\":[0.88375,1.0]},\"xaxis2\":{\"anchor\":\"y2\",\"domain\":[0.525,1.0]},\"yaxis2\":{\"anchor\":\"x2\",\"domain\":[0.88375,1.0]},\"xaxis3\":{\"anchor\":\"y3\",\"domain\":[0.0,0.475]},\"yaxis3\":{\"anchor\":\"x3\",\"domain\":[0.7575000000000001,0.87375]},\"xaxis4\":{\"anchor\":\"y4\",\"domain\":[0.525,1.0]},\"yaxis4\":{\"anchor\":\"x4\",\"domain\":[0.7575000000000001,0.87375]},\"xaxis5\":{\"anchor\":\"y5\",\"domain\":[0.0,0.475]},\"yaxis5\":{\"anchor\":\"x5\",\"domain\":[0.63125,0.7474999999999999]},\"xaxis6\":{\"anchor\":\"y6\",\"domain\":[0.525,1.0]},\"yaxis6\":{\"anchor\":\"x6\",\"domain\":[0.63125,0.7474999999999999]},\"xaxis7\":{\"anchor\":\"y7\",\"domain\":[0.0,0.475]},\"yaxis7\":{\"anchor\":\"x7\",\"domain\":[0.505,0.62125]},\"xaxis8\":{\"anchor\":\"y8\",\"domain\":[0.525,1.0]},\"yaxis8\":{\"anchor\":\"x8\",\"domain\":[0.505,0.62125]},\"xaxis9\":{\"anchor\":\"y9\",\"domain\":[0.0,0.475]},\"yaxis9\":{\"anchor\":\"x9\",\"domain\":[0.37875000000000003,0.495]},\"xaxis10\":{\"anchor\":\"y10\",\"domain\":[0.525,1.0]},\"yaxis10\":{\"anchor\":\"x10\",\"domain\":[0.37875000000000003,0.495]},\"xaxis11\":{\"anchor\":\"y11\",\"domain\":[0.0,0.475]},\"yaxis11\":{\"anchor\":\"x11\",\"domain\":[0.2525,0.36875]},\"xaxis12\":{\"anchor\":\"y12\",\"domain\":[0.525,1.0]},\"yaxis12\":{\"anchor\":\"x12\",\"domain\":[0.2525,0.36875]},\"xaxis13\":{\"anchor\":\"y13\",\"domain\":[0.0,0.475]},\"yaxis13\":{\"anchor\":\"x13\",\"domain\":[0.12625,0.2425]},\"xaxis14\":{\"anchor\":\"y14\",\"domain\":[0.525,1.0]},\"yaxis14\":{\"anchor\":\"x14\",\"domain\":[0.12625,0.2425]},\"xaxis15\":{\"anchor\":\"y15\",\"domain\":[0.0,0.475]},\"yaxis15\":{\"anchor\":\"x15\",\"domain\":[0.0,0.11624999999999999]},\"xaxis16\":{\"anchor\":\"y16\",\"domain\":[0.525,1.0]},\"yaxis16\":{\"anchor\":\"x16\",\"domain\":[0.0,0.11624999999999999]},\"annotations\":[{\"font\":{\"size\":16},\"showarrow\":false,\"text\":\"Money Spent per Policy_bin\",\"x\":0.2375,\"xanchor\":\"center\",\"xref\":\"paper\",\"y\":1.0,\"yanchor\":\"bottom\",\"yref\":\"paper\"},{\"font\":{\"size\":16},\"showarrow\":false,\"text\":\"Accident Likelihood_bin\",\"x\":0.7625,\"xanchor\":\"center\",\"xref\":\"paper\",\"y\":1.0,\"yanchor\":\"bottom\",\"yref\":\"paper\"},{\"font\":{\"size\":16},\"showarrow\":false,\"text\":\"Number of Policies\",\"x\":0.2375,\"xanchor\":\"center\",\"xref\":\"paper\",\"y\":0.87375,\"yanchor\":\"bottom\",\"yref\":\"paper\"},{\"font\":{\"size\":16},\"showarrow\":false,\"text\":\"Income_bin\",\"x\":0.7625,\"xanchor\":\"center\",\"xref\":\"paper\",\"y\":0.87375,\"yanchor\":\"bottom\",\"yref\":\"paper\"},{\"font\":{\"size\":16},\"showarrow\":false,\"text\":\"Coverage Index\",\"x\":0.2375,\"xanchor\":\"center\",\"xref\":\"paper\",\"y\":0.7474999999999999,\"yanchor\":\"bottom\",\"yref\":\"paper\"},{\"font\":{\"size\":16},\"showarrow\":false,\"text\":\"Employment Status Index\",\"x\":0.7625,\"xanchor\":\"center\",\"xref\":\"paper\",\"y\":0.7474999999999999,\"yanchor\":\"bottom\",\"yref\":\"paper\"},{\"font\":{\"size\":16},\"showarrow\":false,\"text\":\"Insurance_bin\",\"x\":0.2375,\"xanchor\":\"center\",\"xref\":\"paper\",\"y\":0.62125,\"yanchor\":\"bottom\",\"yref\":\"paper\"},{\"font\":{\"size\":16},\"showarrow\":false,\"text\":\"Marital Status Index\",\"x\":0.7625,\"xanchor\":\"center\",\"xref\":\"paper\",\"y\":0.62125,\"yanchor\":\"bottom\",\"yref\":\"paper\"},{\"font\":{\"size\":16},\"showarrow\":false,\"text\":\"Location Based Likelihood_bin\",\"x\":0.2375,\"xanchor\":\"center\",\"xref\":\"paper\",\"y\":0.495,\"yanchor\":\"bottom\",\"yref\":\"paper\"},{\"font\":{\"size\":16},\"showarrow\":false,\"text\":\"Date Time\",\"x\":0.7625,\"xanchor\":\"center\",\"xref\":\"paper\",\"y\":0.495,\"yanchor\":\"bottom\",\"yref\":\"paper\"},{\"font\":{\"size\":16},\"showarrow\":false,\"text\":\"Months Since Last Claim\",\"x\":0.2375,\"xanchor\":\"center\",\"xref\":\"paper\",\"y\":0.36875,\"yanchor\":\"bottom\",\"yref\":\"paper\"},{\"font\":{\"size\":16},\"showarrow\":false,\"text\":\"Gender\",\"x\":0.7625,\"xanchor\":\"center\",\"xref\":\"paper\",\"y\":0.36875,\"yanchor\":\"bottom\",\"yref\":\"paper\"},{\"font\":{\"size\":16},\"showarrow\":false,\"text\":\"Months Since Policy Inception\",\"x\":0.2375,\"xanchor\":\"center\",\"xref\":\"paper\",\"y\":0.2425,\"yanchor\":\"bottom\",\"yref\":\"paper\"},{\"font\":{\"size\":16},\"showarrow\":false,\"text\":\"CLV_Category\",\"x\":0.7625,\"xanchor\":\"center\",\"xref\":\"paper\",\"y\":0.2425,\"yanchor\":\"bottom\",\"yref\":\"paper\"},{\"font\":{\"size\":16},\"showarrow\":false,\"text\":\"Income_Category\",\"x\":0.2375,\"xanchor\":\"center\",\"xref\":\"paper\",\"y\":0.11624999999999999,\"yanchor\":\"bottom\",\"yref\":\"paper\"}],\"title\":{\"text\":\"How Each Column Affects 'Claim over 1k'\"},\"height\":2400,\"showlegend\":false},                        {\"responsive\": true}                    ).then(function(){\n",
       "                            \n",
       "var gd = document.getElementById('e823c8e7-a982-41a0-ac44-83bc5086f78f');\n",
       "var x = new MutationObserver(function (mutations, observer) {{\n",
       "        var display = window.getComputedStyle(gd).display;\n",
       "        if (!display || display === 'none') {{\n",
       "            console.log([gd, 'removed!']);\n",
       "            Plotly.purge(gd);\n",
       "            observer.disconnect();\n",
       "        }}\n",
       "}});\n",
       "\n",
       "// Listen for the removal of the full notebook cells\n",
       "var notebookContainer = gd.closest('#notebook-container');\n",
       "if (notebookContainer) {{\n",
       "    x.observe(notebookContainer, {childList: true});\n",
       "}}\n",
       "\n",
       "// Listen for the clearing of the current output cell\n",
       "var outputEl = gd.closest('.output');\n",
       "if (outputEl) {{\n",
       "    x.observe(outputEl, {childList: true});\n",
       "}}\n",
       "\n",
       "                        })                };                });            </script>        </div>"
      ]
     },
     "metadata": {},
     "output_type": "display_data"
    },
    {
     "data": {
      "text/plain": [
       "<Figure size 3000x8000 with 0 Axes>"
      ]
     },
     "metadata": {},
     "output_type": "display_data"
    }
   ],
   "source": [
    "relation_to_claim_over_1k(df_process)"
   ]
  },
  {
   "cell_type": "code",
   "execution_count": 56,
   "metadata": {},
   "outputs": [
    {
     "name": "stdout",
     "output_type": "stream",
     "text": [
      "(1458, 16, 2)\n"
     ]
    },
    {
     "data": {
      "image/png": "[encoded data removed]",
      "text/plain": [
       "<Figure size 800x950 with 1 Axes>"
      ]
     },
     "metadata": {},
     "output_type": "display_data"
    },
    {
     "data": {
      "image/png": "[encoded data removed]",
      "text/plain": [
       "<Figure size 800x950 with 1 Axes>"
      ]
     },
     "metadata": {},
     "output_type": "display_data"
    },
    {
     "name": "stdout",
     "output_type": "stream",
     "text": [
      "(1458, 16) (1458, 16)\n"
     ]
    }
   ],
   "source": [
    "import shap\n",
    "\n",
    "def shap_plot(df_train):\n",
    "  X = df_train.drop(\"Claim over 1k\", axis=1)\n",
    "  y = df_train[\"Claim over 1k\"]\n",
    "  test_size = 0.2\n",
    "  X_train, X_test, y_train, y_test = train_test_split(X, y, test_size = test_size, random_state = 42)\n",
    "\n",
    "  # Train a Random Forest model\n",
    "  model = RandomForestClassifier()\n",
    "  model.fit(X_train, y_train)\n",
    "  # Initialize the SHAP explainer\n",
    "  explainer = shap.Explainer(model, feature_names=X.columns)\n",
    "  \n",
    "  # Calculate SHAP values for the test dataset\n",
    "  shap_values = explainer(X_test)\n",
    "\n",
    "  print(shap_values.shape)\n",
    "  shap_values_0 = shap_values[:, :, 0]\n",
    "  shap_values_1 = shap_values[:, :, 1]\n",
    "  shap.plots.bar(shap_values_0, max_display=400)\n",
    "  shap.plots.bar(shap_values_1, max_display=400)\n",
    "  print(shap_values_0.shape, shap_values_1.shape)\n",
    "  return shap_values\n",
    "shap_values = shap_plot(df_process)"
   ]
  },
  {
   "cell_type": "code",
   "execution_count": 57,
   "metadata": {},
   "outputs": [],
   "source": [
    "def test_monitor(model, X, y):\n",
    "  threshold = 0.5\n",
    "  # Predict the test set\n",
    "  y_proba = model.predict_proba(X)\n",
    "  y_pred = (y_proba[:, 1] >= threshold).astype(int)\n",
    "  # Evaluate the model\n",
    "  accuracy = accuracy_score(y, y_pred)\n",
    "  conf_matrix = confusion_matrix(y, y_pred).T\n",
    "  class_report = classification_report(y, y_pred)\n",
    "\n",
    "  # Calculate accuracy and F1 score\n",
    "  print(f\"Accuracy: {accuracy}\")\n",
    "  print(\"Confusion Matrix:\")\n",
    "  print(conf_matrix)\n",
    "  print(\"Classification Report:\")\n",
    "  print(class_report)\n",
    "  f1 = f1_score(y, y_pred)\n",
    "  print(f\"f1 score: ${f1}\")\n",
    "  \n",
    "  #            Actual\n",
    "  #             0   1\n",
    "  # Predict 0   TP  FP\n",
    "  #         1   FN  TN\n",
    "  # Evaluate the model\n",
    "  tp, fp, fn, tn = conf_matrix.ravel()\n",
    "  # Calculate sensitivity and specificity\n",
    "  sensitivity = tp / (tp + fn)  # True Positive Rate\n",
    "  specificity = tn / (tn + fp)  # True Negative Rate\n",
    "\n",
    "  print(\"Sensitivity (Recall):\", sensitivity)\n",
    "  print(\"Specificity:\", specificity)\n",
    "\n",
    "  return accuracy, sensitivity, specificity"
   ]
  },
  {
   "cell_type": "code",
   "execution_count": 58,
   "metadata": {},
   "outputs": [],
   "source": [
    "def normalize(X, scaler):\n",
    "  return scaler.fit_transform(X)\n",
    "\n",
    "def get_train_params(X, y, test_size):\n",
    "  X_train, X_test, y_train, y_test = train_test_split(X, y, test_size = test_size, random_state = 42)\n",
    "  return X_train, X_test, y_train, y_test"
   ]
  },
  {
   "cell_type": "code",
   "execution_count": 72,
   "metadata": {},
   "outputs": [],
   "source": [
    "def run_random_forest_normal(X_train, y_train):\n",
    "  # Initialize the Random Forest Classifier\n",
    "  rf_classifier = RandomForestClassifier(n_estimators=100, criterion=\"entropy\", max_depth=30, min_samples_leaf=2, min_samples_split=5, bootstrap=False)\n",
    "\n",
    "  # Train the model on the training data\n",
    "  # Note that random forest is a decision tree (if-else statment on each node), so the data does not have to be scaled\n",
    "  rf_classifier.fit(X_train, y_train)\n",
    "  return rf_classifier\n",
    "\n",
    "def random_forest(df_train):\n",
    "  df_train.value_counts()\n",
    "  # Get the params\n",
    "  X = df_train.drop(\"Claim over 1k\", axis=1)\n",
    "  y = df_train[\"Claim over 1k\"]\n",
    "  X_train_scaled, X_test_scaled, y_train, y_test = get_train_params(X, y, 0.2)\n",
    "\n",
    "  rf_classifier = run_random_forest_normal(X_train_scaled, y_train)\n",
    "  accuracy_from_train, sensitivity_from_train, specificity_from_train = test_monitor(rf_classifier, X_test_scaled, y_test)\n",
    "  \n",
    "  return accuracy_from_train, sensitivity_from_train, specificity_from_train"
   ]
  },
  {
   "cell_type": "code",
   "execution_count": 73,
   "metadata": {},
   "outputs": [],
   "source": [
    "def run_iteration_simple(df_train, times, cols=[]):\n",
    "  accuracy, sensitivity, specificity = 0, 0, 0\n",
    "  df_shorten_train = df_train.drop(columns=cols, axis=1)\n",
    "  for _ in range(times):\n",
    "    with SuppressPrints():\n",
    "      accuracy_get, sensitivity_get, specificity_get = random_forest(df_shorten_train)\n",
    "      accuracy += float(accuracy_get)\n",
    "      sensitivity += float(sensitivity_get)\n",
    "      specificity += float(specificity_get)\n",
    "  print(f\"Average over {times} runs: \", accuracy / times, sensitivity / times, specificity / times)"
   ]
  },
  {
   "cell_type": "code",
   "execution_count": 74,
   "metadata": {},
   "outputs": [
    {
     "name": "stdout",
     "output_type": "stream",
     "text": [
      "Accuracy: 0.9307270233196159\n",
      "Confusion Matrix:\n",
      "[[1276   77]\n",
      " [  24   81]]\n",
      "Classification Report:\n",
      "              precision    recall  f1-score   support\n",
      "\n",
      "           0       0.94      0.98      0.96      1300\n",
      "           1       0.77      0.51      0.62       158\n",
      "\n",
      "    accuracy                           0.93      1458\n",
      "   macro avg       0.86      0.75      0.79      1458\n",
      "weighted avg       0.92      0.93      0.92      1458\n",
      "\n",
      "f1 score: $0.6159695817490495\n",
      "Sensitivity (Recall): 0.9815384615384616\n",
      "Specificity: 0.5126582278481012\n"
     ]
    },
    {
     "data": {
      "text/plain": [
       "(0.9307270233196159, 0.9815384615384616, 0.5126582278481012)"
      ]
     },
     "execution_count": 74,
     "metadata": {},
     "output_type": "execute_result"
    }
   ],
   "source": [
    "random_forest(df_process) # test with no oversample"
   ]
  },
  {
   "cell_type": "code",
   "execution_count": 76,
   "metadata": {},
   "outputs": [
    {
     "name": "stdout",
     "output_type": "stream",
     "text": [
      "Average over 20 runs:  0.9312414266117969 0.9818846153846155 0.5145569620253164\n"
     ]
    }
   ],
   "source": [
    "run_iteration_simple(df_process, 20)"
   ]
  },
  {
   "cell_type": "code",
   "execution_count": 65,
   "metadata": {},
   "outputs": [
    {
     "name": "stdout",
     "output_type": "stream",
     "text": [
      "Fitting 5 folds for each of 216 candidates, totalling 1080 fits\n",
      "[CV] END bootstrap=False, class_weight=None, max_depth=10, min_samples_leaf=2, min_samples_split=5, n_estimators=100; total time=   0.6s\n",
      "[CV] END bootstrap=False, class_weight=None, max_depth=10, min_samples_leaf=2, min_samples_split=5, n_estimators=100; total time=   0.6s\n",
      "[CV] END bootstrap=False, class_weight=None, max_depth=10, min_samples_leaf=2, min_samples_split=5, n_estimators=100; total time=   0.6s\n",
      "[CV] END bootstrap=False, class_weight=None, max_depth=10, min_samples_leaf=2, min_samples_split=5, n_estimators=100; total time=   0.6s\n",
      "[CV] END bootstrap=False, class_weight=None, max_depth=10, min_samples_leaf=2, min_samples_split=5, n_estimators=100; total time=   0.6s\n",
      "[CV] END bootstrap=False, class_weight=None, max_depth=10, min_samples_leaf=2, min_samples_split=5, n_estimators=200; total time=   1.1s\n",
      "[CV] END bootstrap=False, class_weight=None, max_depth=10, min_samples_leaf=2, min_samples_split=5, n_estimators=200; total time=   1.1s\n",
      "[CV] END bootstrap=False, class_weight=None, max_depth=10, min_samples_leaf=2, min_samples_split=5, n_estimators=200; total time=   1.1s\n",
      "[CV] END bootstrap=False, class_weight=None, max_depth=10, min_samples_leaf=2, min_samples_split=5, n_estimators=200; total time=   1.1s\n",
      "[CV] END bootstrap=False, class_weight=None, max_depth=10, min_samples_leaf=2, min_samples_split=5, n_estimators=200; total time=   1.1s\n",
      "[CV] END bootstrap=False, class_weight=None, max_depth=10, min_samples_leaf=2, min_samples_split=5, n_estimators=250; total time=   1.4s\n",
      "[CV] END bootstrap=False, class_weight=None, max_depth=10, min_samples_leaf=2, min_samples_split=10, n_estimators=100; total time=   0.6s\n",
      "[CV] END bootstrap=False, class_weight=None, max_depth=10, min_samples_leaf=2, min_samples_split=10, n_estimators=100; total time=   0.6s\n",
      "[CV] END bootstrap=False, class_weight=None, max_depth=10, min_samples_leaf=2, min_samples_split=5, n_estimators=250; total time=   1.4s\n",
      "[CV] END bootstrap=False, class_weight=None, max_depth=10, min_samples_leaf=2, min_samples_split=10, n_estimators=100; total time=   0.6s\n",
      "[CV] END bootstrap=False, class_weight=None, max_depth=10, min_samples_leaf=2, min_samples_split=5, n_estimators=250; total time=   1.4s\n",
      "[CV] END bootstrap=False, class_weight=None, max_depth=10, min_samples_leaf=2, min_samples_split=5, n_estimators=250; total time=   1.4s\n",
      "[CV] END bootstrap=False, class_weight=None, max_depth=10, min_samples_leaf=2, min_samples_split=5, n_estimators=250; total time=   1.4s\n",
      "[CV] END bootstrap=False, class_weight=None, max_depth=10, min_samples_leaf=2, min_samples_split=10, n_estimators=100; total time=   0.6s\n",
      "[CV] END bootstrap=False, class_weight=None, max_depth=10, min_samples_leaf=2, min_samples_split=10, n_estimators=100; total time=   0.6s\n",
      "[CV] END bootstrap=False, class_weight=None, max_depth=10, min_samples_leaf=2, min_samples_split=10, n_estimators=200; total time=   1.1s\n",
      "[CV] END bootstrap=False, class_weight=None, max_depth=10, min_samples_leaf=2, min_samples_split=10, n_estimators=200; total time=   1.1s\n",
      "[CV] END bootstrap=False, class_weight=None, max_depth=10, min_samples_leaf=2, min_samples_split=10, n_estimators=200; total time=   1.1s\n",
      "[CV] END bootstrap=False, class_weight=None, max_depth=10, min_samples_leaf=2, min_samples_split=10, n_estimators=200; total time=   1.1s\n",
      "[CV] END bootstrap=False, class_weight=None, max_depth=10, min_samples_leaf=2, min_samples_split=10, n_estimators=200; total time=   1.1s\n",
      "[CV] END bootstrap=False, class_weight=None, max_depth=10, min_samples_leaf=2, min_samples_split=10, n_estimators=250; total time=   1.4s\n",
      "[CV] END bootstrap=False, class_weight=None, max_depth=10, min_samples_leaf=5, min_samples_split=5, n_estimators=100; total time=   0.5s\n",
      "[CV] END bootstrap=False, class_weight=None, max_depth=10, min_samples_leaf=5, min_samples_split=5, n_estimators=100; total time=   0.5s\n",
      "[CV] END bootstrap=False, class_weight=None, max_depth=10, min_samples_leaf=2, min_samples_split=10, n_estimators=250; total time=   1.4s\n",
      "[CV] END bootstrap=False, class_weight=None, max_depth=10, min_samples_leaf=5, min_samples_split=5, n_estimators=100; total time=   0.5s\n",
      "[CV] END bootstrap=False, class_weight=None, max_depth=10, min_samples_leaf=2, min_samples_split=10, n_estimators=250; total time=   1.4s\n",
      "[CV] END bootstrap=False, class_weight=None, max_depth=10, min_samples_leaf=2, min_samples_split=10, n_estimators=250; total time=   1.4s\n",
      "[CV] END bootstrap=False, class_weight=None, max_depth=10, min_samples_leaf=2, min_samples_split=10, n_estimators=250; total time=   1.4s\n",
      "[CV] END bootstrap=False, class_weight=None, max_depth=10, min_samples_leaf=5, min_samples_split=5, n_estimators=100; total time=   0.5s\n",
      "[CV] END bootstrap=False, class_weight=None, max_depth=10, min_samples_leaf=5, min_samples_split=5, n_estimators=100; total time=   0.5s\n",
      "[CV] END bootstrap=False, class_weight=None, max_depth=10, min_samples_leaf=5, min_samples_split=5, n_estimators=200; total time=   1.1s\n",
      "[CV] END bootstrap=False, class_weight=None, max_depth=10, min_samples_leaf=5, min_samples_split=5, n_estimators=200; total time=   1.1s\n",
      "[CV] END bootstrap=False, class_weight=None, max_depth=10, min_samples_leaf=5, min_samples_split=5, n_estimators=200; total time=   1.1s[CV] END bootstrap=False, class_weight=None, max_depth=10, min_samples_leaf=5, min_samples_split=5, n_estimators=200; total time=   1.1s\n",
      "\n",
      "[CV] END bootstrap=False, class_weight=None, max_depth=10, min_samples_leaf=5, min_samples_split=5, n_estimators=200; total time=   1.1s\n",
      "[CV] END bootstrap=False, class_weight=None, max_depth=10, min_samples_leaf=5, min_samples_split=10, n_estimators=100; total time=   0.5s\n",
      "[CV] END bootstrap=False, class_weight=None, max_depth=10, min_samples_leaf=5, min_samples_split=5, n_estimators=250; total time=   1.4s\n",
      "[CV] END bootstrap=False, class_weight=None, max_depth=10, min_samples_leaf=5, min_samples_split=10, n_estimators=100; total time=   0.5s\n",
      "[CV] END bootstrap=False, class_weight=None, max_depth=10, min_samples_leaf=5, min_samples_split=5, n_estimators=250; total time=   1.4s\n",
      "[CV] END bootstrap=False, class_weight=None, max_depth=10, min_samples_leaf=5, min_samples_split=10, n_estimators=100; total time=   0.5s\n",
      "[CV] END bootstrap=False, class_weight=None, max_depth=10, min_samples_leaf=5, min_samples_split=5, n_estimators=250; total time=   1.3s\n",
      "[CV] END bootstrap=False, class_weight=None, max_depth=10, min_samples_leaf=5, min_samples_split=5, n_estimators=250; total time=   1.3s\n",
      "[CV] END bootstrap=False, class_weight=None, max_depth=10, min_samples_leaf=5, min_samples_split=5, n_estimators=250; total time=   1.4s\n",
      "[CV] END bootstrap=False, class_weight=None, max_depth=10, min_samples_leaf=5, min_samples_split=10, n_estimators=100; total time=   0.5s\n",
      "[CV] END bootstrap=False, class_weight=None, max_depth=10, min_samples_leaf=5, min_samples_split=10, n_estimators=100; total time=   0.5s\n",
      "[CV] END bootstrap=False, class_weight=None, max_depth=10, min_samples_leaf=5, min_samples_split=10, n_estimators=200; total time=   1.1s\n",
      "[CV] END bootstrap=False, class_weight=None, max_depth=10, min_samples_leaf=5, min_samples_split=10, n_estimators=200; total time=   1.1s\n",
      "[CV] END bootstrap=False, class_weight=None, max_depth=10, min_samples_leaf=5, min_samples_split=10, n_estimators=200; total time=   1.1s\n",
      "[CV] END bootstrap=False, class_weight=None, max_depth=10, min_samples_leaf=5, min_samples_split=10, n_estimators=200; total time=   1.1s\n",
      "[CV] END bootstrap=False, class_weight=None, max_depth=10, min_samples_leaf=5, min_samples_split=10, n_estimators=200; total time=   1.1s\n",
      "[CV] END bootstrap=False, class_weight=None, max_depth=10, min_samples_leaf=5, min_samples_split=10, n_estimators=250; total time=   1.4s\n",
      "[CV] END bootstrap=False, class_weight=None, max_depth=10, min_samples_leaf=10, min_samples_split=5, n_estimators=100; total time=   0.5s\n",
      "[CV] END bootstrap=False, class_weight=None, max_depth=10, min_samples_leaf=10, min_samples_split=5, n_estimators=100; total time=   0.5s\n",
      "[CV] END bootstrap=False, class_weight=None, max_depth=10, min_samples_leaf=5, min_samples_split=10, n_estimators=250; total time=   1.4s\n",
      "[CV] END bootstrap=False, class_weight=None, max_depth=10, min_samples_leaf=5, min_samples_split=10, n_estimators=250; total time=   1.4s\n",
      "[CV] END bootstrap=False, class_weight=None, max_depth=10, min_samples_leaf=5, min_samples_split=10, n_estimators=250; total time=   1.4s\n",
      "[CV] END bootstrap=False, class_weight=None, max_depth=10, min_samples_leaf=10, min_samples_split=5, n_estimators=100; total time=   0.5s\n",
      "[CV] END bootstrap=False, class_weight=None, max_depth=10, min_samples_leaf=5, min_samples_split=10, n_estimators=250; total time=   1.4s\n",
      "[CV] END bootstrap=False, class_weight=None, max_depth=10, min_samples_leaf=10, min_samples_split=5, n_estimators=100; total time=   0.5s\n",
      "[CV] END bootstrap=False, class_weight=None, max_depth=10, min_samples_leaf=10, min_samples_split=5, n_estimators=100; total time=   0.5s\n",
      "[CV] END bootstrap=False, class_weight=None, max_depth=10, min_samples_leaf=10, min_samples_split=5, n_estimators=200; total time=   1.0s\n",
      "[CV] END bootstrap=False, class_weight=None, max_depth=10, min_samples_leaf=10, min_samples_split=5, n_estimators=200; total time=   1.0s\n",
      "[CV] END bootstrap=False, class_weight=None, max_depth=10, min_samples_leaf=10, min_samples_split=5, n_estimators=200; total time=   1.0s\n",
      "[CV] END bootstrap=False, class_weight=None, max_depth=10, min_samples_leaf=10, min_samples_split=5, n_estimators=200; total time=   1.0s\n",
      "[CV] END bootstrap=False, class_weight=None, max_depth=10, min_samples_leaf=10, min_samples_split=5, n_estimators=200; total time=   1.0s\n",
      "[CV] END bootstrap=False, class_weight=None, max_depth=10, min_samples_leaf=10, min_samples_split=5, n_estimators=250; total time=   1.3s\n",
      "[CV] END bootstrap=False, class_weight=None, max_depth=10, min_samples_leaf=10, min_samples_split=10, n_estimators=100; total time=   0.5s\n",
      "[CV] END bootstrap=False, class_weight=None, max_depth=10, min_samples_leaf=10, min_samples_split=10, n_estimators=100; total time=   0.5s\n",
      "[CV] END bootstrap=False, class_weight=None, max_depth=10, min_samples_leaf=10, min_samples_split=5, n_estimators=250; total time=   1.3s\n",
      "[CV] END bootstrap=False, class_weight=None, max_depth=10, min_samples_leaf=10, min_samples_split=5, n_estimators=250; total time=   1.3s\n",
      "[CV] END bootstrap=False, class_weight=None, max_depth=10, min_samples_leaf=10, min_samples_split=5, n_estimators=250; total time=   1.3s\n",
      "[CV] END bootstrap=False, class_weight=None, max_depth=10, min_samples_leaf=10, min_samples_split=5, n_estimators=250; total time=   1.3s\n",
      "[CV] END bootstrap=False, class_weight=None, max_depth=10, min_samples_leaf=10, min_samples_split=10, n_estimators=100; total time=   0.5s\n",
      "[CV] END bootstrap=False, class_weight=None, max_depth=10, min_samples_leaf=10, min_samples_split=10, n_estimators=100; total time=   0.5s\n",
      "[CV] END bootstrap=False, class_weight=None, max_depth=10, min_samples_leaf=10, min_samples_split=10, n_estimators=100; total time=   0.5s\n",
      "[CV] END bootstrap=False, class_weight=None, max_depth=10, min_samples_leaf=10, min_samples_split=10, n_estimators=200; total time=   1.0s\n",
      "[CV] END bootstrap=False, class_weight=None, max_depth=10, min_samples_leaf=10, min_samples_split=10, n_estimators=200; total time=   1.1s\n",
      "[CV] END bootstrap=False, class_weight=None, max_depth=10, min_samples_leaf=10, min_samples_split=10, n_estimators=200; total time=   1.1s\n",
      "[CV] END bootstrap=False, class_weight=None, max_depth=10, min_samples_leaf=10, min_samples_split=10, n_estimators=200; total time=   1.1s\n",
      "[CV] END bootstrap=False, class_weight=None, max_depth=10, min_samples_leaf=10, min_samples_split=10, n_estimators=200; total time=   1.2s\n",
      "[CV] END bootstrap=False, class_weight=None, max_depth=10, min_samples_leaf=10, min_samples_split=10, n_estimators=250; total time=   1.4s\n",
      "[CV] END bootstrap=False, class_weight=None, max_depth=20, min_samples_leaf=2, min_samples_split=5, n_estimators=100; total time=   0.6s\n",
      "[CV] END bootstrap=False, class_weight=None, max_depth=10, min_samples_leaf=10, min_samples_split=10, n_estimators=250; total time=   1.4s\n",
      "[CV] END bootstrap=False, class_weight=None, max_depth=10, min_samples_leaf=10, min_samples_split=10, n_estimators=250; total time=   1.3s\n",
      "[CV] END bootstrap=False, class_weight=None, max_depth=20, min_samples_leaf=2, min_samples_split=5, n_estimators=100; total time=   0.6s\n",
      "[CV] END bootstrap=False, class_weight=None, max_depth=10, min_samples_leaf=10, min_samples_split=10, n_estimators=250; total time=   1.4s\n",
      "[CV] END bootstrap=False, class_weight=None, max_depth=10, min_samples_leaf=10, min_samples_split=10, n_estimators=250; total time=   1.4s\n",
      "[CV] END bootstrap=False, class_weight=None, max_depth=20, min_samples_leaf=2, min_samples_split=5, n_estimators=100; total time=   0.6s\n",
      "[CV] END bootstrap=False, class_weight=None, max_depth=20, min_samples_leaf=2, min_samples_split=5, n_estimators=100; total time=   0.6s\n",
      "[CV] END bootstrap=False, class_weight=None, max_depth=20, min_samples_leaf=2, min_samples_split=5, n_estimators=100; total time=   0.6s\n",
      "[CV] END bootstrap=False, class_weight=None, max_depth=20, min_samples_leaf=2, min_samples_split=5, n_estimators=200; total time=   1.3s\n",
      "[CV] END bootstrap=False, class_weight=None, max_depth=20, min_samples_leaf=2, min_samples_split=5, n_estimators=200; total time=   1.2s\n",
      "[CV] END bootstrap=False, class_weight=None, max_depth=20, min_samples_leaf=2, min_samples_split=5, n_estimators=200; total time=   1.3s\n",
      "[CV] END bootstrap=False, class_weight=None, max_depth=20, min_samples_leaf=2, min_samples_split=5, n_estimators=200; total time=   1.3s\n",
      "[CV] END bootstrap=False, class_weight=None, max_depth=20, min_samples_leaf=2, min_samples_split=5, n_estimators=200; total time=   1.3s\n",
      "[CV] END bootstrap=False, class_weight=None, max_depth=20, min_samples_leaf=2, min_samples_split=5, n_estimators=250; total time=   1.6s\n",
      "[CV] END bootstrap=False, class_weight=None, max_depth=20, min_samples_leaf=2, min_samples_split=10, n_estimators=100; total time=   0.6s\n",
      "[CV] END bootstrap=False, class_weight=None, max_depth=20, min_samples_leaf=2, min_samples_split=10, n_estimators=100; total time=   0.6s\n",
      "[CV] END bootstrap=False, class_weight=None, max_depth=20, min_samples_leaf=2, min_samples_split=5, n_estimators=250; total time=   1.5s\n",
      "[CV] END bootstrap=False, class_weight=None, max_depth=20, min_samples_leaf=2, min_samples_split=5, n_estimators=250; total time=   1.6s\n",
      "[CV] END bootstrap=False, class_weight=None, max_depth=20, min_samples_leaf=2, min_samples_split=5, n_estimators=250; total time=   1.6s\n",
      "[CV] END bootstrap=False, class_weight=None, max_depth=20, min_samples_leaf=2, min_samples_split=10, n_estimators=100; total time=   0.6s\n",
      "[CV] END bootstrap=False, class_weight=None, max_depth=20, min_samples_leaf=2, min_samples_split=5, n_estimators=250; total time=   1.6s\n",
      "[CV] END bootstrap=False, class_weight=None, max_depth=20, min_samples_leaf=2, min_samples_split=10, n_estimators=100; total time=   0.6s\n",
      "[CV] END bootstrap=False, class_weight=None, max_depth=20, min_samples_leaf=2, min_samples_split=10, n_estimators=100; total time=   0.6s\n",
      "[CV] END bootstrap=False, class_weight=None, max_depth=20, min_samples_leaf=2, min_samples_split=10, n_estimators=200; total time=   1.2s\n",
      "[CV] END bootstrap=False, class_weight=None, max_depth=20, min_samples_leaf=2, min_samples_split=10, n_estimators=200; total time=   1.2s\n",
      "[CV] END bootstrap=False, class_weight=None, max_depth=20, min_samples_leaf=2, min_samples_split=10, n_estimators=200; total time=   1.2s\n",
      "[CV] END bootstrap=False, class_weight=None, max_depth=20, min_samples_leaf=2, min_samples_split=10, n_estimators=200; total time=   1.2s\n",
      "[CV] END bootstrap=False, class_weight=None, max_depth=20, min_samples_leaf=2, min_samples_split=10, n_estimators=200; total time=   1.2s\n",
      "[CV] END bootstrap=False, class_weight=None, max_depth=20, min_samples_leaf=2, min_samples_split=10, n_estimators=250; total time=   1.5s\n",
      "[CV] END bootstrap=False, class_weight=None, max_depth=20, min_samples_leaf=5, min_samples_split=5, n_estimators=100; total time=   0.6s\n",
      "[CV] END bootstrap=False, class_weight=None, max_depth=20, min_samples_leaf=5, min_samples_split=5, n_estimators=100; total time=   0.6s\n",
      "[CV] END bootstrap=False, class_weight=None, max_depth=20, min_samples_leaf=2, min_samples_split=10, n_estimators=250; total time=   1.5s\n",
      "[CV] END bootstrap=False, class_weight=None, max_depth=20, min_samples_leaf=2, min_samples_split=10, n_estimators=250; total time=   1.6s\n",
      "[CV] END bootstrap=False, class_weight=None, max_depth=20, min_samples_leaf=2, min_samples_split=10, n_estimators=250; total time=   1.5s\n",
      "[CV] END bootstrap=False, class_weight=None, max_depth=20, min_samples_leaf=5, min_samples_split=5, n_estimators=100; total time=   0.6s\n",
      "[CV] END bootstrap=False, class_weight=None, max_depth=20, min_samples_leaf=2, min_samples_split=10, n_estimators=250; total time=   1.5s\n",
      "[CV] END bootstrap=False, class_weight=None, max_depth=20, min_samples_leaf=5, min_samples_split=5, n_estimators=100; total time=   0.6s\n",
      "[CV] END bootstrap=False, class_weight=None, max_depth=20, min_samples_leaf=5, min_samples_split=5, n_estimators=100; total time=   0.6s\n",
      "[CV] END bootstrap=False, class_weight=None, max_depth=20, min_samples_leaf=5, min_samples_split=5, n_estimators=200; total time=   1.2s\n",
      "[CV] END bootstrap=False, class_weight=None, max_depth=20, min_samples_leaf=5, min_samples_split=5, n_estimators=200; total time=   1.2s\n",
      "[CV] END bootstrap=False, class_weight=None, max_depth=20, min_samples_leaf=5, min_samples_split=5, n_estimators=200; total time=   1.2s\n",
      "[CV] END bootstrap=False, class_weight=None, max_depth=20, min_samples_leaf=5, min_samples_split=5, n_estimators=200; total time=   1.2s\n",
      "[CV] END bootstrap=False, class_weight=None, max_depth=20, min_samples_leaf=5, min_samples_split=5, n_estimators=200; total time=   1.2s\n",
      "[CV] END bootstrap=False, class_weight=None, max_depth=20, min_samples_leaf=5, min_samples_split=5, n_estimators=250; total time=   1.5s\n",
      "[CV] END bootstrap=False, class_weight=None, max_depth=20, min_samples_leaf=5, min_samples_split=10, n_estimators=100; total time=   0.6s\n",
      "[CV] END bootstrap=False, class_weight=None, max_depth=20, min_samples_leaf=5, min_samples_split=10, n_estimators=100; total time=   0.6s\n",
      "[CV] END bootstrap=False, class_weight=None, max_depth=20, min_samples_leaf=5, min_samples_split=5, n_estimators=250; total time=   1.5s\n",
      "[CV] END bootstrap=False, class_weight=None, max_depth=20, min_samples_leaf=5, min_samples_split=5, n_estimators=250; total time=   1.5s\n",
      "[CV] END bootstrap=False, class_weight=None, max_depth=20, min_samples_leaf=5, min_samples_split=5, n_estimators=250; total time=   1.5s\n",
      "[CV] END bootstrap=False, class_weight=None, max_depth=20, min_samples_leaf=5, min_samples_split=5, n_estimators=250; total time=   1.5s\n",
      "[CV] END bootstrap=False, class_weight=None, max_depth=20, min_samples_leaf=5, min_samples_split=10, n_estimators=100; total time=   0.6s\n",
      "[CV] END bootstrap=False, class_weight=None, max_depth=20, min_samples_leaf=5, min_samples_split=10, n_estimators=100; total time=   0.6s\n",
      "[CV] END bootstrap=False, class_weight=None, max_depth=20, min_samples_leaf=5, min_samples_split=10, n_estimators=100; total time=   0.6s\n",
      "[CV] END bootstrap=False, class_weight=None, max_depth=20, min_samples_leaf=5, min_samples_split=10, n_estimators=200; total time=   1.2s\n",
      "[CV] END bootstrap=False, class_weight=None, max_depth=20, min_samples_leaf=5, min_samples_split=10, n_estimators=200; total time=   1.2s\n",
      "[CV] END bootstrap=False, class_weight=None, max_depth=20, min_samples_leaf=5, min_samples_split=10, n_estimators=200; total time=   1.2s\n",
      "[CV] END bootstrap=False, class_weight=None, max_depth=20, min_samples_leaf=5, min_samples_split=10, n_estimators=200; total time=   1.2s\n",
      "[CV] END bootstrap=False, class_weight=None, max_depth=20, min_samples_leaf=5, min_samples_split=10, n_estimators=200; total time=   1.2s\n",
      "[CV] END bootstrap=False, class_weight=None, max_depth=20, min_samples_leaf=5, min_samples_split=10, n_estimators=250; total time=   1.5s\n",
      "[CV] END bootstrap=False, class_weight=None, max_depth=20, min_samples_leaf=10, min_samples_split=5, n_estimators=100; total time=   0.5s\n",
      "[CV] END bootstrap=False, class_weight=None, max_depth=20, min_samples_leaf=10, min_samples_split=5, n_estimators=100; total time=   0.5s\n",
      "[CV] END bootstrap=False, class_weight=None, max_depth=20, min_samples_leaf=5, min_samples_split=10, n_estimators=250; total time=   1.4s\n",
      "[CV] END bootstrap=False, class_weight=None, max_depth=20, min_samples_leaf=10, min_samples_split=5, n_estimators=100; total time=   0.5s\n",
      "[CV] END bootstrap=False, class_weight=None, max_depth=20, min_samples_leaf=5, min_samples_split=10, n_estimators=250; total time=   1.5s\n",
      "[CV] END bootstrap=False, class_weight=None, max_depth=20, min_samples_leaf=5, min_samples_split=10, n_estimators=250; total time=   1.5s\n",
      "[CV] END bootstrap=False, class_weight=None, max_depth=20, min_samples_leaf=5, min_samples_split=10, n_estimators=250; total time=   1.5s\n",
      "[CV] END bootstrap=False, class_weight=None, max_depth=20, min_samples_leaf=10, min_samples_split=5, n_estimators=100; total time=   0.5s\n",
      "[CV] END bootstrap=False, class_weight=None, max_depth=20, min_samples_leaf=10, min_samples_split=5, n_estimators=100; total time=   0.5s\n",
      "[CV] END bootstrap=False, class_weight=None, max_depth=20, min_samples_leaf=10, min_samples_split=5, n_estimators=200; total time=   1.1s\n",
      "[CV] END bootstrap=False, class_weight=None, max_depth=20, min_samples_leaf=10, min_samples_split=5, n_estimators=200; total time=   1.1s\n",
      "[CV] END bootstrap=False, class_weight=None, max_depth=20, min_samples_leaf=10, min_samples_split=5, n_estimators=200; total time=   1.1s\n",
      "[CV] END bootstrap=False, class_weight=None, max_depth=20, min_samples_leaf=10, min_samples_split=5, n_estimators=200; total time=   1.1s\n",
      "[CV] END bootstrap=False, class_weight=None, max_depth=20, min_samples_leaf=10, min_samples_split=5, n_estimators=200; total time=   1.1s\n",
      "[CV] END bootstrap=False, class_weight=None, max_depth=20, min_samples_leaf=10, min_samples_split=5, n_estimators=250; total time=   1.4s\n",
      "[CV] END bootstrap=False, class_weight=None, max_depth=20, min_samples_leaf=10, min_samples_split=10, n_estimators=100; total time=   0.5s\n",
      "[CV] END bootstrap=False, class_weight=None, max_depth=20, min_samples_leaf=10, min_samples_split=10, n_estimators=100; total time=   0.5s\n",
      "[CV] END bootstrap=False, class_weight=None, max_depth=20, min_samples_leaf=10, min_samples_split=5, n_estimators=250; total time=   1.3s\n",
      "[CV] END bootstrap=False, class_weight=None, max_depth=20, min_samples_leaf=10, min_samples_split=5, n_estimators=250; total time=   1.4s\n",
      "[CV] END bootstrap=False, class_weight=None, max_depth=20, min_samples_leaf=10, min_samples_split=5, n_estimators=250; total time=   1.4s\n",
      "[CV] END bootstrap=False, class_weight=None, max_depth=20, min_samples_leaf=10, min_samples_split=5, n_estimators=250; total time=   1.4s\n",
      "[CV] END bootstrap=False, class_weight=None, max_depth=20, min_samples_leaf=10, min_samples_split=10, n_estimators=100; total time=   0.6s\n",
      "[CV] END bootstrap=False, class_weight=None, max_depth=20, min_samples_leaf=10, min_samples_split=10, n_estimators=100; total time=   0.5s\n",
      "[CV] END bootstrap=False, class_weight=None, max_depth=20, min_samples_leaf=10, min_samples_split=10, n_estimators=100; total time=   0.5s\n",
      "[CV] END bootstrap=False, class_weight=None, max_depth=20, min_samples_leaf=10, min_samples_split=10, n_estimators=200; total time=   1.1s\n",
      "[CV] END bootstrap=False, class_weight=None, max_depth=20, min_samples_leaf=10, min_samples_split=10, n_estimators=200; total time=   1.1s\n",
      "[CV] END bootstrap=False, class_weight=None, max_depth=20, min_samples_leaf=10, min_samples_split=10, n_estimators=200; total time=   1.1s\n",
      "[CV] END bootstrap=False, class_weight=None, max_depth=20, min_samples_leaf=10, min_samples_split=10, n_estimators=200; total time=   1.1s\n",
      "[CV] END bootstrap=False, class_weight=None, max_depth=20, min_samples_leaf=10, min_samples_split=10, n_estimators=200; total time=   1.1s\n",
      "[CV] END bootstrap=False, class_weight=None, max_depth=20, min_samples_leaf=10, min_samples_split=10, n_estimators=250; total time=   1.4s\n",
      "[CV] END bootstrap=False, class_weight=None, max_depth=30, min_samples_leaf=2, min_samples_split=5, n_estimators=100; total time=   0.6s\n",
      "[CV] END bootstrap=False, class_weight=None, max_depth=20, min_samples_leaf=10, min_samples_split=10, n_estimators=250; total time=   1.3s\n",
      "[CV] END bootstrap=False, class_weight=None, max_depth=20, min_samples_leaf=10, min_samples_split=10, n_estimators=250; total time=   1.4s\n",
      "[CV] END bootstrap=False, class_weight=None, max_depth=30, min_samples_leaf=2, min_samples_split=5, n_estimators=100; total time=   0.6s\n",
      "[CV] END bootstrap=False, class_weight=None, max_depth=20, min_samples_leaf=10, min_samples_split=10, n_estimators=250; total time=   1.4s\n",
      "[CV] END bootstrap=False, class_weight=None, max_depth=20, min_samples_leaf=10, min_samples_split=10, n_estimators=250; total time=   1.3s\n",
      "[CV] END bootstrap=False, class_weight=None, max_depth=30, min_samples_leaf=2, min_samples_split=5, n_estimators=100; total time=   0.6s\n",
      "[CV] END bootstrap=False, class_weight=None, max_depth=30, min_samples_leaf=2, min_samples_split=5, n_estimators=100; total time=   0.6s\n",
      "[CV] END bootstrap=False, class_weight=None, max_depth=30, min_samples_leaf=2, min_samples_split=5, n_estimators=100; total time=   0.6s\n",
      "[CV] END bootstrap=False, class_weight=None, max_depth=30, min_samples_leaf=2, min_samples_split=5, n_estimators=200; total time=   1.3s\n",
      "[CV] END bootstrap=False, class_weight=None, max_depth=30, min_samples_leaf=2, min_samples_split=5, n_estimators=200; total time=   1.2s\n",
      "[CV] END bootstrap=False, class_weight=None, max_depth=30, min_samples_leaf=2, min_samples_split=5, n_estimators=200; total time=   1.3s\n",
      "[CV] END bootstrap=False, class_weight=None, max_depth=30, min_samples_leaf=2, min_samples_split=5, n_estimators=200; total time=   1.3s\n",
      "[CV] END bootstrap=False, class_weight=None, max_depth=30, min_samples_leaf=2, min_samples_split=5, n_estimators=200; total time=   1.2s\n",
      "[CV] END bootstrap=False, class_weight=None, max_depth=30, min_samples_leaf=2, min_samples_split=5, n_estimators=250; total time=   1.6s\n",
      "[CV] END bootstrap=False, class_weight=None, max_depth=30, min_samples_leaf=2, min_samples_split=10, n_estimators=100; total time=   0.6s\n",
      "[CV] END bootstrap=False, class_weight=None, max_depth=30, min_samples_leaf=2, min_samples_split=10, n_estimators=100; total time=   0.6s\n",
      "[CV] END bootstrap=False, class_weight=None, max_depth=30, min_samples_leaf=2, min_samples_split=5, n_estimators=250; total time=   1.5s\n",
      "[CV] END bootstrap=False, class_weight=None, max_depth=30, min_samples_leaf=2, min_samples_split=5, n_estimators=250; total time=   1.6s\n",
      "[CV] END bootstrap=False, class_weight=None, max_depth=30, min_samples_leaf=2, min_samples_split=5, n_estimators=250; total time=   1.6s\n",
      "[CV] END bootstrap=False, class_weight=None, max_depth=30, min_samples_leaf=2, min_samples_split=10, n_estimators=100; total time=   0.6s\n",
      "[CV] END bootstrap=False, class_weight=None, max_depth=30, min_samples_leaf=2, min_samples_split=5, n_estimators=250; total time=   1.6s\n",
      "[CV] END bootstrap=False, class_weight=None, max_depth=30, min_samples_leaf=2, min_samples_split=10, n_estimators=100; total time=   0.6s\n",
      "[CV] END bootstrap=False, class_weight=None, max_depth=30, min_samples_leaf=2, min_samples_split=10, n_estimators=100; total time=   0.6s\n",
      "[CV] END bootstrap=False, class_weight=None, max_depth=30, min_samples_leaf=2, min_samples_split=10, n_estimators=200; total time=   1.2s\n",
      "[CV] END bootstrap=False, class_weight=None, max_depth=30, min_samples_leaf=2, min_samples_split=10, n_estimators=200; total time=   1.2s\n",
      "[CV] END bootstrap=False, class_weight=None, max_depth=30, min_samples_leaf=2, min_samples_split=10, n_estimators=200; total time=   1.2s\n",
      "[CV] END bootstrap=False, class_weight=None, max_depth=30, min_samples_leaf=2, min_samples_split=10, n_estimators=200; total time=   1.2s\n",
      "[CV] END bootstrap=False, class_weight=None, max_depth=30, min_samples_leaf=2, min_samples_split=10, n_estimators=200; total time=   1.2s\n",
      "[CV] END bootstrap=False, class_weight=None, max_depth=30, min_samples_leaf=2, min_samples_split=10, n_estimators=250; total time=   1.5s\n",
      "[CV] END bootstrap=False, class_weight=None, max_depth=30, min_samples_leaf=5, min_samples_split=5, n_estimators=100; total time=   0.6s\n",
      "[CV] END bootstrap=False, class_weight=None, max_depth=30, min_samples_leaf=5, min_samples_split=5, n_estimators=100; total time=   0.6s\n",
      "[CV] END bootstrap=False, class_weight=None, max_depth=30, min_samples_leaf=2, min_samples_split=10, n_estimators=250; total time=   1.5s\n",
      "[CV] END bootstrap=False, class_weight=None, max_depth=30, min_samples_leaf=2, min_samples_split=10, n_estimators=250; total time=   1.6s\n",
      "[CV] END bootstrap=False, class_weight=None, max_depth=30, min_samples_leaf=5, min_samples_split=5, n_estimators=100; total time=   0.6s\n",
      "[CV] END bootstrap=False, class_weight=None, max_depth=30, min_samples_leaf=2, min_samples_split=10, n_estimators=250; total time=   1.5s\n",
      "[CV] END bootstrap=False, class_weight=None, max_depth=30, min_samples_leaf=2, min_samples_split=10, n_estimators=250; total time=   1.5s\n",
      "[CV] END bootstrap=False, class_weight=None, max_depth=30, min_samples_leaf=5, min_samples_split=5, n_estimators=100; total time=   0.6s\n",
      "[CV] END bootstrap=False, class_weight=None, max_depth=30, min_samples_leaf=5, min_samples_split=5, n_estimators=100; total time=   0.6s\n",
      "[CV] END bootstrap=False, class_weight=None, max_depth=30, min_samples_leaf=5, min_samples_split=5, n_estimators=200; total time=   1.2s\n",
      "[CV] END bootstrap=False, class_weight=None, max_depth=30, min_samples_leaf=5, min_samples_split=5, n_estimators=200; total time=   1.2s\n",
      "[CV] END bootstrap=False, class_weight=None, max_depth=30, min_samples_leaf=5, min_samples_split=5, n_estimators=200; total time=   1.2s\n",
      "[CV] END bootstrap=False, class_weight=None, max_depth=30, min_samples_leaf=5, min_samples_split=5, n_estimators=200; total time=   1.2s\n",
      "[CV] END bootstrap=False, class_weight=None, max_depth=30, min_samples_leaf=5, min_samples_split=5, n_estimators=200; total time=   1.2s\n",
      "[CV] END bootstrap=False, class_weight=None, max_depth=30, min_samples_leaf=5, min_samples_split=5, n_estimators=250; total time=   1.5s\n",
      "[CV] END bootstrap=False, class_weight=None, max_depth=30, min_samples_leaf=5, min_samples_split=10, n_estimators=100; total time=   0.6s\n",
      "[CV] END bootstrap=False, class_weight=None, max_depth=30, min_samples_leaf=5, min_samples_split=10, n_estimators=100; total time=   0.6s\n",
      "[CV] END bootstrap=False, class_weight=None, max_depth=30, min_samples_leaf=5, min_samples_split=5, n_estimators=250; total time=   1.5s\n",
      "[CV] END bootstrap=False, class_weight=None, max_depth=30, min_samples_leaf=5, min_samples_split=5, n_estimators=250; total time=   1.5s\n",
      "[CV] END bootstrap=False, class_weight=None, max_depth=30, min_samples_leaf=5, min_samples_split=5, n_estimators=250; total time=   1.5s\n",
      "[CV] END bootstrap=False, class_weight=None, max_depth=30, min_samples_leaf=5, min_samples_split=10, n_estimators=100; total time=   0.6s\n",
      "[CV] END bootstrap=False, class_weight=None, max_depth=30, min_samples_leaf=5, min_samples_split=5, n_estimators=250; total time=   1.5s\n",
      "[CV] END bootstrap=False, class_weight=None, max_depth=30, min_samples_leaf=5, min_samples_split=10, n_estimators=100; total time=   0.6s\n",
      "[CV] END bootstrap=False, class_weight=None, max_depth=30, min_samples_leaf=5, min_samples_split=10, n_estimators=100; total time=   0.6s\n",
      "[CV] END bootstrap=False, class_weight=None, max_depth=30, min_samples_leaf=5, min_samples_split=10, n_estimators=200; total time=   1.2s\n",
      "[CV] END bootstrap=False, class_weight=None, max_depth=30, min_samples_leaf=5, min_samples_split=10, n_estimators=200; total time=   1.2s\n",
      "[CV] END bootstrap=False, class_weight=None, max_depth=30, min_samples_leaf=5, min_samples_split=10, n_estimators=200; total time=   1.2s\n",
      "[CV] END bootstrap=False, class_weight=None, max_depth=30, min_samples_leaf=5, min_samples_split=10, n_estimators=200; total time=   1.2s\n",
      "[CV] END bootstrap=False, class_weight=None, max_depth=30, min_samples_leaf=5, min_samples_split=10, n_estimators=200; total time=   1.2s\n",
      "[CV] END bootstrap=False, class_weight=None, max_depth=30, min_samples_leaf=5, min_samples_split=10, n_estimators=250; total time=   1.5s\n",
      "[CV] END bootstrap=False, class_weight=None, max_depth=30, min_samples_leaf=10, min_samples_split=5, n_estimators=100; total time=   0.5s\n",
      "[CV] END bootstrap=False, class_weight=None, max_depth=30, min_samples_leaf=10, min_samples_split=5, n_estimators=100; total time=   0.5s\n",
      "[CV] END bootstrap=False, class_weight=None, max_depth=30, min_samples_leaf=5, min_samples_split=10, n_estimators=250; total time=   1.5s\n",
      "[CV] END bootstrap=False, class_weight=None, max_depth=30, min_samples_leaf=5, min_samples_split=10, n_estimators=250; total time=   1.4s\n",
      "[CV] END bootstrap=False, class_weight=None, max_depth=30, min_samples_leaf=5, min_samples_split=10, n_estimators=250; total time=   1.5s\n",
      "[CV] END bootstrap=False, class_weight=None, max_depth=30, min_samples_leaf=10, min_samples_split=5, n_estimators=100; total time=   0.6s\n",
      "[CV] END bootstrap=False, class_weight=None, max_depth=30, min_samples_leaf=5, min_samples_split=10, n_estimators=250; total time=   1.5s\n",
      "[CV] END bootstrap=False, class_weight=None, max_depth=30, min_samples_leaf=10, min_samples_split=5, n_estimators=100; total time=   0.5s\n",
      "[CV] END bootstrap=False, class_weight=None, max_depth=30, min_samples_leaf=10, min_samples_split=5, n_estimators=100; total time=   0.5s\n",
      "[CV] END bootstrap=False, class_weight=None, max_depth=30, min_samples_leaf=10, min_samples_split=5, n_estimators=200; total time=   1.1s\n",
      "[CV] END bootstrap=False, class_weight=None, max_depth=30, min_samples_leaf=10, min_samples_split=5, n_estimators=200; total time=   1.1s\n",
      "[CV] END bootstrap=False, class_weight=None, max_depth=30, min_samples_leaf=10, min_samples_split=5, n_estimators=200; total time=   1.1s\n",
      "[CV] END bootstrap=False, class_weight=None, max_depth=30, min_samples_leaf=10, min_samples_split=5, n_estimators=200; total time=   1.1s\n",
      "[CV] END bootstrap=False, class_weight=None, max_depth=30, min_samples_leaf=10, min_samples_split=5, n_estimators=200; total time=   1.1s\n",
      "[CV] END bootstrap=False, class_weight=None, max_depth=30, min_samples_leaf=10, min_samples_split=5, n_estimators=250; total time=   1.4s\n",
      "[CV] END bootstrap=False, class_weight=None, max_depth=30, min_samples_leaf=10, min_samples_split=10, n_estimators=100; total time=   0.5s\n",
      "[CV] END bootstrap=False, class_weight=None, max_depth=30, min_samples_leaf=10, min_samples_split=5, n_estimators=250; total time=   1.3s\n",
      "[CV] END bootstrap=False, class_weight=None, max_depth=30, min_samples_leaf=10, min_samples_split=10, n_estimators=100; total time=   0.5s\n",
      "[CV] END bootstrap=False, class_weight=None, max_depth=30, min_samples_leaf=10, min_samples_split=5, n_estimators=250; total time=   1.4s\n",
      "[CV] END bootstrap=False, class_weight=None, max_depth=30, min_samples_leaf=10, min_samples_split=5, n_estimators=250; total time=   1.3s\n",
      "[CV] END bootstrap=False, class_weight=None, max_depth=30, min_samples_leaf=10, min_samples_split=5, n_estimators=250; total time=   1.4s\n",
      "[CV] END bootstrap=False, class_weight=None, max_depth=30, min_samples_leaf=10, min_samples_split=10, n_estimators=100; total time=   0.6s\n",
      "[CV] END bootstrap=False, class_weight=None, max_depth=30, min_samples_leaf=10, min_samples_split=10, n_estimators=100; total time=   0.5s\n",
      "[CV] END bootstrap=False, class_weight=None, max_depth=30, min_samples_leaf=10, min_samples_split=10, n_estimators=100; total time=   0.6s\n",
      "[CV] END bootstrap=False, class_weight=None, max_depth=30, min_samples_leaf=10, min_samples_split=10, n_estimators=200; total time=   1.1s\n",
      "[CV] END bootstrap=False, class_weight=None, max_depth=30, min_samples_leaf=10, min_samples_split=10, n_estimators=200; total time=   1.1s\n",
      "[CV] END bootstrap=False, class_weight=None, max_depth=30, min_samples_leaf=10, min_samples_split=10, n_estimators=200; total time=   1.1s\n",
      "[CV] END bootstrap=False, class_weight=None, max_depth=30, min_samples_leaf=10, min_samples_split=10, n_estimators=200; total time=   1.1s\n",
      "[CV] END bootstrap=False, class_weight=None, max_depth=30, min_samples_leaf=10, min_samples_split=10, n_estimators=200; total time=   1.1s\n",
      "[CV] END bootstrap=False, class_weight=None, max_depth=30, min_samples_leaf=10, min_samples_split=10, n_estimators=250; total time=   1.4s\n",
      "[CV] END bootstrap=False, class_weight=balanced, max_depth=10, min_samples_leaf=2, min_samples_split=5, n_estimators=100; total time=   0.6s\n",
      "[CV] END bootstrap=False, class_weight=None, max_depth=30, min_samples_leaf=10, min_samples_split=10, n_estimators=250; total time=   1.3s\n",
      "[CV] END bootstrap=False, class_weight=balanced, max_depth=10, min_samples_leaf=2, min_samples_split=5, n_estimators=100; total time=   0.6s\n",
      "[CV] END bootstrap=False, class_weight=None, max_depth=30, min_samples_leaf=10, min_samples_split=10, n_estimators=250; total time=   1.4s\n",
      "[CV] END bootstrap=False, class_weight=None, max_depth=30, min_samples_leaf=10, min_samples_split=10, n_estimators=250; total time=   1.4s\n",
      "[CV] END bootstrap=False, class_weight=None, max_depth=30, min_samples_leaf=10, min_samples_split=10, n_estimators=250; total time=   1.4s\n",
      "[CV] END bootstrap=False, class_weight=balanced, max_depth=10, min_samples_leaf=2, min_samples_split=5, n_estimators=100; total time=   0.6s\n",
      "[CV] END bootstrap=False, class_weight=balanced, max_depth=10, min_samples_leaf=2, min_samples_split=5, n_estimators=100; total time=   0.6s\n",
      "[CV] END bootstrap=False, class_weight=balanced, max_depth=10, min_samples_leaf=2, min_samples_split=5, n_estimators=100; total time=   0.6s\n",
      "[CV] END bootstrap=False, class_weight=balanced, max_depth=10, min_samples_leaf=2, min_samples_split=5, n_estimators=200; total time=   1.1s\n",
      "[CV] END bootstrap=False, class_weight=balanced, max_depth=10, min_samples_leaf=2, min_samples_split=5, n_estimators=200; total time=   1.1s\n",
      "[CV] END bootstrap=False, class_weight=balanced, max_depth=10, min_samples_leaf=2, min_samples_split=5, n_estimators=200; total time=   1.2s\n",
      "[CV] END bootstrap=False, class_weight=balanced, max_depth=10, min_samples_leaf=2, min_samples_split=5, n_estimators=200; total time=   1.1s\n",
      "[CV] END bootstrap=False, class_weight=balanced, max_depth=10, min_samples_leaf=2, min_samples_split=5, n_estimators=200; total time=   1.1s\n",
      "[CV] END bootstrap=False, class_weight=balanced, max_depth=10, min_samples_leaf=2, min_samples_split=5, n_estimators=250; total time=   1.4s\n",
      "[CV] END bootstrap=False, class_weight=balanced, max_depth=10, min_samples_leaf=2, min_samples_split=10, n_estimators=100; total time=   0.6s\n",
      "[CV] END bootstrap=False, class_weight=balanced, max_depth=10, min_samples_leaf=2, min_samples_split=5, n_estimators=250; total time=   1.4s\n",
      "[CV] END bootstrap=False, class_weight=balanced, max_depth=10, min_samples_leaf=2, min_samples_split=10, n_estimators=100; total time=   0.6s\n",
      "[CV] END bootstrap=False, class_weight=balanced, max_depth=10, min_samples_leaf=2, min_samples_split=5, n_estimators=250; total time=   1.4s\n",
      "[CV] END bootstrap=False, class_weight=balanced, max_depth=10, min_samples_leaf=2, min_samples_split=5, n_estimators=250; total time=   1.4s\n",
      "[CV] END bootstrap=False, class_weight=balanced, max_depth=10, min_samples_leaf=2, min_samples_split=5, n_estimators=250; total time=   1.4s\n",
      "[CV] END bootstrap=False, class_weight=balanced, max_depth=10, min_samples_leaf=2, min_samples_split=10, n_estimators=100; total time=   0.6s\n",
      "[CV] END bootstrap=False, class_weight=balanced, max_depth=10, min_samples_leaf=2, min_samples_split=10, n_estimators=100; total time=   0.6s\n",
      "[CV] END bootstrap=False, class_weight=balanced, max_depth=10, min_samples_leaf=2, min_samples_split=10, n_estimators=100; total time=   0.6s\n",
      "[CV] END bootstrap=False, class_weight=balanced, max_depth=10, min_samples_leaf=2, min_samples_split=10, n_estimators=200; total time=   1.1s\n",
      "[CV] END bootstrap=False, class_weight=balanced, max_depth=10, min_samples_leaf=2, min_samples_split=10, n_estimators=200; total time=   1.1s\n",
      "[CV] END bootstrap=False, class_weight=balanced, max_depth=10, min_samples_leaf=2, min_samples_split=10, n_estimators=200; total time=   1.1s\n",
      "[CV] END bootstrap=False, class_weight=balanced, max_depth=10, min_samples_leaf=2, min_samples_split=10, n_estimators=200; total time=   1.1s\n",
      "[CV] END bootstrap=False, class_weight=balanced, max_depth=10, min_samples_leaf=2, min_samples_split=10, n_estimators=200; total time=   1.1s\n",
      "[CV] END bootstrap=False, class_weight=balanced, max_depth=10, min_samples_leaf=2, min_samples_split=10, n_estimators=250; total time=   1.4s\n",
      "[CV] END bootstrap=False, class_weight=balanced, max_depth=10, min_samples_leaf=5, min_samples_split=5, n_estimators=100; total time=   0.6s\n",
      "[CV] END bootstrap=False, class_weight=balanced, max_depth=10, min_samples_leaf=5, min_samples_split=5, n_estimators=100; total time=   0.6s\n",
      "[CV] END bootstrap=False, class_weight=balanced, max_depth=10, min_samples_leaf=2, min_samples_split=10, n_estimators=250; total time=   1.4s\n",
      "[CV] END bootstrap=False, class_weight=balanced, max_depth=10, min_samples_leaf=2, min_samples_split=10, n_estimators=250; total time=   1.4s\n",
      "[CV] END bootstrap=False, class_weight=balanced, max_depth=10, min_samples_leaf=2, min_samples_split=10, n_estimators=250; total time=   1.4s\n",
      "[CV] END bootstrap=False, class_weight=balanced, max_depth=10, min_samples_leaf=2, min_samples_split=10, n_estimators=250; total time=   1.4s\n",
      "[CV] END bootstrap=False, class_weight=balanced, max_depth=10, min_samples_leaf=5, min_samples_split=5, n_estimators=100; total time=   0.6s\n",
      "[CV] END bootstrap=False, class_weight=balanced, max_depth=10, min_samples_leaf=5, min_samples_split=5, n_estimators=100; total time=   0.5s\n",
      "[CV] END bootstrap=False, class_weight=balanced, max_depth=10, min_samples_leaf=5, min_samples_split=5, n_estimators=100; total time=   0.5s\n",
      "[CV] END bootstrap=False, class_weight=balanced, max_depth=10, min_samples_leaf=5, min_samples_split=5, n_estimators=200; total time=   1.1s\n",
      "[CV] END bootstrap=False, class_weight=balanced, max_depth=10, min_samples_leaf=5, min_samples_split=5, n_estimators=200; total time=   1.1s\n",
      "[CV] END bootstrap=False, class_weight=balanced, max_depth=10, min_samples_leaf=5, min_samples_split=5, n_estimators=200; total time=   1.1s\n",
      "[CV] END bootstrap=False, class_weight=balanced, max_depth=10, min_samples_leaf=5, min_samples_split=5, n_estimators=200; total time=   1.1s\n",
      "[CV] END bootstrap=False, class_weight=balanced, max_depth=10, min_samples_leaf=5, min_samples_split=5, n_estimators=200; total time=   1.1s\n",
      "[CV] END bootstrap=False, class_weight=balanced, max_depth=10, min_samples_leaf=5, min_samples_split=5, n_estimators=250; total time=   1.4s\n",
      "[CV] END bootstrap=False, class_weight=balanced, max_depth=10, min_samples_leaf=5, min_samples_split=10, n_estimators=100; total time=   0.6s\n",
      "[CV] END bootstrap=False, class_weight=balanced, max_depth=10, min_samples_leaf=5, min_samples_split=10, n_estimators=100; total time=   0.6s\n",
      "[CV] END bootstrap=False, class_weight=balanced, max_depth=10, min_samples_leaf=5, min_samples_split=5, n_estimators=250; total time=   1.4s\n",
      "[CV] END bootstrap=False, class_weight=balanced, max_depth=10, min_samples_leaf=5, min_samples_split=5, n_estimators=250; total time=   1.3s\n",
      "[CV] END bootstrap=False, class_weight=balanced, max_depth=10, min_samples_leaf=5, min_samples_split=5, n_estimators=250; total time=   1.4s\n",
      "[CV] END bootstrap=False, class_weight=balanced, max_depth=10, min_samples_leaf=5, min_samples_split=5, n_estimators=250; total time=   1.4s\n",
      "[CV] END bootstrap=False, class_weight=balanced, max_depth=10, min_samples_leaf=5, min_samples_split=10, n_estimators=100; total time=   0.6s\n",
      "[CV] END bootstrap=False, class_weight=balanced, max_depth=10, min_samples_leaf=5, min_samples_split=10, n_estimators=100; total time=   0.5s\n",
      "[CV] END bootstrap=False, class_weight=balanced, max_depth=10, min_samples_leaf=5, min_samples_split=10, n_estimators=100; total time=   0.5s\n",
      "[CV] END bootstrap=False, class_weight=balanced, max_depth=10, min_samples_leaf=5, min_samples_split=10, n_estimators=200; total time=   1.1s\n",
      "[CV] END bootstrap=False, class_weight=balanced, max_depth=10, min_samples_leaf=5, min_samples_split=10, n_estimators=200; total time=   1.1s\n",
      "[CV] END bootstrap=False, class_weight=balanced, max_depth=10, min_samples_leaf=5, min_samples_split=10, n_estimators=200; total time=   1.1s\n",
      "[CV] END bootstrap=False, class_weight=balanced, max_depth=10, min_samples_leaf=5, min_samples_split=10, n_estimators=200; total time=   1.1s\n",
      "[CV] END bootstrap=False, class_weight=balanced, max_depth=10, min_samples_leaf=5, min_samples_split=10, n_estimators=200; total time=   1.1s\n",
      "[CV] END bootstrap=False, class_weight=balanced, max_depth=10, min_samples_leaf=5, min_samples_split=10, n_estimators=250; total time=   1.4s\n",
      "[CV] END bootstrap=False, class_weight=balanced, max_depth=10, min_samples_leaf=10, min_samples_split=5, n_estimators=100; total time=   0.5s\n",
      "[CV] END bootstrap=False, class_weight=balanced, max_depth=10, min_samples_leaf=10, min_samples_split=5, n_estimators=100; total time=   0.5s\n",
      "[CV] END bootstrap=False, class_weight=balanced, max_depth=10, min_samples_leaf=5, min_samples_split=10, n_estimators=250; total time=   1.4s\n",
      "[CV] END bootstrap=False, class_weight=balanced, max_depth=10, min_samples_leaf=5, min_samples_split=10, n_estimators=250; total time=   1.4s\n",
      "[CV] END bootstrap=False, class_weight=balanced, max_depth=10, min_samples_leaf=5, min_samples_split=10, n_estimators=250; total time=   1.3s\n",
      "[CV] END bootstrap=False, class_weight=balanced, max_depth=10, min_samples_leaf=5, min_samples_split=10, n_estimators=250; total time=   1.4s\n",
      "[CV] END bootstrap=False, class_weight=balanced, max_depth=10, min_samples_leaf=10, min_samples_split=5, n_estimators=100; total time=   0.5s\n",
      "[CV] END bootstrap=False, class_weight=balanced, max_depth=10, min_samples_leaf=10, min_samples_split=5, n_estimators=100; total time=   0.5s\n",
      "[CV] END bootstrap=False, class_weight=balanced, max_depth=10, min_samples_leaf=10, min_samples_split=5, n_estimators=100; total time=   0.5s\n",
      "[CV] END bootstrap=False, class_weight=balanced, max_depth=10, min_samples_leaf=10, min_samples_split=5, n_estimators=200; total time=   1.1s\n",
      "[CV] END bootstrap=False, class_weight=balanced, max_depth=10, min_samples_leaf=10, min_samples_split=5, n_estimators=200; total time=   1.1s\n",
      "[CV] END bootstrap=False, class_weight=balanced, max_depth=10, min_samples_leaf=10, min_samples_split=5, n_estimators=200; total time=   1.1s\n",
      "[CV] END bootstrap=False, class_weight=balanced, max_depth=10, min_samples_leaf=10, min_samples_split=5, n_estimators=200; total time=   1.1s\n",
      "[CV] END bootstrap=False, class_weight=balanced, max_depth=10, min_samples_leaf=10, min_samples_split=5, n_estimators=200; total time=   1.0s\n",
      "[CV] END bootstrap=False, class_weight=balanced, max_depth=10, min_samples_leaf=10, min_samples_split=5, n_estimators=250; total time=   1.3s\n",
      "[CV] END bootstrap=False, class_weight=balanced, max_depth=10, min_samples_leaf=10, min_samples_split=10, n_estimators=100; total time=   0.5s\n",
      "[CV] END bootstrap=False, class_weight=balanced, max_depth=10, min_samples_leaf=10, min_samples_split=10, n_estimators=100; total time=   0.5s\n",
      "[CV] END bootstrap=False, class_weight=balanced, max_depth=10, min_samples_leaf=10, min_samples_split=5, n_estimators=250; total time=   1.3s\n",
      "[CV] END bootstrap=False, class_weight=balanced, max_depth=10, min_samples_leaf=10, min_samples_split=5, n_estimators=250; total time=   1.3s\n",
      "[CV] END bootstrap=False, class_weight=balanced, max_depth=10, min_samples_leaf=10, min_samples_split=5, n_estimators=250; total time=   1.4s\n",
      "[CV] END bootstrap=False, class_weight=balanced, max_depth=10, min_samples_leaf=10, min_samples_split=5, n_estimators=250; total time=   1.3s\n",
      "[CV] END bootstrap=False, class_weight=balanced, max_depth=10, min_samples_leaf=10, min_samples_split=10, n_estimators=100; total time=   0.5s\n",
      "[CV] END bootstrap=False, class_weight=balanced, max_depth=10, min_samples_leaf=10, min_samples_split=10, n_estimators=100; total time=   0.5s\n",
      "[CV] END bootstrap=False, class_weight=balanced, max_depth=10, min_samples_leaf=10, min_samples_split=10, n_estimators=100; total time=   0.5s\n",
      "[CV] END bootstrap=False, class_weight=balanced, max_depth=10, min_samples_leaf=10, min_samples_split=10, n_estimators=200; total time=   1.1s\n",
      "[CV] END bootstrap=False, class_weight=balanced, max_depth=10, min_samples_leaf=10, min_samples_split=10, n_estimators=200; total time=   1.1s\n",
      "[CV] END bootstrap=False, class_weight=balanced, max_depth=10, min_samples_leaf=10, min_samples_split=10, n_estimators=200; total time=   1.1s\n",
      "[CV] END bootstrap=False, class_weight=balanced, max_depth=10, min_samples_leaf=10, min_samples_split=10, n_estimators=200; total time=   1.0s\n",
      "[CV] END bootstrap=False, class_weight=balanced, max_depth=10, min_samples_leaf=10, min_samples_split=10, n_estimators=200; total time=   1.0s\n",
      "[CV] END bootstrap=False, class_weight=balanced, max_depth=10, min_samples_leaf=10, min_samples_split=10, n_estimators=250; total time=   1.3s\n",
      "[CV] END bootstrap=False, class_weight=balanced, max_depth=20, min_samples_leaf=2, min_samples_split=5, n_estimators=100; total time=   0.6s\n",
      "[CV] END bootstrap=False, class_weight=balanced, max_depth=10, min_samples_leaf=10, min_samples_split=10, n_estimators=250; total time=   1.3s\n",
      "[CV] END bootstrap=False, class_weight=balanced, max_depth=10, min_samples_leaf=10, min_samples_split=10, n_estimators=250; total time=   1.3s\n",
      "[CV] END bootstrap=False, class_weight=balanced, max_depth=10, min_samples_leaf=10, min_samples_split=10, n_estimators=250; total time=   1.3s\n",
      "[CV] END bootstrap=False, class_weight=balanced, max_depth=20, min_samples_leaf=2, min_samples_split=5, n_estimators=100; total time=   0.6s\n",
      "[CV] END bootstrap=False, class_weight=balanced, max_depth=10, min_samples_leaf=10, min_samples_split=10, n_estimators=250; total time=   1.3s\n",
      "[CV] END bootstrap=False, class_weight=balanced, max_depth=20, min_samples_leaf=2, min_samples_split=5, n_estimators=100; total time=   0.6s\n",
      "[CV] END bootstrap=False, class_weight=balanced, max_depth=20, min_samples_leaf=2, min_samples_split=5, n_estimators=100; total time=   0.6s\n",
      "[CV] END bootstrap=False, class_weight=balanced, max_depth=20, min_samples_leaf=2, min_samples_split=5, n_estimators=100; total time=   0.6s\n",
      "[CV] END bootstrap=False, class_weight=balanced, max_depth=20, min_samples_leaf=2, min_samples_split=5, n_estimators=200; total time=   1.3s\n",
      "[CV] END bootstrap=False, class_weight=balanced, max_depth=20, min_samples_leaf=2, min_samples_split=5, n_estimators=200; total time=   1.3s\n",
      "[CV] END bootstrap=False, class_weight=balanced, max_depth=20, min_samples_leaf=2, min_samples_split=5, n_estimators=200; total time=   1.3s\n",
      "[CV] END bootstrap=False, class_weight=balanced, max_depth=20, min_samples_leaf=2, min_samples_split=5, n_estimators=200; total time=   1.2s\n",
      "[CV] END bootstrap=False, class_weight=balanced, max_depth=20, min_samples_leaf=2, min_samples_split=5, n_estimators=200; total time=   1.2s\n",
      "[CV] END bootstrap=False, class_weight=balanced, max_depth=20, min_samples_leaf=2, min_samples_split=5, n_estimators=250; total time=   1.6s\n",
      "[CV] END bootstrap=False, class_weight=balanced, max_depth=20, min_samples_leaf=2, min_samples_split=10, n_estimators=100; total time=   0.6s\n",
      "[CV] END bootstrap=False, class_weight=balanced, max_depth=20, min_samples_leaf=2, min_samples_split=10, n_estimators=100; total time=   0.6s\n",
      "[CV] END bootstrap=False, class_weight=balanced, max_depth=20, min_samples_leaf=2, min_samples_split=5, n_estimators=250; total time=   1.6s\n",
      "[CV] END bootstrap=False, class_weight=balanced, max_depth=20, min_samples_leaf=2, min_samples_split=5, n_estimators=250; total time=   1.6s\n",
      "[CV] END bootstrap=False, class_weight=balanced, max_depth=20, min_samples_leaf=2, min_samples_split=5, n_estimators=250; total time=   1.6s\n",
      "[CV] END bootstrap=False, class_weight=balanced, max_depth=20, min_samples_leaf=2, min_samples_split=10, n_estimators=100; total time=   0.6s\n",
      "[CV] END bootstrap=False, class_weight=balanced, max_depth=20, min_samples_leaf=2, min_samples_split=5, n_estimators=250; total time=   1.6s\n",
      "[CV] END bootstrap=False, class_weight=balanced, max_depth=20, min_samples_leaf=2, min_samples_split=10, n_estimators=100; total time=   0.6s\n",
      "[CV] END bootstrap=False, class_weight=balanced, max_depth=20, min_samples_leaf=2, min_samples_split=10, n_estimators=100; total time=   0.6s\n",
      "[CV] END bootstrap=False, class_weight=balanced, max_depth=20, min_samples_leaf=2, min_samples_split=10, n_estimators=200; total time=   1.2s\n",
      "[CV] END bootstrap=False, class_weight=balanced, max_depth=20, min_samples_leaf=2, min_samples_split=10, n_estimators=200; total time=   1.2s\n",
      "[CV] END bootstrap=False, class_weight=balanced, max_depth=20, min_samples_leaf=2, min_samples_split=10, n_estimators=200; total time=   1.2s\n",
      "[CV] END bootstrap=False, class_weight=balanced, max_depth=20, min_samples_leaf=2, min_samples_split=10, n_estimators=200; total time=   1.2s\n",
      "[CV] END bootstrap=False, class_weight=balanced, max_depth=20, min_samples_leaf=2, min_samples_split=10, n_estimators=200; total time=   1.2s\n",
      "[CV] END bootstrap=False, class_weight=balanced, max_depth=20, min_samples_leaf=2, min_samples_split=10, n_estimators=250; total time=   1.6s\n",
      "[CV] END bootstrap=False, class_weight=balanced, max_depth=20, min_samples_leaf=5, min_samples_split=5, n_estimators=100; total time=   0.6s\n",
      "[CV] END bootstrap=False, class_weight=balanced, max_depth=20, min_samples_leaf=5, min_samples_split=5, n_estimators=100; total time=   0.6s\n",
      "[CV] END bootstrap=False, class_weight=balanced, max_depth=20, min_samples_leaf=2, min_samples_split=10, n_estimators=250; total time=   1.5s\n",
      "[CV] END bootstrap=False, class_weight=balanced, max_depth=20, min_samples_leaf=2, min_samples_split=10, n_estimators=250; total time=   1.6s\n",
      "[CV] END bootstrap=False, class_weight=balanced, max_depth=20, min_samples_leaf=5, min_samples_split=5, n_estimators=100; total time=   0.6s\n",
      "[CV] END bootstrap=False, class_weight=balanced, max_depth=20, min_samples_leaf=2, min_samples_split=10, n_estimators=250; total time=   1.5s\n",
      "[CV] END bootstrap=False, class_weight=balanced, max_depth=20, min_samples_leaf=2, min_samples_split=10, n_estimators=250; total time=   1.5s\n",
      "[CV] END bootstrap=False, class_weight=balanced, max_depth=20, min_samples_leaf=5, min_samples_split=5, n_estimators=100; total time=   0.6s\n",
      "[CV] END bootstrap=False, class_weight=balanced, max_depth=20, min_samples_leaf=5, min_samples_split=5, n_estimators=100; total time=   0.6s\n",
      "[CV] END bootstrap=False, class_weight=balanced, max_depth=20, min_samples_leaf=5, min_samples_split=5, n_estimators=200; total time=   1.2s\n",
      "[CV] END bootstrap=False, class_weight=balanced, max_depth=20, min_samples_leaf=5, min_samples_split=5, n_estimators=200; total time=   1.2s\n",
      "[CV] END bootstrap=False, class_weight=balanced, max_depth=20, min_samples_leaf=5, min_samples_split=5, n_estimators=200; total time=   1.2s\n",
      "[CV] END bootstrap=False, class_weight=balanced, max_depth=20, min_samples_leaf=5, min_samples_split=5, n_estimators=200; total time=   1.2s\n",
      "[CV] END bootstrap=False, class_weight=balanced, max_depth=20, min_samples_leaf=5, min_samples_split=5, n_estimators=200; total time=   1.2s\n",
      "[CV] END bootstrap=False, class_weight=balanced, max_depth=20, min_samples_leaf=5, min_samples_split=5, n_estimators=250; total time=   1.5s\n",
      "[CV] END bootstrap=False, class_weight=balanced, max_depth=20, min_samples_leaf=5, min_samples_split=10, n_estimators=100; total time=   0.6s\n",
      "[CV] END bootstrap=False, class_weight=balanced, max_depth=20, min_samples_leaf=5, min_samples_split=10, n_estimators=100; total time=   0.6s\n",
      "[CV] END bootstrap=False, class_weight=balanced, max_depth=20, min_samples_leaf=5, min_samples_split=5, n_estimators=250; total time=   1.5s\n",
      "[CV] END bootstrap=False, class_weight=balanced, max_depth=20, min_samples_leaf=5, min_samples_split=5, n_estimators=250; total time=   1.5s\n",
      "[CV] END bootstrap=False, class_weight=balanced, max_depth=20, min_samples_leaf=5, min_samples_split=5, n_estimators=250; total time=   1.5s\n",
      "[CV] END bootstrap=False, class_weight=balanced, max_depth=20, min_samples_leaf=5, min_samples_split=5, n_estimators=250; total time=   1.5s\n",
      "[CV] END bootstrap=False, class_weight=balanced, max_depth=20, min_samples_leaf=5, min_samples_split=10, n_estimators=100; total time=   0.6s\n",
      "[CV] END bootstrap=False, class_weight=balanced, max_depth=20, min_samples_leaf=5, min_samples_split=10, n_estimators=100; total time=   0.6s\n",
      "[CV] END bootstrap=False, class_weight=balanced, max_depth=20, min_samples_leaf=5, min_samples_split=10, n_estimators=100; total time=   0.6s\n",
      "[CV] END bootstrap=False, class_weight=balanced, max_depth=20, min_samples_leaf=5, min_samples_split=10, n_estimators=200; total time=   1.2s\n",
      "[CV] END bootstrap=False, class_weight=balanced, max_depth=20, min_samples_leaf=5, min_samples_split=10, n_estimators=200; total time=   1.2s\n",
      "[CV] END bootstrap=False, class_weight=balanced, max_depth=20, min_samples_leaf=5, min_samples_split=10, n_estimators=200; total time=   1.2s\n",
      "[CV] END bootstrap=False, class_weight=balanced, max_depth=20, min_samples_leaf=5, min_samples_split=10, n_estimators=200; total time=   1.2s\n",
      "[CV] END bootstrap=False, class_weight=balanced, max_depth=20, min_samples_leaf=5, min_samples_split=10, n_estimators=200; total time=   1.2s\n",
      "[CV] END bootstrap=False, class_weight=balanced, max_depth=20, min_samples_leaf=5, min_samples_split=10, n_estimators=250; total time=   1.5s\n",
      "[CV] END bootstrap=False, class_weight=balanced, max_depth=20, min_samples_leaf=10, min_samples_split=5, n_estimators=100; total time=   0.6s\n",
      "[CV] END bootstrap=False, class_weight=balanced, max_depth=20, min_samples_leaf=10, min_samples_split=5, n_estimators=100; total time=   0.5s\n",
      "[CV] END bootstrap=False, class_weight=balanced, max_depth=20, min_samples_leaf=5, min_samples_split=10, n_estimators=250; total time=   1.5s\n",
      "[CV] END bootstrap=False, class_weight=balanced, max_depth=20, min_samples_leaf=5, min_samples_split=10, n_estimators=250; total time=   1.5s\n",
      "[CV] END bootstrap=False, class_weight=balanced, max_depth=20, min_samples_leaf=10, min_samples_split=5, n_estimators=100; total time=   0.6s\n",
      "[CV] END bootstrap=False, class_weight=balanced, max_depth=20, min_samples_leaf=5, min_samples_split=10, n_estimators=250; total time=   1.5s\n",
      "[CV] END bootstrap=False, class_weight=balanced, max_depth=20, min_samples_leaf=5, min_samples_split=10, n_estimators=250; total time=   1.5s\n",
      "[CV] END bootstrap=False, class_weight=balanced, max_depth=20, min_samples_leaf=10, min_samples_split=5, n_estimators=100; total time=   0.5s\n",
      "[CV] END bootstrap=False, class_weight=balanced, max_depth=20, min_samples_leaf=10, min_samples_split=5, n_estimators=100; total time=   0.5s\n",
      "[CV] END bootstrap=False, class_weight=balanced, max_depth=20, min_samples_leaf=10, min_samples_split=5, n_estimators=200; total time=   1.1s\n",
      "[CV] END bootstrap=False, class_weight=balanced, max_depth=20, min_samples_leaf=10, min_samples_split=5, n_estimators=200; total time=   1.1s\n",
      "[CV] END bootstrap=False, class_weight=balanced, max_depth=20, min_samples_leaf=10, min_samples_split=5, n_estimators=200; total time=   1.1s\n",
      "[CV] END bootstrap=False, class_weight=balanced, max_depth=20, min_samples_leaf=10, min_samples_split=5, n_estimators=200; total time=   1.1s\n",
      "[CV] END bootstrap=False, class_weight=balanced, max_depth=20, min_samples_leaf=10, min_samples_split=5, n_estimators=200; total time=   1.1s\n",
      "[CV] END bootstrap=False, class_weight=balanced, max_depth=20, min_samples_leaf=10, min_samples_split=5, n_estimators=250; total time=   1.4s\n",
      "[CV] END bootstrap=False, class_weight=balanced, max_depth=20, min_samples_leaf=10, min_samples_split=10, n_estimators=100; total time=   0.6s\n",
      "[CV] END bootstrap=False, class_weight=balanced, max_depth=20, min_samples_leaf=10, min_samples_split=10, n_estimators=100; total time=   0.5s\n",
      "[CV] END bootstrap=False, class_weight=balanced, max_depth=20, min_samples_leaf=10, min_samples_split=5, n_estimators=250; total time=   1.4s\n",
      "[CV] END bootstrap=False, class_weight=balanced, max_depth=20, min_samples_leaf=10, min_samples_split=5, n_estimators=250; total time=   1.4s\n",
      "[CV] END bootstrap=False, class_weight=balanced, max_depth=20, min_samples_leaf=10, min_samples_split=5, n_estimators=250; total time=   1.4s\n",
      "[CV] END bootstrap=False, class_weight=balanced, max_depth=20, min_samples_leaf=10, min_samples_split=5, n_estimators=250; total time=   1.4s\n",
      "[CV] END bootstrap=False, class_weight=balanced, max_depth=20, min_samples_leaf=10, min_samples_split=10, n_estimators=100; total time=   0.6s\n",
      "[CV] END bootstrap=False, class_weight=balanced, max_depth=20, min_samples_leaf=10, min_samples_split=10, n_estimators=100; total time=   0.5s\n",
      "[CV] END bootstrap=False, class_weight=balanced, max_depth=20, min_samples_leaf=10, min_samples_split=10, n_estimators=100; total time=   0.5s\n",
      "[CV] END bootstrap=False, class_weight=balanced, max_depth=20, min_samples_leaf=10, min_samples_split=10, n_estimators=200; total time=   1.1s\n",
      "[CV] END bootstrap=False, class_weight=balanced, max_depth=20, min_samples_leaf=10, min_samples_split=10, n_estimators=200; total time=   1.1s\n",
      "[CV] END bootstrap=False, class_weight=balanced, max_depth=20, min_samples_leaf=10, min_samples_split=10, n_estimators=200; total time=   1.1s\n",
      "[CV] END bootstrap=False, class_weight=balanced, max_depth=20, min_samples_leaf=10, min_samples_split=10, n_estimators=200; total time=   1.1s\n",
      "[CV] END bootstrap=False, class_weight=balanced, max_depth=20, min_samples_leaf=10, min_samples_split=10, n_estimators=200; total time=   1.1s\n",
      "[CV] END bootstrap=False, class_weight=balanced, max_depth=20, min_samples_leaf=10, min_samples_split=10, n_estimators=250; total time=   1.4s\n",
      "[CV] END bootstrap=False, class_weight=balanced, max_depth=30, min_samples_leaf=2, min_samples_split=5, n_estimators=100; total time=   0.6s\n",
      "[CV] END bootstrap=False, class_weight=balanced, max_depth=20, min_samples_leaf=10, min_samples_split=10, n_estimators=250; total time=   1.4s\n",
      "[CV] END bootstrap=False, class_weight=balanced, max_depth=20, min_samples_leaf=10, min_samples_split=10, n_estimators=250; total time=   1.4s\n",
      "[CV] END bootstrap=False, class_weight=balanced, max_depth=20, min_samples_leaf=10, min_samples_split=10, n_estimators=250; total time=   1.4s\n",
      "[CV] END bootstrap=False, class_weight=balanced, max_depth=30, min_samples_leaf=2, min_samples_split=5, n_estimators=100; total time=   0.6s\n",
      "[CV] END bootstrap=False, class_weight=balanced, max_depth=20, min_samples_leaf=10, min_samples_split=10, n_estimators=250; total time=   1.3s\n",
      "[CV] END bootstrap=False, class_weight=balanced, max_depth=30, min_samples_leaf=2, min_samples_split=5, n_estimators=100; total time=   0.6s\n",
      "[CV] END bootstrap=False, class_weight=balanced, max_depth=30, min_samples_leaf=2, min_samples_split=5, n_estimators=100; total time=   0.6s\n",
      "[CV] END bootstrap=False, class_weight=balanced, max_depth=30, min_samples_leaf=2, min_samples_split=5, n_estimators=100; total time=   0.6s\n",
      "[CV] END bootstrap=False, class_weight=balanced, max_depth=30, min_samples_leaf=2, min_samples_split=5, n_estimators=200; total time=   1.3s\n",
      "[CV] END bootstrap=False, class_weight=balanced, max_depth=30, min_samples_leaf=2, min_samples_split=5, n_estimators=200; total time=   1.3s\n",
      "[CV] END bootstrap=False, class_weight=balanced, max_depth=30, min_samples_leaf=2, min_samples_split=5, n_estimators=200; total time=   1.3s\n",
      "[CV] END bootstrap=False, class_weight=balanced, max_depth=30, min_samples_leaf=2, min_samples_split=5, n_estimators=200; total time=   1.3s\n",
      "[CV] END bootstrap=False, class_weight=balanced, max_depth=30, min_samples_leaf=2, min_samples_split=5, n_estimators=200; total time=   1.2s\n",
      "[CV] END bootstrap=False, class_weight=balanced, max_depth=30, min_samples_leaf=2, min_samples_split=5, n_estimators=250; total time=   1.6s\n",
      "[CV] END bootstrap=False, class_weight=balanced, max_depth=30, min_samples_leaf=2, min_samples_split=10, n_estimators=100; total time=   0.6s\n",
      "[CV] END bootstrap=False, class_weight=balanced, max_depth=30, min_samples_leaf=2, min_samples_split=10, n_estimators=100; total time=   0.6s\n",
      "[CV] END bootstrap=False, class_weight=balanced, max_depth=30, min_samples_leaf=2, min_samples_split=5, n_estimators=250; total time=   1.6s\n",
      "[CV] END bootstrap=False, class_weight=balanced, max_depth=30, min_samples_leaf=2, min_samples_split=5, n_estimators=250; total time=   1.6s\n",
      "[CV] END bootstrap=False, class_weight=balanced, max_depth=30, min_samples_leaf=2, min_samples_split=5, n_estimators=250; total time=   1.6s\n",
      "[CV] END bootstrap=False, class_weight=balanced, max_depth=30, min_samples_leaf=2, min_samples_split=10, n_estimators=100; total time=   0.6s\n",
      "[CV] END bootstrap=False, class_weight=balanced, max_depth=30, min_samples_leaf=2, min_samples_split=5, n_estimators=250; total time=   1.6s\n",
      "[CV] END bootstrap=False, class_weight=balanced, max_depth=30, min_samples_leaf=2, min_samples_split=10, n_estimators=100; total time=   0.6s\n",
      "[CV] END bootstrap=False, class_weight=balanced, max_depth=30, min_samples_leaf=2, min_samples_split=10, n_estimators=100; total time=   0.6s\n",
      "[CV] END bootstrap=False, class_weight=balanced, max_depth=30, min_samples_leaf=2, min_samples_split=10, n_estimators=200; total time=   1.2s\n",
      "[CV] END bootstrap=False, class_weight=balanced, max_depth=30, min_samples_leaf=2, min_samples_split=10, n_estimators=200; total time=   1.2s\n",
      "[CV] END bootstrap=False, class_weight=balanced, max_depth=30, min_samples_leaf=2, min_samples_split=10, n_estimators=200; total time=   1.2s\n",
      "[CV] END bootstrap=False, class_weight=balanced, max_depth=30, min_samples_leaf=2, min_samples_split=10, n_estimators=200; total time=   1.2s\n",
      "[CV] END bootstrap=False, class_weight=balanced, max_depth=30, min_samples_leaf=2, min_samples_split=10, n_estimators=200; total time=   1.2s\n",
      "[CV] END bootstrap=False, class_weight=balanced, max_depth=30, min_samples_leaf=2, min_samples_split=10, n_estimators=250; total time=   1.6s\n",
      "[CV] END bootstrap=False, class_weight=balanced, max_depth=30, min_samples_leaf=5, min_samples_split=5, n_estimators=100; total time=   0.6s\n",
      "[CV] END bootstrap=False, class_weight=balanced, max_depth=30, min_samples_leaf=5, min_samples_split=5, n_estimators=100; total time=   0.6s\n",
      "[CV] END bootstrap=False, class_weight=balanced, max_depth=30, min_samples_leaf=2, min_samples_split=10, n_estimators=250; total time=   1.5s\n",
      "[CV] END bootstrap=False, class_weight=balanced, max_depth=30, min_samples_leaf=2, min_samples_split=10, n_estimators=250; total time=   1.6s\n",
      "[CV] END bootstrap=False, class_weight=balanced, max_depth=30, min_samples_leaf=2, min_samples_split=10, n_estimators=250; total time=   1.5s\n",
      "[CV] END bootstrap=False, class_weight=balanced, max_depth=30, min_samples_leaf=5, min_samples_split=5, n_estimators=100; total time=   0.6s\n",
      "[CV] END bootstrap=False, class_weight=balanced, max_depth=30, min_samples_leaf=2, min_samples_split=10, n_estimators=250; total time=   1.5s\n",
      "[CV] END bootstrap=False, class_weight=balanced, max_depth=30, min_samples_leaf=5, min_samples_split=5, n_estimators=100; total time=   0.6s\n",
      "[CV] END bootstrap=False, class_weight=balanced, max_depth=30, min_samples_leaf=5, min_samples_split=5, n_estimators=100; total time=   0.6s\n",
      "[CV] END bootstrap=False, class_weight=balanced, max_depth=30, min_samples_leaf=5, min_samples_split=5, n_estimators=200; total time=   1.2s\n",
      "[CV] END bootstrap=False, class_weight=balanced, max_depth=30, min_samples_leaf=5, min_samples_split=5, n_estimators=200; total time=   1.2s\n",
      "[CV] END bootstrap=False, class_weight=balanced, max_depth=30, min_samples_leaf=5, min_samples_split=5, n_estimators=200; total time=   1.2s\n",
      "[CV] END bootstrap=False, class_weight=balanced, max_depth=30, min_samples_leaf=5, min_samples_split=5, n_estimators=200; total time=   1.2s\n",
      "[CV] END bootstrap=False, class_weight=balanced, max_depth=30, min_samples_leaf=5, min_samples_split=5, n_estimators=200; total time=   1.2s\n",
      "[CV] END bootstrap=False, class_weight=balanced, max_depth=30, min_samples_leaf=5, min_samples_split=5, n_estimators=250; total time=   1.5s\n",
      "[CV] END bootstrap=False, class_weight=balanced, max_depth=30, min_samples_leaf=5, min_samples_split=10, n_estimators=100; total time=   0.6s\n",
      "[CV] END bootstrap=False, class_weight=balanced, max_depth=30, min_samples_leaf=5, min_samples_split=10, n_estimators=100; total time=   0.6s\n",
      "[CV] END bootstrap=False, class_weight=balanced, max_depth=30, min_samples_leaf=5, min_samples_split=5, n_estimators=250; total time=   1.5s\n",
      "[CV] END bootstrap=False, class_weight=balanced, max_depth=30, min_samples_leaf=5, min_samples_split=5, n_estimators=250; total time=   1.5s\n",
      "[CV] END bootstrap=False, class_weight=balanced, max_depth=30, min_samples_leaf=5, min_samples_split=5, n_estimators=250; total time=   1.5s\n",
      "[CV] END bootstrap=False, class_weight=balanced, max_depth=30, min_samples_leaf=5, min_samples_split=5, n_estimators=250; total time=   1.5s\n",
      "[CV] END bootstrap=False, class_weight=balanced, max_depth=30, min_samples_leaf=5, min_samples_split=10, n_estimators=100; total time=   0.6s\n",
      "[CV] END bootstrap=False, class_weight=balanced, max_depth=30, min_samples_leaf=5, min_samples_split=10, n_estimators=100; total time=   0.6s\n",
      "[CV] END bootstrap=False, class_weight=balanced, max_depth=30, min_samples_leaf=5, min_samples_split=10, n_estimators=100; total time=   0.6s\n",
      "[CV] END bootstrap=False, class_weight=balanced, max_depth=30, min_samples_leaf=5, min_samples_split=10, n_estimators=200; total time=   1.2s\n",
      "[CV] END bootstrap=False, class_weight=balanced, max_depth=30, min_samples_leaf=5, min_samples_split=10, n_estimators=200; total time=   1.2s\n",
      "[CV] END bootstrap=False, class_weight=balanced, max_depth=30, min_samples_leaf=5, min_samples_split=10, n_estimators=200; total time=   1.2s\n",
      "[CV] END bootstrap=False, class_weight=balanced, max_depth=30, min_samples_leaf=5, min_samples_split=10, n_estimators=200; total time=   1.2s\n",
      "[CV] END bootstrap=False, class_weight=balanced, max_depth=30, min_samples_leaf=5, min_samples_split=10, n_estimators=200; total time=   1.2s\n",
      "[CV] END bootstrap=False, class_weight=balanced, max_depth=30, min_samples_leaf=5, min_samples_split=10, n_estimators=250; total time=   1.5s\n",
      "[CV] END bootstrap=False, class_weight=balanced, max_depth=30, min_samples_leaf=10, min_samples_split=5, n_estimators=100; total time=   0.6s\n",
      "[CV] END bootstrap=False, class_weight=balanced, max_depth=30, min_samples_leaf=10, min_samples_split=5, n_estimators=100; total time=   0.6s\n",
      "[CV] END bootstrap=False, class_weight=balanced, max_depth=30, min_samples_leaf=5, min_samples_split=10, n_estimators=250; total time=   1.5s\n",
      "[CV] END bootstrap=False, class_weight=balanced, max_depth=30, min_samples_leaf=5, min_samples_split=10, n_estimators=250; total time=   1.5s\n",
      "[CV] END bootstrap=False, class_weight=balanced, max_depth=30, min_samples_leaf=10, min_samples_split=5, n_estimators=100; total time=   0.6s\n",
      "[CV] END bootstrap=False, class_weight=balanced, max_depth=30, min_samples_leaf=5, min_samples_split=10, n_estimators=250; total time=   1.5s\n",
      "[CV] END bootstrap=False, class_weight=balanced, max_depth=30, min_samples_leaf=5, min_samples_split=10, n_estimators=250; total time=   1.5s\n",
      "[CV] END bootstrap=False, class_weight=balanced, max_depth=30, min_samples_leaf=10, min_samples_split=5, n_estimators=100; total time=   0.5s\n",
      "[CV] END bootstrap=False, class_weight=balanced, max_depth=30, min_samples_leaf=10, min_samples_split=5, n_estimators=100; total time=   0.5s\n",
      "[CV] END bootstrap=False, class_weight=balanced, max_depth=30, min_samples_leaf=10, min_samples_split=5, n_estimators=200; total time=   1.1s\n",
      "[CV] END bootstrap=False, class_weight=balanced, max_depth=30, min_samples_leaf=10, min_samples_split=5, n_estimators=200; total time=   1.1s\n",
      "[CV] END bootstrap=False, class_weight=balanced, max_depth=30, min_samples_leaf=10, min_samples_split=5, n_estimators=200; total time=   1.1s\n",
      "[CV] END bootstrap=False, class_weight=balanced, max_depth=30, min_samples_leaf=10, min_samples_split=5, n_estimators=200; total time=   1.1s\n",
      "[CV] END bootstrap=False, class_weight=balanced, max_depth=30, min_samples_leaf=10, min_samples_split=5, n_estimators=200; total time=   1.1s\n",
      "[CV] END bootstrap=False, class_weight=balanced, max_depth=30, min_samples_leaf=10, min_samples_split=5, n_estimators=250; total time=   1.4s\n",
      "[CV] END bootstrap=False, class_weight=balanced, max_depth=30, min_samples_leaf=10, min_samples_split=10, n_estimators=100; total time=   0.6s\n",
      "[CV] END bootstrap=False, class_weight=balanced, max_depth=30, min_samples_leaf=10, min_samples_split=10, n_estimators=100; total time=   0.5s\n",
      "[CV] END bootstrap=False, class_weight=balanced, max_depth=30, min_samples_leaf=10, min_samples_split=5, n_estimators=250; total time=   1.4s\n",
      "[CV] END bootstrap=False, class_weight=balanced, max_depth=30, min_samples_leaf=10, min_samples_split=5, n_estimators=250; total time=   1.4s\n",
      "[CV] END bootstrap=False, class_weight=balanced, max_depth=30, min_samples_leaf=10, min_samples_split=5, n_estimators=250; total time=   1.4s\n",
      "[CV] END bootstrap=False, class_weight=balanced, max_depth=30, min_samples_leaf=10, min_samples_split=5, n_estimators=250; total time=   1.4s\n",
      "[CV] END bootstrap=False, class_weight=balanced, max_depth=30, min_samples_leaf=10, min_samples_split=10, n_estimators=100; total time=   0.6s\n",
      "[CV] END bootstrap=False, class_weight=balanced, max_depth=30, min_samples_leaf=10, min_samples_split=10, n_estimators=100; total time=   0.5s\n",
      "[CV] END bootstrap=False, class_weight=balanced, max_depth=30, min_samples_leaf=10, min_samples_split=10, n_estimators=100; total time=   0.5s\n",
      "[CV] END bootstrap=False, class_weight=balanced, max_depth=30, min_samples_leaf=10, min_samples_split=10, n_estimators=200; total time=   1.1s\n",
      "[CV] END bootstrap=False, class_weight=balanced, max_depth=30, min_samples_leaf=10, min_samples_split=10, n_estimators=200; total time=   1.1s\n",
      "[CV] END bootstrap=False, class_weight=balanced, max_depth=30, min_samples_leaf=10, min_samples_split=10, n_estimators=200; total time=   1.1s\n",
      "[CV] END bootstrap=False, class_weight=balanced, max_depth=30, min_samples_leaf=10, min_samples_split=10, n_estimators=200; total time=   1.1s\n",
      "[CV] END bootstrap=False, class_weight=balanced, max_depth=30, min_samples_leaf=10, min_samples_split=10, n_estimators=200; total time=   1.1s\n",
      "[CV] END bootstrap=False, class_weight=balanced, max_depth=30, min_samples_leaf=10, min_samples_split=10, n_estimators=250; total time=   1.4s\n",
      "[CV] END bootstrap=True, class_weight=None, max_depth=10, min_samples_leaf=2, min_samples_split=5, n_estimators=100; total time=   0.4s\n",
      "[CV] END bootstrap=True, class_weight=None, max_depth=10, min_samples_leaf=2, min_samples_split=5, n_estimators=100; total time=   0.4s\n",
      "[CV] END bootstrap=True, class_weight=None, max_depth=10, min_samples_leaf=2, min_samples_split=5, n_estimators=100; total time=   0.4s\n",
      "[CV] END bootstrap=False, class_weight=balanced, max_depth=30, min_samples_leaf=10, min_samples_split=10, n_estimators=250; total time=   1.4s\n",
      "[CV] END bootstrap=False, class_weight=balanced, max_depth=30, min_samples_leaf=10, min_samples_split=10, n_estimators=250; total time=   1.4s\n",
      "[CV] END bootstrap=False, class_weight=balanced, max_depth=30, min_samples_leaf=10, min_samples_split=10, n_estimators=250; total time=   1.4s\n",
      "[CV] END bootstrap=False, class_weight=balanced, max_depth=30, min_samples_leaf=10, min_samples_split=10, n_estimators=250; total time=   1.3s\n",
      "[CV] END bootstrap=True, class_weight=None, max_depth=10, min_samples_leaf=2, min_samples_split=5, n_estimators=100; total time=   0.4s\n",
      "[CV] END bootstrap=True, class_weight=None, max_depth=10, min_samples_leaf=2, min_samples_split=5, n_estimators=100; total time=   0.4s\n",
      "[CV] END bootstrap=True, class_weight=None, max_depth=10, min_samples_leaf=2, min_samples_split=5, n_estimators=200; total time=   0.9s\n",
      "[CV] END bootstrap=True, class_weight=None, max_depth=10, min_samples_leaf=2, min_samples_split=5, n_estimators=200; total time=   0.9s\n",
      "[CV] END bootstrap=True, class_weight=None, max_depth=10, min_samples_leaf=2, min_samples_split=5, n_estimators=200; total time=   0.9s\n",
      "[CV] END bootstrap=True, class_weight=None, max_depth=10, min_samples_leaf=2, min_samples_split=5, n_estimators=200; total time=   0.9s\n",
      "[CV] END bootstrap=True, class_weight=None, max_depth=10, min_samples_leaf=2, min_samples_split=5, n_estimators=200; total time=   0.9s\n",
      "[CV] END bootstrap=True, class_weight=None, max_depth=10, min_samples_leaf=2, min_samples_split=5, n_estimators=250; total time=   1.1s\n",
      "[CV] END bootstrap=True, class_weight=None, max_depth=10, min_samples_leaf=2, min_samples_split=10, n_estimators=100; total time=   0.4s\n",
      "[CV] END bootstrap=True, class_weight=None, max_depth=10, min_samples_leaf=2, min_samples_split=10, n_estimators=100; total time=   0.4s\n",
      "[CV] END bootstrap=True, class_weight=None, max_depth=10, min_samples_leaf=2, min_samples_split=5, n_estimators=250; total time=   1.1s\n",
      "[CV] END bootstrap=True, class_weight=None, max_depth=10, min_samples_leaf=2, min_samples_split=5, n_estimators=250; total time=   1.1s\n",
      "[CV] END bootstrap=True, class_weight=None, max_depth=10, min_samples_leaf=2, min_samples_split=5, n_estimators=250; total time=   1.1s\n",
      "[CV] END bootstrap=True, class_weight=None, max_depth=10, min_samples_leaf=2, min_samples_split=10, n_estimators=100; total time=   0.4s\n",
      "[CV] END bootstrap=True, class_weight=None, max_depth=10, min_samples_leaf=2, min_samples_split=5, n_estimators=250; total time=   1.1s\n",
      "[CV] END bootstrap=True, class_weight=None, max_depth=10, min_samples_leaf=2, min_samples_split=10, n_estimators=100; total time=   0.4s\n",
      "[CV] END bootstrap=True, class_weight=None, max_depth=10, min_samples_leaf=2, min_samples_split=10, n_estimators=100; total time=   0.4s\n",
      "[CV] END bootstrap=True, class_weight=None, max_depth=10, min_samples_leaf=2, min_samples_split=10, n_estimators=200; total time=   0.9s\n",
      "[CV] END bootstrap=True, class_weight=None, max_depth=10, min_samples_leaf=2, min_samples_split=10, n_estimators=200; total time=   0.9s\n",
      "[CV] END bootstrap=True, class_weight=None, max_depth=10, min_samples_leaf=2, min_samples_split=10, n_estimators=200; total time=   0.9s\n",
      "[CV] END bootstrap=True, class_weight=None, max_depth=10, min_samples_leaf=2, min_samples_split=10, n_estimators=200; total time=   0.9s\n",
      "[CV] END bootstrap=True, class_weight=None, max_depth=10, min_samples_leaf=2, min_samples_split=10, n_estimators=200; total time=   0.9s\n",
      "[CV] END bootstrap=True, class_weight=None, max_depth=10, min_samples_leaf=2, min_samples_split=10, n_estimators=250; total time=   1.1s\n",
      "[CV] END bootstrap=True, class_weight=None, max_depth=10, min_samples_leaf=5, min_samples_split=5, n_estimators=100; total time=   0.4s\n",
      "[CV] END bootstrap=True, class_weight=None, max_depth=10, min_samples_leaf=5, min_samples_split=5, n_estimators=100; total time=   0.4s\n",
      "[CV] END bootstrap=True, class_weight=None, max_depth=10, min_samples_leaf=2, min_samples_split=10, n_estimators=250; total time=   1.1s\n",
      "[CV] END bootstrap=True, class_weight=None, max_depth=10, min_samples_leaf=2, min_samples_split=10, n_estimators=250; total time=   1.1s\n",
      "[CV] END bootstrap=True, class_weight=None, max_depth=10, min_samples_leaf=2, min_samples_split=10, n_estimators=250; total time=   1.1s\n",
      "[CV] END bootstrap=True, class_weight=None, max_depth=10, min_samples_leaf=2, min_samples_split=10, n_estimators=250; total time=   1.1s\n",
      "[CV] END bootstrap=True, class_weight=None, max_depth=10, min_samples_leaf=5, min_samples_split=5, n_estimators=100; total time=   0.4s\n",
      "[CV] END bootstrap=True, class_weight=None, max_depth=10, min_samples_leaf=5, min_samples_split=5, n_estimators=100; total time=   0.4s\n",
      "[CV] END bootstrap=True, class_weight=None, max_depth=10, min_samples_leaf=5, min_samples_split=5, n_estimators=100; total time=   0.4s\n",
      "[CV] END bootstrap=True, class_weight=None, max_depth=10, min_samples_leaf=5, min_samples_split=5, n_estimators=200; total time=   0.9s\n",
      "[CV] END bootstrap=True, class_weight=None, max_depth=10, min_samples_leaf=5, min_samples_split=5, n_estimators=200; total time=   0.8s\n",
      "[CV] END bootstrap=True, class_weight=None, max_depth=10, min_samples_leaf=5, min_samples_split=5, n_estimators=200; total time=   0.8s\n",
      "[CV] END bootstrap=True, class_weight=None, max_depth=10, min_samples_leaf=5, min_samples_split=5, n_estimators=200; total time=   0.8s\n",
      "[CV] END bootstrap=True, class_weight=None, max_depth=10, min_samples_leaf=5, min_samples_split=5, n_estimators=200; total time=   0.8s\n",
      "[CV] END bootstrap=True, class_weight=None, max_depth=10, min_samples_leaf=5, min_samples_split=5, n_estimators=250; total time=   1.1s\n",
      "[CV] END bootstrap=True, class_weight=None, max_depth=10, min_samples_leaf=5, min_samples_split=10, n_estimators=100; total time=   0.4s\n",
      "[CV] END bootstrap=True, class_weight=None, max_depth=10, min_samples_leaf=5, min_samples_split=5, n_estimators=250; total time=   1.1s\n",
      "[CV] END bootstrap=True, class_weight=None, max_depth=10, min_samples_leaf=5, min_samples_split=10, n_estimators=100; total time=   0.4s\n",
      "[CV] END bootstrap=True, class_weight=None, max_depth=10, min_samples_leaf=5, min_samples_split=5, n_estimators=250; total time=   1.0s\n",
      "[CV] END bootstrap=True, class_weight=None, max_depth=10, min_samples_leaf=5, min_samples_split=5, n_estimators=250; total time=   1.1s\n",
      "[CV] END bootstrap=True, class_weight=None, max_depth=10, min_samples_leaf=5, min_samples_split=5, n_estimators=250; total time=   1.1s\n",
      "[CV] END bootstrap=True, class_weight=None, max_depth=10, min_samples_leaf=5, min_samples_split=10, n_estimators=100; total time=   0.4s\n",
      "[CV] END bootstrap=True, class_weight=None, max_depth=10, min_samples_leaf=5, min_samples_split=10, n_estimators=100; total time=   0.4s\n",
      "[CV] END bootstrap=True, class_weight=None, max_depth=10, min_samples_leaf=5, min_samples_split=10, n_estimators=100; total time=   0.4s\n",
      "[CV] END bootstrap=True, class_weight=None, max_depth=10, min_samples_leaf=5, min_samples_split=10, n_estimators=200; total time=   0.8s\n",
      "[CV] END bootstrap=True, class_weight=None, max_depth=10, min_samples_leaf=5, min_samples_split=10, n_estimators=200; total time=   0.8s\n",
      "[CV] END bootstrap=True, class_weight=None, max_depth=10, min_samples_leaf=5, min_samples_split=10, n_estimators=200; total time=   0.8s\n",
      "[CV] END bootstrap=True, class_weight=None, max_depth=10, min_samples_leaf=5, min_samples_split=10, n_estimators=200; total time=   0.8s\n",
      "[CV] END bootstrap=True, class_weight=None, max_depth=10, min_samples_leaf=5, min_samples_split=10, n_estimators=200; total time=   0.9s\n",
      "[CV] END bootstrap=True, class_weight=None, max_depth=10, min_samples_leaf=5, min_samples_split=10, n_estimators=250; total time=   1.1s\n",
      "[CV] END bootstrap=True, class_weight=None, max_depth=10, min_samples_leaf=10, min_samples_split=5, n_estimators=100; total time=   0.4s\n",
      "[CV] END bootstrap=True, class_weight=None, max_depth=10, min_samples_leaf=10, min_samples_split=5, n_estimators=100; total time=   0.4s\n",
      "[CV] END bootstrap=True, class_weight=None, max_depth=10, min_samples_leaf=5, min_samples_split=10, n_estimators=250; total time=   1.1s\n",
      "[CV] END bootstrap=True, class_weight=None, max_depth=10, min_samples_leaf=5, min_samples_split=10, n_estimators=250; total time=   1.1s\n",
      "[CV] END bootstrap=True, class_weight=None, max_depth=10, min_samples_leaf=5, min_samples_split=10, n_estimators=250; total time=   1.1s\n",
      "[CV] END bootstrap=True, class_weight=None, max_depth=10, min_samples_leaf=5, min_samples_split=10, n_estimators=250; total time=   1.1s\n",
      "[CV] END bootstrap=True, class_weight=None, max_depth=10, min_samples_leaf=10, min_samples_split=5, n_estimators=100; total time=   0.4s\n",
      "[CV] END bootstrap=True, class_weight=None, max_depth=10, min_samples_leaf=10, min_samples_split=5, n_estimators=100; total time=   0.4s\n",
      "[CV] END bootstrap=True, class_weight=None, max_depth=10, min_samples_leaf=10, min_samples_split=5, n_estimators=100; total time=   0.4s\n",
      "[CV] END bootstrap=True, class_weight=None, max_depth=10, min_samples_leaf=10, min_samples_split=5, n_estimators=200; total time=   0.8s\n",
      "[CV] END bootstrap=True, class_weight=None, max_depth=10, min_samples_leaf=10, min_samples_split=5, n_estimators=200; total time=   0.8s\n",
      "[CV] END bootstrap=True, class_weight=None, max_depth=10, min_samples_leaf=10, min_samples_split=5, n_estimators=200; total time=   0.8s\n",
      "[CV] END bootstrap=True, class_weight=None, max_depth=10, min_samples_leaf=10, min_samples_split=5, n_estimators=200; total time=   0.8s\n",
      "[CV] END bootstrap=True, class_weight=None, max_depth=10, min_samples_leaf=10, min_samples_split=5, n_estimators=200; total time=   0.8s\n",
      "[CV] END bootstrap=True, class_weight=None, max_depth=10, min_samples_leaf=10, min_samples_split=5, n_estimators=250; total time=   1.0s\n",
      "[CV] END bootstrap=True, class_weight=None, max_depth=10, min_samples_leaf=10, min_samples_split=10, n_estimators=100; total time=   0.4s\n",
      "[CV] END bootstrap=True, class_weight=None, max_depth=10, min_samples_leaf=10, min_samples_split=10, n_estimators=100; total time=   0.4s\n",
      "[CV] END bootstrap=True, class_weight=None, max_depth=10, min_samples_leaf=10, min_samples_split=5, n_estimators=250; total time=   1.0s\n",
      "[CV] END bootstrap=True, class_weight=None, max_depth=10, min_samples_leaf=10, min_samples_split=5, n_estimators=250; total time=   1.0s\n",
      "[CV] END bootstrap=True, class_weight=None, max_depth=10, min_samples_leaf=10, min_samples_split=5, n_estimators=250; total time=   1.0s\n",
      "[CV] END bootstrap=True, class_weight=None, max_depth=10, min_samples_leaf=10, min_samples_split=5, n_estimators=250; total time=   1.0s\n",
      "[CV] END bootstrap=True, class_weight=None, max_depth=10, min_samples_leaf=10, min_samples_split=10, n_estimators=100; total time=   0.4s\n",
      "[CV] END bootstrap=True, class_weight=None, max_depth=10, min_samples_leaf=10, min_samples_split=10, n_estimators=100; total time=   0.4s\n",
      "[CV] END bootstrap=True, class_weight=None, max_depth=10, min_samples_leaf=10, min_samples_split=10, n_estimators=100; total time=   0.4s\n",
      "[CV] END bootstrap=True, class_weight=None, max_depth=10, min_samples_leaf=10, min_samples_split=10, n_estimators=200; total time=   0.8s\n",
      "[CV] END bootstrap=True, class_weight=None, max_depth=10, min_samples_leaf=10, min_samples_split=10, n_estimators=200; total time=   0.8s\n",
      "[CV] END bootstrap=True, class_weight=None, max_depth=10, min_samples_leaf=10, min_samples_split=10, n_estimators=200; total time=   0.8s\n",
      "[CV] END bootstrap=True, class_weight=None, max_depth=10, min_samples_leaf=10, min_samples_split=10, n_estimators=200; total time=   0.8s\n",
      "[CV] END bootstrap=True, class_weight=None, max_depth=10, min_samples_leaf=10, min_samples_split=10, n_estimators=200; total time=   0.8s\n",
      "[CV] END bootstrap=True, class_weight=None, max_depth=10, min_samples_leaf=10, min_samples_split=10, n_estimators=250; total time=   1.0s\n",
      "[CV] END bootstrap=True, class_weight=None, max_depth=20, min_samples_leaf=2, min_samples_split=5, n_estimators=100; total time=   0.5s\n",
      "[CV] END bootstrap=True, class_weight=None, max_depth=10, min_samples_leaf=10, min_samples_split=10, n_estimators=250; total time=   1.0s\n",
      "[CV] END bootstrap=True, class_weight=None, max_depth=20, min_samples_leaf=2, min_samples_split=5, n_estimators=100; total time=   0.5s\n",
      "[CV] END bootstrap=True, class_weight=None, max_depth=10, min_samples_leaf=10, min_samples_split=10, n_estimators=250; total time=   1.0s\n",
      "[CV] END bootstrap=True, class_weight=None, max_depth=10, min_samples_leaf=10, min_samples_split=10, n_estimators=250; total time=   1.0s\n",
      "[CV] END bootstrap=True, class_weight=None, max_depth=10, min_samples_leaf=10, min_samples_split=10, n_estimators=250; total time=   1.0s\n",
      "[CV] END bootstrap=True, class_weight=None, max_depth=20, min_samples_leaf=2, min_samples_split=5, n_estimators=100; total time=   0.5s\n",
      "[CV] END bootstrap=True, class_weight=None, max_depth=20, min_samples_leaf=2, min_samples_split=5, n_estimators=100; total time=   0.5s\n",
      "[CV] END bootstrap=True, class_weight=None, max_depth=20, min_samples_leaf=2, min_samples_split=5, n_estimators=100; total time=   0.5s\n",
      "[CV] END bootstrap=True, class_weight=None, max_depth=20, min_samples_leaf=2, min_samples_split=5, n_estimators=200; total time=   1.0s\n",
      "[CV] END bootstrap=True, class_weight=None, max_depth=20, min_samples_leaf=2, min_samples_split=5, n_estimators=200; total time=   0.9s\n",
      "[CV] END bootstrap=True, class_weight=None, max_depth=20, min_samples_leaf=2, min_samples_split=5, n_estimators=200; total time=   1.0s\n",
      "[CV] END bootstrap=True, class_weight=None, max_depth=20, min_samples_leaf=2, min_samples_split=5, n_estimators=200; total time=   0.9s\n",
      "[CV] END bootstrap=True, class_weight=None, max_depth=20, min_samples_leaf=2, min_samples_split=5, n_estimators=200; total time=   0.9s\n",
      "[CV] END bootstrap=True, class_weight=None, max_depth=20, min_samples_leaf=2, min_samples_split=5, n_estimators=250; total time=   1.2s\n",
      "[CV] END bootstrap=True, class_weight=None, max_depth=20, min_samples_leaf=2, min_samples_split=10, n_estimators=100; total time=   0.5s\n",
      "[CV] END bootstrap=True, class_weight=None, max_depth=20, min_samples_leaf=2, min_samples_split=10, n_estimators=100; total time=   0.5s\n",
      "[CV] END bootstrap=True, class_weight=None, max_depth=20, min_samples_leaf=2, min_samples_split=5, n_estimators=250; total time=   1.2s\n",
      "[CV] END bootstrap=True, class_weight=None, max_depth=20, min_samples_leaf=2, min_samples_split=5, n_estimators=250; total time=   1.2s\n",
      "[CV] END bootstrap=True, class_weight=None, max_depth=20, min_samples_leaf=2, min_samples_split=5, n_estimators=250; total time=   1.2s\n",
      "[CV] END bootstrap=True, class_weight=None, max_depth=20, min_samples_leaf=2, min_samples_split=10, n_estimators=100; total time=   0.5s\n",
      "[CV] END bootstrap=True, class_weight=None, max_depth=20, min_samples_leaf=2, min_samples_split=5, n_estimators=250; total time=   1.2s\n",
      "[CV] END bootstrap=True, class_weight=None, max_depth=20, min_samples_leaf=2, min_samples_split=10, n_estimators=100; total time=   0.5s\n",
      "[CV] END bootstrap=True, class_weight=None, max_depth=20, min_samples_leaf=2, min_samples_split=10, n_estimators=100; total time=   0.5s\n",
      "[CV] END bootstrap=True, class_weight=None, max_depth=20, min_samples_leaf=2, min_samples_split=10, n_estimators=200; total time=   0.9s\n",
      "[CV] END bootstrap=True, class_weight=None, max_depth=20, min_samples_leaf=2, min_samples_split=10, n_estimators=200; total time=   0.9s\n",
      "[CV] END bootstrap=True, class_weight=None, max_depth=20, min_samples_leaf=2, min_samples_split=10, n_estimators=200; total time=   0.9s\n",
      "[CV] END bootstrap=True, class_weight=None, max_depth=20, min_samples_leaf=2, min_samples_split=10, n_estimators=200; total time=   0.9s\n",
      "[CV] END bootstrap=True, class_weight=None, max_depth=20, min_samples_leaf=2, min_samples_split=10, n_estimators=200; total time=   0.9s\n",
      "[CV] END bootstrap=True, class_weight=None, max_depth=20, min_samples_leaf=2, min_samples_split=10, n_estimators=250; total time=   1.2s\n",
      "[CV] END bootstrap=True, class_weight=None, max_depth=20, min_samples_leaf=5, min_samples_split=5, n_estimators=100; total time=   0.4s\n",
      "[CV] END bootstrap=True, class_weight=None, max_depth=20, min_samples_leaf=5, min_samples_split=5, n_estimators=100; total time=   0.4s\n",
      "[CV] END bootstrap=True, class_weight=None, max_depth=20, min_samples_leaf=2, min_samples_split=10, n_estimators=250; total time=   1.1s\n",
      "[CV] END bootstrap=True, class_weight=None, max_depth=20, min_samples_leaf=2, min_samples_split=10, n_estimators=250; total time=   1.2s\n",
      "[CV] END bootstrap=True, class_weight=None, max_depth=20, min_samples_leaf=2, min_samples_split=10, n_estimators=250; total time=   1.2s\n",
      "[CV] END bootstrap=True, class_weight=None, max_depth=20, min_samples_leaf=5, min_samples_split=5, n_estimators=100; total time=   0.4s\n",
      "[CV] END bootstrap=True, class_weight=None, max_depth=20, min_samples_leaf=2, min_samples_split=10, n_estimators=250; total time=   1.2s\n",
      "[CV] END bootstrap=True, class_weight=None, max_depth=20, min_samples_leaf=5, min_samples_split=5, n_estimators=100; total time=   0.4s\n",
      "[CV] END bootstrap=True, class_weight=None, max_depth=20, min_samples_leaf=5, min_samples_split=5, n_estimators=100; total time=   0.5s\n",
      "[CV] END bootstrap=True, class_weight=None, max_depth=20, min_samples_leaf=5, min_samples_split=5, n_estimators=200; total time=   0.9s\n",
      "[CV] END bootstrap=True, class_weight=None, max_depth=20, min_samples_leaf=5, min_samples_split=5, n_estimators=200; total time=   0.9s\n",
      "[CV] END bootstrap=True, class_weight=None, max_depth=20, min_samples_leaf=5, min_samples_split=5, n_estimators=200; total time=   0.9s\n",
      "[CV] END bootstrap=True, class_weight=None, max_depth=20, min_samples_leaf=5, min_samples_split=5, n_estimators=200; total time=   0.9s\n",
      "[CV] END bootstrap=True, class_weight=None, max_depth=20, min_samples_leaf=5, min_samples_split=5, n_estimators=200; total time=   0.9s\n",
      "[CV] END bootstrap=True, class_weight=None, max_depth=20, min_samples_leaf=5, min_samples_split=5, n_estimators=250; total time=   1.1s\n",
      "[CV] END bootstrap=True, class_weight=None, max_depth=20, min_samples_leaf=5, min_samples_split=10, n_estimators=100; total time=   0.4s\n",
      "[CV] END bootstrap=True, class_weight=None, max_depth=20, min_samples_leaf=5, min_samples_split=10, n_estimators=100; total time=   0.4s\n",
      "[CV] END bootstrap=True, class_weight=None, max_depth=20, min_samples_leaf=5, min_samples_split=5, n_estimators=250; total time=   1.1s\n",
      "[CV] END bootstrap=True, class_weight=None, max_depth=20, min_samples_leaf=5, min_samples_split=5, n_estimators=250; total time=   1.1s\n",
      "[CV] END bootstrap=True, class_weight=None, max_depth=20, min_samples_leaf=5, min_samples_split=5, n_estimators=250; total time=   1.1s\n",
      "[CV] END bootstrap=True, class_weight=None, max_depth=20, min_samples_leaf=5, min_samples_split=5, n_estimators=250; total time=   1.1s\n",
      "[CV] END bootstrap=True, class_weight=None, max_depth=20, min_samples_leaf=5, min_samples_split=10, n_estimators=100; total time=   0.4s\n",
      "[CV] END bootstrap=True, class_weight=None, max_depth=20, min_samples_leaf=5, min_samples_split=10, n_estimators=100; total time=   0.4s\n",
      "[CV] END bootstrap=True, class_weight=None, max_depth=20, min_samples_leaf=5, min_samples_split=10, n_estimators=100; total time=   0.5s\n",
      "[CV] END bootstrap=True, class_weight=None, max_depth=20, min_samples_leaf=5, min_samples_split=10, n_estimators=200; total time=   0.9s\n",
      "[CV] END bootstrap=True, class_weight=None, max_depth=20, min_samples_leaf=5, min_samples_split=10, n_estimators=200; total time=   0.9s\n",
      "[CV] END bootstrap=True, class_weight=None, max_depth=20, min_samples_leaf=5, min_samples_split=10, n_estimators=200; total time=   0.9s\n",
      "[CV] END bootstrap=True, class_weight=None, max_depth=20, min_samples_leaf=5, min_samples_split=10, n_estimators=200; total time=   0.9s\n",
      "[CV] END bootstrap=True, class_weight=None, max_depth=20, min_samples_leaf=5, min_samples_split=10, n_estimators=200; total time=   0.9s\n",
      "[CV] END bootstrap=True, class_weight=None, max_depth=20, min_samples_leaf=5, min_samples_split=10, n_estimators=250; total time=   1.1s\n",
      "[CV] END bootstrap=True, class_weight=None, max_depth=20, min_samples_leaf=10, min_samples_split=5, n_estimators=100; total time=   0.4s\n",
      "[CV] END bootstrap=True, class_weight=None, max_depth=20, min_samples_leaf=5, min_samples_split=10, n_estimators=250; total time=   1.1s\n",
      "[CV] END bootstrap=True, class_weight=None, max_depth=20, min_samples_leaf=10, min_samples_split=5, n_estimators=100; total time=   0.4s\n",
      "[CV] END bootstrap=True, class_weight=None, max_depth=20, min_samples_leaf=5, min_samples_split=10, n_estimators=250; total time=   1.1s\n",
      "[CV] END bootstrap=True, class_weight=None, max_depth=20, min_samples_leaf=5, min_samples_split=10, n_estimators=250; total time=   1.1s\n",
      "[CV] END bootstrap=True, class_weight=None, max_depth=20, min_samples_leaf=10, min_samples_split=5, n_estimators=100; total time=   0.4s\n",
      "[CV] END bootstrap=True, class_weight=None, max_depth=20, min_samples_leaf=5, min_samples_split=10, n_estimators=250; total time=   1.1s\n",
      "[CV] END bootstrap=True, class_weight=None, max_depth=20, min_samples_leaf=10, min_samples_split=5, n_estimators=100; total time=   0.4s\n",
      "[CV] END bootstrap=True, class_weight=None, max_depth=20, min_samples_leaf=10, min_samples_split=5, n_estimators=100; total time=   0.4s\n",
      "[CV] END bootstrap=True, class_weight=None, max_depth=20, min_samples_leaf=10, min_samples_split=5, n_estimators=200; total time=   0.8s\n",
      "[CV] END bootstrap=True, class_weight=None, max_depth=20, min_samples_leaf=10, min_samples_split=5, n_estimators=200; total time=   0.8s\n",
      "[CV] END bootstrap=True, class_weight=None, max_depth=20, min_samples_leaf=10, min_samples_split=5, n_estimators=200; total time=   0.8s\n",
      "[CV] END bootstrap=True, class_weight=None, max_depth=20, min_samples_leaf=10, min_samples_split=5, n_estimators=200; total time=   0.8s\n",
      "[CV] END bootstrap=True, class_weight=None, max_depth=20, min_samples_leaf=10, min_samples_split=5, n_estimators=200; total time=   0.8s\n",
      "[CV] END bootstrap=True, class_weight=None, max_depth=20, min_samples_leaf=10, min_samples_split=5, n_estimators=250; total time=   1.0s\n",
      "[CV] END bootstrap=True, class_weight=None, max_depth=20, min_samples_leaf=10, min_samples_split=10, n_estimators=100; total time=   0.4s\n",
      "[CV] END bootstrap=True, class_weight=None, max_depth=20, min_samples_leaf=10, min_samples_split=10, n_estimators=100; total time=   0.4s\n",
      "[CV] END bootstrap=True, class_weight=None, max_depth=20, min_samples_leaf=10, min_samples_split=5, n_estimators=250; total time=   1.0s\n",
      "[CV] END bootstrap=True, class_weight=None, max_depth=20, min_samples_leaf=10, min_samples_split=5, n_estimators=250; total time=   1.0s\n",
      "[CV] END bootstrap=True, class_weight=None, max_depth=20, min_samples_leaf=10, min_samples_split=5, n_estimators=250; total time=   1.0s\n",
      "[CV] END bootstrap=True, class_weight=None, max_depth=20, min_samples_leaf=10, min_samples_split=5, n_estimators=250; total time=   1.1s\n",
      "[CV] END bootstrap=True, class_weight=None, max_depth=20, min_samples_leaf=10, min_samples_split=10, n_estimators=100; total time=   0.4s\n",
      "[CV] END bootstrap=True, class_weight=None, max_depth=20, min_samples_leaf=10, min_samples_split=10, n_estimators=100; total time=   0.4s\n",
      "[CV] END bootstrap=True, class_weight=None, max_depth=20, min_samples_leaf=10, min_samples_split=10, n_estimators=100; total time=   0.4s\n",
      "[CV] END bootstrap=True, class_weight=None, max_depth=20, min_samples_leaf=10, min_samples_split=10, n_estimators=200; total time=   0.8s\n",
      "[CV] END bootstrap=True, class_weight=None, max_depth=20, min_samples_leaf=10, min_samples_split=10, n_estimators=200; total time=   0.8s\n",
      "[CV] END bootstrap=True, class_weight=None, max_depth=20, min_samples_leaf=10, min_samples_split=10, n_estimators=200; total time=   0.8s\n",
      "[CV] END bootstrap=True, class_weight=None, max_depth=20, min_samples_leaf=10, min_samples_split=10, n_estimators=200; total time=   0.8s\n",
      "[CV] END bootstrap=True, class_weight=None, max_depth=20, min_samples_leaf=10, min_samples_split=10, n_estimators=200; total time=   0.8s\n",
      "[CV] END bootstrap=True, class_weight=None, max_depth=20, min_samples_leaf=10, min_samples_split=10, n_estimators=250; total time=   1.0s\n",
      "[CV] END bootstrap=True, class_weight=None, max_depth=30, min_samples_leaf=2, min_samples_split=5, n_estimators=100; total time=   0.5s\n",
      "[CV] END bootstrap=True, class_weight=None, max_depth=20, min_samples_leaf=10, min_samples_split=10, n_estimators=250; total time=   1.0s\n",
      "[CV] END bootstrap=True, class_weight=None, max_depth=30, min_samples_leaf=2, min_samples_split=5, n_estimators=100; total time=   0.5s\n",
      "[CV] END bootstrap=True, class_weight=None, max_depth=20, min_samples_leaf=10, min_samples_split=10, n_estimators=250; total time=   1.0s\n",
      "[CV] END bootstrap=True, class_weight=None, max_depth=20, min_samples_leaf=10, min_samples_split=10, n_estimators=250; total time=   1.0s\n",
      "[CV] END bootstrap=True, class_weight=None, max_depth=20, min_samples_leaf=10, min_samples_split=10, n_estimators=250; total time=   1.0s\n",
      "[CV] END bootstrap=True, class_weight=None, max_depth=30, min_samples_leaf=2, min_samples_split=5, n_estimators=100; total time=   0.5s\n",
      "[CV] END bootstrap=True, class_weight=None, max_depth=30, min_samples_leaf=2, min_samples_split=5, n_estimators=100; total time=   0.5s\n",
      "[CV] END bootstrap=True, class_weight=None, max_depth=30, min_samples_leaf=2, min_samples_split=5, n_estimators=100; total time=   0.5s\n",
      "[CV] END bootstrap=True, class_weight=None, max_depth=30, min_samples_leaf=2, min_samples_split=5, n_estimators=200; total time=   1.0s\n",
      "[CV] END bootstrap=True, class_weight=None, max_depth=30, min_samples_leaf=2, min_samples_split=5, n_estimators=200; total time=   0.9s\n",
      "[CV] END bootstrap=True, class_weight=None, max_depth=30, min_samples_leaf=2, min_samples_split=5, n_estimators=200; total time=   0.9s\n",
      "[CV] END bootstrap=True, class_weight=None, max_depth=30, min_samples_leaf=2, min_samples_split=5, n_estimators=200; total time=   0.9s\n",
      "[CV] END bootstrap=True, class_weight=None, max_depth=30, min_samples_leaf=2, min_samples_split=5, n_estimators=200; total time=   1.0s\n",
      "[CV] END bootstrap=True, class_weight=None, max_depth=30, min_samples_leaf=2, min_samples_split=5, n_estimators=250; total time=   1.2s\n",
      "[CV] END bootstrap=True, class_weight=None, max_depth=30, min_samples_leaf=2, min_samples_split=10, n_estimators=100; total time=   0.5s\n",
      "[CV] END bootstrap=True, class_weight=None, max_depth=30, min_samples_leaf=2, min_samples_split=10, n_estimators=100; total time=   0.5s\n",
      "[CV] END bootstrap=True, class_weight=None, max_depth=30, min_samples_leaf=2, min_samples_split=5, n_estimators=250; total time=   1.2s\n",
      "[CV] END bootstrap=True, class_weight=None, max_depth=30, min_samples_leaf=2, min_samples_split=5, n_estimators=250; total time=   1.2s\n",
      "[CV] END bootstrap=True, class_weight=None, max_depth=30, min_samples_leaf=2, min_samples_split=5, n_estimators=250; total time=   1.2s\n",
      "[CV] END bootstrap=True, class_weight=None, max_depth=30, min_samples_leaf=2, min_samples_split=10, n_estimators=100; total time=   0.5s\n",
      "[CV] END bootstrap=True, class_weight=None, max_depth=30, min_samples_leaf=2, min_samples_split=5, n_estimators=250; total time=   1.2s\n",
      "[CV] END bootstrap=True, class_weight=None, max_depth=30, min_samples_leaf=2, min_samples_split=10, n_estimators=100; total time=   0.5s\n",
      "[CV] END bootstrap=True, class_weight=None, max_depth=30, min_samples_leaf=2, min_samples_split=10, n_estimators=100; total time=   0.5s\n",
      "[CV] END bootstrap=True, class_weight=None, max_depth=30, min_samples_leaf=2, min_samples_split=10, n_estimators=200; total time=   0.9s\n",
      "[CV] END bootstrap=True, class_weight=None, max_depth=30, min_samples_leaf=2, min_samples_split=10, n_estimators=200; total time=   0.9s\n",
      "[CV] END bootstrap=True, class_weight=None, max_depth=30, min_samples_leaf=2, min_samples_split=10, n_estimators=200; total time=   0.9s\n",
      "[CV] END bootstrap=True, class_weight=None, max_depth=30, min_samples_leaf=2, min_samples_split=10, n_estimators=200; total time=   0.9s\n",
      "[CV] END bootstrap=True, class_weight=None, max_depth=30, min_samples_leaf=2, min_samples_split=10, n_estimators=200; total time=   0.9s\n",
      "[CV] END bootstrap=True, class_weight=None, max_depth=30, min_samples_leaf=2, min_samples_split=10, n_estimators=250; total time=   1.2s\n",
      "[CV] END bootstrap=True, class_weight=None, max_depth=30, min_samples_leaf=5, min_samples_split=5, n_estimators=100; total time=   0.4s\n",
      "[CV] END bootstrap=True, class_weight=None, max_depth=30, min_samples_leaf=5, min_samples_split=5, n_estimators=100; total time=   0.4s\n",
      "[CV] END bootstrap=True, class_weight=None, max_depth=30, min_samples_leaf=2, min_samples_split=10, n_estimators=250; total time=   1.1s\n",
      "[CV] END bootstrap=True, class_weight=None, max_depth=30, min_samples_leaf=2, min_samples_split=10, n_estimators=250; total time=   1.2s\n",
      "[CV] END bootstrap=True, class_weight=None, max_depth=30, min_samples_leaf=5, min_samples_split=5, n_estimators=100; total time=   0.4s\n",
      "[CV] END bootstrap=True, class_weight=None, max_depth=30, min_samples_leaf=2, min_samples_split=10, n_estimators=250; total time=   1.2s\n",
      "[CV] END bootstrap=True, class_weight=None, max_depth=30, min_samples_leaf=2, min_samples_split=10, n_estimators=250; total time=   1.2s\n",
      "[CV] END bootstrap=True, class_weight=None, max_depth=30, min_samples_leaf=5, min_samples_split=5, n_estimators=100; total time=   0.4s\n",
      "[CV] END bootstrap=True, class_weight=None, max_depth=30, min_samples_leaf=5, min_samples_split=5, n_estimators=100; total time=   0.4s\n",
      "[CV] END bootstrap=True, class_weight=None, max_depth=30, min_samples_leaf=5, min_samples_split=5, n_estimators=200; total time=   0.9s\n",
      "[CV] END bootstrap=True, class_weight=None, max_depth=30, min_samples_leaf=5, min_samples_split=5, n_estimators=200; total time=   0.9s\n",
      "[CV] END bootstrap=True, class_weight=None, max_depth=30, min_samples_leaf=5, min_samples_split=5, n_estimators=200; total time=   0.9s\n",
      "[CV] END bootstrap=True, class_weight=None, max_depth=30, min_samples_leaf=5, min_samples_split=5, n_estimators=200; total time=   0.9s\n",
      "[CV] END bootstrap=True, class_weight=None, max_depth=30, min_samples_leaf=5, min_samples_split=5, n_estimators=200; total time=   0.9s\n",
      "[CV] END bootstrap=True, class_weight=None, max_depth=30, min_samples_leaf=5, min_samples_split=5, n_estimators=250; total time=   1.1s\n",
      "[CV] END bootstrap=True, class_weight=None, max_depth=30, min_samples_leaf=5, min_samples_split=10, n_estimators=100; total time=   0.4s\n",
      "[CV] END bootstrap=True, class_weight=None, max_depth=30, min_samples_leaf=5, min_samples_split=10, n_estimators=100; total time=   0.4s\n",
      "[CV] END bootstrap=True, class_weight=None, max_depth=30, min_samples_leaf=5, min_samples_split=5, n_estimators=250; total time=   1.1s\n",
      "[CV] END bootstrap=True, class_weight=None, max_depth=30, min_samples_leaf=5, min_samples_split=5, n_estimators=250; total time=   1.1s\n",
      "[CV] END bootstrap=True, class_weight=None, max_depth=30, min_samples_leaf=5, min_samples_split=5, n_estimators=250; total time=   1.1s\n",
      "[CV] END bootstrap=True, class_weight=None, max_depth=30, min_samples_leaf=5, min_samples_split=10, n_estimators=100; total time=   0.5s\n",
      "[CV] END bootstrap=True, class_weight=None, max_depth=30, min_samples_leaf=5, min_samples_split=5, n_estimators=250; total time=   1.1s\n",
      "[CV] END bootstrap=True, class_weight=None, max_depth=30, min_samples_leaf=5, min_samples_split=10, n_estimators=100; total time=   0.4s\n",
      "[CV] END bootstrap=True, class_weight=None, max_depth=30, min_samples_leaf=5, min_samples_split=10, n_estimators=100; total time=   0.5s\n",
      "[CV] END bootstrap=True, class_weight=None, max_depth=30, min_samples_leaf=5, min_samples_split=10, n_estimators=200; total time=   0.9s\n",
      "[CV] END bootstrap=True, class_weight=None, max_depth=30, min_samples_leaf=5, min_samples_split=10, n_estimators=200; total time=   0.9s\n",
      "[CV] END bootstrap=True, class_weight=None, max_depth=30, min_samples_leaf=5, min_samples_split=10, n_estimators=200; total time=   0.9s\n",
      "[CV] END bootstrap=True, class_weight=None, max_depth=30, min_samples_leaf=5, min_samples_split=10, n_estimators=200; total time=   0.9s\n",
      "[CV] END bootstrap=True, class_weight=None, max_depth=30, min_samples_leaf=5, min_samples_split=10, n_estimators=200; total time=   0.9s\n",
      "[CV] END bootstrap=True, class_weight=None, max_depth=30, min_samples_leaf=5, min_samples_split=10, n_estimators=250; total time=   1.1s\n",
      "[CV] END bootstrap=True, class_weight=None, max_depth=30, min_samples_leaf=10, min_samples_split=5, n_estimators=100; total time=   0.4s\n",
      "[CV] END bootstrap=True, class_weight=None, max_depth=30, min_samples_leaf=10, min_samples_split=5, n_estimators=100; total time=   0.4s\n",
      "[CV] END bootstrap=True, class_weight=None, max_depth=30, min_samples_leaf=5, min_samples_split=10, n_estimators=250; total time=   1.1s\n",
      "[CV] END bootstrap=True, class_weight=None, max_depth=30, min_samples_leaf=5, min_samples_split=10, n_estimators=250; total time=   1.1s\n",
      "[CV] END bootstrap=True, class_weight=None, max_depth=30, min_samples_leaf=10, min_samples_split=5, n_estimators=100; total time=   0.4s\n",
      "[CV] END bootstrap=True, class_weight=None, max_depth=30, min_samples_leaf=5, min_samples_split=10, n_estimators=250; total time=   1.1s\n",
      "[CV] END bootstrap=True, class_weight=None, max_depth=30, min_samples_leaf=5, min_samples_split=10, n_estimators=250; total time=   1.1s\n",
      "[CV] END bootstrap=True, class_weight=None, max_depth=30, min_samples_leaf=10, min_samples_split=5, n_estimators=100; total time=   0.4s\n",
      "[CV] END bootstrap=True, class_weight=None, max_depth=30, min_samples_leaf=10, min_samples_split=5, n_estimators=100; total time=   0.4s\n",
      "[CV] END bootstrap=True, class_weight=None, max_depth=30, min_samples_leaf=10, min_samples_split=5, n_estimators=200; total time=   0.8s\n",
      "[CV] END bootstrap=True, class_weight=None, max_depth=30, min_samples_leaf=10, min_samples_split=5, n_estimators=200; total time=   0.8s\n",
      "[CV] END bootstrap=True, class_weight=None, max_depth=30, min_samples_leaf=10, min_samples_split=5, n_estimators=200; total time=   0.8s\n",
      "[CV] END bootstrap=True, class_weight=None, max_depth=30, min_samples_leaf=10, min_samples_split=5, n_estimators=200; total time=   0.8s\n",
      "[CV] END bootstrap=True, class_weight=None, max_depth=30, min_samples_leaf=10, min_samples_split=5, n_estimators=200; total time=   0.8s\n",
      "[CV] END bootstrap=True, class_weight=None, max_depth=30, min_samples_leaf=10, min_samples_split=5, n_estimators=250; total time=   1.0s\n",
      "[CV] END bootstrap=True, class_weight=None, max_depth=30, min_samples_leaf=10, min_samples_split=10, n_estimators=100; total time=   0.4s\n",
      "[CV] END bootstrap=True, class_weight=None, max_depth=30, min_samples_leaf=10, min_samples_split=10, n_estimators=100; total time=   0.4s\n",
      "[CV] END bootstrap=True, class_weight=None, max_depth=30, min_samples_leaf=10, min_samples_split=5, n_estimators=250; total time=   1.0s\n",
      "[CV] END bootstrap=True, class_weight=None, max_depth=30, min_samples_leaf=10, min_samples_split=5, n_estimators=250; total time=   1.0s\n",
      "[CV] END bootstrap=True, class_weight=None, max_depth=30, min_samples_leaf=10, min_samples_split=5, n_estimators=250; total time=   1.0s\n",
      "[CV] END bootstrap=True, class_weight=None, max_depth=30, min_samples_leaf=10, min_samples_split=10, n_estimators=100; total time=   0.4s\n",
      "[CV] END bootstrap=True, class_weight=None, max_depth=30, min_samples_leaf=10, min_samples_split=5, n_estimators=250; total time=   1.0s\n",
      "[CV] END bootstrap=True, class_weight=None, max_depth=30, min_samples_leaf=10, min_samples_split=10, n_estimators=100; total time=   0.4s\n",
      "[CV] END bootstrap=True, class_weight=None, max_depth=30, min_samples_leaf=10, min_samples_split=10, n_estimators=100; total time=   0.4s\n",
      "[CV] END bootstrap=True, class_weight=None, max_depth=30, min_samples_leaf=10, min_samples_split=10, n_estimators=200; total time=   0.8s\n",
      "[CV] END bootstrap=True, class_weight=None, max_depth=30, min_samples_leaf=10, min_samples_split=10, n_estimators=200; total time=   0.8s\n",
      "[CV] END bootstrap=True, class_weight=None, max_depth=30, min_samples_leaf=10, min_samples_split=10, n_estimators=200; total time=   0.8s\n",
      "[CV] END bootstrap=True, class_weight=None, max_depth=30, min_samples_leaf=10, min_samples_split=10, n_estimators=200; total time=   0.8s\n",
      "[CV] END bootstrap=True, class_weight=None, max_depth=30, min_samples_leaf=10, min_samples_split=10, n_estimators=200; total time=   0.8s\n",
      "[CV] END bootstrap=True, class_weight=None, max_depth=30, min_samples_leaf=10, min_samples_split=10, n_estimators=250; total time=   1.0s\n",
      "[CV] END bootstrap=True, class_weight=balanced, max_depth=10, min_samples_leaf=2, min_samples_split=5, n_estimators=100; total time=   0.4s\n",
      "[CV] END bootstrap=True, class_weight=None, max_depth=30, min_samples_leaf=10, min_samples_split=10, n_estimators=250; total time=   1.0s\n",
      "[CV] END bootstrap=True, class_weight=balanced, max_depth=10, min_samples_leaf=2, min_samples_split=5, n_estimators=100; total time=   0.4s\n",
      "[CV] END bootstrap=True, class_weight=None, max_depth=30, min_samples_leaf=10, min_samples_split=10, n_estimators=250; total time=   1.0s\n",
      "[CV] END bootstrap=True, class_weight=None, max_depth=30, min_samples_leaf=10, min_samples_split=10, n_estimators=250; total time=   1.0s\n",
      "[CV] END bootstrap=True, class_weight=None, max_depth=30, min_samples_leaf=10, min_samples_split=10, n_estimators=250; total time=   1.0s\n",
      "[CV] END bootstrap=True, class_weight=balanced, max_depth=10, min_samples_leaf=2, min_samples_split=5, n_estimators=100; total time=   0.4s\n",
      "[CV] END bootstrap=True, class_weight=balanced, max_depth=10, min_samples_leaf=2, min_samples_split=5, n_estimators=100; total time=   0.4s\n",
      "[CV] END bootstrap=True, class_weight=balanced, max_depth=10, min_samples_leaf=2, min_samples_split=5, n_estimators=100; total time=   0.4s\n",
      "[CV] END bootstrap=True, class_weight=balanced, max_depth=10, min_samples_leaf=2, min_samples_split=5, n_estimators=200; total time=   0.9s\n",
      "[CV] END bootstrap=True, class_weight=balanced, max_depth=10, min_samples_leaf=2, min_samples_split=5, n_estimators=200; total time=   0.9s\n",
      "[CV] END bootstrap=True, class_weight=balanced, max_depth=10, min_samples_leaf=2, min_samples_split=5, n_estimators=200; total time=   0.9s\n",
      "[CV] END bootstrap=True, class_weight=balanced, max_depth=10, min_samples_leaf=2, min_samples_split=5, n_estimators=200; total time=   0.8s\n",
      "[CV] END bootstrap=True, class_weight=balanced, max_depth=10, min_samples_leaf=2, min_samples_split=5, n_estimators=200; total time=   0.8s\n",
      "[CV] END bootstrap=True, class_weight=balanced, max_depth=10, min_samples_leaf=2, min_samples_split=5, n_estimators=250; total time=   1.1s\n",
      "[CV] END bootstrap=True, class_weight=balanced, max_depth=10, min_samples_leaf=2, min_samples_split=10, n_estimators=100; total time=   0.4s\n",
      "[CV] END bootstrap=True, class_weight=balanced, max_depth=10, min_samples_leaf=2, min_samples_split=5, n_estimators=250; total time=   1.1s\n",
      "[CV] END bootstrap=True, class_weight=balanced, max_depth=10, min_samples_leaf=2, min_samples_split=10, n_estimators=100; total time=   0.4s\n",
      "[CV] END bootstrap=True, class_weight=balanced, max_depth=10, min_samples_leaf=2, min_samples_split=5, n_estimators=250; total time=   1.1s\n",
      "[CV] END bootstrap=True, class_weight=balanced, max_depth=10, min_samples_leaf=2, min_samples_split=5, n_estimators=250; total time=   1.1s\n",
      "[CV] END bootstrap=True, class_weight=balanced, max_depth=10, min_samples_leaf=2, min_samples_split=5, n_estimators=250; total time=   1.1s\n",
      "[CV] END bootstrap=True, class_weight=balanced, max_depth=10, min_samples_leaf=2, min_samples_split=10, n_estimators=100; total time=   0.4s\n",
      "[CV] END bootstrap=True, class_weight=balanced, max_depth=10, min_samples_leaf=2, min_samples_split=10, n_estimators=100; total time=   0.4s\n",
      "[CV] END bootstrap=True, class_weight=balanced, max_depth=10, min_samples_leaf=2, min_samples_split=10, n_estimators=100; total time=   0.4s\n",
      "[CV] END bootstrap=True, class_weight=balanced, max_depth=10, min_samples_leaf=2, min_samples_split=10, n_estimators=200; total time=   0.8s\n",
      "[CV] END bootstrap=True, class_weight=balanced, max_depth=10, min_samples_leaf=2, min_samples_split=10, n_estimators=200; total time=   0.9s\n",
      "[CV] END bootstrap=True, class_weight=balanced, max_depth=10, min_samples_leaf=2, min_samples_split=10, n_estimators=200; total time=   0.9s\n",
      "[CV] END bootstrap=True, class_weight=balanced, max_depth=10, min_samples_leaf=2, min_samples_split=10, n_estimators=200; total time=   0.8s\n",
      "[CV] END bootstrap=True, class_weight=balanced, max_depth=10, min_samples_leaf=2, min_samples_split=10, n_estimators=200; total time=   0.8s\n",
      "[CV] END bootstrap=True, class_weight=balanced, max_depth=10, min_samples_leaf=2, min_samples_split=10, n_estimators=250; total time=   1.1s\n",
      "[CV] END bootstrap=True, class_weight=balanced, max_depth=10, min_samples_leaf=5, min_samples_split=5, n_estimators=100; total time=   0.4s\n",
      "[CV] END bootstrap=True, class_weight=balanced, max_depth=10, min_samples_leaf=5, min_samples_split=5, n_estimators=100; total time=   0.4s\n",
      "[CV] END bootstrap=True, class_weight=balanced, max_depth=10, min_samples_leaf=2, min_samples_split=10, n_estimators=250; total time=   1.1s\n",
      "[CV] END bootstrap=True, class_weight=balanced, max_depth=10, min_samples_leaf=2, min_samples_split=10, n_estimators=250; total time=   1.1s\n",
      "[CV] END bootstrap=True, class_weight=balanced, max_depth=10, min_samples_leaf=2, min_samples_split=10, n_estimators=250; total time=   1.0s\n",
      "[CV] END bootstrap=True, class_weight=balanced, max_depth=10, min_samples_leaf=2, min_samples_split=10, n_estimators=250; total time=   1.0s\n",
      "[CV] END bootstrap=True, class_weight=balanced, max_depth=10, min_samples_leaf=5, min_samples_split=5, n_estimators=100; total time=   0.4s\n",
      "[CV] END bootstrap=True, class_weight=balanced, max_depth=10, min_samples_leaf=5, min_samples_split=5, n_estimators=100; total time=   0.4s\n",
      "[CV] END bootstrap=True, class_weight=balanced, max_depth=10, min_samples_leaf=5, min_samples_split=5, n_estimators=100; total time=   0.4s\n",
      "[CV] END bootstrap=True, class_weight=balanced, max_depth=10, min_samples_leaf=5, min_samples_split=5, n_estimators=200; total time=   0.8s\n",
      "[CV] END bootstrap=True, class_weight=balanced, max_depth=10, min_samples_leaf=5, min_samples_split=5, n_estimators=200; total time=   0.8s\n",
      "[CV] END bootstrap=True, class_weight=balanced, max_depth=10, min_samples_leaf=5, min_samples_split=5, n_estimators=200; total time=   0.8s\n",
      "[CV] END bootstrap=True, class_weight=balanced, max_depth=10, min_samples_leaf=5, min_samples_split=5, n_estimators=200; total time=   0.8s\n",
      "[CV] END bootstrap=True, class_weight=balanced, max_depth=10, min_samples_leaf=5, min_samples_split=5, n_estimators=200; total time=   0.8s\n",
      "[CV] END bootstrap=True, class_weight=balanced, max_depth=10, min_samples_leaf=5, min_samples_split=5, n_estimators=250; total time=   1.0s\n",
      "[CV] END bootstrap=True, class_weight=balanced, max_depth=10, min_samples_leaf=5, min_samples_split=10, n_estimators=100; total time=   0.4s\n",
      "[CV] END bootstrap=True, class_weight=balanced, max_depth=10, min_samples_leaf=5, min_samples_split=10, n_estimators=100; total time=   0.4s\n",
      "[CV] END bootstrap=True, class_weight=balanced, max_depth=10, min_samples_leaf=5, min_samples_split=5, n_estimators=250; total time=   1.0s\n",
      "[CV] END bootstrap=True, class_weight=balanced, max_depth=10, min_samples_leaf=5, min_samples_split=5, n_estimators=250; total time=   1.0s\n",
      "[CV] END bootstrap=True, class_weight=balanced, max_depth=10, min_samples_leaf=5, min_samples_split=5, n_estimators=250; total time=   1.0s\n",
      "[CV] END bootstrap=True, class_weight=balanced, max_depth=10, min_samples_leaf=5, min_samples_split=5, n_estimators=250; total time=   1.0s\n",
      "[CV] END bootstrap=True, class_weight=balanced, max_depth=10, min_samples_leaf=5, min_samples_split=10, n_estimators=100; total time=   0.4s\n",
      "[CV] END bootstrap=True, class_weight=balanced, max_depth=10, min_samples_leaf=5, min_samples_split=10, n_estimators=100; total time=   0.4s\n",
      "[CV] END bootstrap=True, class_weight=balanced, max_depth=10, min_samples_leaf=5, min_samples_split=10, n_estimators=100; total time=   0.4s\n",
      "[CV] END bootstrap=True, class_weight=balanced, max_depth=10, min_samples_leaf=5, min_samples_split=10, n_estimators=200; total time=   0.8s\n",
      "[CV] END bootstrap=True, class_weight=balanced, max_depth=10, min_samples_leaf=5, min_samples_split=10, n_estimators=200; total time=   0.8s\n",
      "[CV] END bootstrap=True, class_weight=balanced, max_depth=10, min_samples_leaf=5, min_samples_split=10, n_estimators=200; total time=   0.8s\n",
      "[CV] END bootstrap=True, class_weight=balanced, max_depth=10, min_samples_leaf=5, min_samples_split=10, n_estimators=200; total time=   0.8s\n",
      "[CV] END bootstrap=True, class_weight=balanced, max_depth=10, min_samples_leaf=5, min_samples_split=10, n_estimators=200; total time=   0.8s\n",
      "[CV] END bootstrap=True, class_weight=balanced, max_depth=10, min_samples_leaf=5, min_samples_split=10, n_estimators=250; total time=   1.0s\n",
      "[CV] END bootstrap=True, class_weight=balanced, max_depth=10, min_samples_leaf=10, min_samples_split=5, n_estimators=100; total time=   0.4s\n",
      "[CV] END bootstrap=True, class_weight=balanced, max_depth=10, min_samples_leaf=10, min_samples_split=5, n_estimators=100; total time=   0.4s\n",
      "[CV] END bootstrap=True, class_weight=balanced, max_depth=10, min_samples_leaf=5, min_samples_split=10, n_estimators=250; total time=   1.0s\n",
      "[CV] END bootstrap=True, class_weight=balanced, max_depth=10, min_samples_leaf=5, min_samples_split=10, n_estimators=250; total time=   1.0s\n",
      "[CV] END bootstrap=True, class_weight=balanced, max_depth=10, min_samples_leaf=5, min_samples_split=10, n_estimators=250; total time=   1.0s\n",
      "[CV] END bootstrap=True, class_weight=balanced, max_depth=10, min_samples_leaf=10, min_samples_split=5, n_estimators=100; total time=   0.4s\n",
      "[CV] END bootstrap=True, class_weight=balanced, max_depth=10, min_samples_leaf=5, min_samples_split=10, n_estimators=250; total time=   1.1s\n",
      "[CV] END bootstrap=True, class_weight=balanced, max_depth=10, min_samples_leaf=10, min_samples_split=5, n_estimators=100; total time=   0.4s\n",
      "[CV] END bootstrap=True, class_weight=balanced, max_depth=10, min_samples_leaf=10, min_samples_split=5, n_estimators=100; total time=   0.4s\n",
      "[CV] END bootstrap=True, class_weight=balanced, max_depth=10, min_samples_leaf=10, min_samples_split=5, n_estimators=200; total time=   0.8s\n",
      "[CV] END bootstrap=True, class_weight=balanced, max_depth=10, min_samples_leaf=10, min_samples_split=5, n_estimators=200; total time=   0.8s\n",
      "[CV] END bootstrap=True, class_weight=balanced, max_depth=10, min_samples_leaf=10, min_samples_split=5, n_estimators=200; total time=   0.8s\n",
      "[CV] END bootstrap=True, class_weight=balanced, max_depth=10, min_samples_leaf=10, min_samples_split=5, n_estimators=200; total time=   0.8s\n",
      "[CV] END bootstrap=True, class_weight=balanced, max_depth=10, min_samples_leaf=10, min_samples_split=5, n_estimators=200; total time=   0.8s\n",
      "[CV] END bootstrap=True, class_weight=balanced, max_depth=10, min_samples_leaf=10, min_samples_split=5, n_estimators=250; total time=   1.0s\n",
      "[CV] END bootstrap=True, class_weight=balanced, max_depth=10, min_samples_leaf=10, min_samples_split=10, n_estimators=100; total time=   0.4s\n",
      "[CV] END bootstrap=True, class_weight=balanced, max_depth=10, min_samples_leaf=10, min_samples_split=10, n_estimators=100; total time=   0.4s\n",
      "[CV] END bootstrap=True, class_weight=balanced, max_depth=10, min_samples_leaf=10, min_samples_split=5, n_estimators=250; total time=   1.0s\n",
      "[CV] END bootstrap=True, class_weight=balanced, max_depth=10, min_samples_leaf=10, min_samples_split=5, n_estimators=250; total time=   1.0s\n",
      "[CV] END bootstrap=True, class_weight=balanced, max_depth=10, min_samples_leaf=10, min_samples_split=5, n_estimators=250; total time=   1.0s\n",
      "[CV] END bootstrap=True, class_weight=balanced, max_depth=10, min_samples_leaf=10, min_samples_split=5, n_estimators=250; total time=   1.0s\n",
      "[CV] END bootstrap=True, class_weight=balanced, max_depth=10, min_samples_leaf=10, min_samples_split=10, n_estimators=100; total time=   0.4s\n",
      "[CV] END bootstrap=True, class_weight=balanced, max_depth=10, min_samples_leaf=10, min_samples_split=10, n_estimators=100; total time=   0.4s\n",
      "[CV] END bootstrap=True, class_weight=balanced, max_depth=10, min_samples_leaf=10, min_samples_split=10, n_estimators=100; total time=   0.4s\n",
      "[CV] END bootstrap=True, class_weight=balanced, max_depth=10, min_samples_leaf=10, min_samples_split=10, n_estimators=200; total time=   0.8s\n",
      "[CV] END bootstrap=True, class_weight=balanced, max_depth=10, min_samples_leaf=10, min_samples_split=10, n_estimators=200; total time=   0.8s\n",
      "[CV] END bootstrap=True, class_weight=balanced, max_depth=10, min_samples_leaf=10, min_samples_split=10, n_estimators=200; total time=   0.8s\n",
      "[CV] END bootstrap=True, class_weight=balanced, max_depth=10, min_samples_leaf=10, min_samples_split=10, n_estimators=200; total time=   0.8s\n",
      "[CV] END bootstrap=True, class_weight=balanced, max_depth=10, min_samples_leaf=10, min_samples_split=10, n_estimators=200; total time=   0.8s\n",
      "[CV] END bootstrap=True, class_weight=balanced, max_depth=10, min_samples_leaf=10, min_samples_split=10, n_estimators=250; total time=   1.0s\n",
      "[CV] END bootstrap=True, class_weight=balanced, max_depth=20, min_samples_leaf=2, min_samples_split=5, n_estimators=100; total time=   0.5s\n",
      "[CV] END bootstrap=True, class_weight=balanced, max_depth=10, min_samples_leaf=10, min_samples_split=10, n_estimators=250; total time=   1.0s\n",
      "[CV] END bootstrap=True, class_weight=balanced, max_depth=10, min_samples_leaf=10, min_samples_split=10, n_estimators=250; total time=   1.0s\n",
      "[CV] END bootstrap=True, class_weight=balanced, max_depth=20, min_samples_leaf=2, min_samples_split=5, n_estimators=100; total time=   0.5s\n",
      "[CV] END bootstrap=True, class_weight=balanced, max_depth=10, min_samples_leaf=10, min_samples_split=10, n_estimators=250; total time=   1.0s\n",
      "[CV] END bootstrap=True, class_weight=balanced, max_depth=10, min_samples_leaf=10, min_samples_split=10, n_estimators=250; total time=   1.0s\n",
      "[CV] END bootstrap=True, class_weight=balanced, max_depth=20, min_samples_leaf=2, min_samples_split=5, n_estimators=100; total time=   0.5s\n",
      "[CV] END bootstrap=True, class_weight=balanced, max_depth=20, min_samples_leaf=2, min_samples_split=5, n_estimators=100; total time=   0.5s\n",
      "[CV] END bootstrap=True, class_weight=balanced, max_depth=20, min_samples_leaf=2, min_samples_split=5, n_estimators=100; total time=   0.5s\n",
      "[CV] END bootstrap=True, class_weight=balanced, max_depth=20, min_samples_leaf=2, min_samples_split=5, n_estimators=200; total time=   0.9s\n",
      "[CV] END bootstrap=True, class_weight=balanced, max_depth=20, min_samples_leaf=2, min_samples_split=5, n_estimators=200; total time=   0.9s\n",
      "[CV] END bootstrap=True, class_weight=balanced, max_depth=20, min_samples_leaf=2, min_samples_split=5, n_estimators=200; total time=   0.9s\n",
      "[CV] END bootstrap=True, class_weight=balanced, max_depth=20, min_samples_leaf=2, min_samples_split=5, n_estimators=200; total time=   0.9s\n",
      "[CV] END bootstrap=True, class_weight=balanced, max_depth=20, min_samples_leaf=2, min_samples_split=5, n_estimators=200; total time=   0.9s\n",
      "[CV] END bootstrap=True, class_weight=balanced, max_depth=20, min_samples_leaf=2, min_samples_split=5, n_estimators=250; total time=   1.2s\n",
      "[CV] END bootstrap=True, class_weight=balanced, max_depth=20, min_samples_leaf=2, min_samples_split=10, n_estimators=100; total time=   0.5s\n",
      "[CV] END bootstrap=True, class_weight=balanced, max_depth=20, min_samples_leaf=2, min_samples_split=10, n_estimators=100; total time=   0.5s\n",
      "[CV] END bootstrap=True, class_weight=balanced, max_depth=20, min_samples_leaf=2, min_samples_split=5, n_estimators=250; total time=   1.2s\n",
      "[CV] END bootstrap=True, class_weight=balanced, max_depth=20, min_samples_leaf=2, min_samples_split=5, n_estimators=250; total time=   1.2s\n",
      "[CV] END bootstrap=True, class_weight=balanced, max_depth=20, min_samples_leaf=2, min_samples_split=5, n_estimators=250; total time=   1.2s\n",
      "[CV] END bootstrap=True, class_weight=balanced, max_depth=20, min_samples_leaf=2, min_samples_split=5, n_estimators=250; total time=   1.1s\n",
      "[CV] END bootstrap=True, class_weight=balanced, max_depth=20, min_samples_leaf=2, min_samples_split=10, n_estimators=100; total time=   0.4s\n",
      "[CV] END bootstrap=True, class_weight=balanced, max_depth=20, min_samples_leaf=2, min_samples_split=10, n_estimators=100; total time=   0.4s\n",
      "[CV] END bootstrap=True, class_weight=balanced, max_depth=20, min_samples_leaf=2, min_samples_split=10, n_estimators=100; total time=   0.4s\n",
      "[CV] END bootstrap=True, class_weight=balanced, max_depth=20, min_samples_leaf=2, min_samples_split=10, n_estimators=200; total time=   0.9s\n",
      "[CV] END bootstrap=True, class_weight=balanced, max_depth=20, min_samples_leaf=2, min_samples_split=10, n_estimators=200; total time=   0.9s\n",
      "[CV] END bootstrap=True, class_weight=balanced, max_depth=20, min_samples_leaf=2, min_samples_split=10, n_estimators=200; total time=   0.9s\n",
      "[CV] END bootstrap=True, class_weight=balanced, max_depth=20, min_samples_leaf=2, min_samples_split=10, n_estimators=200; total time=   0.9s\n",
      "[CV] END bootstrap=True, class_weight=balanced, max_depth=20, min_samples_leaf=2, min_samples_split=10, n_estimators=200; total time=   0.9s\n",
      "[CV] END bootstrap=True, class_weight=balanced, max_depth=20, min_samples_leaf=2, min_samples_split=10, n_estimators=250; total time=   1.1s\n",
      "[CV] END bootstrap=True, class_weight=balanced, max_depth=20, min_samples_leaf=5, min_samples_split=5, n_estimators=100; total time=   0.4s\n",
      "[CV] END bootstrap=True, class_weight=balanced, max_depth=20, min_samples_leaf=5, min_samples_split=5, n_estimators=100; total time=   0.4s\n",
      "[CV] END bootstrap=True, class_weight=balanced, max_depth=20, min_samples_leaf=2, min_samples_split=10, n_estimators=250; total time=   1.1s\n",
      "[CV] END bootstrap=True, class_weight=balanced, max_depth=20, min_samples_leaf=2, min_samples_split=10, n_estimators=250; total time=   1.1s\n",
      "[CV] END bootstrap=True, class_weight=balanced, max_depth=20, min_samples_leaf=2, min_samples_split=10, n_estimators=250; total time=   1.1s\n",
      "[CV] END bootstrap=True, class_weight=balanced, max_depth=20, min_samples_leaf=2, min_samples_split=10, n_estimators=250; total time=   1.1s\n",
      "[CV] END bootstrap=True, class_weight=balanced, max_depth=20, min_samples_leaf=5, min_samples_split=5, n_estimators=100; total time=   0.4s\n",
      "[CV] END bootstrap=True, class_weight=balanced, max_depth=20, min_samples_leaf=5, min_samples_split=5, n_estimators=100; total time=   0.4s\n",
      "[CV] END bootstrap=True, class_weight=balanced, max_depth=20, min_samples_leaf=5, min_samples_split=5, n_estimators=100; total time=   0.4s\n",
      "[CV] END bootstrap=True, class_weight=balanced, max_depth=20, min_samples_leaf=5, min_samples_split=5, n_estimators=200; total time=   0.9s\n",
      "[CV] END bootstrap=True, class_weight=balanced, max_depth=20, min_samples_leaf=5, min_samples_split=5, n_estimators=200; total time=   0.9s\n",
      "[CV] END bootstrap=True, class_weight=balanced, max_depth=20, min_samples_leaf=5, min_samples_split=5, n_estimators=200; total time=   0.9s\n",
      "[CV] END bootstrap=True, class_weight=balanced, max_depth=20, min_samples_leaf=5, min_samples_split=5, n_estimators=200; total time=   0.9s\n",
      "[CV] END bootstrap=True, class_weight=balanced, max_depth=20, min_samples_leaf=5, min_samples_split=5, n_estimators=200; total time=   0.9s\n",
      "[CV] END bootstrap=True, class_weight=balanced, max_depth=20, min_samples_leaf=5, min_samples_split=5, n_estimators=250; total time=   1.1s\n",
      "[CV] END bootstrap=True, class_weight=balanced, max_depth=20, min_samples_leaf=5, min_samples_split=10, n_estimators=100; total time=   0.4s\n",
      "[CV] END bootstrap=True, class_weight=balanced, max_depth=20, min_samples_leaf=5, min_samples_split=10, n_estimators=100; total time=   0.4s\n",
      "[CV] END bootstrap=True, class_weight=balanced, max_depth=20, min_samples_leaf=5, min_samples_split=5, n_estimators=250; total time=   1.1s\n",
      "[CV] END bootstrap=True, class_weight=balanced, max_depth=20, min_samples_leaf=5, min_samples_split=5, n_estimators=250; total time=   1.1s\n",
      "[CV] END bootstrap=True, class_weight=balanced, max_depth=20, min_samples_leaf=5, min_samples_split=5, n_estimators=250; total time=   1.1s\n",
      "[CV] END bootstrap=True, class_weight=balanced, max_depth=20, min_samples_leaf=5, min_samples_split=5, n_estimators=250; total time=   1.1s\n",
      "[CV] END bootstrap=True, class_weight=balanced, max_depth=20, min_samples_leaf=5, min_samples_split=10, n_estimators=100; total time=   0.4s\n",
      "[CV] END bootstrap=True, class_weight=balanced, max_depth=20, min_samples_leaf=5, min_samples_split=10, n_estimators=100; total time=   0.4s\n",
      "[CV] END bootstrap=True, class_weight=balanced, max_depth=20, min_samples_leaf=5, min_samples_split=10, n_estimators=100; total time=   0.4s\n",
      "[CV] END bootstrap=True, class_weight=balanced, max_depth=20, min_samples_leaf=5, min_samples_split=10, n_estimators=200; total time=   0.9s\n",
      "[CV] END bootstrap=True, class_weight=balanced, max_depth=20, min_samples_leaf=5, min_samples_split=10, n_estimators=200; total time=   0.9s\n",
      "[CV] END bootstrap=True, class_weight=balanced, max_depth=20, min_samples_leaf=5, min_samples_split=10, n_estimators=200; total time=   0.9s\n",
      "[CV] END bootstrap=True, class_weight=balanced, max_depth=20, min_samples_leaf=5, min_samples_split=10, n_estimators=200; total time=   0.9s\n",
      "[CV] END bootstrap=True, class_weight=balanced, max_depth=20, min_samples_leaf=5, min_samples_split=10, n_estimators=200; total time=   0.9s\n",
      "[CV] END bootstrap=True, class_weight=balanced, max_depth=20, min_samples_leaf=5, min_samples_split=10, n_estimators=250; total time=   1.1s\n",
      "[CV] END bootstrap=True, class_weight=balanced, max_depth=20, min_samples_leaf=10, min_samples_split=5, n_estimators=100; total time=   0.4s\n",
      "[CV] END bootstrap=True, class_weight=balanced, max_depth=20, min_samples_leaf=5, min_samples_split=10, n_estimators=250; total time=   1.1s\n",
      "[CV] END bootstrap=True, class_weight=balanced, max_depth=20, min_samples_leaf=10, min_samples_split=5, n_estimators=100; total time=   0.4s\n",
      "[CV] END bootstrap=True, class_weight=balanced, max_depth=20, min_samples_leaf=5, min_samples_split=10, n_estimators=250; total time=   1.1s\n",
      "[CV] END bootstrap=True, class_weight=balanced, max_depth=20, min_samples_leaf=5, min_samples_split=10, n_estimators=250; total time=   1.1s\n",
      "[CV] END bootstrap=True, class_weight=balanced, max_depth=20, min_samples_leaf=10, min_samples_split=5, n_estimators=100; total time=   0.4s\n",
      "[CV] END bootstrap=True, class_weight=balanced, max_depth=20, min_samples_leaf=5, min_samples_split=10, n_estimators=250; total time=   1.1s\n",
      "[CV] END bootstrap=True, class_weight=balanced, max_depth=20, min_samples_leaf=10, min_samples_split=5, n_estimators=100; total time=   0.4s\n",
      "[CV] END bootstrap=True, class_weight=balanced, max_depth=20, min_samples_leaf=10, min_samples_split=5, n_estimators=100; total time=   0.4s\n",
      "[CV] END bootstrap=True, class_weight=balanced, max_depth=20, min_samples_leaf=10, min_samples_split=5, n_estimators=200; total time=   0.8s\n",
      "[CV] END bootstrap=True, class_weight=balanced, max_depth=20, min_samples_leaf=10, min_samples_split=5, n_estimators=200; total time=   0.8s\n",
      "[CV] END bootstrap=True, class_weight=balanced, max_depth=20, min_samples_leaf=10, min_samples_split=5, n_estimators=200; total time=   0.8s\n",
      "[CV] END bootstrap=True, class_weight=balanced, max_depth=20, min_samples_leaf=10, min_samples_split=5, n_estimators=200; total time=   0.8s\n",
      "[CV] END bootstrap=True, class_weight=balanced, max_depth=20, min_samples_leaf=10, min_samples_split=5, n_estimators=200; total time=   0.8s\n",
      "[CV] END bootstrap=True, class_weight=balanced, max_depth=20, min_samples_leaf=10, min_samples_split=5, n_estimators=250; total time=   1.0s\n",
      "[CV] END bootstrap=True, class_weight=balanced, max_depth=20, min_samples_leaf=10, min_samples_split=10, n_estimators=100; total time=   0.4s\n",
      "[CV] END bootstrap=True, class_weight=balanced, max_depth=20, min_samples_leaf=10, min_samples_split=5, n_estimators=250; total time=   1.0s\n",
      "[CV] END bootstrap=True, class_weight=balanced, max_depth=20, min_samples_leaf=10, min_samples_split=10, n_estimators=100; total time=   0.4s\n",
      "[CV] END bootstrap=True, class_weight=balanced, max_depth=20, min_samples_leaf=10, min_samples_split=5, n_estimators=250; total time=   1.0s\n",
      "[CV] END bootstrap=True, class_weight=balanced, max_depth=20, min_samples_leaf=10, min_samples_split=5, n_estimators=250; total time=   1.0s\n",
      "[CV] END bootstrap=True, class_weight=balanced, max_depth=20, min_samples_leaf=10, min_samples_split=5, n_estimators=250; total time=   1.0s\n",
      "[CV] END bootstrap=True, class_weight=balanced, max_depth=20, min_samples_leaf=10, min_samples_split=10, n_estimators=100; total time=   0.4s\n",
      "[CV] END bootstrap=True, class_weight=balanced, max_depth=20, min_samples_leaf=10, min_samples_split=10, n_estimators=100; total time=   0.4s\n",
      "[CV] END bootstrap=True, class_weight=balanced, max_depth=20, min_samples_leaf=10, min_samples_split=10, n_estimators=100; total time=   0.4s\n",
      "[CV] END bootstrap=True, class_weight=balanced, max_depth=20, min_samples_leaf=10, min_samples_split=10, n_estimators=200; total time=   0.8s\n",
      "[CV] END bootstrap=True, class_weight=balanced, max_depth=20, min_samples_leaf=10, min_samples_split=10, n_estimators=200; total time=   0.8s\n",
      "[CV] END bootstrap=True, class_weight=balanced, max_depth=20, min_samples_leaf=10, min_samples_split=10, n_estimators=200; total time=   0.8s\n",
      "[CV] END bootstrap=True, class_weight=balanced, max_depth=20, min_samples_leaf=10, min_samples_split=10, n_estimators=200; total time=   0.8s\n",
      "[CV] END bootstrap=True, class_weight=balanced, max_depth=20, min_samples_leaf=10, min_samples_split=10, n_estimators=200; total time=   0.8s\n",
      "[CV] END bootstrap=True, class_weight=balanced, max_depth=20, min_samples_leaf=10, min_samples_split=10, n_estimators=250; total time=   1.0s\n",
      "[CV] END bootstrap=True, class_weight=balanced, max_depth=30, min_samples_leaf=2, min_samples_split=5, n_estimators=100; total time=   0.5s\n",
      "[CV] END bootstrap=True, class_weight=balanced, max_depth=20, min_samples_leaf=10, min_samples_split=10, n_estimators=250; total time=   1.0s\n",
      "[CV] END bootstrap=True, class_weight=balanced, max_depth=20, min_samples_leaf=10, min_samples_split=10, n_estimators=250; total time=   1.0s\n",
      "[CV] END bootstrap=True, class_weight=balanced, max_depth=20, min_samples_leaf=10, min_samples_split=10, n_estimators=250; total time=   1.0s\n",
      "[CV] END bootstrap=True, class_weight=balanced, max_depth=30, min_samples_leaf=2, min_samples_split=5, n_estimators=100; total time=   0.5s\n",
      "[CV] END bootstrap=True, class_weight=balanced, max_depth=20, min_samples_leaf=10, min_samples_split=10, n_estimators=250; total time=   1.0s\n",
      "[CV] END bootstrap=True, class_weight=balanced, max_depth=30, min_samples_leaf=2, min_samples_split=5, n_estimators=100; total time=   0.5s\n",
      "[CV] END bootstrap=True, class_weight=balanced, max_depth=30, min_samples_leaf=2, min_samples_split=5, n_estimators=100; total time=   0.5s\n",
      "[CV] END bootstrap=True, class_weight=balanced, max_depth=30, min_samples_leaf=2, min_samples_split=5, n_estimators=100; total time=   0.5s\n",
      "[CV] END bootstrap=True, class_weight=balanced, max_depth=30, min_samples_leaf=2, min_samples_split=5, n_estimators=200; total time=   0.9s\n",
      "[CV] END bootstrap=True, class_weight=balanced, max_depth=30, min_samples_leaf=2, min_samples_split=5, n_estimators=200; total time=   0.9s\n",
      "[CV] END bootstrap=True, class_weight=balanced, max_depth=30, min_samples_leaf=2, min_samples_split=5, n_estimators=200; total time=   0.9s\n",
      "[CV] END bootstrap=True, class_weight=balanced, max_depth=30, min_samples_leaf=2, min_samples_split=5, n_estimators=200; total time=   0.9s\n",
      "[CV] END bootstrap=True, class_weight=balanced, max_depth=30, min_samples_leaf=2, min_samples_split=5, n_estimators=200; total time=   0.9s\n",
      "[CV] END bootstrap=True, class_weight=balanced, max_depth=30, min_samples_leaf=2, min_samples_split=5, n_estimators=250; total time=   1.2s\n",
      "[CV] END bootstrap=True, class_weight=balanced, max_depth=30, min_samples_leaf=2, min_samples_split=10, n_estimators=100; total time=   0.5s\n",
      "[CV] END bootstrap=True, class_weight=balanced, max_depth=30, min_samples_leaf=2, min_samples_split=10, n_estimators=100; total time=   0.5s\n",
      "[CV] END bootstrap=True, class_weight=balanced, max_depth=30, min_samples_leaf=2, min_samples_split=5, n_estimators=250; total time=   1.2s\n",
      "[CV] END bootstrap=True, class_weight=balanced, max_depth=30, min_samples_leaf=2, min_samples_split=5, n_estimators=250; total time=   1.2s\n",
      "[CV] END bootstrap=True, class_weight=balanced, max_depth=30, min_samples_leaf=2, min_samples_split=5, n_estimators=250; total time=   1.1s\n",
      "[CV] END bootstrap=True, class_weight=balanced, max_depth=30, min_samples_leaf=2, min_samples_split=10, n_estimators=100; total time=   0.5s\n",
      "[CV] END bootstrap=True, class_weight=balanced, max_depth=30, min_samples_leaf=2, min_samples_split=5, n_estimators=250; total time=   1.1s\n",
      "[CV] END bootstrap=True, class_weight=balanced, max_depth=30, min_samples_leaf=2, min_samples_split=10, n_estimators=100; total time=   0.5s\n",
      "[CV] END bootstrap=True, class_weight=balanced, max_depth=30, min_samples_leaf=2, min_samples_split=10, n_estimators=100; total time=   0.5s\n",
      "[CV] END bootstrap=True, class_weight=balanced, max_depth=30, min_samples_leaf=2, min_samples_split=10, n_estimators=200; total time=   0.9s\n",
      "[CV] END bootstrap=True, class_weight=balanced, max_depth=30, min_samples_leaf=2, min_samples_split=10, n_estimators=200; total time=   0.9s\n",
      "[CV] END bootstrap=True, class_weight=balanced, max_depth=30, min_samples_leaf=2, min_samples_split=10, n_estimators=200; total time=   0.9s\n",
      "[CV] END bootstrap=True, class_weight=balanced, max_depth=30, min_samples_leaf=2, min_samples_split=10, n_estimators=200; total time=   0.9s\n",
      "[CV] END bootstrap=True, class_weight=balanced, max_depth=30, min_samples_leaf=2, min_samples_split=10, n_estimators=200; total time=   0.9s\n",
      "[CV] END bootstrap=True, class_weight=balanced, max_depth=30, min_samples_leaf=2, min_samples_split=10, n_estimators=250; total time=   1.1s\n",
      "[CV] END bootstrap=True, class_weight=balanced, max_depth=30, min_samples_leaf=5, min_samples_split=5, n_estimators=100; total time=   0.4s\n",
      "[CV] END bootstrap=True, class_weight=balanced, max_depth=30, min_samples_leaf=5, min_samples_split=5, n_estimators=100; total time=   0.4s\n",
      "[CV] END bootstrap=True, class_weight=balanced, max_depth=30, min_samples_leaf=2, min_samples_split=10, n_estimators=250; total time=   1.1s\n",
      "[CV] END bootstrap=True, class_weight=balanced, max_depth=30, min_samples_leaf=2, min_samples_split=10, n_estimators=250; total time=   1.1s\n",
      "[CV] END bootstrap=True, class_weight=balanced, max_depth=30, min_samples_leaf=2, min_samples_split=10, n_estimators=250; total time=   1.1s\n",
      "[CV] END bootstrap=True, class_weight=balanced, max_depth=30, min_samples_leaf=2, min_samples_split=10, n_estimators=250; total time=   1.1s\n",
      "[CV] END bootstrap=True, class_weight=balanced, max_depth=30, min_samples_leaf=5, min_samples_split=5, n_estimators=100; total time=   0.4s\n",
      "[CV] END bootstrap=True, class_weight=balanced, max_depth=30, min_samples_leaf=5, min_samples_split=5, n_estimators=100; total time=   0.4s\n",
      "[CV] END bootstrap=True, class_weight=balanced, max_depth=30, min_samples_leaf=5, min_samples_split=5, n_estimators=100; total time=   0.4s\n",
      "[CV] END bootstrap=True, class_weight=balanced, max_depth=30, min_samples_leaf=5, min_samples_split=5, n_estimators=200; total time=   0.9s\n",
      "[CV] END bootstrap=True, class_weight=balanced, max_depth=30, min_samples_leaf=5, min_samples_split=5, n_estimators=200; total time=   0.9s\n",
      "[CV] END bootstrap=True, class_weight=balanced, max_depth=30, min_samples_leaf=5, min_samples_split=5, n_estimators=200; total time=   0.9s\n",
      "[CV] END bootstrap=True, class_weight=balanced, max_depth=30, min_samples_leaf=5, min_samples_split=5, n_estimators=200; total time=   0.9s\n",
      "[CV] END bootstrap=True, class_weight=balanced, max_depth=30, min_samples_leaf=5, min_samples_split=5, n_estimators=200; total time=   0.9s\n",
      "[CV] END bootstrap=True, class_weight=balanced, max_depth=30, min_samples_leaf=5, min_samples_split=5, n_estimators=250; total time=   1.1s\n",
      "[CV] END bootstrap=True, class_weight=balanced, max_depth=30, min_samples_leaf=5, min_samples_split=10, n_estimators=100; total time=   0.4s\n",
      "[CV] END bootstrap=True, class_weight=balanced, max_depth=30, min_samples_leaf=5, min_samples_split=5, n_estimators=250; total time=   1.1s\n",
      "[CV] END bootstrap=True, class_weight=balanced, max_depth=30, min_samples_leaf=5, min_samples_split=10, n_estimators=100; total time=   0.4s\n",
      "[CV] END bootstrap=True, class_weight=balanced, max_depth=30, min_samples_leaf=5, min_samples_split=5, n_estimators=250; total time=   1.1s\n",
      "[CV] END bootstrap=True, class_weight=balanced, max_depth=30, min_samples_leaf=5, min_samples_split=5, n_estimators=250; total time=   1.1s\n",
      "[CV] END bootstrap=True, class_weight=balanced, max_depth=30, min_samples_leaf=5, min_samples_split=5, n_estimators=250; total time=   1.1s\n",
      "[CV] END bootstrap=True, class_weight=balanced, max_depth=30, min_samples_leaf=5, min_samples_split=10, n_estimators=100; total time=   0.4s\n",
      "[CV] END bootstrap=True, class_weight=balanced, max_depth=30, min_samples_leaf=5, min_samples_split=10, n_estimators=100; total time=   0.4s\n",
      "[CV] END bootstrap=True, class_weight=balanced, max_depth=30, min_samples_leaf=5, min_samples_split=10, n_estimators=100; total time=   0.4s\n",
      "[CV] END bootstrap=True, class_weight=balanced, max_depth=30, min_samples_leaf=5, min_samples_split=10, n_estimators=200; total time=   0.9s\n",
      "[CV] END bootstrap=True, class_weight=balanced, max_depth=30, min_samples_leaf=5, min_samples_split=10, n_estimators=200; total time=   0.9s\n",
      "[CV] END bootstrap=True, class_weight=balanced, max_depth=30, min_samples_leaf=5, min_samples_split=10, n_estimators=200; total time=   0.9s\n",
      "[CV] END bootstrap=True, class_weight=balanced, max_depth=30, min_samples_leaf=5, min_samples_split=10, n_estimators=200; total time=   0.9s\n",
      "[CV] END bootstrap=True, class_weight=balanced, max_depth=30, min_samples_leaf=5, min_samples_split=10, n_estimators=200; total time=   0.9s\n",
      "[CV] END bootstrap=True, class_weight=balanced, max_depth=30, min_samples_leaf=5, min_samples_split=10, n_estimators=250; total time=   1.1s\n",
      "[CV] END bootstrap=True, class_weight=balanced, max_depth=30, min_samples_leaf=10, min_samples_split=5, n_estimators=100; total time=   0.4s\n",
      "[CV] END bootstrap=True, class_weight=balanced, max_depth=30, min_samples_leaf=10, min_samples_split=5, n_estimators=100; total time=   0.4s\n",
      "[CV] END bootstrap=True, class_weight=balanced, max_depth=30, min_samples_leaf=5, min_samples_split=10, n_estimators=250; total time=   1.1s\n",
      "[CV] END bootstrap=True, class_weight=balanced, max_depth=30, min_samples_leaf=5, min_samples_split=10, n_estimators=250; total time=   1.1s\n",
      "[CV] END bootstrap=True, class_weight=balanced, max_depth=30, min_samples_leaf=5, min_samples_split=10, n_estimators=250; total time=   1.1s\n",
      "[CV] END bootstrap=True, class_weight=balanced, max_depth=30, min_samples_leaf=5, min_samples_split=10, n_estimators=250; total time=   1.1s\n",
      "[CV] END bootstrap=True, class_weight=balanced, max_depth=30, min_samples_leaf=10, min_samples_split=5, n_estimators=100; total time=   0.4s\n",
      "[CV] END bootstrap=True, class_weight=balanced, max_depth=30, min_samples_leaf=10, min_samples_split=5, n_estimators=100; total time=   0.4s\n",
      "[CV] END bootstrap=True, class_weight=balanced, max_depth=30, min_samples_leaf=10, min_samples_split=5, n_estimators=100; total time=   0.4s\n",
      "[CV] END bootstrap=True, class_weight=balanced, max_depth=30, min_samples_leaf=10, min_samples_split=5, n_estimators=200; total time=   0.8s\n",
      "[CV] END bootstrap=True, class_weight=balanced, max_depth=30, min_samples_leaf=10, min_samples_split=5, n_estimators=200; total time=   0.8s\n",
      "[CV] END bootstrap=True, class_weight=balanced, max_depth=30, min_samples_leaf=10, min_samples_split=5, n_estimators=200; total time=   0.8s\n",
      "[CV] END bootstrap=True, class_weight=balanced, max_depth=30, min_samples_leaf=10, min_samples_split=5, n_estimators=200; total time=   0.8s\n",
      "[CV] END bootstrap=True, class_weight=balanced, max_depth=30, min_samples_leaf=10, min_samples_split=5, n_estimators=200; total time=   0.8s\n",
      "[CV] END bootstrap=True, class_weight=balanced, max_depth=30, min_samples_leaf=10, min_samples_split=5, n_estimators=250; total time=   1.0s\n",
      "[CV] END bootstrap=True, class_weight=balanced, max_depth=30, min_samples_leaf=10, min_samples_split=10, n_estimators=100; total time=   0.4s\n",
      "[CV] END bootstrap=True, class_weight=balanced, max_depth=30, min_samples_leaf=10, min_samples_split=5, n_estimators=250; total time=   1.0s\n",
      "[CV] END bootstrap=True, class_weight=balanced, max_depth=30, min_samples_leaf=10, min_samples_split=10, n_estimators=100; total time=   0.4s\n",
      "[CV] END bootstrap=True, class_weight=balanced, max_depth=30, min_samples_leaf=10, min_samples_split=5, n_estimators=250; total time=   1.0s\n",
      "[CV] END bootstrap=True, class_weight=balanced, max_depth=30, min_samples_leaf=10, min_samples_split=5, n_estimators=250; total time=   1.0s\n",
      "[CV] END bootstrap=True, class_weight=balanced, max_depth=30, min_samples_leaf=10, min_samples_split=5, n_estimators=250; total time=   1.0s\n",
      "[CV] END bootstrap=True, class_weight=balanced, max_depth=30, min_samples_leaf=10, min_samples_split=10, n_estimators=100; total time=   0.4s\n",
      "[CV] END bootstrap=True, class_weight=balanced, max_depth=30, min_samples_leaf=10, min_samples_split=10, n_estimators=100; total time=   0.4s\n",
      "[CV] END bootstrap=True, class_weight=balanced, max_depth=30, min_samples_leaf=10, min_samples_split=10, n_estimators=100; total time=   0.4s\n",
      "[CV] END bootstrap=True, class_weight=balanced, max_depth=30, min_samples_leaf=10, min_samples_split=10, n_estimators=200; total time=   0.8s\n",
      "[CV] END bootstrap=True, class_weight=balanced, max_depth=30, min_samples_leaf=10, min_samples_split=10, n_estimators=200; total time=   0.8s\n",
      "[CV] END bootstrap=True, class_weight=balanced, max_depth=30, min_samples_leaf=10, min_samples_split=10, n_estimators=200; total time=   0.8s\n",
      "[CV] END bootstrap=True, class_weight=balanced, max_depth=30, min_samples_leaf=10, min_samples_split=10, n_estimators=200; total time=   0.8s\n",
      "[CV] END bootstrap=True, class_weight=balanced, max_depth=30, min_samples_leaf=10, min_samples_split=10, n_estimators=200; total time=   0.8s\n",
      "[CV] END bootstrap=True, class_weight=balanced, max_depth=30, min_samples_leaf=10, min_samples_split=10, n_estimators=250; total time=   1.0s\n",
      "[CV] END bootstrap=True, class_weight=balanced, max_depth=30, min_samples_leaf=10, min_samples_split=10, n_estimators=250; total time=   1.0s\n",
      "[CV] END bootstrap=True, class_weight=balanced, max_depth=30, min_samples_leaf=10, min_samples_split=10, n_estimators=250; total time=   1.0s\n",
      "[CV] END bootstrap=True, class_weight=balanced, max_depth=30, min_samples_leaf=10, min_samples_split=10, n_estimators=250; total time=   1.0s\n",
      "[CV] END bootstrap=True, class_weight=balanced, max_depth=30, min_samples_leaf=10, min_samples_split=10, n_estimators=250; total time=   1.0s\n",
      "RandomForestClassifier(bootstrap=False, max_depth=30, min_samples_leaf=2,\n",
      "                       min_samples_split=10, random_state=42)\n"
     ]
    }
   ],
   "source": [
    "def hyper_tune_random_forest(df_train):\n",
    "  X = df_train.drop(\"Claim over 1k\", axis=1)\n",
    "  y = df_train[\"Claim over 1k\"]\n",
    "  X_train_scaled, X_test_scaled, y_train, y_test = get_train_params(X, y, 0.2)\n",
    "  # Step 2: Define the model\n",
    "  rf_classifier = RandomForestClassifier(random_state=42)\n",
    "\n",
    "  # Step 3: Specify hyperparameters to tune\n",
    "  param_grid = {\n",
    "    'n_estimators': [100, 200, 250],          # Number of trees\n",
    "    'max_depth': [10, 20, 30],             # Maximum depth of the trees\n",
    "    'min_samples_split': [5, 10],         # Minimum samples to split an internal node\n",
    "    'min_samples_leaf': [2, 5, 10],          # Minimum samples at a leaf node\n",
    "    'bootstrap': [False, True],\n",
    "    'class_weight': [None, 'balanced']\n",
    "  }\n",
    "\n",
    "  # Step 4: Set up GridSearchCV\n",
    "  grid_search = GridSearchCV(estimator=rf_classifier, param_grid=param_grid,\n",
    "                 cv=5, n_jobs=-1, verbose=2, scoring='accuracy')\n",
    "\n",
    "  # Step 5: Fit the model\n",
    "  grid_search.fit(X_train_scaled, y_train)\n",
    "\n",
    "  # Step 6: Evaluate the best model\n",
    "  best_model = grid_search.best_estimator_\n",
    "  \n",
    "  return best_model\n",
    "# best_model = hyper_tune_random_forest(df_process)\n",
    "# print(best_model)"
   ]
  },
  {
   "cell_type": "code",
   "execution_count": null,
   "metadata": {},
   "outputs": [],
   "source": []
  }
 ],
 "metadata": {
  "kernelspec": {
   "display_name": "base",
   "language": "python",
   "name": "python3"
  },
  "language_info": {
   "codemirror_mode": {
    "name": "ipython",
    "version": 3
   },
   "file_extension": ".py",
   "mimetype": "text/x-python",
   "name": "python",
   "nbconvert_exporter": "python",
   "pygments_lexer": "ipython3",
   "version": "3.12.4"
  }
 },
 "nbformat": 4,
 "nbformat_minor": 2
}
