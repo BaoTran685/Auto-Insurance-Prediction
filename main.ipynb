{
 "cells": [
  {
   "cell_type": "code",
   "execution_count": 4346,
   "metadata": {},
   "outputs": [],
   "source": [
    "# for data manipulation\n",
    "import pandas as pd\n",
    "import numpy as np\n",
    "# for plotting\n",
    "import matplotlib.pyplot as plt\n",
    "import plotly.express as px\n",
    "import plotly.graph_objects as go # note that github wont be able to display these plots because they are interactive\n",
    "# for some processing\n",
    "import math\n",
    "from datetime import datetime, timedelta"
   ]
  },
  {
   "cell_type": "code",
   "execution_count": 4347,
   "metadata": {},
   "outputs": [],
   "source": [
    "from suppress_output import *"
   ]
  },
  {
   "cell_type": "code",
   "execution_count": 4348,
   "metadata": {},
   "outputs": [],
   "source": [
    "from sklearn.neural_network import MLPClassifier\n",
    "from sklearn.model_selection import train_test_split, GridSearchCV\n",
    "from sklearn.linear_model import LogisticRegression\n",
    "from sklearn.ensemble import RandomForestClassifier\n",
    "from sklearn.preprocessing import StandardScaler, MinMaxScaler\n",
    "from sklearn.metrics import accuracy_score, f1_score, confusion_matrix, classification_report, make_scorer\n",
    "from sklearn.utils import resample"
   ]
  },
  {
   "cell_type": "code",
   "execution_count": 4349,
   "metadata": {},
   "outputs": [
    {
     "data": {
      "text/html": [
       "<div>\n",
       "<style scoped>\n",
       "    .dataframe tbody tr th:only-of-type {\n",
       "        vertical-align: middle;\n",
       "    }\n",
       "\n",
       "    .dataframe tbody tr th {\n",
       "        vertical-align: top;\n",
       "    }\n",
       "\n",
       "    .dataframe thead th {\n",
       "        text-align: right;\n",
       "    }\n",
       "</style>\n",
       "<table border=\"1\" class=\"dataframe\">\n",
       "  <thead>\n",
       "    <tr style=\"text-align: right;\">\n",
       "      <th></th>\n",
       "      <th>CustomerID</th>\n",
       "      <th>State</th>\n",
       "      <th>Customer Lifetime Value</th>\n",
       "      <th>Response</th>\n",
       "      <th>Coverage</th>\n",
       "      <th>Coverage Index</th>\n",
       "      <th>Education</th>\n",
       "      <th>Education Index</th>\n",
       "      <th>Effective To Date</th>\n",
       "      <th>Employment Status</th>\n",
       "      <th>...</th>\n",
       "      <th>Policy Type</th>\n",
       "      <th>Policy Type Index</th>\n",
       "      <th>Policy</th>\n",
       "      <th>Policy Index</th>\n",
       "      <th>Renew Offer Type</th>\n",
       "      <th>Sales Channel</th>\n",
       "      <th>Sales Channel Index</th>\n",
       "      <th>Vehicle Size</th>\n",
       "      <th>Vehicle Size Index</th>\n",
       "      <th>Claim over 1k</th>\n",
       "    </tr>\n",
       "  </thead>\n",
       "  <tbody>\n",
       "    <tr>\n",
       "      <th>0</th>\n",
       "      <td>QC35222</td>\n",
       "      <td>California</td>\n",
       "      <td>3622.69</td>\n",
       "      <td>No</td>\n",
       "      <td>Basic</td>\n",
       "      <td>0</td>\n",
       "      <td>Bachelor</td>\n",
       "      <td>2</td>\n",
       "      <td>1/1/2024</td>\n",
       "      <td>Employed</td>\n",
       "      <td>...</td>\n",
       "      <td>Corporate Auto</td>\n",
       "      <td>1</td>\n",
       "      <td>Corporate L2</td>\n",
       "      <td>4</td>\n",
       "      <td>3</td>\n",
       "      <td>Web</td>\n",
       "      <td>0</td>\n",
       "      <td>Medsize</td>\n",
       "      <td>1</td>\n",
       "      <td>0</td>\n",
       "    </tr>\n",
       "    <tr>\n",
       "      <th>1</th>\n",
       "      <td>AE98193</td>\n",
       "      <td>Washington</td>\n",
       "      <td>10610.21</td>\n",
       "      <td>No</td>\n",
       "      <td>Basic</td>\n",
       "      <td>0</td>\n",
       "      <td>High School or Below</td>\n",
       "      <td>0</td>\n",
       "      <td>1/1/2024</td>\n",
       "      <td>Unemployed</td>\n",
       "      <td>...</td>\n",
       "      <td>Personal Auto</td>\n",
       "      <td>0</td>\n",
       "      <td>Personal L1</td>\n",
       "      <td>0</td>\n",
       "      <td>1</td>\n",
       "      <td>Branch</td>\n",
       "      <td>1</td>\n",
       "      <td>Medsize</td>\n",
       "      <td>1</td>\n",
       "      <td>1</td>\n",
       "    </tr>\n",
       "    <tr>\n",
       "      <th>2</th>\n",
       "      <td>TM23514</td>\n",
       "      <td>Oregon</td>\n",
       "      <td>13868.02</td>\n",
       "      <td>No</td>\n",
       "      <td>Extended</td>\n",
       "      <td>1</td>\n",
       "      <td>College</td>\n",
       "      <td>1</td>\n",
       "      <td>1/1/2024</td>\n",
       "      <td>Employed</td>\n",
       "      <td>...</td>\n",
       "      <td>Personal Auto</td>\n",
       "      <td>0</td>\n",
       "      <td>Personal L3</td>\n",
       "      <td>2</td>\n",
       "      <td>3</td>\n",
       "      <td>Web</td>\n",
       "      <td>0</td>\n",
       "      <td>Medsize</td>\n",
       "      <td>1</td>\n",
       "      <td>0</td>\n",
       "    </tr>\n",
       "    <tr>\n",
       "      <th>3</th>\n",
       "      <td>QZ42725</td>\n",
       "      <td>Washington</td>\n",
       "      <td>3119.69</td>\n",
       "      <td>No</td>\n",
       "      <td>Basic</td>\n",
       "      <td>0</td>\n",
       "      <td>Bachelor</td>\n",
       "      <td>2</td>\n",
       "      <td>1/1/2024</td>\n",
       "      <td>Unemployed</td>\n",
       "      <td>...</td>\n",
       "      <td>Personal Auto</td>\n",
       "      <td>0</td>\n",
       "      <td>Personal L3</td>\n",
       "      <td>2</td>\n",
       "      <td>2</td>\n",
       "      <td>Agent</td>\n",
       "      <td>2</td>\n",
       "      <td>Medsize</td>\n",
       "      <td>1</td>\n",
       "      <td>0</td>\n",
       "    </tr>\n",
       "    <tr>\n",
       "      <th>4</th>\n",
       "      <td>SG81493</td>\n",
       "      <td>Arizona</td>\n",
       "      <td>5999.04</td>\n",
       "      <td>No</td>\n",
       "      <td>Premium</td>\n",
       "      <td>2</td>\n",
       "      <td>Bachelor</td>\n",
       "      <td>2</td>\n",
       "      <td>1/1/2024</td>\n",
       "      <td>Employed</td>\n",
       "      <td>...</td>\n",
       "      <td>Corporate Auto</td>\n",
       "      <td>1</td>\n",
       "      <td>Corporate L1</td>\n",
       "      <td>3</td>\n",
       "      <td>2</td>\n",
       "      <td>Web</td>\n",
       "      <td>0</td>\n",
       "      <td>Medsize</td>\n",
       "      <td>1</td>\n",
       "      <td>0</td>\n",
       "    </tr>\n",
       "    <tr>\n",
       "      <th>...</th>\n",
       "      <td>...</td>\n",
       "      <td>...</td>\n",
       "      <td>...</td>\n",
       "      <td>...</td>\n",
       "      <td>...</td>\n",
       "      <td>...</td>\n",
       "      <td>...</td>\n",
       "      <td>...</td>\n",
       "      <td>...</td>\n",
       "      <td>...</td>\n",
       "      <td>...</td>\n",
       "      <td>...</td>\n",
       "      <td>...</td>\n",
       "      <td>...</td>\n",
       "      <td>...</td>\n",
       "      <td>...</td>\n",
       "      <td>...</td>\n",
       "      <td>...</td>\n",
       "      <td>...</td>\n",
       "      <td>...</td>\n",
       "      <td>...</td>\n",
       "    </tr>\n",
       "    <tr>\n",
       "      <th>7285</th>\n",
       "      <td>HC90344</td>\n",
       "      <td>California</td>\n",
       "      <td>27500.54</td>\n",
       "      <td>No</td>\n",
       "      <td>Basic</td>\n",
       "      <td>0</td>\n",
       "      <td>Bachelor</td>\n",
       "      <td>2</td>\n",
       "      <td>9/2/2024</td>\n",
       "      <td>Unemployed</td>\n",
       "      <td>...</td>\n",
       "      <td>Corporate Auto</td>\n",
       "      <td>1</td>\n",
       "      <td>Corporate L2</td>\n",
       "      <td>4</td>\n",
       "      <td>1</td>\n",
       "      <td>Branch</td>\n",
       "      <td>1</td>\n",
       "      <td>Medsize</td>\n",
       "      <td>1</td>\n",
       "      <td>0</td>\n",
       "    </tr>\n",
       "    <tr>\n",
       "      <th>7286</th>\n",
       "      <td>ZU83252</td>\n",
       "      <td>California</td>\n",
       "      <td>11750.03</td>\n",
       "      <td>No</td>\n",
       "      <td>Basic</td>\n",
       "      <td>0</td>\n",
       "      <td>Master</td>\n",
       "      <td>3</td>\n",
       "      <td>9/2/2024</td>\n",
       "      <td>Employed</td>\n",
       "      <td>...</td>\n",
       "      <td>Personal Auto</td>\n",
       "      <td>0</td>\n",
       "      <td>Personal L3</td>\n",
       "      <td>2</td>\n",
       "      <td>3</td>\n",
       "      <td>Web</td>\n",
       "      <td>0</td>\n",
       "      <td>Medsize</td>\n",
       "      <td>1</td>\n",
       "      <td>0</td>\n",
       "    </tr>\n",
       "    <tr>\n",
       "      <th>7287</th>\n",
       "      <td>PR80703</td>\n",
       "      <td>California</td>\n",
       "      <td>7757.04</td>\n",
       "      <td>No</td>\n",
       "      <td>Basic</td>\n",
       "      <td>0</td>\n",
       "      <td>Bachelor</td>\n",
       "      <td>2</td>\n",
       "      <td>9/2/2024</td>\n",
       "      <td>Employed</td>\n",
       "      <td>...</td>\n",
       "      <td>Personal Auto</td>\n",
       "      <td>0</td>\n",
       "      <td>Personal L3</td>\n",
       "      <td>2</td>\n",
       "      <td>1</td>\n",
       "      <td>Branch</td>\n",
       "      <td>1</td>\n",
       "      <td>Medsize</td>\n",
       "      <td>1</td>\n",
       "      <td>0</td>\n",
       "    </tr>\n",
       "    <tr>\n",
       "      <th>7288</th>\n",
       "      <td>NS23754</td>\n",
       "      <td>California</td>\n",
       "      <td>3465.16</td>\n",
       "      <td>No</td>\n",
       "      <td>Basic</td>\n",
       "      <td>0</td>\n",
       "      <td>High School or Below</td>\n",
       "      <td>0</td>\n",
       "      <td>9/2/2024</td>\n",
       "      <td>Employed</td>\n",
       "      <td>...</td>\n",
       "      <td>Corporate Auto</td>\n",
       "      <td>1</td>\n",
       "      <td>Corporate L3</td>\n",
       "      <td>5</td>\n",
       "      <td>3</td>\n",
       "      <td>Call Center</td>\n",
       "      <td>3</td>\n",
       "      <td>Large</td>\n",
       "      <td>2</td>\n",
       "      <td>0</td>\n",
       "    </tr>\n",
       "    <tr>\n",
       "      <th>7289</th>\n",
       "      <td>QO56615</td>\n",
       "      <td>California</td>\n",
       "      <td>4023.01</td>\n",
       "      <td>No</td>\n",
       "      <td>Extended</td>\n",
       "      <td>1</td>\n",
       "      <td>College</td>\n",
       "      <td>1</td>\n",
       "      <td>9/2/2024</td>\n",
       "      <td>Medical Leave</td>\n",
       "      <td>...</td>\n",
       "      <td>Personal Auto</td>\n",
       "      <td>0</td>\n",
       "      <td>Personal L3</td>\n",
       "      <td>2</td>\n",
       "      <td>2</td>\n",
       "      <td>Agent</td>\n",
       "      <td>2</td>\n",
       "      <td>Small</td>\n",
       "      <td>0</td>\n",
       "      <td>0</td>\n",
       "    </tr>\n",
       "  </tbody>\n",
       "</table>\n",
       "<p>7290 rows × 29 columns</p>\n",
       "</div>"
      ],
      "text/plain": [
       "     CustomerID       State  Customer Lifetime Value Response  Coverage  \\\n",
       "0       QC35222  California                  3622.69       No     Basic   \n",
       "1       AE98193  Washington                 10610.21       No     Basic   \n",
       "2       TM23514      Oregon                 13868.02       No  Extended   \n",
       "3       QZ42725  Washington                  3119.69       No     Basic   \n",
       "4       SG81493     Arizona                  5999.04       No   Premium   \n",
       "...         ...         ...                      ...      ...       ...   \n",
       "7285    HC90344  California                 27500.54       No     Basic   \n",
       "7286    ZU83252  California                 11750.03       No     Basic   \n",
       "7287    PR80703  California                  7757.04       No     Basic   \n",
       "7288    NS23754  California                  3465.16       No     Basic   \n",
       "7289    QO56615  California                  4023.01       No  Extended   \n",
       "\n",
       "      Coverage Index             Education  Education Index Effective To Date  \\\n",
       "0                  0              Bachelor                2          1/1/2024   \n",
       "1                  0  High School or Below                0          1/1/2024   \n",
       "2                  1               College                1          1/1/2024   \n",
       "3                  0              Bachelor                2          1/1/2024   \n",
       "4                  2              Bachelor                2          1/1/2024   \n",
       "...              ...                   ...              ...               ...   \n",
       "7285               0              Bachelor                2          9/2/2024   \n",
       "7286               0                Master                3          9/2/2024   \n",
       "7287               0              Bachelor                2          9/2/2024   \n",
       "7288               0  High School or Below                0          9/2/2024   \n",
       "7289               1               College                1          9/2/2024   \n",
       "\n",
       "     Employment Status  ...     Policy Type Policy Type Index        Policy  \\\n",
       "0             Employed  ...  Corporate Auto                 1  Corporate L2   \n",
       "1           Unemployed  ...   Personal Auto                 0   Personal L1   \n",
       "2             Employed  ...   Personal Auto                 0   Personal L3   \n",
       "3           Unemployed  ...   Personal Auto                 0   Personal L3   \n",
       "4             Employed  ...  Corporate Auto                 1  Corporate L1   \n",
       "...                ...  ...             ...               ...           ...   \n",
       "7285        Unemployed  ...  Corporate Auto                 1  Corporate L2   \n",
       "7286          Employed  ...   Personal Auto                 0   Personal L3   \n",
       "7287          Employed  ...   Personal Auto                 0   Personal L3   \n",
       "7288          Employed  ...  Corporate Auto                 1  Corporate L3   \n",
       "7289     Medical Leave  ...   Personal Auto                 0   Personal L3   \n",
       "\n",
       "     Policy Index  Renew Offer Type  Sales Channel  Sales Channel Index  \\\n",
       "0               4                 3            Web                    0   \n",
       "1               0                 1         Branch                    1   \n",
       "2               2                 3            Web                    0   \n",
       "3               2                 2          Agent                    2   \n",
       "4               3                 2            Web                    0   \n",
       "...           ...               ...            ...                  ...   \n",
       "7285            4                 1         Branch                    1   \n",
       "7286            2                 3            Web                    0   \n",
       "7287            2                 1         Branch                    1   \n",
       "7288            5                 3    Call Center                    3   \n",
       "7289            2                 2          Agent                    2   \n",
       "\n",
       "      Vehicle Size  Vehicle Size Index Claim over 1k  \n",
       "0          Medsize                   1             0  \n",
       "1          Medsize                   1             1  \n",
       "2          Medsize                   1             0  \n",
       "3          Medsize                   1             0  \n",
       "4          Medsize                   1             0  \n",
       "...            ...                 ...           ...  \n",
       "7285       Medsize                   1             0  \n",
       "7286       Medsize                   1             0  \n",
       "7287       Medsize                   1             0  \n",
       "7288         Large                   2             0  \n",
       "7289         Small                   0             0  \n",
       "\n",
       "[7290 rows x 29 columns]"
      ]
     },
     "execution_count": 4349,
     "metadata": {},
     "output_type": "execute_result"
    }
   ],
   "source": [
    "folder = \"kaggle/input/\"\n",
    "df = pd.read_csv(folder + \"train.csv\")\n",
    "df"
   ]
  },
  {
   "cell_type": "code",
   "execution_count": 4350,
   "metadata": {},
   "outputs": [
    {
     "name": "stdout",
     "output_type": "stream",
     "text": [
      "<class 'pandas.core.frame.DataFrame'>\n",
      "RangeIndex: 7290 entries, 0 to 7289\n",
      "Data columns (total 20 columns):\n",
      " #   Column                         Non-Null Count  Dtype  \n",
      "---  ------                         --------------  -----  \n",
      " 0   State                          7290 non-null   object \n",
      " 1   Customer Lifetime Value        7290 non-null   float64\n",
      " 2   Response                       7290 non-null   object \n",
      " 3   Coverage Index                 7290 non-null   int64  \n",
      " 4   Education Index                7290 non-null   int64  \n",
      " 5   Effective To Date              7290 non-null   object \n",
      " 6   Employment Status Index        7290 non-null   int64  \n",
      " 7   Gender                         7290 non-null   object \n",
      " 8   Income                         7290 non-null   int64  \n",
      " 9   Marital Status Index           7290 non-null   int64  \n",
      " 10  Months Since Last Claim        7290 non-null   int64  \n",
      " 11  Months Since Policy Inception  7290 non-null   int64  \n",
      " 12  Number of Open Complaints      7290 non-null   int64  \n",
      " 13  Number of Policies             7290 non-null   int64  \n",
      " 14  Policy Type Index              7290 non-null   int64  \n",
      " 15  Policy Index                   7290 non-null   int64  \n",
      " 16  Renew Offer Type               7290 non-null   int64  \n",
      " 17  Sales Channel Index            7290 non-null   int64  \n",
      " 18  Vehicle Size Index             7290 non-null   int64  \n",
      " 19  Claim over 1k                  7290 non-null   int64  \n",
      "dtypes: float64(1), int64(15), object(4)\n",
      "memory usage: 1.1+ MB\n"
     ]
    }
   ],
   "source": [
    "df_train = df.drop(columns = [\"CustomerID\", \"Coverage\", \"Education\", \"Employment Status\", \"Marital Status\", \"Policy Type\", \"Policy\", \"Sales Channel\", \"Vehicle Size\"])\n",
    "df_train.info()"
   ]
  },
  {
   "cell_type": "code",
   "execution_count": 4351,
   "metadata": {},
   "outputs": [],
   "source": [
    "def numeric_info(df, col):\n",
    "  print(f\"Min of {col}: \", df[col].min())\n",
    "  print(f\"Max of {col}: \", df[col].max())\n",
    "  print(f\"Mean of {col}: \", df[col].mean())\n",
    "  print(f\"Mendian of {col}: \", df[col].median())\n",
    "  print(f\"Std of {col}: \", df[col].std())"
   ]
  },
  {
   "cell_type": "code",
   "execution_count": 4352,
   "metadata": {},
   "outputs": [
    {
     "name": "stdout",
     "output_type": "stream",
     "text": [
      "Min of Customer Lifetime Value:  2562.31\n",
      "Max of Customer Lifetime Value:  100208.5\n",
      "Mean of Customer Lifetime Value:  10798.11662277092\n",
      "Mendian of Customer Lifetime Value:  7845.015\n",
      "Std of Customer Lifetime Value:  9180.878152795805\n"
     ]
    }
   ],
   "source": [
    "numeric_info(df_train, \"Customer Lifetime Value\")"
   ]
  },
  {
   "cell_type": "code",
   "execution_count": 4353,
   "metadata": {},
   "outputs": [],
   "source": [
    "from plotly.subplots import make_subplots\n",
    "\n",
    "def relation_to_claim_over_1k(df):\n",
    "  plt.figure(figsize=(30, 80))\n",
    "  numerical_cols = df.columns.tolist()\n",
    "  not_include = [\"Customer Lifetime Value\", \"Income\", \"Claim over 1k\"]\n",
    "  numerical_cols = [col for col in numerical_cols if col not in not_include]\n",
    "  \n",
    "  number_of_rows = math.ceil(len(numerical_cols) / 2)\n",
    "  fig = make_subplots(rows = number_of_rows, cols=2, subplot_titles=numerical_cols, vertical_spacing=0.01, horizontal_spacing=0.05)\n",
    "  for idx, col in enumerate(numerical_cols):\n",
    "    df_count = df.groupby([col, \"Claim over 1k\"]).size().reset_index(name='count')\n",
    "    unique_val = df_count[col].unique()\n",
    "    i, j = (idx // 2) + 1, (idx % 2) + 1\n",
    "    for val in unique_val:\n",
    "      df_cur = df_count[df_count[col] == val]\n",
    "      fig.add_trace(\n",
    "        go.Bar(\n",
    "          x = df_cur[\"Claim over 1k\"],\n",
    "          y = df_cur[\"count\"],\n",
    "          name = f\"{val}\"\n",
    "        ),\n",
    "        row=i, col=j\n",
    "      )\n",
    "  fig.update_layout(\n",
    "      height=300 * number_of_rows,  # Adjust figure height dynamically based on the number of rows\n",
    "      showlegend=False,\n",
    "      title_text=\"How Each Column Affects 'Claim over 1k'\"\n",
    "  )\n",
    "  # Show the figure with all subplots\n",
    "  fig.show()"
   ]
  },
  {
   "cell_type": "code",
   "execution_count": 4354,
   "metadata": {},
   "outputs": [],
   "source": [
    "def binning(df, col, size):\n",
    "  df[col + \"_bin\"] = pd.qcut(df[col], q=size, labels=False, duplicates=\"drop\")\n",
    "\n",
    "def pre_process(df):\n",
    "  # State\n",
    "  unique_states = df[\"State\"].unique()\n",
    "  dict_states = {}\n",
    "  for i in range(len(unique_states)):\n",
    "    dict_states[unique_states[i]] = i\n",
    "  df[\"State\"] = df[\"State\"].apply(lambda x: dict_states[x])\n",
    "  \n",
    "  # Response\n",
    "  # note that resonse should be either yes or no\n",
    "  df[\"Response\"] = df[\"Response\"].apply(lambda x: 1 if x == \"Yes\" else 0)\n",
    "\n",
    "  # Effective To Date\n",
    "  df[\"Effective To Date\"] = pd.to_datetime(df[\"Effective To Date\"])\n",
    "  df[\"Effective To Month\"] = (df[\"Effective To Date\"].dt.month - 1) // 6 # split into 2 seasons\n",
    "\n",
    "  # Months Since Last Claim, Months Since Last Inception\n",
    "  # group them into year\n",
    "  df[\"Years Since Last Claim\"] = df[\"Months Since Last Claim\"] // 12\n",
    "  df[\"Years Since Policy Inception\"] = df[\"Months Since Policy Inception\"] // 36 # period of 2 years\n",
    "\n",
    "  # Gender\n",
    "  df[\"Gender\"] = df[\"Gender\"].apply(lambda x: 1 if x == \"M\" else 0)\n",
    "\n",
    "  # CLV\n",
    "  binning(df, \"Customer Lifetime Value\", 30)\n",
    "  binning(df, \"Income\", 5)\n",
    "\n",
    "  df.drop(columns=[\"Effective To Date\", \"Months Since Last Claim\", \"Months Since Policy Inception\", \"Customer Lifetime Value\", \"Income\"], axis=1, inplace=True)\n",
    "\n",
    "  # New col: Accident Likelihood\n",
    "  max_education_index = df[\"Education Index\"].max()\n",
    "  max_income_bin = df[\"Income_bin\"].max()\n",
    "  max_employment_status_index = df[\"Employment Status Index\"].max()\n",
    "  max_marital_status_index = df[\"Marital Status Index\"].max()\n",
    "  df[\"Accident Likelihood\"] = np.exp( 0.4 * (max_education_index - df[\"Education Index\"]) + 0.3 * (max_income_bin - df[\"Income_bin\"]) \\\n",
    "    + 0.3 * (df[\"Marital Status Index\"] == 0))\n",
    "\n",
    "  binning(df, \"Accident Likelihood\", 4)\n",
    "  df.drop(columns=[\"Accident Likelihood\"], axis=1, inplace=True)\n",
    "  return df"
   ]
  },
  {
   "cell_type": "code",
   "execution_count": 4355,
   "metadata": {},
   "outputs": [
    {
     "name": "stdout",
     "output_type": "stream",
     "text": [
      "Min of Customer Lifetime Value:  2562.31\n",
      "Max of Customer Lifetime Value:  100208.5\n",
      "Mean of Customer Lifetime Value:  10798.11662277092\n",
      "Mendian of Customer Lifetime Value:  7845.015\n",
      "Std of Customer Lifetime Value:  9180.878152795805\n",
      "Min of Income:  0\n",
      "Max of Income:  134947\n",
      "Mean of Income:  50573.28257887517\n",
      "Mendian of Income:  45398.5\n",
      "Std of Income:  41090.96814180818\n"
     ]
    }
   ],
   "source": [
    "numeric_info(df_train, \"Customer Lifetime Value\")\n",
    "numeric_info(df_train, \"Income\")"
   ]
  },
  {
   "cell_type": "code",
   "execution_count": 4356,
   "metadata": {},
   "outputs": [
    {
     "name": "stdout",
     "output_type": "stream",
     "text": [
      "<class 'pandas.core.frame.DataFrame'>\n",
      "RangeIndex: 7290 entries, 0 to 7289\n",
      "Data columns (total 21 columns):\n",
      " #   Column                        Non-Null Count  Dtype\n",
      "---  ------                        --------------  -----\n",
      " 0   State                         7290 non-null   int64\n",
      " 1   Response                      7290 non-null   int64\n",
      " 2   Coverage Index                7290 non-null   int64\n",
      " 3   Education Index               7290 non-null   int64\n",
      " 4   Employment Status Index       7290 non-null   int64\n",
      " 5   Gender                        7290 non-null   int64\n",
      " 6   Marital Status Index          7290 non-null   int64\n",
      " 7   Number of Open Complaints     7290 non-null   int64\n",
      " 8   Number of Policies            7290 non-null   int64\n",
      " 9   Policy Type Index             7290 non-null   int64\n",
      " 10  Policy Index                  7290 non-null   int64\n",
      " 11  Renew Offer Type              7290 non-null   int64\n",
      " 12  Sales Channel Index           7290 non-null   int64\n",
      " 13  Vehicle Size Index            7290 non-null   int64\n",
      " 14  Claim over 1k                 7290 non-null   int64\n",
      " 15  Effective To Month            7290 non-null   int32\n",
      " 16  Years Since Last Claim        7290 non-null   int64\n",
      " 17  Years Since Policy Inception  7290 non-null   int64\n",
      " 18  Customer Lifetime Value_bin   7290 non-null   int64\n",
      " 19  Income_bin                    7290 non-null   int64\n",
      " 20  Accident Likelihood_bin       7290 non-null   int64\n",
      "dtypes: int32(1), int64(20)\n",
      "memory usage: 1.1 MB\n"
     ]
    }
   ],
   "source": [
    "df_process = pre_process(df_train.copy())\n",
    "df_process.info()"
   ]
  },
  {
   "cell_type": "code",
   "execution_count": 4357,
   "metadata": {},
   "outputs": [
    {
     "data": {
      "application/vnd.plotly.v1+json": {
       "config": {
        "plotlyServerURL": "https://plot.ly"
       },
       "data": [
        {
         "name": "0",
         "type": "bar",
         "x": [
          0,
          1
         ],
         "xaxis": "x",
         "y": [
          2217,
          303
         ],
         "yaxis": "y"
        },
        {
         "name": "1",
         "type": "bar",
         "x": [
          0,
          1
         ],
         "xaxis": "x",
         "y": [
          560,
          72
         ],
         "yaxis": "y"
        },
        {
         "name": "2",
         "type": "bar",
         "x": [
          0,
          1
         ],
         "xaxis": "x",
         "y": [
          1827,
          250
         ],
         "yaxis": "y"
        },
        {
         "name": "3",
         "type": "bar",
         "x": [
          0,
          1
         ],
         "xaxis": "x",
         "y": [
          1217,
          136
         ],
         "yaxis": "y"
        },
        {
         "name": "4",
         "type": "bar",
         "x": [
          0,
          1
         ],
         "xaxis": "x",
         "y": [
          637,
          71
         ],
         "yaxis": "y"
        },
        {
         "name": "0",
         "type": "bar",
         "x": [
          0,
          1
         ],
         "xaxis": "x2",
         "y": [
          5511,
          754
         ],
         "yaxis": "y2"
        },
        {
         "name": "1",
         "type": "bar",
         "x": [
          0,
          1
         ],
         "xaxis": "x2",
         "y": [
          947,
          78
         ],
         "yaxis": "y2"
        },
        {
         "name": "0",
         "type": "bar",
         "x": [
          0,
          1
         ],
         "xaxis": "x3",
         "y": [
          4060,
          327
         ],
         "yaxis": "y3"
        },
        {
         "name": "1",
         "type": "bar",
         "x": [
          0,
          1
         ],
         "xaxis": "x3",
         "y": [
          1961,
          271
         ],
         "yaxis": "y3"
        },
        {
         "name": "2",
         "type": "bar",
         "x": [
          0,
          1
         ],
         "xaxis": "x3",
         "y": [
          437,
          234
         ],
         "yaxis": "y3"
        },
        {
         "name": "0",
         "type": "bar",
         "x": [
          0,
          1
         ],
         "xaxis": "x4",
         "y": [
          1763,
          323
         ],
         "yaxis": "y4"
        },
        {
         "name": "1",
         "type": "bar",
         "x": [
          0,
          1
         ],
         "xaxis": "x4",
         "y": [
          1947,
          216
         ],
         "yaxis": "y4"
        },
        {
         "name": "2",
         "type": "bar",
         "x": [
          0,
          1
         ],
         "xaxis": "x4",
         "y": [
          1923,
          252
         ],
         "yaxis": "y4"
        },
        {
         "name": "3",
         "type": "bar",
         "x": [
          0,
          1
         ],
         "xaxis": "x4",
         "y": [
          559,
          34
         ],
         "yaxis": "y4"
        },
        {
         "name": "4",
         "type": "bar",
         "x": [
          0,
          1
         ],
         "xaxis": "x4",
         "y": [
          266,
          7
         ],
         "yaxis": "y4"
        },
        {
         "name": "0",
         "type": "bar",
         "x": [
          0,
          1
         ],
         "xaxis": "x5",
         "y": [
          1410,
          458
         ],
         "yaxis": "y5"
        },
        {
         "name": "1",
         "type": "bar",
         "x": [
          0,
          1
         ],
         "xaxis": "x5",
         "y": [
          4255,
          281
         ],
         "yaxis": "y5"
        },
        {
         "name": "2",
         "type": "bar",
         "x": [
          0,
          1
         ],
         "xaxis": "x5",
         "y": [
          297,
          41
         ],
         "yaxis": "y5"
        },
        {
         "name": "3",
         "type": "bar",
         "x": [
          0,
          1
         ],
         "xaxis": "x5",
         "y": [
          205,
          14
         ],
         "yaxis": "y5"
        },
        {
         "name": "4",
         "type": "bar",
         "x": [
          0,
          1
         ],
         "xaxis": "x5",
         "y": [
          291,
          38
         ],
         "yaxis": "y5"
        },
        {
         "name": "0",
         "type": "bar",
         "x": [
          0,
          1
         ],
         "xaxis": "x6",
         "y": [
          3362,
          349
         ],
         "yaxis": "y6"
        },
        {
         "name": "1",
         "type": "bar",
         "x": [
          0,
          1
         ],
         "xaxis": "x6",
         "y": [
          3096,
          483
         ],
         "yaxis": "y6"
        },
        {
         "name": "0",
         "type": "bar",
         "x": [
          0,
          1
         ],
         "xaxis": "x7",
         "y": [
          1530,
          455
         ],
         "yaxis": "y7"
        },
        {
         "name": "1",
         "type": "bar",
         "x": [
          0,
          1
         ],
         "xaxis": "x7",
         "y": [
          3908,
          300
         ],
         "yaxis": "y7"
        },
        {
         "name": "2",
         "type": "bar",
         "x": [
          0,
          1
         ],
         "xaxis": "x7",
         "y": [
          1020,
          77
         ],
         "yaxis": "y7"
        },
        {
         "name": "0",
         "type": "bar",
         "x": [
          0,
          1
         ],
         "xaxis": "x8",
         "y": [
          5132,
          666
         ],
         "yaxis": "y8"
        },
        {
         "name": "1",
         "type": "bar",
         "x": [
          0,
          1
         ],
         "xaxis": "x8",
         "y": [
          721,
          88
         ],
         "yaxis": "y8"
        },
        {
         "name": "2",
         "type": "bar",
         "x": [
          0,
          1
         ],
         "xaxis": "x8",
         "y": [
          266,
          33
         ],
         "yaxis": "y8"
        },
        {
         "name": "3",
         "type": "bar",
         "x": [
          0,
          1
         ],
         "xaxis": "x8",
         "y": [
          205,
          20
         ],
         "yaxis": "y8"
        },
        {
         "name": "4",
         "type": "bar",
         "x": [
          0,
          1
         ],
         "xaxis": "x8",
         "y": [
          94,
          18
         ],
         "yaxis": "y8"
        },
        {
         "name": "5",
         "type": "bar",
         "x": [
          0,
          1
         ],
         "xaxis": "x8",
         "y": [
          40,
          7
         ],
         "yaxis": "y8"
        },
        {
         "name": "1",
         "type": "bar",
         "x": [
          0,
          1
         ],
         "xaxis": "x9",
         "y": [
          2281,
          308
         ],
         "yaxis": "y9"
        },
        {
         "name": "2",
         "type": "bar",
         "x": [
          0,
          1
         ],
         "xaxis": "x9",
         "y": [
          1632,
          204
         ],
         "yaxis": "y9"
        },
        {
         "name": "3",
         "type": "bar",
         "x": [
          0,
          1
         ],
         "xaxis": "x9",
         "y": [
          839,
          82
         ],
         "yaxis": "y9"
        },
        {
         "name": "4",
         "type": "bar",
         "x": [
          0,
          1
         ],
         "xaxis": "x9",
         "y": [
          284,
          41
         ],
         "yaxis": "y9"
        },
        {
         "name": "5",
         "type": "bar",
         "x": [
          0,
          1
         ],
         "xaxis": "x9",
         "y": [
          285,
          35
         ],
         "yaxis": "y9"
        },
        {
         "name": "6",
         "type": "bar",
         "x": [
          0,
          1
         ],
         "xaxis": "x9",
         "y": [
          260,
          33
         ],
         "yaxis": "y9"
        },
        {
         "name": "7",
         "type": "bar",
         "x": [
          0,
          1
         ],
         "xaxis": "x9",
         "y": [
          299,
          54
         ],
         "yaxis": "y9"
        },
        {
         "name": "8",
         "type": "bar",
         "x": [
          0,
          1
         ],
         "xaxis": "x9",
         "y": [
          269,
          45
         ],
         "yaxis": "y9"
        },
        {
         "name": "9",
         "type": "bar",
         "x": [
          0,
          1
         ],
         "xaxis": "x9",
         "y": [
          309,
          30
         ],
         "yaxis": "y9"
        },
        {
         "name": "0",
         "type": "bar",
         "x": [
          0,
          1
         ],
         "xaxis": "x10",
         "y": [
          4797,
          619
         ],
         "yaxis": "y10"
        },
        {
         "name": "1",
         "type": "bar",
         "x": [
          0,
          1
         ],
         "xaxis": "x10",
         "y": [
          1386,
          175
         ],
         "yaxis": "y10"
        },
        {
         "name": "2",
         "type": "bar",
         "x": [
          0,
          1
         ],
         "xaxis": "x10",
         "y": [
          275,
          38
         ],
         "yaxis": "y10"
        },
        {
         "name": "0",
         "type": "bar",
         "x": [
          0,
          1
         ],
         "xaxis": "x11",
         "y": [
          866,
          120
         ],
         "yaxis": "y11"
        },
        {
         "name": "1",
         "type": "bar",
         "x": [
          0,
          1
         ],
         "xaxis": "x11",
         "y": [
          1493,
          196
         ],
         "yaxis": "y11"
        },
        {
         "name": "2",
         "type": "bar",
         "x": [
          0,
          1
         ],
         "xaxis": "x11",
         "y": [
          2438,
          303
         ],
         "yaxis": "y11"
        },
        {
         "name": "3",
         "type": "bar",
         "x": [
          0,
          1
         ],
         "xaxis": "x11",
         "y": [
          265,
          33
         ],
         "yaxis": "y11"
        },
        {
         "name": "4",
         "type": "bar",
         "x": [
          0,
          1
         ],
         "xaxis": "x11",
         "y": [
          424,
          53
         ],
         "yaxis": "y11"
        },
        {
         "name": "5",
         "type": "bar",
         "x": [
          0,
          1
         ],
         "xaxis": "x11",
         "y": [
          697,
          89
         ],
         "yaxis": "y11"
        },
        {
         "name": "6",
         "type": "bar",
         "x": [
          0,
          1
         ],
         "xaxis": "x11",
         "y": [
          47,
          11
         ],
         "yaxis": "y11"
        },
        {
         "name": "7",
         "type": "bar",
         "x": [
          0,
          1
         ],
         "xaxis": "x11",
         "y": [
          117,
          14
         ],
         "yaxis": "y11"
        },
        {
         "name": "8",
         "type": "bar",
         "x": [
          0,
          1
         ],
         "xaxis": "x11",
         "y": [
          111,
          13
         ],
         "yaxis": "y11"
        },
        {
         "name": "1",
         "type": "bar",
         "x": [
          0,
          1
         ],
         "xaxis": "x12",
         "y": [
          2593,
          414
         ],
         "yaxis": "y12"
        },
        {
         "name": "2",
         "type": "bar",
         "x": [
          0,
          1
         ],
         "xaxis": "x12",
         "y": [
          2135,
          206
         ],
         "yaxis": "y12"
        },
        {
         "name": "3",
         "type": "bar",
         "x": [
          0,
          1
         ],
         "xaxis": "x12",
         "y": [
          1000,
          136
         ],
         "yaxis": "y12"
        },
        {
         "name": "4",
         "type": "bar",
         "x": [
          0,
          1
         ],
         "xaxis": "x12",
         "y": [
          730,
          76
         ],
         "yaxis": "y12"
        },
        {
         "name": "0",
         "type": "bar",
         "x": [
          0,
          1
         ],
         "xaxis": "x13",
         "y": [
          956,
          111
         ],
         "yaxis": "y13"
        },
        {
         "name": "1",
         "type": "bar",
         "x": [
          0,
          1
         ],
         "xaxis": "x13",
         "y": [
          1779,
          250
         ],
         "yaxis": "y13"
        },
        {
         "name": "2",
         "type": "bar",
         "x": [
          0,
          1
         ],
         "xaxis": "x13",
         "y": [
          2463,
          320
         ],
         "yaxis": "y13"
        },
        {
         "name": "3",
         "type": "bar",
         "x": [
          0,
          1
         ],
         "xaxis": "x13",
         "y": [
          1260,
          151
         ],
         "yaxis": "y13"
        },
        {
         "name": "0",
         "type": "bar",
         "x": [
          0,
          1
         ],
         "xaxis": "x14",
         "y": [
          1188,
          195
         ],
         "yaxis": "y14"
        },
        {
         "name": "1",
         "type": "bar",
         "x": [
          0,
          1
         ],
         "xaxis": "x14",
         "y": [
          4600,
          553
         ],
         "yaxis": "y14"
        },
        {
         "name": "2",
         "type": "bar",
         "x": [
          0,
          1
         ],
         "xaxis": "x14",
         "y": [
          670,
          84
         ],
         "yaxis": "y14"
        },
        {
         "name": "0",
         "type": "bar",
         "x": [
          0,
          1
         ],
         "xaxis": "x15",
         "y": [
          5159,
          666
         ],
         "yaxis": "y15"
        },
        {
         "name": "1",
         "type": "bar",
         "x": [
          0,
          1
         ],
         "xaxis": "x15",
         "y": [
          1299,
          166
         ],
         "yaxis": "y15"
        },
        {
         "name": "0",
         "type": "bar",
         "x": [
          0,
          1
         ],
         "xaxis": "x16",
         "y": [
          2078,
          290
         ],
         "yaxis": "y16"
        },
        {
         "name": "1",
         "type": "bar",
         "x": [
          0,
          1
         ],
         "xaxis": "x16",
         "y": [
          1799,
          201
         ],
         "yaxis": "y16"
        },
        {
         "name": "2",
         "type": "bar",
         "x": [
          0,
          1
         ],
         "xaxis": "x16",
         "y": [
          1446,
          190
         ],
         "yaxis": "y16"
        },
        {
         "name": "3",
         "type": "bar",
         "x": [
          0,
          1
         ],
         "xaxis": "x16",
         "y": [
          1135,
          151
         ],
         "yaxis": "y16"
        },
        {
         "name": "0",
         "type": "bar",
         "x": [
          0,
          1
         ],
         "xaxis": "x17",
         "y": [
          1757,
          216
         ],
         "yaxis": "y17"
        },
        {
         "name": "1",
         "type": "bar",
         "x": [
          0,
          1
         ],
         "xaxis": "x17",
         "y": [
          1788,
          241
         ],
         "yaxis": "y17"
        },
        {
         "name": "2",
         "type": "bar",
         "x": [
          0,
          1
         ],
         "xaxis": "x17",
         "y": [
          1826,
          227
         ],
         "yaxis": "y17"
        },
        {
         "name": "3",
         "type": "bar",
         "x": [
          0,
          1
         ],
         "xaxis": "x17",
         "y": [
          1087,
          148
         ],
         "yaxis": "y17"
        },
        {
         "name": "0",
         "type": "bar",
         "x": [
          0,
          1
         ],
         "xaxis": "x18",
         "y": [
          238,
          5
         ],
         "yaxis": "y18"
        },
        {
         "name": "1",
         "type": "bar",
         "x": [
          0,
          1
         ],
         "xaxis": "x18",
         "y": [
          246,
          1
         ],
         "yaxis": "y18"
        },
        {
         "name": "2",
         "type": "bar",
         "x": [
          0,
          1
         ],
         "xaxis": "x18",
         "y": [
          236,
          3
         ],
         "yaxis": "y18"
        },
        {
         "name": "3",
         "type": "bar",
         "x": [
          0,
          1
         ],
         "xaxis": "x18",
         "y": [
          242,
          1
         ],
         "yaxis": "y18"
        },
        {
         "name": "4",
         "type": "bar",
         "x": [
          0,
          1
         ],
         "xaxis": "x18",
         "y": [
          236,
          7
         ],
         "yaxis": "y18"
        },
        {
         "name": "5",
         "type": "bar",
         "x": [
          0,
          1
         ],
         "xaxis": "x18",
         "y": [
          225,
          18
         ],
         "yaxis": "y18"
        },
        {
         "name": "6",
         "type": "bar",
         "x": [
          0,
          1
         ],
         "xaxis": "x18",
         "y": [
          208,
          35
         ],
         "yaxis": "y18"
        },
        {
         "name": "7",
         "type": "bar",
         "x": [
          0,
          1
         ],
         "xaxis": "x18",
         "y": [
          199,
          44
         ],
         "yaxis": "y18"
        },
        {
         "name": "8",
         "type": "bar",
         "x": [
          0,
          1
         ],
         "xaxis": "x18",
         "y": [
          226,
          17
         ],
         "yaxis": "y18"
        },
        {
         "name": "9",
         "type": "bar",
         "x": [
          0,
          1
         ],
         "xaxis": "x18",
         "y": [
          212,
          31
         ],
         "yaxis": "y18"
        },
        {
         "name": "10",
         "type": "bar",
         "x": [
          0,
          1
         ],
         "xaxis": "x18",
         "y": [
          231,
          12
         ],
         "yaxis": "y18"
        },
        {
         "name": "11",
         "type": "bar",
         "x": [
          0,
          1
         ],
         "xaxis": "x18",
         "y": [
          234,
          9
         ],
         "yaxis": "y18"
        },
        {
         "name": "12",
         "type": "bar",
         "x": [
          0,
          1
         ],
         "xaxis": "x18",
         "y": [
          231,
          12
         ],
         "yaxis": "y18"
        },
        {
         "name": "13",
         "type": "bar",
         "x": [
          0,
          1
         ],
         "xaxis": "x18",
         "y": [
          237,
          6
         ],
         "yaxis": "y18"
        },
        {
         "name": "14",
         "type": "bar",
         "x": [
          0,
          1
         ],
         "xaxis": "x18",
         "y": [
          228,
          15
         ],
         "yaxis": "y18"
        },
        {
         "name": "15",
         "type": "bar",
         "x": [
          0,
          1
         ],
         "xaxis": "x18",
         "y": [
          224,
          19
         ],
         "yaxis": "y18"
        },
        {
         "name": "16",
         "type": "bar",
         "x": [
          0,
          1
         ],
         "xaxis": "x18",
         "y": [
          216,
          27
         ],
         "yaxis": "y18"
        },
        {
         "name": "17",
         "type": "bar",
         "x": [
          0,
          1
         ],
         "xaxis": "x18",
         "y": [
          204,
          39
         ],
         "yaxis": "y18"
        },
        {
         "name": "18",
         "type": "bar",
         "x": [
          0,
          1
         ],
         "xaxis": "x18",
         "y": [
          203,
          40
         ],
         "yaxis": "y18"
        },
        {
         "name": "19",
         "type": "bar",
         "x": [
          0,
          1
         ],
         "xaxis": "x18",
         "y": [
          209,
          34
         ],
         "yaxis": "y18"
        },
        {
         "name": "20",
         "type": "bar",
         "x": [
          0,
          1
         ],
         "xaxis": "x18",
         "y": [
          216,
          27
         ],
         "yaxis": "y18"
        },
        {
         "name": "21",
         "type": "bar",
         "x": [
          0,
          1
         ],
         "xaxis": "x18",
         "y": [
          219,
          26
         ],
         "yaxis": "y18"
        },
        {
         "name": "22",
         "type": "bar",
         "x": [
          0,
          1
         ],
         "xaxis": "x18",
         "y": [
          212,
          29
         ],
         "yaxis": "y18"
        },
        {
         "name": "23",
         "type": "bar",
         "x": [
          0,
          1
         ],
         "xaxis": "x18",
         "y": [
          196,
          47
         ],
         "yaxis": "y18"
        },
        {
         "name": "24",
         "type": "bar",
         "x": [
          0,
          1
         ],
         "xaxis": "x18",
         "y": [
          208,
          35
         ],
         "yaxis": "y18"
        },
        {
         "name": "25",
         "type": "bar",
         "x": [
          0,
          1
         ],
         "xaxis": "x18",
         "y": [
          178,
          65
         ],
         "yaxis": "y18"
        },
        {
         "name": "26",
         "type": "bar",
         "x": [
          0,
          1
         ],
         "xaxis": "x18",
         "y": [
          184,
          59
         ],
         "yaxis": "y18"
        },
        {
         "name": "27",
         "type": "bar",
         "x": [
          0,
          1
         ],
         "xaxis": "x18",
         "y": [
          180,
          63
         ],
         "yaxis": "y18"
        },
        {
         "name": "28",
         "type": "bar",
         "x": [
          0,
          1
         ],
         "xaxis": "x18",
         "y": [
          205,
          40
         ],
         "yaxis": "y18"
        },
        {
         "name": "29",
         "type": "bar",
         "x": [
          0,
          1
         ],
         "xaxis": "x18",
         "y": [
          175,
          66
         ],
         "yaxis": "y18"
        },
        {
         "name": "0",
         "type": "bar",
         "x": [
          0,
          1
         ],
         "xaxis": "x19",
         "y": [
          2346,
          570
         ],
         "yaxis": "y19"
        },
        {
         "name": "1",
         "type": "bar",
         "x": [
          0,
          1
         ],
         "xaxis": "x19",
         "y": [
          1345,
          113
         ],
         "yaxis": "y19"
        },
        {
         "name": "2",
         "type": "bar",
         "x": [
          0,
          1
         ],
         "xaxis": "x19",
         "y": [
          1362,
          96
         ],
         "yaxis": "y19"
        },
        {
         "name": "3",
         "type": "bar",
         "x": [
          0,
          1
         ],
         "xaxis": "x19",
         "y": [
          1405,
          53
         ],
         "yaxis": "y19"
        },
        {
         "name": "0",
         "type": "bar",
         "x": [
          0,
          1
         ],
         "xaxis": "x20",
         "y": [
          1816,
          87
         ],
         "yaxis": "y20"
        },
        {
         "name": "1",
         "type": "bar",
         "x": [
          0,
          1
         ],
         "xaxis": "x20",
         "y": [
          1723,
          152
         ],
         "yaxis": "y20"
        },
        {
         "name": "2",
         "type": "bar",
         "x": [
          0,
          1
         ],
         "xaxis": "x20",
         "y": [
          1567,
          209
         ],
         "yaxis": "y20"
        },
        {
         "name": "3",
         "type": "bar",
         "x": [
          0,
          1
         ],
         "xaxis": "x20",
         "y": [
          1352,
          384
         ],
         "yaxis": "y20"
        }
       ],
       "layout": {
        "annotations": [
         {
          "font": {
           "size": 16
          },
          "showarrow": false,
          "text": "State",
          "x": 0.2375,
          "xanchor": "center",
          "xref": "paper",
          "y": 0.9999999999999999,
          "yanchor": "bottom",
          "yref": "paper"
         },
         {
          "font": {
           "size": 16
          },
          "showarrow": false,
          "text": "Response",
          "x": 0.7625,
          "xanchor": "center",
          "xref": "paper",
          "y": 0.9999999999999999,
          "yanchor": "bottom",
          "yref": "paper"
         },
         {
          "font": {
           "size": 16
          },
          "showarrow": false,
          "text": "Coverage Index",
          "x": 0.2375,
          "xanchor": "center",
          "xref": "paper",
          "y": 0.8989999999999999,
          "yanchor": "bottom",
          "yref": "paper"
         },
         {
          "font": {
           "size": 16
          },
          "showarrow": false,
          "text": "Education Index",
          "x": 0.7625,
          "xanchor": "center",
          "xref": "paper",
          "y": 0.8989999999999999,
          "yanchor": "bottom",
          "yref": "paper"
         },
         {
          "font": {
           "size": 16
          },
          "showarrow": false,
          "text": "Employment Status Index",
          "x": 0.2375,
          "xanchor": "center",
          "xref": "paper",
          "y": 0.798,
          "yanchor": "bottom",
          "yref": "paper"
         },
         {
          "font": {
           "size": 16
          },
          "showarrow": false,
          "text": "Gender",
          "x": 0.7625,
          "xanchor": "center",
          "xref": "paper",
          "y": 0.798,
          "yanchor": "bottom",
          "yref": "paper"
         },
         {
          "font": {
           "size": 16
          },
          "showarrow": false,
          "text": "Marital Status Index",
          "x": 0.2375,
          "xanchor": "center",
          "xref": "paper",
          "y": 0.6970000000000001,
          "yanchor": "bottom",
          "yref": "paper"
         },
         {
          "font": {
           "size": 16
          },
          "showarrow": false,
          "text": "Number of Open Complaints",
          "x": 0.7625,
          "xanchor": "center",
          "xref": "paper",
          "y": 0.6970000000000001,
          "yanchor": "bottom",
          "yref": "paper"
         },
         {
          "font": {
           "size": 16
          },
          "showarrow": false,
          "text": "Number of Policies",
          "x": 0.2375,
          "xanchor": "center",
          "xref": "paper",
          "y": 0.596,
          "yanchor": "bottom",
          "yref": "paper"
         },
         {
          "font": {
           "size": 16
          },
          "showarrow": false,
          "text": "Policy Type Index",
          "x": 0.7625,
          "xanchor": "center",
          "xref": "paper",
          "y": 0.596,
          "yanchor": "bottom",
          "yref": "paper"
         },
         {
          "font": {
           "size": 16
          },
          "showarrow": false,
          "text": "Policy Index",
          "x": 0.2375,
          "xanchor": "center",
          "xref": "paper",
          "y": 0.495,
          "yanchor": "bottom",
          "yref": "paper"
         },
         {
          "font": {
           "size": 16
          },
          "showarrow": false,
          "text": "Renew Offer Type",
          "x": 0.7625,
          "xanchor": "center",
          "xref": "paper",
          "y": 0.495,
          "yanchor": "bottom",
          "yref": "paper"
         },
         {
          "font": {
           "size": 16
          },
          "showarrow": false,
          "text": "Sales Channel Index",
          "x": 0.2375,
          "xanchor": "center",
          "xref": "paper",
          "y": 0.394,
          "yanchor": "bottom",
          "yref": "paper"
         },
         {
          "font": {
           "size": 16
          },
          "showarrow": false,
          "text": "Vehicle Size Index",
          "x": 0.7625,
          "xanchor": "center",
          "xref": "paper",
          "y": 0.394,
          "yanchor": "bottom",
          "yref": "paper"
         },
         {
          "font": {
           "size": 16
          },
          "showarrow": false,
          "text": "Effective To Month",
          "x": 0.2375,
          "xanchor": "center",
          "xref": "paper",
          "y": 0.293,
          "yanchor": "bottom",
          "yref": "paper"
         },
         {
          "font": {
           "size": 16
          },
          "showarrow": false,
          "text": "Years Since Last Claim",
          "x": 0.7625,
          "xanchor": "center",
          "xref": "paper",
          "y": 0.293,
          "yanchor": "bottom",
          "yref": "paper"
         },
         {
          "font": {
           "size": 16
          },
          "showarrow": false,
          "text": "Years Since Policy Inception",
          "x": 0.2375,
          "xanchor": "center",
          "xref": "paper",
          "y": 0.192,
          "yanchor": "bottom",
          "yref": "paper"
         },
         {
          "font": {
           "size": 16
          },
          "showarrow": false,
          "text": "Customer Lifetime Value_bin",
          "x": 0.7625,
          "xanchor": "center",
          "xref": "paper",
          "y": 0.192,
          "yanchor": "bottom",
          "yref": "paper"
         },
         {
          "font": {
           "size": 16
          },
          "showarrow": false,
          "text": "Income_bin",
          "x": 0.2375,
          "xanchor": "center",
          "xref": "paper",
          "y": 0.091,
          "yanchor": "bottom",
          "yref": "paper"
         },
         {
          "font": {
           "size": 16
          },
          "showarrow": false,
          "text": "Accident Likelihood_bin",
          "x": 0.7625,
          "xanchor": "center",
          "xref": "paper",
          "y": 0.091,
          "yanchor": "bottom",
          "yref": "paper"
         }
        ],
        "height": 3000,
        "showlegend": false,
        "template": {
         "data": {
          "bar": [
           {
            "error_x": {
             "color": "#2a3f5f"
            },
            "error_y": {
             "color": "#2a3f5f"
            },
            "marker": {
             "line": {
              "color": "#E5ECF6",
              "width": 0.5
             },
             "pattern": {
              "fillmode": "overlay",
              "size": 10,
              "solidity": 0.2
             }
            },
            "type": "bar"
           }
          ],
          "barpolar": [
           {
            "marker": {
             "line": {
              "color": "#E5ECF6",
              "width": 0.5
             },
             "pattern": {
              "fillmode": "overlay",
              "size": 10,
              "solidity": 0.2
             }
            },
            "type": "barpolar"
           }
          ],
          "carpet": [
           {
            "aaxis": {
             "endlinecolor": "#2a3f5f",
             "gridcolor": "white",
             "linecolor": "white",
             "minorgridcolor": "white",
             "startlinecolor": "#2a3f5f"
            },
            "baxis": {
             "endlinecolor": "#2a3f5f",
             "gridcolor": "white",
             "linecolor": "white",
             "minorgridcolor": "white",
             "startlinecolor": "#2a3f5f"
            },
            "type": "carpet"
           }
          ],
          "choropleth": [
           {
            "colorbar": {
             "outlinewidth": 0,
             "ticks": ""
            },
            "type": "choropleth"
           }
          ],
          "contour": [
           {
            "colorbar": {
             "outlinewidth": 0,
             "ticks": ""
            },
            "colorscale": [
             [
              0,
              "#0d0887"
             ],
             [
              0.1111111111111111,
              "#46039f"
             ],
             [
              0.2222222222222222,
              "#7201a8"
             ],
             [
              0.3333333333333333,
              "#9c179e"
             ],
             [
              0.4444444444444444,
              "#bd3786"
             ],
             [
              0.5555555555555556,
              "#d8576b"
             ],
             [
              0.6666666666666666,
              "#ed7953"
             ],
             [
              0.7777777777777778,
              "#fb9f3a"
             ],
             [
              0.8888888888888888,
              "#fdca26"
             ],
             [
              1,
              "#f0f921"
             ]
            ],
            "type": "contour"
           }
          ],
          "contourcarpet": [
           {
            "colorbar": {
             "outlinewidth": 0,
             "ticks": ""
            },
            "type": "contourcarpet"
           }
          ],
          "heatmap": [
           {
            "colorbar": {
             "outlinewidth": 0,
             "ticks": ""
            },
            "colorscale": [
             [
              0,
              "#0d0887"
             ],
             [
              0.1111111111111111,
              "#46039f"
             ],
             [
              0.2222222222222222,
              "#7201a8"
             ],
             [
              0.3333333333333333,
              "#9c179e"
             ],
             [
              0.4444444444444444,
              "#bd3786"
             ],
             [
              0.5555555555555556,
              "#d8576b"
             ],
             [
              0.6666666666666666,
              "#ed7953"
             ],
             [
              0.7777777777777778,
              "#fb9f3a"
             ],
             [
              0.8888888888888888,
              "#fdca26"
             ],
             [
              1,
              "#f0f921"
             ]
            ],
            "type": "heatmap"
           }
          ],
          "heatmapgl": [
           {
            "colorbar": {
             "outlinewidth": 0,
             "ticks": ""
            },
            "colorscale": [
             [
              0,
              "#0d0887"
             ],
             [
              0.1111111111111111,
              "#46039f"
             ],
             [
              0.2222222222222222,
              "#7201a8"
             ],
             [
              0.3333333333333333,
              "#9c179e"
             ],
             [
              0.4444444444444444,
              "#bd3786"
             ],
             [
              0.5555555555555556,
              "#d8576b"
             ],
             [
              0.6666666666666666,
              "#ed7953"
             ],
             [
              0.7777777777777778,
              "#fb9f3a"
             ],
             [
              0.8888888888888888,
              "#fdca26"
             ],
             [
              1,
              "#f0f921"
             ]
            ],
            "type": "heatmapgl"
           }
          ],
          "histogram": [
           {
            "marker": {
             "pattern": {
              "fillmode": "overlay",
              "size": 10,
              "solidity": 0.2
             }
            },
            "type": "histogram"
           }
          ],
          "histogram2d": [
           {
            "colorbar": {
             "outlinewidth": 0,
             "ticks": ""
            },
            "colorscale": [
             [
              0,
              "#0d0887"
             ],
             [
              0.1111111111111111,
              "#46039f"
             ],
             [
              0.2222222222222222,
              "#7201a8"
             ],
             [
              0.3333333333333333,
              "#9c179e"
             ],
             [
              0.4444444444444444,
              "#bd3786"
             ],
             [
              0.5555555555555556,
              "#d8576b"
             ],
             [
              0.6666666666666666,
              "#ed7953"
             ],
             [
              0.7777777777777778,
              "#fb9f3a"
             ],
             [
              0.8888888888888888,
              "#fdca26"
             ],
             [
              1,
              "#f0f921"
             ]
            ],
            "type": "histogram2d"
           }
          ],
          "histogram2dcontour": [
           {
            "colorbar": {
             "outlinewidth": 0,
             "ticks": ""
            },
            "colorscale": [
             [
              0,
              "#0d0887"
             ],
             [
              0.1111111111111111,
              "#46039f"
             ],
             [
              0.2222222222222222,
              "#7201a8"
             ],
             [
              0.3333333333333333,
              "#9c179e"
             ],
             [
              0.4444444444444444,
              "#bd3786"
             ],
             [
              0.5555555555555556,
              "#d8576b"
             ],
             [
              0.6666666666666666,
              "#ed7953"
             ],
             [
              0.7777777777777778,
              "#fb9f3a"
             ],
             [
              0.8888888888888888,
              "#fdca26"
             ],
             [
              1,
              "#f0f921"
             ]
            ],
            "type": "histogram2dcontour"
           }
          ],
          "mesh3d": [
           {
            "colorbar": {
             "outlinewidth": 0,
             "ticks": ""
            },
            "type": "mesh3d"
           }
          ],
          "parcoords": [
           {
            "line": {
             "colorbar": {
              "outlinewidth": 0,
              "ticks": ""
             }
            },
            "type": "parcoords"
           }
          ],
          "pie": [
           {
            "automargin": true,
            "type": "pie"
           }
          ],
          "scatter": [
           {
            "fillpattern": {
             "fillmode": "overlay",
             "size": 10,
             "solidity": 0.2
            },
            "type": "scatter"
           }
          ],
          "scatter3d": [
           {
            "line": {
             "colorbar": {
              "outlinewidth": 0,
              "ticks": ""
             }
            },
            "marker": {
             "colorbar": {
              "outlinewidth": 0,
              "ticks": ""
             }
            },
            "type": "scatter3d"
           }
          ],
          "scattercarpet": [
           {
            "marker": {
             "colorbar": {
              "outlinewidth": 0,
              "ticks": ""
             }
            },
            "type": "scattercarpet"
           }
          ],
          "scattergeo": [
           {
            "marker": {
             "colorbar": {
              "outlinewidth": 0,
              "ticks": ""
             }
            },
            "type": "scattergeo"
           }
          ],
          "scattergl": [
           {
            "marker": {
             "colorbar": {
              "outlinewidth": 0,
              "ticks": ""
             }
            },
            "type": "scattergl"
           }
          ],
          "scattermapbox": [
           {
            "marker": {
             "colorbar": {
              "outlinewidth": 0,
              "ticks": ""
             }
            },
            "type": "scattermapbox"
           }
          ],
          "scatterpolar": [
           {
            "marker": {
             "colorbar": {
              "outlinewidth": 0,
              "ticks": ""
             }
            },
            "type": "scatterpolar"
           }
          ],
          "scatterpolargl": [
           {
            "marker": {
             "colorbar": {
              "outlinewidth": 0,
              "ticks": ""
             }
            },
            "type": "scatterpolargl"
           }
          ],
          "scatterternary": [
           {
            "marker": {
             "colorbar": {
              "outlinewidth": 0,
              "ticks": ""
             }
            },
            "type": "scatterternary"
           }
          ],
          "surface": [
           {
            "colorbar": {
             "outlinewidth": 0,
             "ticks": ""
            },
            "colorscale": [
             [
              0,
              "#0d0887"
             ],
             [
              0.1111111111111111,
              "#46039f"
             ],
             [
              0.2222222222222222,
              "#7201a8"
             ],
             [
              0.3333333333333333,
              "#9c179e"
             ],
             [
              0.4444444444444444,
              "#bd3786"
             ],
             [
              0.5555555555555556,
              "#d8576b"
             ],
             [
              0.6666666666666666,
              "#ed7953"
             ],
             [
              0.7777777777777778,
              "#fb9f3a"
             ],
             [
              0.8888888888888888,
              "#fdca26"
             ],
             [
              1,
              "#f0f921"
             ]
            ],
            "type": "surface"
           }
          ],
          "table": [
           {
            "cells": {
             "fill": {
              "color": "#EBF0F8"
             },
             "line": {
              "color": "white"
             }
            },
            "header": {
             "fill": {
              "color": "#C8D4E3"
             },
             "line": {
              "color": "white"
             }
            },
            "type": "table"
           }
          ]
         },
         "layout": {
          "annotationdefaults": {
           "arrowcolor": "#2a3f5f",
           "arrowhead": 0,
           "arrowwidth": 1
          },
          "autotypenumbers": "strict",
          "coloraxis": {
           "colorbar": {
            "outlinewidth": 0,
            "ticks": ""
           }
          },
          "colorscale": {
           "diverging": [
            [
             0,
             "#8e0152"
            ],
            [
             0.1,
             "#c51b7d"
            ],
            [
             0.2,
             "#de77ae"
            ],
            [
             0.3,
             "#f1b6da"
            ],
            [
             0.4,
             "#fde0ef"
            ],
            [
             0.5,
             "#f7f7f7"
            ],
            [
             0.6,
             "#e6f5d0"
            ],
            [
             0.7,
             "#b8e186"
            ],
            [
             0.8,
             "#7fbc41"
            ],
            [
             0.9,
             "#4d9221"
            ],
            [
             1,
             "#276419"
            ]
           ],
           "sequential": [
            [
             0,
             "#0d0887"
            ],
            [
             0.1111111111111111,
             "#46039f"
            ],
            [
             0.2222222222222222,
             "#7201a8"
            ],
            [
             0.3333333333333333,
             "#9c179e"
            ],
            [
             0.4444444444444444,
             "#bd3786"
            ],
            [
             0.5555555555555556,
             "#d8576b"
            ],
            [
             0.6666666666666666,
             "#ed7953"
            ],
            [
             0.7777777777777778,
             "#fb9f3a"
            ],
            [
             0.8888888888888888,
             "#fdca26"
            ],
            [
             1,
             "#f0f921"
            ]
           ],
           "sequentialminus": [
            [
             0,
             "#0d0887"
            ],
            [
             0.1111111111111111,
             "#46039f"
            ],
            [
             0.2222222222222222,
             "#7201a8"
            ],
            [
             0.3333333333333333,
             "#9c179e"
            ],
            [
             0.4444444444444444,
             "#bd3786"
            ],
            [
             0.5555555555555556,
             "#d8576b"
            ],
            [
             0.6666666666666666,
             "#ed7953"
            ],
            [
             0.7777777777777778,
             "#fb9f3a"
            ],
            [
             0.8888888888888888,
             "#fdca26"
            ],
            [
             1,
             "#f0f921"
            ]
           ]
          },
          "colorway": [
           "#636efa",
           "#EF553B",
           "#00cc96",
           "#ab63fa",
           "#FFA15A",
           "#19d3f3",
           "#FF6692",
           "#B6E880",
           "#FF97FF",
           "#FECB52"
          ],
          "font": {
           "color": "#2a3f5f"
          },
          "geo": {
           "bgcolor": "white",
           "lakecolor": "white",
           "landcolor": "#E5ECF6",
           "showlakes": true,
           "showland": true,
           "subunitcolor": "white"
          },
          "hoverlabel": {
           "align": "left"
          },
          "hovermode": "closest",
          "mapbox": {
           "style": "light"
          },
          "paper_bgcolor": "white",
          "plot_bgcolor": "#E5ECF6",
          "polar": {
           "angularaxis": {
            "gridcolor": "white",
            "linecolor": "white",
            "ticks": ""
           },
           "bgcolor": "#E5ECF6",
           "radialaxis": {
            "gridcolor": "white",
            "linecolor": "white",
            "ticks": ""
           }
          },
          "scene": {
           "xaxis": {
            "backgroundcolor": "#E5ECF6",
            "gridcolor": "white",
            "gridwidth": 2,
            "linecolor": "white",
            "showbackground": true,
            "ticks": "",
            "zerolinecolor": "white"
           },
           "yaxis": {
            "backgroundcolor": "#E5ECF6",
            "gridcolor": "white",
            "gridwidth": 2,
            "linecolor": "white",
            "showbackground": true,
            "ticks": "",
            "zerolinecolor": "white"
           },
           "zaxis": {
            "backgroundcolor": "#E5ECF6",
            "gridcolor": "white",
            "gridwidth": 2,
            "linecolor": "white",
            "showbackground": true,
            "ticks": "",
            "zerolinecolor": "white"
           }
          },
          "shapedefaults": {
           "line": {
            "color": "#2a3f5f"
           }
          },
          "ternary": {
           "aaxis": {
            "gridcolor": "white",
            "linecolor": "white",
            "ticks": ""
           },
           "baxis": {
            "gridcolor": "white",
            "linecolor": "white",
            "ticks": ""
           },
           "bgcolor": "#E5ECF6",
           "caxis": {
            "gridcolor": "white",
            "linecolor": "white",
            "ticks": ""
           }
          },
          "title": {
           "x": 0.05
          },
          "xaxis": {
           "automargin": true,
           "gridcolor": "white",
           "linecolor": "white",
           "ticks": "",
           "title": {
            "standoff": 15
           },
           "zerolinecolor": "white",
           "zerolinewidth": 2
          },
          "yaxis": {
           "automargin": true,
           "gridcolor": "white",
           "linecolor": "white",
           "ticks": "",
           "title": {
            "standoff": 15
           },
           "zerolinecolor": "white",
           "zerolinewidth": 2
          }
         }
        },
        "title": {
         "text": "How Each Column Affects 'Claim over 1k'"
        },
        "xaxis": {
         "anchor": "y",
         "domain": [
          0,
          0.475
         ]
        },
        "xaxis10": {
         "anchor": "y10",
         "domain": [
          0.525,
          1
         ]
        },
        "xaxis11": {
         "anchor": "y11",
         "domain": [
          0,
          0.475
         ]
        },
        "xaxis12": {
         "anchor": "y12",
         "domain": [
          0.525,
          1
         ]
        },
        "xaxis13": {
         "anchor": "y13",
         "domain": [
          0,
          0.475
         ]
        },
        "xaxis14": {
         "anchor": "y14",
         "domain": [
          0.525,
          1
         ]
        },
        "xaxis15": {
         "anchor": "y15",
         "domain": [
          0,
          0.475
         ]
        },
        "xaxis16": {
         "anchor": "y16",
         "domain": [
          0.525,
          1
         ]
        },
        "xaxis17": {
         "anchor": "y17",
         "domain": [
          0,
          0.475
         ]
        },
        "xaxis18": {
         "anchor": "y18",
         "domain": [
          0.525,
          1
         ]
        },
        "xaxis19": {
         "anchor": "y19",
         "domain": [
          0,
          0.475
         ]
        },
        "xaxis2": {
         "anchor": "y2",
         "domain": [
          0.525,
          1
         ]
        },
        "xaxis20": {
         "anchor": "y20",
         "domain": [
          0.525,
          1
         ]
        },
        "xaxis3": {
         "anchor": "y3",
         "domain": [
          0,
          0.475
         ]
        },
        "xaxis4": {
         "anchor": "y4",
         "domain": [
          0.525,
          1
         ]
        },
        "xaxis5": {
         "anchor": "y5",
         "domain": [
          0,
          0.475
         ]
        },
        "xaxis6": {
         "anchor": "y6",
         "domain": [
          0.525,
          1
         ]
        },
        "xaxis7": {
         "anchor": "y7",
         "domain": [
          0,
          0.475
         ]
        },
        "xaxis8": {
         "anchor": "y8",
         "domain": [
          0.525,
          1
         ]
        },
        "xaxis9": {
         "anchor": "y9",
         "domain": [
          0,
          0.475
         ]
        },
        "yaxis": {
         "anchor": "x",
         "domain": [
          0.9089999999999999,
          0.9999999999999999
         ]
        },
        "yaxis10": {
         "anchor": "x10",
         "domain": [
          0.505,
          0.596
         ]
        },
        "yaxis11": {
         "anchor": "x11",
         "domain": [
          0.40399999999999997,
          0.495
         ]
        },
        "yaxis12": {
         "anchor": "x12",
         "domain": [
          0.40399999999999997,
          0.495
         ]
        },
        "yaxis13": {
         "anchor": "x13",
         "domain": [
          0.30300000000000005,
          0.394
         ]
        },
        "yaxis14": {
         "anchor": "x14",
         "domain": [
          0.30300000000000005,
          0.394
         ]
        },
        "yaxis15": {
         "anchor": "x15",
         "domain": [
          0.20199999999999999,
          0.293
         ]
        },
        "yaxis16": {
         "anchor": "x16",
         "domain": [
          0.20199999999999999,
          0.293
         ]
        },
        "yaxis17": {
         "anchor": "x17",
         "domain": [
          0.10099999999999999,
          0.192
         ]
        },
        "yaxis18": {
         "anchor": "x18",
         "domain": [
          0.10099999999999999,
          0.192
         ]
        },
        "yaxis19": {
         "anchor": "x19",
         "domain": [
          0,
          0.091
         ]
        },
        "yaxis2": {
         "anchor": "x2",
         "domain": [
          0.9089999999999999,
          0.9999999999999999
         ]
        },
        "yaxis20": {
         "anchor": "x20",
         "domain": [
          0,
          0.091
         ]
        },
        "yaxis3": {
         "anchor": "x3",
         "domain": [
          0.8079999999999999,
          0.8989999999999999
         ]
        },
        "yaxis4": {
         "anchor": "x4",
         "domain": [
          0.8079999999999999,
          0.8989999999999999
         ]
        },
        "yaxis5": {
         "anchor": "x5",
         "domain": [
          0.7070000000000001,
          0.798
         ]
        },
        "yaxis6": {
         "anchor": "x6",
         "domain": [
          0.7070000000000001,
          0.798
         ]
        },
        "yaxis7": {
         "anchor": "x7",
         "domain": [
          0.6060000000000001,
          0.6970000000000001
         ]
        },
        "yaxis8": {
         "anchor": "x8",
         "domain": [
          0.6060000000000001,
          0.6970000000000001
         ]
        },
        "yaxis9": {
         "anchor": "x9",
         "domain": [
          0.505,
          0.596
         ]
        }
       }
      },
      "text/html": [
       "<div>                            <div id=\"573818e3-dff9-4d86-ad02-b78c061b6319\" class=\"plotly-graph-div\" style=\"height:3000px; width:100%;\"></div>            <script type=\"text/javascript\">                require([\"plotly\"], function(Plotly) {                    window.PLOTLYENV=window.PLOTLYENV || {};                                    if (document.getElementById(\"573818e3-dff9-4d86-ad02-b78c061b6319\")) {                    Plotly.newPlot(                        \"573818e3-dff9-4d86-ad02-b78c061b6319\",                        [{\"name\":\"0\",\"x\":[0,1],\"y\":[2217,303],\"type\":\"bar\",\"xaxis\":\"x\",\"yaxis\":\"y\"},{\"name\":\"1\",\"x\":[0,1],\"y\":[560,72],\"type\":\"bar\",\"xaxis\":\"x\",\"yaxis\":\"y\"},{\"name\":\"2\",\"x\":[0,1],\"y\":[1827,250],\"type\":\"bar\",\"xaxis\":\"x\",\"yaxis\":\"y\"},{\"name\":\"3\",\"x\":[0,1],\"y\":[1217,136],\"type\":\"bar\",\"xaxis\":\"x\",\"yaxis\":\"y\"},{\"name\":\"4\",\"x\":[0,1],\"y\":[637,71],\"type\":\"bar\",\"xaxis\":\"x\",\"yaxis\":\"y\"},{\"name\":\"0\",\"x\":[0,1],\"y\":[5511,754],\"type\":\"bar\",\"xaxis\":\"x2\",\"yaxis\":\"y2\"},{\"name\":\"1\",\"x\":[0,1],\"y\":[947,78],\"type\":\"bar\",\"xaxis\":\"x2\",\"yaxis\":\"y2\"},{\"name\":\"0\",\"x\":[0,1],\"y\":[4060,327],\"type\":\"bar\",\"xaxis\":\"x3\",\"yaxis\":\"y3\"},{\"name\":\"1\",\"x\":[0,1],\"y\":[1961,271],\"type\":\"bar\",\"xaxis\":\"x3\",\"yaxis\":\"y3\"},{\"name\":\"2\",\"x\":[0,1],\"y\":[437,234],\"type\":\"bar\",\"xaxis\":\"x3\",\"yaxis\":\"y3\"},{\"name\":\"0\",\"x\":[0,1],\"y\":[1763,323],\"type\":\"bar\",\"xaxis\":\"x4\",\"yaxis\":\"y4\"},{\"name\":\"1\",\"x\":[0,1],\"y\":[1947,216],\"type\":\"bar\",\"xaxis\":\"x4\",\"yaxis\":\"y4\"},{\"name\":\"2\",\"x\":[0,1],\"y\":[1923,252],\"type\":\"bar\",\"xaxis\":\"x4\",\"yaxis\":\"y4\"},{\"name\":\"3\",\"x\":[0,1],\"y\":[559,34],\"type\":\"bar\",\"xaxis\":\"x4\",\"yaxis\":\"y4\"},{\"name\":\"4\",\"x\":[0,1],\"y\":[266,7],\"type\":\"bar\",\"xaxis\":\"x4\",\"yaxis\":\"y4\"},{\"name\":\"0\",\"x\":[0,1],\"y\":[1410,458],\"type\":\"bar\",\"xaxis\":\"x5\",\"yaxis\":\"y5\"},{\"name\":\"1\",\"x\":[0,1],\"y\":[4255,281],\"type\":\"bar\",\"xaxis\":\"x5\",\"yaxis\":\"y5\"},{\"name\":\"2\",\"x\":[0,1],\"y\":[297,41],\"type\":\"bar\",\"xaxis\":\"x5\",\"yaxis\":\"y5\"},{\"name\":\"3\",\"x\":[0,1],\"y\":[205,14],\"type\":\"bar\",\"xaxis\":\"x5\",\"yaxis\":\"y5\"},{\"name\":\"4\",\"x\":[0,1],\"y\":[291,38],\"type\":\"bar\",\"xaxis\":\"x5\",\"yaxis\":\"y5\"},{\"name\":\"0\",\"x\":[0,1],\"y\":[3362,349],\"type\":\"bar\",\"xaxis\":\"x6\",\"yaxis\":\"y6\"},{\"name\":\"1\",\"x\":[0,1],\"y\":[3096,483],\"type\":\"bar\",\"xaxis\":\"x6\",\"yaxis\":\"y6\"},{\"name\":\"0\",\"x\":[0,1],\"y\":[1530,455],\"type\":\"bar\",\"xaxis\":\"x7\",\"yaxis\":\"y7\"},{\"name\":\"1\",\"x\":[0,1],\"y\":[3908,300],\"type\":\"bar\",\"xaxis\":\"x7\",\"yaxis\":\"y7\"},{\"name\":\"2\",\"x\":[0,1],\"y\":[1020,77],\"type\":\"bar\",\"xaxis\":\"x7\",\"yaxis\":\"y7\"},{\"name\":\"0\",\"x\":[0,1],\"y\":[5132,666],\"type\":\"bar\",\"xaxis\":\"x8\",\"yaxis\":\"y8\"},{\"name\":\"1\",\"x\":[0,1],\"y\":[721,88],\"type\":\"bar\",\"xaxis\":\"x8\",\"yaxis\":\"y8\"},{\"name\":\"2\",\"x\":[0,1],\"y\":[266,33],\"type\":\"bar\",\"xaxis\":\"x8\",\"yaxis\":\"y8\"},{\"name\":\"3\",\"x\":[0,1],\"y\":[205,20],\"type\":\"bar\",\"xaxis\":\"x8\",\"yaxis\":\"y8\"},{\"name\":\"4\",\"x\":[0,1],\"y\":[94,18],\"type\":\"bar\",\"xaxis\":\"x8\",\"yaxis\":\"y8\"},{\"name\":\"5\",\"x\":[0,1],\"y\":[40,7],\"type\":\"bar\",\"xaxis\":\"x8\",\"yaxis\":\"y8\"},{\"name\":\"1\",\"x\":[0,1],\"y\":[2281,308],\"type\":\"bar\",\"xaxis\":\"x9\",\"yaxis\":\"y9\"},{\"name\":\"2\",\"x\":[0,1],\"y\":[1632,204],\"type\":\"bar\",\"xaxis\":\"x9\",\"yaxis\":\"y9\"},{\"name\":\"3\",\"x\":[0,1],\"y\":[839,82],\"type\":\"bar\",\"xaxis\":\"x9\",\"yaxis\":\"y9\"},{\"name\":\"4\",\"x\":[0,1],\"y\":[284,41],\"type\":\"bar\",\"xaxis\":\"x9\",\"yaxis\":\"y9\"},{\"name\":\"5\",\"x\":[0,1],\"y\":[285,35],\"type\":\"bar\",\"xaxis\":\"x9\",\"yaxis\":\"y9\"},{\"name\":\"6\",\"x\":[0,1],\"y\":[260,33],\"type\":\"bar\",\"xaxis\":\"x9\",\"yaxis\":\"y9\"},{\"name\":\"7\",\"x\":[0,1],\"y\":[299,54],\"type\":\"bar\",\"xaxis\":\"x9\",\"yaxis\":\"y9\"},{\"name\":\"8\",\"x\":[0,1],\"y\":[269,45],\"type\":\"bar\",\"xaxis\":\"x9\",\"yaxis\":\"y9\"},{\"name\":\"9\",\"x\":[0,1],\"y\":[309,30],\"type\":\"bar\",\"xaxis\":\"x9\",\"yaxis\":\"y9\"},{\"name\":\"0\",\"x\":[0,1],\"y\":[4797,619],\"type\":\"bar\",\"xaxis\":\"x10\",\"yaxis\":\"y10\"},{\"name\":\"1\",\"x\":[0,1],\"y\":[1386,175],\"type\":\"bar\",\"xaxis\":\"x10\",\"yaxis\":\"y10\"},{\"name\":\"2\",\"x\":[0,1],\"y\":[275,38],\"type\":\"bar\",\"xaxis\":\"x10\",\"yaxis\":\"y10\"},{\"name\":\"0\",\"x\":[0,1],\"y\":[866,120],\"type\":\"bar\",\"xaxis\":\"x11\",\"yaxis\":\"y11\"},{\"name\":\"1\",\"x\":[0,1],\"y\":[1493,196],\"type\":\"bar\",\"xaxis\":\"x11\",\"yaxis\":\"y11\"},{\"name\":\"2\",\"x\":[0,1],\"y\":[2438,303],\"type\":\"bar\",\"xaxis\":\"x11\",\"yaxis\":\"y11\"},{\"name\":\"3\",\"x\":[0,1],\"y\":[265,33],\"type\":\"bar\",\"xaxis\":\"x11\",\"yaxis\":\"y11\"},{\"name\":\"4\",\"x\":[0,1],\"y\":[424,53],\"type\":\"bar\",\"xaxis\":\"x11\",\"yaxis\":\"y11\"},{\"name\":\"5\",\"x\":[0,1],\"y\":[697,89],\"type\":\"bar\",\"xaxis\":\"x11\",\"yaxis\":\"y11\"},{\"name\":\"6\",\"x\":[0,1],\"y\":[47,11],\"type\":\"bar\",\"xaxis\":\"x11\",\"yaxis\":\"y11\"},{\"name\":\"7\",\"x\":[0,1],\"y\":[117,14],\"type\":\"bar\",\"xaxis\":\"x11\",\"yaxis\":\"y11\"},{\"name\":\"8\",\"x\":[0,1],\"y\":[111,13],\"type\":\"bar\",\"xaxis\":\"x11\",\"yaxis\":\"y11\"},{\"name\":\"1\",\"x\":[0,1],\"y\":[2593,414],\"type\":\"bar\",\"xaxis\":\"x12\",\"yaxis\":\"y12\"},{\"name\":\"2\",\"x\":[0,1],\"y\":[2135,206],\"type\":\"bar\",\"xaxis\":\"x12\",\"yaxis\":\"y12\"},{\"name\":\"3\",\"x\":[0,1],\"y\":[1000,136],\"type\":\"bar\",\"xaxis\":\"x12\",\"yaxis\":\"y12\"},{\"name\":\"4\",\"x\":[0,1],\"y\":[730,76],\"type\":\"bar\",\"xaxis\":\"x12\",\"yaxis\":\"y12\"},{\"name\":\"0\",\"x\":[0,1],\"y\":[956,111],\"type\":\"bar\",\"xaxis\":\"x13\",\"yaxis\":\"y13\"},{\"name\":\"1\",\"x\":[0,1],\"y\":[1779,250],\"type\":\"bar\",\"xaxis\":\"x13\",\"yaxis\":\"y13\"},{\"name\":\"2\",\"x\":[0,1],\"y\":[2463,320],\"type\":\"bar\",\"xaxis\":\"x13\",\"yaxis\":\"y13\"},{\"name\":\"3\",\"x\":[0,1],\"y\":[1260,151],\"type\":\"bar\",\"xaxis\":\"x13\",\"yaxis\":\"y13\"},{\"name\":\"0\",\"x\":[0,1],\"y\":[1188,195],\"type\":\"bar\",\"xaxis\":\"x14\",\"yaxis\":\"y14\"},{\"name\":\"1\",\"x\":[0,1],\"y\":[4600,553],\"type\":\"bar\",\"xaxis\":\"x14\",\"yaxis\":\"y14\"},{\"name\":\"2\",\"x\":[0,1],\"y\":[670,84],\"type\":\"bar\",\"xaxis\":\"x14\",\"yaxis\":\"y14\"},{\"name\":\"0\",\"x\":[0,1],\"y\":[5159,666],\"type\":\"bar\",\"xaxis\":\"x15\",\"yaxis\":\"y15\"},{\"name\":\"1\",\"x\":[0,1],\"y\":[1299,166],\"type\":\"bar\",\"xaxis\":\"x15\",\"yaxis\":\"y15\"},{\"name\":\"0\",\"x\":[0,1],\"y\":[2078,290],\"type\":\"bar\",\"xaxis\":\"x16\",\"yaxis\":\"y16\"},{\"name\":\"1\",\"x\":[0,1],\"y\":[1799,201],\"type\":\"bar\",\"xaxis\":\"x16\",\"yaxis\":\"y16\"},{\"name\":\"2\",\"x\":[0,1],\"y\":[1446,190],\"type\":\"bar\",\"xaxis\":\"x16\",\"yaxis\":\"y16\"},{\"name\":\"3\",\"x\":[0,1],\"y\":[1135,151],\"type\":\"bar\",\"xaxis\":\"x16\",\"yaxis\":\"y16\"},{\"name\":\"0\",\"x\":[0,1],\"y\":[1757,216],\"type\":\"bar\",\"xaxis\":\"x17\",\"yaxis\":\"y17\"},{\"name\":\"1\",\"x\":[0,1],\"y\":[1788,241],\"type\":\"bar\",\"xaxis\":\"x17\",\"yaxis\":\"y17\"},{\"name\":\"2\",\"x\":[0,1],\"y\":[1826,227],\"type\":\"bar\",\"xaxis\":\"x17\",\"yaxis\":\"y17\"},{\"name\":\"3\",\"x\":[0,1],\"y\":[1087,148],\"type\":\"bar\",\"xaxis\":\"x17\",\"yaxis\":\"y17\"},{\"name\":\"0\",\"x\":[0,1],\"y\":[238,5],\"type\":\"bar\",\"xaxis\":\"x18\",\"yaxis\":\"y18\"},{\"name\":\"1\",\"x\":[0,1],\"y\":[246,1],\"type\":\"bar\",\"xaxis\":\"x18\",\"yaxis\":\"y18\"},{\"name\":\"2\",\"x\":[0,1],\"y\":[236,3],\"type\":\"bar\",\"xaxis\":\"x18\",\"yaxis\":\"y18\"},{\"name\":\"3\",\"x\":[0,1],\"y\":[242,1],\"type\":\"bar\",\"xaxis\":\"x18\",\"yaxis\":\"y18\"},{\"name\":\"4\",\"x\":[0,1],\"y\":[236,7],\"type\":\"bar\",\"xaxis\":\"x18\",\"yaxis\":\"y18\"},{\"name\":\"5\",\"x\":[0,1],\"y\":[225,18],\"type\":\"bar\",\"xaxis\":\"x18\",\"yaxis\":\"y18\"},{\"name\":\"6\",\"x\":[0,1],\"y\":[208,35],\"type\":\"bar\",\"xaxis\":\"x18\",\"yaxis\":\"y18\"},{\"name\":\"7\",\"x\":[0,1],\"y\":[199,44],\"type\":\"bar\",\"xaxis\":\"x18\",\"yaxis\":\"y18\"},{\"name\":\"8\",\"x\":[0,1],\"y\":[226,17],\"type\":\"bar\",\"xaxis\":\"x18\",\"yaxis\":\"y18\"},{\"name\":\"9\",\"x\":[0,1],\"y\":[212,31],\"type\":\"bar\",\"xaxis\":\"x18\",\"yaxis\":\"y18\"},{\"name\":\"10\",\"x\":[0,1],\"y\":[231,12],\"type\":\"bar\",\"xaxis\":\"x18\",\"yaxis\":\"y18\"},{\"name\":\"11\",\"x\":[0,1],\"y\":[234,9],\"type\":\"bar\",\"xaxis\":\"x18\",\"yaxis\":\"y18\"},{\"name\":\"12\",\"x\":[0,1],\"y\":[231,12],\"type\":\"bar\",\"xaxis\":\"x18\",\"yaxis\":\"y18\"},{\"name\":\"13\",\"x\":[0,1],\"y\":[237,6],\"type\":\"bar\",\"xaxis\":\"x18\",\"yaxis\":\"y18\"},{\"name\":\"14\",\"x\":[0,1],\"y\":[228,15],\"type\":\"bar\",\"xaxis\":\"x18\",\"yaxis\":\"y18\"},{\"name\":\"15\",\"x\":[0,1],\"y\":[224,19],\"type\":\"bar\",\"xaxis\":\"x18\",\"yaxis\":\"y18\"},{\"name\":\"16\",\"x\":[0,1],\"y\":[216,27],\"type\":\"bar\",\"xaxis\":\"x18\",\"yaxis\":\"y18\"},{\"name\":\"17\",\"x\":[0,1],\"y\":[204,39],\"type\":\"bar\",\"xaxis\":\"x18\",\"yaxis\":\"y18\"},{\"name\":\"18\",\"x\":[0,1],\"y\":[203,40],\"type\":\"bar\",\"xaxis\":\"x18\",\"yaxis\":\"y18\"},{\"name\":\"19\",\"x\":[0,1],\"y\":[209,34],\"type\":\"bar\",\"xaxis\":\"x18\",\"yaxis\":\"y18\"},{\"name\":\"20\",\"x\":[0,1],\"y\":[216,27],\"type\":\"bar\",\"xaxis\":\"x18\",\"yaxis\":\"y18\"},{\"name\":\"21\",\"x\":[0,1],\"y\":[219,26],\"type\":\"bar\",\"xaxis\":\"x18\",\"yaxis\":\"y18\"},{\"name\":\"22\",\"x\":[0,1],\"y\":[212,29],\"type\":\"bar\",\"xaxis\":\"x18\",\"yaxis\":\"y18\"},{\"name\":\"23\",\"x\":[0,1],\"y\":[196,47],\"type\":\"bar\",\"xaxis\":\"x18\",\"yaxis\":\"y18\"},{\"name\":\"24\",\"x\":[0,1],\"y\":[208,35],\"type\":\"bar\",\"xaxis\":\"x18\",\"yaxis\":\"y18\"},{\"name\":\"25\",\"x\":[0,1],\"y\":[178,65],\"type\":\"bar\",\"xaxis\":\"x18\",\"yaxis\":\"y18\"},{\"name\":\"26\",\"x\":[0,1],\"y\":[184,59],\"type\":\"bar\",\"xaxis\":\"x18\",\"yaxis\":\"y18\"},{\"name\":\"27\",\"x\":[0,1],\"y\":[180,63],\"type\":\"bar\",\"xaxis\":\"x18\",\"yaxis\":\"y18\"},{\"name\":\"28\",\"x\":[0,1],\"y\":[205,40],\"type\":\"bar\",\"xaxis\":\"x18\",\"yaxis\":\"y18\"},{\"name\":\"29\",\"x\":[0,1],\"y\":[175,66],\"type\":\"bar\",\"xaxis\":\"x18\",\"yaxis\":\"y18\"},{\"name\":\"0\",\"x\":[0,1],\"y\":[2346,570],\"type\":\"bar\",\"xaxis\":\"x19\",\"yaxis\":\"y19\"},{\"name\":\"1\",\"x\":[0,1],\"y\":[1345,113],\"type\":\"bar\",\"xaxis\":\"x19\",\"yaxis\":\"y19\"},{\"name\":\"2\",\"x\":[0,1],\"y\":[1362,96],\"type\":\"bar\",\"xaxis\":\"x19\",\"yaxis\":\"y19\"},{\"name\":\"3\",\"x\":[0,1],\"y\":[1405,53],\"type\":\"bar\",\"xaxis\":\"x19\",\"yaxis\":\"y19\"},{\"name\":\"0\",\"x\":[0,1],\"y\":[1816,87],\"type\":\"bar\",\"xaxis\":\"x20\",\"yaxis\":\"y20\"},{\"name\":\"1\",\"x\":[0,1],\"y\":[1723,152],\"type\":\"bar\",\"xaxis\":\"x20\",\"yaxis\":\"y20\"},{\"name\":\"2\",\"x\":[0,1],\"y\":[1567,209],\"type\":\"bar\",\"xaxis\":\"x20\",\"yaxis\":\"y20\"},{\"name\":\"3\",\"x\":[0,1],\"y\":[1352,384],\"type\":\"bar\",\"xaxis\":\"x20\",\"yaxis\":\"y20\"}],                        {\"template\":{\"data\":{\"histogram2dcontour\":[{\"type\":\"histogram2dcontour\",\"colorbar\":{\"outlinewidth\":0,\"ticks\":\"\"},\"colorscale\":[[0.0,\"#0d0887\"],[0.1111111111111111,\"#46039f\"],[0.2222222222222222,\"#7201a8\"],[0.3333333333333333,\"#9c179e\"],[0.4444444444444444,\"#bd3786\"],[0.5555555555555556,\"#d8576b\"],[0.6666666666666666,\"#ed7953\"],[0.7777777777777778,\"#fb9f3a\"],[0.8888888888888888,\"#fdca26\"],[1.0,\"#f0f921\"]]}],\"choropleth\":[{\"type\":\"choropleth\",\"colorbar\":{\"outlinewidth\":0,\"ticks\":\"\"}}],\"histogram2d\":[{\"type\":\"histogram2d\",\"colorbar\":{\"outlinewidth\":0,\"ticks\":\"\"},\"colorscale\":[[0.0,\"#0d0887\"],[0.1111111111111111,\"#46039f\"],[0.2222222222222222,\"#7201a8\"],[0.3333333333333333,\"#9c179e\"],[0.4444444444444444,\"#bd3786\"],[0.5555555555555556,\"#d8576b\"],[0.6666666666666666,\"#ed7953\"],[0.7777777777777778,\"#fb9f3a\"],[0.8888888888888888,\"#fdca26\"],[1.0,\"#f0f921\"]]}],\"heatmap\":[{\"type\":\"heatmap\",\"colorbar\":{\"outlinewidth\":0,\"ticks\":\"\"},\"colorscale\":[[0.0,\"#0d0887\"],[0.1111111111111111,\"#46039f\"],[0.2222222222222222,\"#7201a8\"],[0.3333333333333333,\"#9c179e\"],[0.4444444444444444,\"#bd3786\"],[0.5555555555555556,\"#d8576b\"],[0.6666666666666666,\"#ed7953\"],[0.7777777777777778,\"#fb9f3a\"],[0.8888888888888888,\"#fdca26\"],[1.0,\"#f0f921\"]]}],\"heatmapgl\":[{\"type\":\"heatmapgl\",\"colorbar\":{\"outlinewidth\":0,\"ticks\":\"\"},\"colorscale\":[[0.0,\"#0d0887\"],[0.1111111111111111,\"#46039f\"],[0.2222222222222222,\"#7201a8\"],[0.3333333333333333,\"#9c179e\"],[0.4444444444444444,\"#bd3786\"],[0.5555555555555556,\"#d8576b\"],[0.6666666666666666,\"#ed7953\"],[0.7777777777777778,\"#fb9f3a\"],[0.8888888888888888,\"#fdca26\"],[1.0,\"#f0f921\"]]}],\"contourcarpet\":[{\"type\":\"contourcarpet\",\"colorbar\":{\"outlinewidth\":0,\"ticks\":\"\"}}],\"contour\":[{\"type\":\"contour\",\"colorbar\":{\"outlinewidth\":0,\"ticks\":\"\"},\"colorscale\":[[0.0,\"#0d0887\"],[0.1111111111111111,\"#46039f\"],[0.2222222222222222,\"#7201a8\"],[0.3333333333333333,\"#9c179e\"],[0.4444444444444444,\"#bd3786\"],[0.5555555555555556,\"#d8576b\"],[0.6666666666666666,\"#ed7953\"],[0.7777777777777778,\"#fb9f3a\"],[0.8888888888888888,\"#fdca26\"],[1.0,\"#f0f921\"]]}],\"surface\":[{\"type\":\"surface\",\"colorbar\":{\"outlinewidth\":0,\"ticks\":\"\"},\"colorscale\":[[0.0,\"#0d0887\"],[0.1111111111111111,\"#46039f\"],[0.2222222222222222,\"#7201a8\"],[0.3333333333333333,\"#9c179e\"],[0.4444444444444444,\"#bd3786\"],[0.5555555555555556,\"#d8576b\"],[0.6666666666666666,\"#ed7953\"],[0.7777777777777778,\"#fb9f3a\"],[0.8888888888888888,\"#fdca26\"],[1.0,\"#f0f921\"]]}],\"mesh3d\":[{\"type\":\"mesh3d\",\"colorbar\":{\"outlinewidth\":0,\"ticks\":\"\"}}],\"scatter\":[{\"fillpattern\":{\"fillmode\":\"overlay\",\"size\":10,\"solidity\":0.2},\"type\":\"scatter\"}],\"parcoords\":[{\"type\":\"parcoords\",\"line\":{\"colorbar\":{\"outlinewidth\":0,\"ticks\":\"\"}}}],\"scatterpolargl\":[{\"type\":\"scatterpolargl\",\"marker\":{\"colorbar\":{\"outlinewidth\":0,\"ticks\":\"\"}}}],\"bar\":[{\"error_x\":{\"color\":\"#2a3f5f\"},\"error_y\":{\"color\":\"#2a3f5f\"},\"marker\":{\"line\":{\"color\":\"#E5ECF6\",\"width\":0.5},\"pattern\":{\"fillmode\":\"overlay\",\"size\":10,\"solidity\":0.2}},\"type\":\"bar\"}],\"scattergeo\":[{\"type\":\"scattergeo\",\"marker\":{\"colorbar\":{\"outlinewidth\":0,\"ticks\":\"\"}}}],\"scatterpolar\":[{\"type\":\"scatterpolar\",\"marker\":{\"colorbar\":{\"outlinewidth\":0,\"ticks\":\"\"}}}],\"histogram\":[{\"marker\":{\"pattern\":{\"fillmode\":\"overlay\",\"size\":10,\"solidity\":0.2}},\"type\":\"histogram\"}],\"scattergl\":[{\"type\":\"scattergl\",\"marker\":{\"colorbar\":{\"outlinewidth\":0,\"ticks\":\"\"}}}],\"scatter3d\":[{\"type\":\"scatter3d\",\"line\":{\"colorbar\":{\"outlinewidth\":0,\"ticks\":\"\"}},\"marker\":{\"colorbar\":{\"outlinewidth\":0,\"ticks\":\"\"}}}],\"scattermapbox\":[{\"type\":\"scattermapbox\",\"marker\":{\"colorbar\":{\"outlinewidth\":0,\"ticks\":\"\"}}}],\"scatterternary\":[{\"type\":\"scatterternary\",\"marker\":{\"colorbar\":{\"outlinewidth\":0,\"ticks\":\"\"}}}],\"scattercarpet\":[{\"type\":\"scattercarpet\",\"marker\":{\"colorbar\":{\"outlinewidth\":0,\"ticks\":\"\"}}}],\"carpet\":[{\"aaxis\":{\"endlinecolor\":\"#2a3f5f\",\"gridcolor\":\"white\",\"linecolor\":\"white\",\"minorgridcolor\":\"white\",\"startlinecolor\":\"#2a3f5f\"},\"baxis\":{\"endlinecolor\":\"#2a3f5f\",\"gridcolor\":\"white\",\"linecolor\":\"white\",\"minorgridcolor\":\"white\",\"startlinecolor\":\"#2a3f5f\"},\"type\":\"carpet\"}],\"table\":[{\"cells\":{\"fill\":{\"color\":\"#EBF0F8\"},\"line\":{\"color\":\"white\"}},\"header\":{\"fill\":{\"color\":\"#C8D4E3\"},\"line\":{\"color\":\"white\"}},\"type\":\"table\"}],\"barpolar\":[{\"marker\":{\"line\":{\"color\":\"#E5ECF6\",\"width\":0.5},\"pattern\":{\"fillmode\":\"overlay\",\"size\":10,\"solidity\":0.2}},\"type\":\"barpolar\"}],\"pie\":[{\"automargin\":true,\"type\":\"pie\"}]},\"layout\":{\"autotypenumbers\":\"strict\",\"colorway\":[\"#636efa\",\"#EF553B\",\"#00cc96\",\"#ab63fa\",\"#FFA15A\",\"#19d3f3\",\"#FF6692\",\"#B6E880\",\"#FF97FF\",\"#FECB52\"],\"font\":{\"color\":\"#2a3f5f\"},\"hovermode\":\"closest\",\"hoverlabel\":{\"align\":\"left\"},\"paper_bgcolor\":\"white\",\"plot_bgcolor\":\"#E5ECF6\",\"polar\":{\"bgcolor\":\"#E5ECF6\",\"angularaxis\":{\"gridcolor\":\"white\",\"linecolor\":\"white\",\"ticks\":\"\"},\"radialaxis\":{\"gridcolor\":\"white\",\"linecolor\":\"white\",\"ticks\":\"\"}},\"ternary\":{\"bgcolor\":\"#E5ECF6\",\"aaxis\":{\"gridcolor\":\"white\",\"linecolor\":\"white\",\"ticks\":\"\"},\"baxis\":{\"gridcolor\":\"white\",\"linecolor\":\"white\",\"ticks\":\"\"},\"caxis\":{\"gridcolor\":\"white\",\"linecolor\":\"white\",\"ticks\":\"\"}},\"coloraxis\":{\"colorbar\":{\"outlinewidth\":0,\"ticks\":\"\"}},\"colorscale\":{\"sequential\":[[0.0,\"#0d0887\"],[0.1111111111111111,\"#46039f\"],[0.2222222222222222,\"#7201a8\"],[0.3333333333333333,\"#9c179e\"],[0.4444444444444444,\"#bd3786\"],[0.5555555555555556,\"#d8576b\"],[0.6666666666666666,\"#ed7953\"],[0.7777777777777778,\"#fb9f3a\"],[0.8888888888888888,\"#fdca26\"],[1.0,\"#f0f921\"]],\"sequentialminus\":[[0.0,\"#0d0887\"],[0.1111111111111111,\"#46039f\"],[0.2222222222222222,\"#7201a8\"],[0.3333333333333333,\"#9c179e\"],[0.4444444444444444,\"#bd3786\"],[0.5555555555555556,\"#d8576b\"],[0.6666666666666666,\"#ed7953\"],[0.7777777777777778,\"#fb9f3a\"],[0.8888888888888888,\"#fdca26\"],[1.0,\"#f0f921\"]],\"diverging\":[[0,\"#8e0152\"],[0.1,\"#c51b7d\"],[0.2,\"#de77ae\"],[0.3,\"#f1b6da\"],[0.4,\"#fde0ef\"],[0.5,\"#f7f7f7\"],[0.6,\"#e6f5d0\"],[0.7,\"#b8e186\"],[0.8,\"#7fbc41\"],[0.9,\"#4d9221\"],[1,\"#276419\"]]},\"xaxis\":{\"gridcolor\":\"white\",\"linecolor\":\"white\",\"ticks\":\"\",\"title\":{\"standoff\":15},\"zerolinecolor\":\"white\",\"automargin\":true,\"zerolinewidth\":2},\"yaxis\":{\"gridcolor\":\"white\",\"linecolor\":\"white\",\"ticks\":\"\",\"title\":{\"standoff\":15},\"zerolinecolor\":\"white\",\"automargin\":true,\"zerolinewidth\":2},\"scene\":{\"xaxis\":{\"backgroundcolor\":\"#E5ECF6\",\"gridcolor\":\"white\",\"linecolor\":\"white\",\"showbackground\":true,\"ticks\":\"\",\"zerolinecolor\":\"white\",\"gridwidth\":2},\"yaxis\":{\"backgroundcolor\":\"#E5ECF6\",\"gridcolor\":\"white\",\"linecolor\":\"white\",\"showbackground\":true,\"ticks\":\"\",\"zerolinecolor\":\"white\",\"gridwidth\":2},\"zaxis\":{\"backgroundcolor\":\"#E5ECF6\",\"gridcolor\":\"white\",\"linecolor\":\"white\",\"showbackground\":true,\"ticks\":\"\",\"zerolinecolor\":\"white\",\"gridwidth\":2}},\"shapedefaults\":{\"line\":{\"color\":\"#2a3f5f\"}},\"annotationdefaults\":{\"arrowcolor\":\"#2a3f5f\",\"arrowhead\":0,\"arrowwidth\":1},\"geo\":{\"bgcolor\":\"white\",\"landcolor\":\"#E5ECF6\",\"subunitcolor\":\"white\",\"showland\":true,\"showlakes\":true,\"lakecolor\":\"white\"},\"title\":{\"x\":0.05},\"mapbox\":{\"style\":\"light\"}}},\"xaxis\":{\"anchor\":\"y\",\"domain\":[0.0,0.475]},\"yaxis\":{\"anchor\":\"x\",\"domain\":[0.9089999999999999,0.9999999999999999]},\"xaxis2\":{\"anchor\":\"y2\",\"domain\":[0.525,1.0]},\"yaxis2\":{\"anchor\":\"x2\",\"domain\":[0.9089999999999999,0.9999999999999999]},\"xaxis3\":{\"anchor\":\"y3\",\"domain\":[0.0,0.475]},\"yaxis3\":{\"anchor\":\"x3\",\"domain\":[0.8079999999999999,0.8989999999999999]},\"xaxis4\":{\"anchor\":\"y4\",\"domain\":[0.525,1.0]},\"yaxis4\":{\"anchor\":\"x4\",\"domain\":[0.8079999999999999,0.8989999999999999]},\"xaxis5\":{\"anchor\":\"y5\",\"domain\":[0.0,0.475]},\"yaxis5\":{\"anchor\":\"x5\",\"domain\":[0.7070000000000001,0.798]},\"xaxis6\":{\"anchor\":\"y6\",\"domain\":[0.525,1.0]},\"yaxis6\":{\"anchor\":\"x6\",\"domain\":[0.7070000000000001,0.798]},\"xaxis7\":{\"anchor\":\"y7\",\"domain\":[0.0,0.475]},\"yaxis7\":{\"anchor\":\"x7\",\"domain\":[0.6060000000000001,0.6970000000000001]},\"xaxis8\":{\"anchor\":\"y8\",\"domain\":[0.525,1.0]},\"yaxis8\":{\"anchor\":\"x8\",\"domain\":[0.6060000000000001,0.6970000000000001]},\"xaxis9\":{\"anchor\":\"y9\",\"domain\":[0.0,0.475]},\"yaxis9\":{\"anchor\":\"x9\",\"domain\":[0.505,0.596]},\"xaxis10\":{\"anchor\":\"y10\",\"domain\":[0.525,1.0]},\"yaxis10\":{\"anchor\":\"x10\",\"domain\":[0.505,0.596]},\"xaxis11\":{\"anchor\":\"y11\",\"domain\":[0.0,0.475]},\"yaxis11\":{\"anchor\":\"x11\",\"domain\":[0.40399999999999997,0.495]},\"xaxis12\":{\"anchor\":\"y12\",\"domain\":[0.525,1.0]},\"yaxis12\":{\"anchor\":\"x12\",\"domain\":[0.40399999999999997,0.495]},\"xaxis13\":{\"anchor\":\"y13\",\"domain\":[0.0,0.475]},\"yaxis13\":{\"anchor\":\"x13\",\"domain\":[0.30300000000000005,0.394]},\"xaxis14\":{\"anchor\":\"y14\",\"domain\":[0.525,1.0]},\"yaxis14\":{\"anchor\":\"x14\",\"domain\":[0.30300000000000005,0.394]},\"xaxis15\":{\"anchor\":\"y15\",\"domain\":[0.0,0.475]},\"yaxis15\":{\"anchor\":\"x15\",\"domain\":[0.20199999999999999,0.293]},\"xaxis16\":{\"anchor\":\"y16\",\"domain\":[0.525,1.0]},\"yaxis16\":{\"anchor\":\"x16\",\"domain\":[0.20199999999999999,0.293]},\"xaxis17\":{\"anchor\":\"y17\",\"domain\":[0.0,0.475]},\"yaxis17\":{\"anchor\":\"x17\",\"domain\":[0.10099999999999999,0.192]},\"xaxis18\":{\"anchor\":\"y18\",\"domain\":[0.525,1.0]},\"yaxis18\":{\"anchor\":\"x18\",\"domain\":[0.10099999999999999,0.192]},\"xaxis19\":{\"anchor\":\"y19\",\"domain\":[0.0,0.475]},\"yaxis19\":{\"anchor\":\"x19\",\"domain\":[0.0,0.091]},\"xaxis20\":{\"anchor\":\"y20\",\"domain\":[0.525,1.0]},\"yaxis20\":{\"anchor\":\"x20\",\"domain\":[0.0,0.091]},\"annotations\":[{\"font\":{\"size\":16},\"showarrow\":false,\"text\":\"State\",\"x\":0.2375,\"xanchor\":\"center\",\"xref\":\"paper\",\"y\":0.9999999999999999,\"yanchor\":\"bottom\",\"yref\":\"paper\"},{\"font\":{\"size\":16},\"showarrow\":false,\"text\":\"Response\",\"x\":0.7625,\"xanchor\":\"center\",\"xref\":\"paper\",\"y\":0.9999999999999999,\"yanchor\":\"bottom\",\"yref\":\"paper\"},{\"font\":{\"size\":16},\"showarrow\":false,\"text\":\"Coverage Index\",\"x\":0.2375,\"xanchor\":\"center\",\"xref\":\"paper\",\"y\":0.8989999999999999,\"yanchor\":\"bottom\",\"yref\":\"paper\"},{\"font\":{\"size\":16},\"showarrow\":false,\"text\":\"Education Index\",\"x\":0.7625,\"xanchor\":\"center\",\"xref\":\"paper\",\"y\":0.8989999999999999,\"yanchor\":\"bottom\",\"yref\":\"paper\"},{\"font\":{\"size\":16},\"showarrow\":false,\"text\":\"Employment Status Index\",\"x\":0.2375,\"xanchor\":\"center\",\"xref\":\"paper\",\"y\":0.798,\"yanchor\":\"bottom\",\"yref\":\"paper\"},{\"font\":{\"size\":16},\"showarrow\":false,\"text\":\"Gender\",\"x\":0.7625,\"xanchor\":\"center\",\"xref\":\"paper\",\"y\":0.798,\"yanchor\":\"bottom\",\"yref\":\"paper\"},{\"font\":{\"size\":16},\"showarrow\":false,\"text\":\"Marital Status Index\",\"x\":0.2375,\"xanchor\":\"center\",\"xref\":\"paper\",\"y\":0.6970000000000001,\"yanchor\":\"bottom\",\"yref\":\"paper\"},{\"font\":{\"size\":16},\"showarrow\":false,\"text\":\"Number of Open Complaints\",\"x\":0.7625,\"xanchor\":\"center\",\"xref\":\"paper\",\"y\":0.6970000000000001,\"yanchor\":\"bottom\",\"yref\":\"paper\"},{\"font\":{\"size\":16},\"showarrow\":false,\"text\":\"Number of Policies\",\"x\":0.2375,\"xanchor\":\"center\",\"xref\":\"paper\",\"y\":0.596,\"yanchor\":\"bottom\",\"yref\":\"paper\"},{\"font\":{\"size\":16},\"showarrow\":false,\"text\":\"Policy Type Index\",\"x\":0.7625,\"xanchor\":\"center\",\"xref\":\"paper\",\"y\":0.596,\"yanchor\":\"bottom\",\"yref\":\"paper\"},{\"font\":{\"size\":16},\"showarrow\":false,\"text\":\"Policy Index\",\"x\":0.2375,\"xanchor\":\"center\",\"xref\":\"paper\",\"y\":0.495,\"yanchor\":\"bottom\",\"yref\":\"paper\"},{\"font\":{\"size\":16},\"showarrow\":false,\"text\":\"Renew Offer Type\",\"x\":0.7625,\"xanchor\":\"center\",\"xref\":\"paper\",\"y\":0.495,\"yanchor\":\"bottom\",\"yref\":\"paper\"},{\"font\":{\"size\":16},\"showarrow\":false,\"text\":\"Sales Channel Index\",\"x\":0.2375,\"xanchor\":\"center\",\"xref\":\"paper\",\"y\":0.394,\"yanchor\":\"bottom\",\"yref\":\"paper\"},{\"font\":{\"size\":16},\"showarrow\":false,\"text\":\"Vehicle Size Index\",\"x\":0.7625,\"xanchor\":\"center\",\"xref\":\"paper\",\"y\":0.394,\"yanchor\":\"bottom\",\"yref\":\"paper\"},{\"font\":{\"size\":16},\"showarrow\":false,\"text\":\"Effective To Month\",\"x\":0.2375,\"xanchor\":\"center\",\"xref\":\"paper\",\"y\":0.293,\"yanchor\":\"bottom\",\"yref\":\"paper\"},{\"font\":{\"size\":16},\"showarrow\":false,\"text\":\"Years Since Last Claim\",\"x\":0.7625,\"xanchor\":\"center\",\"xref\":\"paper\",\"y\":0.293,\"yanchor\":\"bottom\",\"yref\":\"paper\"},{\"font\":{\"size\":16},\"showarrow\":false,\"text\":\"Years Since Policy Inception\",\"x\":0.2375,\"xanchor\":\"center\",\"xref\":\"paper\",\"y\":0.192,\"yanchor\":\"bottom\",\"yref\":\"paper\"},{\"font\":{\"size\":16},\"showarrow\":false,\"text\":\"Customer Lifetime Value_bin\",\"x\":0.7625,\"xanchor\":\"center\",\"xref\":\"paper\",\"y\":0.192,\"yanchor\":\"bottom\",\"yref\":\"paper\"},{\"font\":{\"size\":16},\"showarrow\":false,\"text\":\"Income_bin\",\"x\":0.2375,\"xanchor\":\"center\",\"xref\":\"paper\",\"y\":0.091,\"yanchor\":\"bottom\",\"yref\":\"paper\"},{\"font\":{\"size\":16},\"showarrow\":false,\"text\":\"Accident Likelihood_bin\",\"x\":0.7625,\"xanchor\":\"center\",\"xref\":\"paper\",\"y\":0.091,\"yanchor\":\"bottom\",\"yref\":\"paper\"}],\"title\":{\"text\":\"How Each Column Affects 'Claim over 1k'\"},\"height\":3000,\"showlegend\":false},                        {\"responsive\": true}                    ).then(function(){\n",
       "                            \n",
       "var gd = document.getElementById('573818e3-dff9-4d86-ad02-b78c061b6319');\n",
       "var x = new MutationObserver(function (mutations, observer) {{\n",
       "        var display = window.getComputedStyle(gd).display;\n",
       "        if (!display || display === 'none') {{\n",
       "            console.log([gd, 'removed!']);\n",
       "            Plotly.purge(gd);\n",
       "            observer.disconnect();\n",
       "        }}\n",
       "}});\n",
       "\n",
       "// Listen for the removal of the full notebook cells\n",
       "var notebookContainer = gd.closest('#notebook-container');\n",
       "if (notebookContainer) {{\n",
       "    x.observe(notebookContainer, {childList: true});\n",
       "}}\n",
       "\n",
       "// Listen for the clearing of the current output cell\n",
       "var outputEl = gd.closest('.output');\n",
       "if (outputEl) {{\n",
       "    x.observe(outputEl, {childList: true});\n",
       "}}\n",
       "\n",
       "                        })                };                });            </script>        </div>"
      ]
     },
     "metadata": {},
     "output_type": "display_data"
    },
    {
     "data": {
      "text/plain": [
       "<Figure size 3000x8000 with 0 Axes>"
      ]
     },
     "metadata": {},
     "output_type": "display_data"
    }
   ],
   "source": [
    "relation_to_claim_over_1k(df_process)"
   ]
  },
  {
   "cell_type": "code",
   "execution_count": 4358,
   "metadata": {},
   "outputs": [],
   "source": [
    "standard_scaler = StandardScaler()\n",
    "\n",
    "def apply_scaler(df, scaler):\n",
    "  scaled_data = scaler.fit_transform(df)\n",
    "  df_scaled = pd.DataFrame(scaled_data, columns=df.columns)\n",
    "  return df_scaled"
   ]
  },
  {
   "cell_type": "code",
   "execution_count": 4359,
   "metadata": {},
   "outputs": [
    {
     "data": {
      "application/vnd.plotly.v1+json": {
       "config": {
        "plotlyServerURL": "https://plot.ly"
       },
       "data": [
        {
         "name": "-1.1666986963436063",
         "type": "bar",
         "x": [
          -0.35893238342157147,
          2.786040062664073
         ],
         "xaxis": "x",
         "y": [
          2217,
          303
         ],
         "yaxis": "y"
        },
        {
         "name": "-0.43832381440947177",
         "type": "bar",
         "x": [
          -0.35893238342157147,
          2.786040062664073
         ],
         "xaxis": "x",
         "y": [
          560,
          72
         ],
         "yaxis": "y"
        },
        {
         "name": "0.29005106752466286",
         "type": "bar",
         "x": [
          -0.35893238342157147,
          2.786040062664073
         ],
         "xaxis": "x",
         "y": [
          1827,
          250
         ],
         "yaxis": "y"
        },
        {
         "name": "1.0184259494587975",
         "type": "bar",
         "x": [
          -0.35893238342157147,
          2.786040062664073
         ],
         "xaxis": "x",
         "y": [
          1217,
          136
         ],
         "yaxis": "y"
        },
        {
         "name": "1.7468008313929322",
         "type": "bar",
         "x": [
          -0.35893238342157147,
          2.786040062664073
         ],
         "xaxis": "x",
         "y": [
          637,
          71
         ],
         "yaxis": "y"
        },
        {
         "name": "-0.4044840446523102",
         "type": "bar",
         "x": [
          -0.35893238342157147,
          2.786040062664073
         ],
         "xaxis": "x2",
         "y": [
          5511,
          754
         ],
         "yaxis": "y2"
        },
        {
         "name": "2.4722854046309495",
         "type": "bar",
         "x": [
          -0.35893238342157147,
          2.786040062664073
         ],
         "xaxis": "x2",
         "y": [
          947,
          78
         ],
         "yaxis": "y2"
        },
        {
         "name": "-0.7441931863794389",
         "type": "bar",
         "x": [
          -0.35893238342157147,
          2.786040062664073
         ],
         "xaxis": "x3",
         "y": [
          4060,
          327
         ],
         "yaxis": "y3"
        },
        {
         "name": "0.7737610186306645",
         "type": "bar",
         "x": [
          -0.35893238342157147,
          2.786040062664073
         ],
         "xaxis": "x3",
         "y": [
          1961,
          271
         ],
         "yaxis": "y3"
        },
        {
         "name": "2.2917152236407676",
         "type": "bar",
         "x": [
          -0.35893238342157147,
          2.786040062664073
         ],
         "xaxis": "x3",
         "y": [
          437,
          234
         ],
         "yaxis": "y3"
        },
        {
         "name": "-1.1929120101552244",
         "type": "bar",
         "x": [
          -0.35893238342157147,
          2.786040062664073
         ],
         "xaxis": "x4",
         "y": [
          1763,
          323
         ],
         "yaxis": "y4"
        },
        {
         "name": "-0.26619328103847395",
         "type": "bar",
         "x": [
          -0.35893238342157147,
          2.786040062664073
         ],
         "xaxis": "x4",
         "y": [
          1947,
          216
         ],
         "yaxis": "y4"
        },
        {
         "name": "0.6605254480782765",
         "type": "bar",
         "x": [
          -0.35893238342157147,
          2.786040062664073
         ],
         "xaxis": "x4",
         "y": [
          1923,
          252
         ],
         "yaxis": "y4"
        },
        {
         "name": "1.587244177195027",
         "type": "bar",
         "x": [
          -0.35893238342157147,
          2.786040062664073
         ],
         "xaxis": "x4",
         "y": [
          559,
          34
         ],
         "yaxis": "y4"
        },
        {
         "name": "2.5139629063117774",
         "type": "bar",
         "x": [
          -0.35893238342157147,
          2.786040062664073
         ],
         "xaxis": "x4",
         "y": [
          266,
          7
         ],
         "yaxis": "y4"
        },
        {
         "name": "-1.0826574336027592",
         "type": "bar",
         "x": [
          -0.35893238342157147,
          2.786040062664073
         ],
         "xaxis": "x5",
         "y": [
          1410,
          458
         ],
         "yaxis": "y5"
        },
        {
         "name": "0.015821716148683315",
         "type": "bar",
         "x": [
          -0.35893238342157147,
          2.786040062664073
         ],
         "xaxis": "x5",
         "y": [
          4255,
          281
         ],
         "yaxis": "y5"
        },
        {
         "name": "1.1143008659001257",
         "type": "bar",
         "x": [
          -0.35893238342157147,
          2.786040062664073
         ],
         "xaxis": "x5",
         "y": [
          297,
          41
         ],
         "yaxis": "y5"
        },
        {
         "name": "2.2127800156515685",
         "type": "bar",
         "x": [
          -0.35893238342157147,
          2.786040062664073
         ],
         "xaxis": "x5",
         "y": [
          205,
          14
         ],
         "yaxis": "y5"
        },
        {
         "name": "3.311259165403011",
         "type": "bar",
         "x": [
          -0.35893238342157147,
          2.786040062664073
         ],
         "xaxis": "x5",
         "y": [
          291,
          38
         ],
         "yaxis": "y5"
        },
        {
         "name": "-0.9820540070467964",
         "type": "bar",
         "x": [
          -0.35893238342157147,
          2.786040062664073
         ],
         "xaxis": "x6",
         "y": [
          3362,
          349
         ],
         "yaxis": "y6"
        },
        {
         "name": "1.018273936895966",
         "type": "bar",
         "x": [
          -0.35893238342157147,
          2.786040062664073
         ],
         "xaxis": "x6",
         "y": [
          3096,
          483
         ],
         "yaxis": "y6"
        },
        {
         "name": "-1.3749714585688404",
         "type": "bar",
         "x": [
          -0.35893238342157147,
          2.786040062664073
         ],
         "xaxis": "x7",
         "y": [
          1530,
          455
         ],
         "yaxis": "y7"
        },
        {
         "name": "0.19071769059811466",
         "type": "bar",
         "x": [
          -0.35893238342157147,
          2.786040062664073
         ],
         "xaxis": "x7",
         "y": [
          3908,
          300
         ],
         "yaxis": "y7"
        },
        {
         "name": "1.7564068397650698",
         "type": "bar",
         "x": [
          -0.35893238342157147,
          2.786040062664073
         ],
         "xaxis": "x7",
         "y": [
          1020,
          77
         ],
         "yaxis": "y7"
        },
        {
         "name": "-0.4198904054813107",
         "type": "bar",
         "x": [
          -0.35893238342157147,
          2.786040062664073
         ],
         "xaxis": "x8",
         "y": [
          5132,
          666
         ],
         "yaxis": "y8"
        },
        {
         "name": "0.6871624176502462",
         "type": "bar",
         "x": [
          -0.35893238342157147,
          2.786040062664073
         ],
         "xaxis": "x8",
         "y": [
          721,
          88
         ],
         "yaxis": "y8"
        },
        {
         "name": "1.794215240781803",
         "type": "bar",
         "x": [
          -0.35893238342157147,
          2.786040062664073
         ],
         "xaxis": "x8",
         "y": [
          266,
          33
         ],
         "yaxis": "y8"
        },
        {
         "name": "2.9012680639133603",
         "type": "bar",
         "x": [
          -0.35893238342157147,
          2.786040062664073
         ],
         "xaxis": "x8",
         "y": [
          205,
          20
         ],
         "yaxis": "y8"
        },
        {
         "name": "4.008320887044917",
         "type": "bar",
         "x": [
          -0.35893238342157147,
          2.786040062664073
         ],
         "xaxis": "x8",
         "y": [
          94,
          18
         ],
         "yaxis": "y8"
        },
        {
         "name": "5.115373710176474",
         "type": "bar",
         "x": [
          -0.35893238342157147,
          2.786040062664073
         ],
         "xaxis": "x8",
         "y": [
          40,
          7
         ],
         "yaxis": "y8"
        },
        {
         "name": "-0.823137290833709",
         "type": "bar",
         "x": [
          -0.35893238342157147,
          2.786040062664073
         ],
         "xaxis": "x9",
         "y": [
          2281,
          308
         ],
         "yaxis": "y9"
        },
        {
         "name": "-0.4071750802294016",
         "type": "bar",
         "x": [
          -0.35893238342157147,
          2.786040062664073
         ],
         "xaxis": "x9",
         "y": [
          1632,
          204
         ],
         "yaxis": "y9"
        },
        {
         "name": "0.008787130374905864",
         "type": "bar",
         "x": [
          -0.35893238342157147,
          2.786040062664073
         ],
         "xaxis": "x9",
         "y": [
          839,
          82
         ],
         "yaxis": "y9"
        },
        {
         "name": "0.4247493409792133",
         "type": "bar",
         "x": [
          -0.35893238342157147,
          2.786040062664073
         ],
         "xaxis": "x9",
         "y": [
          284,
          41
         ],
         "yaxis": "y9"
        },
        {
         "name": "0.8407115515835207",
         "type": "bar",
         "x": [
          -0.35893238342157147,
          2.786040062664073
         ],
         "xaxis": "x9",
         "y": [
          285,
          35
         ],
         "yaxis": "y9"
        },
        {
         "name": "1.2566737621878281",
         "type": "bar",
         "x": [
          -0.35893238342157147,
          2.786040062664073
         ],
         "xaxis": "x9",
         "y": [
          260,
          33
         ],
         "yaxis": "y9"
        },
        {
         "name": "1.6726359727921356",
         "type": "bar",
         "x": [
          -0.35893238342157147,
          2.786040062664073
         ],
         "xaxis": "x9",
         "y": [
          299,
          54
         ],
         "yaxis": "y9"
        },
        {
         "name": "2.088598183396443",
         "type": "bar",
         "x": [
          -0.35893238342157147,
          2.786040062664073
         ],
         "xaxis": "x9",
         "y": [
          269,
          45
         ],
         "yaxis": "y9"
        },
        {
         "name": "2.5045603940007504",
         "type": "bar",
         "x": [
          -0.35893238342157147,
          2.786040062664073
         ],
         "xaxis": "x9",
         "y": [
          309,
          30
         ],
         "yaxis": "y9"
        },
        {
         "name": "-0.5515311088689897",
         "type": "bar",
         "x": [
          -0.35893238342157147,
          2.786040062664073
         ],
         "xaxis": "x10",
         "y": [
          4797,
          619
         ],
         "yaxis": "y10"
        },
        {
         "name": "1.2869059206943092",
         "type": "bar",
         "x": [
          -0.35893238342157147,
          2.786040062664073
         ],
         "xaxis": "x10",
         "y": [
          1386,
          175
         ],
         "yaxis": "y10"
        },
        {
         "name": "3.1253429502576084",
         "type": "bar",
         "x": [
          -0.35893238342157147,
          2.786040062664073
         ],
         "xaxis": "x10",
         "y": [
          275,
          38
         ],
         "yaxis": "y10"
        },
        {
         "name": "-1.2416018359508474",
         "type": "bar",
         "x": [
          -0.35893238342157147,
          2.786040062664073
         ],
         "xaxis": "x11",
         "y": [
          866,
          120
         ],
         "yaxis": "y11"
        },
        {
         "name": "-0.6814980374309416",
         "type": "bar",
         "x": [
          -0.35893238342157147,
          2.786040062664073
         ],
         "xaxis": "x11",
         "y": [
          1493,
          196
         ],
         "yaxis": "y11"
        },
        {
         "name": "-0.12139423891103573",
         "type": "bar",
         "x": [
          -0.35893238342157147,
          2.786040062664073
         ],
         "xaxis": "x11",
         "y": [
          2438,
          303
         ],
         "yaxis": "y11"
        },
        {
         "name": "0.4387095596088701",
         "type": "bar",
         "x": [
          -0.35893238342157147,
          2.786040062664073
         ],
         "xaxis": "x11",
         "y": [
          265,
          33
         ],
         "yaxis": "y11"
        },
        {
         "name": "0.9988133581287759",
         "type": "bar",
         "x": [
          -0.35893238342157147,
          2.786040062664073
         ],
         "xaxis": "x11",
         "y": [
          424,
          53
         ],
         "yaxis": "y11"
        },
        {
         "name": "1.5589171566486817",
         "type": "bar",
         "x": [
          -0.35893238342157147,
          2.786040062664073
         ],
         "xaxis": "x11",
         "y": [
          697,
          89
         ],
         "yaxis": "y11"
        },
        {
         "name": "2.1190209551685877",
         "type": "bar",
         "x": [
          -0.35893238342157147,
          2.786040062664073
         ],
         "xaxis": "x11",
         "y": [
          47,
          11
         ],
         "yaxis": "y11"
        },
        {
         "name": "2.6791247536884937",
         "type": "bar",
         "x": [
          -0.35893238342157147,
          2.786040062664073
         ],
         "xaxis": "x11",
         "y": [
          117,
          14
         ],
         "yaxis": "y11"
        },
        {
         "name": "3.2392285522083997",
         "type": "bar",
         "x": [
          -0.35893238342157147,
          2.786040062664073
         ],
         "xaxis": "x11",
         "y": [
          111,
          13
         ],
         "yaxis": "y11"
        },
        {
         "name": "-0.9600180466355313",
         "type": "bar",
         "x": [
          -0.35893238342157147,
          2.786040062664073
         ],
         "xaxis": "x12",
         "y": [
          2593,
          414
         ],
         "yaxis": "y12"
        },
        {
         "name": "0.03536405547981822",
         "type": "bar",
         "x": [
          -0.35893238342157147,
          2.786040062664073
         ],
         "xaxis": "x12",
         "y": [
          2135,
          206
         ],
         "yaxis": "y12"
        },
        {
         "name": "1.0307461575951677",
         "type": "bar",
         "x": [
          -0.35893238342157147,
          2.786040062664073
         ],
         "xaxis": "x12",
         "y": [
          1000,
          136
         ],
         "yaxis": "y12"
        },
        {
         "name": "2.026128259710517",
         "type": "bar",
         "x": [
          -0.35893238342157147,
          2.786040062664073
         ],
         "xaxis": "x12",
         "y": [
          730,
          76
         ],
         "yaxis": "y12"
        },
        {
         "name": "-1.6963426954315983",
         "type": "bar",
         "x": [
          -0.35893238342157147,
          2.786040062664073
         ],
         "xaxis": "x13",
         "y": [
          956,
          111
         ],
         "yaxis": "y13"
        },
        {
         "name": "-0.6508288089168578",
         "type": "bar",
         "x": [
          -0.35893238342157147,
          2.786040062664073
         ],
         "xaxis": "x13",
         "y": [
          1779,
          250
         ],
         "yaxis": "y13"
        },
        {
         "name": "0.39468507759788296",
         "type": "bar",
         "x": [
          -0.35893238342157147,
          2.786040062664073
         ],
         "xaxis": "x13",
         "y": [
          2463,
          320
         ],
         "yaxis": "y13"
        },
        {
         "name": "1.4401989641126236",
         "type": "bar",
         "x": [
          -0.35893238342157147,
          2.786040062664073
         ],
         "xaxis": "x13",
         "y": [
          1260,
          151
         ],
         "yaxis": "y13"
        },
        {
         "name": "-1.7094616597345778",
         "type": "bar",
         "x": [
          -0.35893238342157147,
          2.786040062664073
         ],
         "xaxis": "x14",
         "y": [
          1188,
          195
         ],
         "yaxis": "y14"
        },
        {
         "name": "0.16142491877691773",
         "type": "bar",
         "x": [
          -0.35893238342157147,
          2.786040062664073
         ],
         "xaxis": "x14",
         "y": [
          4600,
          553
         ],
         "yaxis": "y14"
        },
        {
         "name": "2.0323114972884135",
         "type": "bar",
         "x": [
          -0.35893238342157147,
          2.786040062664073
         ],
         "xaxis": "x14",
         "y": [
          670,
          84
         ],
         "yaxis": "y14"
        },
        {
         "name": "-0.5014998962340338",
         "type": "bar",
         "x": [
          -0.35893238342157147,
          2.786040062664073
         ],
         "xaxis": "x15",
         "y": [
          5159,
          666
         ],
         "yaxis": "y15"
        },
        {
         "name": "1.994018358746244",
         "type": "bar",
         "x": [
          -0.35893238342157147,
          2.786040062664073
         ],
         "xaxis": "x15",
         "y": [
          1299,
          166
         ],
         "yaxis": "y15"
        },
        {
         "name": "-1.1475127871667485",
         "type": "bar",
         "x": [
          -0.35893238342157147,
          2.786040062664073
         ],
         "xaxis": "x16",
         "y": [
          2078,
          290
         ],
         "yaxis": "y16"
        },
        {
         "name": "-0.2312621608309767",
         "type": "bar",
         "x": [
          -0.35893238342157147,
          2.786040062664073
         ],
         "xaxis": "x16",
         "y": [
          1799,
          201
         ],
         "yaxis": "y16"
        },
        {
         "name": "0.684988465504795",
         "type": "bar",
         "x": [
          -0.35893238342157147,
          2.786040062664073
         ],
         "xaxis": "x16",
         "y": [
          1446,
          190
         ],
         "yaxis": "y16"
        },
        {
         "name": "1.6012390918405668",
         "type": "bar",
         "x": [
          -0.35893238342157147,
          2.786040062664073
         ],
         "xaxis": "x16",
         "y": [
          1135,
          151
         ],
         "yaxis": "y16"
        },
        {
         "name": "-1.282585416975031",
         "type": "bar",
         "x": [
          -0.35893238342157147,
          2.786040062664073
         ],
         "xaxis": "x17",
         "y": [
          1757,
          216
         ],
         "yaxis": "y17"
        },
        {
         "name": "-0.33237731842340745",
         "type": "bar",
         "x": [
          -0.35893238342157147,
          2.786040062664073
         ],
         "xaxis": "x17",
         "y": [
          1788,
          241
         ],
         "yaxis": "y17"
        },
        {
         "name": "0.617830780128216",
         "type": "bar",
         "x": [
          -0.35893238342157147,
          2.786040062664073
         ],
         "xaxis": "x17",
         "y": [
          1826,
          227
         ],
         "yaxis": "y17"
        },
        {
         "name": "1.5680388786798396",
         "type": "bar",
         "x": [
          -0.35893238342157147,
          2.786040062664073
         ],
         "xaxis": "x17",
         "y": [
          1087,
          148
         ],
         "yaxis": "y17"
        },
        {
         "name": "-1.6750892878410295",
         "type": "bar",
         "x": [
          -0.35893238342157147,
          2.786040062664073
         ],
         "xaxis": "x18",
         "y": [
          238,
          5
         ],
         "yaxis": "y18"
        },
        {
         "name": "-1.5595571449385714",
         "type": "bar",
         "x": [
          -0.35893238342157147,
          2.786040062664073
         ],
         "xaxis": "x18",
         "y": [
          246,
          1
         ],
         "yaxis": "y18"
        },
        {
         "name": "-1.4440250020361134",
         "type": "bar",
         "x": [
          -0.35893238342157147,
          2.786040062664073
         ],
         "xaxis": "x18",
         "y": [
          236,
          3
         ],
         "yaxis": "y18"
        },
        {
         "name": "-1.3284928591336553",
         "type": "bar",
         "x": [
          -0.35893238342157147,
          2.786040062664073
         ],
         "xaxis": "x18",
         "y": [
          242,
          1
         ],
         "yaxis": "y18"
        },
        {
         "name": "-1.2129607162311973",
         "type": "bar",
         "x": [
          -0.35893238342157147,
          2.786040062664073
         ],
         "xaxis": "x18",
         "y": [
          236,
          7
         ],
         "yaxis": "y18"
        },
        {
         "name": "-1.0974285733287394",
         "type": "bar",
         "x": [
          -0.35893238342157147,
          2.786040062664073
         ],
         "xaxis": "x18",
         "y": [
          225,
          18
         ],
         "yaxis": "y18"
        },
        {
         "name": "-0.9818964304262814",
         "type": "bar",
         "x": [
          -0.35893238342157147,
          2.786040062664073
         ],
         "xaxis": "x18",
         "y": [
          208,
          35
         ],
         "yaxis": "y18"
        },
        {
         "name": "-0.8663642875238233",
         "type": "bar",
         "x": [
          -0.35893238342157147,
          2.786040062664073
         ],
         "xaxis": "x18",
         "y": [
          199,
          44
         ],
         "yaxis": "y18"
        },
        {
         "name": "-0.7508321446213653",
         "type": "bar",
         "x": [
          -0.35893238342157147,
          2.786040062664073
         ],
         "xaxis": "x18",
         "y": [
          226,
          17
         ],
         "yaxis": "y18"
        },
        {
         "name": "-0.6353000017189073",
         "type": "bar",
         "x": [
          -0.35893238342157147,
          2.786040062664073
         ],
         "xaxis": "x18",
         "y": [
          212,
          31
         ],
         "yaxis": "y18"
        },
        {
         "name": "-0.5197678588164493",
         "type": "bar",
         "x": [
          -0.35893238342157147,
          2.786040062664073
         ],
         "xaxis": "x18",
         "y": [
          231,
          12
         ],
         "yaxis": "y18"
        },
        {
         "name": "-0.40423571591399127",
         "type": "bar",
         "x": [
          -0.35893238342157147,
          2.786040062664073
         ],
         "xaxis": "x18",
         "y": [
          234,
          9
         ],
         "yaxis": "y18"
        },
        {
         "name": "-0.2887035730115332",
         "type": "bar",
         "x": [
          -0.35893238342157147,
          2.786040062664073
         ],
         "xaxis": "x18",
         "y": [
          231,
          12
         ],
         "yaxis": "y18"
        },
        {
         "name": "-0.1731714301090752",
         "type": "bar",
         "x": [
          -0.35893238342157147,
          2.786040062664073
         ],
         "xaxis": "x18",
         "y": [
          237,
          6
         ],
         "yaxis": "y18"
        },
        {
         "name": "-0.05763928720661718",
         "type": "bar",
         "x": [
          -0.35893238342157147,
          2.786040062664073
         ],
         "xaxis": "x18",
         "y": [
          228,
          15
         ],
         "yaxis": "y18"
        },
        {
         "name": "0.057892855695840836",
         "type": "bar",
         "x": [
          -0.35893238342157147,
          2.786040062664073
         ],
         "xaxis": "x18",
         "y": [
          224,
          19
         ],
         "yaxis": "y18"
        },
        {
         "name": "0.17342499859829885",
         "type": "bar",
         "x": [
          -0.35893238342157147,
          2.786040062664073
         ],
         "xaxis": "x18",
         "y": [
          216,
          27
         ],
         "yaxis": "y18"
        },
        {
         "name": "0.28895714150075685",
         "type": "bar",
         "x": [
          -0.35893238342157147,
          2.786040062664073
         ],
         "xaxis": "x18",
         "y": [
          204,
          39
         ],
         "yaxis": "y18"
        },
        {
         "name": "0.4044892844032149",
         "type": "bar",
         "x": [
          -0.35893238342157147,
          2.786040062664073
         ],
         "xaxis": "x18",
         "y": [
          203,
          40
         ],
         "yaxis": "y18"
        },
        {
         "name": "0.5200214273056729",
         "type": "bar",
         "x": [
          -0.35893238342157147,
          2.786040062664073
         ],
         "xaxis": "x18",
         "y": [
          209,
          34
         ],
         "yaxis": "y18"
        },
        {
         "name": "0.635553570208131",
         "type": "bar",
         "x": [
          -0.35893238342157147,
          2.786040062664073
         ],
         "xaxis": "x18",
         "y": [
          216,
          27
         ],
         "yaxis": "y18"
        },
        {
         "name": "0.7510857131105889",
         "type": "bar",
         "x": [
          -0.35893238342157147,
          2.786040062664073
         ],
         "xaxis": "x18",
         "y": [
          219,
          26
         ],
         "yaxis": "y18"
        },
        {
         "name": "0.866617856013047",
         "type": "bar",
         "x": [
          -0.35893238342157147,
          2.786040062664073
         ],
         "xaxis": "x18",
         "y": [
          212,
          29
         ],
         "yaxis": "y18"
        },
        {
         "name": "0.982149998915505",
         "type": "bar",
         "x": [
          -0.35893238342157147,
          2.786040062664073
         ],
         "xaxis": "x18",
         "y": [
          196,
          47
         ],
         "yaxis": "y18"
        },
        {
         "name": "1.097682141817963",
         "type": "bar",
         "x": [
          -0.35893238342157147,
          2.786040062664073
         ],
         "xaxis": "x18",
         "y": [
          208,
          35
         ],
         "yaxis": "y18"
        },
        {
         "name": "1.213214284720421",
         "type": "bar",
         "x": [
          -0.35893238342157147,
          2.786040062664073
         ],
         "xaxis": "x18",
         "y": [
          178,
          65
         ],
         "yaxis": "y18"
        },
        {
         "name": "1.328746427622879",
         "type": "bar",
         "x": [
          -0.35893238342157147,
          2.786040062664073
         ],
         "xaxis": "x18",
         "y": [
          184,
          59
         ],
         "yaxis": "y18"
        },
        {
         "name": "1.4442785705253371",
         "type": "bar",
         "x": [
          -0.35893238342157147,
          2.786040062664073
         ],
         "xaxis": "x18",
         "y": [
          180,
          63
         ],
         "yaxis": "y18"
        },
        {
         "name": "1.5598107134277952",
         "type": "bar",
         "x": [
          -0.35893238342157147,
          2.786040062664073
         ],
         "xaxis": "x18",
         "y": [
          205,
          40
         ],
         "yaxis": "y18"
        },
        {
         "name": "1.675342856330253",
         "type": "bar",
         "x": [
          -0.35893238342157147,
          2.786040062664073
         ],
         "xaxis": "x18",
         "y": [
          175,
          66
         ],
         "yaxis": "y18"
        },
        {
         "name": "-1.028991510855053",
         "type": "bar",
         "x": [
          -0.35893238342157147,
          2.786040062664073
         ],
         "xaxis": "x19",
         "y": [
          2346,
          570
         ],
         "yaxis": "y19"
        },
        {
         "name": "-0.1714985851425088",
         "type": "bar",
         "x": [
          -0.35893238342157147,
          2.786040062664073
         ],
         "xaxis": "x19",
         "y": [
          1345,
          113
         ],
         "yaxis": "y19"
        },
        {
         "name": "0.6859943405700353",
         "type": "bar",
         "x": [
          -0.35893238342157147,
          2.786040062664073
         ],
         "xaxis": "x19",
         "y": [
          1362,
          96
         ],
         "yaxis": "y19"
        },
        {
         "name": "1.5434872662825794",
         "type": "bar",
         "x": [
          -0.35893238342157147,
          2.786040062664073
         ],
         "xaxis": "x19",
         "y": [
          1405,
          53
         ],
         "yaxis": "y19"
        },
        {
         "name": "-1.306579631478402",
         "type": "bar",
         "x": [
          -0.35893238342157147,
          2.786040062664073
         ],
         "xaxis": "x20",
         "y": [
          1816,
          87
         ],
         "yaxis": "y20"
        },
        {
         "name": "-0.4109552296469445",
         "type": "bar",
         "x": [
          -0.35893238342157147,
          2.786040062664073
         ],
         "xaxis": "x20",
         "y": [
          1723,
          152
         ],
         "yaxis": "y20"
        },
        {
         "name": "0.48466917218451305",
         "type": "bar",
         "x": [
          -0.35893238342157147,
          2.786040062664073
         ],
         "xaxis": "x20",
         "y": [
          1567,
          209
         ],
         "yaxis": "y20"
        },
        {
         "name": "1.3802935740159705",
         "type": "bar",
         "x": [
          -0.35893238342157147,
          2.786040062664073
         ],
         "xaxis": "x20",
         "y": [
          1352,
          384
         ],
         "yaxis": "y20"
        }
       ],
       "layout": {
        "annotations": [
         {
          "font": {
           "size": 16
          },
          "showarrow": false,
          "text": "State",
          "x": 0.2375,
          "xanchor": "center",
          "xref": "paper",
          "y": 0.9999999999999999,
          "yanchor": "bottom",
          "yref": "paper"
         },
         {
          "font": {
           "size": 16
          },
          "showarrow": false,
          "text": "Response",
          "x": 0.7625,
          "xanchor": "center",
          "xref": "paper",
          "y": 0.9999999999999999,
          "yanchor": "bottom",
          "yref": "paper"
         },
         {
          "font": {
           "size": 16
          },
          "showarrow": false,
          "text": "Coverage Index",
          "x": 0.2375,
          "xanchor": "center",
          "xref": "paper",
          "y": 0.8989999999999999,
          "yanchor": "bottom",
          "yref": "paper"
         },
         {
          "font": {
           "size": 16
          },
          "showarrow": false,
          "text": "Education Index",
          "x": 0.7625,
          "xanchor": "center",
          "xref": "paper",
          "y": 0.8989999999999999,
          "yanchor": "bottom",
          "yref": "paper"
         },
         {
          "font": {
           "size": 16
          },
          "showarrow": false,
          "text": "Employment Status Index",
          "x": 0.2375,
          "xanchor": "center",
          "xref": "paper",
          "y": 0.798,
          "yanchor": "bottom",
          "yref": "paper"
         },
         {
          "font": {
           "size": 16
          },
          "showarrow": false,
          "text": "Gender",
          "x": 0.7625,
          "xanchor": "center",
          "xref": "paper",
          "y": 0.798,
          "yanchor": "bottom",
          "yref": "paper"
         },
         {
          "font": {
           "size": 16
          },
          "showarrow": false,
          "text": "Marital Status Index",
          "x": 0.2375,
          "xanchor": "center",
          "xref": "paper",
          "y": 0.6970000000000001,
          "yanchor": "bottom",
          "yref": "paper"
         },
         {
          "font": {
           "size": 16
          },
          "showarrow": false,
          "text": "Number of Open Complaints",
          "x": 0.7625,
          "xanchor": "center",
          "xref": "paper",
          "y": 0.6970000000000001,
          "yanchor": "bottom",
          "yref": "paper"
         },
         {
          "font": {
           "size": 16
          },
          "showarrow": false,
          "text": "Number of Policies",
          "x": 0.2375,
          "xanchor": "center",
          "xref": "paper",
          "y": 0.596,
          "yanchor": "bottom",
          "yref": "paper"
         },
         {
          "font": {
           "size": 16
          },
          "showarrow": false,
          "text": "Policy Type Index",
          "x": 0.7625,
          "xanchor": "center",
          "xref": "paper",
          "y": 0.596,
          "yanchor": "bottom",
          "yref": "paper"
         },
         {
          "font": {
           "size": 16
          },
          "showarrow": false,
          "text": "Policy Index",
          "x": 0.2375,
          "xanchor": "center",
          "xref": "paper",
          "y": 0.495,
          "yanchor": "bottom",
          "yref": "paper"
         },
         {
          "font": {
           "size": 16
          },
          "showarrow": false,
          "text": "Renew Offer Type",
          "x": 0.7625,
          "xanchor": "center",
          "xref": "paper",
          "y": 0.495,
          "yanchor": "bottom",
          "yref": "paper"
         },
         {
          "font": {
           "size": 16
          },
          "showarrow": false,
          "text": "Sales Channel Index",
          "x": 0.2375,
          "xanchor": "center",
          "xref": "paper",
          "y": 0.394,
          "yanchor": "bottom",
          "yref": "paper"
         },
         {
          "font": {
           "size": 16
          },
          "showarrow": false,
          "text": "Vehicle Size Index",
          "x": 0.7625,
          "xanchor": "center",
          "xref": "paper",
          "y": 0.394,
          "yanchor": "bottom",
          "yref": "paper"
         },
         {
          "font": {
           "size": 16
          },
          "showarrow": false,
          "text": "Effective To Month",
          "x": 0.2375,
          "xanchor": "center",
          "xref": "paper",
          "y": 0.293,
          "yanchor": "bottom",
          "yref": "paper"
         },
         {
          "font": {
           "size": 16
          },
          "showarrow": false,
          "text": "Years Since Last Claim",
          "x": 0.7625,
          "xanchor": "center",
          "xref": "paper",
          "y": 0.293,
          "yanchor": "bottom",
          "yref": "paper"
         },
         {
          "font": {
           "size": 16
          },
          "showarrow": false,
          "text": "Years Since Policy Inception",
          "x": 0.2375,
          "xanchor": "center",
          "xref": "paper",
          "y": 0.192,
          "yanchor": "bottom",
          "yref": "paper"
         },
         {
          "font": {
           "size": 16
          },
          "showarrow": false,
          "text": "Customer Lifetime Value_bin",
          "x": 0.7625,
          "xanchor": "center",
          "xref": "paper",
          "y": 0.192,
          "yanchor": "bottom",
          "yref": "paper"
         },
         {
          "font": {
           "size": 16
          },
          "showarrow": false,
          "text": "Income_bin",
          "x": 0.2375,
          "xanchor": "center",
          "xref": "paper",
          "y": 0.091,
          "yanchor": "bottom",
          "yref": "paper"
         },
         {
          "font": {
           "size": 16
          },
          "showarrow": false,
          "text": "Accident Likelihood_bin",
          "x": 0.7625,
          "xanchor": "center",
          "xref": "paper",
          "y": 0.091,
          "yanchor": "bottom",
          "yref": "paper"
         }
        ],
        "height": 3000,
        "showlegend": false,
        "template": {
         "data": {
          "bar": [
           {
            "error_x": {
             "color": "#2a3f5f"
            },
            "error_y": {
             "color": "#2a3f5f"
            },
            "marker": {
             "line": {
              "color": "#E5ECF6",
              "width": 0.5
             },
             "pattern": {
              "fillmode": "overlay",
              "size": 10,
              "solidity": 0.2
             }
            },
            "type": "bar"
           }
          ],
          "barpolar": [
           {
            "marker": {
             "line": {
              "color": "#E5ECF6",
              "width": 0.5
             },
             "pattern": {
              "fillmode": "overlay",
              "size": 10,
              "solidity": 0.2
             }
            },
            "type": "barpolar"
           }
          ],
          "carpet": [
           {
            "aaxis": {
             "endlinecolor": "#2a3f5f",
             "gridcolor": "white",
             "linecolor": "white",
             "minorgridcolor": "white",
             "startlinecolor": "#2a3f5f"
            },
            "baxis": {
             "endlinecolor": "#2a3f5f",
             "gridcolor": "white",
             "linecolor": "white",
             "minorgridcolor": "white",
             "startlinecolor": "#2a3f5f"
            },
            "type": "carpet"
           }
          ],
          "choropleth": [
           {
            "colorbar": {
             "outlinewidth": 0,
             "ticks": ""
            },
            "type": "choropleth"
           }
          ],
          "contour": [
           {
            "colorbar": {
             "outlinewidth": 0,
             "ticks": ""
            },
            "colorscale": [
             [
              0,
              "#0d0887"
             ],
             [
              0.1111111111111111,
              "#46039f"
             ],
             [
              0.2222222222222222,
              "#7201a8"
             ],
             [
              0.3333333333333333,
              "#9c179e"
             ],
             [
              0.4444444444444444,
              "#bd3786"
             ],
             [
              0.5555555555555556,
              "#d8576b"
             ],
             [
              0.6666666666666666,
              "#ed7953"
             ],
             [
              0.7777777777777778,
              "#fb9f3a"
             ],
             [
              0.8888888888888888,
              "#fdca26"
             ],
             [
              1,
              "#f0f921"
             ]
            ],
            "type": "contour"
           }
          ],
          "contourcarpet": [
           {
            "colorbar": {
             "outlinewidth": 0,
             "ticks": ""
            },
            "type": "contourcarpet"
           }
          ],
          "heatmap": [
           {
            "colorbar": {
             "outlinewidth": 0,
             "ticks": ""
            },
            "colorscale": [
             [
              0,
              "#0d0887"
             ],
             [
              0.1111111111111111,
              "#46039f"
             ],
             [
              0.2222222222222222,
              "#7201a8"
             ],
             [
              0.3333333333333333,
              "#9c179e"
             ],
             [
              0.4444444444444444,
              "#bd3786"
             ],
             [
              0.5555555555555556,
              "#d8576b"
             ],
             [
              0.6666666666666666,
              "#ed7953"
             ],
             [
              0.7777777777777778,
              "#fb9f3a"
             ],
             [
              0.8888888888888888,
              "#fdca26"
             ],
             [
              1,
              "#f0f921"
             ]
            ],
            "type": "heatmap"
           }
          ],
          "heatmapgl": [
           {
            "colorbar": {
             "outlinewidth": 0,
             "ticks": ""
            },
            "colorscale": [
             [
              0,
              "#0d0887"
             ],
             [
              0.1111111111111111,
              "#46039f"
             ],
             [
              0.2222222222222222,
              "#7201a8"
             ],
             [
              0.3333333333333333,
              "#9c179e"
             ],
             [
              0.4444444444444444,
              "#bd3786"
             ],
             [
              0.5555555555555556,
              "#d8576b"
             ],
             [
              0.6666666666666666,
              "#ed7953"
             ],
             [
              0.7777777777777778,
              "#fb9f3a"
             ],
             [
              0.8888888888888888,
              "#fdca26"
             ],
             [
              1,
              "#f0f921"
             ]
            ],
            "type": "heatmapgl"
           }
          ],
          "histogram": [
           {
            "marker": {
             "pattern": {
              "fillmode": "overlay",
              "size": 10,
              "solidity": 0.2
             }
            },
            "type": "histogram"
           }
          ],
          "histogram2d": [
           {
            "colorbar": {
             "outlinewidth": 0,
             "ticks": ""
            },
            "colorscale": [
             [
              0,
              "#0d0887"
             ],
             [
              0.1111111111111111,
              "#46039f"
             ],
             [
              0.2222222222222222,
              "#7201a8"
             ],
             [
              0.3333333333333333,
              "#9c179e"
             ],
             [
              0.4444444444444444,
              "#bd3786"
             ],
             [
              0.5555555555555556,
              "#d8576b"
             ],
             [
              0.6666666666666666,
              "#ed7953"
             ],
             [
              0.7777777777777778,
              "#fb9f3a"
             ],
             [
              0.8888888888888888,
              "#fdca26"
             ],
             [
              1,
              "#f0f921"
             ]
            ],
            "type": "histogram2d"
           }
          ],
          "histogram2dcontour": [
           {
            "colorbar": {
             "outlinewidth": 0,
             "ticks": ""
            },
            "colorscale": [
             [
              0,
              "#0d0887"
             ],
             [
              0.1111111111111111,
              "#46039f"
             ],
             [
              0.2222222222222222,
              "#7201a8"
             ],
             [
              0.3333333333333333,
              "#9c179e"
             ],
             [
              0.4444444444444444,
              "#bd3786"
             ],
             [
              0.5555555555555556,
              "#d8576b"
             ],
             [
              0.6666666666666666,
              "#ed7953"
             ],
             [
              0.7777777777777778,
              "#fb9f3a"
             ],
             [
              0.8888888888888888,
              "#fdca26"
             ],
             [
              1,
              "#f0f921"
             ]
            ],
            "type": "histogram2dcontour"
           }
          ],
          "mesh3d": [
           {
            "colorbar": {
             "outlinewidth": 0,
             "ticks": ""
            },
            "type": "mesh3d"
           }
          ],
          "parcoords": [
           {
            "line": {
             "colorbar": {
              "outlinewidth": 0,
              "ticks": ""
             }
            },
            "type": "parcoords"
           }
          ],
          "pie": [
           {
            "automargin": true,
            "type": "pie"
           }
          ],
          "scatter": [
           {
            "fillpattern": {
             "fillmode": "overlay",
             "size": 10,
             "solidity": 0.2
            },
            "type": "scatter"
           }
          ],
          "scatter3d": [
           {
            "line": {
             "colorbar": {
              "outlinewidth": 0,
              "ticks": ""
             }
            },
            "marker": {
             "colorbar": {
              "outlinewidth": 0,
              "ticks": ""
             }
            },
            "type": "scatter3d"
           }
          ],
          "scattercarpet": [
           {
            "marker": {
             "colorbar": {
              "outlinewidth": 0,
              "ticks": ""
             }
            },
            "type": "scattercarpet"
           }
          ],
          "scattergeo": [
           {
            "marker": {
             "colorbar": {
              "outlinewidth": 0,
              "ticks": ""
             }
            },
            "type": "scattergeo"
           }
          ],
          "scattergl": [
           {
            "marker": {
             "colorbar": {
              "outlinewidth": 0,
              "ticks": ""
             }
            },
            "type": "scattergl"
           }
          ],
          "scattermapbox": [
           {
            "marker": {
             "colorbar": {
              "outlinewidth": 0,
              "ticks": ""
             }
            },
            "type": "scattermapbox"
           }
          ],
          "scatterpolar": [
           {
            "marker": {
             "colorbar": {
              "outlinewidth": 0,
              "ticks": ""
             }
            },
            "type": "scatterpolar"
           }
          ],
          "scatterpolargl": [
           {
            "marker": {
             "colorbar": {
              "outlinewidth": 0,
              "ticks": ""
             }
            },
            "type": "scatterpolargl"
           }
          ],
          "scatterternary": [
           {
            "marker": {
             "colorbar": {
              "outlinewidth": 0,
              "ticks": ""
             }
            },
            "type": "scatterternary"
           }
          ],
          "surface": [
           {
            "colorbar": {
             "outlinewidth": 0,
             "ticks": ""
            },
            "colorscale": [
             [
              0,
              "#0d0887"
             ],
             [
              0.1111111111111111,
              "#46039f"
             ],
             [
              0.2222222222222222,
              "#7201a8"
             ],
             [
              0.3333333333333333,
              "#9c179e"
             ],
             [
              0.4444444444444444,
              "#bd3786"
             ],
             [
              0.5555555555555556,
              "#d8576b"
             ],
             [
              0.6666666666666666,
              "#ed7953"
             ],
             [
              0.7777777777777778,
              "#fb9f3a"
             ],
             [
              0.8888888888888888,
              "#fdca26"
             ],
             [
              1,
              "#f0f921"
             ]
            ],
            "type": "surface"
           }
          ],
          "table": [
           {
            "cells": {
             "fill": {
              "color": "#EBF0F8"
             },
             "line": {
              "color": "white"
             }
            },
            "header": {
             "fill": {
              "color": "#C8D4E3"
             },
             "line": {
              "color": "white"
             }
            },
            "type": "table"
           }
          ]
         },
         "layout": {
          "annotationdefaults": {
           "arrowcolor": "#2a3f5f",
           "arrowhead": 0,
           "arrowwidth": 1
          },
          "autotypenumbers": "strict",
          "coloraxis": {
           "colorbar": {
            "outlinewidth": 0,
            "ticks": ""
           }
          },
          "colorscale": {
           "diverging": [
            [
             0,
             "#8e0152"
            ],
            [
             0.1,
             "#c51b7d"
            ],
            [
             0.2,
             "#de77ae"
            ],
            [
             0.3,
             "#f1b6da"
            ],
            [
             0.4,
             "#fde0ef"
            ],
            [
             0.5,
             "#f7f7f7"
            ],
            [
             0.6,
             "#e6f5d0"
            ],
            [
             0.7,
             "#b8e186"
            ],
            [
             0.8,
             "#7fbc41"
            ],
            [
             0.9,
             "#4d9221"
            ],
            [
             1,
             "#276419"
            ]
           ],
           "sequential": [
            [
             0,
             "#0d0887"
            ],
            [
             0.1111111111111111,
             "#46039f"
            ],
            [
             0.2222222222222222,
             "#7201a8"
            ],
            [
             0.3333333333333333,
             "#9c179e"
            ],
            [
             0.4444444444444444,
             "#bd3786"
            ],
            [
             0.5555555555555556,
             "#d8576b"
            ],
            [
             0.6666666666666666,
             "#ed7953"
            ],
            [
             0.7777777777777778,
             "#fb9f3a"
            ],
            [
             0.8888888888888888,
             "#fdca26"
            ],
            [
             1,
             "#f0f921"
            ]
           ],
           "sequentialminus": [
            [
             0,
             "#0d0887"
            ],
            [
             0.1111111111111111,
             "#46039f"
            ],
            [
             0.2222222222222222,
             "#7201a8"
            ],
            [
             0.3333333333333333,
             "#9c179e"
            ],
            [
             0.4444444444444444,
             "#bd3786"
            ],
            [
             0.5555555555555556,
             "#d8576b"
            ],
            [
             0.6666666666666666,
             "#ed7953"
            ],
            [
             0.7777777777777778,
             "#fb9f3a"
            ],
            [
             0.8888888888888888,
             "#fdca26"
            ],
            [
             1,
             "#f0f921"
            ]
           ]
          },
          "colorway": [
           "#636efa",
           "#EF553B",
           "#00cc96",
           "#ab63fa",
           "#FFA15A",
           "#19d3f3",
           "#FF6692",
           "#B6E880",
           "#FF97FF",
           "#FECB52"
          ],
          "font": {
           "color": "#2a3f5f"
          },
          "geo": {
           "bgcolor": "white",
           "lakecolor": "white",
           "landcolor": "#E5ECF6",
           "showlakes": true,
           "showland": true,
           "subunitcolor": "white"
          },
          "hoverlabel": {
           "align": "left"
          },
          "hovermode": "closest",
          "mapbox": {
           "style": "light"
          },
          "paper_bgcolor": "white",
          "plot_bgcolor": "#E5ECF6",
          "polar": {
           "angularaxis": {
            "gridcolor": "white",
            "linecolor": "white",
            "ticks": ""
           },
           "bgcolor": "#E5ECF6",
           "radialaxis": {
            "gridcolor": "white",
            "linecolor": "white",
            "ticks": ""
           }
          },
          "scene": {
           "xaxis": {
            "backgroundcolor": "#E5ECF6",
            "gridcolor": "white",
            "gridwidth": 2,
            "linecolor": "white",
            "showbackground": true,
            "ticks": "",
            "zerolinecolor": "white"
           },
           "yaxis": {
            "backgroundcolor": "#E5ECF6",
            "gridcolor": "white",
            "gridwidth": 2,
            "linecolor": "white",
            "showbackground": true,
            "ticks": "",
            "zerolinecolor": "white"
           },
           "zaxis": {
            "backgroundcolor": "#E5ECF6",
            "gridcolor": "white",
            "gridwidth": 2,
            "linecolor": "white",
            "showbackground": true,
            "ticks": "",
            "zerolinecolor": "white"
           }
          },
          "shapedefaults": {
           "line": {
            "color": "#2a3f5f"
           }
          },
          "ternary": {
           "aaxis": {
            "gridcolor": "white",
            "linecolor": "white",
            "ticks": ""
           },
           "baxis": {
            "gridcolor": "white",
            "linecolor": "white",
            "ticks": ""
           },
           "bgcolor": "#E5ECF6",
           "caxis": {
            "gridcolor": "white",
            "linecolor": "white",
            "ticks": ""
           }
          },
          "title": {
           "x": 0.05
          },
          "xaxis": {
           "automargin": true,
           "gridcolor": "white",
           "linecolor": "white",
           "ticks": "",
           "title": {
            "standoff": 15
           },
           "zerolinecolor": "white",
           "zerolinewidth": 2
          },
          "yaxis": {
           "automargin": true,
           "gridcolor": "white",
           "linecolor": "white",
           "ticks": "",
           "title": {
            "standoff": 15
           },
           "zerolinecolor": "white",
           "zerolinewidth": 2
          }
         }
        },
        "title": {
         "text": "How Each Column Affects 'Claim over 1k'"
        },
        "xaxis": {
         "anchor": "y",
         "domain": [
          0,
          0.475
         ]
        },
        "xaxis10": {
         "anchor": "y10",
         "domain": [
          0.525,
          1
         ]
        },
        "xaxis11": {
         "anchor": "y11",
         "domain": [
          0,
          0.475
         ]
        },
        "xaxis12": {
         "anchor": "y12",
         "domain": [
          0.525,
          1
         ]
        },
        "xaxis13": {
         "anchor": "y13",
         "domain": [
          0,
          0.475
         ]
        },
        "xaxis14": {
         "anchor": "y14",
         "domain": [
          0.525,
          1
         ]
        },
        "xaxis15": {
         "anchor": "y15",
         "domain": [
          0,
          0.475
         ]
        },
        "xaxis16": {
         "anchor": "y16",
         "domain": [
          0.525,
          1
         ]
        },
        "xaxis17": {
         "anchor": "y17",
         "domain": [
          0,
          0.475
         ]
        },
        "xaxis18": {
         "anchor": "y18",
         "domain": [
          0.525,
          1
         ]
        },
        "xaxis19": {
         "anchor": "y19",
         "domain": [
          0,
          0.475
         ]
        },
        "xaxis2": {
         "anchor": "y2",
         "domain": [
          0.525,
          1
         ]
        },
        "xaxis20": {
         "anchor": "y20",
         "domain": [
          0.525,
          1
         ]
        },
        "xaxis3": {
         "anchor": "y3",
         "domain": [
          0,
          0.475
         ]
        },
        "xaxis4": {
         "anchor": "y4",
         "domain": [
          0.525,
          1
         ]
        },
        "xaxis5": {
         "anchor": "y5",
         "domain": [
          0,
          0.475
         ]
        },
        "xaxis6": {
         "anchor": "y6",
         "domain": [
          0.525,
          1
         ]
        },
        "xaxis7": {
         "anchor": "y7",
         "domain": [
          0,
          0.475
         ]
        },
        "xaxis8": {
         "anchor": "y8",
         "domain": [
          0.525,
          1
         ]
        },
        "xaxis9": {
         "anchor": "y9",
         "domain": [
          0,
          0.475
         ]
        },
        "yaxis": {
         "anchor": "x",
         "domain": [
          0.9089999999999999,
          0.9999999999999999
         ]
        },
        "yaxis10": {
         "anchor": "x10",
         "domain": [
          0.505,
          0.596
         ]
        },
        "yaxis11": {
         "anchor": "x11",
         "domain": [
          0.40399999999999997,
          0.495
         ]
        },
        "yaxis12": {
         "anchor": "x12",
         "domain": [
          0.40399999999999997,
          0.495
         ]
        },
        "yaxis13": {
         "anchor": "x13",
         "domain": [
          0.30300000000000005,
          0.394
         ]
        },
        "yaxis14": {
         "anchor": "x14",
         "domain": [
          0.30300000000000005,
          0.394
         ]
        },
        "yaxis15": {
         "anchor": "x15",
         "domain": [
          0.20199999999999999,
          0.293
         ]
        },
        "yaxis16": {
         "anchor": "x16",
         "domain": [
          0.20199999999999999,
          0.293
         ]
        },
        "yaxis17": {
         "anchor": "x17",
         "domain": [
          0.10099999999999999,
          0.192
         ]
        },
        "yaxis18": {
         "anchor": "x18",
         "domain": [
          0.10099999999999999,
          0.192
         ]
        },
        "yaxis19": {
         "anchor": "x19",
         "domain": [
          0,
          0.091
         ]
        },
        "yaxis2": {
         "anchor": "x2",
         "domain": [
          0.9089999999999999,
          0.9999999999999999
         ]
        },
        "yaxis20": {
         "anchor": "x20",
         "domain": [
          0,
          0.091
         ]
        },
        "yaxis3": {
         "anchor": "x3",
         "domain": [
          0.8079999999999999,
          0.8989999999999999
         ]
        },
        "yaxis4": {
         "anchor": "x4",
         "domain": [
          0.8079999999999999,
          0.8989999999999999
         ]
        },
        "yaxis5": {
         "anchor": "x5",
         "domain": [
          0.7070000000000001,
          0.798
         ]
        },
        "yaxis6": {
         "anchor": "x6",
         "domain": [
          0.7070000000000001,
          0.798
         ]
        },
        "yaxis7": {
         "anchor": "x7",
         "domain": [
          0.6060000000000001,
          0.6970000000000001
         ]
        },
        "yaxis8": {
         "anchor": "x8",
         "domain": [
          0.6060000000000001,
          0.6970000000000001
         ]
        },
        "yaxis9": {
         "anchor": "x9",
         "domain": [
          0.505,
          0.596
         ]
        }
       }
      },
      "text/html": [
       "<div>                            <div id=\"c7651353-71f7-4cf0-bff4-867fb7fad104\" class=\"plotly-graph-div\" style=\"height:3000px; width:100%;\"></div>            <script type=\"text/javascript\">                require([\"plotly\"], function(Plotly) {                    window.PLOTLYENV=window.PLOTLYENV || {};                                    if (document.getElementById(\"c7651353-71f7-4cf0-bff4-867fb7fad104\")) {                    Plotly.newPlot(                        \"c7651353-71f7-4cf0-bff4-867fb7fad104\",                        [{\"name\":\"-1.1666986963436063\",\"x\":[-0.35893238342157147,2.786040062664073],\"y\":[2217,303],\"type\":\"bar\",\"xaxis\":\"x\",\"yaxis\":\"y\"},{\"name\":\"-0.43832381440947177\",\"x\":[-0.35893238342157147,2.786040062664073],\"y\":[560,72],\"type\":\"bar\",\"xaxis\":\"x\",\"yaxis\":\"y\"},{\"name\":\"0.29005106752466286\",\"x\":[-0.35893238342157147,2.786040062664073],\"y\":[1827,250],\"type\":\"bar\",\"xaxis\":\"x\",\"yaxis\":\"y\"},{\"name\":\"1.0184259494587975\",\"x\":[-0.35893238342157147,2.786040062664073],\"y\":[1217,136],\"type\":\"bar\",\"xaxis\":\"x\",\"yaxis\":\"y\"},{\"name\":\"1.7468008313929322\",\"x\":[-0.35893238342157147,2.786040062664073],\"y\":[637,71],\"type\":\"bar\",\"xaxis\":\"x\",\"yaxis\":\"y\"},{\"name\":\"-0.4044840446523102\",\"x\":[-0.35893238342157147,2.786040062664073],\"y\":[5511,754],\"type\":\"bar\",\"xaxis\":\"x2\",\"yaxis\":\"y2\"},{\"name\":\"2.4722854046309495\",\"x\":[-0.35893238342157147,2.786040062664073],\"y\":[947,78],\"type\":\"bar\",\"xaxis\":\"x2\",\"yaxis\":\"y2\"},{\"name\":\"-0.7441931863794389\",\"x\":[-0.35893238342157147,2.786040062664073],\"y\":[4060,327],\"type\":\"bar\",\"xaxis\":\"x3\",\"yaxis\":\"y3\"},{\"name\":\"0.7737610186306645\",\"x\":[-0.35893238342157147,2.786040062664073],\"y\":[1961,271],\"type\":\"bar\",\"xaxis\":\"x3\",\"yaxis\":\"y3\"},{\"name\":\"2.2917152236407676\",\"x\":[-0.35893238342157147,2.786040062664073],\"y\":[437,234],\"type\":\"bar\",\"xaxis\":\"x3\",\"yaxis\":\"y3\"},{\"name\":\"-1.1929120101552244\",\"x\":[-0.35893238342157147,2.786040062664073],\"y\":[1763,323],\"type\":\"bar\",\"xaxis\":\"x4\",\"yaxis\":\"y4\"},{\"name\":\"-0.26619328103847395\",\"x\":[-0.35893238342157147,2.786040062664073],\"y\":[1947,216],\"type\":\"bar\",\"xaxis\":\"x4\",\"yaxis\":\"y4\"},{\"name\":\"0.6605254480782765\",\"x\":[-0.35893238342157147,2.786040062664073],\"y\":[1923,252],\"type\":\"bar\",\"xaxis\":\"x4\",\"yaxis\":\"y4\"},{\"name\":\"1.587244177195027\",\"x\":[-0.35893238342157147,2.786040062664073],\"y\":[559,34],\"type\":\"bar\",\"xaxis\":\"x4\",\"yaxis\":\"y4\"},{\"name\":\"2.5139629063117774\",\"x\":[-0.35893238342157147,2.786040062664073],\"y\":[266,7],\"type\":\"bar\",\"xaxis\":\"x4\",\"yaxis\":\"y4\"},{\"name\":\"-1.0826574336027592\",\"x\":[-0.35893238342157147,2.786040062664073],\"y\":[1410,458],\"type\":\"bar\",\"xaxis\":\"x5\",\"yaxis\":\"y5\"},{\"name\":\"0.015821716148683315\",\"x\":[-0.35893238342157147,2.786040062664073],\"y\":[4255,281],\"type\":\"bar\",\"xaxis\":\"x5\",\"yaxis\":\"y5\"},{\"name\":\"1.1143008659001257\",\"x\":[-0.35893238342157147,2.786040062664073],\"y\":[297,41],\"type\":\"bar\",\"xaxis\":\"x5\",\"yaxis\":\"y5\"},{\"name\":\"2.2127800156515685\",\"x\":[-0.35893238342157147,2.786040062664073],\"y\":[205,14],\"type\":\"bar\",\"xaxis\":\"x5\",\"yaxis\":\"y5\"},{\"name\":\"3.311259165403011\",\"x\":[-0.35893238342157147,2.786040062664073],\"y\":[291,38],\"type\":\"bar\",\"xaxis\":\"x5\",\"yaxis\":\"y5\"},{\"name\":\"-0.9820540070467964\",\"x\":[-0.35893238342157147,2.786040062664073],\"y\":[3362,349],\"type\":\"bar\",\"xaxis\":\"x6\",\"yaxis\":\"y6\"},{\"name\":\"1.018273936895966\",\"x\":[-0.35893238342157147,2.786040062664073],\"y\":[3096,483],\"type\":\"bar\",\"xaxis\":\"x6\",\"yaxis\":\"y6\"},{\"name\":\"-1.3749714585688404\",\"x\":[-0.35893238342157147,2.786040062664073],\"y\":[1530,455],\"type\":\"bar\",\"xaxis\":\"x7\",\"yaxis\":\"y7\"},{\"name\":\"0.19071769059811466\",\"x\":[-0.35893238342157147,2.786040062664073],\"y\":[3908,300],\"type\":\"bar\",\"xaxis\":\"x7\",\"yaxis\":\"y7\"},{\"name\":\"1.7564068397650698\",\"x\":[-0.35893238342157147,2.786040062664073],\"y\":[1020,77],\"type\":\"bar\",\"xaxis\":\"x7\",\"yaxis\":\"y7\"},{\"name\":\"-0.4198904054813107\",\"x\":[-0.35893238342157147,2.786040062664073],\"y\":[5132,666],\"type\":\"bar\",\"xaxis\":\"x8\",\"yaxis\":\"y8\"},{\"name\":\"0.6871624176502462\",\"x\":[-0.35893238342157147,2.786040062664073],\"y\":[721,88],\"type\":\"bar\",\"xaxis\":\"x8\",\"yaxis\":\"y8\"},{\"name\":\"1.794215240781803\",\"x\":[-0.35893238342157147,2.786040062664073],\"y\":[266,33],\"type\":\"bar\",\"xaxis\":\"x8\",\"yaxis\":\"y8\"},{\"name\":\"2.9012680639133603\",\"x\":[-0.35893238342157147,2.786040062664073],\"y\":[205,20],\"type\":\"bar\",\"xaxis\":\"x8\",\"yaxis\":\"y8\"},{\"name\":\"4.008320887044917\",\"x\":[-0.35893238342157147,2.786040062664073],\"y\":[94,18],\"type\":\"bar\",\"xaxis\":\"x8\",\"yaxis\":\"y8\"},{\"name\":\"5.115373710176474\",\"x\":[-0.35893238342157147,2.786040062664073],\"y\":[40,7],\"type\":\"bar\",\"xaxis\":\"x8\",\"yaxis\":\"y8\"},{\"name\":\"-0.823137290833709\",\"x\":[-0.35893238342157147,2.786040062664073],\"y\":[2281,308],\"type\":\"bar\",\"xaxis\":\"x9\",\"yaxis\":\"y9\"},{\"name\":\"-0.4071750802294016\",\"x\":[-0.35893238342157147,2.786040062664073],\"y\":[1632,204],\"type\":\"bar\",\"xaxis\":\"x9\",\"yaxis\":\"y9\"},{\"name\":\"0.008787130374905864\",\"x\":[-0.35893238342157147,2.786040062664073],\"y\":[839,82],\"type\":\"bar\",\"xaxis\":\"x9\",\"yaxis\":\"y9\"},{\"name\":\"0.4247493409792133\",\"x\":[-0.35893238342157147,2.786040062664073],\"y\":[284,41],\"type\":\"bar\",\"xaxis\":\"x9\",\"yaxis\":\"y9\"},{\"name\":\"0.8407115515835207\",\"x\":[-0.35893238342157147,2.786040062664073],\"y\":[285,35],\"type\":\"bar\",\"xaxis\":\"x9\",\"yaxis\":\"y9\"},{\"name\":\"1.2566737621878281\",\"x\":[-0.35893238342157147,2.786040062664073],\"y\":[260,33],\"type\":\"bar\",\"xaxis\":\"x9\",\"yaxis\":\"y9\"},{\"name\":\"1.6726359727921356\",\"x\":[-0.35893238342157147,2.786040062664073],\"y\":[299,54],\"type\":\"bar\",\"xaxis\":\"x9\",\"yaxis\":\"y9\"},{\"name\":\"2.088598183396443\",\"x\":[-0.35893238342157147,2.786040062664073],\"y\":[269,45],\"type\":\"bar\",\"xaxis\":\"x9\",\"yaxis\":\"y9\"},{\"name\":\"2.5045603940007504\",\"x\":[-0.35893238342157147,2.786040062664073],\"y\":[309,30],\"type\":\"bar\",\"xaxis\":\"x9\",\"yaxis\":\"y9\"},{\"name\":\"-0.5515311088689897\",\"x\":[-0.35893238342157147,2.786040062664073],\"y\":[4797,619],\"type\":\"bar\",\"xaxis\":\"x10\",\"yaxis\":\"y10\"},{\"name\":\"1.2869059206943092\",\"x\":[-0.35893238342157147,2.786040062664073],\"y\":[1386,175],\"type\":\"bar\",\"xaxis\":\"x10\",\"yaxis\":\"y10\"},{\"name\":\"3.1253429502576084\",\"x\":[-0.35893238342157147,2.786040062664073],\"y\":[275,38],\"type\":\"bar\",\"xaxis\":\"x10\",\"yaxis\":\"y10\"},{\"name\":\"-1.2416018359508474\",\"x\":[-0.35893238342157147,2.786040062664073],\"y\":[866,120],\"type\":\"bar\",\"xaxis\":\"x11\",\"yaxis\":\"y11\"},{\"name\":\"-0.6814980374309416\",\"x\":[-0.35893238342157147,2.786040062664073],\"y\":[1493,196],\"type\":\"bar\",\"xaxis\":\"x11\",\"yaxis\":\"y11\"},{\"name\":\"-0.12139423891103573\",\"x\":[-0.35893238342157147,2.786040062664073],\"y\":[2438,303],\"type\":\"bar\",\"xaxis\":\"x11\",\"yaxis\":\"y11\"},{\"name\":\"0.4387095596088701\",\"x\":[-0.35893238342157147,2.786040062664073],\"y\":[265,33],\"type\":\"bar\",\"xaxis\":\"x11\",\"yaxis\":\"y11\"},{\"name\":\"0.9988133581287759\",\"x\":[-0.35893238342157147,2.786040062664073],\"y\":[424,53],\"type\":\"bar\",\"xaxis\":\"x11\",\"yaxis\":\"y11\"},{\"name\":\"1.5589171566486817\",\"x\":[-0.35893238342157147,2.786040062664073],\"y\":[697,89],\"type\":\"bar\",\"xaxis\":\"x11\",\"yaxis\":\"y11\"},{\"name\":\"2.1190209551685877\",\"x\":[-0.35893238342157147,2.786040062664073],\"y\":[47,11],\"type\":\"bar\",\"xaxis\":\"x11\",\"yaxis\":\"y11\"},{\"name\":\"2.6791247536884937\",\"x\":[-0.35893238342157147,2.786040062664073],\"y\":[117,14],\"type\":\"bar\",\"xaxis\":\"x11\",\"yaxis\":\"y11\"},{\"name\":\"3.2392285522083997\",\"x\":[-0.35893238342157147,2.786040062664073],\"y\":[111,13],\"type\":\"bar\",\"xaxis\":\"x11\",\"yaxis\":\"y11\"},{\"name\":\"-0.9600180466355313\",\"x\":[-0.35893238342157147,2.786040062664073],\"y\":[2593,414],\"type\":\"bar\",\"xaxis\":\"x12\",\"yaxis\":\"y12\"},{\"name\":\"0.03536405547981822\",\"x\":[-0.35893238342157147,2.786040062664073],\"y\":[2135,206],\"type\":\"bar\",\"xaxis\":\"x12\",\"yaxis\":\"y12\"},{\"name\":\"1.0307461575951677\",\"x\":[-0.35893238342157147,2.786040062664073],\"y\":[1000,136],\"type\":\"bar\",\"xaxis\":\"x12\",\"yaxis\":\"y12\"},{\"name\":\"2.026128259710517\",\"x\":[-0.35893238342157147,2.786040062664073],\"y\":[730,76],\"type\":\"bar\",\"xaxis\":\"x12\",\"yaxis\":\"y12\"},{\"name\":\"-1.6963426954315983\",\"x\":[-0.35893238342157147,2.786040062664073],\"y\":[956,111],\"type\":\"bar\",\"xaxis\":\"x13\",\"yaxis\":\"y13\"},{\"name\":\"-0.6508288089168578\",\"x\":[-0.35893238342157147,2.786040062664073],\"y\":[1779,250],\"type\":\"bar\",\"xaxis\":\"x13\",\"yaxis\":\"y13\"},{\"name\":\"0.39468507759788296\",\"x\":[-0.35893238342157147,2.786040062664073],\"y\":[2463,320],\"type\":\"bar\",\"xaxis\":\"x13\",\"yaxis\":\"y13\"},{\"name\":\"1.4401989641126236\",\"x\":[-0.35893238342157147,2.786040062664073],\"y\":[1260,151],\"type\":\"bar\",\"xaxis\":\"x13\",\"yaxis\":\"y13\"},{\"name\":\"-1.7094616597345778\",\"x\":[-0.35893238342157147,2.786040062664073],\"y\":[1188,195],\"type\":\"bar\",\"xaxis\":\"x14\",\"yaxis\":\"y14\"},{\"name\":\"0.16142491877691773\",\"x\":[-0.35893238342157147,2.786040062664073],\"y\":[4600,553],\"type\":\"bar\",\"xaxis\":\"x14\",\"yaxis\":\"y14\"},{\"name\":\"2.0323114972884135\",\"x\":[-0.35893238342157147,2.786040062664073],\"y\":[670,84],\"type\":\"bar\",\"xaxis\":\"x14\",\"yaxis\":\"y14\"},{\"name\":\"-0.5014998962340338\",\"x\":[-0.35893238342157147,2.786040062664073],\"y\":[5159,666],\"type\":\"bar\",\"xaxis\":\"x15\",\"yaxis\":\"y15\"},{\"name\":\"1.994018358746244\",\"x\":[-0.35893238342157147,2.786040062664073],\"y\":[1299,166],\"type\":\"bar\",\"xaxis\":\"x15\",\"yaxis\":\"y15\"},{\"name\":\"-1.1475127871667485\",\"x\":[-0.35893238342157147,2.786040062664073],\"y\":[2078,290],\"type\":\"bar\",\"xaxis\":\"x16\",\"yaxis\":\"y16\"},{\"name\":\"-0.2312621608309767\",\"x\":[-0.35893238342157147,2.786040062664073],\"y\":[1799,201],\"type\":\"bar\",\"xaxis\":\"x16\",\"yaxis\":\"y16\"},{\"name\":\"0.684988465504795\",\"x\":[-0.35893238342157147,2.786040062664073],\"y\":[1446,190],\"type\":\"bar\",\"xaxis\":\"x16\",\"yaxis\":\"y16\"},{\"name\":\"1.6012390918405668\",\"x\":[-0.35893238342157147,2.786040062664073],\"y\":[1135,151],\"type\":\"bar\",\"xaxis\":\"x16\",\"yaxis\":\"y16\"},{\"name\":\"-1.282585416975031\",\"x\":[-0.35893238342157147,2.786040062664073],\"y\":[1757,216],\"type\":\"bar\",\"xaxis\":\"x17\",\"yaxis\":\"y17\"},{\"name\":\"-0.33237731842340745\",\"x\":[-0.35893238342157147,2.786040062664073],\"y\":[1788,241],\"type\":\"bar\",\"xaxis\":\"x17\",\"yaxis\":\"y17\"},{\"name\":\"0.617830780128216\",\"x\":[-0.35893238342157147,2.786040062664073],\"y\":[1826,227],\"type\":\"bar\",\"xaxis\":\"x17\",\"yaxis\":\"y17\"},{\"name\":\"1.5680388786798396\",\"x\":[-0.35893238342157147,2.786040062664073],\"y\":[1087,148],\"type\":\"bar\",\"xaxis\":\"x17\",\"yaxis\":\"y17\"},{\"name\":\"-1.6750892878410295\",\"x\":[-0.35893238342157147,2.786040062664073],\"y\":[238,5],\"type\":\"bar\",\"xaxis\":\"x18\",\"yaxis\":\"y18\"},{\"name\":\"-1.5595571449385714\",\"x\":[-0.35893238342157147,2.786040062664073],\"y\":[246,1],\"type\":\"bar\",\"xaxis\":\"x18\",\"yaxis\":\"y18\"},{\"name\":\"-1.4440250020361134\",\"x\":[-0.35893238342157147,2.786040062664073],\"y\":[236,3],\"type\":\"bar\",\"xaxis\":\"x18\",\"yaxis\":\"y18\"},{\"name\":\"-1.3284928591336553\",\"x\":[-0.35893238342157147,2.786040062664073],\"y\":[242,1],\"type\":\"bar\",\"xaxis\":\"x18\",\"yaxis\":\"y18\"},{\"name\":\"-1.2129607162311973\",\"x\":[-0.35893238342157147,2.786040062664073],\"y\":[236,7],\"type\":\"bar\",\"xaxis\":\"x18\",\"yaxis\":\"y18\"},{\"name\":\"-1.0974285733287394\",\"x\":[-0.35893238342157147,2.786040062664073],\"y\":[225,18],\"type\":\"bar\",\"xaxis\":\"x18\",\"yaxis\":\"y18\"},{\"name\":\"-0.9818964304262814\",\"x\":[-0.35893238342157147,2.786040062664073],\"y\":[208,35],\"type\":\"bar\",\"xaxis\":\"x18\",\"yaxis\":\"y18\"},{\"name\":\"-0.8663642875238233\",\"x\":[-0.35893238342157147,2.786040062664073],\"y\":[199,44],\"type\":\"bar\",\"xaxis\":\"x18\",\"yaxis\":\"y18\"},{\"name\":\"-0.7508321446213653\",\"x\":[-0.35893238342157147,2.786040062664073],\"y\":[226,17],\"type\":\"bar\",\"xaxis\":\"x18\",\"yaxis\":\"y18\"},{\"name\":\"-0.6353000017189073\",\"x\":[-0.35893238342157147,2.786040062664073],\"y\":[212,31],\"type\":\"bar\",\"xaxis\":\"x18\",\"yaxis\":\"y18\"},{\"name\":\"-0.5197678588164493\",\"x\":[-0.35893238342157147,2.786040062664073],\"y\":[231,12],\"type\":\"bar\",\"xaxis\":\"x18\",\"yaxis\":\"y18\"},{\"name\":\"-0.40423571591399127\",\"x\":[-0.35893238342157147,2.786040062664073],\"y\":[234,9],\"type\":\"bar\",\"xaxis\":\"x18\",\"yaxis\":\"y18\"},{\"name\":\"-0.2887035730115332\",\"x\":[-0.35893238342157147,2.786040062664073],\"y\":[231,12],\"type\":\"bar\",\"xaxis\":\"x18\",\"yaxis\":\"y18\"},{\"name\":\"-0.1731714301090752\",\"x\":[-0.35893238342157147,2.786040062664073],\"y\":[237,6],\"type\":\"bar\",\"xaxis\":\"x18\",\"yaxis\":\"y18\"},{\"name\":\"-0.05763928720661718\",\"x\":[-0.35893238342157147,2.786040062664073],\"y\":[228,15],\"type\":\"bar\",\"xaxis\":\"x18\",\"yaxis\":\"y18\"},{\"name\":\"0.057892855695840836\",\"x\":[-0.35893238342157147,2.786040062664073],\"y\":[224,19],\"type\":\"bar\",\"xaxis\":\"x18\",\"yaxis\":\"y18\"},{\"name\":\"0.17342499859829885\",\"x\":[-0.35893238342157147,2.786040062664073],\"y\":[216,27],\"type\":\"bar\",\"xaxis\":\"x18\",\"yaxis\":\"y18\"},{\"name\":\"0.28895714150075685\",\"x\":[-0.35893238342157147,2.786040062664073],\"y\":[204,39],\"type\":\"bar\",\"xaxis\":\"x18\",\"yaxis\":\"y18\"},{\"name\":\"0.4044892844032149\",\"x\":[-0.35893238342157147,2.786040062664073],\"y\":[203,40],\"type\":\"bar\",\"xaxis\":\"x18\",\"yaxis\":\"y18\"},{\"name\":\"0.5200214273056729\",\"x\":[-0.35893238342157147,2.786040062664073],\"y\":[209,34],\"type\":\"bar\",\"xaxis\":\"x18\",\"yaxis\":\"y18\"},{\"name\":\"0.635553570208131\",\"x\":[-0.35893238342157147,2.786040062664073],\"y\":[216,27],\"type\":\"bar\",\"xaxis\":\"x18\",\"yaxis\":\"y18\"},{\"name\":\"0.7510857131105889\",\"x\":[-0.35893238342157147,2.786040062664073],\"y\":[219,26],\"type\":\"bar\",\"xaxis\":\"x18\",\"yaxis\":\"y18\"},{\"name\":\"0.866617856013047\",\"x\":[-0.35893238342157147,2.786040062664073],\"y\":[212,29],\"type\":\"bar\",\"xaxis\":\"x18\",\"yaxis\":\"y18\"},{\"name\":\"0.982149998915505\",\"x\":[-0.35893238342157147,2.786040062664073],\"y\":[196,47],\"type\":\"bar\",\"xaxis\":\"x18\",\"yaxis\":\"y18\"},{\"name\":\"1.097682141817963\",\"x\":[-0.35893238342157147,2.786040062664073],\"y\":[208,35],\"type\":\"bar\",\"xaxis\":\"x18\",\"yaxis\":\"y18\"},{\"name\":\"1.213214284720421\",\"x\":[-0.35893238342157147,2.786040062664073],\"y\":[178,65],\"type\":\"bar\",\"xaxis\":\"x18\",\"yaxis\":\"y18\"},{\"name\":\"1.328746427622879\",\"x\":[-0.35893238342157147,2.786040062664073],\"y\":[184,59],\"type\":\"bar\",\"xaxis\":\"x18\",\"yaxis\":\"y18\"},{\"name\":\"1.4442785705253371\",\"x\":[-0.35893238342157147,2.786040062664073],\"y\":[180,63],\"type\":\"bar\",\"xaxis\":\"x18\",\"yaxis\":\"y18\"},{\"name\":\"1.5598107134277952\",\"x\":[-0.35893238342157147,2.786040062664073],\"y\":[205,40],\"type\":\"bar\",\"xaxis\":\"x18\",\"yaxis\":\"y18\"},{\"name\":\"1.675342856330253\",\"x\":[-0.35893238342157147,2.786040062664073],\"y\":[175,66],\"type\":\"bar\",\"xaxis\":\"x18\",\"yaxis\":\"y18\"},{\"name\":\"-1.028991510855053\",\"x\":[-0.35893238342157147,2.786040062664073],\"y\":[2346,570],\"type\":\"bar\",\"xaxis\":\"x19\",\"yaxis\":\"y19\"},{\"name\":\"-0.1714985851425088\",\"x\":[-0.35893238342157147,2.786040062664073],\"y\":[1345,113],\"type\":\"bar\",\"xaxis\":\"x19\",\"yaxis\":\"y19\"},{\"name\":\"0.6859943405700353\",\"x\":[-0.35893238342157147,2.786040062664073],\"y\":[1362,96],\"type\":\"bar\",\"xaxis\":\"x19\",\"yaxis\":\"y19\"},{\"name\":\"1.5434872662825794\",\"x\":[-0.35893238342157147,2.786040062664073],\"y\":[1405,53],\"type\":\"bar\",\"xaxis\":\"x19\",\"yaxis\":\"y19\"},{\"name\":\"-1.306579631478402\",\"x\":[-0.35893238342157147,2.786040062664073],\"y\":[1816,87],\"type\":\"bar\",\"xaxis\":\"x20\",\"yaxis\":\"y20\"},{\"name\":\"-0.4109552296469445\",\"x\":[-0.35893238342157147,2.786040062664073],\"y\":[1723,152],\"type\":\"bar\",\"xaxis\":\"x20\",\"yaxis\":\"y20\"},{\"name\":\"0.48466917218451305\",\"x\":[-0.35893238342157147,2.786040062664073],\"y\":[1567,209],\"type\":\"bar\",\"xaxis\":\"x20\",\"yaxis\":\"y20\"},{\"name\":\"1.3802935740159705\",\"x\":[-0.35893238342157147,2.786040062664073],\"y\":[1352,384],\"type\":\"bar\",\"xaxis\":\"x20\",\"yaxis\":\"y20\"}],                        {\"template\":{\"data\":{\"histogram2dcontour\":[{\"type\":\"histogram2dcontour\",\"colorbar\":{\"outlinewidth\":0,\"ticks\":\"\"},\"colorscale\":[[0.0,\"#0d0887\"],[0.1111111111111111,\"#46039f\"],[0.2222222222222222,\"#7201a8\"],[0.3333333333333333,\"#9c179e\"],[0.4444444444444444,\"#bd3786\"],[0.5555555555555556,\"#d8576b\"],[0.6666666666666666,\"#ed7953\"],[0.7777777777777778,\"#fb9f3a\"],[0.8888888888888888,\"#fdca26\"],[1.0,\"#f0f921\"]]}],\"choropleth\":[{\"type\":\"choropleth\",\"colorbar\":{\"outlinewidth\":0,\"ticks\":\"\"}}],\"histogram2d\":[{\"type\":\"histogram2d\",\"colorbar\":{\"outlinewidth\":0,\"ticks\":\"\"},\"colorscale\":[[0.0,\"#0d0887\"],[0.1111111111111111,\"#46039f\"],[0.2222222222222222,\"#7201a8\"],[0.3333333333333333,\"#9c179e\"],[0.4444444444444444,\"#bd3786\"],[0.5555555555555556,\"#d8576b\"],[0.6666666666666666,\"#ed7953\"],[0.7777777777777778,\"#fb9f3a\"],[0.8888888888888888,\"#fdca26\"],[1.0,\"#f0f921\"]]}],\"heatmap\":[{\"type\":\"heatmap\",\"colorbar\":{\"outlinewidth\":0,\"ticks\":\"\"},\"colorscale\":[[0.0,\"#0d0887\"],[0.1111111111111111,\"#46039f\"],[0.2222222222222222,\"#7201a8\"],[0.3333333333333333,\"#9c179e\"],[0.4444444444444444,\"#bd3786\"],[0.5555555555555556,\"#d8576b\"],[0.6666666666666666,\"#ed7953\"],[0.7777777777777778,\"#fb9f3a\"],[0.8888888888888888,\"#fdca26\"],[1.0,\"#f0f921\"]]}],\"heatmapgl\":[{\"type\":\"heatmapgl\",\"colorbar\":{\"outlinewidth\":0,\"ticks\":\"\"},\"colorscale\":[[0.0,\"#0d0887\"],[0.1111111111111111,\"#46039f\"],[0.2222222222222222,\"#7201a8\"],[0.3333333333333333,\"#9c179e\"],[0.4444444444444444,\"#bd3786\"],[0.5555555555555556,\"#d8576b\"],[0.6666666666666666,\"#ed7953\"],[0.7777777777777778,\"#fb9f3a\"],[0.8888888888888888,\"#fdca26\"],[1.0,\"#f0f921\"]]}],\"contourcarpet\":[{\"type\":\"contourcarpet\",\"colorbar\":{\"outlinewidth\":0,\"ticks\":\"\"}}],\"contour\":[{\"type\":\"contour\",\"colorbar\":{\"outlinewidth\":0,\"ticks\":\"\"},\"colorscale\":[[0.0,\"#0d0887\"],[0.1111111111111111,\"#46039f\"],[0.2222222222222222,\"#7201a8\"],[0.3333333333333333,\"#9c179e\"],[0.4444444444444444,\"#bd3786\"],[0.5555555555555556,\"#d8576b\"],[0.6666666666666666,\"#ed7953\"],[0.7777777777777778,\"#fb9f3a\"],[0.8888888888888888,\"#fdca26\"],[1.0,\"#f0f921\"]]}],\"surface\":[{\"type\":\"surface\",\"colorbar\":{\"outlinewidth\":0,\"ticks\":\"\"},\"colorscale\":[[0.0,\"#0d0887\"],[0.1111111111111111,\"#46039f\"],[0.2222222222222222,\"#7201a8\"],[0.3333333333333333,\"#9c179e\"],[0.4444444444444444,\"#bd3786\"],[0.5555555555555556,\"#d8576b\"],[0.6666666666666666,\"#ed7953\"],[0.7777777777777778,\"#fb9f3a\"],[0.8888888888888888,\"#fdca26\"],[1.0,\"#f0f921\"]]}],\"mesh3d\":[{\"type\":\"mesh3d\",\"colorbar\":{\"outlinewidth\":0,\"ticks\":\"\"}}],\"scatter\":[{\"fillpattern\":{\"fillmode\":\"overlay\",\"size\":10,\"solidity\":0.2},\"type\":\"scatter\"}],\"parcoords\":[{\"type\":\"parcoords\",\"line\":{\"colorbar\":{\"outlinewidth\":0,\"ticks\":\"\"}}}],\"scatterpolargl\":[{\"type\":\"scatterpolargl\",\"marker\":{\"colorbar\":{\"outlinewidth\":0,\"ticks\":\"\"}}}],\"bar\":[{\"error_x\":{\"color\":\"#2a3f5f\"},\"error_y\":{\"color\":\"#2a3f5f\"},\"marker\":{\"line\":{\"color\":\"#E5ECF6\",\"width\":0.5},\"pattern\":{\"fillmode\":\"overlay\",\"size\":10,\"solidity\":0.2}},\"type\":\"bar\"}],\"scattergeo\":[{\"type\":\"scattergeo\",\"marker\":{\"colorbar\":{\"outlinewidth\":0,\"ticks\":\"\"}}}],\"scatterpolar\":[{\"type\":\"scatterpolar\",\"marker\":{\"colorbar\":{\"outlinewidth\":0,\"ticks\":\"\"}}}],\"histogram\":[{\"marker\":{\"pattern\":{\"fillmode\":\"overlay\",\"size\":10,\"solidity\":0.2}},\"type\":\"histogram\"}],\"scattergl\":[{\"type\":\"scattergl\",\"marker\":{\"colorbar\":{\"outlinewidth\":0,\"ticks\":\"\"}}}],\"scatter3d\":[{\"type\":\"scatter3d\",\"line\":{\"colorbar\":{\"outlinewidth\":0,\"ticks\":\"\"}},\"marker\":{\"colorbar\":{\"outlinewidth\":0,\"ticks\":\"\"}}}],\"scattermapbox\":[{\"type\":\"scattermapbox\",\"marker\":{\"colorbar\":{\"outlinewidth\":0,\"ticks\":\"\"}}}],\"scatterternary\":[{\"type\":\"scatterternary\",\"marker\":{\"colorbar\":{\"outlinewidth\":0,\"ticks\":\"\"}}}],\"scattercarpet\":[{\"type\":\"scattercarpet\",\"marker\":{\"colorbar\":{\"outlinewidth\":0,\"ticks\":\"\"}}}],\"carpet\":[{\"aaxis\":{\"endlinecolor\":\"#2a3f5f\",\"gridcolor\":\"white\",\"linecolor\":\"white\",\"minorgridcolor\":\"white\",\"startlinecolor\":\"#2a3f5f\"},\"baxis\":{\"endlinecolor\":\"#2a3f5f\",\"gridcolor\":\"white\",\"linecolor\":\"white\",\"minorgridcolor\":\"white\",\"startlinecolor\":\"#2a3f5f\"},\"type\":\"carpet\"}],\"table\":[{\"cells\":{\"fill\":{\"color\":\"#EBF0F8\"},\"line\":{\"color\":\"white\"}},\"header\":{\"fill\":{\"color\":\"#C8D4E3\"},\"line\":{\"color\":\"white\"}},\"type\":\"table\"}],\"barpolar\":[{\"marker\":{\"line\":{\"color\":\"#E5ECF6\",\"width\":0.5},\"pattern\":{\"fillmode\":\"overlay\",\"size\":10,\"solidity\":0.2}},\"type\":\"barpolar\"}],\"pie\":[{\"automargin\":true,\"type\":\"pie\"}]},\"layout\":{\"autotypenumbers\":\"strict\",\"colorway\":[\"#636efa\",\"#EF553B\",\"#00cc96\",\"#ab63fa\",\"#FFA15A\",\"#19d3f3\",\"#FF6692\",\"#B6E880\",\"#FF97FF\",\"#FECB52\"],\"font\":{\"color\":\"#2a3f5f\"},\"hovermode\":\"closest\",\"hoverlabel\":{\"align\":\"left\"},\"paper_bgcolor\":\"white\",\"plot_bgcolor\":\"#E5ECF6\",\"polar\":{\"bgcolor\":\"#E5ECF6\",\"angularaxis\":{\"gridcolor\":\"white\",\"linecolor\":\"white\",\"ticks\":\"\"},\"radialaxis\":{\"gridcolor\":\"white\",\"linecolor\":\"white\",\"ticks\":\"\"}},\"ternary\":{\"bgcolor\":\"#E5ECF6\",\"aaxis\":{\"gridcolor\":\"white\",\"linecolor\":\"white\",\"ticks\":\"\"},\"baxis\":{\"gridcolor\":\"white\",\"linecolor\":\"white\",\"ticks\":\"\"},\"caxis\":{\"gridcolor\":\"white\",\"linecolor\":\"white\",\"ticks\":\"\"}},\"coloraxis\":{\"colorbar\":{\"outlinewidth\":0,\"ticks\":\"\"}},\"colorscale\":{\"sequential\":[[0.0,\"#0d0887\"],[0.1111111111111111,\"#46039f\"],[0.2222222222222222,\"#7201a8\"],[0.3333333333333333,\"#9c179e\"],[0.4444444444444444,\"#bd3786\"],[0.5555555555555556,\"#d8576b\"],[0.6666666666666666,\"#ed7953\"],[0.7777777777777778,\"#fb9f3a\"],[0.8888888888888888,\"#fdca26\"],[1.0,\"#f0f921\"]],\"sequentialminus\":[[0.0,\"#0d0887\"],[0.1111111111111111,\"#46039f\"],[0.2222222222222222,\"#7201a8\"],[0.3333333333333333,\"#9c179e\"],[0.4444444444444444,\"#bd3786\"],[0.5555555555555556,\"#d8576b\"],[0.6666666666666666,\"#ed7953\"],[0.7777777777777778,\"#fb9f3a\"],[0.8888888888888888,\"#fdca26\"],[1.0,\"#f0f921\"]],\"diverging\":[[0,\"#8e0152\"],[0.1,\"#c51b7d\"],[0.2,\"#de77ae\"],[0.3,\"#f1b6da\"],[0.4,\"#fde0ef\"],[0.5,\"#f7f7f7\"],[0.6,\"#e6f5d0\"],[0.7,\"#b8e186\"],[0.8,\"#7fbc41\"],[0.9,\"#4d9221\"],[1,\"#276419\"]]},\"xaxis\":{\"gridcolor\":\"white\",\"linecolor\":\"white\",\"ticks\":\"\",\"title\":{\"standoff\":15},\"zerolinecolor\":\"white\",\"automargin\":true,\"zerolinewidth\":2},\"yaxis\":{\"gridcolor\":\"white\",\"linecolor\":\"white\",\"ticks\":\"\",\"title\":{\"standoff\":15},\"zerolinecolor\":\"white\",\"automargin\":true,\"zerolinewidth\":2},\"scene\":{\"xaxis\":{\"backgroundcolor\":\"#E5ECF6\",\"gridcolor\":\"white\",\"linecolor\":\"white\",\"showbackground\":true,\"ticks\":\"\",\"zerolinecolor\":\"white\",\"gridwidth\":2},\"yaxis\":{\"backgroundcolor\":\"#E5ECF6\",\"gridcolor\":\"white\",\"linecolor\":\"white\",\"showbackground\":true,\"ticks\":\"\",\"zerolinecolor\":\"white\",\"gridwidth\":2},\"zaxis\":{\"backgroundcolor\":\"#E5ECF6\",\"gridcolor\":\"white\",\"linecolor\":\"white\",\"showbackground\":true,\"ticks\":\"\",\"zerolinecolor\":\"white\",\"gridwidth\":2}},\"shapedefaults\":{\"line\":{\"color\":\"#2a3f5f\"}},\"annotationdefaults\":{\"arrowcolor\":\"#2a3f5f\",\"arrowhead\":0,\"arrowwidth\":1},\"geo\":{\"bgcolor\":\"white\",\"landcolor\":\"#E5ECF6\",\"subunitcolor\":\"white\",\"showland\":true,\"showlakes\":true,\"lakecolor\":\"white\"},\"title\":{\"x\":0.05},\"mapbox\":{\"style\":\"light\"}}},\"xaxis\":{\"anchor\":\"y\",\"domain\":[0.0,0.475]},\"yaxis\":{\"anchor\":\"x\",\"domain\":[0.9089999999999999,0.9999999999999999]},\"xaxis2\":{\"anchor\":\"y2\",\"domain\":[0.525,1.0]},\"yaxis2\":{\"anchor\":\"x2\",\"domain\":[0.9089999999999999,0.9999999999999999]},\"xaxis3\":{\"anchor\":\"y3\",\"domain\":[0.0,0.475]},\"yaxis3\":{\"anchor\":\"x3\",\"domain\":[0.8079999999999999,0.8989999999999999]},\"xaxis4\":{\"anchor\":\"y4\",\"domain\":[0.525,1.0]},\"yaxis4\":{\"anchor\":\"x4\",\"domain\":[0.8079999999999999,0.8989999999999999]},\"xaxis5\":{\"anchor\":\"y5\",\"domain\":[0.0,0.475]},\"yaxis5\":{\"anchor\":\"x5\",\"domain\":[0.7070000000000001,0.798]},\"xaxis6\":{\"anchor\":\"y6\",\"domain\":[0.525,1.0]},\"yaxis6\":{\"anchor\":\"x6\",\"domain\":[0.7070000000000001,0.798]},\"xaxis7\":{\"anchor\":\"y7\",\"domain\":[0.0,0.475]},\"yaxis7\":{\"anchor\":\"x7\",\"domain\":[0.6060000000000001,0.6970000000000001]},\"xaxis8\":{\"anchor\":\"y8\",\"domain\":[0.525,1.0]},\"yaxis8\":{\"anchor\":\"x8\",\"domain\":[0.6060000000000001,0.6970000000000001]},\"xaxis9\":{\"anchor\":\"y9\",\"domain\":[0.0,0.475]},\"yaxis9\":{\"anchor\":\"x9\",\"domain\":[0.505,0.596]},\"xaxis10\":{\"anchor\":\"y10\",\"domain\":[0.525,1.0]},\"yaxis10\":{\"anchor\":\"x10\",\"domain\":[0.505,0.596]},\"xaxis11\":{\"anchor\":\"y11\",\"domain\":[0.0,0.475]},\"yaxis11\":{\"anchor\":\"x11\",\"domain\":[0.40399999999999997,0.495]},\"xaxis12\":{\"anchor\":\"y12\",\"domain\":[0.525,1.0]},\"yaxis12\":{\"anchor\":\"x12\",\"domain\":[0.40399999999999997,0.495]},\"xaxis13\":{\"anchor\":\"y13\",\"domain\":[0.0,0.475]},\"yaxis13\":{\"anchor\":\"x13\",\"domain\":[0.30300000000000005,0.394]},\"xaxis14\":{\"anchor\":\"y14\",\"domain\":[0.525,1.0]},\"yaxis14\":{\"anchor\":\"x14\",\"domain\":[0.30300000000000005,0.394]},\"xaxis15\":{\"anchor\":\"y15\",\"domain\":[0.0,0.475]},\"yaxis15\":{\"anchor\":\"x15\",\"domain\":[0.20199999999999999,0.293]},\"xaxis16\":{\"anchor\":\"y16\",\"domain\":[0.525,1.0]},\"yaxis16\":{\"anchor\":\"x16\",\"domain\":[0.20199999999999999,0.293]},\"xaxis17\":{\"anchor\":\"y17\",\"domain\":[0.0,0.475]},\"yaxis17\":{\"anchor\":\"x17\",\"domain\":[0.10099999999999999,0.192]},\"xaxis18\":{\"anchor\":\"y18\",\"domain\":[0.525,1.0]},\"yaxis18\":{\"anchor\":\"x18\",\"domain\":[0.10099999999999999,0.192]},\"xaxis19\":{\"anchor\":\"y19\",\"domain\":[0.0,0.475]},\"yaxis19\":{\"anchor\":\"x19\",\"domain\":[0.0,0.091]},\"xaxis20\":{\"anchor\":\"y20\",\"domain\":[0.525,1.0]},\"yaxis20\":{\"anchor\":\"x20\",\"domain\":[0.0,0.091]},\"annotations\":[{\"font\":{\"size\":16},\"showarrow\":false,\"text\":\"State\",\"x\":0.2375,\"xanchor\":\"center\",\"xref\":\"paper\",\"y\":0.9999999999999999,\"yanchor\":\"bottom\",\"yref\":\"paper\"},{\"font\":{\"size\":16},\"showarrow\":false,\"text\":\"Response\",\"x\":0.7625,\"xanchor\":\"center\",\"xref\":\"paper\",\"y\":0.9999999999999999,\"yanchor\":\"bottom\",\"yref\":\"paper\"},{\"font\":{\"size\":16},\"showarrow\":false,\"text\":\"Coverage Index\",\"x\":0.2375,\"xanchor\":\"center\",\"xref\":\"paper\",\"y\":0.8989999999999999,\"yanchor\":\"bottom\",\"yref\":\"paper\"},{\"font\":{\"size\":16},\"showarrow\":false,\"text\":\"Education Index\",\"x\":0.7625,\"xanchor\":\"center\",\"xref\":\"paper\",\"y\":0.8989999999999999,\"yanchor\":\"bottom\",\"yref\":\"paper\"},{\"font\":{\"size\":16},\"showarrow\":false,\"text\":\"Employment Status Index\",\"x\":0.2375,\"xanchor\":\"center\",\"xref\":\"paper\",\"y\":0.798,\"yanchor\":\"bottom\",\"yref\":\"paper\"},{\"font\":{\"size\":16},\"showarrow\":false,\"text\":\"Gender\",\"x\":0.7625,\"xanchor\":\"center\",\"xref\":\"paper\",\"y\":0.798,\"yanchor\":\"bottom\",\"yref\":\"paper\"},{\"font\":{\"size\":16},\"showarrow\":false,\"text\":\"Marital Status Index\",\"x\":0.2375,\"xanchor\":\"center\",\"xref\":\"paper\",\"y\":0.6970000000000001,\"yanchor\":\"bottom\",\"yref\":\"paper\"},{\"font\":{\"size\":16},\"showarrow\":false,\"text\":\"Number of Open Complaints\",\"x\":0.7625,\"xanchor\":\"center\",\"xref\":\"paper\",\"y\":0.6970000000000001,\"yanchor\":\"bottom\",\"yref\":\"paper\"},{\"font\":{\"size\":16},\"showarrow\":false,\"text\":\"Number of Policies\",\"x\":0.2375,\"xanchor\":\"center\",\"xref\":\"paper\",\"y\":0.596,\"yanchor\":\"bottom\",\"yref\":\"paper\"},{\"font\":{\"size\":16},\"showarrow\":false,\"text\":\"Policy Type Index\",\"x\":0.7625,\"xanchor\":\"center\",\"xref\":\"paper\",\"y\":0.596,\"yanchor\":\"bottom\",\"yref\":\"paper\"},{\"font\":{\"size\":16},\"showarrow\":false,\"text\":\"Policy Index\",\"x\":0.2375,\"xanchor\":\"center\",\"xref\":\"paper\",\"y\":0.495,\"yanchor\":\"bottom\",\"yref\":\"paper\"},{\"font\":{\"size\":16},\"showarrow\":false,\"text\":\"Renew Offer Type\",\"x\":0.7625,\"xanchor\":\"center\",\"xref\":\"paper\",\"y\":0.495,\"yanchor\":\"bottom\",\"yref\":\"paper\"},{\"font\":{\"size\":16},\"showarrow\":false,\"text\":\"Sales Channel Index\",\"x\":0.2375,\"xanchor\":\"center\",\"xref\":\"paper\",\"y\":0.394,\"yanchor\":\"bottom\",\"yref\":\"paper\"},{\"font\":{\"size\":16},\"showarrow\":false,\"text\":\"Vehicle Size Index\",\"x\":0.7625,\"xanchor\":\"center\",\"xref\":\"paper\",\"y\":0.394,\"yanchor\":\"bottom\",\"yref\":\"paper\"},{\"font\":{\"size\":16},\"showarrow\":false,\"text\":\"Effective To Month\",\"x\":0.2375,\"xanchor\":\"center\",\"xref\":\"paper\",\"y\":0.293,\"yanchor\":\"bottom\",\"yref\":\"paper\"},{\"font\":{\"size\":16},\"showarrow\":false,\"text\":\"Years Since Last Claim\",\"x\":0.7625,\"xanchor\":\"center\",\"xref\":\"paper\",\"y\":0.293,\"yanchor\":\"bottom\",\"yref\":\"paper\"},{\"font\":{\"size\":16},\"showarrow\":false,\"text\":\"Years Since Policy Inception\",\"x\":0.2375,\"xanchor\":\"center\",\"xref\":\"paper\",\"y\":0.192,\"yanchor\":\"bottom\",\"yref\":\"paper\"},{\"font\":{\"size\":16},\"showarrow\":false,\"text\":\"Customer Lifetime Value_bin\",\"x\":0.7625,\"xanchor\":\"center\",\"xref\":\"paper\",\"y\":0.192,\"yanchor\":\"bottom\",\"yref\":\"paper\"},{\"font\":{\"size\":16},\"showarrow\":false,\"text\":\"Income_bin\",\"x\":0.2375,\"xanchor\":\"center\",\"xref\":\"paper\",\"y\":0.091,\"yanchor\":\"bottom\",\"yref\":\"paper\"},{\"font\":{\"size\":16},\"showarrow\":false,\"text\":\"Accident Likelihood_bin\",\"x\":0.7625,\"xanchor\":\"center\",\"xref\":\"paper\",\"y\":0.091,\"yanchor\":\"bottom\",\"yref\":\"paper\"}],\"title\":{\"text\":\"How Each Column Affects 'Claim over 1k'\"},\"height\":3000,\"showlegend\":false},                        {\"responsive\": true}                    ).then(function(){\n",
       "                            \n",
       "var gd = document.getElementById('c7651353-71f7-4cf0-bff4-867fb7fad104');\n",
       "var x = new MutationObserver(function (mutations, observer) {{\n",
       "        var display = window.getComputedStyle(gd).display;\n",
       "        if (!display || display === 'none') {{\n",
       "            console.log([gd, 'removed!']);\n",
       "            Plotly.purge(gd);\n",
       "            observer.disconnect();\n",
       "        }}\n",
       "}});\n",
       "\n",
       "// Listen for the removal of the full notebook cells\n",
       "var notebookContainer = gd.closest('#notebook-container');\n",
       "if (notebookContainer) {{\n",
       "    x.observe(notebookContainer, {childList: true});\n",
       "}}\n",
       "\n",
       "// Listen for the clearing of the current output cell\n",
       "var outputEl = gd.closest('.output');\n",
       "if (outputEl) {{\n",
       "    x.observe(outputEl, {childList: true});\n",
       "}}\n",
       "\n",
       "                        })                };                });            </script>        </div>"
      ]
     },
     "metadata": {},
     "output_type": "display_data"
    },
    {
     "data": {
      "text/plain": [
       "<Figure size 3000x8000 with 0 Axes>"
      ]
     },
     "metadata": {},
     "output_type": "display_data"
    }
   ],
   "source": [
    "relation_to_claim_over_1k(apply_scaler(df_process, standard_scaler))"
   ]
  },
  {
   "cell_type": "code",
   "execution_count": 4398,
   "metadata": {},
   "outputs": [],
   "source": [
    "def shuffle_df(df):\n",
    "  df_shuffle = df.sample(frac=1).reset_index(drop=True) # shuffle df\n",
    "  number_of_test_cases = 1000\n",
    "  df_train = df_shuffle.tail(len(df_shuffle) - number_of_test_cases).copy()\n",
    "  df_test = df_shuffle.head(number_of_test_cases).copy()\n",
    "  return df_train, df_test"
   ]
  },
  {
   "cell_type": "code",
   "execution_count": 4399,
   "metadata": {},
   "outputs": [],
   "source": [
    "\n",
    "df_train_from_train_dataset, df_test_from_train_dataset = shuffle_df(df_train)"
   ]
  },
  {
   "cell_type": "code",
   "execution_count": 4400,
   "metadata": {},
   "outputs": [
    {
     "name": "stdout",
     "output_type": "stream",
     "text": [
      "<class 'pandas.core.frame.DataFrame'>\n",
      "RangeIndex: 5490 entries, 1800 to 7289\n",
      "Data columns (total 21 columns):\n",
      " #   Column                        Non-Null Count  Dtype\n",
      "---  ------                        --------------  -----\n",
      " 0   State                         5490 non-null   int64\n",
      " 1   Response                      5490 non-null   int64\n",
      " 2   Coverage Index                5490 non-null   int64\n",
      " 3   Education Index               5490 non-null   int64\n",
      " 4   Employment Status Index       5490 non-null   int64\n",
      " 5   Gender                        5490 non-null   int64\n",
      " 6   Marital Status Index          5490 non-null   int64\n",
      " 7   Number of Open Complaints     5490 non-null   int64\n",
      " 8   Number of Policies            5490 non-null   int64\n",
      " 9   Policy Type Index             5490 non-null   int64\n",
      " 10  Policy Index                  5490 non-null   int64\n",
      " 11  Renew Offer Type              5490 non-null   int64\n",
      " 12  Sales Channel Index           5490 non-null   int64\n",
      " 13  Vehicle Size Index            5490 non-null   int64\n",
      " 14  Claim over 1k                 5490 non-null   int64\n",
      " 15  Effective To Month            5490 non-null   int32\n",
      " 16  Years Since Last Claim        5490 non-null   int64\n",
      " 17  Years Since Policy Inception  5490 non-null   int64\n",
      " 18  Customer Lifetime Value_bin   5490 non-null   int64\n",
      " 19  Income_bin                    5490 non-null   int64\n",
      " 20  Accident Likelihood_bin       5490 non-null   int64\n",
      "dtypes: int32(1), int64(20)\n",
      "memory usage: 879.4 KB\n"
     ]
    }
   ],
   "source": [
    "pre_process(df_train_from_train_dataset)\n",
    "df_train_from_train_dataset.info()"
   ]
  },
  {
   "cell_type": "code",
   "execution_count": 4401,
   "metadata": {},
   "outputs": [
    {
     "name": "stdout",
     "output_type": "stream",
     "text": [
      "<class 'pandas.core.frame.DataFrame'>\n",
      "RangeIndex: 1800 entries, 0 to 1799\n",
      "Data columns (total 21 columns):\n",
      " #   Column                        Non-Null Count  Dtype\n",
      "---  ------                        --------------  -----\n",
      " 0   State                         1800 non-null   int64\n",
      " 1   Response                      1800 non-null   int64\n",
      " 2   Coverage Index                1800 non-null   int64\n",
      " 3   Education Index               1800 non-null   int64\n",
      " 4   Employment Status Index       1800 non-null   int64\n",
      " 5   Gender                        1800 non-null   int64\n",
      " 6   Marital Status Index          1800 non-null   int64\n",
      " 7   Number of Open Complaints     1800 non-null   int64\n",
      " 8   Number of Policies            1800 non-null   int64\n",
      " 9   Policy Type Index             1800 non-null   int64\n",
      " 10  Policy Index                  1800 non-null   int64\n",
      " 11  Renew Offer Type              1800 non-null   int64\n",
      " 12  Sales Channel Index           1800 non-null   int64\n",
      " 13  Vehicle Size Index            1800 non-null   int64\n",
      " 14  Claim over 1k                 1800 non-null   int64\n",
      " 15  Effective To Month            1800 non-null   int32\n",
      " 16  Years Since Last Claim        1800 non-null   int64\n",
      " 17  Years Since Policy Inception  1800 non-null   int64\n",
      " 18  Customer Lifetime Value_bin   1800 non-null   int64\n",
      " 19  Income_bin                    1800 non-null   int64\n",
      " 20  Accident Likelihood_bin       1800 non-null   int64\n",
      "dtypes: int32(1), int64(20)\n",
      "memory usage: 288.4 KB\n"
     ]
    }
   ],
   "source": [
    "pre_process(df_test_from_train_dataset)\n",
    "df_test_from_train_dataset.info()"
   ]
  },
  {
   "cell_type": "code",
   "execution_count": 4402,
   "metadata": {},
   "outputs": [],
   "source": [
    "from imblearn.over_sampling import SMOTE\n",
    "\n",
    "def balance_with_ratio(df, ratio):\n",
    "  X = df.drop(columns=['Claim over 1k'])  # Features\n",
    "  y = df['Claim over 1k']  # Target\n",
    "\n",
    "  # Calculate the number of samples needed based on the target ratio\n",
    "  count_majority = sum(y == 0)\n",
    "  count_minority = sum(y == 1)\n",
    "  # The target number of minority samples to reach the desired ratio\n",
    "  desired_minority_count = count_majority // ratio\n",
    "\n",
    "  # Set the sampling strategy to the target ratio\n",
    "  sampling_strategy = desired_minority_count / count_majority\n",
    "\n",
    "  # Apply SMOTE with the custom sampling strategy\n",
    "  smote = SMOTE(sampling_strategy=sampling_strategy, random_state=42)\n",
    "  X_resampled, y_resampled = smote.fit_resample(X, y)\n",
    "\n",
    "  # Create a balanced DataFrame\n",
    "  df_balanced = pd.DataFrame(X_resampled, columns=X.columns)\n",
    "  df_balanced['Claim over 1k'] = y_resampled\n",
    "\n",
    "  return df_balanced\n",
    "\n",
    "def balance(df):\n",
    "  # Separate features and target\n",
    "  X = df.drop(columns=['Claim over 1k'])  # Features\n",
    "  y = df['Claim over 1k']  # Target\n",
    "\n",
    "  # Apply SMOTE to balance the classes\n",
    "  smote = SMOTE(random_state=42)\n",
    "  X_resampled, y_resampled = smote.fit_resample(X, y)\n",
    "\n",
    "  # Check the original and resampled class distributions\n",
    "  print(\"Original class distribution:\")\n",
    "  print(y.value_counts())\n",
    "  print(\"\\nResampled class distribution:\")\n",
    "  print(pd.Series(y_resampled).value_counts())\n",
    "  \n",
    "  # Create a df and Return\n",
    "  df_balanced = pd.DataFrame(X_resampled, columns=X.columns)\n",
    "  df_balanced['Claim over 1k'] = y_resampled\n",
    "\n",
    "  return df_balanced\n",
    "\n",
    "def balance_old(df):\n",
    "  df_majority = df[df[\"Claim over 1k\"] == 0]\n",
    "  df_minority = df[df[\"Claim over 1k\"] == 1]\n",
    "  # Upsample minority class\n",
    "  df_minority_upsampled = resample(df_minority,\n",
    "                                    replace=True,  # Sample with replacement\n",
    "                                    n_samples=len(df_majority),  # Match the majority class\n",
    "                                    random_state=42)  # Reproducible results\n",
    "\n",
    "  # Combine majority class with upsampled minority class\n",
    "  df_balanced = pd.concat([df_majority, df_minority_upsampled])\n",
    "  print(df_balanced[\"Claim over 1k\"].value_counts())\n",
    "  relation_to_claim_over_1k(df_balanced)\n",
    "  from imblearn.over_sampling import SMOTE\n",
    "\n",
    "  X = df_balanced.drop(columns=['Claim over 1k'])  # Features\n",
    "  y = df_balanced['Claim over 1k']  # Target\n",
    "\n",
    "  smote = SMOTE(random_state=42)\n",
    "  X_resampled, y_resampled = smote.fit_resample(X, y)\n",
    "  \n",
    "  # Create a df and Return\n",
    "  df_balanced = pd.DataFrame(X_resampled, columns=X.columns)\n",
    "  df_balanced['Claim over 1k'] = y_resampled\n",
    "  return df_balanced"
   ]
  },
  {
   "cell_type": "code",
   "execution_count": 4415,
   "metadata": {},
   "outputs": [
    {
     "name": "stdout",
     "output_type": "stream",
     "text": [
      "Claim over 1k\n",
      "0    4870\n",
      "1    1791\n",
      "Name: count, dtype: int64\n"
     ]
    },
    {
     "data": {
      "application/vnd.plotly.v1+json": {
       "config": {
        "plotlyServerURL": "https://plot.ly"
       },
       "data": [
        {
         "name": "0",
         "type": "bar",
         "x": [
          0,
          1
         ],
         "xaxis": "x",
         "y": [
          1667,
          774
         ],
         "yaxis": "y"
        },
        {
         "name": "1",
         "type": "bar",
         "x": [
          0,
          1
         ],
         "xaxis": "x",
         "y": [
          904,
          266
         ],
         "yaxis": "y"
        },
        {
         "name": "2",
         "type": "bar",
         "x": [
          0,
          1
         ],
         "xaxis": "x",
         "y": [
          429,
          196
         ],
         "yaxis": "y"
        },
        {
         "name": "3",
         "type": "bar",
         "x": [
          0,
          1
         ],
         "xaxis": "x",
         "y": [
          1391,
          488
         ],
         "yaxis": "y"
        },
        {
         "name": "4",
         "type": "bar",
         "x": [
          0,
          1
         ],
         "xaxis": "x",
         "y": [
          479,
          67
         ],
         "yaxis": "y"
        },
        {
         "name": "0",
         "type": "bar",
         "x": [
          0,
          1
         ],
         "xaxis": "x2",
         "y": [
          4159,
          1662
         ],
         "yaxis": "y2"
        },
        {
         "name": "1",
         "type": "bar",
         "x": [
          0,
          1
         ],
         "xaxis": "x2",
         "y": [
          711,
          129
         ],
         "yaxis": "y2"
        },
        {
         "name": "0",
         "type": "bar",
         "x": [
          0,
          1
         ],
         "xaxis": "x3",
         "y": [
          3062,
          850
         ],
         "yaxis": "y3"
        },
        {
         "name": "1",
         "type": "bar",
         "x": [
          0,
          1
         ],
         "xaxis": "x3",
         "y": [
          1475,
          609
         ],
         "yaxis": "y3"
        },
        {
         "name": "2",
         "type": "bar",
         "x": [
          0,
          1
         ],
         "xaxis": "x3",
         "y": [
          333,
          332
         ],
         "yaxis": "y3"
        },
        {
         "name": "0",
         "type": "bar",
         "x": [
          0,
          1
         ],
         "xaxis": "x4",
         "y": [
          1341,
          793
         ],
         "yaxis": "y4"
        },
        {
         "name": "1",
         "type": "bar",
         "x": [
          0,
          1
         ],
         "xaxis": "x4",
         "y": [
          1481,
          499
         ],
         "yaxis": "y4"
        },
        {
         "name": "2",
         "type": "bar",
         "x": [
          0,
          1
         ],
         "xaxis": "x4",
         "y": [
          1428,
          446
         ],
         "yaxis": "y4"
        },
        {
         "name": "3",
         "type": "bar",
         "x": [
          0,
          1
         ],
         "xaxis": "x4",
         "y": [
          425,
          48
         ],
         "yaxis": "y4"
        },
        {
         "name": "4",
         "type": "bar",
         "x": [
          0,
          1
         ],
         "xaxis": "x4",
         "y": [
          195,
          5
         ],
         "yaxis": "y4"
        },
        {
         "name": "0",
         "type": "bar",
         "x": [
          0,
          1
         ],
         "xaxis": "x5",
         "y": [
          1073,
          1097
         ],
         "yaxis": "y5"
        },
        {
         "name": "1",
         "type": "bar",
         "x": [
          0,
          1
         ],
         "xaxis": "x5",
         "y": [
          3212,
          555
         ],
         "yaxis": "y5"
        },
        {
         "name": "2",
         "type": "bar",
         "x": [
          0,
          1
         ],
         "xaxis": "x5",
         "y": [
          217,
          48
         ],
         "yaxis": "y5"
        },
        {
         "name": "3",
         "type": "bar",
         "x": [
          0,
          1
         ],
         "xaxis": "x5",
         "y": [
          155,
          43
         ],
         "yaxis": "y5"
        },
        {
         "name": "4",
         "type": "bar",
         "x": [
          0,
          1
         ],
         "xaxis": "x5",
         "y": [
          213,
          48
         ],
         "yaxis": "y5"
        },
        {
         "name": "0",
         "type": "bar",
         "x": [
          0,
          1
         ],
         "xaxis": "x6",
         "y": [
          2535,
          1006
         ],
         "yaxis": "y6"
        },
        {
         "name": "1",
         "type": "bar",
         "x": [
          0,
          1
         ],
         "xaxis": "x6",
         "y": [
          2335,
          785
         ],
         "yaxis": "y6"
        },
        {
         "name": "0",
         "type": "bar",
         "x": [
          0,
          1
         ],
         "xaxis": "x7",
         "y": [
          1150,
          1090
         ],
         "yaxis": "y7"
        },
        {
         "name": "1",
         "type": "bar",
         "x": [
          0,
          1
         ],
         "xaxis": "x7",
         "y": [
          2955,
          622
         ],
         "yaxis": "y7"
        },
        {
         "name": "2",
         "type": "bar",
         "x": [
          0,
          1
         ],
         "xaxis": "x7",
         "y": [
          765,
          79
         ],
         "yaxis": "y7"
        },
        {
         "name": "0",
         "type": "bar",
         "x": [
          0,
          1
         ],
         "xaxis": "x8",
         "y": [
          3864,
          1515
         ],
         "yaxis": "y8"
        },
        {
         "name": "1",
         "type": "bar",
         "x": [
          0,
          1
         ],
         "xaxis": "x8",
         "y": [
          553,
          141
         ],
         "yaxis": "y8"
        },
        {
         "name": "2",
         "type": "bar",
         "x": [
          0,
          1
         ],
         "xaxis": "x8",
         "y": [
          198,
          56
         ],
         "yaxis": "y8"
        },
        {
         "name": "3",
         "type": "bar",
         "x": [
          0,
          1
         ],
         "xaxis": "x8",
         "y": [
          150,
          38
         ],
         "yaxis": "y8"
        },
        {
         "name": "4",
         "type": "bar",
         "x": [
          0,
          1
         ],
         "xaxis": "x8",
         "y": [
          73,
          33
         ],
         "yaxis": "y8"
        },
        {
         "name": "5",
         "type": "bar",
         "x": [
          0,
          1
         ],
         "xaxis": "x8",
         "y": [
          32,
          8
         ],
         "yaxis": "y8"
        },
        {
         "name": "1",
         "type": "bar",
         "x": [
          0,
          1
         ],
         "xaxis": "x9",
         "y": [
          1697,
          704
         ],
         "yaxis": "y9"
        },
        {
         "name": "2",
         "type": "bar",
         "x": [
          0,
          1
         ],
         "xaxis": "x9",
         "y": [
          1231,
          430
         ],
         "yaxis": "y9"
        },
        {
         "name": "3",
         "type": "bar",
         "x": [
          0,
          1
         ],
         "xaxis": "x9",
         "y": [
          642,
          190
         ],
         "yaxis": "y9"
        },
        {
         "name": "4",
         "type": "bar",
         "x": [
          0,
          1
         ],
         "xaxis": "x9",
         "y": [
          215,
          78
         ],
         "yaxis": "y9"
        },
        {
         "name": "5",
         "type": "bar",
         "x": [
          0,
          1
         ],
         "xaxis": "x9",
         "y": [
          220,
          54
         ],
         "yaxis": "y9"
        },
        {
         "name": "6",
         "type": "bar",
         "x": [
          0,
          1
         ],
         "xaxis": "x9",
         "y": [
          193,
          73
         ],
         "yaxis": "y9"
        },
        {
         "name": "7",
         "type": "bar",
         "x": [
          0,
          1
         ],
         "xaxis": "x9",
         "y": [
          226,
          117
         ],
         "yaxis": "y9"
        },
        {
         "name": "8",
         "type": "bar",
         "x": [
          0,
          1
         ],
         "xaxis": "x9",
         "y": [
          208,
          112
         ],
         "yaxis": "y9"
        },
        {
         "name": "9",
         "type": "bar",
         "x": [
          0,
          1
         ],
         "xaxis": "x9",
         "y": [
          238,
          33
         ],
         "yaxis": "y9"
        },
        {
         "name": "0",
         "type": "bar",
         "x": [
          0,
          1
         ],
         "xaxis": "x10",
         "y": [
          3642,
          1407
         ],
         "yaxis": "y10"
        },
        {
         "name": "1",
         "type": "bar",
         "x": [
          0,
          1
         ],
         "xaxis": "x10",
         "y": [
          1037,
          339
         ],
         "yaxis": "y10"
        },
        {
         "name": "2",
         "type": "bar",
         "x": [
          0,
          1
         ],
         "xaxis": "x10",
         "y": [
          191,
          45
         ],
         "yaxis": "y10"
        },
        {
         "name": "0",
         "type": "bar",
         "x": [
          0,
          1
         ],
         "xaxis": "x11",
         "y": [
          663,
          291
         ],
         "yaxis": "y11"
        },
        {
         "name": "1",
         "type": "bar",
         "x": [
          0,
          1
         ],
         "xaxis": "x11",
         "y": [
          1121,
          517
         ],
         "yaxis": "y11"
        },
        {
         "name": "2",
         "type": "bar",
         "x": [
          0,
          1
         ],
         "xaxis": "x11",
         "y": [
          1858,
          571
         ],
         "yaxis": "y11"
        },
        {
         "name": "3",
         "type": "bar",
         "x": [
          0,
          1
         ],
         "xaxis": "x11",
         "y": [
          198,
          83
         ],
         "yaxis": "y11"
        },
        {
         "name": "4",
         "type": "bar",
         "x": [
          0,
          1
         ],
         "xaxis": "x11",
         "y": [
          323,
          116
         ],
         "yaxis": "y11"
        },
        {
         "name": "5",
         "type": "bar",
         "x": [
          0,
          1
         ],
         "xaxis": "x11",
         "y": [
          516,
          158
         ],
         "yaxis": "y11"
        },
        {
         "name": "6",
         "type": "bar",
         "x": [
          0,
          1
         ],
         "xaxis": "x11",
         "y": [
          33,
          17
         ],
         "yaxis": "y11"
        },
        {
         "name": "7",
         "type": "bar",
         "x": [
          0,
          1
         ],
         "xaxis": "x11",
         "y": [
          86,
          18
         ],
         "yaxis": "y11"
        },
        {
         "name": "8",
         "type": "bar",
         "x": [
          0,
          1
         ],
         "xaxis": "x11",
         "y": [
          72,
          20
         ],
         "yaxis": "y11"
        },
        {
         "name": "1",
         "type": "bar",
         "x": [
          0,
          1
         ],
         "xaxis": "x12",
         "y": [
          1951,
          1027
         ],
         "yaxis": "y12"
        },
        {
         "name": "2",
         "type": "bar",
         "x": [
          0,
          1
         ],
         "xaxis": "x12",
         "y": [
          1584,
          423
         ],
         "yaxis": "y12"
        },
        {
         "name": "3",
         "type": "bar",
         "x": [
          0,
          1
         ],
         "xaxis": "x12",
         "y": [
          776,
          253
         ],
         "yaxis": "y12"
        },
        {
         "name": "4",
         "type": "bar",
         "x": [
          0,
          1
         ],
         "xaxis": "x12",
         "y": [
          559,
          88
         ],
         "yaxis": "y12"
        },
        {
         "name": "0",
         "type": "bar",
         "x": [
          0,
          1
         ],
         "xaxis": "x13",
         "y": [
          721,
          263
         ],
         "yaxis": "y13"
        },
        {
         "name": "1",
         "type": "bar",
         "x": [
          0,
          1
         ],
         "xaxis": "x13",
         "y": [
          1347,
          651
         ],
         "yaxis": "y13"
        },
        {
         "name": "2",
         "type": "bar",
         "x": [
          0,
          1
         ],
         "xaxis": "x13",
         "y": [
          1866,
          690
         ],
         "yaxis": "y13"
        },
        {
         "name": "3",
         "type": "bar",
         "x": [
          0,
          1
         ],
         "xaxis": "x13",
         "y": [
          936,
          187
         ],
         "yaxis": "y13"
        },
        {
         "name": "0",
         "type": "bar",
         "x": [
          0,
          1
         ],
         "xaxis": "x14",
         "y": [
          912,
          533
         ],
         "yaxis": "y14"
        },
        {
         "name": "1",
         "type": "bar",
         "x": [
          0,
          1
         ],
         "xaxis": "x14",
         "y": [
          3460,
          1179
         ],
         "yaxis": "y14"
        },
        {
         "name": "2",
         "type": "bar",
         "x": [
          0,
          1
         ],
         "xaxis": "x14",
         "y": [
          498,
          79
         ],
         "yaxis": "y14"
        },
        {
         "name": "0",
         "type": "bar",
         "x": [
          0,
          1
         ],
         "xaxis": "x15",
         "y": [
          3905,
          1608
         ],
         "yaxis": "y15"
        },
        {
         "name": "1",
         "type": "bar",
         "x": [
          0,
          1
         ],
         "xaxis": "x15",
         "y": [
          965,
          183
         ],
         "yaxis": "y15"
        },
        {
         "name": "0",
         "type": "bar",
         "x": [
          0,
          1
         ],
         "xaxis": "x16",
         "y": [
          1568,
          749
         ],
         "yaxis": "y16"
        },
        {
         "name": "1",
         "type": "bar",
         "x": [
          0,
          1
         ],
         "xaxis": "x16",
         "y": [
          1365,
          477
         ],
         "yaxis": "y16"
        },
        {
         "name": "2",
         "type": "bar",
         "x": [
          0,
          1
         ],
         "xaxis": "x16",
         "y": [
          1094,
          379
         ],
         "yaxis": "y16"
        },
        {
         "name": "3",
         "type": "bar",
         "x": [
          0,
          1
         ],
         "xaxis": "x16",
         "y": [
          843,
          186
         ],
         "yaxis": "y16"
        },
        {
         "name": "0",
         "type": "bar",
         "x": [
          0,
          1
         ],
         "xaxis": "x17",
         "y": [
          1313,
          564
         ],
         "yaxis": "y17"
        },
        {
         "name": "1",
         "type": "bar",
         "x": [
          0,
          1
         ],
         "xaxis": "x17",
         "y": [
          1372,
          576
         ],
         "yaxis": "y17"
        },
        {
         "name": "2",
         "type": "bar",
         "x": [
          0,
          1
         ],
         "xaxis": "x17",
         "y": [
          1378,
          481
         ],
         "yaxis": "y17"
        },
        {
         "name": "3",
         "type": "bar",
         "x": [
          0,
          1
         ],
         "xaxis": "x17",
         "y": [
          807,
          170
         ],
         "yaxis": "y17"
        },
        {
         "name": "0",
         "type": "bar",
         "x": [
          0,
          1
         ],
         "xaxis": "x18",
         "y": [
          178,
          14
         ],
         "yaxis": "y18"
        },
        {
         "name": "1",
         "type": "bar",
         "x": [
          0,
          1
         ],
         "xaxis": "x18",
         "y": [
          186,
          5
         ],
         "yaxis": "y18"
        },
        {
         "name": "2",
         "type": "bar",
         "x": [
          0,
          1
         ],
         "xaxis": "x18",
         "y": [
          176,
          5
         ],
         "yaxis": "y18"
        },
        {
         "name": "3",
         "type": "bar",
         "x": [
          0,
          1
         ],
         "xaxis": "x18",
         "y": [
          182,
          1
         ],
         "yaxis": "y18"
        },
        {
         "name": "4",
         "type": "bar",
         "x": [
          0,
          1
         ],
         "xaxis": "x18",
         "y": [
          178,
          13
         ],
         "yaxis": "y18"
        },
        {
         "name": "5",
         "type": "bar",
         "x": [
          0,
          1
         ],
         "xaxis": "x18",
         "y": [
          171,
          40
         ],
         "yaxis": "y18"
        },
        {
         "name": "6",
         "type": "bar",
         "x": [
          0,
          1
         ],
         "xaxis": "x18",
         "y": [
          158,
          84
         ],
         "yaxis": "y18"
        },
        {
         "name": "7",
         "type": "bar",
         "x": [
          0,
          1
         ],
         "xaxis": "x18",
         "y": [
          152,
          101
         ],
         "yaxis": "y18"
        },
        {
         "name": "8",
         "type": "bar",
         "x": [
          0,
          1
         ],
         "xaxis": "x18",
         "y": [
          171,
          43
         ],
         "yaxis": "y18"
        },
        {
         "name": "9",
         "type": "bar",
         "x": [
          0,
          1
         ],
         "xaxis": "x18",
         "y": [
          162,
          44
         ],
         "yaxis": "y18"
        },
        {
         "name": "10",
         "type": "bar",
         "x": [
          0,
          1
         ],
         "xaxis": "x18",
         "y": [
          175,
          25
         ],
         "yaxis": "y18"
        },
        {
         "name": "11",
         "type": "bar",
         "x": [
          0,
          1
         ],
         "xaxis": "x18",
         "y": [
          176,
          16
         ],
         "yaxis": "y18"
        },
        {
         "name": "12",
         "type": "bar",
         "x": [
          0,
          1
         ],
         "xaxis": "x18",
         "y": [
          179,
          15
         ],
         "yaxis": "y18"
        },
        {
         "name": "13",
         "type": "bar",
         "x": [
          0,
          1
         ],
         "xaxis": "x18",
         "y": [
          175,
          11
         ],
         "yaxis": "y18"
        },
        {
         "name": "14",
         "type": "bar",
         "x": [
          0,
          1
         ],
         "xaxis": "x18",
         "y": [
          170,
          46
         ],
         "yaxis": "y18"
        },
        {
         "name": "15",
         "type": "bar",
         "x": [
          0,
          1
         ],
         "xaxis": "x18",
         "y": [
          168,
          50
         ],
         "yaxis": "y18"
        },
        {
         "name": "16",
         "type": "bar",
         "x": [
          0,
          1
         ],
         "xaxis": "x18",
         "y": [
          161,
          76
         ],
         "yaxis": "y18"
        },
        {
         "name": "17",
         "type": "bar",
         "x": [
          0,
          1
         ],
         "xaxis": "x18",
         "y": [
          157,
          81
         ],
         "yaxis": "y18"
        },
        {
         "name": "18",
         "type": "bar",
         "x": [
          0,
          1
         ],
         "xaxis": "x18",
         "y": [
          149,
          111
         ],
         "yaxis": "y18"
        },
        {
         "name": "19",
         "type": "bar",
         "x": [
          0,
          1
         ],
         "xaxis": "x18",
         "y": [
          160,
          67
         ],
         "yaxis": "y18"
        },
        {
         "name": "20",
         "type": "bar",
         "x": [
          0,
          1
         ],
         "xaxis": "x18",
         "y": [
          167,
          60
         ],
         "yaxis": "y18"
        },
        {
         "name": "21",
         "type": "bar",
         "x": [
          0,
          1
         ],
         "xaxis": "x18",
         "y": [
          157,
          67
         ],
         "yaxis": "y18"
        },
        {
         "name": "22",
         "type": "bar",
         "x": [
          0,
          1
         ],
         "xaxis": "x18",
         "y": [
          159,
          69
         ],
         "yaxis": "y18"
        },
        {
         "name": "23",
         "type": "bar",
         "x": [
          0,
          1
         ],
         "xaxis": "x18",
         "y": [
          142,
          112
         ],
         "yaxis": "y18"
        },
        {
         "name": "24",
         "type": "bar",
         "x": [
          0,
          1
         ],
         "xaxis": "x18",
         "y": [
          158,
          64
         ],
         "yaxis": "y18"
        },
        {
         "name": "25",
         "type": "bar",
         "x": [
          0,
          1
         ],
         "xaxis": "x18",
         "y": [
          137,
          129
         ],
         "yaxis": "y18"
        },
        {
         "name": "26",
         "type": "bar",
         "x": [
          0,
          1
         ],
         "xaxis": "x18",
         "y": [
          141,
          137
         ],
         "yaxis": "y18"
        },
        {
         "name": "27",
         "type": "bar",
         "x": [
          0,
          1
         ],
         "xaxis": "x18",
         "y": [
          136,
          106
         ],
         "yaxis": "y18"
        },
        {
         "name": "28",
         "type": "bar",
         "x": [
          0,
          1
         ],
         "xaxis": "x18",
         "y": [
          152,
          97
         ],
         "yaxis": "y18"
        },
        {
         "name": "29",
         "type": "bar",
         "x": [
          0,
          1
         ],
         "xaxis": "x18",
         "y": [
          137,
          102
         ],
         "yaxis": "y18"
        },
        {
         "name": "0",
         "type": "bar",
         "x": [
          0,
          1
         ],
         "xaxis": "x19",
         "y": [
          1776,
          1293
         ],
         "yaxis": "y19"
        },
        {
         "name": "1",
         "type": "bar",
         "x": [
          0,
          1
         ],
         "xaxis": "x19",
         "y": [
          1016,
          227
         ],
         "yaxis": "y19"
        },
        {
         "name": "2",
         "type": "bar",
         "x": [
          0,
          1
         ],
         "xaxis": "x19",
         "y": [
          1019,
          211
         ],
         "yaxis": "y19"
        },
        {
         "name": "3",
         "type": "bar",
         "x": [
          0,
          1
         ],
         "xaxis": "x19",
         "y": [
          1059,
          60
         ],
         "yaxis": "y19"
        },
        {
         "name": "0",
         "type": "bar",
         "x": [
          0,
          1
         ],
         "xaxis": "x20",
         "y": [
          1360,
          227
         ],
         "yaxis": "y20"
        },
        {
         "name": "1",
         "type": "bar",
         "x": [
          0,
          1
         ],
         "xaxis": "x20",
         "y": [
          1298,
          402
         ],
         "yaxis": "y20"
        },
        {
         "name": "2",
         "type": "bar",
         "x": [
          0,
          1
         ],
         "xaxis": "x20",
         "y": [
          1173,
          495
         ],
         "yaxis": "y20"
        },
        {
         "name": "3",
         "type": "bar",
         "x": [
          0,
          1
         ],
         "xaxis": "x20",
         "y": [
          1039,
          667
         ],
         "yaxis": "y20"
        }
       ],
       "layout": {
        "annotations": [
         {
          "font": {
           "size": 16
          },
          "showarrow": false,
          "text": "State",
          "x": 0.2375,
          "xanchor": "center",
          "xref": "paper",
          "y": 0.9999999999999999,
          "yanchor": "bottom",
          "yref": "paper"
         },
         {
          "font": {
           "size": 16
          },
          "showarrow": false,
          "text": "Response",
          "x": 0.7625,
          "xanchor": "center",
          "xref": "paper",
          "y": 0.9999999999999999,
          "yanchor": "bottom",
          "yref": "paper"
         },
         {
          "font": {
           "size": 16
          },
          "showarrow": false,
          "text": "Coverage Index",
          "x": 0.2375,
          "xanchor": "center",
          "xref": "paper",
          "y": 0.8989999999999999,
          "yanchor": "bottom",
          "yref": "paper"
         },
         {
          "font": {
           "size": 16
          },
          "showarrow": false,
          "text": "Education Index",
          "x": 0.7625,
          "xanchor": "center",
          "xref": "paper",
          "y": 0.8989999999999999,
          "yanchor": "bottom",
          "yref": "paper"
         },
         {
          "font": {
           "size": 16
          },
          "showarrow": false,
          "text": "Employment Status Index",
          "x": 0.2375,
          "xanchor": "center",
          "xref": "paper",
          "y": 0.798,
          "yanchor": "bottom",
          "yref": "paper"
         },
         {
          "font": {
           "size": 16
          },
          "showarrow": false,
          "text": "Gender",
          "x": 0.7625,
          "xanchor": "center",
          "xref": "paper",
          "y": 0.798,
          "yanchor": "bottom",
          "yref": "paper"
         },
         {
          "font": {
           "size": 16
          },
          "showarrow": false,
          "text": "Marital Status Index",
          "x": 0.2375,
          "xanchor": "center",
          "xref": "paper",
          "y": 0.6970000000000001,
          "yanchor": "bottom",
          "yref": "paper"
         },
         {
          "font": {
           "size": 16
          },
          "showarrow": false,
          "text": "Number of Open Complaints",
          "x": 0.7625,
          "xanchor": "center",
          "xref": "paper",
          "y": 0.6970000000000001,
          "yanchor": "bottom",
          "yref": "paper"
         },
         {
          "font": {
           "size": 16
          },
          "showarrow": false,
          "text": "Number of Policies",
          "x": 0.2375,
          "xanchor": "center",
          "xref": "paper",
          "y": 0.596,
          "yanchor": "bottom",
          "yref": "paper"
         },
         {
          "font": {
           "size": 16
          },
          "showarrow": false,
          "text": "Policy Type Index",
          "x": 0.7625,
          "xanchor": "center",
          "xref": "paper",
          "y": 0.596,
          "yanchor": "bottom",
          "yref": "paper"
         },
         {
          "font": {
           "size": 16
          },
          "showarrow": false,
          "text": "Policy Index",
          "x": 0.2375,
          "xanchor": "center",
          "xref": "paper",
          "y": 0.495,
          "yanchor": "bottom",
          "yref": "paper"
         },
         {
          "font": {
           "size": 16
          },
          "showarrow": false,
          "text": "Renew Offer Type",
          "x": 0.7625,
          "xanchor": "center",
          "xref": "paper",
          "y": 0.495,
          "yanchor": "bottom",
          "yref": "paper"
         },
         {
          "font": {
           "size": 16
          },
          "showarrow": false,
          "text": "Sales Channel Index",
          "x": 0.2375,
          "xanchor": "center",
          "xref": "paper",
          "y": 0.394,
          "yanchor": "bottom",
          "yref": "paper"
         },
         {
          "font": {
           "size": 16
          },
          "showarrow": false,
          "text": "Vehicle Size Index",
          "x": 0.7625,
          "xanchor": "center",
          "xref": "paper",
          "y": 0.394,
          "yanchor": "bottom",
          "yref": "paper"
         },
         {
          "font": {
           "size": 16
          },
          "showarrow": false,
          "text": "Effective To Month",
          "x": 0.2375,
          "xanchor": "center",
          "xref": "paper",
          "y": 0.293,
          "yanchor": "bottom",
          "yref": "paper"
         },
         {
          "font": {
           "size": 16
          },
          "showarrow": false,
          "text": "Years Since Last Claim",
          "x": 0.7625,
          "xanchor": "center",
          "xref": "paper",
          "y": 0.293,
          "yanchor": "bottom",
          "yref": "paper"
         },
         {
          "font": {
           "size": 16
          },
          "showarrow": false,
          "text": "Years Since Policy Inception",
          "x": 0.2375,
          "xanchor": "center",
          "xref": "paper",
          "y": 0.192,
          "yanchor": "bottom",
          "yref": "paper"
         },
         {
          "font": {
           "size": 16
          },
          "showarrow": false,
          "text": "Customer Lifetime Value_bin",
          "x": 0.7625,
          "xanchor": "center",
          "xref": "paper",
          "y": 0.192,
          "yanchor": "bottom",
          "yref": "paper"
         },
         {
          "font": {
           "size": 16
          },
          "showarrow": false,
          "text": "Income_bin",
          "x": 0.2375,
          "xanchor": "center",
          "xref": "paper",
          "y": 0.091,
          "yanchor": "bottom",
          "yref": "paper"
         },
         {
          "font": {
           "size": 16
          },
          "showarrow": false,
          "text": "Accident Likelihood_bin",
          "x": 0.7625,
          "xanchor": "center",
          "xref": "paper",
          "y": 0.091,
          "yanchor": "bottom",
          "yref": "paper"
         }
        ],
        "height": 3000,
        "showlegend": false,
        "template": {
         "data": {
          "bar": [
           {
            "error_x": {
             "color": "#2a3f5f"
            },
            "error_y": {
             "color": "#2a3f5f"
            },
            "marker": {
             "line": {
              "color": "#E5ECF6",
              "width": 0.5
             },
             "pattern": {
              "fillmode": "overlay",
              "size": 10,
              "solidity": 0.2
             }
            },
            "type": "bar"
           }
          ],
          "barpolar": [
           {
            "marker": {
             "line": {
              "color": "#E5ECF6",
              "width": 0.5
             },
             "pattern": {
              "fillmode": "overlay",
              "size": 10,
              "solidity": 0.2
             }
            },
            "type": "barpolar"
           }
          ],
          "carpet": [
           {
            "aaxis": {
             "endlinecolor": "#2a3f5f",
             "gridcolor": "white",
             "linecolor": "white",
             "minorgridcolor": "white",
             "startlinecolor": "#2a3f5f"
            },
            "baxis": {
             "endlinecolor": "#2a3f5f",
             "gridcolor": "white",
             "linecolor": "white",
             "minorgridcolor": "white",
             "startlinecolor": "#2a3f5f"
            },
            "type": "carpet"
           }
          ],
          "choropleth": [
           {
            "colorbar": {
             "outlinewidth": 0,
             "ticks": ""
            },
            "type": "choropleth"
           }
          ],
          "contour": [
           {
            "colorbar": {
             "outlinewidth": 0,
             "ticks": ""
            },
            "colorscale": [
             [
              0,
              "#0d0887"
             ],
             [
              0.1111111111111111,
              "#46039f"
             ],
             [
              0.2222222222222222,
              "#7201a8"
             ],
             [
              0.3333333333333333,
              "#9c179e"
             ],
             [
              0.4444444444444444,
              "#bd3786"
             ],
             [
              0.5555555555555556,
              "#d8576b"
             ],
             [
              0.6666666666666666,
              "#ed7953"
             ],
             [
              0.7777777777777778,
              "#fb9f3a"
             ],
             [
              0.8888888888888888,
              "#fdca26"
             ],
             [
              1,
              "#f0f921"
             ]
            ],
            "type": "contour"
           }
          ],
          "contourcarpet": [
           {
            "colorbar": {
             "outlinewidth": 0,
             "ticks": ""
            },
            "type": "contourcarpet"
           }
          ],
          "heatmap": [
           {
            "colorbar": {
             "outlinewidth": 0,
             "ticks": ""
            },
            "colorscale": [
             [
              0,
              "#0d0887"
             ],
             [
              0.1111111111111111,
              "#46039f"
             ],
             [
              0.2222222222222222,
              "#7201a8"
             ],
             [
              0.3333333333333333,
              "#9c179e"
             ],
             [
              0.4444444444444444,
              "#bd3786"
             ],
             [
              0.5555555555555556,
              "#d8576b"
             ],
             [
              0.6666666666666666,
              "#ed7953"
             ],
             [
              0.7777777777777778,
              "#fb9f3a"
             ],
             [
              0.8888888888888888,
              "#fdca26"
             ],
             [
              1,
              "#f0f921"
             ]
            ],
            "type": "heatmap"
           }
          ],
          "heatmapgl": [
           {
            "colorbar": {
             "outlinewidth": 0,
             "ticks": ""
            },
            "colorscale": [
             [
              0,
              "#0d0887"
             ],
             [
              0.1111111111111111,
              "#46039f"
             ],
             [
              0.2222222222222222,
              "#7201a8"
             ],
             [
              0.3333333333333333,
              "#9c179e"
             ],
             [
              0.4444444444444444,
              "#bd3786"
             ],
             [
              0.5555555555555556,
              "#d8576b"
             ],
             [
              0.6666666666666666,
              "#ed7953"
             ],
             [
              0.7777777777777778,
              "#fb9f3a"
             ],
             [
              0.8888888888888888,
              "#fdca26"
             ],
             [
              1,
              "#f0f921"
             ]
            ],
            "type": "heatmapgl"
           }
          ],
          "histogram": [
           {
            "marker": {
             "pattern": {
              "fillmode": "overlay",
              "size": 10,
              "solidity": 0.2
             }
            },
            "type": "histogram"
           }
          ],
          "histogram2d": [
           {
            "colorbar": {
             "outlinewidth": 0,
             "ticks": ""
            },
            "colorscale": [
             [
              0,
              "#0d0887"
             ],
             [
              0.1111111111111111,
              "#46039f"
             ],
             [
              0.2222222222222222,
              "#7201a8"
             ],
             [
              0.3333333333333333,
              "#9c179e"
             ],
             [
              0.4444444444444444,
              "#bd3786"
             ],
             [
              0.5555555555555556,
              "#d8576b"
             ],
             [
              0.6666666666666666,
              "#ed7953"
             ],
             [
              0.7777777777777778,
              "#fb9f3a"
             ],
             [
              0.8888888888888888,
              "#fdca26"
             ],
             [
              1,
              "#f0f921"
             ]
            ],
            "type": "histogram2d"
           }
          ],
          "histogram2dcontour": [
           {
            "colorbar": {
             "outlinewidth": 0,
             "ticks": ""
            },
            "colorscale": [
             [
              0,
              "#0d0887"
             ],
             [
              0.1111111111111111,
              "#46039f"
             ],
             [
              0.2222222222222222,
              "#7201a8"
             ],
             [
              0.3333333333333333,
              "#9c179e"
             ],
             [
              0.4444444444444444,
              "#bd3786"
             ],
             [
              0.5555555555555556,
              "#d8576b"
             ],
             [
              0.6666666666666666,
              "#ed7953"
             ],
             [
              0.7777777777777778,
              "#fb9f3a"
             ],
             [
              0.8888888888888888,
              "#fdca26"
             ],
             [
              1,
              "#f0f921"
             ]
            ],
            "type": "histogram2dcontour"
           }
          ],
          "mesh3d": [
           {
            "colorbar": {
             "outlinewidth": 0,
             "ticks": ""
            },
            "type": "mesh3d"
           }
          ],
          "parcoords": [
           {
            "line": {
             "colorbar": {
              "outlinewidth": 0,
              "ticks": ""
             }
            },
            "type": "parcoords"
           }
          ],
          "pie": [
           {
            "automargin": true,
            "type": "pie"
           }
          ],
          "scatter": [
           {
            "fillpattern": {
             "fillmode": "overlay",
             "size": 10,
             "solidity": 0.2
            },
            "type": "scatter"
           }
          ],
          "scatter3d": [
           {
            "line": {
             "colorbar": {
              "outlinewidth": 0,
              "ticks": ""
             }
            },
            "marker": {
             "colorbar": {
              "outlinewidth": 0,
              "ticks": ""
             }
            },
            "type": "scatter3d"
           }
          ],
          "scattercarpet": [
           {
            "marker": {
             "colorbar": {
              "outlinewidth": 0,
              "ticks": ""
             }
            },
            "type": "scattercarpet"
           }
          ],
          "scattergeo": [
           {
            "marker": {
             "colorbar": {
              "outlinewidth": 0,
              "ticks": ""
             }
            },
            "type": "scattergeo"
           }
          ],
          "scattergl": [
           {
            "marker": {
             "colorbar": {
              "outlinewidth": 0,
              "ticks": ""
             }
            },
            "type": "scattergl"
           }
          ],
          "scattermapbox": [
           {
            "marker": {
             "colorbar": {
              "outlinewidth": 0,
              "ticks": ""
             }
            },
            "type": "scattermapbox"
           }
          ],
          "scatterpolar": [
           {
            "marker": {
             "colorbar": {
              "outlinewidth": 0,
              "ticks": ""
             }
            },
            "type": "scatterpolar"
           }
          ],
          "scatterpolargl": [
           {
            "marker": {
             "colorbar": {
              "outlinewidth": 0,
              "ticks": ""
             }
            },
            "type": "scatterpolargl"
           }
          ],
          "scatterternary": [
           {
            "marker": {
             "colorbar": {
              "outlinewidth": 0,
              "ticks": ""
             }
            },
            "type": "scatterternary"
           }
          ],
          "surface": [
           {
            "colorbar": {
             "outlinewidth": 0,
             "ticks": ""
            },
            "colorscale": [
             [
              0,
              "#0d0887"
             ],
             [
              0.1111111111111111,
              "#46039f"
             ],
             [
              0.2222222222222222,
              "#7201a8"
             ],
             [
              0.3333333333333333,
              "#9c179e"
             ],
             [
              0.4444444444444444,
              "#bd3786"
             ],
             [
              0.5555555555555556,
              "#d8576b"
             ],
             [
              0.6666666666666666,
              "#ed7953"
             ],
             [
              0.7777777777777778,
              "#fb9f3a"
             ],
             [
              0.8888888888888888,
              "#fdca26"
             ],
             [
              1,
              "#f0f921"
             ]
            ],
            "type": "surface"
           }
          ],
          "table": [
           {
            "cells": {
             "fill": {
              "color": "#EBF0F8"
             },
             "line": {
              "color": "white"
             }
            },
            "header": {
             "fill": {
              "color": "#C8D4E3"
             },
             "line": {
              "color": "white"
             }
            },
            "type": "table"
           }
          ]
         },
         "layout": {
          "annotationdefaults": {
           "arrowcolor": "#2a3f5f",
           "arrowhead": 0,
           "arrowwidth": 1
          },
          "autotypenumbers": "strict",
          "coloraxis": {
           "colorbar": {
            "outlinewidth": 0,
            "ticks": ""
           }
          },
          "colorscale": {
           "diverging": [
            [
             0,
             "#8e0152"
            ],
            [
             0.1,
             "#c51b7d"
            ],
            [
             0.2,
             "#de77ae"
            ],
            [
             0.3,
             "#f1b6da"
            ],
            [
             0.4,
             "#fde0ef"
            ],
            [
             0.5,
             "#f7f7f7"
            ],
            [
             0.6,
             "#e6f5d0"
            ],
            [
             0.7,
             "#b8e186"
            ],
            [
             0.8,
             "#7fbc41"
            ],
            [
             0.9,
             "#4d9221"
            ],
            [
             1,
             "#276419"
            ]
           ],
           "sequential": [
            [
             0,
             "#0d0887"
            ],
            [
             0.1111111111111111,
             "#46039f"
            ],
            [
             0.2222222222222222,
             "#7201a8"
            ],
            [
             0.3333333333333333,
             "#9c179e"
            ],
            [
             0.4444444444444444,
             "#bd3786"
            ],
            [
             0.5555555555555556,
             "#d8576b"
            ],
            [
             0.6666666666666666,
             "#ed7953"
            ],
            [
             0.7777777777777778,
             "#fb9f3a"
            ],
            [
             0.8888888888888888,
             "#fdca26"
            ],
            [
             1,
             "#f0f921"
            ]
           ],
           "sequentialminus": [
            [
             0,
             "#0d0887"
            ],
            [
             0.1111111111111111,
             "#46039f"
            ],
            [
             0.2222222222222222,
             "#7201a8"
            ],
            [
             0.3333333333333333,
             "#9c179e"
            ],
            [
             0.4444444444444444,
             "#bd3786"
            ],
            [
             0.5555555555555556,
             "#d8576b"
            ],
            [
             0.6666666666666666,
             "#ed7953"
            ],
            [
             0.7777777777777778,
             "#fb9f3a"
            ],
            [
             0.8888888888888888,
             "#fdca26"
            ],
            [
             1,
             "#f0f921"
            ]
           ]
          },
          "colorway": [
           "#636efa",
           "#EF553B",
           "#00cc96",
           "#ab63fa",
           "#FFA15A",
           "#19d3f3",
           "#FF6692",
           "#B6E880",
           "#FF97FF",
           "#FECB52"
          ],
          "font": {
           "color": "#2a3f5f"
          },
          "geo": {
           "bgcolor": "white",
           "lakecolor": "white",
           "landcolor": "#E5ECF6",
           "showlakes": true,
           "showland": true,
           "subunitcolor": "white"
          },
          "hoverlabel": {
           "align": "left"
          },
          "hovermode": "closest",
          "mapbox": {
           "style": "light"
          },
          "paper_bgcolor": "white",
          "plot_bgcolor": "#E5ECF6",
          "polar": {
           "angularaxis": {
            "gridcolor": "white",
            "linecolor": "white",
            "ticks": ""
           },
           "bgcolor": "#E5ECF6",
           "radialaxis": {
            "gridcolor": "white",
            "linecolor": "white",
            "ticks": ""
           }
          },
          "scene": {
           "xaxis": {
            "backgroundcolor": "#E5ECF6",
            "gridcolor": "white",
            "gridwidth": 2,
            "linecolor": "white",
            "showbackground": true,
            "ticks": "",
            "zerolinecolor": "white"
           },
           "yaxis": {
            "backgroundcolor": "#E5ECF6",
            "gridcolor": "white",
            "gridwidth": 2,
            "linecolor": "white",
            "showbackground": true,
            "ticks": "",
            "zerolinecolor": "white"
           },
           "zaxis": {
            "backgroundcolor": "#E5ECF6",
            "gridcolor": "white",
            "gridwidth": 2,
            "linecolor": "white",
            "showbackground": true,
            "ticks": "",
            "zerolinecolor": "white"
           }
          },
          "shapedefaults": {
           "line": {
            "color": "#2a3f5f"
           }
          },
          "ternary": {
           "aaxis": {
            "gridcolor": "white",
            "linecolor": "white",
            "ticks": ""
           },
           "baxis": {
            "gridcolor": "white",
            "linecolor": "white",
            "ticks": ""
           },
           "bgcolor": "#E5ECF6",
           "caxis": {
            "gridcolor": "white",
            "linecolor": "white",
            "ticks": ""
           }
          },
          "title": {
           "x": 0.05
          },
          "xaxis": {
           "automargin": true,
           "gridcolor": "white",
           "linecolor": "white",
           "ticks": "",
           "title": {
            "standoff": 15
           },
           "zerolinecolor": "white",
           "zerolinewidth": 2
          },
          "yaxis": {
           "automargin": true,
           "gridcolor": "white",
           "linecolor": "white",
           "ticks": "",
           "title": {
            "standoff": 15
           },
           "zerolinecolor": "white",
           "zerolinewidth": 2
          }
         }
        },
        "title": {
         "text": "How Each Column Affects 'Claim over 1k'"
        },
        "xaxis": {
         "anchor": "y",
         "domain": [
          0,
          0.475
         ]
        },
        "xaxis10": {
         "anchor": "y10",
         "domain": [
          0.525,
          1
         ]
        },
        "xaxis11": {
         "anchor": "y11",
         "domain": [
          0,
          0.475
         ]
        },
        "xaxis12": {
         "anchor": "y12",
         "domain": [
          0.525,
          1
         ]
        },
        "xaxis13": {
         "anchor": "y13",
         "domain": [
          0,
          0.475
         ]
        },
        "xaxis14": {
         "anchor": "y14",
         "domain": [
          0.525,
          1
         ]
        },
        "xaxis15": {
         "anchor": "y15",
         "domain": [
          0,
          0.475
         ]
        },
        "xaxis16": {
         "anchor": "y16",
         "domain": [
          0.525,
          1
         ]
        },
        "xaxis17": {
         "anchor": "y17",
         "domain": [
          0,
          0.475
         ]
        },
        "xaxis18": {
         "anchor": "y18",
         "domain": [
          0.525,
          1
         ]
        },
        "xaxis19": {
         "anchor": "y19",
         "domain": [
          0,
          0.475
         ]
        },
        "xaxis2": {
         "anchor": "y2",
         "domain": [
          0.525,
          1
         ]
        },
        "xaxis20": {
         "anchor": "y20",
         "domain": [
          0.525,
          1
         ]
        },
        "xaxis3": {
         "anchor": "y3",
         "domain": [
          0,
          0.475
         ]
        },
        "xaxis4": {
         "anchor": "y4",
         "domain": [
          0.525,
          1
         ]
        },
        "xaxis5": {
         "anchor": "y5",
         "domain": [
          0,
          0.475
         ]
        },
        "xaxis6": {
         "anchor": "y6",
         "domain": [
          0.525,
          1
         ]
        },
        "xaxis7": {
         "anchor": "y7",
         "domain": [
          0,
          0.475
         ]
        },
        "xaxis8": {
         "anchor": "y8",
         "domain": [
          0.525,
          1
         ]
        },
        "xaxis9": {
         "anchor": "y9",
         "domain": [
          0,
          0.475
         ]
        },
        "yaxis": {
         "anchor": "x",
         "domain": [
          0.9089999999999999,
          0.9999999999999999
         ]
        },
        "yaxis10": {
         "anchor": "x10",
         "domain": [
          0.505,
          0.596
         ]
        },
        "yaxis11": {
         "anchor": "x11",
         "domain": [
          0.40399999999999997,
          0.495
         ]
        },
        "yaxis12": {
         "anchor": "x12",
         "domain": [
          0.40399999999999997,
          0.495
         ]
        },
        "yaxis13": {
         "anchor": "x13",
         "domain": [
          0.30300000000000005,
          0.394
         ]
        },
        "yaxis14": {
         "anchor": "x14",
         "domain": [
          0.30300000000000005,
          0.394
         ]
        },
        "yaxis15": {
         "anchor": "x15",
         "domain": [
          0.20199999999999999,
          0.293
         ]
        },
        "yaxis16": {
         "anchor": "x16",
         "domain": [
          0.20199999999999999,
          0.293
         ]
        },
        "yaxis17": {
         "anchor": "x17",
         "domain": [
          0.10099999999999999,
          0.192
         ]
        },
        "yaxis18": {
         "anchor": "x18",
         "domain": [
          0.10099999999999999,
          0.192
         ]
        },
        "yaxis19": {
         "anchor": "x19",
         "domain": [
          0,
          0.091
         ]
        },
        "yaxis2": {
         "anchor": "x2",
         "domain": [
          0.9089999999999999,
          0.9999999999999999
         ]
        },
        "yaxis20": {
         "anchor": "x20",
         "domain": [
          0,
          0.091
         ]
        },
        "yaxis3": {
         "anchor": "x3",
         "domain": [
          0.8079999999999999,
          0.8989999999999999
         ]
        },
        "yaxis4": {
         "anchor": "x4",
         "domain": [
          0.8079999999999999,
          0.8989999999999999
         ]
        },
        "yaxis5": {
         "anchor": "x5",
         "domain": [
          0.7070000000000001,
          0.798
         ]
        },
        "yaxis6": {
         "anchor": "x6",
         "domain": [
          0.7070000000000001,
          0.798
         ]
        },
        "yaxis7": {
         "anchor": "x7",
         "domain": [
          0.6060000000000001,
          0.6970000000000001
         ]
        },
        "yaxis8": {
         "anchor": "x8",
         "domain": [
          0.6060000000000001,
          0.6970000000000001
         ]
        },
        "yaxis9": {
         "anchor": "x9",
         "domain": [
          0.505,
          0.596
         ]
        }
       }
      },
      "text/html": [
       "<div>                            <div id=\"2c4d7088-ebf7-4df0-87f8-b4e76c9ef1c5\" class=\"plotly-graph-div\" style=\"height:3000px; width:100%;\"></div>            <script type=\"text/javascript\">                require([\"plotly\"], function(Plotly) {                    window.PLOTLYENV=window.PLOTLYENV || {};                                    if (document.getElementById(\"2c4d7088-ebf7-4df0-87f8-b4e76c9ef1c5\")) {                    Plotly.newPlot(                        \"2c4d7088-ebf7-4df0-87f8-b4e76c9ef1c5\",                        [{\"name\":\"0\",\"x\":[0,1],\"y\":[1667,774],\"type\":\"bar\",\"xaxis\":\"x\",\"yaxis\":\"y\"},{\"name\":\"1\",\"x\":[0,1],\"y\":[904,266],\"type\":\"bar\",\"xaxis\":\"x\",\"yaxis\":\"y\"},{\"name\":\"2\",\"x\":[0,1],\"y\":[429,196],\"type\":\"bar\",\"xaxis\":\"x\",\"yaxis\":\"y\"},{\"name\":\"3\",\"x\":[0,1],\"y\":[1391,488],\"type\":\"bar\",\"xaxis\":\"x\",\"yaxis\":\"y\"},{\"name\":\"4\",\"x\":[0,1],\"y\":[479,67],\"type\":\"bar\",\"xaxis\":\"x\",\"yaxis\":\"y\"},{\"name\":\"0\",\"x\":[0,1],\"y\":[4159,1662],\"type\":\"bar\",\"xaxis\":\"x2\",\"yaxis\":\"y2\"},{\"name\":\"1\",\"x\":[0,1],\"y\":[711,129],\"type\":\"bar\",\"xaxis\":\"x2\",\"yaxis\":\"y2\"},{\"name\":\"0\",\"x\":[0,1],\"y\":[3062,850],\"type\":\"bar\",\"xaxis\":\"x3\",\"yaxis\":\"y3\"},{\"name\":\"1\",\"x\":[0,1],\"y\":[1475,609],\"type\":\"bar\",\"xaxis\":\"x3\",\"yaxis\":\"y3\"},{\"name\":\"2\",\"x\":[0,1],\"y\":[333,332],\"type\":\"bar\",\"xaxis\":\"x3\",\"yaxis\":\"y3\"},{\"name\":\"0\",\"x\":[0,1],\"y\":[1341,793],\"type\":\"bar\",\"xaxis\":\"x4\",\"yaxis\":\"y4\"},{\"name\":\"1\",\"x\":[0,1],\"y\":[1481,499],\"type\":\"bar\",\"xaxis\":\"x4\",\"yaxis\":\"y4\"},{\"name\":\"2\",\"x\":[0,1],\"y\":[1428,446],\"type\":\"bar\",\"xaxis\":\"x4\",\"yaxis\":\"y4\"},{\"name\":\"3\",\"x\":[0,1],\"y\":[425,48],\"type\":\"bar\",\"xaxis\":\"x4\",\"yaxis\":\"y4\"},{\"name\":\"4\",\"x\":[0,1],\"y\":[195,5],\"type\":\"bar\",\"xaxis\":\"x4\",\"yaxis\":\"y4\"},{\"name\":\"0\",\"x\":[0,1],\"y\":[1073,1097],\"type\":\"bar\",\"xaxis\":\"x5\",\"yaxis\":\"y5\"},{\"name\":\"1\",\"x\":[0,1],\"y\":[3212,555],\"type\":\"bar\",\"xaxis\":\"x5\",\"yaxis\":\"y5\"},{\"name\":\"2\",\"x\":[0,1],\"y\":[217,48],\"type\":\"bar\",\"xaxis\":\"x5\",\"yaxis\":\"y5\"},{\"name\":\"3\",\"x\":[0,1],\"y\":[155,43],\"type\":\"bar\",\"xaxis\":\"x5\",\"yaxis\":\"y5\"},{\"name\":\"4\",\"x\":[0,1],\"y\":[213,48],\"type\":\"bar\",\"xaxis\":\"x5\",\"yaxis\":\"y5\"},{\"name\":\"0\",\"x\":[0,1],\"y\":[2535,1006],\"type\":\"bar\",\"xaxis\":\"x6\",\"yaxis\":\"y6\"},{\"name\":\"1\",\"x\":[0,1],\"y\":[2335,785],\"type\":\"bar\",\"xaxis\":\"x6\",\"yaxis\":\"y6\"},{\"name\":\"0\",\"x\":[0,1],\"y\":[1150,1090],\"type\":\"bar\",\"xaxis\":\"x7\",\"yaxis\":\"y7\"},{\"name\":\"1\",\"x\":[0,1],\"y\":[2955,622],\"type\":\"bar\",\"xaxis\":\"x7\",\"yaxis\":\"y7\"},{\"name\":\"2\",\"x\":[0,1],\"y\":[765,79],\"type\":\"bar\",\"xaxis\":\"x7\",\"yaxis\":\"y7\"},{\"name\":\"0\",\"x\":[0,1],\"y\":[3864,1515],\"type\":\"bar\",\"xaxis\":\"x8\",\"yaxis\":\"y8\"},{\"name\":\"1\",\"x\":[0,1],\"y\":[553,141],\"type\":\"bar\",\"xaxis\":\"x8\",\"yaxis\":\"y8\"},{\"name\":\"2\",\"x\":[0,1],\"y\":[198,56],\"type\":\"bar\",\"xaxis\":\"x8\",\"yaxis\":\"y8\"},{\"name\":\"3\",\"x\":[0,1],\"y\":[150,38],\"type\":\"bar\",\"xaxis\":\"x8\",\"yaxis\":\"y8\"},{\"name\":\"4\",\"x\":[0,1],\"y\":[73,33],\"type\":\"bar\",\"xaxis\":\"x8\",\"yaxis\":\"y8\"},{\"name\":\"5\",\"x\":[0,1],\"y\":[32,8],\"type\":\"bar\",\"xaxis\":\"x8\",\"yaxis\":\"y8\"},{\"name\":\"1\",\"x\":[0,1],\"y\":[1697,704],\"type\":\"bar\",\"xaxis\":\"x9\",\"yaxis\":\"y9\"},{\"name\":\"2\",\"x\":[0,1],\"y\":[1231,430],\"type\":\"bar\",\"xaxis\":\"x9\",\"yaxis\":\"y9\"},{\"name\":\"3\",\"x\":[0,1],\"y\":[642,190],\"type\":\"bar\",\"xaxis\":\"x9\",\"yaxis\":\"y9\"},{\"name\":\"4\",\"x\":[0,1],\"y\":[215,78],\"type\":\"bar\",\"xaxis\":\"x9\",\"yaxis\":\"y9\"},{\"name\":\"5\",\"x\":[0,1],\"y\":[220,54],\"type\":\"bar\",\"xaxis\":\"x9\",\"yaxis\":\"y9\"},{\"name\":\"6\",\"x\":[0,1],\"y\":[193,73],\"type\":\"bar\",\"xaxis\":\"x9\",\"yaxis\":\"y9\"},{\"name\":\"7\",\"x\":[0,1],\"y\":[226,117],\"type\":\"bar\",\"xaxis\":\"x9\",\"yaxis\":\"y9\"},{\"name\":\"8\",\"x\":[0,1],\"y\":[208,112],\"type\":\"bar\",\"xaxis\":\"x9\",\"yaxis\":\"y9\"},{\"name\":\"9\",\"x\":[0,1],\"y\":[238,33],\"type\":\"bar\",\"xaxis\":\"x9\",\"yaxis\":\"y9\"},{\"name\":\"0\",\"x\":[0,1],\"y\":[3642,1407],\"type\":\"bar\",\"xaxis\":\"x10\",\"yaxis\":\"y10\"},{\"name\":\"1\",\"x\":[0,1],\"y\":[1037,339],\"type\":\"bar\",\"xaxis\":\"x10\",\"yaxis\":\"y10\"},{\"name\":\"2\",\"x\":[0,1],\"y\":[191,45],\"type\":\"bar\",\"xaxis\":\"x10\",\"yaxis\":\"y10\"},{\"name\":\"0\",\"x\":[0,1],\"y\":[663,291],\"type\":\"bar\",\"xaxis\":\"x11\",\"yaxis\":\"y11\"},{\"name\":\"1\",\"x\":[0,1],\"y\":[1121,517],\"type\":\"bar\",\"xaxis\":\"x11\",\"yaxis\":\"y11\"},{\"name\":\"2\",\"x\":[0,1],\"y\":[1858,571],\"type\":\"bar\",\"xaxis\":\"x11\",\"yaxis\":\"y11\"},{\"name\":\"3\",\"x\":[0,1],\"y\":[198,83],\"type\":\"bar\",\"xaxis\":\"x11\",\"yaxis\":\"y11\"},{\"name\":\"4\",\"x\":[0,1],\"y\":[323,116],\"type\":\"bar\",\"xaxis\":\"x11\",\"yaxis\":\"y11\"},{\"name\":\"5\",\"x\":[0,1],\"y\":[516,158],\"type\":\"bar\",\"xaxis\":\"x11\",\"yaxis\":\"y11\"},{\"name\":\"6\",\"x\":[0,1],\"y\":[33,17],\"type\":\"bar\",\"xaxis\":\"x11\",\"yaxis\":\"y11\"},{\"name\":\"7\",\"x\":[0,1],\"y\":[86,18],\"type\":\"bar\",\"xaxis\":\"x11\",\"yaxis\":\"y11\"},{\"name\":\"8\",\"x\":[0,1],\"y\":[72,20],\"type\":\"bar\",\"xaxis\":\"x11\",\"yaxis\":\"y11\"},{\"name\":\"1\",\"x\":[0,1],\"y\":[1951,1027],\"type\":\"bar\",\"xaxis\":\"x12\",\"yaxis\":\"y12\"},{\"name\":\"2\",\"x\":[0,1],\"y\":[1584,423],\"type\":\"bar\",\"xaxis\":\"x12\",\"yaxis\":\"y12\"},{\"name\":\"3\",\"x\":[0,1],\"y\":[776,253],\"type\":\"bar\",\"xaxis\":\"x12\",\"yaxis\":\"y12\"},{\"name\":\"4\",\"x\":[0,1],\"y\":[559,88],\"type\":\"bar\",\"xaxis\":\"x12\",\"yaxis\":\"y12\"},{\"name\":\"0\",\"x\":[0,1],\"y\":[721,263],\"type\":\"bar\",\"xaxis\":\"x13\",\"yaxis\":\"y13\"},{\"name\":\"1\",\"x\":[0,1],\"y\":[1347,651],\"type\":\"bar\",\"xaxis\":\"x13\",\"yaxis\":\"y13\"},{\"name\":\"2\",\"x\":[0,1],\"y\":[1866,690],\"type\":\"bar\",\"xaxis\":\"x13\",\"yaxis\":\"y13\"},{\"name\":\"3\",\"x\":[0,1],\"y\":[936,187],\"type\":\"bar\",\"xaxis\":\"x13\",\"yaxis\":\"y13\"},{\"name\":\"0\",\"x\":[0,1],\"y\":[912,533],\"type\":\"bar\",\"xaxis\":\"x14\",\"yaxis\":\"y14\"},{\"name\":\"1\",\"x\":[0,1],\"y\":[3460,1179],\"type\":\"bar\",\"xaxis\":\"x14\",\"yaxis\":\"y14\"},{\"name\":\"2\",\"x\":[0,1],\"y\":[498,79],\"type\":\"bar\",\"xaxis\":\"x14\",\"yaxis\":\"y14\"},{\"name\":\"0\",\"x\":[0,1],\"y\":[3905,1608],\"type\":\"bar\",\"xaxis\":\"x15\",\"yaxis\":\"y15\"},{\"name\":\"1\",\"x\":[0,1],\"y\":[965,183],\"type\":\"bar\",\"xaxis\":\"x15\",\"yaxis\":\"y15\"},{\"name\":\"0\",\"x\":[0,1],\"y\":[1568,749],\"type\":\"bar\",\"xaxis\":\"x16\",\"yaxis\":\"y16\"},{\"name\":\"1\",\"x\":[0,1],\"y\":[1365,477],\"type\":\"bar\",\"xaxis\":\"x16\",\"yaxis\":\"y16\"},{\"name\":\"2\",\"x\":[0,1],\"y\":[1094,379],\"type\":\"bar\",\"xaxis\":\"x16\",\"yaxis\":\"y16\"},{\"name\":\"3\",\"x\":[0,1],\"y\":[843,186],\"type\":\"bar\",\"xaxis\":\"x16\",\"yaxis\":\"y16\"},{\"name\":\"0\",\"x\":[0,1],\"y\":[1313,564],\"type\":\"bar\",\"xaxis\":\"x17\",\"yaxis\":\"y17\"},{\"name\":\"1\",\"x\":[0,1],\"y\":[1372,576],\"type\":\"bar\",\"xaxis\":\"x17\",\"yaxis\":\"y17\"},{\"name\":\"2\",\"x\":[0,1],\"y\":[1378,481],\"type\":\"bar\",\"xaxis\":\"x17\",\"yaxis\":\"y17\"},{\"name\":\"3\",\"x\":[0,1],\"y\":[807,170],\"type\":\"bar\",\"xaxis\":\"x17\",\"yaxis\":\"y17\"},{\"name\":\"0\",\"x\":[0,1],\"y\":[178,14],\"type\":\"bar\",\"xaxis\":\"x18\",\"yaxis\":\"y18\"},{\"name\":\"1\",\"x\":[0,1],\"y\":[186,5],\"type\":\"bar\",\"xaxis\":\"x18\",\"yaxis\":\"y18\"},{\"name\":\"2\",\"x\":[0,1],\"y\":[176,5],\"type\":\"bar\",\"xaxis\":\"x18\",\"yaxis\":\"y18\"},{\"name\":\"3\",\"x\":[0,1],\"y\":[182,1],\"type\":\"bar\",\"xaxis\":\"x18\",\"yaxis\":\"y18\"},{\"name\":\"4\",\"x\":[0,1],\"y\":[178,13],\"type\":\"bar\",\"xaxis\":\"x18\",\"yaxis\":\"y18\"},{\"name\":\"5\",\"x\":[0,1],\"y\":[171,40],\"type\":\"bar\",\"xaxis\":\"x18\",\"yaxis\":\"y18\"},{\"name\":\"6\",\"x\":[0,1],\"y\":[158,84],\"type\":\"bar\",\"xaxis\":\"x18\",\"yaxis\":\"y18\"},{\"name\":\"7\",\"x\":[0,1],\"y\":[152,101],\"type\":\"bar\",\"xaxis\":\"x18\",\"yaxis\":\"y18\"},{\"name\":\"8\",\"x\":[0,1],\"y\":[171,43],\"type\":\"bar\",\"xaxis\":\"x18\",\"yaxis\":\"y18\"},{\"name\":\"9\",\"x\":[0,1],\"y\":[162,44],\"type\":\"bar\",\"xaxis\":\"x18\",\"yaxis\":\"y18\"},{\"name\":\"10\",\"x\":[0,1],\"y\":[175,25],\"type\":\"bar\",\"xaxis\":\"x18\",\"yaxis\":\"y18\"},{\"name\":\"11\",\"x\":[0,1],\"y\":[176,16],\"type\":\"bar\",\"xaxis\":\"x18\",\"yaxis\":\"y18\"},{\"name\":\"12\",\"x\":[0,1],\"y\":[179,15],\"type\":\"bar\",\"xaxis\":\"x18\",\"yaxis\":\"y18\"},{\"name\":\"13\",\"x\":[0,1],\"y\":[175,11],\"type\":\"bar\",\"xaxis\":\"x18\",\"yaxis\":\"y18\"},{\"name\":\"14\",\"x\":[0,1],\"y\":[170,46],\"type\":\"bar\",\"xaxis\":\"x18\",\"yaxis\":\"y18\"},{\"name\":\"15\",\"x\":[0,1],\"y\":[168,50],\"type\":\"bar\",\"xaxis\":\"x18\",\"yaxis\":\"y18\"},{\"name\":\"16\",\"x\":[0,1],\"y\":[161,76],\"type\":\"bar\",\"xaxis\":\"x18\",\"yaxis\":\"y18\"},{\"name\":\"17\",\"x\":[0,1],\"y\":[157,81],\"type\":\"bar\",\"xaxis\":\"x18\",\"yaxis\":\"y18\"},{\"name\":\"18\",\"x\":[0,1],\"y\":[149,111],\"type\":\"bar\",\"xaxis\":\"x18\",\"yaxis\":\"y18\"},{\"name\":\"19\",\"x\":[0,1],\"y\":[160,67],\"type\":\"bar\",\"xaxis\":\"x18\",\"yaxis\":\"y18\"},{\"name\":\"20\",\"x\":[0,1],\"y\":[167,60],\"type\":\"bar\",\"xaxis\":\"x18\",\"yaxis\":\"y18\"},{\"name\":\"21\",\"x\":[0,1],\"y\":[157,67],\"type\":\"bar\",\"xaxis\":\"x18\",\"yaxis\":\"y18\"},{\"name\":\"22\",\"x\":[0,1],\"y\":[159,69],\"type\":\"bar\",\"xaxis\":\"x18\",\"yaxis\":\"y18\"},{\"name\":\"23\",\"x\":[0,1],\"y\":[142,112],\"type\":\"bar\",\"xaxis\":\"x18\",\"yaxis\":\"y18\"},{\"name\":\"24\",\"x\":[0,1],\"y\":[158,64],\"type\":\"bar\",\"xaxis\":\"x18\",\"yaxis\":\"y18\"},{\"name\":\"25\",\"x\":[0,1],\"y\":[137,129],\"type\":\"bar\",\"xaxis\":\"x18\",\"yaxis\":\"y18\"},{\"name\":\"26\",\"x\":[0,1],\"y\":[141,137],\"type\":\"bar\",\"xaxis\":\"x18\",\"yaxis\":\"y18\"},{\"name\":\"27\",\"x\":[0,1],\"y\":[136,106],\"type\":\"bar\",\"xaxis\":\"x18\",\"yaxis\":\"y18\"},{\"name\":\"28\",\"x\":[0,1],\"y\":[152,97],\"type\":\"bar\",\"xaxis\":\"x18\",\"yaxis\":\"y18\"},{\"name\":\"29\",\"x\":[0,1],\"y\":[137,102],\"type\":\"bar\",\"xaxis\":\"x18\",\"yaxis\":\"y18\"},{\"name\":\"0\",\"x\":[0,1],\"y\":[1776,1293],\"type\":\"bar\",\"xaxis\":\"x19\",\"yaxis\":\"y19\"},{\"name\":\"1\",\"x\":[0,1],\"y\":[1016,227],\"type\":\"bar\",\"xaxis\":\"x19\",\"yaxis\":\"y19\"},{\"name\":\"2\",\"x\":[0,1],\"y\":[1019,211],\"type\":\"bar\",\"xaxis\":\"x19\",\"yaxis\":\"y19\"},{\"name\":\"3\",\"x\":[0,1],\"y\":[1059,60],\"type\":\"bar\",\"xaxis\":\"x19\",\"yaxis\":\"y19\"},{\"name\":\"0\",\"x\":[0,1],\"y\":[1360,227],\"type\":\"bar\",\"xaxis\":\"x20\",\"yaxis\":\"y20\"},{\"name\":\"1\",\"x\":[0,1],\"y\":[1298,402],\"type\":\"bar\",\"xaxis\":\"x20\",\"yaxis\":\"y20\"},{\"name\":\"2\",\"x\":[0,1],\"y\":[1173,495],\"type\":\"bar\",\"xaxis\":\"x20\",\"yaxis\":\"y20\"},{\"name\":\"3\",\"x\":[0,1],\"y\":[1039,667],\"type\":\"bar\",\"xaxis\":\"x20\",\"yaxis\":\"y20\"}],                        {\"template\":{\"data\":{\"histogram2dcontour\":[{\"type\":\"histogram2dcontour\",\"colorbar\":{\"outlinewidth\":0,\"ticks\":\"\"},\"colorscale\":[[0.0,\"#0d0887\"],[0.1111111111111111,\"#46039f\"],[0.2222222222222222,\"#7201a8\"],[0.3333333333333333,\"#9c179e\"],[0.4444444444444444,\"#bd3786\"],[0.5555555555555556,\"#d8576b\"],[0.6666666666666666,\"#ed7953\"],[0.7777777777777778,\"#fb9f3a\"],[0.8888888888888888,\"#fdca26\"],[1.0,\"#f0f921\"]]}],\"choropleth\":[{\"type\":\"choropleth\",\"colorbar\":{\"outlinewidth\":0,\"ticks\":\"\"}}],\"histogram2d\":[{\"type\":\"histogram2d\",\"colorbar\":{\"outlinewidth\":0,\"ticks\":\"\"},\"colorscale\":[[0.0,\"#0d0887\"],[0.1111111111111111,\"#46039f\"],[0.2222222222222222,\"#7201a8\"],[0.3333333333333333,\"#9c179e\"],[0.4444444444444444,\"#bd3786\"],[0.5555555555555556,\"#d8576b\"],[0.6666666666666666,\"#ed7953\"],[0.7777777777777778,\"#fb9f3a\"],[0.8888888888888888,\"#fdca26\"],[1.0,\"#f0f921\"]]}],\"heatmap\":[{\"type\":\"heatmap\",\"colorbar\":{\"outlinewidth\":0,\"ticks\":\"\"},\"colorscale\":[[0.0,\"#0d0887\"],[0.1111111111111111,\"#46039f\"],[0.2222222222222222,\"#7201a8\"],[0.3333333333333333,\"#9c179e\"],[0.4444444444444444,\"#bd3786\"],[0.5555555555555556,\"#d8576b\"],[0.6666666666666666,\"#ed7953\"],[0.7777777777777778,\"#fb9f3a\"],[0.8888888888888888,\"#fdca26\"],[1.0,\"#f0f921\"]]}],\"heatmapgl\":[{\"type\":\"heatmapgl\",\"colorbar\":{\"outlinewidth\":0,\"ticks\":\"\"},\"colorscale\":[[0.0,\"#0d0887\"],[0.1111111111111111,\"#46039f\"],[0.2222222222222222,\"#7201a8\"],[0.3333333333333333,\"#9c179e\"],[0.4444444444444444,\"#bd3786\"],[0.5555555555555556,\"#d8576b\"],[0.6666666666666666,\"#ed7953\"],[0.7777777777777778,\"#fb9f3a\"],[0.8888888888888888,\"#fdca26\"],[1.0,\"#f0f921\"]]}],\"contourcarpet\":[{\"type\":\"contourcarpet\",\"colorbar\":{\"outlinewidth\":0,\"ticks\":\"\"}}],\"contour\":[{\"type\":\"contour\",\"colorbar\":{\"outlinewidth\":0,\"ticks\":\"\"},\"colorscale\":[[0.0,\"#0d0887\"],[0.1111111111111111,\"#46039f\"],[0.2222222222222222,\"#7201a8\"],[0.3333333333333333,\"#9c179e\"],[0.4444444444444444,\"#bd3786\"],[0.5555555555555556,\"#d8576b\"],[0.6666666666666666,\"#ed7953\"],[0.7777777777777778,\"#fb9f3a\"],[0.8888888888888888,\"#fdca26\"],[1.0,\"#f0f921\"]]}],\"surface\":[{\"type\":\"surface\",\"colorbar\":{\"outlinewidth\":0,\"ticks\":\"\"},\"colorscale\":[[0.0,\"#0d0887\"],[0.1111111111111111,\"#46039f\"],[0.2222222222222222,\"#7201a8\"],[0.3333333333333333,\"#9c179e\"],[0.4444444444444444,\"#bd3786\"],[0.5555555555555556,\"#d8576b\"],[0.6666666666666666,\"#ed7953\"],[0.7777777777777778,\"#fb9f3a\"],[0.8888888888888888,\"#fdca26\"],[1.0,\"#f0f921\"]]}],\"mesh3d\":[{\"type\":\"mesh3d\",\"colorbar\":{\"outlinewidth\":0,\"ticks\":\"\"}}],\"scatter\":[{\"fillpattern\":{\"fillmode\":\"overlay\",\"size\":10,\"solidity\":0.2},\"type\":\"scatter\"}],\"parcoords\":[{\"type\":\"parcoords\",\"line\":{\"colorbar\":{\"outlinewidth\":0,\"ticks\":\"\"}}}],\"scatterpolargl\":[{\"type\":\"scatterpolargl\",\"marker\":{\"colorbar\":{\"outlinewidth\":0,\"ticks\":\"\"}}}],\"bar\":[{\"error_x\":{\"color\":\"#2a3f5f\"},\"error_y\":{\"color\":\"#2a3f5f\"},\"marker\":{\"line\":{\"color\":\"#E5ECF6\",\"width\":0.5},\"pattern\":{\"fillmode\":\"overlay\",\"size\":10,\"solidity\":0.2}},\"type\":\"bar\"}],\"scattergeo\":[{\"type\":\"scattergeo\",\"marker\":{\"colorbar\":{\"outlinewidth\":0,\"ticks\":\"\"}}}],\"scatterpolar\":[{\"type\":\"scatterpolar\",\"marker\":{\"colorbar\":{\"outlinewidth\":0,\"ticks\":\"\"}}}],\"histogram\":[{\"marker\":{\"pattern\":{\"fillmode\":\"overlay\",\"size\":10,\"solidity\":0.2}},\"type\":\"histogram\"}],\"scattergl\":[{\"type\":\"scattergl\",\"marker\":{\"colorbar\":{\"outlinewidth\":0,\"ticks\":\"\"}}}],\"scatter3d\":[{\"type\":\"scatter3d\",\"line\":{\"colorbar\":{\"outlinewidth\":0,\"ticks\":\"\"}},\"marker\":{\"colorbar\":{\"outlinewidth\":0,\"ticks\":\"\"}}}],\"scattermapbox\":[{\"type\":\"scattermapbox\",\"marker\":{\"colorbar\":{\"outlinewidth\":0,\"ticks\":\"\"}}}],\"scatterternary\":[{\"type\":\"scatterternary\",\"marker\":{\"colorbar\":{\"outlinewidth\":0,\"ticks\":\"\"}}}],\"scattercarpet\":[{\"type\":\"scattercarpet\",\"marker\":{\"colorbar\":{\"outlinewidth\":0,\"ticks\":\"\"}}}],\"carpet\":[{\"aaxis\":{\"endlinecolor\":\"#2a3f5f\",\"gridcolor\":\"white\",\"linecolor\":\"white\",\"minorgridcolor\":\"white\",\"startlinecolor\":\"#2a3f5f\"},\"baxis\":{\"endlinecolor\":\"#2a3f5f\",\"gridcolor\":\"white\",\"linecolor\":\"white\",\"minorgridcolor\":\"white\",\"startlinecolor\":\"#2a3f5f\"},\"type\":\"carpet\"}],\"table\":[{\"cells\":{\"fill\":{\"color\":\"#EBF0F8\"},\"line\":{\"color\":\"white\"}},\"header\":{\"fill\":{\"color\":\"#C8D4E3\"},\"line\":{\"color\":\"white\"}},\"type\":\"table\"}],\"barpolar\":[{\"marker\":{\"line\":{\"color\":\"#E5ECF6\",\"width\":0.5},\"pattern\":{\"fillmode\":\"overlay\",\"size\":10,\"solidity\":0.2}},\"type\":\"barpolar\"}],\"pie\":[{\"automargin\":true,\"type\":\"pie\"}]},\"layout\":{\"autotypenumbers\":\"strict\",\"colorway\":[\"#636efa\",\"#EF553B\",\"#00cc96\",\"#ab63fa\",\"#FFA15A\",\"#19d3f3\",\"#FF6692\",\"#B6E880\",\"#FF97FF\",\"#FECB52\"],\"font\":{\"color\":\"#2a3f5f\"},\"hovermode\":\"closest\",\"hoverlabel\":{\"align\":\"left\"},\"paper_bgcolor\":\"white\",\"plot_bgcolor\":\"#E5ECF6\",\"polar\":{\"bgcolor\":\"#E5ECF6\",\"angularaxis\":{\"gridcolor\":\"white\",\"linecolor\":\"white\",\"ticks\":\"\"},\"radialaxis\":{\"gridcolor\":\"white\",\"linecolor\":\"white\",\"ticks\":\"\"}},\"ternary\":{\"bgcolor\":\"#E5ECF6\",\"aaxis\":{\"gridcolor\":\"white\",\"linecolor\":\"white\",\"ticks\":\"\"},\"baxis\":{\"gridcolor\":\"white\",\"linecolor\":\"white\",\"ticks\":\"\"},\"caxis\":{\"gridcolor\":\"white\",\"linecolor\":\"white\",\"ticks\":\"\"}},\"coloraxis\":{\"colorbar\":{\"outlinewidth\":0,\"ticks\":\"\"}},\"colorscale\":{\"sequential\":[[0.0,\"#0d0887\"],[0.1111111111111111,\"#46039f\"],[0.2222222222222222,\"#7201a8\"],[0.3333333333333333,\"#9c179e\"],[0.4444444444444444,\"#bd3786\"],[0.5555555555555556,\"#d8576b\"],[0.6666666666666666,\"#ed7953\"],[0.7777777777777778,\"#fb9f3a\"],[0.8888888888888888,\"#fdca26\"],[1.0,\"#f0f921\"]],\"sequentialminus\":[[0.0,\"#0d0887\"],[0.1111111111111111,\"#46039f\"],[0.2222222222222222,\"#7201a8\"],[0.3333333333333333,\"#9c179e\"],[0.4444444444444444,\"#bd3786\"],[0.5555555555555556,\"#d8576b\"],[0.6666666666666666,\"#ed7953\"],[0.7777777777777778,\"#fb9f3a\"],[0.8888888888888888,\"#fdca26\"],[1.0,\"#f0f921\"]],\"diverging\":[[0,\"#8e0152\"],[0.1,\"#c51b7d\"],[0.2,\"#de77ae\"],[0.3,\"#f1b6da\"],[0.4,\"#fde0ef\"],[0.5,\"#f7f7f7\"],[0.6,\"#e6f5d0\"],[0.7,\"#b8e186\"],[0.8,\"#7fbc41\"],[0.9,\"#4d9221\"],[1,\"#276419\"]]},\"xaxis\":{\"gridcolor\":\"white\",\"linecolor\":\"white\",\"ticks\":\"\",\"title\":{\"standoff\":15},\"zerolinecolor\":\"white\",\"automargin\":true,\"zerolinewidth\":2},\"yaxis\":{\"gridcolor\":\"white\",\"linecolor\":\"white\",\"ticks\":\"\",\"title\":{\"standoff\":15},\"zerolinecolor\":\"white\",\"automargin\":true,\"zerolinewidth\":2},\"scene\":{\"xaxis\":{\"backgroundcolor\":\"#E5ECF6\",\"gridcolor\":\"white\",\"linecolor\":\"white\",\"showbackground\":true,\"ticks\":\"\",\"zerolinecolor\":\"white\",\"gridwidth\":2},\"yaxis\":{\"backgroundcolor\":\"#E5ECF6\",\"gridcolor\":\"white\",\"linecolor\":\"white\",\"showbackground\":true,\"ticks\":\"\",\"zerolinecolor\":\"white\",\"gridwidth\":2},\"zaxis\":{\"backgroundcolor\":\"#E5ECF6\",\"gridcolor\":\"white\",\"linecolor\":\"white\",\"showbackground\":true,\"ticks\":\"\",\"zerolinecolor\":\"white\",\"gridwidth\":2}},\"shapedefaults\":{\"line\":{\"color\":\"#2a3f5f\"}},\"annotationdefaults\":{\"arrowcolor\":\"#2a3f5f\",\"arrowhead\":0,\"arrowwidth\":1},\"geo\":{\"bgcolor\":\"white\",\"landcolor\":\"#E5ECF6\",\"subunitcolor\":\"white\",\"showland\":true,\"showlakes\":true,\"lakecolor\":\"white\"},\"title\":{\"x\":0.05},\"mapbox\":{\"style\":\"light\"}}},\"xaxis\":{\"anchor\":\"y\",\"domain\":[0.0,0.475]},\"yaxis\":{\"anchor\":\"x\",\"domain\":[0.9089999999999999,0.9999999999999999]},\"xaxis2\":{\"anchor\":\"y2\",\"domain\":[0.525,1.0]},\"yaxis2\":{\"anchor\":\"x2\",\"domain\":[0.9089999999999999,0.9999999999999999]},\"xaxis3\":{\"anchor\":\"y3\",\"domain\":[0.0,0.475]},\"yaxis3\":{\"anchor\":\"x3\",\"domain\":[0.8079999999999999,0.8989999999999999]},\"xaxis4\":{\"anchor\":\"y4\",\"domain\":[0.525,1.0]},\"yaxis4\":{\"anchor\":\"x4\",\"domain\":[0.8079999999999999,0.8989999999999999]},\"xaxis5\":{\"anchor\":\"y5\",\"domain\":[0.0,0.475]},\"yaxis5\":{\"anchor\":\"x5\",\"domain\":[0.7070000000000001,0.798]},\"xaxis6\":{\"anchor\":\"y6\",\"domain\":[0.525,1.0]},\"yaxis6\":{\"anchor\":\"x6\",\"domain\":[0.7070000000000001,0.798]},\"xaxis7\":{\"anchor\":\"y7\",\"domain\":[0.0,0.475]},\"yaxis7\":{\"anchor\":\"x7\",\"domain\":[0.6060000000000001,0.6970000000000001]},\"xaxis8\":{\"anchor\":\"y8\",\"domain\":[0.525,1.0]},\"yaxis8\":{\"anchor\":\"x8\",\"domain\":[0.6060000000000001,0.6970000000000001]},\"xaxis9\":{\"anchor\":\"y9\",\"domain\":[0.0,0.475]},\"yaxis9\":{\"anchor\":\"x9\",\"domain\":[0.505,0.596]},\"xaxis10\":{\"anchor\":\"y10\",\"domain\":[0.525,1.0]},\"yaxis10\":{\"anchor\":\"x10\",\"domain\":[0.505,0.596]},\"xaxis11\":{\"anchor\":\"y11\",\"domain\":[0.0,0.475]},\"yaxis11\":{\"anchor\":\"x11\",\"domain\":[0.40399999999999997,0.495]},\"xaxis12\":{\"anchor\":\"y12\",\"domain\":[0.525,1.0]},\"yaxis12\":{\"anchor\":\"x12\",\"domain\":[0.40399999999999997,0.495]},\"xaxis13\":{\"anchor\":\"y13\",\"domain\":[0.0,0.475]},\"yaxis13\":{\"anchor\":\"x13\",\"domain\":[0.30300000000000005,0.394]},\"xaxis14\":{\"anchor\":\"y14\",\"domain\":[0.525,1.0]},\"yaxis14\":{\"anchor\":\"x14\",\"domain\":[0.30300000000000005,0.394]},\"xaxis15\":{\"anchor\":\"y15\",\"domain\":[0.0,0.475]},\"yaxis15\":{\"anchor\":\"x15\",\"domain\":[0.20199999999999999,0.293]},\"xaxis16\":{\"anchor\":\"y16\",\"domain\":[0.525,1.0]},\"yaxis16\":{\"anchor\":\"x16\",\"domain\":[0.20199999999999999,0.293]},\"xaxis17\":{\"anchor\":\"y17\",\"domain\":[0.0,0.475]},\"yaxis17\":{\"anchor\":\"x17\",\"domain\":[0.10099999999999999,0.192]},\"xaxis18\":{\"anchor\":\"y18\",\"domain\":[0.525,1.0]},\"yaxis18\":{\"anchor\":\"x18\",\"domain\":[0.10099999999999999,0.192]},\"xaxis19\":{\"anchor\":\"y19\",\"domain\":[0.0,0.475]},\"yaxis19\":{\"anchor\":\"x19\",\"domain\":[0.0,0.091]},\"xaxis20\":{\"anchor\":\"y20\",\"domain\":[0.525,1.0]},\"yaxis20\":{\"anchor\":\"x20\",\"domain\":[0.0,0.091]},\"annotations\":[{\"font\":{\"size\":16},\"showarrow\":false,\"text\":\"State\",\"x\":0.2375,\"xanchor\":\"center\",\"xref\":\"paper\",\"y\":0.9999999999999999,\"yanchor\":\"bottom\",\"yref\":\"paper\"},{\"font\":{\"size\":16},\"showarrow\":false,\"text\":\"Response\",\"x\":0.7625,\"xanchor\":\"center\",\"xref\":\"paper\",\"y\":0.9999999999999999,\"yanchor\":\"bottom\",\"yref\":\"paper\"},{\"font\":{\"size\":16},\"showarrow\":false,\"text\":\"Coverage Index\",\"x\":0.2375,\"xanchor\":\"center\",\"xref\":\"paper\",\"y\":0.8989999999999999,\"yanchor\":\"bottom\",\"yref\":\"paper\"},{\"font\":{\"size\":16},\"showarrow\":false,\"text\":\"Education Index\",\"x\":0.7625,\"xanchor\":\"center\",\"xref\":\"paper\",\"y\":0.8989999999999999,\"yanchor\":\"bottom\",\"yref\":\"paper\"},{\"font\":{\"size\":16},\"showarrow\":false,\"text\":\"Employment Status Index\",\"x\":0.2375,\"xanchor\":\"center\",\"xref\":\"paper\",\"y\":0.798,\"yanchor\":\"bottom\",\"yref\":\"paper\"},{\"font\":{\"size\":16},\"showarrow\":false,\"text\":\"Gender\",\"x\":0.7625,\"xanchor\":\"center\",\"xref\":\"paper\",\"y\":0.798,\"yanchor\":\"bottom\",\"yref\":\"paper\"},{\"font\":{\"size\":16},\"showarrow\":false,\"text\":\"Marital Status Index\",\"x\":0.2375,\"xanchor\":\"center\",\"xref\":\"paper\",\"y\":0.6970000000000001,\"yanchor\":\"bottom\",\"yref\":\"paper\"},{\"font\":{\"size\":16},\"showarrow\":false,\"text\":\"Number of Open Complaints\",\"x\":0.7625,\"xanchor\":\"center\",\"xref\":\"paper\",\"y\":0.6970000000000001,\"yanchor\":\"bottom\",\"yref\":\"paper\"},{\"font\":{\"size\":16},\"showarrow\":false,\"text\":\"Number of Policies\",\"x\":0.2375,\"xanchor\":\"center\",\"xref\":\"paper\",\"y\":0.596,\"yanchor\":\"bottom\",\"yref\":\"paper\"},{\"font\":{\"size\":16},\"showarrow\":false,\"text\":\"Policy Type Index\",\"x\":0.7625,\"xanchor\":\"center\",\"xref\":\"paper\",\"y\":0.596,\"yanchor\":\"bottom\",\"yref\":\"paper\"},{\"font\":{\"size\":16},\"showarrow\":false,\"text\":\"Policy Index\",\"x\":0.2375,\"xanchor\":\"center\",\"xref\":\"paper\",\"y\":0.495,\"yanchor\":\"bottom\",\"yref\":\"paper\"},{\"font\":{\"size\":16},\"showarrow\":false,\"text\":\"Renew Offer Type\",\"x\":0.7625,\"xanchor\":\"center\",\"xref\":\"paper\",\"y\":0.495,\"yanchor\":\"bottom\",\"yref\":\"paper\"},{\"font\":{\"size\":16},\"showarrow\":false,\"text\":\"Sales Channel Index\",\"x\":0.2375,\"xanchor\":\"center\",\"xref\":\"paper\",\"y\":0.394,\"yanchor\":\"bottom\",\"yref\":\"paper\"},{\"font\":{\"size\":16},\"showarrow\":false,\"text\":\"Vehicle Size Index\",\"x\":0.7625,\"xanchor\":\"center\",\"xref\":\"paper\",\"y\":0.394,\"yanchor\":\"bottom\",\"yref\":\"paper\"},{\"font\":{\"size\":16},\"showarrow\":false,\"text\":\"Effective To Month\",\"x\":0.2375,\"xanchor\":\"center\",\"xref\":\"paper\",\"y\":0.293,\"yanchor\":\"bottom\",\"yref\":\"paper\"},{\"font\":{\"size\":16},\"showarrow\":false,\"text\":\"Years Since Last Claim\",\"x\":0.7625,\"xanchor\":\"center\",\"xref\":\"paper\",\"y\":0.293,\"yanchor\":\"bottom\",\"yref\":\"paper\"},{\"font\":{\"size\":16},\"showarrow\":false,\"text\":\"Years Since Policy Inception\",\"x\":0.2375,\"xanchor\":\"center\",\"xref\":\"paper\",\"y\":0.192,\"yanchor\":\"bottom\",\"yref\":\"paper\"},{\"font\":{\"size\":16},\"showarrow\":false,\"text\":\"Customer Lifetime Value_bin\",\"x\":0.7625,\"xanchor\":\"center\",\"xref\":\"paper\",\"y\":0.192,\"yanchor\":\"bottom\",\"yref\":\"paper\"},{\"font\":{\"size\":16},\"showarrow\":false,\"text\":\"Income_bin\",\"x\":0.2375,\"xanchor\":\"center\",\"xref\":\"paper\",\"y\":0.091,\"yanchor\":\"bottom\",\"yref\":\"paper\"},{\"font\":{\"size\":16},\"showarrow\":false,\"text\":\"Accident Likelihood_bin\",\"x\":0.7625,\"xanchor\":\"center\",\"xref\":\"paper\",\"y\":0.091,\"yanchor\":\"bottom\",\"yref\":\"paper\"}],\"title\":{\"text\":\"How Each Column Affects 'Claim over 1k'\"},\"height\":3000,\"showlegend\":false},                        {\"responsive\": true}                    ).then(function(){\n",
       "                            \n",
       "var gd = document.getElementById('2c4d7088-ebf7-4df0-87f8-b4e76c9ef1c5');\n",
       "var x = new MutationObserver(function (mutations, observer) {{\n",
       "        var display = window.getComputedStyle(gd).display;\n",
       "        if (!display || display === 'none') {{\n",
       "            console.log([gd, 'removed!']);\n",
       "            Plotly.purge(gd);\n",
       "            observer.disconnect();\n",
       "        }}\n",
       "}});\n",
       "\n",
       "// Listen for the removal of the full notebook cells\n",
       "var notebookContainer = gd.closest('#notebook-container');\n",
       "if (notebookContainer) {{\n",
       "    x.observe(notebookContainer, {childList: true});\n",
       "}}\n",
       "\n",
       "// Listen for the clearing of the current output cell\n",
       "var outputEl = gd.closest('.output');\n",
       "if (outputEl) {{\n",
       "    x.observe(outputEl, {childList: true});\n",
       "}}\n",
       "\n",
       "                        })                };                });            </script>        </div>"
      ]
     },
     "metadata": {},
     "output_type": "display_data"
    },
    {
     "data": {
      "text/plain": [
       "<Figure size 3000x8000 with 0 Axes>"
      ]
     },
     "metadata": {},
     "output_type": "display_data"
    }
   ],
   "source": [
    "ratio = np.exp(1)\n",
    "df_balance_train = balance_with_ratio(df_train_from_train_dataset, ratio)\n",
    "print(df_balance_train[\"Claim over 1k\"].value_counts())\n",
    "relation_to_claim_over_1k(df_balance_train)"
   ]
  },
  {
   "cell_type": "code",
   "execution_count": 4404,
   "metadata": {},
   "outputs": [],
   "source": [
    "def test_monitor(model, X, y):\n",
    "  # Predict the test set\n",
    "  y_pred = model.predict(X)\n",
    "  # Evaluate the model\n",
    "  accuracy = accuracy_score(y, y_pred)\n",
    "  conf_matrix = confusion_matrix(y, y_pred).T\n",
    "  class_report = classification_report(y, y_pred)\n",
    "\n",
    "  # Calculate accuracy and F1 score\n",
    "  print(f\"Accuracy: {accuracy}\")\n",
    "  print(\"Confusion Matrix:\")\n",
    "  print(conf_matrix)\n",
    "  print(\"Classification Report:\")\n",
    "  print(class_report)\n",
    "  f1 = f1_score(y, y_pred)\n",
    "  print(f\"f1 score: ${f1}\")\n",
    "  \n",
    "  #            Actual\n",
    "  #             0   1\n",
    "  # Predict 0   TP  FP\n",
    "  #         1   FN  TN\n",
    "  # Evaluate the model\n",
    "  tp, fp, fn, tn = conf_matrix.ravel()\n",
    "  # Calculate sensitivity and specificity\n",
    "  sensitivity = tp / (tp + fn)  # True Positive Rate\n",
    "  specificity = tn / (tn + fp)  # True Negative Rate\n",
    "\n",
    "  print(\"Sensitivity (Recall):\", sensitivity)\n",
    "  print(\"Specificity:\", specificity)\n",
    "\n",
    "  return accuracy, sensitivity, specificity"
   ]
  },
  {
   "cell_type": "code",
   "execution_count": 4405,
   "metadata": {},
   "outputs": [],
   "source": [
    "def normalize(X, scaler):\n",
    "  return scaler.fit_transform(X)\n",
    "\n",
    "def get_train_params(X, y, scaler, test_size):\n",
    "  X_train, X_test, y_train, y_test = train_test_split(X, y, test_size = test_size, random_state = 42)\n",
    "  X_train_scaled = normalize(X_train, scaler)\n",
    "  X_test_scaled = normalize(X_test, scaler)\n",
    "  return X_train_scaled, X_test_scaled, y_train, y_test"
   ]
  },
  {
   "cell_type": "code",
   "execution_count": 4406,
   "metadata": {},
   "outputs": [],
   "source": [
    "def run_random_forest(X_train, y_train):\n",
    "  # Initialize the Random Forest Classifier\n",
    "  rf_classifier = RandomForestClassifier(n_estimators=200, criterion=\"entropy\", random_state=42, max_depth=30, min_samples_leaf=5, min_samples_split=5, bootstrap=False)\n",
    "\n",
    "  # Train the model on the training data\n",
    "  # Note that random forest is a decision tree (if-else statment on each node), so the data does not have to be scaled\n",
    "  rf_classifier.fit(X_train, y_train)\n",
    "  return rf_classifier\n",
    "\n",
    "def random_forest(df_train, df_test = None):\n",
    "  df_train.value_counts()\n",
    "  # Get the params\n",
    "  X = df_train.drop(\"Claim over 1k\", axis=1)\n",
    "  y = df_train[\"Claim over 1k\"]\n",
    "  test_size = 0.2 if df_test is None else 0.01\n",
    "  X_train_scaled, X_test_scaled, y_train, y_test = get_train_params(X, y, standard_scaler, test_size)\n",
    "\n",
    "  \n",
    "  rf_classifier = run_random_forest(X_train_scaled, y_train)\n",
    "  accuracy_from_train, sensitivity_from_train, specificity_from_train = test_monitor(rf_classifier, X_test_scaled, y_test)\n",
    "  \n",
    "  if (df_test is None):\n",
    "    return accuracy_from_train, sensitivity_from_train, specificity_from_train\n",
    "  print(\"----------------\")\n",
    "  X_from_test = df_test.drop(\"Claim over 1k\", axis=1)\n",
    "  X_from_test_scaled = normalize(X_from_test, standard_scaler)\n",
    "  y_from_test = df_test[\"Claim over 1k\"]\n",
    "\n",
    "  accuracy_from_test, sensitivity_from_test, specificity_from_test = test_monitor(rf_classifier, X_from_test_scaled, y_from_test)\n",
    "  return accuracy_from_test, sensitivity_from_test, specificity_from_test"
   ]
  },
  {
   "cell_type": "code",
   "execution_count": 4407,
   "metadata": {},
   "outputs": [],
   "source": [
    "def run_iteration(df, times, cols=[]):\n",
    "  accuracy, sensitivity, specificity = 0, 0, 0\n",
    "  for _ in range(times):\n",
    "    with SuppressPrints():\n",
    "      df_local_train, df_local_test = shuffle_df(df)\n",
    "      pre_process(df_local_train)\n",
    "      pre_process(df_local_test)\n",
    "      df_local_balance_train = balance_with_ratio(df_local_train, ratio).drop(columns=cols, axis=1)\n",
    "      df_local_test.drop(columns=cols, axis=1, inplace=True)\n",
    "      accuracy_get, sensitivity_get, specificity_get = random_forest(df_local_balance_train, df_local_test)\n",
    "      accuracy += float(accuracy_get)\n",
    "      sensitivity += float(sensitivity_get)\n",
    "      specificity += float(specificity_get)\n",
    "  print(f\"Average over {times} runs: \", accuracy / times, sensitivity / times, specificity / times)\n",
    "    "
   ]
  },
  {
   "cell_type": "code",
   "execution_count": 4408,
   "metadata": {},
   "outputs": [
    {
     "name": "stdout",
     "output_type": "stream",
     "text": [
      "Accuracy: 0.9156378600823045\n",
      "Confusion Matrix:\n",
      "[[1293  116]\n",
      " [   7   42]]\n",
      "Classification Report:\n",
      "              precision    recall  f1-score   support\n",
      "\n",
      "           0       0.92      0.99      0.95      1300\n",
      "           1       0.86      0.27      0.41       158\n",
      "\n",
      "    accuracy                           0.92      1458\n",
      "   macro avg       0.89      0.63      0.68      1458\n",
      "weighted avg       0.91      0.92      0.90      1458\n",
      "\n",
      "f1 score: $0.4057971014492754\n",
      "Sensitivity (Recall): 0.9946153846153846\n",
      "Specificity: 0.26582278481012656\n"
     ]
    },
    {
     "data": {
      "text/plain": [
       "(0.9156378600823045, 0.9946153846153846, 0.26582278481012656)"
      ]
     },
     "execution_count": 4408,
     "metadata": {},
     "output_type": "execute_result"
    }
   ],
   "source": [
    "random_forest(df_process, None) # test with no oversample"
   ]
  },
  {
   "cell_type": "code",
   "execution_count": 4409,
   "metadata": {},
   "outputs": [
    {
     "name": "stdout",
     "output_type": "stream",
     "text": [
      "Accuracy: 0.9552238805970149\n",
      "Confusion Matrix:\n",
      "[[51  0]\n",
      " [ 3 13]]\n",
      "Classification Report:\n",
      "              precision    recall  f1-score   support\n",
      "\n",
      "           0       1.00      0.94      0.97        54\n",
      "           1       0.81      1.00      0.90        13\n",
      "\n",
      "    accuracy                           0.96        67\n",
      "   macro avg       0.91      0.97      0.93        67\n",
      "weighted avg       0.96      0.96      0.96        67\n",
      "\n",
      "f1 score: $0.896551724137931\n",
      "Sensitivity (Recall): 0.9444444444444444\n",
      "Specificity: 1.0\n",
      "----------------\n",
      "Accuracy: 0.9094444444444445\n",
      "Confusion Matrix:\n",
      "[[1527  102]\n",
      " [  61  110]]\n",
      "Classification Report:\n",
      "              precision    recall  f1-score   support\n",
      "\n",
      "           0       0.94      0.96      0.95      1588\n",
      "           1       0.64      0.52      0.57       212\n",
      "\n",
      "    accuracy                           0.91      1800\n",
      "   macro avg       0.79      0.74      0.76      1800\n",
      "weighted avg       0.90      0.91      0.91      1800\n",
      "\n",
      "f1 score: $0.5744125326370757\n",
      "Sensitivity (Recall): 0.9615869017632241\n",
      "Specificity: 0.5188679245283019\n"
     ]
    },
    {
     "data": {
      "text/plain": [
       "(0.9094444444444445, 0.9615869017632241, 0.5188679245283019)"
      ]
     },
     "execution_count": 4409,
     "metadata": {},
     "output_type": "execute_result"
    }
   ],
   "source": [
    "random_forest(df_balance_train, df_test_from_train_dataset) # oversample"
   ]
  },
  {
   "cell_type": "code",
   "execution_count": 4410,
   "metadata": {},
   "outputs": [
    {
     "name": "stdout",
     "output_type": "stream",
     "text": [
      "Average over 5 runs:  0.9064444444444444 0.9584951099435102 0.5165708652016293\n"
     ]
    }
   ],
   "source": [
    "run_iteration(df_train, 5)"
   ]
  },
  {
   "cell_type": "code",
   "execution_count": 4411,
   "metadata": {},
   "outputs": [
    {
     "data": {
      "text/plain": [
       "Index(['State', 'Response', 'Coverage Index', 'Education Index',\n",
       "       'Employment Status Index', 'Gender', 'Marital Status Index',\n",
       "       'Number of Open Complaints', 'Number of Policies', 'Policy Type Index',\n",
       "       'Policy Index', 'Renew Offer Type', 'Sales Channel Index',\n",
       "       'Vehicle Size Index', 'Effective To Month', 'Years Since Last Claim',\n",
       "       'Years Since Policy Inception', 'Customer Lifetime Value_bin',\n",
       "       'Income_bin', 'Accident Likelihood_bin', 'Claim over 1k'],\n",
       "      dtype='object')"
      ]
     },
     "execution_count": 4411,
     "metadata": {},
     "output_type": "execute_result"
    }
   ],
   "source": [
    "df_balance_train.columns"
   ]
  },
  {
   "cell_type": "code",
   "execution_count": 4412,
   "metadata": {},
   "outputs": [
    {
     "name": "stdout",
     "output_type": "stream",
     "text": [
      "Accuracy: 0.9850746268656716\n",
      "Confusion Matrix:\n",
      "[[53  0]\n",
      " [ 1 13]]\n",
      "Classification Report:\n",
      "              precision    recall  f1-score   support\n",
      "\n",
      "           0       1.00      0.98      0.99        54\n",
      "           1       0.93      1.00      0.96        13\n",
      "\n",
      "    accuracy                           0.99        67\n",
      "   macro avg       0.96      0.99      0.98        67\n",
      "weighted avg       0.99      0.99      0.99        67\n",
      "\n",
      "f1 score: $0.9629629629629629\n",
      "Sensitivity (Recall): 0.9814814814814815\n",
      "Specificity: 1.0\n",
      "----------------\n",
      "Accuracy: 0.9094444444444445\n",
      "Confusion Matrix:\n",
      "[[1518   93]\n",
      " [  70  119]]\n",
      "Classification Report:\n",
      "              precision    recall  f1-score   support\n",
      "\n",
      "           0       0.94      0.96      0.95      1588\n",
      "           1       0.63      0.56      0.59       212\n",
      "\n",
      "    accuracy                           0.91      1800\n",
      "   macro avg       0.79      0.76      0.77      1800\n",
      "weighted avg       0.91      0.91      0.91      1800\n",
      "\n",
      "f1 score: $0.5935162094763092\n",
      "Sensitivity (Recall): 0.9559193954659949\n",
      "Specificity: 0.5613207547169812\n"
     ]
    }
   ],
   "source": [
    "cols_to_drop = [\"Response\", \"Number of Open Complaints\", \"Policy Type Index\" ,\"Vehicle Size Index\"]\n",
    "\n",
    "def run_drop(df_train, df_test):\n",
    "  df_shorten_train = df_train.drop(columns=cols_to_drop, axis=1)\n",
    "  df_shorten_test = df_test.drop(columns=cols_to_drop, axis=1)\n",
    "  random_forest(df_shorten_train, df_shorten_test)\n",
    "run_drop(df_balance_train, df_test_from_train_dataset)"
   ]
  },
  {
   "cell_type": "code",
   "execution_count": 4413,
   "metadata": {},
   "outputs": [
    {
     "name": "stdout",
     "output_type": "stream",
     "text": [
      "Average over 5 runs:  0.9147777777777778 0.9610912321103655 0.5375052236236562\n"
     ]
    }
   ],
   "source": [
    "run_iteration(df_train, 5, cols_to_drop)"
   ]
  },
  {
   "cell_type": "code",
   "execution_count": 4414,
   "metadata": {},
   "outputs": [],
   "source": [
    "def specificity(y_true, y_pred):\n",
    "    tp, fp, fn, tn = confusion_matrix(y_true, y_pred).T.ravel()\n",
    "    # print(tn / (tn + fp))\n",
    "    return tn / (tn + fp)\n",
    "\n",
    "specificity_scorer = make_scorer(specificity)\n",
    "\n",
    "def hyper_tune_random_forest(df_train):\n",
    "  X = df_train.drop(\"Claim over 1k\", axis=1)\n",
    "  y = df_train[\"Claim over 1k\"]\n",
    "  X_train_scaled, X_test_scaled, y_train, y_test = get_train_params(X, y, standard_scaler, 0.00001)\n",
    "  # Step 2: Define the model\n",
    "  rf_classifier = RandomForestClassifier(random_state=42)\n",
    "\n",
    "  # Step 3: Specify hyperparameters to tune\n",
    "  param_grid = {\n",
    "    'n_estimators': [100, 200],          # Number of trees\n",
    "    'max_depth': [20, 30, 40, 50],             # Maximum depth of the trees\n",
    "    'min_samples_split': [5, 10, 15],         # Minimum samples to split an internal node\n",
    "    'min_samples_leaf': [5, 10, 15],          # Minimum samples at a leaf node\n",
    "    'bootstrap': [False]\n",
    "  }\n",
    "\n",
    "  # Step 4: Set up GridSearchCV\n",
    "  grid_search = GridSearchCV(estimator=rf_classifier, param_grid=param_grid,\n",
    "                 cv=5, n_jobs=-1, verbose=2, scoring='f1')\n",
    "\n",
    "  # Step 5: Fit the model\n",
    "  grid_search.fit(X_train_scaled, y_train)\n",
    "\n",
    "  # Step 6: Evaluate the best model\n",
    "  best_model = grid_search.best_estimator_\n",
    "  \n",
    "  return best_model\n",
    "\n",
    "# model = hyper_tune_random_forest(df_balance_train)"
   ]
  },
  {
   "cell_type": "code",
   "execution_count": 4377,
   "metadata": {},
   "outputs": [
    {
     "name": "stdout",
     "output_type": "stream",
     "text": [
      "RandomForestClassifier(bootstrap=False, max_depth=30, min_samples_leaf=5,\n",
      "                       min_samples_split=5, n_estimators=200, random_state=42)\n",
      "Accuracy: 0.9416666666666667\n",
      "Confusion Matrix:\n",
      "[[504  10]\n",
      " [ 25  61]]\n",
      "Classification Report:\n",
      "              precision    recall  f1-score   support\n",
      "\n",
      "           0       0.98      0.95      0.97       529\n",
      "           1       0.71      0.86      0.78        71\n",
      "\n",
      "    accuracy                           0.94       600\n",
      "   macro avg       0.84      0.91      0.87       600\n",
      "weighted avg       0.95      0.94      0.94       600\n",
      "\n",
      "f1 score: $0.7770700636942676\n",
      "Sensitivity (Recall): 0.9527410207939508\n",
      "Specificity: 0.8591549295774648\n"
     ]
    }
   ],
   "source": [
    "print(model)\n",
    "def see_performance_hyper_tune_random_forest():\n",
    "  old_X = df_test_from_train_dataset.drop(\"Claim over 1k\", axis=1)\n",
    "  old_X_scaled = normalize(old_X, standard_scaler)\n",
    "  old_y = df_test_from_train_dataset[\"Claim over 1k\"]\n",
    "  test_monitor(model, old_X_scaled, old_y)\n",
    "see_performance_hyper_tune_random_forest()"
   ]
  },
  {
   "cell_type": "code",
   "execution_count": 4378,
   "metadata": {},
   "outputs": [
    {
     "data": {
      "text/plain": [
       "Claim over 1k\n",
       "0    1583\n",
       "1     261\n",
       "Name: count, dtype: int64"
      ]
     },
     "execution_count": 4378,
     "metadata": {},
     "output_type": "execute_result"
    }
   ],
   "source": [
    "df_submission = pd.read_csv(\"submission/my_submission.csv\")\n",
    "df_submission[\"Claim over 1k\"].value_counts()"
   ]
  },
  {
   "cell_type": "code",
   "execution_count": 4379,
   "metadata": {},
   "outputs": [
    {
     "data": {
      "text/plain": [
       "Claim over 1k\n",
       "0    1695\n",
       "1     149\n",
       "Name: count, dtype: int64"
      ]
     },
     "execution_count": 4379,
     "metadata": {},
     "output_type": "execute_result"
    }
   ],
   "source": [
    "df_best_submission = pd.read_csv(\"submission/best_submission.csv\")\n",
    "df_best_submission[\"Claim over 1k\"].value_counts()"
   ]
  },
  {
   "cell_type": "code",
   "execution_count": 4380,
   "metadata": {},
   "outputs": [
    {
     "name": "stdout",
     "output_type": "stream",
     "text": [
      "<class 'pandas.core.frame.DataFrame'>\n",
      "RangeIndex: 1844 entries, 0 to 1843\n",
      "Data columns (total 20 columns):\n",
      " #   Column                         Non-Null Count  Dtype  \n",
      "---  ------                         --------------  -----  \n",
      " 0   CustomerID                     1844 non-null   object \n",
      " 1   State                          1844 non-null   object \n",
      " 2   Customer Lifetime Value        1844 non-null   float64\n",
      " 3   Response                       1844 non-null   object \n",
      " 4   Coverage Index                 1844 non-null   int64  \n",
      " 5   Education Index                1844 non-null   int64  \n",
      " 6   Effective To Date              1844 non-null   object \n",
      " 7   Employment Status Index        1844 non-null   int64  \n",
      " 8   Gender                         1844 non-null   object \n",
      " 9   Income                         1844 non-null   int64  \n",
      " 10  Marital Status Index           1844 non-null   int64  \n",
      " 11  Months Since Last Claim        1844 non-null   int64  \n",
      " 12  Months Since Policy Inception  1844 non-null   int64  \n",
      " 13  Number of Open Complaints      1844 non-null   int64  \n",
      " 14  Number of Policies             1844 non-null   int64  \n",
      " 15  Policy Type Index              1844 non-null   int64  \n",
      " 16  Policy Index                   1844 non-null   int64  \n",
      " 17  Renew Offer Type               1844 non-null   int64  \n",
      " 18  Sales Channel Index            1844 non-null   int64  \n",
      " 19  Vehicle Size Index             1844 non-null   int64  \n",
      "dtypes: float64(1), int64(14), object(5)\n",
      "memory usage: 288.3+ KB\n"
     ]
    }
   ],
   "source": [
    "df_test = pd.read_csv(folder + \"test.csv\").drop(columns=[\"Coverage\", \"Education\", \"Employment Status\", \"Marital Status\", \"Policy Type\", \"Policy\", \"Sales Channel\", \"Vehicle Size\"])\n",
    "df_test.info()"
   ]
  },
  {
   "cell_type": "code",
   "execution_count": 4381,
   "metadata": {},
   "outputs": [],
   "source": [
    "X_test = df_test.drop(\"CustomerID\", axis=1)\n",
    "pre_process(X_test)\n",
    "X_test_scaled = normalize(X_test, standard_scaler)"
   ]
  },
  {
   "cell_type": "code",
   "execution_count": 4382,
   "metadata": {},
   "outputs": [],
   "source": [
    "def predict(model, X_test):\n",
    "  y_test_pred = model.predict(X_test)\n",
    "  customer_ID = np.array(df_test[\"CustomerID\"])\n",
    "  result = np.column_stack((customer_ID, y_test_pred))\n",
    "  return pd.DataFrame(result).rename(columns={0: \"CustomerID\", 1: \"Claim over 1k\"})"
   ]
  },
  {
   "cell_type": "code",
   "execution_count": 4383,
   "metadata": {},
   "outputs": [],
   "source": [
    "df_run_test_ouput = predict(model, X_test_scaled)"
   ]
  },
  {
   "cell_type": "code",
   "execution_count": 4384,
   "metadata": {},
   "outputs": [
    {
     "data": {
      "text/plain": [
       "Claim over 1k\n",
       "0    1584\n",
       "1     260\n",
       "Name: count, dtype: int64"
      ]
     },
     "execution_count": 4384,
     "metadata": {},
     "output_type": "execute_result"
    }
   ],
   "source": [
    "df_run_test_ouput[\"Claim over 1k\"].value_counts()"
   ]
  },
  {
   "cell_type": "code",
   "execution_count": 4385,
   "metadata": {},
   "outputs": [],
   "source": [
    "# compare the two results\n",
    "def compare(df_1, df_2):\n",
    "  cnt = 0\n",
    "  for i in range(len(df_1)):\n",
    "    if (df_1[\"Claim over 1k\"][i] != df_2[\"Claim over 1k\"][i]):\n",
    "      cnt += 1\n",
    "    if (df_1[\"CustomerID\"][i] != df_2[\"CustomerID\"][i]):\n",
    "      print(\"Wrong order\")\n",
    "  print(cnt)"
   ]
  },
  {
   "cell_type": "code",
   "execution_count": 4386,
   "metadata": {},
   "outputs": [
    {
     "name": "stdout",
     "output_type": "stream",
     "text": [
      "149\n"
     ]
    }
   ],
   "source": [
    "compare(df_submission, df_run_test_ouput)"
   ]
  },
  {
   "cell_type": "code",
   "execution_count": 4387,
   "metadata": {},
   "outputs": [
    {
     "name": "stdout",
     "output_type": "stream",
     "text": [
      "179\n"
     ]
    }
   ],
   "source": [
    "compare(df_best_submission, df_run_test_ouput)"
   ]
  },
  {
   "cell_type": "code",
   "execution_count": 4388,
   "metadata": {},
   "outputs": [
    {
     "name": "stdout",
     "output_type": "stream",
     "text": [
      "138\n"
     ]
    }
   ],
   "source": [
    "compare(df_submission, df_best_submission)"
   ]
  },
  {
   "cell_type": "code",
   "execution_count": 4389,
   "metadata": {},
   "outputs": [
    {
     "data": {
      "application/vnd.plotly.v1+json": {
       "config": {
        "plotlyServerURL": "https://plot.ly"
       },
       "data": [
        {
         "name": "0",
         "type": "bar",
         "x": [
          0,
          1
         ],
         "xaxis": "x",
         "y": [
          2217,
          906
         ],
         "yaxis": "y"
        },
        {
         "name": "1",
         "type": "bar",
         "x": [
          0,
          1
         ],
         "xaxis": "x",
         "y": [
          560,
          293
         ],
         "yaxis": "y"
        },
        {
         "name": "2",
         "type": "bar",
         "x": [
          0,
          1
         ],
         "xaxis": "x",
         "y": [
          1827,
          730
         ],
         "yaxis": "y"
        },
        {
         "name": "3",
         "type": "bar",
         "x": [
          0,
          1
         ],
         "xaxis": "x",
         "y": [
          1217,
          344
         ],
         "yaxis": "y"
        },
        {
         "name": "4",
         "type": "bar",
         "x": [
          0,
          1
         ],
         "xaxis": "x",
         "y": [
          637,
          102
         ],
         "yaxis": "y"
        },
        {
         "name": "0",
         "type": "bar",
         "x": [
          0,
          1
         ],
         "xaxis": "x2",
         "y": [
          5511,
          2190
         ],
         "yaxis": "y2"
        },
        {
         "name": "1",
         "type": "bar",
         "x": [
          0,
          1
         ],
         "xaxis": "x2",
         "y": [
          947,
          185
         ],
         "yaxis": "y2"
        },
        {
         "name": "0",
         "type": "bar",
         "x": [
          0,
          1
         ],
         "xaxis": "x3",
         "y": [
          4060,
          1058
         ],
         "yaxis": "y3"
        },
        {
         "name": "1",
         "type": "bar",
         "x": [
          0,
          1
         ],
         "xaxis": "x3",
         "y": [
          1961,
          847
         ],
         "yaxis": "y3"
        },
        {
         "name": "2",
         "type": "bar",
         "x": [
          0,
          1
         ],
         "xaxis": "x3",
         "y": [
          437,
          470
         ],
         "yaxis": "y3"
        },
        {
         "name": "0",
         "type": "bar",
         "x": [
          0,
          1
         ],
         "xaxis": "x4",
         "y": [
          1763,
          1086
         ],
         "yaxis": "y4"
        },
        {
         "name": "1",
         "type": "bar",
         "x": [
          0,
          1
         ],
         "xaxis": "x4",
         "y": [
          1947,
          634
         ],
         "yaxis": "y4"
        },
        {
         "name": "2",
         "type": "bar",
         "x": [
          0,
          1
         ],
         "xaxis": "x4",
         "y": [
          1923,
          580
         ],
         "yaxis": "y4"
        },
        {
         "name": "3",
         "type": "bar",
         "x": [
          0,
          1
         ],
         "xaxis": "x4",
         "y": [
          559,
          67
         ],
         "yaxis": "y4"
        },
        {
         "name": "4",
         "type": "bar",
         "x": [
          0,
          1
         ],
         "xaxis": "x4",
         "y": [
          266,
          8
         ],
         "yaxis": "y4"
        },
        {
         "name": "0",
         "type": "bar",
         "x": [
          0,
          1
         ],
         "xaxis": "x5",
         "y": [
          1410,
          1460
         ],
         "yaxis": "y5"
        },
        {
         "name": "1",
         "type": "bar",
         "x": [
          0,
          1
         ],
         "xaxis": "x5",
         "y": [
          4255,
          726
         ],
         "yaxis": "y5"
        },
        {
         "name": "2",
         "type": "bar",
         "x": [
          0,
          1
         ],
         "xaxis": "x5",
         "y": [
          297,
          71
         ],
         "yaxis": "y5"
        },
        {
         "name": "3",
         "type": "bar",
         "x": [
          0,
          1
         ],
         "xaxis": "x5",
         "y": [
          205,
          58
         ],
         "yaxis": "y5"
        },
        {
         "name": "4",
         "type": "bar",
         "x": [
          0,
          1
         ],
         "xaxis": "x5",
         "y": [
          291,
          60
         ],
         "yaxis": "y5"
        },
        {
         "name": "0",
         "type": "bar",
         "x": [
          0,
          1
         ],
         "xaxis": "x6",
         "y": [
          3362,
          1307
         ],
         "yaxis": "y6"
        },
        {
         "name": "1",
         "type": "bar",
         "x": [
          0,
          1
         ],
         "xaxis": "x6",
         "y": [
          3096,
          1068
         ],
         "yaxis": "y6"
        },
        {
         "name": "0",
         "type": "bar",
         "x": [
          0,
          1
         ],
         "xaxis": "x7",
         "y": [
          1530,
          1473
         ],
         "yaxis": "y7"
        },
        {
         "name": "1",
         "type": "bar",
         "x": [
          0,
          1
         ],
         "xaxis": "x7",
         "y": [
          3908,
          771
         ],
         "yaxis": "y7"
        },
        {
         "name": "2",
         "type": "bar",
         "x": [
          0,
          1
         ],
         "xaxis": "x7",
         "y": [
          1020,
          131
         ],
         "yaxis": "y7"
        },
        {
         "name": "0",
         "type": "bar",
         "x": [
          0,
          1
         ],
         "xaxis": "x8",
         "y": [
          5132,
          2031
         ],
         "yaxis": "y8"
        },
        {
         "name": "1",
         "type": "bar",
         "x": [
          0,
          1
         ],
         "xaxis": "x8",
         "y": [
          721,
          196
         ],
         "yaxis": "y8"
        },
        {
         "name": "2",
         "type": "bar",
         "x": [
          0,
          1
         ],
         "xaxis": "x8",
         "y": [
          266,
          66
         ],
         "yaxis": "y8"
        },
        {
         "name": "3",
         "type": "bar",
         "x": [
          0,
          1
         ],
         "xaxis": "x8",
         "y": [
          205,
          35
         ],
         "yaxis": "y8"
        },
        {
         "name": "4",
         "type": "bar",
         "x": [
          0,
          1
         ],
         "xaxis": "x8",
         "y": [
          94,
          40
         ],
         "yaxis": "y8"
        },
        {
         "name": "5",
         "type": "bar",
         "x": [
          0,
          1
         ],
         "xaxis": "x8",
         "y": [
          40,
          7
         ],
         "yaxis": "y8"
        },
        {
         "name": "1",
         "type": "bar",
         "x": [
          0,
          1
         ],
         "xaxis": "x9",
         "y": [
          2281,
          909
         ],
         "yaxis": "y9"
        },
        {
         "name": "2",
         "type": "bar",
         "x": [
          0,
          1
         ],
         "xaxis": "x9",
         "y": [
          1632,
          590
         ],
         "yaxis": "y9"
        },
        {
         "name": "3",
         "type": "bar",
         "x": [
          0,
          1
         ],
         "xaxis": "x9",
         "y": [
          839,
          224
         ],
         "yaxis": "y9"
        },
        {
         "name": "4",
         "type": "bar",
         "x": [
          0,
          1
         ],
         "xaxis": "x9",
         "y": [
          284,
          108
         ],
         "yaxis": "y9"
        },
        {
         "name": "5",
         "type": "bar",
         "x": [
          0,
          1
         ],
         "xaxis": "x9",
         "y": [
          285,
          98
         ],
         "yaxis": "y9"
        },
        {
         "name": "6",
         "type": "bar",
         "x": [
          0,
          1
         ],
         "xaxis": "x9",
         "y": [
          260,
          105
         ],
         "yaxis": "y9"
        },
        {
         "name": "7",
         "type": "bar",
         "x": [
          0,
          1
         ],
         "xaxis": "x9",
         "y": [
          299,
          163
         ],
         "yaxis": "y9"
        },
        {
         "name": "8",
         "type": "bar",
         "x": [
          0,
          1
         ],
         "xaxis": "x9",
         "y": [
          269,
          124
         ],
         "yaxis": "y9"
        },
        {
         "name": "9",
         "type": "bar",
         "x": [
          0,
          1
         ],
         "xaxis": "x9",
         "y": [
          309,
          54
         ],
         "yaxis": "y9"
        },
        {
         "name": "0",
         "type": "bar",
         "x": [
          0,
          1
         ],
         "xaxis": "x10",
         "y": [
          4797,
          1854
         ],
         "yaxis": "y10"
        },
        {
         "name": "1",
         "type": "bar",
         "x": [
          0,
          1
         ],
         "xaxis": "x10",
         "y": [
          1386,
          465
         ],
         "yaxis": "y10"
        },
        {
         "name": "2",
         "type": "bar",
         "x": [
          0,
          1
         ],
         "xaxis": "x10",
         "y": [
          275,
          56
         ],
         "yaxis": "y10"
        },
        {
         "name": "0",
         "type": "bar",
         "x": [
          0,
          1
         ],
         "xaxis": "x11",
         "y": [
          866,
          361
         ],
         "yaxis": "y11"
        },
        {
         "name": "1",
         "type": "bar",
         "x": [
          0,
          1
         ],
         "xaxis": "x11",
         "y": [
          1493,
          746
         ],
         "yaxis": "y11"
        },
        {
         "name": "2",
         "type": "bar",
         "x": [
          0,
          1
         ],
         "xaxis": "x11",
         "y": [
          2438,
          719
         ],
         "yaxis": "y11"
        },
        {
         "name": "3",
         "type": "bar",
         "x": [
          0,
          1
         ],
         "xaxis": "x11",
         "y": [
          265,
          98
         ],
         "yaxis": "y11"
        },
        {
         "name": "4",
         "type": "bar",
         "x": [
          0,
          1
         ],
         "xaxis": "x11",
         "y": [
          424,
          148
         ],
         "yaxis": "y11"
        },
        {
         "name": "5",
         "type": "bar",
         "x": [
          0,
          1
         ],
         "xaxis": "x11",
         "y": [
          697,
          227
         ],
         "yaxis": "y11"
        },
        {
         "name": "6",
         "type": "bar",
         "x": [
          0,
          1
         ],
         "xaxis": "x11",
         "y": [
          47,
          35
         ],
         "yaxis": "y11"
        },
        {
         "name": "7",
         "type": "bar",
         "x": [
          0,
          1
         ],
         "xaxis": "x11",
         "y": [
          117,
          26
         ],
         "yaxis": "y11"
        },
        {
         "name": "8",
         "type": "bar",
         "x": [
          0,
          1
         ],
         "xaxis": "x11",
         "y": [
          111,
          15
         ],
         "yaxis": "y11"
        },
        {
         "name": "1",
         "type": "bar",
         "x": [
          0,
          1
         ],
         "xaxis": "x12",
         "y": [
          2593,
          1388
         ],
         "yaxis": "y12"
        },
        {
         "name": "2",
         "type": "bar",
         "x": [
          0,
          1
         ],
         "xaxis": "x12",
         "y": [
          2135,
          573
         ],
         "yaxis": "y12"
        },
        {
         "name": "3",
         "type": "bar",
         "x": [
          0,
          1
         ],
         "xaxis": "x12",
         "y": [
          1000,
          297
         ],
         "yaxis": "y12"
        },
        {
         "name": "4",
         "type": "bar",
         "x": [
          0,
          1
         ],
         "xaxis": "x12",
         "y": [
          730,
          117
         ],
         "yaxis": "y12"
        },
        {
         "name": "0",
         "type": "bar",
         "x": [
          0,
          1
         ],
         "xaxis": "x13",
         "y": [
          956,
          337
         ],
         "yaxis": "y13"
        },
        {
         "name": "1",
         "type": "bar",
         "x": [
          0,
          1
         ],
         "xaxis": "x13",
         "y": [
          1779,
          846
         ],
         "yaxis": "y13"
        },
        {
         "name": "2",
         "type": "bar",
         "x": [
          0,
          1
         ],
         "xaxis": "x13",
         "y": [
          2463,
          957
         ],
         "yaxis": "y13"
        },
        {
         "name": "3",
         "type": "bar",
         "x": [
          0,
          1
         ],
         "xaxis": "x13",
         "y": [
          1260,
          235
         ],
         "yaxis": "y13"
        },
        {
         "name": "0",
         "type": "bar",
         "x": [
          0,
          1
         ],
         "xaxis": "x14",
         "y": [
          1188,
          725
         ],
         "yaxis": "y14"
        },
        {
         "name": "1",
         "type": "bar",
         "x": [
          0,
          1
         ],
         "xaxis": "x14",
         "y": [
          4600,
          1532
         ],
         "yaxis": "y14"
        },
        {
         "name": "2",
         "type": "bar",
         "x": [
          0,
          1
         ],
         "xaxis": "x14",
         "y": [
          670,
          118
         ],
         "yaxis": "y14"
        },
        {
         "name": "0",
         "type": "bar",
         "x": [
          0,
          1
         ],
         "xaxis": "x15",
         "y": [
          5159,
          2107
         ],
         "yaxis": "y15"
        },
        {
         "name": "1",
         "type": "bar",
         "x": [
          0,
          1
         ],
         "xaxis": "x15",
         "y": [
          1299,
          268
         ],
         "yaxis": "y15"
        },
        {
         "name": "0",
         "type": "bar",
         "x": [
          0,
          1
         ],
         "xaxis": "x16",
         "y": [
          2078,
          948
         ],
         "yaxis": "y16"
        },
        {
         "name": "1",
         "type": "bar",
         "x": [
          0,
          1
         ],
         "xaxis": "x16",
         "y": [
          1799,
          595
         ],
         "yaxis": "y16"
        },
        {
         "name": "2",
         "type": "bar",
         "x": [
          0,
          1
         ],
         "xaxis": "x16",
         "y": [
          1446,
          568
         ],
         "yaxis": "y16"
        },
        {
         "name": "3",
         "type": "bar",
         "x": [
          0,
          1
         ],
         "xaxis": "x16",
         "y": [
          1135,
          264
         ],
         "yaxis": "y16"
        },
        {
         "name": "0",
         "type": "bar",
         "x": [
          0,
          1
         ],
         "xaxis": "x17",
         "y": [
          1757,
          705
         ],
         "yaxis": "y17"
        },
        {
         "name": "1",
         "type": "bar",
         "x": [
          0,
          1
         ],
         "xaxis": "x17",
         "y": [
          1788,
          746
         ],
         "yaxis": "y17"
        },
        {
         "name": "2",
         "type": "bar",
         "x": [
          0,
          1
         ],
         "xaxis": "x17",
         "y": [
          1826,
          670
         ],
         "yaxis": "y17"
        },
        {
         "name": "3",
         "type": "bar",
         "x": [
          0,
          1
         ],
         "xaxis": "x17",
         "y": [
          1087,
          254
         ],
         "yaxis": "y17"
        },
        {
         "name": "0",
         "type": "bar",
         "x": [
          0,
          1
         ],
         "xaxis": "x18",
         "y": [
          238,
          15
         ],
         "yaxis": "y18"
        },
        {
         "name": "1",
         "type": "bar",
         "x": [
          0,
          1
         ],
         "xaxis": "x18",
         "y": [
          246,
          7
         ],
         "yaxis": "y18"
        },
        {
         "name": "2",
         "type": "bar",
         "x": [
          0,
          1
         ],
         "xaxis": "x18",
         "y": [
          236,
          7
         ],
         "yaxis": "y18"
        },
        {
         "name": "3",
         "type": "bar",
         "x": [
          0,
          1
         ],
         "xaxis": "x18",
         "y": [
          242,
          7
         ],
         "yaxis": "y18"
        },
        {
         "name": "4",
         "type": "bar",
         "x": [
          0,
          1
         ],
         "xaxis": "x18",
         "y": [
          236,
          20
         ],
         "yaxis": "y18"
        },
        {
         "name": "5",
         "type": "bar",
         "x": [
          0,
          1
         ],
         "xaxis": "x18",
         "y": [
          225,
          61
         ],
         "yaxis": "y18"
        },
        {
         "name": "6",
         "type": "bar",
         "x": [
          0,
          1
         ],
         "xaxis": "x18",
         "y": [
          208,
          124
         ],
         "yaxis": "y18"
        },
        {
         "name": "7",
         "type": "bar",
         "x": [
          0,
          1
         ],
         "xaxis": "x18",
         "y": [
          199,
          121
         ],
         "yaxis": "y18"
        },
        {
         "name": "8",
         "type": "bar",
         "x": [
          0,
          1
         ],
         "xaxis": "x18",
         "y": [
          226,
          37
         ],
         "yaxis": "y18"
        },
        {
         "name": "9",
         "type": "bar",
         "x": [
          0,
          1
         ],
         "xaxis": "x18",
         "y": [
          212,
          84
         ],
         "yaxis": "y18"
        },
        {
         "name": "10",
         "type": "bar",
         "x": [
          0,
          1
         ],
         "xaxis": "x18",
         "y": [
          231,
          26
         ],
         "yaxis": "y18"
        },
        {
         "name": "11",
         "type": "bar",
         "x": [
          0,
          1
         ],
         "xaxis": "x18",
         "y": [
          234,
          23
         ],
         "yaxis": "y18"
        },
        {
         "name": "12",
         "type": "bar",
         "x": [
          0,
          1
         ],
         "xaxis": "x18",
         "y": [
          231,
          27
         ],
         "yaxis": "y18"
        },
        {
         "name": "13",
         "type": "bar",
         "x": [
          0,
          1
         ],
         "xaxis": "x18",
         "y": [
          237,
          22
         ],
         "yaxis": "y18"
        },
        {
         "name": "14",
         "type": "bar",
         "x": [
          0,
          1
         ],
         "xaxis": "x18",
         "y": [
          228,
          37
         ],
         "yaxis": "y18"
        },
        {
         "name": "15",
         "type": "bar",
         "x": [
          0,
          1
         ],
         "xaxis": "x18",
         "y": [
          224,
          61
         ],
         "yaxis": "y18"
        },
        {
         "name": "16",
         "type": "bar",
         "x": [
          0,
          1
         ],
         "xaxis": "x18",
         "y": [
          216,
          80
         ],
         "yaxis": "y18"
        },
        {
         "name": "17",
         "type": "bar",
         "x": [
          0,
          1
         ],
         "xaxis": "x18",
         "y": [
          204,
          129
         ],
         "yaxis": "y18"
        },
        {
         "name": "18",
         "type": "bar",
         "x": [
          0,
          1
         ],
         "xaxis": "x18",
         "y": [
          203,
          122
         ],
         "yaxis": "y18"
        },
        {
         "name": "19",
         "type": "bar",
         "x": [
          0,
          1
         ],
         "xaxis": "x18",
         "y": [
          209,
          83
         ],
         "yaxis": "y18"
        },
        {
         "name": "20",
         "type": "bar",
         "x": [
          0,
          1
         ],
         "xaxis": "x18",
         "y": [
          216,
          66
         ],
         "yaxis": "y18"
        },
        {
         "name": "21",
         "type": "bar",
         "x": [
          0,
          1
         ],
         "xaxis": "x18",
         "y": [
          219,
          66
         ],
         "yaxis": "y18"
        },
        {
         "name": "22",
         "type": "bar",
         "x": [
          0,
          1
         ],
         "xaxis": "x18",
         "y": [
          212,
          93
         ],
         "yaxis": "y18"
        },
        {
         "name": "23",
         "type": "bar",
         "x": [
          0,
          1
         ],
         "xaxis": "x18",
         "y": [
          196,
          159
         ],
         "yaxis": "y18"
        },
        {
         "name": "24",
         "type": "bar",
         "x": [
          0,
          1
         ],
         "xaxis": "x18",
         "y": [
          208,
          105
         ],
         "yaxis": "y18"
        },
        {
         "name": "25",
         "type": "bar",
         "x": [
          0,
          1
         ],
         "xaxis": "x18",
         "y": [
          178,
          197
         ],
         "yaxis": "y18"
        },
        {
         "name": "26",
         "type": "bar",
         "x": [
          0,
          1
         ],
         "xaxis": "x18",
         "y": [
          184,
          178
         ],
         "yaxis": "y18"
        },
        {
         "name": "27",
         "type": "bar",
         "x": [
          0,
          1
         ],
         "xaxis": "x18",
         "y": [
          180,
          155
         ],
         "yaxis": "y18"
        },
        {
         "name": "28",
         "type": "bar",
         "x": [
          0,
          1
         ],
         "xaxis": "x18",
         "y": [
          205,
          129
         ],
         "yaxis": "y18"
        },
        {
         "name": "29",
         "type": "bar",
         "x": [
          0,
          1
         ],
         "xaxis": "x18",
         "y": [
          175,
          134
         ],
         "yaxis": "y18"
        },
        {
         "name": "0",
         "type": "bar",
         "x": [
          0,
          1
         ],
         "xaxis": "x19",
         "y": [
          2346,
          1740
         ],
         "yaxis": "y19"
        },
        {
         "name": "1",
         "type": "bar",
         "x": [
          0,
          1
         ],
         "xaxis": "x19",
         "y": [
          1345,
          282
         ],
         "yaxis": "y19"
        },
        {
         "name": "2",
         "type": "bar",
         "x": [
          0,
          1
         ],
         "xaxis": "x19",
         "y": [
          1362,
          267
         ],
         "yaxis": "y19"
        },
        {
         "name": "3",
         "type": "bar",
         "x": [
          0,
          1
         ],
         "xaxis": "x19",
         "y": [
          1405,
          86
         ],
         "yaxis": "y19"
        },
        {
         "name": "0",
         "type": "bar",
         "x": [
          0,
          1
         ],
         "xaxis": "x20",
         "y": [
          1816,
          284
         ],
         "yaxis": "y20"
        },
        {
         "name": "1",
         "type": "bar",
         "x": [
          0,
          1
         ],
         "xaxis": "x20",
         "y": [
          1723,
          458
         ],
         "yaxis": "y20"
        },
        {
         "name": "2",
         "type": "bar",
         "x": [
          0,
          1
         ],
         "xaxis": "x20",
         "y": [
          1567,
          686
         ],
         "yaxis": "y20"
        },
        {
         "name": "3",
         "type": "bar",
         "x": [
          0,
          1
         ],
         "xaxis": "x20",
         "y": [
          1352,
          947
         ],
         "yaxis": "y20"
        }
       ],
       "layout": {
        "annotations": [
         {
          "font": {
           "size": 16
          },
          "showarrow": false,
          "text": "State",
          "x": 0.2375,
          "xanchor": "center",
          "xref": "paper",
          "y": 0.9999999999999999,
          "yanchor": "bottom",
          "yref": "paper"
         },
         {
          "font": {
           "size": 16
          },
          "showarrow": false,
          "text": "Response",
          "x": 0.7625,
          "xanchor": "center",
          "xref": "paper",
          "y": 0.9999999999999999,
          "yanchor": "bottom",
          "yref": "paper"
         },
         {
          "font": {
           "size": 16
          },
          "showarrow": false,
          "text": "Coverage Index",
          "x": 0.2375,
          "xanchor": "center",
          "xref": "paper",
          "y": 0.8989999999999999,
          "yanchor": "bottom",
          "yref": "paper"
         },
         {
          "font": {
           "size": 16
          },
          "showarrow": false,
          "text": "Education Index",
          "x": 0.7625,
          "xanchor": "center",
          "xref": "paper",
          "y": 0.8989999999999999,
          "yanchor": "bottom",
          "yref": "paper"
         },
         {
          "font": {
           "size": 16
          },
          "showarrow": false,
          "text": "Employment Status Index",
          "x": 0.2375,
          "xanchor": "center",
          "xref": "paper",
          "y": 0.798,
          "yanchor": "bottom",
          "yref": "paper"
         },
         {
          "font": {
           "size": 16
          },
          "showarrow": false,
          "text": "Gender",
          "x": 0.7625,
          "xanchor": "center",
          "xref": "paper",
          "y": 0.798,
          "yanchor": "bottom",
          "yref": "paper"
         },
         {
          "font": {
           "size": 16
          },
          "showarrow": false,
          "text": "Marital Status Index",
          "x": 0.2375,
          "xanchor": "center",
          "xref": "paper",
          "y": 0.6970000000000001,
          "yanchor": "bottom",
          "yref": "paper"
         },
         {
          "font": {
           "size": 16
          },
          "showarrow": false,
          "text": "Number of Open Complaints",
          "x": 0.7625,
          "xanchor": "center",
          "xref": "paper",
          "y": 0.6970000000000001,
          "yanchor": "bottom",
          "yref": "paper"
         },
         {
          "font": {
           "size": 16
          },
          "showarrow": false,
          "text": "Number of Policies",
          "x": 0.2375,
          "xanchor": "center",
          "xref": "paper",
          "y": 0.596,
          "yanchor": "bottom",
          "yref": "paper"
         },
         {
          "font": {
           "size": 16
          },
          "showarrow": false,
          "text": "Policy Type Index",
          "x": 0.7625,
          "xanchor": "center",
          "xref": "paper",
          "y": 0.596,
          "yanchor": "bottom",
          "yref": "paper"
         },
         {
          "font": {
           "size": 16
          },
          "showarrow": false,
          "text": "Policy Index",
          "x": 0.2375,
          "xanchor": "center",
          "xref": "paper",
          "y": 0.495,
          "yanchor": "bottom",
          "yref": "paper"
         },
         {
          "font": {
           "size": 16
          },
          "showarrow": false,
          "text": "Renew Offer Type",
          "x": 0.7625,
          "xanchor": "center",
          "xref": "paper",
          "y": 0.495,
          "yanchor": "bottom",
          "yref": "paper"
         },
         {
          "font": {
           "size": 16
          },
          "showarrow": false,
          "text": "Sales Channel Index",
          "x": 0.2375,
          "xanchor": "center",
          "xref": "paper",
          "y": 0.394,
          "yanchor": "bottom",
          "yref": "paper"
         },
         {
          "font": {
           "size": 16
          },
          "showarrow": false,
          "text": "Vehicle Size Index",
          "x": 0.7625,
          "xanchor": "center",
          "xref": "paper",
          "y": 0.394,
          "yanchor": "bottom",
          "yref": "paper"
         },
         {
          "font": {
           "size": 16
          },
          "showarrow": false,
          "text": "Effective To Month",
          "x": 0.2375,
          "xanchor": "center",
          "xref": "paper",
          "y": 0.293,
          "yanchor": "bottom",
          "yref": "paper"
         },
         {
          "font": {
           "size": 16
          },
          "showarrow": false,
          "text": "Years Since Last Claim",
          "x": 0.7625,
          "xanchor": "center",
          "xref": "paper",
          "y": 0.293,
          "yanchor": "bottom",
          "yref": "paper"
         },
         {
          "font": {
           "size": 16
          },
          "showarrow": false,
          "text": "Years Since Policy Inception",
          "x": 0.2375,
          "xanchor": "center",
          "xref": "paper",
          "y": 0.192,
          "yanchor": "bottom",
          "yref": "paper"
         },
         {
          "font": {
           "size": 16
          },
          "showarrow": false,
          "text": "Customer Lifetime Value_bin",
          "x": 0.7625,
          "xanchor": "center",
          "xref": "paper",
          "y": 0.192,
          "yanchor": "bottom",
          "yref": "paper"
         },
         {
          "font": {
           "size": 16
          },
          "showarrow": false,
          "text": "Income_bin",
          "x": 0.2375,
          "xanchor": "center",
          "xref": "paper",
          "y": 0.091,
          "yanchor": "bottom",
          "yref": "paper"
         },
         {
          "font": {
           "size": 16
          },
          "showarrow": false,
          "text": "Accident Likelihood_bin",
          "x": 0.7625,
          "xanchor": "center",
          "xref": "paper",
          "y": 0.091,
          "yanchor": "bottom",
          "yref": "paper"
         }
        ],
        "height": 3000,
        "showlegend": false,
        "template": {
         "data": {
          "bar": [
           {
            "error_x": {
             "color": "#2a3f5f"
            },
            "error_y": {
             "color": "#2a3f5f"
            },
            "marker": {
             "line": {
              "color": "#E5ECF6",
              "width": 0.5
             },
             "pattern": {
              "fillmode": "overlay",
              "size": 10,
              "solidity": 0.2
             }
            },
            "type": "bar"
           }
          ],
          "barpolar": [
           {
            "marker": {
             "line": {
              "color": "#E5ECF6",
              "width": 0.5
             },
             "pattern": {
              "fillmode": "overlay",
              "size": 10,
              "solidity": 0.2
             }
            },
            "type": "barpolar"
           }
          ],
          "carpet": [
           {
            "aaxis": {
             "endlinecolor": "#2a3f5f",
             "gridcolor": "white",
             "linecolor": "white",
             "minorgridcolor": "white",
             "startlinecolor": "#2a3f5f"
            },
            "baxis": {
             "endlinecolor": "#2a3f5f",
             "gridcolor": "white",
             "linecolor": "white",
             "minorgridcolor": "white",
             "startlinecolor": "#2a3f5f"
            },
            "type": "carpet"
           }
          ],
          "choropleth": [
           {
            "colorbar": {
             "outlinewidth": 0,
             "ticks": ""
            },
            "type": "choropleth"
           }
          ],
          "contour": [
           {
            "colorbar": {
             "outlinewidth": 0,
             "ticks": ""
            },
            "colorscale": [
             [
              0,
              "#0d0887"
             ],
             [
              0.1111111111111111,
              "#46039f"
             ],
             [
              0.2222222222222222,
              "#7201a8"
             ],
             [
              0.3333333333333333,
              "#9c179e"
             ],
             [
              0.4444444444444444,
              "#bd3786"
             ],
             [
              0.5555555555555556,
              "#d8576b"
             ],
             [
              0.6666666666666666,
              "#ed7953"
             ],
             [
              0.7777777777777778,
              "#fb9f3a"
             ],
             [
              0.8888888888888888,
              "#fdca26"
             ],
             [
              1,
              "#f0f921"
             ]
            ],
            "type": "contour"
           }
          ],
          "contourcarpet": [
           {
            "colorbar": {
             "outlinewidth": 0,
             "ticks": ""
            },
            "type": "contourcarpet"
           }
          ],
          "heatmap": [
           {
            "colorbar": {
             "outlinewidth": 0,
             "ticks": ""
            },
            "colorscale": [
             [
              0,
              "#0d0887"
             ],
             [
              0.1111111111111111,
              "#46039f"
             ],
             [
              0.2222222222222222,
              "#7201a8"
             ],
             [
              0.3333333333333333,
              "#9c179e"
             ],
             [
              0.4444444444444444,
              "#bd3786"
             ],
             [
              0.5555555555555556,
              "#d8576b"
             ],
             [
              0.6666666666666666,
              "#ed7953"
             ],
             [
              0.7777777777777778,
              "#fb9f3a"
             ],
             [
              0.8888888888888888,
              "#fdca26"
             ],
             [
              1,
              "#f0f921"
             ]
            ],
            "type": "heatmap"
           }
          ],
          "heatmapgl": [
           {
            "colorbar": {
             "outlinewidth": 0,
             "ticks": ""
            },
            "colorscale": [
             [
              0,
              "#0d0887"
             ],
             [
              0.1111111111111111,
              "#46039f"
             ],
             [
              0.2222222222222222,
              "#7201a8"
             ],
             [
              0.3333333333333333,
              "#9c179e"
             ],
             [
              0.4444444444444444,
              "#bd3786"
             ],
             [
              0.5555555555555556,
              "#d8576b"
             ],
             [
              0.6666666666666666,
              "#ed7953"
             ],
             [
              0.7777777777777778,
              "#fb9f3a"
             ],
             [
              0.8888888888888888,
              "#fdca26"
             ],
             [
              1,
              "#f0f921"
             ]
            ],
            "type": "heatmapgl"
           }
          ],
          "histogram": [
           {
            "marker": {
             "pattern": {
              "fillmode": "overlay",
              "size": 10,
              "solidity": 0.2
             }
            },
            "type": "histogram"
           }
          ],
          "histogram2d": [
           {
            "colorbar": {
             "outlinewidth": 0,
             "ticks": ""
            },
            "colorscale": [
             [
              0,
              "#0d0887"
             ],
             [
              0.1111111111111111,
              "#46039f"
             ],
             [
              0.2222222222222222,
              "#7201a8"
             ],
             [
              0.3333333333333333,
              "#9c179e"
             ],
             [
              0.4444444444444444,
              "#bd3786"
             ],
             [
              0.5555555555555556,
              "#d8576b"
             ],
             [
              0.6666666666666666,
              "#ed7953"
             ],
             [
              0.7777777777777778,
              "#fb9f3a"
             ],
             [
              0.8888888888888888,
              "#fdca26"
             ],
             [
              1,
              "#f0f921"
             ]
            ],
            "type": "histogram2d"
           }
          ],
          "histogram2dcontour": [
           {
            "colorbar": {
             "outlinewidth": 0,
             "ticks": ""
            },
            "colorscale": [
             [
              0,
              "#0d0887"
             ],
             [
              0.1111111111111111,
              "#46039f"
             ],
             [
              0.2222222222222222,
              "#7201a8"
             ],
             [
              0.3333333333333333,
              "#9c179e"
             ],
             [
              0.4444444444444444,
              "#bd3786"
             ],
             [
              0.5555555555555556,
              "#d8576b"
             ],
             [
              0.6666666666666666,
              "#ed7953"
             ],
             [
              0.7777777777777778,
              "#fb9f3a"
             ],
             [
              0.8888888888888888,
              "#fdca26"
             ],
             [
              1,
              "#f0f921"
             ]
            ],
            "type": "histogram2dcontour"
           }
          ],
          "mesh3d": [
           {
            "colorbar": {
             "outlinewidth": 0,
             "ticks": ""
            },
            "type": "mesh3d"
           }
          ],
          "parcoords": [
           {
            "line": {
             "colorbar": {
              "outlinewidth": 0,
              "ticks": ""
             }
            },
            "type": "parcoords"
           }
          ],
          "pie": [
           {
            "automargin": true,
            "type": "pie"
           }
          ],
          "scatter": [
           {
            "fillpattern": {
             "fillmode": "overlay",
             "size": 10,
             "solidity": 0.2
            },
            "type": "scatter"
           }
          ],
          "scatter3d": [
           {
            "line": {
             "colorbar": {
              "outlinewidth": 0,
              "ticks": ""
             }
            },
            "marker": {
             "colorbar": {
              "outlinewidth": 0,
              "ticks": ""
             }
            },
            "type": "scatter3d"
           }
          ],
          "scattercarpet": [
           {
            "marker": {
             "colorbar": {
              "outlinewidth": 0,
              "ticks": ""
             }
            },
            "type": "scattercarpet"
           }
          ],
          "scattergeo": [
           {
            "marker": {
             "colorbar": {
              "outlinewidth": 0,
              "ticks": ""
             }
            },
            "type": "scattergeo"
           }
          ],
          "scattergl": [
           {
            "marker": {
             "colorbar": {
              "outlinewidth": 0,
              "ticks": ""
             }
            },
            "type": "scattergl"
           }
          ],
          "scattermapbox": [
           {
            "marker": {
             "colorbar": {
              "outlinewidth": 0,
              "ticks": ""
             }
            },
            "type": "scattermapbox"
           }
          ],
          "scatterpolar": [
           {
            "marker": {
             "colorbar": {
              "outlinewidth": 0,
              "ticks": ""
             }
            },
            "type": "scatterpolar"
           }
          ],
          "scatterpolargl": [
           {
            "marker": {
             "colorbar": {
              "outlinewidth": 0,
              "ticks": ""
             }
            },
            "type": "scatterpolargl"
           }
          ],
          "scatterternary": [
           {
            "marker": {
             "colorbar": {
              "outlinewidth": 0,
              "ticks": ""
             }
            },
            "type": "scatterternary"
           }
          ],
          "surface": [
           {
            "colorbar": {
             "outlinewidth": 0,
             "ticks": ""
            },
            "colorscale": [
             [
              0,
              "#0d0887"
             ],
             [
              0.1111111111111111,
              "#46039f"
             ],
             [
              0.2222222222222222,
              "#7201a8"
             ],
             [
              0.3333333333333333,
              "#9c179e"
             ],
             [
              0.4444444444444444,
              "#bd3786"
             ],
             [
              0.5555555555555556,
              "#d8576b"
             ],
             [
              0.6666666666666666,
              "#ed7953"
             ],
             [
              0.7777777777777778,
              "#fb9f3a"
             ],
             [
              0.8888888888888888,
              "#fdca26"
             ],
             [
              1,
              "#f0f921"
             ]
            ],
            "type": "surface"
           }
          ],
          "table": [
           {
            "cells": {
             "fill": {
              "color": "#EBF0F8"
             },
             "line": {
              "color": "white"
             }
            },
            "header": {
             "fill": {
              "color": "#C8D4E3"
             },
             "line": {
              "color": "white"
             }
            },
            "type": "table"
           }
          ]
         },
         "layout": {
          "annotationdefaults": {
           "arrowcolor": "#2a3f5f",
           "arrowhead": 0,
           "arrowwidth": 1
          },
          "autotypenumbers": "strict",
          "coloraxis": {
           "colorbar": {
            "outlinewidth": 0,
            "ticks": ""
           }
          },
          "colorscale": {
           "diverging": [
            [
             0,
             "#8e0152"
            ],
            [
             0.1,
             "#c51b7d"
            ],
            [
             0.2,
             "#de77ae"
            ],
            [
             0.3,
             "#f1b6da"
            ],
            [
             0.4,
             "#fde0ef"
            ],
            [
             0.5,
             "#f7f7f7"
            ],
            [
             0.6,
             "#e6f5d0"
            ],
            [
             0.7,
             "#b8e186"
            ],
            [
             0.8,
             "#7fbc41"
            ],
            [
             0.9,
             "#4d9221"
            ],
            [
             1,
             "#276419"
            ]
           ],
           "sequential": [
            [
             0,
             "#0d0887"
            ],
            [
             0.1111111111111111,
             "#46039f"
            ],
            [
             0.2222222222222222,
             "#7201a8"
            ],
            [
             0.3333333333333333,
             "#9c179e"
            ],
            [
             0.4444444444444444,
             "#bd3786"
            ],
            [
             0.5555555555555556,
             "#d8576b"
            ],
            [
             0.6666666666666666,
             "#ed7953"
            ],
            [
             0.7777777777777778,
             "#fb9f3a"
            ],
            [
             0.8888888888888888,
             "#fdca26"
            ],
            [
             1,
             "#f0f921"
            ]
           ],
           "sequentialminus": [
            [
             0,
             "#0d0887"
            ],
            [
             0.1111111111111111,
             "#46039f"
            ],
            [
             0.2222222222222222,
             "#7201a8"
            ],
            [
             0.3333333333333333,
             "#9c179e"
            ],
            [
             0.4444444444444444,
             "#bd3786"
            ],
            [
             0.5555555555555556,
             "#d8576b"
            ],
            [
             0.6666666666666666,
             "#ed7953"
            ],
            [
             0.7777777777777778,
             "#fb9f3a"
            ],
            [
             0.8888888888888888,
             "#fdca26"
            ],
            [
             1,
             "#f0f921"
            ]
           ]
          },
          "colorway": [
           "#636efa",
           "#EF553B",
           "#00cc96",
           "#ab63fa",
           "#FFA15A",
           "#19d3f3",
           "#FF6692",
           "#B6E880",
           "#FF97FF",
           "#FECB52"
          ],
          "font": {
           "color": "#2a3f5f"
          },
          "geo": {
           "bgcolor": "white",
           "lakecolor": "white",
           "landcolor": "#E5ECF6",
           "showlakes": true,
           "showland": true,
           "subunitcolor": "white"
          },
          "hoverlabel": {
           "align": "left"
          },
          "hovermode": "closest",
          "mapbox": {
           "style": "light"
          },
          "paper_bgcolor": "white",
          "plot_bgcolor": "#E5ECF6",
          "polar": {
           "angularaxis": {
            "gridcolor": "white",
            "linecolor": "white",
            "ticks": ""
           },
           "bgcolor": "#E5ECF6",
           "radialaxis": {
            "gridcolor": "white",
            "linecolor": "white",
            "ticks": ""
           }
          },
          "scene": {
           "xaxis": {
            "backgroundcolor": "#E5ECF6",
            "gridcolor": "white",
            "gridwidth": 2,
            "linecolor": "white",
            "showbackground": true,
            "ticks": "",
            "zerolinecolor": "white"
           },
           "yaxis": {
            "backgroundcolor": "#E5ECF6",
            "gridcolor": "white",
            "gridwidth": 2,
            "linecolor": "white",
            "showbackground": true,
            "ticks": "",
            "zerolinecolor": "white"
           },
           "zaxis": {
            "backgroundcolor": "#E5ECF6",
            "gridcolor": "white",
            "gridwidth": 2,
            "linecolor": "white",
            "showbackground": true,
            "ticks": "",
            "zerolinecolor": "white"
           }
          },
          "shapedefaults": {
           "line": {
            "color": "#2a3f5f"
           }
          },
          "ternary": {
           "aaxis": {
            "gridcolor": "white",
            "linecolor": "white",
            "ticks": ""
           },
           "baxis": {
            "gridcolor": "white",
            "linecolor": "white",
            "ticks": ""
           },
           "bgcolor": "#E5ECF6",
           "caxis": {
            "gridcolor": "white",
            "linecolor": "white",
            "ticks": ""
           }
          },
          "title": {
           "x": 0.05
          },
          "xaxis": {
           "automargin": true,
           "gridcolor": "white",
           "linecolor": "white",
           "ticks": "",
           "title": {
            "standoff": 15
           },
           "zerolinecolor": "white",
           "zerolinewidth": 2
          },
          "yaxis": {
           "automargin": true,
           "gridcolor": "white",
           "linecolor": "white",
           "ticks": "",
           "title": {
            "standoff": 15
           },
           "zerolinecolor": "white",
           "zerolinewidth": 2
          }
         }
        },
        "title": {
         "text": "How Each Column Affects 'Claim over 1k'"
        },
        "xaxis": {
         "anchor": "y",
         "domain": [
          0,
          0.475
         ]
        },
        "xaxis10": {
         "anchor": "y10",
         "domain": [
          0.525,
          1
         ]
        },
        "xaxis11": {
         "anchor": "y11",
         "domain": [
          0,
          0.475
         ]
        },
        "xaxis12": {
         "anchor": "y12",
         "domain": [
          0.525,
          1
         ]
        },
        "xaxis13": {
         "anchor": "y13",
         "domain": [
          0,
          0.475
         ]
        },
        "xaxis14": {
         "anchor": "y14",
         "domain": [
          0.525,
          1
         ]
        },
        "xaxis15": {
         "anchor": "y15",
         "domain": [
          0,
          0.475
         ]
        },
        "xaxis16": {
         "anchor": "y16",
         "domain": [
          0.525,
          1
         ]
        },
        "xaxis17": {
         "anchor": "y17",
         "domain": [
          0,
          0.475
         ]
        },
        "xaxis18": {
         "anchor": "y18",
         "domain": [
          0.525,
          1
         ]
        },
        "xaxis19": {
         "anchor": "y19",
         "domain": [
          0,
          0.475
         ]
        },
        "xaxis2": {
         "anchor": "y2",
         "domain": [
          0.525,
          1
         ]
        },
        "xaxis20": {
         "anchor": "y20",
         "domain": [
          0.525,
          1
         ]
        },
        "xaxis3": {
         "anchor": "y3",
         "domain": [
          0,
          0.475
         ]
        },
        "xaxis4": {
         "anchor": "y4",
         "domain": [
          0.525,
          1
         ]
        },
        "xaxis5": {
         "anchor": "y5",
         "domain": [
          0,
          0.475
         ]
        },
        "xaxis6": {
         "anchor": "y6",
         "domain": [
          0.525,
          1
         ]
        },
        "xaxis7": {
         "anchor": "y7",
         "domain": [
          0,
          0.475
         ]
        },
        "xaxis8": {
         "anchor": "y8",
         "domain": [
          0.525,
          1
         ]
        },
        "xaxis9": {
         "anchor": "y9",
         "domain": [
          0,
          0.475
         ]
        },
        "yaxis": {
         "anchor": "x",
         "domain": [
          0.9089999999999999,
          0.9999999999999999
         ]
        },
        "yaxis10": {
         "anchor": "x10",
         "domain": [
          0.505,
          0.596
         ]
        },
        "yaxis11": {
         "anchor": "x11",
         "domain": [
          0.40399999999999997,
          0.495
         ]
        },
        "yaxis12": {
         "anchor": "x12",
         "domain": [
          0.40399999999999997,
          0.495
         ]
        },
        "yaxis13": {
         "anchor": "x13",
         "domain": [
          0.30300000000000005,
          0.394
         ]
        },
        "yaxis14": {
         "anchor": "x14",
         "domain": [
          0.30300000000000005,
          0.394
         ]
        },
        "yaxis15": {
         "anchor": "x15",
         "domain": [
          0.20199999999999999,
          0.293
         ]
        },
        "yaxis16": {
         "anchor": "x16",
         "domain": [
          0.20199999999999999,
          0.293
         ]
        },
        "yaxis17": {
         "anchor": "x17",
         "domain": [
          0.10099999999999999,
          0.192
         ]
        },
        "yaxis18": {
         "anchor": "x18",
         "domain": [
          0.10099999999999999,
          0.192
         ]
        },
        "yaxis19": {
         "anchor": "x19",
         "domain": [
          0,
          0.091
         ]
        },
        "yaxis2": {
         "anchor": "x2",
         "domain": [
          0.9089999999999999,
          0.9999999999999999
         ]
        },
        "yaxis20": {
         "anchor": "x20",
         "domain": [
          0,
          0.091
         ]
        },
        "yaxis3": {
         "anchor": "x3",
         "domain": [
          0.8079999999999999,
          0.8989999999999999
         ]
        },
        "yaxis4": {
         "anchor": "x4",
         "domain": [
          0.8079999999999999,
          0.8989999999999999
         ]
        },
        "yaxis5": {
         "anchor": "x5",
         "domain": [
          0.7070000000000001,
          0.798
         ]
        },
        "yaxis6": {
         "anchor": "x6",
         "domain": [
          0.7070000000000001,
          0.798
         ]
        },
        "yaxis7": {
         "anchor": "x7",
         "domain": [
          0.6060000000000001,
          0.6970000000000001
         ]
        },
        "yaxis8": {
         "anchor": "x8",
         "domain": [
          0.6060000000000001,
          0.6970000000000001
         ]
        },
        "yaxis9": {
         "anchor": "x9",
         "domain": [
          0.505,
          0.596
         ]
        }
       }
      },
      "text/html": [
       "<div>                            <div id=\"f70b09d8-4d50-4b73-92a3-4b6e824a76a6\" class=\"plotly-graph-div\" style=\"height:3000px; width:100%;\"></div>            <script type=\"text/javascript\">                require([\"plotly\"], function(Plotly) {                    window.PLOTLYENV=window.PLOTLYENV || {};                                    if (document.getElementById(\"f70b09d8-4d50-4b73-92a3-4b6e824a76a6\")) {                    Plotly.newPlot(                        \"f70b09d8-4d50-4b73-92a3-4b6e824a76a6\",                        [{\"name\":\"0\",\"x\":[0,1],\"y\":[2217,906],\"type\":\"bar\",\"xaxis\":\"x\",\"yaxis\":\"y\"},{\"name\":\"1\",\"x\":[0,1],\"y\":[560,293],\"type\":\"bar\",\"xaxis\":\"x\",\"yaxis\":\"y\"},{\"name\":\"2\",\"x\":[0,1],\"y\":[1827,730],\"type\":\"bar\",\"xaxis\":\"x\",\"yaxis\":\"y\"},{\"name\":\"3\",\"x\":[0,1],\"y\":[1217,344],\"type\":\"bar\",\"xaxis\":\"x\",\"yaxis\":\"y\"},{\"name\":\"4\",\"x\":[0,1],\"y\":[637,102],\"type\":\"bar\",\"xaxis\":\"x\",\"yaxis\":\"y\"},{\"name\":\"0\",\"x\":[0,1],\"y\":[5511,2190],\"type\":\"bar\",\"xaxis\":\"x2\",\"yaxis\":\"y2\"},{\"name\":\"1\",\"x\":[0,1],\"y\":[947,185],\"type\":\"bar\",\"xaxis\":\"x2\",\"yaxis\":\"y2\"},{\"name\":\"0\",\"x\":[0,1],\"y\":[4060,1058],\"type\":\"bar\",\"xaxis\":\"x3\",\"yaxis\":\"y3\"},{\"name\":\"1\",\"x\":[0,1],\"y\":[1961,847],\"type\":\"bar\",\"xaxis\":\"x3\",\"yaxis\":\"y3\"},{\"name\":\"2\",\"x\":[0,1],\"y\":[437,470],\"type\":\"bar\",\"xaxis\":\"x3\",\"yaxis\":\"y3\"},{\"name\":\"0\",\"x\":[0,1],\"y\":[1763,1086],\"type\":\"bar\",\"xaxis\":\"x4\",\"yaxis\":\"y4\"},{\"name\":\"1\",\"x\":[0,1],\"y\":[1947,634],\"type\":\"bar\",\"xaxis\":\"x4\",\"yaxis\":\"y4\"},{\"name\":\"2\",\"x\":[0,1],\"y\":[1923,580],\"type\":\"bar\",\"xaxis\":\"x4\",\"yaxis\":\"y4\"},{\"name\":\"3\",\"x\":[0,1],\"y\":[559,67],\"type\":\"bar\",\"xaxis\":\"x4\",\"yaxis\":\"y4\"},{\"name\":\"4\",\"x\":[0,1],\"y\":[266,8],\"type\":\"bar\",\"xaxis\":\"x4\",\"yaxis\":\"y4\"},{\"name\":\"0\",\"x\":[0,1],\"y\":[1410,1460],\"type\":\"bar\",\"xaxis\":\"x5\",\"yaxis\":\"y5\"},{\"name\":\"1\",\"x\":[0,1],\"y\":[4255,726],\"type\":\"bar\",\"xaxis\":\"x5\",\"yaxis\":\"y5\"},{\"name\":\"2\",\"x\":[0,1],\"y\":[297,71],\"type\":\"bar\",\"xaxis\":\"x5\",\"yaxis\":\"y5\"},{\"name\":\"3\",\"x\":[0,1],\"y\":[205,58],\"type\":\"bar\",\"xaxis\":\"x5\",\"yaxis\":\"y5\"},{\"name\":\"4\",\"x\":[0,1],\"y\":[291,60],\"type\":\"bar\",\"xaxis\":\"x5\",\"yaxis\":\"y5\"},{\"name\":\"0\",\"x\":[0,1],\"y\":[3362,1307],\"type\":\"bar\",\"xaxis\":\"x6\",\"yaxis\":\"y6\"},{\"name\":\"1\",\"x\":[0,1],\"y\":[3096,1068],\"type\":\"bar\",\"xaxis\":\"x6\",\"yaxis\":\"y6\"},{\"name\":\"0\",\"x\":[0,1],\"y\":[1530,1473],\"type\":\"bar\",\"xaxis\":\"x7\",\"yaxis\":\"y7\"},{\"name\":\"1\",\"x\":[0,1],\"y\":[3908,771],\"type\":\"bar\",\"xaxis\":\"x7\",\"yaxis\":\"y7\"},{\"name\":\"2\",\"x\":[0,1],\"y\":[1020,131],\"type\":\"bar\",\"xaxis\":\"x7\",\"yaxis\":\"y7\"},{\"name\":\"0\",\"x\":[0,1],\"y\":[5132,2031],\"type\":\"bar\",\"xaxis\":\"x8\",\"yaxis\":\"y8\"},{\"name\":\"1\",\"x\":[0,1],\"y\":[721,196],\"type\":\"bar\",\"xaxis\":\"x8\",\"yaxis\":\"y8\"},{\"name\":\"2\",\"x\":[0,1],\"y\":[266,66],\"type\":\"bar\",\"xaxis\":\"x8\",\"yaxis\":\"y8\"},{\"name\":\"3\",\"x\":[0,1],\"y\":[205,35],\"type\":\"bar\",\"xaxis\":\"x8\",\"yaxis\":\"y8\"},{\"name\":\"4\",\"x\":[0,1],\"y\":[94,40],\"type\":\"bar\",\"xaxis\":\"x8\",\"yaxis\":\"y8\"},{\"name\":\"5\",\"x\":[0,1],\"y\":[40,7],\"type\":\"bar\",\"xaxis\":\"x8\",\"yaxis\":\"y8\"},{\"name\":\"1\",\"x\":[0,1],\"y\":[2281,909],\"type\":\"bar\",\"xaxis\":\"x9\",\"yaxis\":\"y9\"},{\"name\":\"2\",\"x\":[0,1],\"y\":[1632,590],\"type\":\"bar\",\"xaxis\":\"x9\",\"yaxis\":\"y9\"},{\"name\":\"3\",\"x\":[0,1],\"y\":[839,224],\"type\":\"bar\",\"xaxis\":\"x9\",\"yaxis\":\"y9\"},{\"name\":\"4\",\"x\":[0,1],\"y\":[284,108],\"type\":\"bar\",\"xaxis\":\"x9\",\"yaxis\":\"y9\"},{\"name\":\"5\",\"x\":[0,1],\"y\":[285,98],\"type\":\"bar\",\"xaxis\":\"x9\",\"yaxis\":\"y9\"},{\"name\":\"6\",\"x\":[0,1],\"y\":[260,105],\"type\":\"bar\",\"xaxis\":\"x9\",\"yaxis\":\"y9\"},{\"name\":\"7\",\"x\":[0,1],\"y\":[299,163],\"type\":\"bar\",\"xaxis\":\"x9\",\"yaxis\":\"y9\"},{\"name\":\"8\",\"x\":[0,1],\"y\":[269,124],\"type\":\"bar\",\"xaxis\":\"x9\",\"yaxis\":\"y9\"},{\"name\":\"9\",\"x\":[0,1],\"y\":[309,54],\"type\":\"bar\",\"xaxis\":\"x9\",\"yaxis\":\"y9\"},{\"name\":\"0\",\"x\":[0,1],\"y\":[4797,1854],\"type\":\"bar\",\"xaxis\":\"x10\",\"yaxis\":\"y10\"},{\"name\":\"1\",\"x\":[0,1],\"y\":[1386,465],\"type\":\"bar\",\"xaxis\":\"x10\",\"yaxis\":\"y10\"},{\"name\":\"2\",\"x\":[0,1],\"y\":[275,56],\"type\":\"bar\",\"xaxis\":\"x10\",\"yaxis\":\"y10\"},{\"name\":\"0\",\"x\":[0,1],\"y\":[866,361],\"type\":\"bar\",\"xaxis\":\"x11\",\"yaxis\":\"y11\"},{\"name\":\"1\",\"x\":[0,1],\"y\":[1493,746],\"type\":\"bar\",\"xaxis\":\"x11\",\"yaxis\":\"y11\"},{\"name\":\"2\",\"x\":[0,1],\"y\":[2438,719],\"type\":\"bar\",\"xaxis\":\"x11\",\"yaxis\":\"y11\"},{\"name\":\"3\",\"x\":[0,1],\"y\":[265,98],\"type\":\"bar\",\"xaxis\":\"x11\",\"yaxis\":\"y11\"},{\"name\":\"4\",\"x\":[0,1],\"y\":[424,148],\"type\":\"bar\",\"xaxis\":\"x11\",\"yaxis\":\"y11\"},{\"name\":\"5\",\"x\":[0,1],\"y\":[697,227],\"type\":\"bar\",\"xaxis\":\"x11\",\"yaxis\":\"y11\"},{\"name\":\"6\",\"x\":[0,1],\"y\":[47,35],\"type\":\"bar\",\"xaxis\":\"x11\",\"yaxis\":\"y11\"},{\"name\":\"7\",\"x\":[0,1],\"y\":[117,26],\"type\":\"bar\",\"xaxis\":\"x11\",\"yaxis\":\"y11\"},{\"name\":\"8\",\"x\":[0,1],\"y\":[111,15],\"type\":\"bar\",\"xaxis\":\"x11\",\"yaxis\":\"y11\"},{\"name\":\"1\",\"x\":[0,1],\"y\":[2593,1388],\"type\":\"bar\",\"xaxis\":\"x12\",\"yaxis\":\"y12\"},{\"name\":\"2\",\"x\":[0,1],\"y\":[2135,573],\"type\":\"bar\",\"xaxis\":\"x12\",\"yaxis\":\"y12\"},{\"name\":\"3\",\"x\":[0,1],\"y\":[1000,297],\"type\":\"bar\",\"xaxis\":\"x12\",\"yaxis\":\"y12\"},{\"name\":\"4\",\"x\":[0,1],\"y\":[730,117],\"type\":\"bar\",\"xaxis\":\"x12\",\"yaxis\":\"y12\"},{\"name\":\"0\",\"x\":[0,1],\"y\":[956,337],\"type\":\"bar\",\"xaxis\":\"x13\",\"yaxis\":\"y13\"},{\"name\":\"1\",\"x\":[0,1],\"y\":[1779,846],\"type\":\"bar\",\"xaxis\":\"x13\",\"yaxis\":\"y13\"},{\"name\":\"2\",\"x\":[0,1],\"y\":[2463,957],\"type\":\"bar\",\"xaxis\":\"x13\",\"yaxis\":\"y13\"},{\"name\":\"3\",\"x\":[0,1],\"y\":[1260,235],\"type\":\"bar\",\"xaxis\":\"x13\",\"yaxis\":\"y13\"},{\"name\":\"0\",\"x\":[0,1],\"y\":[1188,725],\"type\":\"bar\",\"xaxis\":\"x14\",\"yaxis\":\"y14\"},{\"name\":\"1\",\"x\":[0,1],\"y\":[4600,1532],\"type\":\"bar\",\"xaxis\":\"x14\",\"yaxis\":\"y14\"},{\"name\":\"2\",\"x\":[0,1],\"y\":[670,118],\"type\":\"bar\",\"xaxis\":\"x14\",\"yaxis\":\"y14\"},{\"name\":\"0\",\"x\":[0,1],\"y\":[5159,2107],\"type\":\"bar\",\"xaxis\":\"x15\",\"yaxis\":\"y15\"},{\"name\":\"1\",\"x\":[0,1],\"y\":[1299,268],\"type\":\"bar\",\"xaxis\":\"x15\",\"yaxis\":\"y15\"},{\"name\":\"0\",\"x\":[0,1],\"y\":[2078,948],\"type\":\"bar\",\"xaxis\":\"x16\",\"yaxis\":\"y16\"},{\"name\":\"1\",\"x\":[0,1],\"y\":[1799,595],\"type\":\"bar\",\"xaxis\":\"x16\",\"yaxis\":\"y16\"},{\"name\":\"2\",\"x\":[0,1],\"y\":[1446,568],\"type\":\"bar\",\"xaxis\":\"x16\",\"yaxis\":\"y16\"},{\"name\":\"3\",\"x\":[0,1],\"y\":[1135,264],\"type\":\"bar\",\"xaxis\":\"x16\",\"yaxis\":\"y16\"},{\"name\":\"0\",\"x\":[0,1],\"y\":[1757,705],\"type\":\"bar\",\"xaxis\":\"x17\",\"yaxis\":\"y17\"},{\"name\":\"1\",\"x\":[0,1],\"y\":[1788,746],\"type\":\"bar\",\"xaxis\":\"x17\",\"yaxis\":\"y17\"},{\"name\":\"2\",\"x\":[0,1],\"y\":[1826,670],\"type\":\"bar\",\"xaxis\":\"x17\",\"yaxis\":\"y17\"},{\"name\":\"3\",\"x\":[0,1],\"y\":[1087,254],\"type\":\"bar\",\"xaxis\":\"x17\",\"yaxis\":\"y17\"},{\"name\":\"0\",\"x\":[0,1],\"y\":[238,15],\"type\":\"bar\",\"xaxis\":\"x18\",\"yaxis\":\"y18\"},{\"name\":\"1\",\"x\":[0,1],\"y\":[246,7],\"type\":\"bar\",\"xaxis\":\"x18\",\"yaxis\":\"y18\"},{\"name\":\"2\",\"x\":[0,1],\"y\":[236,7],\"type\":\"bar\",\"xaxis\":\"x18\",\"yaxis\":\"y18\"},{\"name\":\"3\",\"x\":[0,1],\"y\":[242,7],\"type\":\"bar\",\"xaxis\":\"x18\",\"yaxis\":\"y18\"},{\"name\":\"4\",\"x\":[0,1],\"y\":[236,20],\"type\":\"bar\",\"xaxis\":\"x18\",\"yaxis\":\"y18\"},{\"name\":\"5\",\"x\":[0,1],\"y\":[225,61],\"type\":\"bar\",\"xaxis\":\"x18\",\"yaxis\":\"y18\"},{\"name\":\"6\",\"x\":[0,1],\"y\":[208,124],\"type\":\"bar\",\"xaxis\":\"x18\",\"yaxis\":\"y18\"},{\"name\":\"7\",\"x\":[0,1],\"y\":[199,121],\"type\":\"bar\",\"xaxis\":\"x18\",\"yaxis\":\"y18\"},{\"name\":\"8\",\"x\":[0,1],\"y\":[226,37],\"type\":\"bar\",\"xaxis\":\"x18\",\"yaxis\":\"y18\"},{\"name\":\"9\",\"x\":[0,1],\"y\":[212,84],\"type\":\"bar\",\"xaxis\":\"x18\",\"yaxis\":\"y18\"},{\"name\":\"10\",\"x\":[0,1],\"y\":[231,26],\"type\":\"bar\",\"xaxis\":\"x18\",\"yaxis\":\"y18\"},{\"name\":\"11\",\"x\":[0,1],\"y\":[234,23],\"type\":\"bar\",\"xaxis\":\"x18\",\"yaxis\":\"y18\"},{\"name\":\"12\",\"x\":[0,1],\"y\":[231,27],\"type\":\"bar\",\"xaxis\":\"x18\",\"yaxis\":\"y18\"},{\"name\":\"13\",\"x\":[0,1],\"y\":[237,22],\"type\":\"bar\",\"xaxis\":\"x18\",\"yaxis\":\"y18\"},{\"name\":\"14\",\"x\":[0,1],\"y\":[228,37],\"type\":\"bar\",\"xaxis\":\"x18\",\"yaxis\":\"y18\"},{\"name\":\"15\",\"x\":[0,1],\"y\":[224,61],\"type\":\"bar\",\"xaxis\":\"x18\",\"yaxis\":\"y18\"},{\"name\":\"16\",\"x\":[0,1],\"y\":[216,80],\"type\":\"bar\",\"xaxis\":\"x18\",\"yaxis\":\"y18\"},{\"name\":\"17\",\"x\":[0,1],\"y\":[204,129],\"type\":\"bar\",\"xaxis\":\"x18\",\"yaxis\":\"y18\"},{\"name\":\"18\",\"x\":[0,1],\"y\":[203,122],\"type\":\"bar\",\"xaxis\":\"x18\",\"yaxis\":\"y18\"},{\"name\":\"19\",\"x\":[0,1],\"y\":[209,83],\"type\":\"bar\",\"xaxis\":\"x18\",\"yaxis\":\"y18\"},{\"name\":\"20\",\"x\":[0,1],\"y\":[216,66],\"type\":\"bar\",\"xaxis\":\"x18\",\"yaxis\":\"y18\"},{\"name\":\"21\",\"x\":[0,1],\"y\":[219,66],\"type\":\"bar\",\"xaxis\":\"x18\",\"yaxis\":\"y18\"},{\"name\":\"22\",\"x\":[0,1],\"y\":[212,93],\"type\":\"bar\",\"xaxis\":\"x18\",\"yaxis\":\"y18\"},{\"name\":\"23\",\"x\":[0,1],\"y\":[196,159],\"type\":\"bar\",\"xaxis\":\"x18\",\"yaxis\":\"y18\"},{\"name\":\"24\",\"x\":[0,1],\"y\":[208,105],\"type\":\"bar\",\"xaxis\":\"x18\",\"yaxis\":\"y18\"},{\"name\":\"25\",\"x\":[0,1],\"y\":[178,197],\"type\":\"bar\",\"xaxis\":\"x18\",\"yaxis\":\"y18\"},{\"name\":\"26\",\"x\":[0,1],\"y\":[184,178],\"type\":\"bar\",\"xaxis\":\"x18\",\"yaxis\":\"y18\"},{\"name\":\"27\",\"x\":[0,1],\"y\":[180,155],\"type\":\"bar\",\"xaxis\":\"x18\",\"yaxis\":\"y18\"},{\"name\":\"28\",\"x\":[0,1],\"y\":[205,129],\"type\":\"bar\",\"xaxis\":\"x18\",\"yaxis\":\"y18\"},{\"name\":\"29\",\"x\":[0,1],\"y\":[175,134],\"type\":\"bar\",\"xaxis\":\"x18\",\"yaxis\":\"y18\"},{\"name\":\"0\",\"x\":[0,1],\"y\":[2346,1740],\"type\":\"bar\",\"xaxis\":\"x19\",\"yaxis\":\"y19\"},{\"name\":\"1\",\"x\":[0,1],\"y\":[1345,282],\"type\":\"bar\",\"xaxis\":\"x19\",\"yaxis\":\"y19\"},{\"name\":\"2\",\"x\":[0,1],\"y\":[1362,267],\"type\":\"bar\",\"xaxis\":\"x19\",\"yaxis\":\"y19\"},{\"name\":\"3\",\"x\":[0,1],\"y\":[1405,86],\"type\":\"bar\",\"xaxis\":\"x19\",\"yaxis\":\"y19\"},{\"name\":\"0\",\"x\":[0,1],\"y\":[1816,284],\"type\":\"bar\",\"xaxis\":\"x20\",\"yaxis\":\"y20\"},{\"name\":\"1\",\"x\":[0,1],\"y\":[1723,458],\"type\":\"bar\",\"xaxis\":\"x20\",\"yaxis\":\"y20\"},{\"name\":\"2\",\"x\":[0,1],\"y\":[1567,686],\"type\":\"bar\",\"xaxis\":\"x20\",\"yaxis\":\"y20\"},{\"name\":\"3\",\"x\":[0,1],\"y\":[1352,947],\"type\":\"bar\",\"xaxis\":\"x20\",\"yaxis\":\"y20\"}],                        {\"template\":{\"data\":{\"histogram2dcontour\":[{\"type\":\"histogram2dcontour\",\"colorbar\":{\"outlinewidth\":0,\"ticks\":\"\"},\"colorscale\":[[0.0,\"#0d0887\"],[0.1111111111111111,\"#46039f\"],[0.2222222222222222,\"#7201a8\"],[0.3333333333333333,\"#9c179e\"],[0.4444444444444444,\"#bd3786\"],[0.5555555555555556,\"#d8576b\"],[0.6666666666666666,\"#ed7953\"],[0.7777777777777778,\"#fb9f3a\"],[0.8888888888888888,\"#fdca26\"],[1.0,\"#f0f921\"]]}],\"choropleth\":[{\"type\":\"choropleth\",\"colorbar\":{\"outlinewidth\":0,\"ticks\":\"\"}}],\"histogram2d\":[{\"type\":\"histogram2d\",\"colorbar\":{\"outlinewidth\":0,\"ticks\":\"\"},\"colorscale\":[[0.0,\"#0d0887\"],[0.1111111111111111,\"#46039f\"],[0.2222222222222222,\"#7201a8\"],[0.3333333333333333,\"#9c179e\"],[0.4444444444444444,\"#bd3786\"],[0.5555555555555556,\"#d8576b\"],[0.6666666666666666,\"#ed7953\"],[0.7777777777777778,\"#fb9f3a\"],[0.8888888888888888,\"#fdca26\"],[1.0,\"#f0f921\"]]}],\"heatmap\":[{\"type\":\"heatmap\",\"colorbar\":{\"outlinewidth\":0,\"ticks\":\"\"},\"colorscale\":[[0.0,\"#0d0887\"],[0.1111111111111111,\"#46039f\"],[0.2222222222222222,\"#7201a8\"],[0.3333333333333333,\"#9c179e\"],[0.4444444444444444,\"#bd3786\"],[0.5555555555555556,\"#d8576b\"],[0.6666666666666666,\"#ed7953\"],[0.7777777777777778,\"#fb9f3a\"],[0.8888888888888888,\"#fdca26\"],[1.0,\"#f0f921\"]]}],\"heatmapgl\":[{\"type\":\"heatmapgl\",\"colorbar\":{\"outlinewidth\":0,\"ticks\":\"\"},\"colorscale\":[[0.0,\"#0d0887\"],[0.1111111111111111,\"#46039f\"],[0.2222222222222222,\"#7201a8\"],[0.3333333333333333,\"#9c179e\"],[0.4444444444444444,\"#bd3786\"],[0.5555555555555556,\"#d8576b\"],[0.6666666666666666,\"#ed7953\"],[0.7777777777777778,\"#fb9f3a\"],[0.8888888888888888,\"#fdca26\"],[1.0,\"#f0f921\"]]}],\"contourcarpet\":[{\"type\":\"contourcarpet\",\"colorbar\":{\"outlinewidth\":0,\"ticks\":\"\"}}],\"contour\":[{\"type\":\"contour\",\"colorbar\":{\"outlinewidth\":0,\"ticks\":\"\"},\"colorscale\":[[0.0,\"#0d0887\"],[0.1111111111111111,\"#46039f\"],[0.2222222222222222,\"#7201a8\"],[0.3333333333333333,\"#9c179e\"],[0.4444444444444444,\"#bd3786\"],[0.5555555555555556,\"#d8576b\"],[0.6666666666666666,\"#ed7953\"],[0.7777777777777778,\"#fb9f3a\"],[0.8888888888888888,\"#fdca26\"],[1.0,\"#f0f921\"]]}],\"surface\":[{\"type\":\"surface\",\"colorbar\":{\"outlinewidth\":0,\"ticks\":\"\"},\"colorscale\":[[0.0,\"#0d0887\"],[0.1111111111111111,\"#46039f\"],[0.2222222222222222,\"#7201a8\"],[0.3333333333333333,\"#9c179e\"],[0.4444444444444444,\"#bd3786\"],[0.5555555555555556,\"#d8576b\"],[0.6666666666666666,\"#ed7953\"],[0.7777777777777778,\"#fb9f3a\"],[0.8888888888888888,\"#fdca26\"],[1.0,\"#f0f921\"]]}],\"mesh3d\":[{\"type\":\"mesh3d\",\"colorbar\":{\"outlinewidth\":0,\"ticks\":\"\"}}],\"scatter\":[{\"fillpattern\":{\"fillmode\":\"overlay\",\"size\":10,\"solidity\":0.2},\"type\":\"scatter\"}],\"parcoords\":[{\"type\":\"parcoords\",\"line\":{\"colorbar\":{\"outlinewidth\":0,\"ticks\":\"\"}}}],\"scatterpolargl\":[{\"type\":\"scatterpolargl\",\"marker\":{\"colorbar\":{\"outlinewidth\":0,\"ticks\":\"\"}}}],\"bar\":[{\"error_x\":{\"color\":\"#2a3f5f\"},\"error_y\":{\"color\":\"#2a3f5f\"},\"marker\":{\"line\":{\"color\":\"#E5ECF6\",\"width\":0.5},\"pattern\":{\"fillmode\":\"overlay\",\"size\":10,\"solidity\":0.2}},\"type\":\"bar\"}],\"scattergeo\":[{\"type\":\"scattergeo\",\"marker\":{\"colorbar\":{\"outlinewidth\":0,\"ticks\":\"\"}}}],\"scatterpolar\":[{\"type\":\"scatterpolar\",\"marker\":{\"colorbar\":{\"outlinewidth\":0,\"ticks\":\"\"}}}],\"histogram\":[{\"marker\":{\"pattern\":{\"fillmode\":\"overlay\",\"size\":10,\"solidity\":0.2}},\"type\":\"histogram\"}],\"scattergl\":[{\"type\":\"scattergl\",\"marker\":{\"colorbar\":{\"outlinewidth\":0,\"ticks\":\"\"}}}],\"scatter3d\":[{\"type\":\"scatter3d\",\"line\":{\"colorbar\":{\"outlinewidth\":0,\"ticks\":\"\"}},\"marker\":{\"colorbar\":{\"outlinewidth\":0,\"ticks\":\"\"}}}],\"scattermapbox\":[{\"type\":\"scattermapbox\",\"marker\":{\"colorbar\":{\"outlinewidth\":0,\"ticks\":\"\"}}}],\"scatterternary\":[{\"type\":\"scatterternary\",\"marker\":{\"colorbar\":{\"outlinewidth\":0,\"ticks\":\"\"}}}],\"scattercarpet\":[{\"type\":\"scattercarpet\",\"marker\":{\"colorbar\":{\"outlinewidth\":0,\"ticks\":\"\"}}}],\"carpet\":[{\"aaxis\":{\"endlinecolor\":\"#2a3f5f\",\"gridcolor\":\"white\",\"linecolor\":\"white\",\"minorgridcolor\":\"white\",\"startlinecolor\":\"#2a3f5f\"},\"baxis\":{\"endlinecolor\":\"#2a3f5f\",\"gridcolor\":\"white\",\"linecolor\":\"white\",\"minorgridcolor\":\"white\",\"startlinecolor\":\"#2a3f5f\"},\"type\":\"carpet\"}],\"table\":[{\"cells\":{\"fill\":{\"color\":\"#EBF0F8\"},\"line\":{\"color\":\"white\"}},\"header\":{\"fill\":{\"color\":\"#C8D4E3\"},\"line\":{\"color\":\"white\"}},\"type\":\"table\"}],\"barpolar\":[{\"marker\":{\"line\":{\"color\":\"#E5ECF6\",\"width\":0.5},\"pattern\":{\"fillmode\":\"overlay\",\"size\":10,\"solidity\":0.2}},\"type\":\"barpolar\"}],\"pie\":[{\"automargin\":true,\"type\":\"pie\"}]},\"layout\":{\"autotypenumbers\":\"strict\",\"colorway\":[\"#636efa\",\"#EF553B\",\"#00cc96\",\"#ab63fa\",\"#FFA15A\",\"#19d3f3\",\"#FF6692\",\"#B6E880\",\"#FF97FF\",\"#FECB52\"],\"font\":{\"color\":\"#2a3f5f\"},\"hovermode\":\"closest\",\"hoverlabel\":{\"align\":\"left\"},\"paper_bgcolor\":\"white\",\"plot_bgcolor\":\"#E5ECF6\",\"polar\":{\"bgcolor\":\"#E5ECF6\",\"angularaxis\":{\"gridcolor\":\"white\",\"linecolor\":\"white\",\"ticks\":\"\"},\"radialaxis\":{\"gridcolor\":\"white\",\"linecolor\":\"white\",\"ticks\":\"\"}},\"ternary\":{\"bgcolor\":\"#E5ECF6\",\"aaxis\":{\"gridcolor\":\"white\",\"linecolor\":\"white\",\"ticks\":\"\"},\"baxis\":{\"gridcolor\":\"white\",\"linecolor\":\"white\",\"ticks\":\"\"},\"caxis\":{\"gridcolor\":\"white\",\"linecolor\":\"white\",\"ticks\":\"\"}},\"coloraxis\":{\"colorbar\":{\"outlinewidth\":0,\"ticks\":\"\"}},\"colorscale\":{\"sequential\":[[0.0,\"#0d0887\"],[0.1111111111111111,\"#46039f\"],[0.2222222222222222,\"#7201a8\"],[0.3333333333333333,\"#9c179e\"],[0.4444444444444444,\"#bd3786\"],[0.5555555555555556,\"#d8576b\"],[0.6666666666666666,\"#ed7953\"],[0.7777777777777778,\"#fb9f3a\"],[0.8888888888888888,\"#fdca26\"],[1.0,\"#f0f921\"]],\"sequentialminus\":[[0.0,\"#0d0887\"],[0.1111111111111111,\"#46039f\"],[0.2222222222222222,\"#7201a8\"],[0.3333333333333333,\"#9c179e\"],[0.4444444444444444,\"#bd3786\"],[0.5555555555555556,\"#d8576b\"],[0.6666666666666666,\"#ed7953\"],[0.7777777777777778,\"#fb9f3a\"],[0.8888888888888888,\"#fdca26\"],[1.0,\"#f0f921\"]],\"diverging\":[[0,\"#8e0152\"],[0.1,\"#c51b7d\"],[0.2,\"#de77ae\"],[0.3,\"#f1b6da\"],[0.4,\"#fde0ef\"],[0.5,\"#f7f7f7\"],[0.6,\"#e6f5d0\"],[0.7,\"#b8e186\"],[0.8,\"#7fbc41\"],[0.9,\"#4d9221\"],[1,\"#276419\"]]},\"xaxis\":{\"gridcolor\":\"white\",\"linecolor\":\"white\",\"ticks\":\"\",\"title\":{\"standoff\":15},\"zerolinecolor\":\"white\",\"automargin\":true,\"zerolinewidth\":2},\"yaxis\":{\"gridcolor\":\"white\",\"linecolor\":\"white\",\"ticks\":\"\",\"title\":{\"standoff\":15},\"zerolinecolor\":\"white\",\"automargin\":true,\"zerolinewidth\":2},\"scene\":{\"xaxis\":{\"backgroundcolor\":\"#E5ECF6\",\"gridcolor\":\"white\",\"linecolor\":\"white\",\"showbackground\":true,\"ticks\":\"\",\"zerolinecolor\":\"white\",\"gridwidth\":2},\"yaxis\":{\"backgroundcolor\":\"#E5ECF6\",\"gridcolor\":\"white\",\"linecolor\":\"white\",\"showbackground\":true,\"ticks\":\"\",\"zerolinecolor\":\"white\",\"gridwidth\":2},\"zaxis\":{\"backgroundcolor\":\"#E5ECF6\",\"gridcolor\":\"white\",\"linecolor\":\"white\",\"showbackground\":true,\"ticks\":\"\",\"zerolinecolor\":\"white\",\"gridwidth\":2}},\"shapedefaults\":{\"line\":{\"color\":\"#2a3f5f\"}},\"annotationdefaults\":{\"arrowcolor\":\"#2a3f5f\",\"arrowhead\":0,\"arrowwidth\":1},\"geo\":{\"bgcolor\":\"white\",\"landcolor\":\"#E5ECF6\",\"subunitcolor\":\"white\",\"showland\":true,\"showlakes\":true,\"lakecolor\":\"white\"},\"title\":{\"x\":0.05},\"mapbox\":{\"style\":\"light\"}}},\"xaxis\":{\"anchor\":\"y\",\"domain\":[0.0,0.475]},\"yaxis\":{\"anchor\":\"x\",\"domain\":[0.9089999999999999,0.9999999999999999]},\"xaxis2\":{\"anchor\":\"y2\",\"domain\":[0.525,1.0]},\"yaxis2\":{\"anchor\":\"x2\",\"domain\":[0.9089999999999999,0.9999999999999999]},\"xaxis3\":{\"anchor\":\"y3\",\"domain\":[0.0,0.475]},\"yaxis3\":{\"anchor\":\"x3\",\"domain\":[0.8079999999999999,0.8989999999999999]},\"xaxis4\":{\"anchor\":\"y4\",\"domain\":[0.525,1.0]},\"yaxis4\":{\"anchor\":\"x4\",\"domain\":[0.8079999999999999,0.8989999999999999]},\"xaxis5\":{\"anchor\":\"y5\",\"domain\":[0.0,0.475]},\"yaxis5\":{\"anchor\":\"x5\",\"domain\":[0.7070000000000001,0.798]},\"xaxis6\":{\"anchor\":\"y6\",\"domain\":[0.525,1.0]},\"yaxis6\":{\"anchor\":\"x6\",\"domain\":[0.7070000000000001,0.798]},\"xaxis7\":{\"anchor\":\"y7\",\"domain\":[0.0,0.475]},\"yaxis7\":{\"anchor\":\"x7\",\"domain\":[0.6060000000000001,0.6970000000000001]},\"xaxis8\":{\"anchor\":\"y8\",\"domain\":[0.525,1.0]},\"yaxis8\":{\"anchor\":\"x8\",\"domain\":[0.6060000000000001,0.6970000000000001]},\"xaxis9\":{\"anchor\":\"y9\",\"domain\":[0.0,0.475]},\"yaxis9\":{\"anchor\":\"x9\",\"domain\":[0.505,0.596]},\"xaxis10\":{\"anchor\":\"y10\",\"domain\":[0.525,1.0]},\"yaxis10\":{\"anchor\":\"x10\",\"domain\":[0.505,0.596]},\"xaxis11\":{\"anchor\":\"y11\",\"domain\":[0.0,0.475]},\"yaxis11\":{\"anchor\":\"x11\",\"domain\":[0.40399999999999997,0.495]},\"xaxis12\":{\"anchor\":\"y12\",\"domain\":[0.525,1.0]},\"yaxis12\":{\"anchor\":\"x12\",\"domain\":[0.40399999999999997,0.495]},\"xaxis13\":{\"anchor\":\"y13\",\"domain\":[0.0,0.475]},\"yaxis13\":{\"anchor\":\"x13\",\"domain\":[0.30300000000000005,0.394]},\"xaxis14\":{\"anchor\":\"y14\",\"domain\":[0.525,1.0]},\"yaxis14\":{\"anchor\":\"x14\",\"domain\":[0.30300000000000005,0.394]},\"xaxis15\":{\"anchor\":\"y15\",\"domain\":[0.0,0.475]},\"yaxis15\":{\"anchor\":\"x15\",\"domain\":[0.20199999999999999,0.293]},\"xaxis16\":{\"anchor\":\"y16\",\"domain\":[0.525,1.0]},\"yaxis16\":{\"anchor\":\"x16\",\"domain\":[0.20199999999999999,0.293]},\"xaxis17\":{\"anchor\":\"y17\",\"domain\":[0.0,0.475]},\"yaxis17\":{\"anchor\":\"x17\",\"domain\":[0.10099999999999999,0.192]},\"xaxis18\":{\"anchor\":\"y18\",\"domain\":[0.525,1.0]},\"yaxis18\":{\"anchor\":\"x18\",\"domain\":[0.10099999999999999,0.192]},\"xaxis19\":{\"anchor\":\"y19\",\"domain\":[0.0,0.475]},\"yaxis19\":{\"anchor\":\"x19\",\"domain\":[0.0,0.091]},\"xaxis20\":{\"anchor\":\"y20\",\"domain\":[0.525,1.0]},\"yaxis20\":{\"anchor\":\"x20\",\"domain\":[0.0,0.091]},\"annotations\":[{\"font\":{\"size\":16},\"showarrow\":false,\"text\":\"State\",\"x\":0.2375,\"xanchor\":\"center\",\"xref\":\"paper\",\"y\":0.9999999999999999,\"yanchor\":\"bottom\",\"yref\":\"paper\"},{\"font\":{\"size\":16},\"showarrow\":false,\"text\":\"Response\",\"x\":0.7625,\"xanchor\":\"center\",\"xref\":\"paper\",\"y\":0.9999999999999999,\"yanchor\":\"bottom\",\"yref\":\"paper\"},{\"font\":{\"size\":16},\"showarrow\":false,\"text\":\"Coverage Index\",\"x\":0.2375,\"xanchor\":\"center\",\"xref\":\"paper\",\"y\":0.8989999999999999,\"yanchor\":\"bottom\",\"yref\":\"paper\"},{\"font\":{\"size\":16},\"showarrow\":false,\"text\":\"Education Index\",\"x\":0.7625,\"xanchor\":\"center\",\"xref\":\"paper\",\"y\":0.8989999999999999,\"yanchor\":\"bottom\",\"yref\":\"paper\"},{\"font\":{\"size\":16},\"showarrow\":false,\"text\":\"Employment Status Index\",\"x\":0.2375,\"xanchor\":\"center\",\"xref\":\"paper\",\"y\":0.798,\"yanchor\":\"bottom\",\"yref\":\"paper\"},{\"font\":{\"size\":16},\"showarrow\":false,\"text\":\"Gender\",\"x\":0.7625,\"xanchor\":\"center\",\"xref\":\"paper\",\"y\":0.798,\"yanchor\":\"bottom\",\"yref\":\"paper\"},{\"font\":{\"size\":16},\"showarrow\":false,\"text\":\"Marital Status Index\",\"x\":0.2375,\"xanchor\":\"center\",\"xref\":\"paper\",\"y\":0.6970000000000001,\"yanchor\":\"bottom\",\"yref\":\"paper\"},{\"font\":{\"size\":16},\"showarrow\":false,\"text\":\"Number of Open Complaints\",\"x\":0.7625,\"xanchor\":\"center\",\"xref\":\"paper\",\"y\":0.6970000000000001,\"yanchor\":\"bottom\",\"yref\":\"paper\"},{\"font\":{\"size\":16},\"showarrow\":false,\"text\":\"Number of Policies\",\"x\":0.2375,\"xanchor\":\"center\",\"xref\":\"paper\",\"y\":0.596,\"yanchor\":\"bottom\",\"yref\":\"paper\"},{\"font\":{\"size\":16},\"showarrow\":false,\"text\":\"Policy Type Index\",\"x\":0.7625,\"xanchor\":\"center\",\"xref\":\"paper\",\"y\":0.596,\"yanchor\":\"bottom\",\"yref\":\"paper\"},{\"font\":{\"size\":16},\"showarrow\":false,\"text\":\"Policy Index\",\"x\":0.2375,\"xanchor\":\"center\",\"xref\":\"paper\",\"y\":0.495,\"yanchor\":\"bottom\",\"yref\":\"paper\"},{\"font\":{\"size\":16},\"showarrow\":false,\"text\":\"Renew Offer Type\",\"x\":0.7625,\"xanchor\":\"center\",\"xref\":\"paper\",\"y\":0.495,\"yanchor\":\"bottom\",\"yref\":\"paper\"},{\"font\":{\"size\":16},\"showarrow\":false,\"text\":\"Sales Channel Index\",\"x\":0.2375,\"xanchor\":\"center\",\"xref\":\"paper\",\"y\":0.394,\"yanchor\":\"bottom\",\"yref\":\"paper\"},{\"font\":{\"size\":16},\"showarrow\":false,\"text\":\"Vehicle Size Index\",\"x\":0.7625,\"xanchor\":\"center\",\"xref\":\"paper\",\"y\":0.394,\"yanchor\":\"bottom\",\"yref\":\"paper\"},{\"font\":{\"size\":16},\"showarrow\":false,\"text\":\"Effective To Month\",\"x\":0.2375,\"xanchor\":\"center\",\"xref\":\"paper\",\"y\":0.293,\"yanchor\":\"bottom\",\"yref\":\"paper\"},{\"font\":{\"size\":16},\"showarrow\":false,\"text\":\"Years Since Last Claim\",\"x\":0.7625,\"xanchor\":\"center\",\"xref\":\"paper\",\"y\":0.293,\"yanchor\":\"bottom\",\"yref\":\"paper\"},{\"font\":{\"size\":16},\"showarrow\":false,\"text\":\"Years Since Policy Inception\",\"x\":0.2375,\"xanchor\":\"center\",\"xref\":\"paper\",\"y\":0.192,\"yanchor\":\"bottom\",\"yref\":\"paper\"},{\"font\":{\"size\":16},\"showarrow\":false,\"text\":\"Customer Lifetime Value_bin\",\"x\":0.7625,\"xanchor\":\"center\",\"xref\":\"paper\",\"y\":0.192,\"yanchor\":\"bottom\",\"yref\":\"paper\"},{\"font\":{\"size\":16},\"showarrow\":false,\"text\":\"Income_bin\",\"x\":0.2375,\"xanchor\":\"center\",\"xref\":\"paper\",\"y\":0.091,\"yanchor\":\"bottom\",\"yref\":\"paper\"},{\"font\":{\"size\":16},\"showarrow\":false,\"text\":\"Accident Likelihood_bin\",\"x\":0.7625,\"xanchor\":\"center\",\"xref\":\"paper\",\"y\":0.091,\"yanchor\":\"bottom\",\"yref\":\"paper\"}],\"title\":{\"text\":\"How Each Column Affects 'Claim over 1k'\"},\"height\":3000,\"showlegend\":false},                        {\"responsive\": true}                    ).then(function(){\n",
       "                            \n",
       "var gd = document.getElementById('f70b09d8-4d50-4b73-92a3-4b6e824a76a6');\n",
       "var x = new MutationObserver(function (mutations, observer) {{\n",
       "        var display = window.getComputedStyle(gd).display;\n",
       "        if (!display || display === 'none') {{\n",
       "            console.log([gd, 'removed!']);\n",
       "            Plotly.purge(gd);\n",
       "            observer.disconnect();\n",
       "        }}\n",
       "}});\n",
       "\n",
       "// Listen for the removal of the full notebook cells\n",
       "var notebookContainer = gd.closest('#notebook-container');\n",
       "if (notebookContainer) {{\n",
       "    x.observe(notebookContainer, {childList: true});\n",
       "}}\n",
       "\n",
       "// Listen for the clearing of the current output cell\n",
       "var outputEl = gd.closest('.output');\n",
       "if (outputEl) {{\n",
       "    x.observe(outputEl, {childList: true});\n",
       "}}\n",
       "\n",
       "                        })                };                });            </script>        </div>"
      ]
     },
     "metadata": {},
     "output_type": "display_data"
    },
    {
     "data": {
      "text/plain": [
       "<Figure size 3000x8000 with 0 Axes>"
      ]
     },
     "metadata": {},
     "output_type": "display_data"
    }
   ],
   "source": [
    "df_balance_process = balance_with_ratio(df_process, ratio) # note that this data has not been splitted like above to create df_train_from_train_dataset, df_test_from_train_dataset\n",
    "relation_to_claim_over_1k(df_balance_process)"
   ]
  },
  {
   "cell_type": "code",
   "execution_count": 4390,
   "metadata": {},
   "outputs": [
    {
     "name": "stdout",
     "output_type": "stream",
     "text": [
      "Accuracy: 0.9320882852292021\n",
      "Confusion Matrix:\n",
      "[[1264   87]\n",
      " [  33  383]]\n",
      "Classification Report:\n",
      "              precision    recall  f1-score   support\n",
      "\n",
      "           0       0.94      0.97      0.95      1297\n",
      "           1       0.92      0.81      0.86       470\n",
      "\n",
      "    accuracy                           0.93      1767\n",
      "   macro avg       0.93      0.89      0.91      1767\n",
      "weighted avg       0.93      0.93      0.93      1767\n",
      "\n",
      "f1 score: $0.8645598194130926\n",
      "Sensitivity (Recall): 0.9745566692367\n",
      "Specificity: 0.8148936170212766\n"
     ]
    },
    {
     "data": {
      "text/plain": [
       "(0.9320882852292021, 0.9745566692367, 0.8148936170212766)"
      ]
     },
     "execution_count": 4390,
     "metadata": {},
     "output_type": "execute_result"
    }
   ],
   "source": [
    "random_forest(df_balance_process)"
   ]
  },
  {
   "cell_type": "code",
   "execution_count": 4391,
   "metadata": {},
   "outputs": [],
   "source": [
    "def run(df_train):\n",
    "  df_train.value_counts()\n",
    "  # Get the params\n",
    "  X = df_train.drop(\"Claim over 1k\", axis=1)\n",
    "  y = df_train[\"Claim over 1k\"]\n",
    "  X_train_scaled, X_test_scaled, y_train, y_test = get_train_params(X, y, standard_scaler, 0.2) # minimize test dataset to get the most out\n",
    "\n",
    "  rf_classifier = run_random_forest(X_train_scaled, y_train)\n",
    "  test_monitor(rf_classifier, X_test_scaled, y_test)\n",
    "  return rf_classifier"
   ]
  },
  {
   "cell_type": "code",
   "execution_count": 4392,
   "metadata": {},
   "outputs": [
    {
     "name": "stdout",
     "output_type": "stream",
     "text": [
      "Accuracy: 0.9320882852292021\n",
      "Confusion Matrix:\n",
      "[[1264   87]\n",
      " [  33  383]]\n",
      "Classification Report:\n",
      "              precision    recall  f1-score   support\n",
      "\n",
      "           0       0.94      0.97      0.95      1297\n",
      "           1       0.92      0.81      0.86       470\n",
      "\n",
      "    accuracy                           0.93      1767\n",
      "   macro avg       0.93      0.89      0.91      1767\n",
      "weighted avg       0.93      0.93      0.93      1767\n",
      "\n",
      "f1 score: $0.8645598194130926\n",
      "Sensitivity (Recall): 0.9745566692367\n",
      "Specificity: 0.8148936170212766\n"
     ]
    }
   ],
   "source": [
    "my_model = run(df_balance_process)"
   ]
  },
  {
   "cell_type": "code",
   "execution_count": 4393,
   "metadata": {},
   "outputs": [
    {
     "data": {
      "text/plain": [
       "Claim over 1k\n",
       "0    1672\n",
       "1     172\n",
       "Name: count, dtype: int64"
      ]
     },
     "execution_count": 4393,
     "metadata": {},
     "output_type": "execute_result"
    }
   ],
   "source": [
    "df_new_run_test_output = predict(my_model, X_test_scaled)\n",
    "df_new_run_test_output[\"Claim over 1k\"].value_counts()"
   ]
  },
  {
   "cell_type": "code",
   "execution_count": 4394,
   "metadata": {},
   "outputs": [
    {
     "name": "stdout",
     "output_type": "stream",
     "text": [
      "119\n"
     ]
    }
   ],
   "source": [
    "compare(df_submission, df_new_run_test_output)"
   ]
  },
  {
   "cell_type": "code",
   "execution_count": 4395,
   "metadata": {},
   "outputs": [
    {
     "name": "stdout",
     "output_type": "stream",
     "text": [
      "113\n"
     ]
    }
   ],
   "source": [
    "compare(df_best_submission, df_new_run_test_output)"
   ]
  },
  {
   "cell_type": "code",
   "execution_count": 4396,
   "metadata": {},
   "outputs": [
    {
     "name": "stdout",
     "output_type": "stream",
     "text": [
      "108\n"
     ]
    }
   ],
   "source": [
    "compare(df_run_test_ouput, df_new_run_test_output)"
   ]
  },
  {
   "cell_type": "code",
   "execution_count": 4397,
   "metadata": {},
   "outputs": [],
   "source": [
    "df_new_run_test_output.to_csv(\"submission.csv\", index=False)"
   ]
  },
  {
   "cell_type": "code",
   "execution_count": null,
   "metadata": {},
   "outputs": [],
   "source": []
  }
 ],
 "metadata": {
  "kernelspec": {
   "display_name": "base",
   "language": "python",
   "name": "python3"
  },
  "language_info": {
   "codemirror_mode": {
    "name": "ipython",
    "version": 3
   },
   "file_extension": ".py",
   "mimetype": "text/x-python",
   "name": "python",
   "nbconvert_exporter": "python",
   "pygments_lexer": "ipython3",
   "version": "3.12.4"
  }
 },
 "nbformat": 4,
 "nbformat_minor": 2
}
